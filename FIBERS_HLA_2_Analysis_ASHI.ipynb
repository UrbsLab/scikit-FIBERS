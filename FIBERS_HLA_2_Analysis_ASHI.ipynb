{
 "cells": [
  {
   "cell_type": "markdown",
   "id": "4250a8c3",
   "metadata": {},
   "source": [
    "# scikit-FIBERS: HLA Notebook (First FIBERS Paper Data)\n"
   ]
  },
  {
   "cell_type": "markdown",
   "id": "8edd8d78",
   "metadata": {},
   "source": [
    "***\n",
    "## Imports:"
   ]
  },
  {
   "cell_type": "code",
   "execution_count": 1,
   "id": "e116475e",
   "metadata": {},
   "outputs": [
    {
     "name": "stdout",
     "output_type": "stream",
     "text": [
      "c:\\Users\\ryanu\\OneDrive\\Documents\\GitHub\\scikit-FIBERS\n"
     ]
    }
   ],
   "source": [
    "import os\n",
    "import pickle\n",
    "import pandas as pd\n",
    "from sklearn.metrics import classification_report\n",
    "from src.skfibers.fibers import FIBERS\n",
    "\n",
    "current_working_directory = os.getcwd()\n",
    "print(current_working_directory)\n",
    "\n",
    "#Local Run Parameters\n",
    "local_save = False\n",
    "folder_path = 'C:/Users/ryanu/Desktop/ASHI_Output'\n",
    "if not os.path.exists(folder_path):\n",
    "        os.makedirs(folder_path)\n",
    "if local_save:\n",
    "    output_folder = 'local_output'\n",
    "else:\n",
    "    output_folder = folder_path"
   ]
  },
  {
   "cell_type": "markdown",
   "id": "f55328e4",
   "metadata": {},
   "source": [
    "***\n",
    "## Load and Prepare HLA Data"
   ]
  },
  {
   "cell_type": "code",
   "execution_count": 2,
   "id": "c15954d3",
   "metadata": {},
   "outputs": [
    {
     "data": {
      "text/plain": [
       "(251776, 2101)"
      ]
     },
     "execution_count": 2,
     "metadata": {},
     "output_type": "execute_result"
    }
   ],
   "source": [
    "data_path = 'C:/Users/ryanu/Desktop/ASHI_Abstract_Analysis/NewImp1_v2.csv'\n",
    "data_name = 'NewImp1_v2'\n",
    "all_data = pd.read_csv(data_path,low_memory=False)\n",
    "all_data.shape"
   ]
  },
  {
   "cell_type": "code",
   "execution_count": 3,
   "id": "52824399",
   "metadata": {},
   "outputs": [
    {
     "data": {
      "text/html": [
       "<div>\n",
       "<style scoped>\n",
       "    .dataframe tbody tr th:only-of-type {\n",
       "        vertical-align: middle;\n",
       "    }\n",
       "\n",
       "    .dataframe tbody tr th {\n",
       "        vertical-align: top;\n",
       "    }\n",
       "\n",
       "    .dataframe thead th {\n",
       "        text-align: right;\n",
       "    }\n",
       "</style>\n",
       "<table border=\"1\" class=\"dataframe\">\n",
       "  <thead>\n",
       "    <tr style=\"text-align: right;\">\n",
       "      <th></th>\n",
       "      <th>Unnamed: 0</th>\n",
       "      <th>TX_ID</th>\n",
       "      <th>graftyrs</th>\n",
       "      <th>grf_fail</th>\n",
       "      <th>MM_A_1</th>\n",
       "      <th>MM_A_2</th>\n",
       "      <th>MM_A_3</th>\n",
       "      <th>MM_A_4</th>\n",
       "      <th>MM_A_5</th>\n",
       "      <th>MM_A_6</th>\n",
       "      <th>...</th>\n",
       "      <th>MM_DPB1_177</th>\n",
       "      <th>MM_DPB1_178</th>\n",
       "      <th>MM_DPB1_179</th>\n",
       "      <th>MM_DPB1_180</th>\n",
       "      <th>MM_DPB1_181</th>\n",
       "      <th>MM_DPB1_182</th>\n",
       "      <th>MM_DPB1_183</th>\n",
       "      <th>MM_DPB1_184</th>\n",
       "      <th>MM_DPB1_185</th>\n",
       "      <th>MM_DPB1_186</th>\n",
       "    </tr>\n",
       "  </thead>\n",
       "  <tbody>\n",
       "    <tr>\n",
       "      <th>0</th>\n",
       "      <td>0</td>\n",
       "      <td>1550580</td>\n",
       "      <td>2.992553</td>\n",
       "      <td>1</td>\n",
       "      <td>0.0</td>\n",
       "      <td>0.0</td>\n",
       "      <td>0.0</td>\n",
       "      <td>0.0</td>\n",
       "      <td>0.0</td>\n",
       "      <td>0.0</td>\n",
       "      <td>...</td>\n",
       "      <td>0.0</td>\n",
       "      <td>0.0</td>\n",
       "      <td>0.0</td>\n",
       "      <td>0.0</td>\n",
       "      <td>0.0</td>\n",
       "      <td>0.0</td>\n",
       "      <td>0.0</td>\n",
       "      <td>0.0</td>\n",
       "      <td>0.0</td>\n",
       "      <td>0.0</td>\n",
       "    </tr>\n",
       "    <tr>\n",
       "      <th>1</th>\n",
       "      <td>1</td>\n",
       "      <td>1554014</td>\n",
       "      <td>11.003724</td>\n",
       "      <td>0</td>\n",
       "      <td>0.0</td>\n",
       "      <td>0.0</td>\n",
       "      <td>0.0</td>\n",
       "      <td>0.0</td>\n",
       "      <td>0.0</td>\n",
       "      <td>0.0</td>\n",
       "      <td>...</td>\n",
       "      <td>0.0</td>\n",
       "      <td>0.0</td>\n",
       "      <td>0.0</td>\n",
       "      <td>0.0</td>\n",
       "      <td>0.0</td>\n",
       "      <td>0.0</td>\n",
       "      <td>0.0</td>\n",
       "      <td>0.0</td>\n",
       "      <td>0.0</td>\n",
       "      <td>0.0</td>\n",
       "    </tr>\n",
       "    <tr>\n",
       "      <th>2</th>\n",
       "      <td>2</td>\n",
       "      <td>1552092</td>\n",
       "      <td>11.003724</td>\n",
       "      <td>0</td>\n",
       "      <td>0.0</td>\n",
       "      <td>0.0</td>\n",
       "      <td>0.0</td>\n",
       "      <td>0.0</td>\n",
       "      <td>0.0</td>\n",
       "      <td>0.0</td>\n",
       "      <td>...</td>\n",
       "      <td>0.0</td>\n",
       "      <td>1.0</td>\n",
       "      <td>0.0</td>\n",
       "      <td>0.0</td>\n",
       "      <td>0.0</td>\n",
       "      <td>0.0</td>\n",
       "      <td>0.0</td>\n",
       "      <td>0.0</td>\n",
       "      <td>0.0</td>\n",
       "      <td>0.0</td>\n",
       "    </tr>\n",
       "  </tbody>\n",
       "</table>\n",
       "<p>3 rows × 2101 columns</p>\n",
       "</div>"
      ],
      "text/plain": [
       "   Unnamed: 0    TX_ID   graftyrs  grf_fail  MM_A_1  MM_A_2  MM_A_3  MM_A_4  \\\n",
       "0           0  1550580   2.992553         1     0.0     0.0     0.0     0.0   \n",
       "1           1  1554014  11.003724         0     0.0     0.0     0.0     0.0   \n",
       "2           2  1552092  11.003724         0     0.0     0.0     0.0     0.0   \n",
       "\n",
       "   MM_A_5  MM_A_6  ...  MM_DPB1_177  MM_DPB1_178  MM_DPB1_179  MM_DPB1_180  \\\n",
       "0     0.0     0.0  ...          0.0          0.0          0.0          0.0   \n",
       "1     0.0     0.0  ...          0.0          0.0          0.0          0.0   \n",
       "2     0.0     0.0  ...          0.0          1.0          0.0          0.0   \n",
       "\n",
       "   MM_DPB1_181  MM_DPB1_182  MM_DPB1_183  MM_DPB1_184  MM_DPB1_185  \\\n",
       "0          0.0          0.0          0.0          0.0          0.0   \n",
       "1          0.0          0.0          0.0          0.0          0.0   \n",
       "2          0.0          0.0          0.0          0.0          0.0   \n",
       "\n",
       "   MM_DPB1_186  \n",
       "0          0.0  \n",
       "1          0.0  \n",
       "2          0.0  \n",
       "\n",
       "[3 rows x 2101 columns]"
      ]
     },
     "execution_count": 3,
     "metadata": {},
     "output_type": "execute_result"
    }
   ],
   "source": [
    "all_data.head(3)"
   ]
  },
  {
   "cell_type": "code",
   "execution_count": 4,
   "id": "d1b392a9",
   "metadata": {},
   "outputs": [
    {
     "name": "stdout",
     "output_type": "stream",
     "text": [
      "53\n"
     ]
    }
   ],
   "source": [
    "covariates = ['shared', 'DCD', 'DON_AGE', 'donage_slope_ge18', 'dcadcodanox', 'dcadcodcva', 'dcadcodcnst', 'dcadcodoth', 'don_cmv_negative', \n",
    "              'don_htn_0c', 'ln_don_wgt_kg_0c', 'ln_don_wgt_kg_0c_s55', 'don_ecd', 'age_ecd', 'yearslice', 'REC_AGE_AT_TX', \n",
    "              'rec_age_spline_35', 'rec_age_spline_50', 'rec_age_spline_65', 'diab_noted', 'age_diab', 'dm_can_age_spline_50', \n",
    "              'can_dgn_htn_ndm', 'can_dgn_pk_ndm', 'can_dgn_gd_ndm', 'rec_prev_ki_tx', 'rec_prev_ki_tx_dm', 'rbmi_0c', 'rbmi_miss', \n",
    "              'rbmi_gt_20', 'rbmi_DM', 'rbmi_gt_20_DM', 'ln_c_hd_m', 'ln_c_hd_0c', 'ln_c_hd_m_ptx', 'PKPRA_MS', 'PKPRA_1080', \n",
    "              'PKPRA_GE80', 'hispanic', 'CAN_RACE_BLACK', 'CAN_RACE_asian', 'CAN_RACE_WHITE', 'mm0', 'mmDR0', 'mmDR1', 'mmA0', 'mmA1', \n",
    "              'mmB0', 'mmB1', 'mmC0', 'mmC1', 'mmDQ0', 'mmDQ1']\n",
    "outcome_label = \"graftyrs\"\n",
    "censor_label = \"grf_fail\"\n",
    "print(len(covariates))"
   ]
  },
  {
   "cell_type": "code",
   "execution_count": 5,
   "id": "bffd9152",
   "metadata": {},
   "outputs": [
    {
     "name": "stdout",
     "output_type": "stream",
     "text": [
      "['Unnamed: 0', 'TX_ID', 'graftyrs', 'grf_fail']\n"
     ]
    }
   ],
   "source": [
    "filtered_columns = [col for col in all_data.columns if not col.startswith('MM_')]\n",
    "\n",
    "print(filtered_columns)"
   ]
  },
  {
   "cell_type": "code",
   "execution_count": 6,
   "id": "6bf1340b",
   "metadata": {},
   "outputs": [
    {
     "name": "stdout",
     "output_type": "stream",
     "text": [
      "0\n"
     ]
    }
   ],
   "source": [
    "found_strings = [s for s in covariates if s in all_data.columns]\n",
    "print(len(found_strings))"
   ]
  },
  {
   "cell_type": "code",
   "execution_count": 8,
   "id": "d824eda4",
   "metadata": {},
   "outputs": [],
   "source": [
    "# A 1-182\n",
    "# B 1-182\n",
    "# C 1-182\n",
    "# DRB1 6-94\n",
    "# DRB345 6-94\n",
    "# DQA1 6-94\n",
    "# DQB1 6-95  ??\n",
    "# DPA1 6-94  ??  4-94 ??\n",
    "# DPB1 6-94\n",
    "#['MM_DPA1_4', 'MM_DPA1_5'] not in index\n",
    "\n",
    "locus_list = ['A','B','C','DRB1','DRB345','DQA1','DQB1','DPA1','DPB1']\n",
    "locus_range_list = [[1,182],[1,182],[1,182],[6,94],[6,94],[6,94],[6,95],[6,94],[6,94]]"
   ]
  },
  {
   "cell_type": "code",
   "execution_count": 9,
   "id": "45327483",
   "metadata": {},
   "outputs": [
    {
     "name": "stdout",
     "output_type": "stream",
     "text": [
      "['MM_A_1', 'MM_A_2', 'MM_A_3', 'MM_A_4', 'MM_A_5', 'MM_A_6', 'MM_A_7', 'MM_A_8', 'MM_A_9', 'MM_A_10', 'MM_A_11', 'MM_A_12', 'MM_A_13', 'MM_A_14', 'MM_A_15', 'MM_A_16', 'MM_A_17', 'MM_A_18', 'MM_A_19', 'MM_A_20', 'MM_A_21', 'MM_A_22', 'MM_A_23', 'MM_A_24', 'MM_A_25', 'MM_A_26', 'MM_A_27', 'MM_A_28', 'MM_A_29', 'MM_A_30', 'MM_A_31', 'MM_A_32', 'MM_A_33', 'MM_A_34', 'MM_A_35', 'MM_A_36', 'MM_A_37', 'MM_A_38', 'MM_A_39', 'MM_A_40', 'MM_A_41', 'MM_A_42', 'MM_A_43', 'MM_A_44', 'MM_A_45', 'MM_A_46', 'MM_A_47', 'MM_A_48', 'MM_A_49', 'MM_A_50', 'MM_A_51', 'MM_A_52', 'MM_A_53', 'MM_A_54', 'MM_A_55', 'MM_A_56', 'MM_A_57', 'MM_A_58', 'MM_A_59', 'MM_A_60', 'MM_A_61', 'MM_A_62', 'MM_A_63', 'MM_A_64', 'MM_A_65', 'MM_A_66', 'MM_A_67', 'MM_A_68', 'MM_A_69', 'MM_A_70', 'MM_A_71', 'MM_A_72', 'MM_A_73', 'MM_A_74', 'MM_A_75', 'MM_A_76', 'MM_A_77', 'MM_A_78', 'MM_A_79', 'MM_A_80', 'MM_A_81', 'MM_A_82', 'MM_A_83', 'MM_A_84', 'MM_A_85', 'MM_A_86', 'MM_A_87', 'MM_A_88', 'MM_A_89', 'MM_A_90', 'MM_A_91', 'MM_A_92', 'MM_A_93', 'MM_A_94', 'MM_A_95', 'MM_A_96', 'MM_A_97', 'MM_A_98', 'MM_A_99', 'MM_A_100', 'MM_A_101', 'MM_A_102', 'MM_A_103', 'MM_A_104', 'MM_A_105', 'MM_A_106', 'MM_A_107', 'MM_A_108', 'MM_A_109', 'MM_A_110', 'MM_A_111', 'MM_A_112', 'MM_A_113', 'MM_A_114', 'MM_A_115', 'MM_A_116', 'MM_A_117', 'MM_A_118', 'MM_A_119', 'MM_A_120', 'MM_A_121', 'MM_A_122', 'MM_A_123', 'MM_A_124', 'MM_A_125', 'MM_A_126', 'MM_A_127', 'MM_A_128', 'MM_A_129', 'MM_A_130', 'MM_A_131', 'MM_A_132', 'MM_A_133', 'MM_A_134', 'MM_A_135', 'MM_A_136', 'MM_A_137', 'MM_A_138', 'MM_A_139', 'MM_A_140', 'MM_A_141', 'MM_A_142', 'MM_A_143', 'MM_A_144', 'MM_A_145', 'MM_A_146', 'MM_A_147', 'MM_A_148', 'MM_A_149', 'MM_A_150', 'MM_A_151', 'MM_A_152', 'MM_A_153', 'MM_A_154', 'MM_A_155', 'MM_A_156', 'MM_A_157', 'MM_A_158', 'MM_A_159', 'MM_A_160', 'MM_A_161', 'MM_A_162', 'MM_A_163', 'MM_A_164', 'MM_A_165', 'MM_A_166', 'MM_A_167', 'MM_A_168', 'MM_A_169', 'MM_A_170', 'MM_A_171', 'MM_A_172', 'MM_A_173', 'MM_A_174', 'MM_A_175', 'MM_A_176', 'MM_A_177', 'MM_A_178', 'MM_A_179', 'MM_A_180', 'MM_A_181', 'MM_A_182', 'MM_B_1', 'MM_B_2', 'MM_B_3', 'MM_B_4', 'MM_B_5', 'MM_B_6', 'MM_B_7', 'MM_B_8', 'MM_B_9', 'MM_B_10', 'MM_B_11', 'MM_B_12', 'MM_B_13', 'MM_B_14', 'MM_B_15', 'MM_B_16', 'MM_B_17', 'MM_B_18', 'MM_B_19', 'MM_B_20', 'MM_B_21', 'MM_B_22', 'MM_B_23', 'MM_B_24', 'MM_B_25', 'MM_B_26', 'MM_B_27', 'MM_B_28', 'MM_B_29', 'MM_B_30', 'MM_B_31', 'MM_B_32', 'MM_B_33', 'MM_B_34', 'MM_B_35', 'MM_B_36', 'MM_B_37', 'MM_B_38', 'MM_B_39', 'MM_B_40', 'MM_B_41', 'MM_B_42', 'MM_B_43', 'MM_B_44', 'MM_B_45', 'MM_B_46', 'MM_B_47', 'MM_B_48', 'MM_B_49', 'MM_B_50', 'MM_B_51', 'MM_B_52', 'MM_B_53', 'MM_B_54', 'MM_B_55', 'MM_B_56', 'MM_B_57', 'MM_B_58', 'MM_B_59', 'MM_B_60', 'MM_B_61', 'MM_B_62', 'MM_B_63', 'MM_B_64', 'MM_B_65', 'MM_B_66', 'MM_B_67', 'MM_B_68', 'MM_B_69', 'MM_B_70', 'MM_B_71', 'MM_B_72', 'MM_B_73', 'MM_B_74', 'MM_B_75', 'MM_B_76', 'MM_B_77', 'MM_B_78', 'MM_B_79', 'MM_B_80', 'MM_B_81', 'MM_B_82', 'MM_B_83', 'MM_B_84', 'MM_B_85', 'MM_B_86', 'MM_B_87', 'MM_B_88', 'MM_B_89', 'MM_B_90', 'MM_B_91', 'MM_B_92', 'MM_B_93', 'MM_B_94', 'MM_B_95', 'MM_B_96', 'MM_B_97', 'MM_B_98', 'MM_B_99', 'MM_B_100', 'MM_B_101', 'MM_B_102', 'MM_B_103', 'MM_B_104', 'MM_B_105', 'MM_B_106', 'MM_B_107', 'MM_B_108', 'MM_B_109', 'MM_B_110', 'MM_B_111', 'MM_B_112', 'MM_B_113', 'MM_B_114', 'MM_B_115', 'MM_B_116', 'MM_B_117', 'MM_B_118', 'MM_B_119', 'MM_B_120', 'MM_B_121', 'MM_B_122', 'MM_B_123', 'MM_B_124', 'MM_B_125', 'MM_B_126', 'MM_B_127', 'MM_B_128', 'MM_B_129', 'MM_B_130', 'MM_B_131', 'MM_B_132', 'MM_B_133', 'MM_B_134', 'MM_B_135', 'MM_B_136', 'MM_B_137', 'MM_B_138', 'MM_B_139', 'MM_B_140', 'MM_B_141', 'MM_B_142', 'MM_B_143', 'MM_B_144', 'MM_B_145', 'MM_B_146', 'MM_B_147', 'MM_B_148', 'MM_B_149', 'MM_B_150', 'MM_B_151', 'MM_B_152', 'MM_B_153', 'MM_B_154', 'MM_B_155', 'MM_B_156', 'MM_B_157', 'MM_B_158', 'MM_B_159', 'MM_B_160', 'MM_B_161', 'MM_B_162', 'MM_B_163', 'MM_B_164', 'MM_B_165', 'MM_B_166', 'MM_B_167', 'MM_B_168', 'MM_B_169', 'MM_B_170', 'MM_B_171', 'MM_B_172', 'MM_B_173', 'MM_B_174', 'MM_B_175', 'MM_B_176', 'MM_B_177', 'MM_B_178', 'MM_B_179', 'MM_B_180', 'MM_B_181', 'MM_B_182', 'MM_C_1', 'MM_C_2', 'MM_C_3', 'MM_C_4', 'MM_C_5', 'MM_C_6', 'MM_C_7', 'MM_C_8', 'MM_C_9', 'MM_C_10', 'MM_C_11', 'MM_C_12', 'MM_C_13', 'MM_C_14', 'MM_C_15', 'MM_C_16', 'MM_C_17', 'MM_C_18', 'MM_C_19', 'MM_C_20', 'MM_C_21', 'MM_C_22', 'MM_C_23', 'MM_C_24', 'MM_C_25', 'MM_C_26', 'MM_C_27', 'MM_C_28', 'MM_C_29', 'MM_C_30', 'MM_C_31', 'MM_C_32', 'MM_C_33', 'MM_C_34', 'MM_C_35', 'MM_C_36', 'MM_C_37', 'MM_C_38', 'MM_C_39', 'MM_C_40', 'MM_C_41', 'MM_C_42', 'MM_C_43', 'MM_C_44', 'MM_C_45', 'MM_C_46', 'MM_C_47', 'MM_C_48', 'MM_C_49', 'MM_C_50', 'MM_C_51', 'MM_C_52', 'MM_C_53', 'MM_C_54', 'MM_C_55', 'MM_C_56', 'MM_C_57', 'MM_C_58', 'MM_C_59', 'MM_C_60', 'MM_C_61', 'MM_C_62', 'MM_C_63', 'MM_C_64', 'MM_C_65', 'MM_C_66', 'MM_C_67', 'MM_C_68', 'MM_C_69', 'MM_C_70', 'MM_C_71', 'MM_C_72', 'MM_C_73', 'MM_C_74', 'MM_C_75', 'MM_C_76', 'MM_C_77', 'MM_C_78', 'MM_C_79', 'MM_C_80', 'MM_C_81', 'MM_C_82', 'MM_C_83', 'MM_C_84', 'MM_C_85', 'MM_C_86', 'MM_C_87', 'MM_C_88', 'MM_C_89', 'MM_C_90', 'MM_C_91', 'MM_C_92', 'MM_C_93', 'MM_C_94', 'MM_C_95', 'MM_C_96', 'MM_C_97', 'MM_C_98', 'MM_C_99', 'MM_C_100', 'MM_C_101', 'MM_C_102', 'MM_C_103', 'MM_C_104', 'MM_C_105', 'MM_C_106', 'MM_C_107', 'MM_C_108', 'MM_C_109', 'MM_C_110', 'MM_C_111', 'MM_C_112', 'MM_C_113', 'MM_C_114', 'MM_C_115', 'MM_C_116', 'MM_C_117', 'MM_C_118', 'MM_C_119', 'MM_C_120', 'MM_C_121', 'MM_C_122', 'MM_C_123', 'MM_C_124', 'MM_C_125', 'MM_C_126', 'MM_C_127', 'MM_C_128', 'MM_C_129', 'MM_C_130', 'MM_C_131', 'MM_C_132', 'MM_C_133', 'MM_C_134', 'MM_C_135', 'MM_C_136', 'MM_C_137', 'MM_C_138', 'MM_C_139', 'MM_C_140', 'MM_C_141', 'MM_C_142', 'MM_C_143', 'MM_C_144', 'MM_C_145', 'MM_C_146', 'MM_C_147', 'MM_C_148', 'MM_C_149', 'MM_C_150', 'MM_C_151', 'MM_C_152', 'MM_C_153', 'MM_C_154', 'MM_C_155', 'MM_C_156', 'MM_C_157', 'MM_C_158', 'MM_C_159', 'MM_C_160', 'MM_C_161', 'MM_C_162', 'MM_C_163', 'MM_C_164', 'MM_C_165', 'MM_C_166', 'MM_C_167', 'MM_C_168', 'MM_C_169', 'MM_C_170', 'MM_C_171', 'MM_C_172', 'MM_C_173', 'MM_C_174', 'MM_C_175', 'MM_C_176', 'MM_C_177', 'MM_C_178', 'MM_C_179', 'MM_C_180', 'MM_C_181', 'MM_C_182', 'MM_DRB1_6', 'MM_DRB1_7', 'MM_DRB1_8', 'MM_DRB1_9', 'MM_DRB1_10', 'MM_DRB1_11', 'MM_DRB1_12', 'MM_DRB1_13', 'MM_DRB1_14', 'MM_DRB1_15', 'MM_DRB1_16', 'MM_DRB1_17', 'MM_DRB1_18', 'MM_DRB1_19', 'MM_DRB1_20', 'MM_DRB1_21', 'MM_DRB1_22', 'MM_DRB1_23', 'MM_DRB1_24', 'MM_DRB1_25', 'MM_DRB1_26', 'MM_DRB1_27', 'MM_DRB1_28', 'MM_DRB1_29', 'MM_DRB1_30', 'MM_DRB1_31', 'MM_DRB1_32', 'MM_DRB1_33', 'MM_DRB1_34', 'MM_DRB1_35', 'MM_DRB1_36', 'MM_DRB1_37', 'MM_DRB1_38', 'MM_DRB1_39', 'MM_DRB1_40', 'MM_DRB1_41', 'MM_DRB1_42', 'MM_DRB1_43', 'MM_DRB1_44', 'MM_DRB1_45', 'MM_DRB1_46', 'MM_DRB1_47', 'MM_DRB1_48', 'MM_DRB1_49', 'MM_DRB1_50', 'MM_DRB1_51', 'MM_DRB1_52', 'MM_DRB1_53', 'MM_DRB1_54', 'MM_DRB1_55', 'MM_DRB1_56', 'MM_DRB1_57', 'MM_DRB1_58', 'MM_DRB1_59', 'MM_DRB1_60', 'MM_DRB1_61', 'MM_DRB1_62', 'MM_DRB1_63', 'MM_DRB1_64', 'MM_DRB1_65', 'MM_DRB1_66', 'MM_DRB1_67', 'MM_DRB1_68', 'MM_DRB1_69', 'MM_DRB1_70', 'MM_DRB1_71', 'MM_DRB1_72', 'MM_DRB1_73', 'MM_DRB1_74', 'MM_DRB1_75', 'MM_DRB1_76', 'MM_DRB1_77', 'MM_DRB1_78', 'MM_DRB1_79', 'MM_DRB1_80', 'MM_DRB1_81', 'MM_DRB1_82', 'MM_DRB1_83', 'MM_DRB1_84', 'MM_DRB1_85', 'MM_DRB1_86', 'MM_DRB1_87', 'MM_DRB1_88', 'MM_DRB1_89', 'MM_DRB1_90', 'MM_DRB1_91', 'MM_DRB1_92', 'MM_DRB1_93', 'MM_DRB1_94', 'MM_DRB345_6', 'MM_DRB345_7', 'MM_DRB345_8', 'MM_DRB345_9', 'MM_DRB345_10', 'MM_DRB345_11', 'MM_DRB345_12', 'MM_DRB345_13', 'MM_DRB345_14', 'MM_DRB345_15', 'MM_DRB345_16', 'MM_DRB345_17', 'MM_DRB345_18', 'MM_DRB345_19', 'MM_DRB345_20', 'MM_DRB345_21', 'MM_DRB345_22', 'MM_DRB345_23', 'MM_DRB345_24', 'MM_DRB345_25', 'MM_DRB345_26', 'MM_DRB345_27', 'MM_DRB345_28', 'MM_DRB345_29', 'MM_DRB345_30', 'MM_DRB345_31', 'MM_DRB345_32', 'MM_DRB345_33', 'MM_DRB345_34', 'MM_DRB345_35', 'MM_DRB345_36', 'MM_DRB345_37', 'MM_DRB345_38', 'MM_DRB345_39', 'MM_DRB345_40', 'MM_DRB345_41', 'MM_DRB345_42', 'MM_DRB345_43', 'MM_DRB345_44', 'MM_DRB345_45', 'MM_DRB345_46', 'MM_DRB345_47', 'MM_DRB345_48', 'MM_DRB345_49', 'MM_DRB345_50', 'MM_DRB345_51', 'MM_DRB345_52', 'MM_DRB345_53', 'MM_DRB345_54', 'MM_DRB345_55', 'MM_DRB345_56', 'MM_DRB345_57', 'MM_DRB345_58', 'MM_DRB345_59', 'MM_DRB345_60', 'MM_DRB345_61', 'MM_DRB345_62', 'MM_DRB345_63', 'MM_DRB345_64', 'MM_DRB345_65', 'MM_DRB345_66', 'MM_DRB345_67', 'MM_DRB345_68', 'MM_DRB345_69', 'MM_DRB345_70', 'MM_DRB345_71', 'MM_DRB345_72', 'MM_DRB345_73', 'MM_DRB345_74', 'MM_DRB345_75', 'MM_DRB345_76', 'MM_DRB345_77', 'MM_DRB345_78', 'MM_DRB345_79', 'MM_DRB345_80', 'MM_DRB345_81', 'MM_DRB345_82', 'MM_DRB345_83', 'MM_DRB345_84', 'MM_DRB345_85', 'MM_DRB345_86', 'MM_DRB345_87', 'MM_DRB345_88', 'MM_DRB345_89', 'MM_DRB345_90', 'MM_DRB345_91', 'MM_DRB345_92', 'MM_DRB345_93', 'MM_DRB345_94', 'MM_DQA1_6', 'MM_DQA1_7', 'MM_DQA1_8', 'MM_DQA1_9', 'MM_DQA1_10', 'MM_DQA1_11', 'MM_DQA1_12', 'MM_DQA1_13', 'MM_DQA1_14', 'MM_DQA1_15', 'MM_DQA1_16', 'MM_DQA1_17', 'MM_DQA1_18', 'MM_DQA1_19', 'MM_DQA1_20', 'MM_DQA1_21', 'MM_DQA1_22', 'MM_DQA1_23', 'MM_DQA1_24', 'MM_DQA1_25', 'MM_DQA1_26', 'MM_DQA1_27', 'MM_DQA1_28', 'MM_DQA1_29', 'MM_DQA1_30', 'MM_DQA1_31', 'MM_DQA1_32', 'MM_DQA1_33', 'MM_DQA1_34', 'MM_DQA1_35', 'MM_DQA1_36', 'MM_DQA1_37', 'MM_DQA1_38', 'MM_DQA1_39', 'MM_DQA1_40', 'MM_DQA1_41', 'MM_DQA1_42', 'MM_DQA1_43', 'MM_DQA1_44', 'MM_DQA1_45', 'MM_DQA1_46', 'MM_DQA1_47', 'MM_DQA1_48', 'MM_DQA1_49', 'MM_DQA1_50', 'MM_DQA1_51', 'MM_DQA1_52', 'MM_DQA1_53', 'MM_DQA1_54', 'MM_DQA1_55', 'MM_DQA1_56', 'MM_DQA1_57', 'MM_DQA1_58', 'MM_DQA1_59', 'MM_DQA1_60', 'MM_DQA1_61', 'MM_DQA1_62', 'MM_DQA1_63', 'MM_DQA1_64', 'MM_DQA1_65', 'MM_DQA1_66', 'MM_DQA1_67', 'MM_DQA1_68', 'MM_DQA1_69', 'MM_DQA1_70', 'MM_DQA1_71', 'MM_DQA1_72', 'MM_DQA1_73', 'MM_DQA1_74', 'MM_DQA1_75', 'MM_DQA1_76', 'MM_DQA1_77', 'MM_DQA1_78', 'MM_DQA1_79', 'MM_DQA1_80', 'MM_DQA1_81', 'MM_DQA1_82', 'MM_DQA1_83', 'MM_DQA1_84', 'MM_DQA1_85', 'MM_DQA1_86', 'MM_DQA1_87', 'MM_DQA1_88', 'MM_DQA1_89', 'MM_DQA1_90', 'MM_DQA1_91', 'MM_DQA1_92', 'MM_DQA1_93', 'MM_DQA1_94', 'MM_DQB1_6', 'MM_DQB1_7', 'MM_DQB1_8', 'MM_DQB1_9', 'MM_DQB1_10', 'MM_DQB1_11', 'MM_DQB1_12', 'MM_DQB1_13', 'MM_DQB1_14', 'MM_DQB1_15', 'MM_DQB1_16', 'MM_DQB1_17', 'MM_DQB1_18', 'MM_DQB1_19', 'MM_DQB1_20', 'MM_DQB1_21', 'MM_DQB1_22', 'MM_DQB1_23', 'MM_DQB1_24', 'MM_DQB1_25', 'MM_DQB1_26', 'MM_DQB1_27', 'MM_DQB1_28', 'MM_DQB1_29', 'MM_DQB1_30', 'MM_DQB1_31', 'MM_DQB1_32', 'MM_DQB1_33', 'MM_DQB1_34', 'MM_DQB1_35', 'MM_DQB1_36', 'MM_DQB1_37', 'MM_DQB1_38', 'MM_DQB1_39', 'MM_DQB1_40', 'MM_DQB1_41', 'MM_DQB1_42', 'MM_DQB1_43', 'MM_DQB1_44', 'MM_DQB1_45', 'MM_DQB1_46', 'MM_DQB1_47', 'MM_DQB1_48', 'MM_DQB1_49', 'MM_DQB1_50', 'MM_DQB1_51', 'MM_DQB1_52', 'MM_DQB1_53', 'MM_DQB1_54', 'MM_DQB1_55', 'MM_DQB1_56', 'MM_DQB1_57', 'MM_DQB1_58', 'MM_DQB1_59', 'MM_DQB1_60', 'MM_DQB1_61', 'MM_DQB1_62', 'MM_DQB1_63', 'MM_DQB1_64', 'MM_DQB1_65', 'MM_DQB1_66', 'MM_DQB1_67', 'MM_DQB1_68', 'MM_DQB1_69', 'MM_DQB1_70', 'MM_DQB1_71', 'MM_DQB1_72', 'MM_DQB1_73', 'MM_DQB1_74', 'MM_DQB1_75', 'MM_DQB1_76', 'MM_DQB1_77', 'MM_DQB1_78', 'MM_DQB1_79', 'MM_DQB1_80', 'MM_DQB1_81', 'MM_DQB1_82', 'MM_DQB1_83', 'MM_DQB1_84', 'MM_DQB1_85', 'MM_DQB1_86', 'MM_DQB1_87', 'MM_DQB1_88', 'MM_DQB1_89', 'MM_DQB1_90', 'MM_DQB1_91', 'MM_DQB1_92', 'MM_DQB1_93', 'MM_DQB1_94', 'MM_DQB1_95', 'MM_DPA1_6', 'MM_DPA1_7', 'MM_DPA1_8', 'MM_DPA1_9', 'MM_DPA1_10', 'MM_DPA1_11', 'MM_DPA1_12', 'MM_DPA1_13', 'MM_DPA1_14', 'MM_DPA1_15', 'MM_DPA1_16', 'MM_DPA1_17', 'MM_DPA1_18', 'MM_DPA1_19', 'MM_DPA1_20', 'MM_DPA1_21', 'MM_DPA1_22', 'MM_DPA1_23', 'MM_DPA1_24', 'MM_DPA1_25', 'MM_DPA1_26', 'MM_DPA1_27', 'MM_DPA1_28', 'MM_DPA1_29', 'MM_DPA1_30', 'MM_DPA1_31', 'MM_DPA1_32', 'MM_DPA1_33', 'MM_DPA1_34', 'MM_DPA1_35', 'MM_DPA1_36', 'MM_DPA1_37', 'MM_DPA1_38', 'MM_DPA1_39', 'MM_DPA1_40', 'MM_DPA1_41', 'MM_DPA1_42', 'MM_DPA1_43', 'MM_DPA1_44', 'MM_DPA1_45', 'MM_DPA1_46', 'MM_DPA1_47', 'MM_DPA1_48', 'MM_DPA1_49', 'MM_DPA1_50', 'MM_DPA1_51', 'MM_DPA1_52', 'MM_DPA1_53', 'MM_DPA1_54', 'MM_DPA1_55', 'MM_DPA1_56', 'MM_DPA1_57', 'MM_DPA1_58', 'MM_DPA1_59', 'MM_DPA1_60', 'MM_DPA1_61', 'MM_DPA1_62', 'MM_DPA1_63', 'MM_DPA1_64', 'MM_DPA1_65', 'MM_DPA1_66', 'MM_DPA1_67', 'MM_DPA1_68', 'MM_DPA1_69', 'MM_DPA1_70', 'MM_DPA1_71', 'MM_DPA1_72', 'MM_DPA1_73', 'MM_DPA1_74', 'MM_DPA1_75', 'MM_DPA1_76', 'MM_DPA1_77', 'MM_DPA1_78', 'MM_DPA1_79', 'MM_DPA1_80', 'MM_DPA1_81', 'MM_DPA1_82', 'MM_DPA1_83', 'MM_DPA1_84', 'MM_DPA1_85', 'MM_DPA1_86', 'MM_DPA1_87', 'MM_DPA1_88', 'MM_DPA1_89', 'MM_DPA1_90', 'MM_DPA1_91', 'MM_DPA1_92', 'MM_DPA1_93', 'MM_DPA1_94', 'MM_DPB1_6', 'MM_DPB1_7', 'MM_DPB1_8', 'MM_DPB1_9', 'MM_DPB1_10', 'MM_DPB1_11', 'MM_DPB1_12', 'MM_DPB1_13', 'MM_DPB1_14', 'MM_DPB1_15', 'MM_DPB1_16', 'MM_DPB1_17', 'MM_DPB1_18', 'MM_DPB1_19', 'MM_DPB1_20', 'MM_DPB1_21', 'MM_DPB1_22', 'MM_DPB1_23', 'MM_DPB1_24', 'MM_DPB1_25', 'MM_DPB1_26', 'MM_DPB1_27', 'MM_DPB1_28', 'MM_DPB1_29', 'MM_DPB1_30', 'MM_DPB1_31', 'MM_DPB1_32', 'MM_DPB1_33', 'MM_DPB1_34', 'MM_DPB1_35', 'MM_DPB1_36', 'MM_DPB1_37', 'MM_DPB1_38', 'MM_DPB1_39', 'MM_DPB1_40', 'MM_DPB1_41', 'MM_DPB1_42', 'MM_DPB1_43', 'MM_DPB1_44', 'MM_DPB1_45', 'MM_DPB1_46', 'MM_DPB1_47', 'MM_DPB1_48', 'MM_DPB1_49', 'MM_DPB1_50', 'MM_DPB1_51', 'MM_DPB1_52', 'MM_DPB1_53', 'MM_DPB1_54', 'MM_DPB1_55', 'MM_DPB1_56', 'MM_DPB1_57', 'MM_DPB1_58', 'MM_DPB1_59', 'MM_DPB1_60', 'MM_DPB1_61', 'MM_DPB1_62', 'MM_DPB1_63', 'MM_DPB1_64', 'MM_DPB1_65', 'MM_DPB1_66', 'MM_DPB1_67', 'MM_DPB1_68', 'MM_DPB1_69', 'MM_DPB1_70', 'MM_DPB1_71', 'MM_DPB1_72', 'MM_DPB1_73', 'MM_DPB1_74', 'MM_DPB1_75', 'MM_DPB1_76', 'MM_DPB1_77', 'MM_DPB1_78', 'MM_DPB1_79', 'MM_DPB1_80', 'MM_DPB1_81', 'MM_DPB1_82', 'MM_DPB1_83', 'MM_DPB1_84', 'MM_DPB1_85', 'MM_DPB1_86', 'MM_DPB1_87', 'MM_DPB1_88', 'MM_DPB1_89', 'MM_DPB1_90', 'MM_DPB1_91', 'MM_DPB1_92', 'MM_DPB1_93', 'MM_DPB1_94']\n",
      "1081\n"
     ]
    }
   ],
   "source": [
    "MM_feature_list = []\n",
    "i = 0\n",
    "for locus in locus_list:\n",
    "    for j in range(locus_range_list[i][0],locus_range_list[i][1]+1):\n",
    "        MM_feature_list.append('MM_'+str(locus)+'_'+str(j))\n",
    "    i +=1\n",
    "print(MM_feature_list)\n",
    "print(len(MM_feature_list))"
   ]
  },
  {
   "cell_type": "code",
   "execution_count": 10,
   "id": "5cf75f00",
   "metadata": {},
   "outputs": [
    {
     "name": "stdout",
     "output_type": "stream",
     "text": [
      "Sum of raw data missing values: 1669212\n"
     ]
    }
   ],
   "source": [
    "missing_sum = all_data.isna().sum().sum()\n",
    "print(\"Sum of raw data missing values:\", missing_sum)"
   ]
  },
  {
   "cell_type": "code",
   "execution_count": 21,
   "id": "5a84f27f",
   "metadata": {},
   "outputs": [
    {
     "name": "stdout",
     "output_type": "stream",
     "text": [
      "1083 Total Columns\n",
      "1081 AAs\n",
      "Shape of New DataFrame: (251776, 1083)\n",
      "Sum of data missing values: 860476\n"
     ]
    },
    {
     "data": {
      "text/html": [
       "<div>\n",
       "<style scoped>\n",
       "    .dataframe tbody tr th:only-of-type {\n",
       "        vertical-align: middle;\n",
       "    }\n",
       "\n",
       "    .dataframe tbody tr th {\n",
       "        vertical-align: top;\n",
       "    }\n",
       "\n",
       "    .dataframe thead th {\n",
       "        text-align: right;\n",
       "    }\n",
       "</style>\n",
       "<table border=\"1\" class=\"dataframe\">\n",
       "  <thead>\n",
       "    <tr style=\"text-align: right;\">\n",
       "      <th></th>\n",
       "      <th>MM_A_1</th>\n",
       "      <th>MM_A_2</th>\n",
       "      <th>MM_A_3</th>\n",
       "      <th>MM_A_4</th>\n",
       "      <th>MM_A_5</th>\n",
       "      <th>MM_A_6</th>\n",
       "      <th>MM_A_7</th>\n",
       "      <th>MM_A_8</th>\n",
       "      <th>MM_A_9</th>\n",
       "      <th>MM_A_10</th>\n",
       "      <th>...</th>\n",
       "      <th>MM_DPB1_87</th>\n",
       "      <th>MM_DPB1_88</th>\n",
       "      <th>MM_DPB1_89</th>\n",
       "      <th>MM_DPB1_90</th>\n",
       "      <th>MM_DPB1_91</th>\n",
       "      <th>MM_DPB1_92</th>\n",
       "      <th>MM_DPB1_93</th>\n",
       "      <th>MM_DPB1_94</th>\n",
       "      <th>graftyrs</th>\n",
       "      <th>grf_fail</th>\n",
       "    </tr>\n",
       "  </thead>\n",
       "  <tbody>\n",
       "    <tr>\n",
       "      <th>0</th>\n",
       "      <td>0.0</td>\n",
       "      <td>0.0</td>\n",
       "      <td>0.0</td>\n",
       "      <td>0.0</td>\n",
       "      <td>0.0</td>\n",
       "      <td>0.0</td>\n",
       "      <td>0.0</td>\n",
       "      <td>0.0</td>\n",
       "      <td>1.0</td>\n",
       "      <td>0.0</td>\n",
       "      <td>...</td>\n",
       "      <td>0.0</td>\n",
       "      <td>0.0</td>\n",
       "      <td>0.0</td>\n",
       "      <td>0.0</td>\n",
       "      <td>0.0</td>\n",
       "      <td>0.0</td>\n",
       "      <td>0.0</td>\n",
       "      <td>0.0</td>\n",
       "      <td>2.992553</td>\n",
       "      <td>1</td>\n",
       "    </tr>\n",
       "    <tr>\n",
       "      <th>1</th>\n",
       "      <td>0.0</td>\n",
       "      <td>0.0</td>\n",
       "      <td>0.0</td>\n",
       "      <td>0.0</td>\n",
       "      <td>0.0</td>\n",
       "      <td>0.0</td>\n",
       "      <td>0.0</td>\n",
       "      <td>0.0</td>\n",
       "      <td>2.0</td>\n",
       "      <td>0.0</td>\n",
       "      <td>...</td>\n",
       "      <td>0.0</td>\n",
       "      <td>0.0</td>\n",
       "      <td>0.0</td>\n",
       "      <td>0.0</td>\n",
       "      <td>0.0</td>\n",
       "      <td>0.0</td>\n",
       "      <td>0.0</td>\n",
       "      <td>0.0</td>\n",
       "      <td>11.003724</td>\n",
       "      <td>0</td>\n",
       "    </tr>\n",
       "    <tr>\n",
       "      <th>2</th>\n",
       "      <td>0.0</td>\n",
       "      <td>0.0</td>\n",
       "      <td>0.0</td>\n",
       "      <td>0.0</td>\n",
       "      <td>0.0</td>\n",
       "      <td>0.0</td>\n",
       "      <td>0.0</td>\n",
       "      <td>0.0</td>\n",
       "      <td>1.0</td>\n",
       "      <td>0.0</td>\n",
       "      <td>...</td>\n",
       "      <td>1.0</td>\n",
       "      <td>0.0</td>\n",
       "      <td>0.0</td>\n",
       "      <td>0.0</td>\n",
       "      <td>0.0</td>\n",
       "      <td>0.0</td>\n",
       "      <td>0.0</td>\n",
       "      <td>0.0</td>\n",
       "      <td>11.003724</td>\n",
       "      <td>0</td>\n",
       "    </tr>\n",
       "  </tbody>\n",
       "</table>\n",
       "<p>3 rows × 1083 columns</p>\n",
       "</div>"
      ],
      "text/plain": [
       "   MM_A_1  MM_A_2  MM_A_3  MM_A_4  MM_A_5  MM_A_6  MM_A_7  MM_A_8  MM_A_9  \\\n",
       "0     0.0     0.0     0.0     0.0     0.0     0.0     0.0     0.0     1.0   \n",
       "1     0.0     0.0     0.0     0.0     0.0     0.0     0.0     0.0     2.0   \n",
       "2     0.0     0.0     0.0     0.0     0.0     0.0     0.0     0.0     1.0   \n",
       "\n",
       "   MM_A_10  ...  MM_DPB1_87  MM_DPB1_88  MM_DPB1_89  MM_DPB1_90  MM_DPB1_91  \\\n",
       "0      0.0  ...         0.0         0.0         0.0         0.0         0.0   \n",
       "1      0.0  ...         0.0         0.0         0.0         0.0         0.0   \n",
       "2      0.0  ...         1.0         0.0         0.0         0.0         0.0   \n",
       "\n",
       "   MM_DPB1_92  MM_DPB1_93  MM_DPB1_94   graftyrs  grf_fail  \n",
       "0         0.0         0.0         0.0   2.992553         1  \n",
       "1         0.0         0.0         0.0  11.003724         0  \n",
       "2         0.0         0.0         0.0  11.003724         0  \n",
       "\n",
       "[3 rows x 1083 columns]"
      ]
     },
     "execution_count": 21,
     "metadata": {},
     "output_type": "execute_result"
    }
   ],
   "source": [
    "#features = MM_feature_list + covariates + [outcome_label] + [censor_label]\n",
    "features = MM_feature_list + [outcome_label] + [censor_label]\n",
    "print(str(len(features))+ \" Total Columns\")\n",
    "print(str(len(MM_feature_list))+\" AAs\")\n",
    "#print(str(len(covariates))+ \" Covariates\")\n",
    "\n",
    "data = all_data[features]\n",
    "print(\"Shape of New DataFrame:\", data.shape)\n",
    "missing_sum = data.isna().sum().sum()\n",
    "print(\"Sum of data missing values:\", missing_sum)\n",
    "\n",
    "data.head(3)"
   ]
  },
  {
   "cell_type": "code",
   "execution_count": 22,
   "id": "1badbeff",
   "metadata": {},
   "outputs": [
    {
     "name": "stdout",
     "output_type": "stream",
     "text": [
      "MM_A_1        0.000016\n",
      "MM_A_2        0.000000\n",
      "MM_A_3        0.000119\n",
      "MM_A_4        0.000000\n",
      "MM_A_5        0.000000\n",
      "                ...   \n",
      "MM_DPB1_90    0.000008\n",
      "MM_DPB1_91    0.003094\n",
      "MM_DPB1_92    0.000028\n",
      "MM_DPB1_93    0.000528\n",
      "MM_DPB1_94    0.000528\n",
      "Length: 1081, dtype: float64\n"
     ]
    },
    {
     "data": {
      "text/plain": [
       "(251776, 260)"
      ]
     },
     "execution_count": 22,
     "metadata": {},
     "output_type": "execute_result"
    }
   ],
   "source": [
    "filter_all_rare = True\n",
    "rare_freq = 0.01\n",
    "if filter_all_rare:\n",
    "    #Filter out rare AAs (<1%)\n",
    "    # Calculate the percentage of occurrences greater than 0 for each column\n",
    "    percentages = data.loc[:,MM_feature_list].apply(lambda x: (x > 0).mean())\n",
    "    print(percentages)\n",
    "    columns_to_remove = percentages[percentages < rare_freq].index.tolist()\n",
    "    data = data.drop(columns=columns_to_remove)\n",
    "else:\n",
    "    #Filter out invariant AAs\n",
    "    # Calculate the percentage of occurrences greater than 0 for each column\n",
    "    percentages = data.loc[:,MM_feature_list].apply(lambda x: (x > 0).mean())\n",
    "    print(percentages)\n",
    "    columns_to_remove = percentages[percentages == 0.0].index.tolist()\n",
    "    data = data.drop(columns=columns_to_remove)\n",
    "data.shape"
   ]
  },
  {
   "cell_type": "code",
   "execution_count": 23,
   "id": "b43f91e2",
   "metadata": {},
   "outputs": [
    {
     "name": "stdout",
     "output_type": "stream",
     "text": [
      "Sum of raw data missing values: 205368\n"
     ]
    }
   ],
   "source": [
    "missing_sum = data.isna().sum().sum()\n",
    "print(\"Sum of raw data missing values:\", missing_sum)"
   ]
  },
  {
   "cell_type": "code",
   "execution_count": 24,
   "id": "471f9cce",
   "metadata": {},
   "outputs": [
    {
     "data": {
      "text/html": [
       "<div>\n",
       "<style scoped>\n",
       "    .dataframe tbody tr th:only-of-type {\n",
       "        vertical-align: middle;\n",
       "    }\n",
       "\n",
       "    .dataframe tbody tr th {\n",
       "        vertical-align: top;\n",
       "    }\n",
       "\n",
       "    .dataframe thead th {\n",
       "        text-align: right;\n",
       "    }\n",
       "</style>\n",
       "<table border=\"1\" class=\"dataframe\">\n",
       "  <thead>\n",
       "    <tr style=\"text-align: right;\">\n",
       "      <th></th>\n",
       "      <th>MM_A_9</th>\n",
       "      <th>MM_A_12</th>\n",
       "      <th>MM_A_17</th>\n",
       "      <th>MM_A_43</th>\n",
       "      <th>MM_A_44</th>\n",
       "      <th>MM_A_56</th>\n",
       "      <th>MM_A_62</th>\n",
       "      <th>MM_A_63</th>\n",
       "      <th>MM_A_65</th>\n",
       "      <th>MM_A_66</th>\n",
       "      <th>...</th>\n",
       "      <th>MM_DPB1_57</th>\n",
       "      <th>MM_DPB1_65</th>\n",
       "      <th>MM_DPB1_69</th>\n",
       "      <th>MM_DPB1_76</th>\n",
       "      <th>MM_DPB1_84</th>\n",
       "      <th>MM_DPB1_85</th>\n",
       "      <th>MM_DPB1_86</th>\n",
       "      <th>MM_DPB1_87</th>\n",
       "      <th>graftyrs</th>\n",
       "      <th>grf_fail</th>\n",
       "    </tr>\n",
       "  </thead>\n",
       "  <tbody>\n",
       "    <tr>\n",
       "      <th>0</th>\n",
       "      <td>1.0</td>\n",
       "      <td>0.0</td>\n",
       "      <td>0.0</td>\n",
       "      <td>0.0</td>\n",
       "      <td>0.0</td>\n",
       "      <td>0.0</td>\n",
       "      <td>1.0</td>\n",
       "      <td>0.0</td>\n",
       "      <td>0.0</td>\n",
       "      <td>1.0</td>\n",
       "      <td>...</td>\n",
       "      <td>0.0</td>\n",
       "      <td>0.0</td>\n",
       "      <td>0.0</td>\n",
       "      <td>0.0</td>\n",
       "      <td>0.0</td>\n",
       "      <td>0.0</td>\n",
       "      <td>0.0</td>\n",
       "      <td>0.0</td>\n",
       "      <td>2.992553</td>\n",
       "      <td>1</td>\n",
       "    </tr>\n",
       "    <tr>\n",
       "      <th>1</th>\n",
       "      <td>2.0</td>\n",
       "      <td>0.0</td>\n",
       "      <td>0.0</td>\n",
       "      <td>0.0</td>\n",
       "      <td>0.0</td>\n",
       "      <td>0.0</td>\n",
       "      <td>2.0</td>\n",
       "      <td>1.0</td>\n",
       "      <td>0.0</td>\n",
       "      <td>2.0</td>\n",
       "      <td>...</td>\n",
       "      <td>1.0</td>\n",
       "      <td>0.0</td>\n",
       "      <td>0.0</td>\n",
       "      <td>0.0</td>\n",
       "      <td>0.0</td>\n",
       "      <td>0.0</td>\n",
       "      <td>0.0</td>\n",
       "      <td>0.0</td>\n",
       "      <td>11.003724</td>\n",
       "      <td>0</td>\n",
       "    </tr>\n",
       "    <tr>\n",
       "      <th>2</th>\n",
       "      <td>1.0</td>\n",
       "      <td>0.0</td>\n",
       "      <td>0.0</td>\n",
       "      <td>0.0</td>\n",
       "      <td>0.0</td>\n",
       "      <td>1.0</td>\n",
       "      <td>2.0</td>\n",
       "      <td>0.0</td>\n",
       "      <td>0.0</td>\n",
       "      <td>0.0</td>\n",
       "      <td>...</td>\n",
       "      <td>1.0</td>\n",
       "      <td>1.0</td>\n",
       "      <td>1.0</td>\n",
       "      <td>0.0</td>\n",
       "      <td>1.0</td>\n",
       "      <td>1.0</td>\n",
       "      <td>1.0</td>\n",
       "      <td>1.0</td>\n",
       "      <td>11.003724</td>\n",
       "      <td>0</td>\n",
       "    </tr>\n",
       "  </tbody>\n",
       "</table>\n",
       "<p>3 rows × 260 columns</p>\n",
       "</div>"
      ],
      "text/plain": [
       "   MM_A_9  MM_A_12  MM_A_17  MM_A_43  MM_A_44  MM_A_56  MM_A_62  MM_A_63  \\\n",
       "0     1.0      0.0      0.0      0.0      0.0      0.0      1.0      0.0   \n",
       "1     2.0      0.0      0.0      0.0      0.0      0.0      2.0      1.0   \n",
       "2     1.0      0.0      0.0      0.0      0.0      1.0      2.0      0.0   \n",
       "\n",
       "   MM_A_65  MM_A_66  ...  MM_DPB1_57  MM_DPB1_65  MM_DPB1_69  MM_DPB1_76  \\\n",
       "0      0.0      1.0  ...         0.0         0.0         0.0         0.0   \n",
       "1      0.0      2.0  ...         1.0         0.0         0.0         0.0   \n",
       "2      0.0      0.0  ...         1.0         1.0         1.0         0.0   \n",
       "\n",
       "   MM_DPB1_84  MM_DPB1_85  MM_DPB1_86  MM_DPB1_87   graftyrs  grf_fail  \n",
       "0         0.0         0.0         0.0         0.0   2.992553         1  \n",
       "1         0.0         0.0         0.0         0.0  11.003724         0  \n",
       "2         1.0         1.0         1.0         1.0  11.003724         0  \n",
       "\n",
       "[3 rows x 260 columns]"
      ]
     },
     "execution_count": 24,
     "metadata": {},
     "output_type": "execute_result"
    }
   ],
   "source": [
    "data.head(3)"
   ]
  },
  {
   "cell_type": "code",
   "execution_count": 27,
   "id": "09f514ac",
   "metadata": {},
   "outputs": [
    {
     "name": "stdout",
     "output_type": "stream",
     "text": [
      "258\n"
     ]
    }
   ],
   "source": [
    "missing_values_count = data.isnull().sum()\n",
    "\n",
    "# Count number of columns with more than 0 missing values\n",
    "columns_with_missing_values = (missing_values_count > 0).sum()\n",
    "print(columns_with_missing_values)"
   ]
  },
  {
   "cell_type": "code",
   "execution_count": 25,
   "id": "08923421",
   "metadata": {},
   "outputs": [
    {
     "name": "stdout",
     "output_type": "stream",
     "text": [
      "Remaining A:45\n",
      "Remaining B:45\n",
      "Remaining C:33\n",
      "Remaining DRB1:30\n",
      "Remaining DRB345:31\n",
      "Remaining DQA1:24\n",
      "Remaining DQB1:29\n",
      "Remaining DPA1:5\n",
      "Remaining DPB1:16\n"
     ]
    }
   ],
   "source": [
    "for locus in locus_list:\n",
    "    count = sum(['MM_'+str(locus) in col for col in data.columns])\n",
    "    print('Remaining '+str(locus)+\":\"+str(count))"
   ]
  },
  {
   "cell_type": "markdown",
   "id": "02f5058a",
   "metadata": {},
   "source": [
    "***\n",
    "## Run FIBERS (Training)"
   ]
  },
  {
   "cell_type": "code",
   "execution_count": null,
   "id": "0e9e982b",
   "metadata": {},
   "outputs": [],
   "source": [
    "#Load Manual Bin Population to Partially initialize Bin Population\n",
    "pop_path = 'C:/Users/ryanu/Desktop/HLA/Imp1/HLA_Paper_Pop_Init.csv'\n",
    "pop = pd.read_csv(pop_path,low_memory=False)"
   ]
  },
  {
   "cell_type": "code",
   "execution_count": null,
   "id": "35198658",
   "metadata": {},
   "outputs": [],
   "source": [
    "\n",
    "fibers = FIBERS(outcome_label=\"graftyrs\", outcome_type=\"survival\", iterations=50, pop_size=50, tournament_prop=0.5, crossover_prob=0.5, min_mutation_prob=0.1, max_mutation_prob=0.5, merge_prob=0.1, \n",
    "                new_gen=0.5, elitism=0.1, diversity_pressure=5, min_bin_size=1, max_bin_size=None, max_bin_init_size=10, fitness_metric=\"log_rank_residuals\", log_rank_weighting=None, censor_label=\"grf_fail\", \n",
    "                group_strata_min=0.2, penalty=0.5, group_thresh=None, min_thresh=0, max_thresh=5, int_thresh=True, thresh_evolve_prob=0.5, manual_bin_init=pop, covariates=covariates, report=[0,10,20,30,40], \n",
    "                random_seed=None,verbose=False)\n",
    "\n",
    "fibers = fibers.fit(data)\n"
   ]
  },
  {
   "cell_type": "markdown",
   "id": "17672973",
   "metadata": {},
   "source": [
    "### Report Run Time"
   ]
  },
  {
   "cell_type": "code",
   "execution_count": null,
   "id": "63dcd108",
   "metadata": {},
   "outputs": [],
   "source": [
    "# Report run time\n",
    "print(fibers.elapsed_time)"
   ]
  },
  {
   "cell_type": "markdown",
   "id": "3304fb7c",
   "metadata": {},
   "source": [
    "***\n",
    "## Top (or Target) Bin Examination\n",
    "### Specify Bin to Examine"
   ]
  },
  {
   "cell_type": "code",
   "execution_count": null,
   "id": "b29f6298",
   "metadata": {},
   "outputs": [],
   "source": [
    "bin_index = 0 # lowest index is the bin with the highest fitness (only reports the bin ranked at the top, despite possible fitness ties for top)"
   ]
  },
  {
   "cell_type": "markdown",
   "id": "a58c8d7a",
   "metadata": {},
   "source": [
    "### Get Bin Details"
   ]
  },
  {
   "cell_type": "code",
   "execution_count": null,
   "id": "18f92bfa",
   "metadata": {},
   "outputs": [],
   "source": [
    "fibers.get_bin_report(bin_index)"
   ]
  },
  {
   "cell_type": "markdown",
   "id": "5b0cda67",
   "metadata": {},
   "source": [
    "### Plot: Kaplan Meier Survival Curves For Each Group Defined by the Target Bin"
   ]
  },
  {
   "cell_type": "code",
   "execution_count": null,
   "id": "31b163fd",
   "metadata": {},
   "outputs": [],
   "source": [
    "fibers.get_kaplan_meir(data,bin_index,save=True,output_folder=output_folder,data_name=data_name)"
   ]
  },
  {
   "cell_type": "markdown",
   "id": "a621b584",
   "metadata": {},
   "source": [
    "### Evaluate Target Bin Using Cox Proportional Hazard Model (adjusting for covariates)"
   ]
  },
  {
   "cell_type": "code",
   "execution_count": null,
   "id": "12bb0a25",
   "metadata": {},
   "outputs": [],
   "source": [
    "summary = fibers.get_cox_prop_hazard(data, bin_index)\n",
    "bin_hr = summary['exp(coef)'].iloc[0]\n",
    "bin_low_CI = summary['exp(coef) lower 95%'].iloc[0]\n",
    "bin_upper_CI = summary['exp(coef) upper 95%'].iloc[0]\n",
    "bin_p_val = summary['p'].iloc[0]\n",
    "print(\"Bin HR: \"+str(bin_hr)+\" (\"+str(bin_low_CI)+\"-\"+str(bin_upper_CI)+\")\")\n",
    "print(\"Bin HR p-value: \"+str(bin_p_val))\n",
    "summary.to_csv(output_folder+'/'+'Cox_PH_'+str(bin_index)+'_'+data_name+'.csv', index=False)\n",
    "summary"
   ]
  },
  {
   "cell_type": "markdown",
   "id": "c5a71881",
   "metadata": {},
   "source": [
    "### Check and View Any Top Bin Ties"
   ]
  },
  {
   "cell_type": "code",
   "execution_count": null,
   "id": "47ea14ab",
   "metadata": {},
   "outputs": [],
   "source": [
    "fibers.report_ties()"
   ]
  },
  {
   "cell_type": "markdown",
   "id": "7b72d504",
   "metadata": {},
   "source": [
    "***\n",
    "## Bin Population Examination\n",
    "### Plot: Basic Bin Population Heatmap"
   ]
  },
  {
   "cell_type": "code",
   "execution_count": null,
   "id": "24d7b54c",
   "metadata": {},
   "outputs": [],
   "source": [
    "fibers.get_bin_population_heatmap_plot(save=True,output_folder=output_folder,data_name=data_name)"
   ]
  },
  {
   "cell_type": "markdown",
   "id": "eed28393",
   "metadata": {},
   "source": [
    "### Plot: Custom Bin Population Heatmap"
   ]
  },
  {
   "cell_type": "code",
   "execution_count": null,
   "id": "859d2e78",
   "metadata": {},
   "outputs": [],
   "source": [
    "group_names=[\"A\", \"B\", \"C\", \"DQB\", \"DRB\"]\n",
    "legend_group_info = ['Not in Bin','HLA-A','HLA-B', 'HLA-C','HLA-DQB','HLA-DRB'] #2 default colors first followed by additional color descriptions in legend\n",
    "color_features = [['B1', 'B10', 'B100', 'B101', 'B102', 'B103', 'B104', 'B105', 'B106', 'B107', 'B108', 'B109', 'B11', 'B110', 'B111', 'B112', 'B113', 'B114', 'B115', 'B116', 'B117', 'B118', 'B119', 'B12', 'B120', 'B121', 'B122', 'B123', 'B124', 'B125', 'B126', 'B127', 'B128', 'B129', 'B13', 'B130', 'B131', 'B132', 'B133', 'B134', 'B135', 'B136', 'B137', 'B138', 'B139', 'B14', 'B140', 'B141', 'B142', 'B143', 'B144', 'B145', 'B146', 'B147', 'B148', 'B149', 'B15', 'B150', 'B151', 'B152', 'B153', 'B154', 'B155', 'B156', 'B157', 'B158', 'B159', 'B16', 'B160', 'B161', 'B162', 'B163', 'B164', 'B165', 'B166', 'B167', 'B168', 'B169', 'B17', 'B170', 'B171', 'B172', 'B173', 'B174', 'B175', 'B176', 'B177', 'B178', 'B179', 'B18', 'B180', 'B181', 'B182', 'B183', 'B184', 'B185', 'B186', 'B187', 'B188', 'B189', 'B19', 'B190', 'B191', 'B192', 'B193', 'B194', 'B2', 'B20', 'B21', 'B22', 'B23', 'B24', 'B25', 'B26', 'B27', 'B28', 'B29', 'B3', 'B30', 'B31', 'B32', 'B33', 'B34', 'B35', 'B36', 'B37', 'B38', 'B39', 'B4', 'B40', 'B41', 'B42', 'B43', 'B44', 'B45', 'B46', 'B47', 'B48', 'B49', 'B5', 'B50', 'B51', 'B52', 'B53', 'B54', 'B55', 'B56', 'B57', 'B58', 'B59', 'B6', 'B60', 'B61', 'B62', 'B63', 'B64', 'B65', 'B66', 'B67', 'B68', 'B69', 'B7', 'B70', 'B71', 'B72', 'B73', 'B74', 'B75', 'B76', 'B77', 'B78', 'B79', 'B8', 'B80', 'B81', 'B82', 'B83', 'B84', 'B85', 'B86', 'B87', 'B88', 'B89', 'B9', 'B90', 'B91', 'B92', 'B93', 'B94', 'B95', 'B96', 'B97', 'B98', 'B99'],['C1', 'C10', 'C100', 'C101', 'C102', 'C103', 'C104', 'C105', 'C106', 'C107', 'C108', 'C109', 'C11', 'C110', 'C111', 'C112', 'C113', 'C114', 'C115', 'C116', 'C117', 'C118', 'C119', 'C12', 'C120', 'C121', 'C122', 'C123', 'C124', 'C125', 'C126', 'C127', 'C128', 'C129', 'C13', 'C130', 'C131', 'C132', 'C133', 'C134', 'C135', 'C136', 'C137', 'C138', 'C139', 'C14', 'C140', 'C141', 'C142', 'C143', 'C144', 'C145', 'C146', 'C147', 'C148', 'C149', 'C15', 'C150', 'C151', 'C152', 'C153', 'C154', 'C155', 'C156', 'C157', 'C158', 'C159', 'C16', 'C160', 'C161', 'C162', 'C163', 'C164', 'C165', 'C166', 'C167', 'C168', 'C169', 'C17', 'C170', 'C171', 'C172', 'C173', 'C174', 'C175', 'C176', 'C177', 'C178', 'C179', 'C18', 'C180', 'C181', 'C182', 'C183', 'C184', 'C185', 'C186', 'C187', 'C188', 'C189', 'C19', 'C190', 'C191', 'C192', 'C193', 'C194', 'C195', 'C196', 'C197', 'C198', 'C199', 'C2', 'C20', 'C200', 'C201', 'C202', 'C203', 'C204', 'C205', 'C21', 'C22', 'C23', 'C24', 'C25', 'C26', 'C27', 'C28', 'C29', 'C3', 'C30', 'C31', 'C32', 'C33', 'C34', 'C35', 'C36', 'C37', 'C38', 'C39', 'C4', 'C40', 'C41', 'C42', 'C43', 'C44', 'C45', 'C46', 'C47', 'C48', 'C49', 'C5', 'C50', 'C51', 'C52', 'C53', 'C54', 'C55', 'C56', 'C57', 'C58', 'C59', 'C6', 'C60', 'C61', 'C62', 'C63', 'C64', 'C65', 'C66', 'C67', 'C68', 'C69', 'C7', 'C70', 'C71', 'C72', 'C73', 'C74', 'C75', 'C76', 'C77', 'C78', 'C79', 'C8', 'C80', 'C81', 'C82', 'C83', 'C84', 'C85', 'C86', 'C87', 'C88', 'C89', 'C9', 'C90', 'C91', 'C92', 'C93', 'C94', 'C95', 'C96', 'C97', 'C98', 'C99'],['DQB11', 'DQB110', 'DQB111', 'DQB112', 'DQB113', 'DQB114', 'DQB115', 'DQB116', 'DQB117', 'DQB118', 'DQB119', 'DQB12', 'DQB120', 'DQB121', 'DQB122', 'DQB123', 'DQB124', 'DQB125', 'DQB126', 'DQB127', 'DQB128', 'DQB129', 'DQB13', 'DQB130', 'DQB131', 'DQB132', 'DQB133', 'DQB134', 'DQB135', 'DQB136', 'DQB137', 'DQB138', 'DQB139', 'DQB14', 'DQB140', 'DQB141', 'DQB142', 'DQB143', 'DQB144', 'DQB145', 'DQB146', 'DQB147', 'DQB148', 'DQB149', 'DQB15', 'DQB150', 'DQB151', 'DQB152', 'DQB153', 'DQB154', 'DQB155', 'DQB156', 'DQB157', 'DQB158', 'DQB159', 'DQB16', 'DQB160', 'DQB161', 'DQB162', 'DQB163', 'DQB164', 'DQB165', 'DQB166', 'DQB167', 'DQB168', 'DQB169', 'DQB17', 'DQB170', 'DQB171', 'DQB172', 'DQB173', 'DQB174', 'DQB175', 'DQB176', 'DQB177', 'DQB178', 'DQB179', 'DQB18', 'DQB180', 'DQB181', 'DQB182', 'DQB183', 'DQB184', 'DQB185', 'DQB186', 'DQB187', 'DQB188', 'DQB189', 'DQB19', 'DQB190', 'DQB191', 'DQB192', 'DQB193', 'DQB194'],[ 'DRB11', 'DRB110', 'DRB111', 'DRB112', 'DRB113', 'DRB114', 'DRB115', 'DRB116', 'DRB117', 'DRB118', 'DRB119', 'DRB12', 'DRB120', 'DRB121', 'DRB122', 'DRB123', 'DRB124', 'DRB125', 'DRB126', 'DRB127', 'DRB128', 'DRB129', 'DRB13', 'DRB130', 'DRB131', 'DRB132', 'DRB133', 'DRB134', 'DRB135', 'DRB136', 'DRB137', 'DRB138', 'DRB139', 'DRB14', 'DRB140', 'DRB141', 'DRB142', 'DRB143', 'DRB144', 'DRB145', 'DRB146', 'DRB147', 'DRB148', 'DRB149', 'DRB15', 'DRB150', 'DRB151', 'DRB152', 'DRB153', 'DRB154', 'DRB155', 'DRB156', 'DRB157', 'DRB158', 'DRB159', 'DRB16', 'DRB160', 'DRB161', 'DRB162', 'DRB163', 'DRB164', 'DRB165', 'DRB166', 'DRB167', 'DRB168', 'DRB169', 'DRB17', 'DRB170', 'DRB171', 'DRB172', 'DRB173', 'DRB174', 'DRB175', 'DRB176', 'DRB177', 'DRB178', 'DRB179', 'DRB18', 'DRB180', 'DRB181', 'DRB182', 'DRB183', 'DRB184', 'DRB185', 'DRB186', 'DRB187', 'DRB188', 'DRB189', 'DRB19', 'DRB190', 'DRB191', 'DRB192', 'DRB193', 'DRB194']]\n",
    "colors = [(1, 0, 0),(0.3,1,0.2),(1, 0.5, 0),(1,0.5,1)] # blue,red,green,orange,pink ---Alternatively orange (1, 0.5, 0)\n",
    "default_colors = [(.95, .95, 1),(0, 0, 1)] #very light blue and blue\n",
    "max_bins = 100\n",
    "max_features = 100\n",
    "\n",
    "fibers.get_custom_bin_population_heatmap_plot(group_names,legend_group_info,color_features,colors,default_colors,max_bins,max_features,save=True,output_folder=output_folder,data_name=data_name)"
   ]
  },
  {
   "cell_type": "markdown",
   "id": "5a47d6f1",
   "metadata": {},
   "source": [
    "### Plot: Bin Population Pareto Front\n",
    "In plot, dot colors indicate the 'group strata prop' of the given bin, and dot size is relative to the 'group threshold of that bin'."
   ]
  },
  {
   "cell_type": "code",
   "execution_count": null,
   "id": "3a662418",
   "metadata": {},
   "outputs": [],
   "source": [
    "fibers.get_pareto_plot(save=True,output_folder=output_folder,data_name=data_name)"
   ]
  },
  {
   "cell_type": "markdown",
   "id": "848d87c6",
   "metadata": {},
   "source": [
    "### Plot: Estimated Feature Tracking Scores\n",
    "These scores accumulate throughout the training process, and do not nesessarily reflect feature importance of individual bins or the final bin population."
   ]
  },
  {
   "cell_type": "code",
   "execution_count": null,
   "id": "9746c05d",
   "metadata": {},
   "outputs": [],
   "source": [
    "fibers.get_feature_tracking_plot(max_features=40,save=True,output_folder=output_folder,data_name=data_name)"
   ]
  },
  {
   "cell_type": "markdown",
   "id": "3888ae5d",
   "metadata": {},
   "source": [
    "### Plot: Dataset Covariate Residuals (if applicable)"
   ]
  },
  {
   "cell_type": "code",
   "execution_count": null,
   "id": "da5aa741",
   "metadata": {},
   "outputs": [],
   "source": [
    "if fibers.fitness_metric == 'residuals' or fibers.fitness_metric == 'log_rank_residuals':  \n",
    "    fibers.get_residuals_histogram(save=True,output_folder=output_folder,data_name=data_name)"
   ]
  },
  {
   "cell_type": "markdown",
   "id": "a45ff2b1",
   "metadata": {},
   "source": [
    "### Plot: Bin Log-Rank Scores Vs. Residuals Scores (if applicable)\n",
    "In plot, dot colors indicate the 'group strata prop' of the given bin, and dot size is relative to the 'group threshold of that bin'."
   ]
  },
  {
   "cell_type": "code",
   "execution_count": null,
   "id": "674e49cf",
   "metadata": {},
   "outputs": [],
   "source": [
    "if fibers.fitness_metric == 'log_rank_residuals':\n",
    "    fibers.get_log_rank_residuals_plot(save=True,output_folder=output_folder,data_name=data_name)"
   ]
  },
  {
   "cell_type": "markdown",
   "id": "9d413ace",
   "metadata": {},
   "source": [
    "###  Evaluate All Bins in Population using Cox PH Model (Can be slow)"
   ]
  },
  {
   "cell_type": "code",
   "execution_count": null,
   "id": "338c76fb",
   "metadata": {},
   "outputs": [],
   "source": [
    "fibers.calculate_cox_prop_hazards(data)"
   ]
  },
  {
   "cell_type": "markdown",
   "id": "6cc0ab2f",
   "metadata": {},
   "source": [
    "### Plot: Bin Log-Rank Scores Vs. Adjusted Hazard Ratios (if applicable)\n",
    "In plot, dot colors indicate the 'group strata prop' of the given bin, and dot size is relative to the 'group threshold of that bin'."
   ]
  },
  {
   "cell_type": "code",
   "execution_count": null,
   "id": "f3b22e10",
   "metadata": {},
   "outputs": [],
   "source": [
    "if fibers.fitness_metric == 'log_rank' or fibers.fitness_metric == 'log_rank_residuals':  \n",
    "    fibers.get_log_rank_adj_HR_plot(save=True,output_folder=output_folder,data_name=data_name)"
   ]
  },
  {
   "cell_type": "markdown",
   "id": "5c503f87",
   "metadata": {},
   "source": [
    "### Plot: Bin Adjusted Hazard Ratios Vs. Residuals Scores (if applicable)\n",
    "In plot, dot colors indicate the 'group strata prop' of the given bin, and dot size is relative to the 'group threshold of that bin'."
   ]
  },
  {
   "cell_type": "code",
   "execution_count": null,
   "id": "7215bdad",
   "metadata": {},
   "outputs": [],
   "source": [
    "if fibers.fitness_metric == 'residuals' or fibers.fitness_metric == 'log_rank_residuals':   \n",
    "    fibers.get_adj_HR_residuals_plot(save=True,output_folder=output_folder,data_name=data_name)"
   ]
  },
  {
   "cell_type": "markdown",
   "id": "d4ae6124",
   "metadata": {},
   "source": [
    "### Plot: Bin Adjusted Hazard Ratios Vs. Log Rank * Residuals Scores (if applicable)\n",
    "In plot, dot colors indicate the 'group strata prop' of the given bin, and dot size is relative to the 'group threshold of that bin'."
   ]
  },
  {
   "cell_type": "code",
   "execution_count": null,
   "id": "d0b0d4d7",
   "metadata": {},
   "outputs": [],
   "source": [
    "if fibers.fitness_metric == 'log_rank_residuals':   \n",
    "    fibers.get_adj_HR_metric_product_plot(save=True,output_folder=output_folder,data_name=data_name)"
   ]
  },
  {
   "cell_type": "markdown",
   "id": "77d47075",
   "metadata": {},
   "source": [
    "***\n",
    "## History of Bin Evolution (Top Bin Each Generation)\n",
    "### Plot: Fitness of top bin across training iterations"
   ]
  },
  {
   "cell_type": "code",
   "execution_count": null,
   "id": "72c4ccf6",
   "metadata": {},
   "outputs": [],
   "source": [
    "fibers.get_fitness_progress_plot()"
   ]
  },
  {
   "cell_type": "markdown",
   "id": "0d3a6ef9",
   "metadata": {},
   "source": [
    "### Plot: Scoring Metric and Pre-Fitness of top bin across training iterations"
   ]
  },
  {
   "cell_type": "code",
   "execution_count": null,
   "id": "5b479d47",
   "metadata": {},
   "outputs": [],
   "source": [
    "fibers.get_perform_progress_plot(save=True,output_folder=output_folder,data_name=data_name)"
   ]
  },
  {
   "cell_type": "markdown",
   "id": "cb44f5a9",
   "metadata": {},
   "source": [
    "### Plot: Normalized Top-Bin Stats Across Training Iterations"
   ]
  },
  {
   "cell_type": "code",
   "execution_count": null,
   "id": "f08bda78",
   "metadata": {},
   "outputs": [],
   "source": [
    "fibers.get_misc_progress_plot(save=True,output_folder=output_folder,data_name=data_name)"
   ]
  },
  {
   "cell_type": "markdown",
   "id": "257a57bf",
   "metadata": {},
   "source": [
    "### View Top Bin Information Across all Iterations/Generations"
   ]
  },
  {
   "cell_type": "code",
   "execution_count": null,
   "id": "4fc55a2b",
   "metadata": {},
   "outputs": [],
   "source": [
    "fibers.perform_track_df"
   ]
  },
  {
   "cell_type": "markdown",
   "id": "72cbdda9",
   "metadata": {},
   "source": [
    "***\n",
    "## Save Bin Population\n",
    "### Save Bin Population Details to CSV"
   ]
  },
  {
   "cell_type": "code",
   "execution_count": null,
   "id": "45e5b63b",
   "metadata": {},
   "outputs": [],
   "source": [
    "pop_df = fibers.get_pop()\n",
    "pop_df.to_csv(output_folder+'/'+'Pop_'+data_name+'.csv', index=False)"
   ]
  },
  {
   "cell_type": "markdown",
   "id": "2b2bdbf6",
   "metadata": {},
   "source": [
    "### Pickle Trained FIBERS Object (For Future Use)"
   ]
  },
  {
   "cell_type": "code",
   "execution_count": null,
   "id": "6dca694e",
   "metadata": {},
   "outputs": [],
   "source": [
    "with open(output_folder+'/'+data_name+'.pickle', 'wb') as f:\n",
    "    pickle.dump(fibers, f)"
   ]
  },
  {
   "cell_type": "markdown",
   "id": "66e262d3",
   "metadata": {},
   "source": [
    "***\n",
    "## Transforming Bins Into New Features (i.e. Feature Learning) and Save as New CSV Files\n",
    "### Transform Bins Using Total Sums (i.e. Respective Bin Thresholds Not Applied)"
   ]
  },
  {
   "cell_type": "code",
   "execution_count": null,
   "id": "ddb83540",
   "metadata": {},
   "outputs": [],
   "source": [
    "tdf = fibers.transform(data,full_sums=True)\n",
    "tdf.to_csv(output_folder+'/'+'Transformed_FullSums_'+data_name+'.csv', index=False)\n",
    "tdf"
   ]
  },
  {
   "cell_type": "markdown",
   "id": "45640394",
   "metadata": {},
   "source": [
    "### Transform Bins Using Respective Bin Threshold (i.e. 0 = At/Under Threshold Group and 1 = Over Threshold Group)"
   ]
  },
  {
   "cell_type": "code",
   "execution_count": null,
   "id": "d1ef5951",
   "metadata": {},
   "outputs": [],
   "source": [
    "tdf = fibers.transform(data,full_sums=False)\n",
    "tdf.to_csv(output_folder+'/'+'Transformed_Threshold'+data_name+'.csv', index=False)\n",
    "tdf"
   ]
  },
  {
   "cell_type": "markdown",
   "id": "f59461b1",
   "metadata": {},
   "source": [
    "***\n",
    "## Open Pickled FIBERS Object (Example)"
   ]
  },
  {
   "cell_type": "code",
   "execution_count": null,
   "id": "2dcc2c62",
   "metadata": {},
   "outputs": [],
   "source": [
    "with open(output_folder+'/'+data_name+'.pickle', 'rb') as f:\n",
    "    fibers = pickle.load(f)\n",
    "\n",
    "fibers.get_bin_report(bin_index)"
   ]
  }
 ],
 "metadata": {
  "kernelspec": {
   "display_name": "Python 3 (ipykernel)",
   "language": "python",
   "name": "python3"
  },
  "language_info": {
   "codemirror_mode": {
    "name": "ipython",
    "version": 3
   },
   "file_extension": ".py",
   "mimetype": "text/x-python",
   "name": "python",
   "nbconvert_exporter": "python",
   "pygments_lexer": "ipython3",
   "version": "3.8.18"
  }
 },
 "nbformat": 4,
 "nbformat_minor": 5
}
