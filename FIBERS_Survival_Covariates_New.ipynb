{
 "cells": [
  {
   "cell_type": "markdown",
   "id": "4250a8c3",
   "metadata": {},
   "source": [
    "# scikit-FIBERS: Demonstration Notebook\n",
    "This notebook is set up as a demonstration for running scikit-FIBERS."
   ]
  },
  {
   "cell_type": "markdown",
   "id": "8edd8d78",
   "metadata": {},
   "source": [
    "***\n",
    "## Imports:"
   ]
  },
  {
   "cell_type": "code",
   "execution_count": 1,
   "id": "e116475e",
   "metadata": {},
   "outputs": [
    {
     "name": "stdout",
     "output_type": "stream",
     "text": [
      "/Users/bling/Documents/FIBERS-PURM-2024/FIBERS_working_area_pareto\n"
     ]
    }
   ],
   "source": [
    "import os\n",
    "import pickle\n",
    "from sklearn.metrics import classification_report\n",
    "from src.skfibers.fibers import FIBERS\n",
    "#from src.skfibers.experiments.survival_sim_simple import survival_data_simulation\n",
    "from src.skfibers.experiments.survival_covariates_sim import survival_data_simulation_covariates\n",
    "from src.skfibers.experiments.survival_categorical_covariates_sim import survival_data_simulation_categorical_covariates\n",
    "current_working_directory = os.getcwd()\n",
    "print(current_working_directory)"
   ]
  },
  {
   "cell_type": "markdown",
   "id": "5f76d492",
   "metadata": {},
   "source": [
    "***\n",
    "## Set Up Local Run Parameters\n"
   ]
  },
  {
   "cell_type": "code",
   "execution_count": 2,
   "id": "6ebd4719",
   "metadata": {},
   "outputs": [],
   "source": [
    "local_save = False\n",
    "folder_path = './FIBERS_output'\n",
    "if not os.path.exists(folder_path):\n",
    "        os.makedirs(folder_path)\n",
    "if local_save:\n",
    "    output_folder = 'local_output'\n",
    "else:\n",
    "    output_folder = folder_path"
   ]
  },
  {
   "cell_type": "markdown",
   "id": "f55328e4",
   "metadata": {},
   "source": [
    "***\n",
    "## Generate Simulated Survial Data"
   ]
  },
  {
   "cell_type": "code",
   "execution_count": 3,
   "id": "61f39adf",
   "metadata": {},
   "outputs": [
    {
     "name": "stdout",
     "output_type": "stream",
     "text": [
      "6197\n"
     ]
    }
   ],
   "source": [
    "data_name = 'example_dataset_covariates'\n",
    "df, data = survival_data_simulation_categorical_covariates(instances=10000, total_features=100,predictive_features=10,feature_frequency_range=(0.3, 0.5), random_seed=35, threshold=3)\n",
    "df.to_csv(output_folder+'/'+data_name+'.csv', index=False)\n",
    "#data = pd.read_csv(output_folder+'/'+data_name+'.csv')\n",
    "#true_risk_group = data[['TrueRiskGroup']]\n",
    "#data = data.drop('TrueRiskGroup', axis=1)\n",
    "\n",
    "#value_counts = true_risk_group['TrueRiskGroup'].value_counts()\n",
    "#print(value_counts)\n",
    "\n",
    "covariates = ['AFRICAN-AMERICAN', 'ASIAN', 'HISPANIC', 'OTHER', 'WHITE', 'FDFR', 'FDMR', 'MDMR', 'MDFR'] "
   ]
  },
  {
   "cell_type": "code",
   "execution_count": null,
   "id": "3ec35631",
   "metadata": {},
   "outputs": [],
   "source": [
    "import numpy as np\n",
    "import pandas as pd\n",
    "\n",
    "threshold = 3\n",
    "expected_asian = []\n",
    "expected_white = []\n",
    "expected_african_american = []\n",
    "expected_hispanic = []\n",
    "expected_other = []\n",
    "\n",
    "expected_mdmr = []\n",
    "expected_fdfr = []\n",
    "expected_mdfr = []\n",
    "expected_fdmr = []\n",
    "\n",
    "for x in range(50):\n",
    "    data_name = 'example_dataset_covariates'\n",
    "    df, data = survival_data_simulation_categorical_covariates(instances=10000, total_features=100,predictive_features=10,feature_frequency_range=(0.3, 0.5), random_seed=x, threshold=3)\n",
    "    df.to_csv(output_folder+'/'+data_name+'.csv', index=False)\n",
    "    predictive_feature_list = []\n",
    "    for x in range(10):\n",
    "        name = 'P_' + str(x + 1)\n",
    "        predictive_feature_list.append(name)\n",
    "\n",
    "    outcome_label = \"Duration\"\n",
    "    feature_df = df.loc[:,predictive_feature_list]\n",
    "    predictive_feature_sums = feature_df[predictive_feature_list].sum(axis=1)\n",
    "    real_sum_df = pd.DataFrame({'real_feature_sum': predictive_feature_sums})\n",
    "    new_df = pd.concat([df, real_sum_df],axis=1)\n",
    "\n",
    "    low_df = new_df[new_df['real_feature_sum'] <= threshold]\n",
    "\n",
    "    real_low_african_american = low_df[low_df['AFRICAN-AMERICAN'] == 1]\n",
    "    real_low_aa_ct = len(real_low_african_american[outcome_label].to_list())\n",
    "    expected_african_american.append(real_low_aa_ct)\n",
    "\n",
    "    real_low_white = low_df[low_df['WHITE'] == 1]\n",
    "    real_low_white_ct = len(real_low_white[outcome_label].to_list())\n",
    "    expected_white.append(real_low_white_ct)\n",
    "\n",
    "    real_low_asian = low_df[low_df['ASIAN'] == 1]\n",
    "    real_low_asian_ct = len(real_low_asian[outcome_label].to_list())\n",
    "    expected_asian.append(real_low_asian_ct)\n",
    "\n",
    "    real_low_hispanic = low_df[low_df['HISPANIC'] == 1]\n",
    "    real_low_hispanic_ct = len(real_low_hispanic[outcome_label].to_list())\n",
    "    expected_hispanic.append(real_low_hispanic_ct)\n",
    "\n",
    "    real_low_other = low_df[low_df['OTHER'] == 1]\n",
    "    real_low_other_ct = len(real_low_other[outcome_label].to_list())\n",
    "    expected_other.append(real_low_other_ct)\n",
    "\n",
    "    real_low_mdmr = low_df[low_df['MDMR'] == 1]\n",
    "    real_low_mdmr_ct = len(real_low_mdmr[outcome_label].to_list())\n",
    "    expected_mdmr.append(real_low_mdmr_ct)\n",
    "\n",
    "    real_low_fdfr = low_df[low_df['FDFR'] == 1]\n",
    "    real_low_fdfr_ct = len(real_low_fdfr[outcome_label].to_list())\n",
    "    expected_fdfr.append(real_low_fdfr_ct)\n",
    "\n",
    "    real_low_fdmr = low_df[low_df['FDMR'] == 1]\n",
    "    real_low_fdmr_ct = len(real_low_fdmr[outcome_label].to_list())\n",
    "    expected_fdmr.append(real_low_fdmr_ct)\n",
    "\n",
    "    real_low_fdmr = low_df[low_df['MDFR'] == 1]\n",
    "    real_low_fdmr_ct = len(real_low_fdmr[outcome_label].to_list())\n",
    "    expected_mdfr.append(real_low_fdmr_ct)"
   ]
  },
  {
   "cell_type": "code",
   "execution_count": null,
   "id": "3a505a7b",
   "metadata": {},
   "outputs": [],
   "source": [
    "data_name = 'example_dataset_covariates'\n",
    "df, data = survival_data_simulation_covariates(instances=10000, total_features=100,predictive_features=5,feature_frequency_range=(0.3, 0.3), random_seed=42)\n",
    "df.to_csv(output_folder+'/'+data_name+'.csv', index=False)\n",
    "#data = pd.read_csv(output_folder+'/'+data_name+'.csv')\n",
    "#true_risk_group = data[['TrueRiskGroup']]\n",
    "#data = data.drop('TrueRiskGroup', axis=1)\n",
    "\n",
    "#value_counts = true_risk_group['TrueRiskGroup'].value_counts()\n",
    "#print(value_counts)\n",
    "\n",
    "covariates = ['C_1', 'C_2'] "
   ]
  },
  {
   "cell_type": "code",
   "execution_count": null,
   "id": "3ca7daa9",
   "metadata": {},
   "outputs": [],
   "source": [
    "df"
   ]
  },
  {
   "cell_type": "markdown",
   "id": "02f5058a",
   "metadata": {},
   "source": [
    "***\n",
    "## Run FIBERS (Training)"
   ]
  },
  {
   "cell_type": "code",
   "execution_count": 4,
   "id": "42047be2",
   "metadata": {},
   "outputs": [
    {
     "name": "stdout",
     "output_type": "stream",
     "text": [
      "Dropped 0 invariant feature columns.\n",
      "Iteration 1: norm_delta = 2.62e-01, step_size = 0.9500, log_lik = -76075.62247, newton_decrement = 3.86e+02, seconds_since_start = 0.2\n",
      "Iteration 2: norm_delta = 3.04e-02, step_size = 0.9500, log_lik = -75685.34085, newton_decrement = 6.29e+00, seconds_since_start = 0.3\n",
      "Iteration 3: norm_delta = 1.96e-03, step_size = 0.9500, log_lik = -75679.03000, newton_decrement = 2.41e-02, seconds_since_start = 0.5\n",
      "Iteration 4: norm_delta = 3.29e-06, step_size = 1.0000, log_lik = -75679.00590, newton_decrement = 5.41e-08, seconds_since_start = 0.6\n",
      "Convergence success after 4 iterations.\n",
      "                                                  feature_list  \\\n",
      "0         [P_3, P_7, R_12, R_45, R_55, R_63, R_65, R_79, R_83]   \n",
      "1                                                        [P_8]   \n",
      "2                     [P_1, P_2, R_12, R_34, R_47, R_83, R_84]   \n",
      "3                                      [P_4, R_21, R_52, R_57]   \n",
      "4                                      [R_2, R_28, R_33, R_82]   \n",
      "5                      [P_6, P_9, RPC, R_12, R_18, R_26, R_33]   \n",
      "6                           [P_2, R_21, R_50, R_6, R_67, R_71]   \n",
      "7                [P_1, P_8, R_36, R_4, R_58, R_59, R_64, R_76]   \n",
      "8     [P_6, RPC, R_2, R_20, R_28, R_29, R_44, R_5, R_66, R_78]   \n",
      "9                                            [P_3, R_25, R_60]   \n",
      "10                                                 [P_3, R_57]   \n",
      "11                                [P_6, P_8, R_11, R_57, R_71]   \n",
      "12             [R_16, R_27, R_28, R_44, R_48, R_57, R_74, R_9]   \n",
      "13                                [P_3, R_25, R_4, R_54, R_63]   \n",
      "14                                [P_4, R_12, R_3, R_48, R_56]   \n",
      "15                                          [R_28, R_62, R_73]   \n",
      "16                               [P_8, R_11, R_34, R_50, R_55]   \n",
      "17                                                [R_70, R_82]   \n",
      "18                                                [R_43, R_67]   \n",
      "19                                                      [R_43]   \n",
      "20                                    [R_13, R_18, R_37, R_84]   \n",
      "21                              [R_12, R_19, R_20, R_36, R_40]   \n",
      "22                                [R_1, R_11, R_4, R_67, R_75]   \n",
      "23                                [P_5, R_1, R_60, R_67, R_78]   \n",
      "24  [R_1, R_18, R_27, R_39, R_56, R_7, R_72, R_79, R_84, R_85]   \n",
      "25              [P_4, R_18, R_2, R_24, R_36, R_50, R_65, R_66]   \n",
      "26                          [R_3, R_70, R_76, R_8, R_81, R_85]   \n",
      "27   [GPC, P_7, R_46, R_5, R_51, R_58, R_66, R_69, R_78, R_82]   \n",
      "28         [P_8, R_18, R_31, R_4, R_49, R_61, R_77, R_8, R_80]   \n",
      "29        [P_2, R_13, R_15, R_19, R_33, R_39, R_55, R_78, R_9]   \n",
      "30                                       [R_1, R_22, R_3, R_8]   \n",
      "31                              [R_44, R_59, R_61, R_68, R_79]   \n",
      "32             [P_10, P_9, R_14, R_21, R_24, R_25, R_58, R_78]   \n",
      "33                                    [R_56, R_60, R_67, R_82]   \n",
      "34            [R_13, R_27, R_33, R_35, R_50, R_51, R_67, R_84]   \n",
      "35                         [P_9, R_20, R_32, R_37, R_49, R_65]   \n",
      "36                         [P_9, R_28, R_42, R_45, R_48, R_62]   \n",
      "37  [P_7, R_1, R_14, R_17, R_24, R_35, R_45, R_58, R_60, R_65]   \n",
      "38                                                [R_31, R_32]   \n",
      "39         [P_7, RPC, R_10, R_11, R_22, R_47, R_58, R_79, R_8]   \n",
      "40                                                      [R_73]   \n",
      "41                                                 [RPC, R_20]   \n",
      "42                                                      [R_46]   \n",
      "43                                                      [R_35]   \n",
      "44                                                [R_27, R_47]   \n",
      "45                                                [R_15, R_36]   \n",
      "46                                    [R_10, R_15, R_51, R_83]   \n",
      "47                              [R_10, R_23, R_40, R_51, R_71]   \n",
      "48                   [R_21, R_27, R_3, R_32, R_60, R_70, R_78]   \n",
      "49                        [R_32, R_37, R_56, R_58, R_68, R_80]   \n",
      "\n",
      "    group_threshold   fitness  pre_fitness log_rank_score log_rank_p_value  \\\n",
      "0                 2  1.000000     8.969098           None             None   \n",
      "1                 0  0.904837     8.941992           None             None   \n",
      "2                 2  0.818731     8.264396           None             None   \n",
      "3                 1  0.740818     7.614304           None             None   \n",
      "4                 0  0.670320     7.356940           None             None   \n",
      "5                 2  0.606531     7.010096           None             None   \n",
      "6                 2  0.548812     5.453411           None             None   \n",
      "7                 2  0.496585     4.964555           None             None   \n",
      "8                 4  0.449329     4.895189           None             None   \n",
      "9                 0  0.406570     4.498855           None             None   \n",
      "10                1  0.367879     4.314032           None             None   \n",
      "11                3  0.332871     4.195573           None             None   \n",
      "12                2  0.301194     3.726612           None             None   \n",
      "13                2  0.272532     3.689557           None             None   \n",
      "14                2  0.246597     3.651046           None             None   \n",
      "15                1  0.223130     3.574316           None             None   \n",
      "16                1  0.201897     3.387768           None             None   \n",
      "17                0  0.182684     3.264992           None             None   \n",
      "18                0  0.165299     3.148851           None             None   \n",
      "19                0  0.149569     3.065538           None             None   \n",
      "20                1  0.135335     3.065145           None             None   \n",
      "21                2  0.122456     2.917496           None             None   \n",
      "22                1  0.110803     2.888773           None             None   \n",
      "23                0  0.100259     2.771822           None             None   \n",
      "24                2  0.090718     2.671774           None             None   \n",
      "25                1  0.082085     2.379642           None             None   \n",
      "26                5  0.074274     2.287087           None             None   \n",
      "27                2  0.067206     2.214043           None             None   \n",
      "28                0  0.060810     2.158615           None             None   \n",
      "29                5  0.055023     1.776542           None             None   \n",
      "30                2  0.049787     1.751597           None             None   \n",
      "31                0  0.045049     1.698332           None             None   \n",
      "32                1  0.040762     1.598096           None             None   \n",
      "33                0  0.036883     1.289364           None             None   \n",
      "34                2  0.033373     1.117768           None             None   \n",
      "35                1  0.030197     0.976783           None             None   \n",
      "36                0  0.027324     0.975179           None             None   \n",
      "37                0  0.024724     0.910268           None             None   \n",
      "38                0  0.022371     0.547772           None             None   \n",
      "39                0  0.020242     0.455074           None             None   \n",
      "40                0  0.018316     0.358720           None             None   \n",
      "41                1  0.016573     0.055444           None             None   \n",
      "42                1  0.000000     0.000000           None             None   \n",
      "43                1  0.000000     0.000000           None             None   \n",
      "44                2  0.000000     0.000000           None             None   \n",
      "45                2  0.000000     0.000000           None             None   \n",
      "46                4  0.000000     0.000000           None             None   \n",
      "47                5  0.000000     0.000000           None             None   \n",
      "48                5  0.008230    -0.102576           None             None   \n",
      "49                3  0.007447    -0.483707           None             None   \n",
      "\n",
      "    bin_size  group_strata_prop  count_bt  count_at  low_risk_area  \\\n",
      "0          9             0.3086      3086      6914       2.448057   \n",
      "1          1             0.3955      6045      3955       2.394228   \n",
      "2          7             0.4465      5535      4465       2.384013   \n",
      "3          4             0.4750      5250      4750       2.365179   \n",
      "4          4             0.2153      2153      7847       2.436543   \n",
      "5          7             0.4852      5148      4852       2.428770   \n",
      "6          6             0.3524      6476      3524       2.356413   \n",
      "7          8             0.4988      4988      5012       2.352075   \n",
      "8         10             0.2462      7538      2462       2.367382   \n",
      "9          3             0.2834      2834      7166       2.391625   \n",
      "10         2             0.1383      8617      1383       2.344795   \n",
      "11         5             0.0557      9443       557       2.325504   \n",
      "12         8             0.4680      4680      5320       2.373703   \n",
      "13         5             0.2087      7913      2087       2.339817   \n",
      "14         5             0.1966      8034      1966       2.350753   \n",
      "15         3             0.2186      7814      2186       2.312642   \n",
      "16         5             0.4780      4780      5220       2.365027   \n",
      "17         2             0.4724      4724      5276       2.341812   \n",
      "18         2             0.4507      4507      5493       2.372091   \n",
      "19         1             0.2729      7271      2729       2.325531   \n",
      "20         4             0.3933      6067      3933       2.322399   \n",
      "21         5             0.2063      7937      2063       2.311177   \n",
      "22         5             0.4755      4755      5245       2.344706   \n",
      "23         5             0.1098      1098      8902       2.432714   \n",
      "24        10             0.3181      3181      6819       2.339729   \n",
      "25         8             0.1953      1953      8047       2.385204   \n",
      "26         6             0.0005      9995         5       2.306541   \n",
      "27        10             0.2537      2537      7463       2.405040   \n",
      "28         9             0.0271       271      9729       2.554116   \n",
      "29         9             0.0439      9561       439       2.316102   \n",
      "30         4             0.0800      9200       800       2.312291   \n",
      "31         5             0.1276      1276      8724       2.401502   \n",
      "32         8             0.1511      1511      8489       2.384173   \n",
      "33         4             0.1941      1941      8059       2.324758   \n",
      "34         8             0.4608      5392      4608       2.320661   \n",
      "35         6             0.3237      3237      6763       2.340844   \n",
      "36         6             0.0822       822      9178       2.393993   \n",
      "37        10             0.0159       159      9841       2.332176   \n",
      "38         2             0.4350      4350      5650       2.313177   \n",
      "39         9             0.0371       371      9629       2.523777   \n",
      "40         1             0.2581      7419      2581       2.302946   \n",
      "41         2             0.0935      9065       935       2.340186   \n",
      "42         1             0.0000     10000         0       2.305646   \n",
      "43         1             0.0000     10000         0       2.305646   \n",
      "44         2             0.0000     10000         0       2.305646   \n",
      "45         2             0.0000     10000         0       2.305646   \n",
      "46         4             0.0000     10000         0       2.305646   \n",
      "47         5             0.0000     10000         0       2.305646   \n",
      "48         7             0.0066      9934        66       2.304468   \n",
      "49         6             0.0987      9013       987       2.311340   \n",
      "\n",
      "    birth_iteration deletion_prop cluster  residuals_score  residuals_p_value  \\\n",
      "0                 0          None    None         3.663762           0.000124   \n",
      "1                 0          None    None         3.734812           0.000094   \n",
      "2                 0          None    None         3.466590           0.000264   \n",
      "3                 0          None    None         3.219335           0.000642   \n",
      "4                 0          None    None         3.019417           0.001266   \n",
      "5                 0          None    None         2.886274           0.001949   \n",
      "6                 0          None    None         2.314285           0.010326   \n",
      "7                 0          None    None         2.110713           0.017399   \n",
      "8                 0          None    None         2.067765           0.019331   \n",
      "9                 0          None    None         1.881087           0.029980   \n",
      "10                0          None    None         3.679666           0.000117   \n",
      "11                0          None    None         3.608314           0.000154   \n",
      "12                0          None    None         1.569957           0.058213   \n",
      "13                0          None    None         1.576857           0.057414   \n",
      "14                0          None    None         3.106279           0.000947   \n",
      "15                0          None    None         1.545555           0.061106   \n",
      "16                0          None    None         1.432443           0.076008   \n",
      "17                0          None    None         1.394216           0.081626   \n",
      "18                0          None    None         1.327458           0.092179   \n",
      "19                0          None    None         1.318210           0.093717   \n",
      "20                0          None    None         1.319818           0.093448   \n",
      "21                0          None    None         1.262342           0.103413   \n",
      "22                0          None    None         1.232041           0.108967   \n",
      "23                0          None    None         2.278790           0.011340   \n",
      "24                0          None    None         1.141916           0.126744   \n",
      "25                0          None    None         1.995336           0.023003   \n",
      "26                0          None    None         1.983132           0.023676   \n",
      "27                0          None    None         0.920585           0.178634   \n",
      "28                0          None    None         1.690303           0.045485   \n",
      "29                0          None    None         1.534080           0.062505   \n",
      "30                0          None    None         1.515031           0.064882   \n",
      "31                0          None    None         1.414392           0.078623   \n",
      "32                0          None    None         1.340587           0.090027   \n",
      "33                0          None    None         1.109245           0.133662   \n",
      "34                0          None    None         0.481659           0.315024   \n",
      "35                0          None    None         0.417278           0.338237   \n",
      "36                0          None    None         0.814688           0.207625   \n",
      "37                0          None    None         0.780617           0.217514   \n",
      "38                0          None    None         0.236805           0.406404   \n",
      "39                0          None    None         0.360630           0.359188   \n",
      "40                0          None    None         0.155766           0.438109   \n",
      "41                0          None    None         0.047384           0.481103   \n",
      "42                0          None    None         0.000000                NaN   \n",
      "43                0          None    None         0.000000                NaN   \n",
      "44                0          None    None         0.000000                NaN   \n",
      "45                0          None    None         0.000000                NaN   \n",
      "46                0          None    None         0.000000                NaN   \n",
      "47                0          None    None         0.000000                NaN   \n",
      "48                0          None    None        -0.089024           0.535469   \n",
      "49                0          None    None        -0.418551           0.662228   \n",
      "\n",
      "      HR HR_CI HR_p_value adj_HR adj_HR_CI  is_merge adj_HR_p_value  \\\n",
      "0   None  None       None   None      None     False           None   \n",
      "1   None  None       None   None      None     False           None   \n",
      "2   None  None       None   None      None     False           None   \n",
      "3   None  None       None   None      None     False           None   \n",
      "4   None  None       None   None      None     False           None   \n",
      "5   None  None       None   None      None     False           None   \n",
      "6   None  None       None   None      None     False           None   \n",
      "7   None  None       None   None      None     False           None   \n",
      "8   None  None       None   None      None     False           None   \n",
      "9   None  None       None   None      None     False           None   \n",
      "10  None  None       None   None      None     False           None   \n",
      "11  None  None       None   None      None     False           None   \n",
      "12  None  None       None   None      None     False           None   \n",
      "13  None  None       None   None      None     False           None   \n",
      "14  None  None       None   None      None     False           None   \n",
      "15  None  None       None   None      None     False           None   \n",
      "16  None  None       None   None      None     False           None   \n",
      "17  None  None       None   None      None     False           None   \n",
      "18  None  None       None   None      None     False           None   \n",
      "19  None  None       None   None      None     False           None   \n",
      "20  None  None       None   None      None     False           None   \n",
      "21  None  None       None   None      None     False           None   \n",
      "22  None  None       None   None      None     False           None   \n",
      "23  None  None       None   None      None     False           None   \n",
      "24  None  None       None   None      None     False           None   \n",
      "25  None  None       None   None      None     False           None   \n",
      "26  None  None       None   None      None     False           None   \n",
      "27  None  None       None   None      None     False           None   \n",
      "28  None  None       None   None      None     False           None   \n",
      "29  None  None       None   None      None     False           None   \n",
      "30  None  None       None   None      None     False           None   \n",
      "31  None  None       None   None      None     False           None   \n",
      "32  None  None       None   None      None     False           None   \n",
      "33  None  None       None   None      None     False           None   \n",
      "34  None  None       None   None      None     False           None   \n",
      "35  None  None       None   None      None     False           None   \n",
      "36  None  None       None   None      None     False           None   \n",
      "37  None  None       None   None      None     False           None   \n",
      "38  None  None       None   None      None     False           None   \n",
      "39  None  None       None   None      None     False           None   \n",
      "40  None  None       None   None      None     False           None   \n",
      "41  None  None       None   None      None     False           None   \n",
      "42  None  None       None   None      None     False           None   \n",
      "43  None  None       None   None      None     False           None   \n",
      "44  None  None       None   None      None     False           None   \n",
      "45  None  None       None   None      None     False           None   \n",
      "46  None  None       None   None      None     False           None   \n",
      "47  None  None       None   None      None     False           None   \n",
      "48  None  None       None   None      None     False           None   \n",
      "49  None  None       None   None      None     False           None   \n",
      "\n",
      "                                                        pareto  \n",
      "0   <src.skfibers.methods.pareto.PARETO object at 0x2a3a2af00>  \n",
      "1   <src.skfibers.methods.pareto.PARETO object at 0x2a3a2af00>  \n",
      "2   <src.skfibers.methods.pareto.PARETO object at 0x2a3a2af00>  \n",
      "3   <src.skfibers.methods.pareto.PARETO object at 0x2a3a2af00>  \n",
      "4   <src.skfibers.methods.pareto.PARETO object at 0x2a3a2af00>  \n",
      "5   <src.skfibers.methods.pareto.PARETO object at 0x2a3a2af00>  \n",
      "6   <src.skfibers.methods.pareto.PARETO object at 0x2a3a2af00>  \n",
      "7   <src.skfibers.methods.pareto.PARETO object at 0x2a3a2af00>  \n",
      "8   <src.skfibers.methods.pareto.PARETO object at 0x2a3a2af00>  \n",
      "9   <src.skfibers.methods.pareto.PARETO object at 0x2a3a2af00>  \n",
      "10  <src.skfibers.methods.pareto.PARETO object at 0x2a3a2af00>  \n",
      "11  <src.skfibers.methods.pareto.PARETO object at 0x2a3a2af00>  \n",
      "12  <src.skfibers.methods.pareto.PARETO object at 0x2a3a2af00>  \n",
      "13  <src.skfibers.methods.pareto.PARETO object at 0x2a3a2af00>  \n",
      "14  <src.skfibers.methods.pareto.PARETO object at 0x2a3a2af00>  \n",
      "15  <src.skfibers.methods.pareto.PARETO object at 0x2a3a2af00>  \n",
      "16  <src.skfibers.methods.pareto.PARETO object at 0x2a3a2af00>  \n",
      "17  <src.skfibers.methods.pareto.PARETO object at 0x2a3a2af00>  \n",
      "18  <src.skfibers.methods.pareto.PARETO object at 0x2a3a2af00>  \n",
      "19  <src.skfibers.methods.pareto.PARETO object at 0x2a3a2af00>  \n",
      "20  <src.skfibers.methods.pareto.PARETO object at 0x2a3a2af00>  \n",
      "21  <src.skfibers.methods.pareto.PARETO object at 0x2a3a2af00>  \n",
      "22  <src.skfibers.methods.pareto.PARETO object at 0x2a3a2af00>  \n",
      "23  <src.skfibers.methods.pareto.PARETO object at 0x2a3a2af00>  \n",
      "24  <src.skfibers.methods.pareto.PARETO object at 0x2a3a2af00>  \n",
      "25  <src.skfibers.methods.pareto.PARETO object at 0x2a3a2af00>  \n",
      "26  <src.skfibers.methods.pareto.PARETO object at 0x2a3a2af00>  \n",
      "27  <src.skfibers.methods.pareto.PARETO object at 0x2a3a2af00>  \n",
      "28  <src.skfibers.methods.pareto.PARETO object at 0x2a3a2af00>  \n",
      "29  <src.skfibers.methods.pareto.PARETO object at 0x2a3a2af00>  \n",
      "30  <src.skfibers.methods.pareto.PARETO object at 0x2a3a2af00>  \n",
      "31  <src.skfibers.methods.pareto.PARETO object at 0x2a3a2af00>  \n",
      "32  <src.skfibers.methods.pareto.PARETO object at 0x2a3a2af00>  \n",
      "33  <src.skfibers.methods.pareto.PARETO object at 0x2a3a2af00>  \n",
      "34  <src.skfibers.methods.pareto.PARETO object at 0x2a3a2af00>  \n",
      "35  <src.skfibers.methods.pareto.PARETO object at 0x2a3a2af00>  \n",
      "36  <src.skfibers.methods.pareto.PARETO object at 0x2a3a2af00>  \n",
      "37  <src.skfibers.methods.pareto.PARETO object at 0x2a3a2af00>  \n",
      "38  <src.skfibers.methods.pareto.PARETO object at 0x2a3a2af00>  \n",
      "39  <src.skfibers.methods.pareto.PARETO object at 0x2a3a2af00>  \n",
      "40  <src.skfibers.methods.pareto.PARETO object at 0x2a3a2af00>  \n",
      "41  <src.skfibers.methods.pareto.PARETO object at 0x2a3a2af00>  \n",
      "42  <src.skfibers.methods.pareto.PARETO object at 0x2a3a2af00>  \n",
      "43  <src.skfibers.methods.pareto.PARETO object at 0x2a3a2af00>  \n",
      "44  <src.skfibers.methods.pareto.PARETO object at 0x2a3a2af00>  \n",
      "45  <src.skfibers.methods.pareto.PARETO object at 0x2a3a2af00>  \n",
      "46  <src.skfibers.methods.pareto.PARETO object at 0x2a3a2af00>  \n",
      "47  <src.skfibers.methods.pareto.PARETO object at 0x2a3a2af00>  \n",
      "48  <src.skfibers.methods.pareto.PARETO object at 0x2a3a2af00>  \n",
      "49  <src.skfibers.methods.pareto.PARETO object at 0x2a3a2af00>  \n"
     ]
    },
    {
     "name": "stderr",
     "output_type": "stream",
     "text": [
      " 20%|██        | 10/50 [00:07<00:18,  2.18it/s]"
     ]
    },
    {
     "name": "stdout",
     "output_type": "stream",
     "text": [
      "ITERATION: 10\n",
      "                                                                                                               feature_list  \\\n",
      "0                                                                        [P_10, P_3, P_4, P_7, P_8, R_12, R_28, R_76, R_82]   \n",
      "1                                           [P_10, P_3, P_4, P_7, P_8, R_12, R_21, R_25, R_26, R_28, R_4, R_44, R_67, R_71]   \n",
      "2                     [P_10, P_3, P_4, P_6, P_7, P_8, P_9, R_12, R_25, R_26, R_28, R_4, R_52, R_59, R_62, R_63, R_71, R_82]   \n",
      "3                          [P_10, P_3, P_4, P_6, P_7, P_8, P_9, R_12, R_25, R_26, R_28, R_52, R_59, R_62, R_63, R_71, R_82]   \n",
      "4                                      [P_10, P_3, P_4, P_6, P_7, P_8, P_9, R_12, R_21, R_25, R_26, R_52, R_54, R_62, R_71]   \n",
      "5                                                      [P_10, P_3, P_4, P_8, P_9, R_12, R_28, R_52, R_59, R_63, R_71, R_82]   \n",
      "6                                                      [P_10, P_3, P_6, P_8, P_9, R_12, R_51, R_57, R_59, R_71, R_82, R_85]   \n",
      "7                                                                        [P_10, P_3, P_7, P_8, R_12, R_28, R_4, R_63, R_82]   \n",
      "8                                           [P_10, P_3, P_4, P_7, P_8, P_9, R_18, R_21, R_26, R_28, R_57, R_63, R_71, R_82]   \n",
      "9                               [P_10, P_2, P_3, P_6, P_7, P_8, R_11, R_12, R_17, R_21, R_26, R_43, R_44, R_57, R_71, R_82]   \n",
      "10                                                                 [P_10, P_3, P_4, P_6, P_8, R_12, R_26, R_62, R_73, R_82]   \n",
      "11                              [P_10, P_3, P_4, P_6, P_8, P_9, R_12, R_28, R_51, R_52, R_57, R_59, R_63, R_71, R_82, R_85]   \n",
      "12                          [P_1, P_10, P_3, P_4, P_6, P_7, P_8, P_9, R_11, R_12, R_21, R_26, R_51, R_52, R_57, R_71, R_78]   \n",
      "13                                     [P_10, P_3, P_4, P_7, P_8, P_9, R_12, R_28, R_4, R_52, R_59, R_61, R_63, R_71, R_82]   \n",
      "14                                   [P_10, P_4, P_6, P_7, P_8, R_11, R_12, R_18, R_21, R_26, R_33, R_52, R_57, R_71, R_82]   \n",
      "15                                                                        [P_1, P_3, P_6, P_7, P_8, R_12, R_18, R_26, R_35]   \n",
      "16                  [P_10, P_3, P_4, P_7, P_8, P_9, R_12, R_26, R_28, R_35, R_36, R_58, R_59, R_68, R_69, R_71, R_80, R_82]   \n",
      "17                                                     [P_10, P_3, P_4, P_8, P_9, R_12, R_33, R_52, R_63, R_71, R_82, R_83]   \n",
      "18         [P_1, P_10, P_3, P_4, P_6, P_7, P_8, P_9, R_11, R_12, R_21, R_26, R_4, R_51, R_52, R_57, R_61, R_71, R_78, R_82]   \n",
      "19                                                      [P_1, P_10, P_3, P_6, P_7, P_9, R_12, R_26, R_28, R_52, R_71, R_72]   \n",
      "20                                                                             [P_10, P_3, P_7, P_8, R_12, R_4, R_61, R_82]   \n",
      "21                                          [P_2, P_3, P_4, P_6, P_8, R_12, R_14, R_19, R_21, R_35, R_43, R_59, R_82, R_85]   \n",
      "22                                                            [P_1, P_10, P_3, P_4, P_8, P_9, R_26, R_28, R_33, R_66, R_80]   \n",
      "23                                          [P_1, P_10, P_3, P_7, P_8, P_9, R_25, R_26, R_31, R_33, R_38, R_52, R_80, R_84]   \n",
      "24                                     [GPC, P_3, P_4, P_7, P_8, P_9, R_12, R_25, R_26, R_28, R_30, R_36, R_54, R_62, R_71]   \n",
      "25                                                                 [P_10, P_3, P_7, P_8, P_9, R_28, R_50, R_57, R_63, R_64]   \n",
      "26                                                                            [P_10, P_3, P_7, P_8, R_12, R_18, R_26, R_82]   \n",
      "27                                                      [P_3, P_4, P_6, P_8, R_12, R_2, R_20, R_25, R_52, R_57, R_69, R_71]   \n",
      "28                               [P_10, P_3, P_4, P_7, P_8, P_9, R_18, R_20, R_28, R_5, R_52, R_59, R_63, R_67, R_76, R_82]   \n",
      "29                                         [P_1, P_10, P_3, P_4, P_9, R_12, R_28, R_52, R_54, R_59, R_65, R_69, R_71, R_82]   \n",
      "30                                                          [P_10, P_4, P_5, P_7, R_12, R_14, R_18, R_28, R_59, R_71, R_82]   \n",
      "31                                           [P_10, P_3, P_4, P_7, P_8, P_9, R_12, R_28, R_4, R_52, R_59, R_63, R_71, R_82]   \n",
      "32                                                                            [P_4, P_6, P_8, R_11, R_21, R_52, R_57, R_71]   \n",
      "33                    [P_10, P_3, P_4, P_6, P_8, P_9, RPC, R_12, R_20, R_40, R_48, R_52, R_54, R_59, R_7, R_71, R_76, R_82]   \n",
      "34                                                     [P_1, P_10, P_3, P_8, P_9, R_11, R_12, R_21, R_26, R_52, R_63, R_71]   \n",
      "35                                                                            [P_4, P_6, P_8, R_11, R_21, R_57, R_71, R_82]   \n",
      "36                                          [P_3, P_4, P_6, P_8, P_9, R_12, R_13, R_20, R_26, R_28, R_34, R_57, R_71, R_82]   \n",
      "37                                                          [P_10, P_4, P_6, P_7, R_20, R_25, R_26, R_29, R_33, R_54, R_82]   \n",
      "38        [P_1, P_10, P_3, P_4, P_6, P_7, P_8, P_9, R_11, R_12, R_21, R_25, R_26, R_51, R_52, R_54, R_57, R_62, R_71, R_78]   \n",
      "39                                                            [P_10, P_3, P_6, P_8, P_9, R_26, R_4, R_46, R_52, R_59, R_71]   \n",
      "40                                                                 [P_10, P_3, P_6, P_8, P_9, R_18, R_25, R_26, R_33, R_71]   \n",
      "41                                     [P_10, P_4, P_7, P_8, P_9, R_1, R_12, R_25, R_28, R_4, R_63, R_71, R_75, R_76, R_84]   \n",
      "42                               [P_10, P_3, P_4, P_7, P_8, P_9, R_18, R_24, R_25, R_26, R_57, R_62, R_63, R_71, R_82, R_9]   \n",
      "43                                                                     [P_10, P_7, P_8, R_26, R_31, R_38, R_42, R_52, R_82]   \n",
      "44                                                [P_10, P_3, P_4, P_8, P_9, R_12, R_25, R_28, R_42, R_59, R_63, R_7, R_71]   \n",
      "45                                                [P_1, P_10, P_7, P_8, R_12, R_18, R_26, R_3, R_31, R_35, R_4, R_40, R_82]   \n",
      "46                                              [P_10, P_4, P_8, P_9, R_20, R_26, R_37, R_52, R_57, R_63, R_71, R_82, R_83]   \n",
      "47      [P_10, P_2, P_6, P_7, P_8, P_9, R_12, R_17, R_26, R_29, R_43, R_52, R_56, R_57, R_59, R_60, R_62, R_64, R_71, R_82]   \n",
      "48  [P_3, P_4, P_6, P_7, P_8, P_9, R_21, R_25, R_26, R_28, R_35, R_4, R_42, R_49, R_52, R_59, R_61, R_63, R_73, R_74, R_82]   \n",
      "49                                                                      [P_10, P_4, P_9, R_12, R_25, R_40, R_63, R_8, R_82]   \n",
      "\n",
      "    group_threshold   fitness  pre_fitness log_rank_score log_rank_p_value  \\\n",
      "0                 2  1.000000    20.540992           None             None   \n",
      "1                 4  0.951229    19.845612           None             None   \n",
      "2                 5  0.904837    19.599170           None             None   \n",
      "3                 5  0.860708    18.567262           None             None   \n",
      "4                 5  0.818731    18.390489           None             None   \n",
      "5                 3  0.778801    18.219461           None             None   \n",
      "6                 3  0.704688    17.468890           None             None   \n",
      "7                 2  0.670320    17.375234           None             None   \n",
      "8                 5  0.637628    17.115158           None             None   \n",
      "9                 5  0.606531    17.086524           None             None   \n",
      "10                2  0.576950    16.955336           None             None   \n",
      "11                5  0.548812    16.926290           None             None   \n",
      "12                5  0.522046    16.571364           None             None   \n",
      "13                5  0.496585    16.407522           None             None   \n",
      "14                5  0.449329    15.828015           None             None   \n",
      "15                2  0.427415    15.763594           None             None   \n",
      "16                5  0.406570    15.713921           None             None   \n",
      "17                3  0.386741    15.712007           None             None   \n",
      "18                5  0.367879    15.711406           None             None   \n",
      "19                5  0.332871    15.615217           None             None   \n",
      "20                2  0.316637    15.574080           None             None   \n",
      "21                4  0.301194    15.477634           None             None   \n",
      "22                3  0.286505    15.394753           None             None   \n",
      "23                4  0.259240    15.236300           None             None   \n",
      "24                5  0.246597    14.899332           None             None   \n",
      "25                2  0.234570    14.852745           None             None   \n",
      "26                2  0.223130    14.844121           None             None   \n",
      "27                5  0.212248    14.828520           None             None   \n",
      "28                5  0.201897    14.811120           None             None   \n",
      "29                5  0.192050    14.676794           None             None   \n",
      "30                3  0.182684    14.610958           None             None   \n",
      "31                5  0.165299    14.256083           None             None   \n",
      "32                3  0.157237    14.140230           None             None   \n",
      "33                4  0.142274    13.886909           None             None   \n",
      "34                5  0.135335    13.613126           None             None   \n",
      "35                3  0.128735    13.596575           None             None   \n",
      "36                3  0.105399    13.129457           None             None   \n",
      "37                2  0.100259    13.110396           None             None   \n",
      "38                5  0.095369    13.090664           None             None   \n",
      "39                3  0.086294    12.500049           None             None   \n",
      "40                2  0.082085    12.486545           None             None   \n",
      "41                5  0.074274    12.262289           None             None   \n",
      "42                4  0.060810    12.084813           None             None   \n",
      "43                2  0.055023    11.676643           None             None   \n",
      "44                5  0.047359    11.130339           None             None   \n",
      "45                4  0.042852    10.871154           None             None   \n",
      "46                5  0.038774    10.222566           None             None   \n",
      "47                4  0.025991     6.939101           None             None   \n",
      "48                2  0.011109     2.389664           None             None   \n",
      "49                5  0.008230     0.885306           None             None   \n",
      "\n",
      "    bin_size  group_strata_prop  count_bt  count_at  low_risk_area  \\\n",
      "0          9             0.2898      2898      7102       2.634069   \n",
      "1         14             0.3586      3586      6414       2.567333   \n",
      "2         18             0.3227      3227      6773       2.574764   \n",
      "3         17             0.3771      3771      6229       2.541303   \n",
      "4         15             0.4988      5012      4988       2.479282   \n",
      "5         12             0.3018      3018      6982       2.565363   \n",
      "6         12             0.3226      3226      6774       2.535025   \n",
      "7          9             0.2893      2893      7107       2.567399   \n",
      "8         14             0.4287      5713      4287       2.469789   \n",
      "9         16             0.4382      4382      5618       2.486311   \n",
      "10        10             0.2310      2310      7690       2.616579   \n",
      "11        16             0.4492      4492      5508       2.485881   \n",
      "12        17             0.3536      3536      6464       2.497991   \n",
      "13        15             0.4791      5209      4791       2.463516   \n",
      "14        15             0.4703      5297      4703       2.444937   \n",
      "15         9             0.2754      2754      7246       2.509040   \n",
      "16        18             0.3642      3642      6358       2.506154   \n",
      "17        12             0.3124      3124      6876       2.550421   \n",
      "18        20             0.2057      2057      7943       2.603867   \n",
      "19        12             0.2822      7178      2822       2.400841   \n",
      "20         8             0.3799      3799      6201       2.501020   \n",
      "21        14             0.4155      4155      5845       2.502842   \n",
      "22        11             0.3643      3643      6357       2.530254   \n",
      "23        14             0.3898      3898      6102       2.501897   \n",
      "24        15             0.4977      5023      4977       2.505780   \n",
      "25        10             0.2163      2163      7837       2.598156   \n",
      "26         8             0.3638      3638      6362       2.498751   \n",
      "27        12             0.2200      7800      2200       2.379118   \n",
      "28        16             0.4651      4651      5349       2.479588   \n",
      "29        14             0.3681      6319      3681       2.401180   \n",
      "30        11             0.3984      3984      6016       2.474339   \n",
      "31        14             0.4008      5992      4008       2.428447   \n",
      "32         8             0.3206      6794      3206       2.404560   \n",
      "33        18             0.2034      2034      7966       2.622459   \n",
      "34        12             0.2627      7373      2627       2.400250   \n",
      "35         8             0.3070      6930      3070       2.401391   \n",
      "36        14             0.2088      2088      7912       2.584546   \n",
      "37        11             0.2030      2030      7970       2.513563   \n",
      "38        20             0.2152      2152      7848       2.526925   \n",
      "39        11             0.4064      4064      5936       2.462187   \n",
      "40        10             0.2203      2203      7797       2.544508   \n",
      "41        15             0.4604      5396      4604       2.429411   \n",
      "42        16             0.2438      2438      7562       2.518584   \n",
      "43         9             0.3107      3107      6893       2.440129   \n",
      "44        13             0.3054      6946      3054       2.385040   \n",
      "45        13             0.4965      5035      4965       2.407920   \n",
      "46        13             0.3058      6942      3058       2.374919   \n",
      "47        20             0.1161      1161      8839       2.582901   \n",
      "48        21             0.0078        78      9922       2.702906   \n",
      "49         9             0.0569      9431       569       2.315844   \n",
      "\n",
      "    birth_iteration  deletion_prop cluster  residuals_score  \\\n",
      "0                10       0.000000    None         7.798197   \n",
      "1                10       0.000000    None         7.730050   \n",
      "2                10       0.000000    None         7.612026   \n",
      "3                 9       0.000000    None         7.306197   \n",
      "4                 7       0.000000    None         7.417667   \n",
      "5                 5       0.002251    None         7.102100   \n",
      "6                 7       0.002488    None         6.891013   \n",
      "7                 6       0.002615    None         6.767640   \n",
      "8                 6       0.002749    None         6.929807   \n",
      "9                 6       0.002890    None         6.872239   \n",
      "10                9       0.003038    None         6.479963   \n",
      "11                9       0.003194    None         6.808970   \n",
      "12                5       0.003358    None         6.633877   \n",
      "13                9       0.003530    None         6.660204   \n",
      "14                3       0.003901    None         6.473791   \n",
      "15                5       0.004101    None         6.282720   \n",
      "16               10       0.004312    None         6.270133   \n",
      "17               10       0.004533    None         6.160553   \n",
      "18                8       0.004765    None         6.033875   \n",
      "19                9       0.005266    None         6.504062   \n",
      "20                7       0.005536    None         6.227092   \n",
      "21                9       0.005820    None         6.184024   \n",
      "22                8       0.006119    None         6.084273   \n",
      "23                9       0.006762    None         6.089899   \n",
      "24               10       0.007109    None         5.945986   \n",
      "25                7       0.007473    None         5.716648   \n",
      "26                3       0.007857    None         5.940617   \n",
      "27                9       0.008259    None         6.232781   \n",
      "28                9       0.008683    None         5.973218   \n",
      "29                7       0.009128    None         6.112325   \n",
      "30                6       0.009596    None         5.904993   \n",
      "31               10       0.010605    None         5.870453   \n",
      "32                1       0.011149    None         5.880590   \n",
      "33                8       0.012322    None         5.295377   \n",
      "34                7       0.012953    None         5.671545   \n",
      "35                4       0.013617    None         5.661959   \n",
      "36                6       0.016632    None         5.079986   \n",
      "37                4       0.017485    None         5.215861   \n",
      "38                9       0.018382    None         5.180472   \n",
      "39                8       0.020315    None         5.076808   \n",
      "40               10       0.021356    None         4.907253   \n",
      "41               10       0.023602    None         5.047433   \n",
      "42               10       0.028828    None         4.798257   \n",
      "43                6       0.031860    None         4.785257   \n",
      "44               10       0.037016    None         4.666730   \n",
      "45               10       0.040909    None         4.514749   \n",
      "46                9       0.045211    None         4.304384   \n",
      "47               10       0.067447    None         5.373107   \n",
      "48               10       0.157803    None         1.768219   \n",
      "49               10       0.213012    None         0.764564   \n",
      "\n",
      "    residuals_p_value    HR HR_CI HR_p_value adj_HR adj_HR_CI  is_merge  \\\n",
      "0        3.139898e-15  None  None       None   None      None     False   \n",
      "1        5.375225e-15  None  None       None   None      None     False   \n",
      "2        1.349159e-14  None  None       None   None      None     False   \n",
      "3        1.374049e-13  None  None       None   None      None     False   \n",
      "4        5.960054e-14  None  None       None   None      None     False   \n",
      "5        6.143785e-13  None  None       None   None      None     False   \n",
      "6        2.769823e-12  None  None       None   None      None     False   \n",
      "7        6.545021e-12  None  None       None   None      None     False   \n",
      "8        2.107078e-12  None  None       None   None      None     False   \n",
      "9        3.160103e-12  None  None       None   None      None     False   \n",
      "10       4.587254e-11  None  None       None   None      None     False   \n",
      "11       4.914983e-12  None  None       None   None      None     False   \n",
      "12       1.634911e-11  None  None       None   None      None     False   \n",
      "13       1.367237e-11  None  None       None   None      None     False   \n",
      "14       4.778694e-11  None  None       None   None      None     False   \n",
      "15       1.663500e-10  None  None       None   None      None     False   \n",
      "16       1.803695e-10  None  None       None   None      None     False   \n",
      "17       3.624567e-10  None  None       None   None      None     False   \n",
      "18       8.003706e-10  None  None       None   None      None     False   \n",
      "19       3.908971e-11  None  None       None   None      None     False   \n",
      "20       2.375866e-10  None  None       None   None      None     False   \n",
      "21       3.124399e-10  None  None       None   None      None     False   \n",
      "22       5.851063e-10  None  None       None   None      None     False   \n",
      "23       5.649113e-10  None  None       None   None      None     False   \n",
      "24       1.373987e-09  None  None       None   None      None     False   \n",
      "25       5.432295e-09  None  None       None   None      None     False   \n",
      "26       1.419760e-09  None  None       None   None      None     False   \n",
      "27       2.291129e-10  None  None       None   None      None     False   \n",
      "28       1.163091e-09  None  None       None   None      None     False   \n",
      "29       4.909498e-10  None  None       None   None      None     False   \n",
      "30       1.763307e-09  None  None       None   None      None     False   \n",
      "31       2.173033e-09  None  None       None   None      None     False   \n",
      "32       2.044036e-09  None  None       None   None      None     False   \n",
      "33       5.938550e-08  None  None       None   None      None     False   \n",
      "34       7.075777e-09  None  None       None   None      None     False   \n",
      "35       7.482729e-09  None  None       None   None      None     False   \n",
      "36       1.887313e-07  None  None       None   None      None     False   \n",
      "37       9.148273e-08  None  None       None   None      None     False   \n",
      "38       1.106627e-07  None  None       None   None      None     False   \n",
      "39       1.919142e-07  None  None       None   None      None     False   \n",
      "40       4.618042e-07  None  None       None   None      None     False   \n",
      "41       2.238929e-07  None  None       None   None      None     False   \n",
      "42       8.002616e-07  None  None       None   None      None     False   \n",
      "43       8.538418e-07  None  None       None   None      None     False   \n",
      "44       1.530158e-06  None  None       None   None      None     False   \n",
      "45       3.169590e-06  None  None       None   None      None     False   \n",
      "46       8.372537e-06  None  None       None   None      None     False   \n",
      "47       3.869573e-08  None  None       None   None      None     False   \n",
      "48       3.851215e-02  None  None       None   None      None     False   \n",
      "49       2.222656e-01  None  None       None   None      None     False   \n",
      "\n",
      "   adj_HR_p_value                                                      pareto  \n",
      "0            None  <src.skfibers.methods.pareto.PARETO object at 0x2a3a2af00>  \n",
      "1            None  <src.skfibers.methods.pareto.PARETO object at 0x2a3a2af00>  \n",
      "2            None  <src.skfibers.methods.pareto.PARETO object at 0x2a3a2af00>  \n",
      "3            None  <src.skfibers.methods.pareto.PARETO object at 0x2a3a2af00>  \n",
      "4            None  <src.skfibers.methods.pareto.PARETO object at 0x2a3a2af00>  \n",
      "5            None  <src.skfibers.methods.pareto.PARETO object at 0x2a3a2af00>  \n",
      "6            None  <src.skfibers.methods.pareto.PARETO object at 0x2a3a2af00>  \n",
      "7            None  <src.skfibers.methods.pareto.PARETO object at 0x2a3a2af00>  \n",
      "8            None  <src.skfibers.methods.pareto.PARETO object at 0x2a3a2af00>  \n",
      "9            None  <src.skfibers.methods.pareto.PARETO object at 0x2a3a2af00>  \n",
      "10           None  <src.skfibers.methods.pareto.PARETO object at 0x2a3a2af00>  \n",
      "11           None  <src.skfibers.methods.pareto.PARETO object at 0x2a3a2af00>  \n",
      "12           None  <src.skfibers.methods.pareto.PARETO object at 0x2a3a2af00>  \n",
      "13           None  <src.skfibers.methods.pareto.PARETO object at 0x2a3a2af00>  \n",
      "14           None  <src.skfibers.methods.pareto.PARETO object at 0x2a3a2af00>  \n",
      "15           None  <src.skfibers.methods.pareto.PARETO object at 0x2a3a2af00>  \n",
      "16           None  <src.skfibers.methods.pareto.PARETO object at 0x2a3a2af00>  \n",
      "17           None  <src.skfibers.methods.pareto.PARETO object at 0x2a3a2af00>  \n",
      "18           None  <src.skfibers.methods.pareto.PARETO object at 0x2a3a2af00>  \n",
      "19           None  <src.skfibers.methods.pareto.PARETO object at 0x2a3a2af00>  \n",
      "20           None  <src.skfibers.methods.pareto.PARETO object at 0x2a3a2af00>  \n",
      "21           None  <src.skfibers.methods.pareto.PARETO object at 0x2a3a2af00>  \n",
      "22           None  <src.skfibers.methods.pareto.PARETO object at 0x2a3a2af00>  \n",
      "23           None  <src.skfibers.methods.pareto.PARETO object at 0x2a3a2af00>  \n",
      "24           None  <src.skfibers.methods.pareto.PARETO object at 0x2a3a2af00>  \n",
      "25           None  <src.skfibers.methods.pareto.PARETO object at 0x2a3a2af00>  \n",
      "26           None  <src.skfibers.methods.pareto.PARETO object at 0x2a3a2af00>  \n",
      "27           None  <src.skfibers.methods.pareto.PARETO object at 0x2a3a2af00>  \n",
      "28           None  <src.skfibers.methods.pareto.PARETO object at 0x2a3a2af00>  \n",
      "29           None  <src.skfibers.methods.pareto.PARETO object at 0x2a3a2af00>  \n",
      "30           None  <src.skfibers.methods.pareto.PARETO object at 0x2a3a2af00>  \n",
      "31           None  <src.skfibers.methods.pareto.PARETO object at 0x2a3a2af00>  \n",
      "32           None  <src.skfibers.methods.pareto.PARETO object at 0x2a3a2af00>  \n",
      "33           None  <src.skfibers.methods.pareto.PARETO object at 0x2a3a2af00>  \n",
      "34           None  <src.skfibers.methods.pareto.PARETO object at 0x2a3a2af00>  \n",
      "35           None  <src.skfibers.methods.pareto.PARETO object at 0x2a3a2af00>  \n",
      "36           None  <src.skfibers.methods.pareto.PARETO object at 0x2a3a2af00>  \n",
      "37           None  <src.skfibers.methods.pareto.PARETO object at 0x2a3a2af00>  \n",
      "38           None  <src.skfibers.methods.pareto.PARETO object at 0x2a3a2af00>  \n",
      "39           None  <src.skfibers.methods.pareto.PARETO object at 0x2a3a2af00>  \n",
      "40           None  <src.skfibers.methods.pareto.PARETO object at 0x2a3a2af00>  \n",
      "41           None  <src.skfibers.methods.pareto.PARETO object at 0x2a3a2af00>  \n",
      "42           None  <src.skfibers.methods.pareto.PARETO object at 0x2a3a2af00>  \n",
      "43           None  <src.skfibers.methods.pareto.PARETO object at 0x2a3a2af00>  \n",
      "44           None  <src.skfibers.methods.pareto.PARETO object at 0x2a3a2af00>  \n",
      "45           None  <src.skfibers.methods.pareto.PARETO object at 0x2a3a2af00>  \n",
      "46           None  <src.skfibers.methods.pareto.PARETO object at 0x2a3a2af00>  \n",
      "47           None  <src.skfibers.methods.pareto.PARETO object at 0x2a3a2af00>  \n",
      "48           None  <src.skfibers.methods.pareto.PARETO object at 0x2a3a2af00>  \n",
      "49           None  <src.skfibers.methods.pareto.PARETO object at 0x2a3a2af00>  \n"
     ]
    },
    {
     "name": "stderr",
     "output_type": "stream",
     "text": [
      " 22%|██▏       | 11/50 [00:08<00:29,  1.32it/s]\n"
     ]
    },
    {
     "ename": "ValueError",
     "evalue": "Values must be numeric: no strings, datetimes, objects, etc.",
     "output_type": "error",
     "traceback": [
      "\u001b[0;31m---------------------------------------------------------------------------\u001b[0m",
      "\u001b[0;31mValueError\u001b[0m                                Traceback (most recent call last)",
      "File \u001b[0;32m/opt/anaconda3/envs/fibers-env/lib/python3.12/site-packages/lifelines/utils/__init__.py:964\u001b[0m, in \u001b[0;36mpass_for_numeric_dtypes_or_raise_array\u001b[0;34m(x)\u001b[0m\n\u001b[1;32m    963\u001b[0m \u001b[38;5;28;01mif\u001b[39;00m v\u001b[38;5;241m.\u001b[39msize \u001b[38;5;241m==\u001b[39m \u001b[38;5;241m0\u001b[39m:\n\u001b[0;32m--> 964\u001b[0m     \u001b[38;5;28;01mraise\u001b[39;00m \u001b[38;5;167;01mValueError\u001b[39;00m(\u001b[38;5;124m\"\u001b[39m\u001b[38;5;124mEmpty array/Series passed in.\u001b[39m\u001b[38;5;124m\"\u001b[39m)\n\u001b[1;32m    965\u001b[0m \u001b[38;5;28;01mreturn\u001b[39;00m v\n",
      "\u001b[0;31mValueError\u001b[0m: Empty array/Series passed in.",
      "\nDuring handling of the above exception, another exception occurred:\n",
      "\u001b[0;31mValueError\u001b[0m                                Traceback (most recent call last)",
      "Cell \u001b[0;32mIn[4], line 5\u001b[0m\n\u001b[1;32m      1\u001b[0m fibers \u001b[38;5;241m=\u001b[39m FIBERS(outcome_label\u001b[38;5;241m=\u001b[39m\u001b[38;5;124m\"\u001b[39m\u001b[38;5;124mDuration\u001b[39m\u001b[38;5;124m\"\u001b[39m, outcome_type\u001b[38;5;241m=\u001b[39m\u001b[38;5;124m\"\u001b[39m\u001b[38;5;124msurvival\u001b[39m\u001b[38;5;124m\"\u001b[39m, iterations\u001b[38;5;241m=\u001b[39m\u001b[38;5;241m50\u001b[39m, pop_size\u001b[38;5;241m=\u001b[39m\u001b[38;5;241m50\u001b[39m, tournament_prop\u001b[38;5;241m=\u001b[39m\u001b[38;5;241m0.2\u001b[39m, crossover_prob\u001b[38;5;241m=\u001b[39m\u001b[38;5;241m0.5\u001b[39m, min_mutation_prob\u001b[38;5;241m=\u001b[39m\u001b[38;5;241m0.1\u001b[39m, max_mutation_prob\u001b[38;5;241m=\u001b[39m\u001b[38;5;241m0.5\u001b[39m, merge_prob\u001b[38;5;241m=\u001b[39m\u001b[38;5;241m0.1\u001b[39m, \n\u001b[1;32m      2\u001b[0m                 new_gen\u001b[38;5;241m=\u001b[39m\u001b[38;5;241m1.0\u001b[39m, elitism\u001b[38;5;241m=\u001b[39m\u001b[38;5;241m0.1\u001b[39m, diversity_pressure\u001b[38;5;241m=\u001b[39m\u001b[38;5;241m0\u001b[39m, min_bin_size\u001b[38;5;241m=\u001b[39m\u001b[38;5;241m1\u001b[39m, max_bin_size\u001b[38;5;241m=\u001b[39m\u001b[38;5;28;01mNone\u001b[39;00m, max_bin_init_size\u001b[38;5;241m=\u001b[39m\u001b[38;5;241m10\u001b[39m, fitness_metric\u001b[38;5;241m=\u001b[39m\u001b[38;5;124m\"\u001b[39m\u001b[38;5;124mresiduals\u001b[39m\u001b[38;5;124m\"\u001b[39m, log_rank_weighting\u001b[38;5;241m=\u001b[39m\u001b[38;5;28;01mNone\u001b[39;00m, censor_label\u001b[38;5;241m=\u001b[39m\u001b[38;5;124m\"\u001b[39m\u001b[38;5;124mCensoring\u001b[39m\u001b[38;5;124m\"\u001b[39m, \n\u001b[1;32m      3\u001b[0m                 group_strata_min\u001b[38;5;241m=\u001b[39m\u001b[38;5;241m0.2\u001b[39m, penalty\u001b[38;5;241m=\u001b[39m\u001b[38;5;241m0.5\u001b[39m, group_thresh\u001b[38;5;241m=\u001b[39m\u001b[38;5;28;01mNone\u001b[39;00m, min_thresh\u001b[38;5;241m=\u001b[39m\u001b[38;5;241m0\u001b[39m, max_thresh\u001b[38;5;241m=\u001b[39m\u001b[38;5;241m5\u001b[39m, int_thresh\u001b[38;5;241m=\u001b[39m\u001b[38;5;28;01mTrue\u001b[39;00m, thresh_evolve_prob\u001b[38;5;241m=\u001b[39m\u001b[38;5;241m0.5\u001b[39m, manual_bin_init\u001b[38;5;241m=\u001b[39m\u001b[38;5;28;01mNone\u001b[39;00m, covariates\u001b[38;5;241m=\u001b[39mcovariates, pop_clean \u001b[38;5;241m=\u001b[39m \u001b[38;5;124m'\u001b[39m\u001b[38;5;124mgroup_strata\u001b[39m\u001b[38;5;124m'\u001b[39m,  \n\u001b[1;32m      4\u001b[0m                 report\u001b[38;5;241m=\u001b[39m[\u001b[38;5;241m0\u001b[39m,\u001b[38;5;241m10\u001b[39m,\u001b[38;5;241m20\u001b[39m,\u001b[38;5;241m30\u001b[39m,\u001b[38;5;241m40\u001b[39m,\u001b[38;5;241m50\u001b[39m], random_seed\u001b[38;5;241m=\u001b[39m\u001b[38;5;241m27\u001b[39m, verbose\u001b[38;5;241m=\u001b[39m\u001b[38;5;28;01mFalse\u001b[39;00m)\n\u001b[0;32m----> 5\u001b[0m fibers \u001b[38;5;241m=\u001b[39m \u001b[43mfibers\u001b[49m\u001b[38;5;241;43m.\u001b[39;49m\u001b[43mfit\u001b[49m\u001b[43m(\u001b[49m\u001b[43mdata\u001b[49m\u001b[43m)\u001b[49m\n",
      "File \u001b[0;32m~/Documents/FIBERS-PURM-2024/FIBERS_working_area_pareto/src/skfibers/fibers.py:372\u001b[0m, in \u001b[0;36mFIBERS.fit\u001b[0;34m(self, x, y)\u001b[0m\n\u001b[1;32m    369\u001b[0m     parent_list \u001b[38;5;241m=\u001b[39m \u001b[38;5;28mself\u001b[39m\u001b[38;5;241m.\u001b[39mset\u001b[38;5;241m.\u001b[39mselect_parent_pair(\u001b[38;5;28mself\u001b[39m\u001b[38;5;241m.\u001b[39mtournament_prop,random)\n\u001b[1;32m    371\u001b[0m     \u001b[38;5;66;03m# Generate Offspring - clone, crossover, mutation, evaluation, add to population\u001b[39;00m\n\u001b[0;32m--> 372\u001b[0m     \u001b[38;5;28;43mself\u001b[39;49m\u001b[38;5;241;43m.\u001b[39;49m\u001b[43mset\u001b[49m\u001b[38;5;241;43m.\u001b[39;49m\u001b[43mgenerate_offspring\u001b[49m\u001b[43m(\u001b[49m\u001b[38;5;28;43mself\u001b[39;49m\u001b[38;5;241;43m.\u001b[39;49m\u001b[43mcrossover_prob\u001b[49m\u001b[43m,\u001b[49m\u001b[43mmutation_prob\u001b[49m\u001b[43m,\u001b[49m\u001b[38;5;28;43mself\u001b[39;49m\u001b[38;5;241;43m.\u001b[39;49m\u001b[43mmerge_prob\u001b[49m\u001b[43m,\u001b[49m\u001b[38;5;28;43mself\u001b[39;49m\u001b[38;5;241;43m.\u001b[39;49m\u001b[43miterations\u001b[49m\u001b[43m,\u001b[49m\u001b[43miteration\u001b[49m\u001b[43m,\u001b[49m\u001b[43mparent_list\u001b[49m\u001b[43m,\u001b[49m\u001b[38;5;28;43mself\u001b[39;49m\u001b[38;5;241;43m.\u001b[39;49m\u001b[43mfeature_names\u001b[49m\u001b[43m,\u001b[49m\n\u001b[1;32m    373\u001b[0m \u001b[43m                                \u001b[49m\u001b[43mthreshold_evolving\u001b[49m\u001b[43m,\u001b[49m\u001b[38;5;28;43mself\u001b[39;49m\u001b[38;5;241;43m.\u001b[39;49m\u001b[43mmin_bin_size\u001b[49m\u001b[43m,\u001b[49m\u001b[38;5;28;43mself\u001b[39;49m\u001b[38;5;241;43m.\u001b[39;49m\u001b[43mmax_bin_size\u001b[49m\u001b[43m,\u001b[49m\u001b[38;5;28;43mself\u001b[39;49m\u001b[38;5;241;43m.\u001b[39;49m\u001b[43mmax_bin_init_size\u001b[49m\u001b[43m,\u001b[49m\u001b[38;5;28;43mself\u001b[39;49m\u001b[38;5;241;43m.\u001b[39;49m\u001b[43mmin_thresh\u001b[49m\u001b[43m,\u001b[49m\u001b[38;5;28;43mself\u001b[39;49m\u001b[38;5;241;43m.\u001b[39;49m\u001b[43mmax_thresh\u001b[49m\u001b[43m,\u001b[49m\n\u001b[1;32m    374\u001b[0m \u001b[43m                                \u001b[49m\u001b[38;5;28;43mself\u001b[39;49m\u001b[38;5;241;43m.\u001b[39;49m\u001b[43mdf\u001b[49m\u001b[43m,\u001b[49m\u001b[38;5;28;43mself\u001b[39;49m\u001b[38;5;241;43m.\u001b[39;49m\u001b[43moutcome_type\u001b[49m\u001b[43m,\u001b[49m\u001b[38;5;28;43mself\u001b[39;49m\u001b[38;5;241;43m.\u001b[39;49m\u001b[43mfitness_metric\u001b[49m\u001b[43m,\u001b[49m\u001b[38;5;28;43mself\u001b[39;49m\u001b[38;5;241;43m.\u001b[39;49m\u001b[43mlog_rank_weighting\u001b[49m\u001b[43m,\u001b[49m\u001b[38;5;28;43mself\u001b[39;49m\u001b[38;5;241;43m.\u001b[39;49m\u001b[43moutcome_label\u001b[49m\u001b[43m,\u001b[49m\u001b[38;5;28;43mself\u001b[39;49m\u001b[38;5;241;43m.\u001b[39;49m\u001b[43mcensor_label\u001b[49m\u001b[43m,\u001b[49m\u001b[38;5;28;43mself\u001b[39;49m\u001b[38;5;241;43m.\u001b[39;49m\u001b[43mint_thresh\u001b[49m\u001b[43m,\u001b[49m\n\u001b[1;32m    375\u001b[0m \u001b[43m                                \u001b[49m\u001b[38;5;28;43mself\u001b[39;49m\u001b[38;5;241;43m.\u001b[39;49m\u001b[43mgroup_thresh\u001b[49m\u001b[43m,\u001b[49m\u001b[38;5;28;43mself\u001b[39;49m\u001b[38;5;241;43m.\u001b[39;49m\u001b[43mgroup_strata_min\u001b[49m\u001b[43m,\u001b[49m\u001b[38;5;28;43mself\u001b[39;49m\u001b[38;5;241;43m.\u001b[39;49m\u001b[43mpenalty\u001b[49m\u001b[43m,\u001b[49m\u001b[38;5;28;43mself\u001b[39;49m\u001b[38;5;241;43m.\u001b[39;49m\u001b[43mresiduals\u001b[49m\u001b[43m,\u001b[49m\u001b[38;5;28;43mself\u001b[39;49m\u001b[38;5;241;43m.\u001b[39;49m\u001b[43mcovariates\u001b[49m\u001b[43m,\u001b[49m\u001b[43m \u001b[49m\u001b[38;5;28;43mself\u001b[39;49m\u001b[38;5;241;43m.\u001b[39;49m\u001b[43mnaive_survival_optimization\u001b[49m\u001b[43m,\u001b[49m\u001b[43m \u001b[49m\u001b[43mrandom\u001b[49m\u001b[43m)\u001b[49m\n\u001b[1;32m    376\u001b[0m \u001b[38;5;66;03m# Add Offspring to Population\u001b[39;00m\n\u001b[1;32m    377\u001b[0m \u001b[38;5;28mself\u001b[39m\u001b[38;5;241m.\u001b[39mset\u001b[38;5;241m.\u001b[39madd_offspring_into_pop(iteration)\n",
      "File \u001b[0;32m~/Documents/FIBERS-PURM-2024/FIBERS_working_area_pareto/src/skfibers/methods/population.py:185\u001b[0m, in \u001b[0;36mBIN_SET.generate_offspring\u001b[0;34m(self, crossover_prob, mutation_prob, merge_prob, iterations, iteration, parent_list, feature_names, threshold_evolving, min_bin_size, max_bin_size, max_bin_init_size, min_thresh, max_thresh, df, outcome_type, fitness_metric, log_rank_weighting, outcome_label, censor_label, int_thresh, group_thresh, group_strata_min, penalty, residuals, covariates, naive_survival_optimization, random)\u001b[0m\n\u001b[1;32m    180\u001b[0m     offspring_1\u001b[38;5;241m.\u001b[39mrandom_bin(feature_names,min_bin_size,max_bin_init_size,random)\n\u001b[1;32m    181\u001b[0m     \u001b[38;5;66;03m#if iteration == 49:\u001b[39;00m\n\u001b[1;32m    182\u001b[0m     \u001b[38;5;66;03m#    print(str(offspring_1.feature_list)+'_'+str(offspring_1.group_threshold))\u001b[39;00m\n\u001b[1;32m    183\u001b[0m \n\u001b[1;32m    184\u001b[0m \u001b[38;5;66;03m# Offspring 1 Evalution \u001b[39;00m\n\u001b[0;32m--> 185\u001b[0m \u001b[43moffspring_1\u001b[49m\u001b[38;5;241;43m.\u001b[39;49m\u001b[43mevaluate\u001b[49m\u001b[43m(\u001b[49m\u001b[43mdf\u001b[49m\u001b[38;5;241;43m.\u001b[39;49m\u001b[43mloc\u001b[49m\u001b[43m[\u001b[49m\u001b[43m:\u001b[49m\u001b[43m,\u001b[49m\u001b[43mfeature_names\u001b[49m\u001b[43m]\u001b[49m\u001b[43m,\u001b[49m\u001b[43mdf\u001b[49m\u001b[38;5;241;43m.\u001b[39;49m\u001b[43mloc\u001b[49m\u001b[43m[\u001b[49m\u001b[43m:\u001b[49m\u001b[43m,\u001b[49m\u001b[43moutcome_label\u001b[49m\u001b[43m]\u001b[49m\u001b[43m,\u001b[49m\u001b[43mdf\u001b[49m\u001b[38;5;241;43m.\u001b[39;49m\u001b[43mloc\u001b[49m\u001b[43m[\u001b[49m\u001b[43m:\u001b[49m\u001b[43m,\u001b[49m\u001b[43mcensor_label\u001b[49m\u001b[43m]\u001b[49m\u001b[43m,\u001b[49m\u001b[43moutcome_type\u001b[49m\u001b[43m,\u001b[49m\u001b[43mfitness_metric\u001b[49m\u001b[43m,\u001b[49m\u001b[43mlog_rank_weighting\u001b[49m\u001b[43m,\u001b[49m\u001b[43moutcome_label\u001b[49m\u001b[43m,\u001b[49m\u001b[43mcensor_label\u001b[49m\u001b[43m,\u001b[49m\u001b[43mmin_thresh\u001b[49m\u001b[43m,\u001b[49m\u001b[43mmax_thresh\u001b[49m\u001b[43m,\u001b[49m\n\u001b[1;32m    186\u001b[0m \u001b[43m                     \u001b[49m\u001b[43mint_thresh\u001b[49m\u001b[43m,\u001b[49m\u001b[43mgroup_thresh\u001b[49m\u001b[43m,\u001b[49m\u001b[43mthreshold_evolving\u001b[49m\u001b[43m,\u001b[49m\u001b[43miterations\u001b[49m\u001b[43m,\u001b[49m\u001b[43miteration\u001b[49m\u001b[43m,\u001b[49m\u001b[43mresiduals\u001b[49m\u001b[43m,\u001b[49m\u001b[43mdf\u001b[49m\u001b[38;5;241;43m.\u001b[39;49m\u001b[43mloc\u001b[49m\u001b[43m[\u001b[49m\u001b[43m:\u001b[49m\u001b[43m,\u001b[49m\u001b[43mcovariates\u001b[49m\u001b[43m]\u001b[49m\u001b[43m,\u001b[49m\u001b[43m \u001b[49m\u001b[43mnaive_survival_optimization\u001b[49m\u001b[43m)\u001b[49m\n\u001b[1;32m    187\u001b[0m \u001b[38;5;66;03m#Add New Offspring 1 to the Population\u001b[39;00m\n\u001b[1;32m    188\u001b[0m \u001b[38;5;66;03m#if iteration == 49:\u001b[39;00m\n\u001b[1;32m    189\u001b[0m \u001b[38;5;66;03m#    print(str(offspring_1.feature_list)+'_'+str(offspring_1.group_threshold))\u001b[39;00m\n\u001b[1;32m    190\u001b[0m \u001b[38;5;28;01mif\u001b[39;00m \u001b[38;5;129;01mnot\u001b[39;00m \u001b[38;5;28mself\u001b[39m\u001b[38;5;241m.\u001b[39mequivalent_bin_in_pop(offspring_1,iteration):\n",
      "File \u001b[0;32m~/Documents/FIBERS-PURM-2024/FIBERS_working_area_pareto/src/skfibers/methods/bin.py:118\u001b[0m, in \u001b[0;36mBIN.evaluate\u001b[0;34m(self, feature_df, outcome_df, censor_df, outcome_type, fitness_metric, log_rank_weighting, outcome_label, censor_label, min_thresh, max_thresh, int_thresh, group_thresh, threshold_evolving, iterations, iteration, residuals, covariate_df, naive_survival_optimization)\u001b[0m\n\u001b[1;32m    115\u001b[0m             best_score \u001b[38;5;241m=\u001b[39m thresh_score\n\u001b[1;32m    117\u001b[0m \u001b[38;5;28;01melse\u001b[39;00m: \u001b[38;5;66;03m#Use the given group threshold to evaluate the bin\u001b[39;00m\n\u001b[0;32m--> 118\u001b[0m     log_rank_score,p_value,residuals_score,residuals_p_value,count_bt,count_at, low_risk_area \u001b[38;5;241m=\u001b[39m \u001b[38;5;28;43mself\u001b[39;49m\u001b[38;5;241;43m.\u001b[39;49m\u001b[43mevaluate_for_threshold\u001b[49m\u001b[43m(\u001b[49m\u001b[38;5;28;43mself\u001b[39;49m\u001b[38;5;241;43m.\u001b[39;49m\u001b[43mgroup_threshold\u001b[49m\u001b[43m,\u001b[49m\u001b[43mbin_df\u001b[49m\u001b[43m,\u001b[49m\u001b[43moutcome_label\u001b[49m\u001b[43m,\u001b[49m\u001b[43mcensor_label\u001b[49m\u001b[43m,\u001b[49m\u001b[43moutcome_type\u001b[49m\u001b[43m,\u001b[49m\u001b[43mfitness_metric\u001b[49m\u001b[43m,\u001b[49m\n\u001b[1;32m    119\u001b[0m \u001b[43m                \u001b[49m\u001b[43mlog_rank_weighting\u001b[49m\u001b[43m,\u001b[49m\u001b[43mresiduals\u001b[49m\u001b[43m,\u001b[49m\u001b[43mcovariate_df\u001b[49m\u001b[43m,\u001b[49m\u001b[43m \u001b[49m\u001b[43mnaive_survival_optimization\u001b[49m\u001b[43m)\u001b[49m\n\u001b[1;32m    120\u001b[0m     \u001b[38;5;28mself\u001b[39m\u001b[38;5;241m.\u001b[39mlog_rank_score \u001b[38;5;241m=\u001b[39m log_rank_score\n\u001b[1;32m    121\u001b[0m     \u001b[38;5;28mself\u001b[39m\u001b[38;5;241m.\u001b[39mlog_rank_p_value \u001b[38;5;241m=\u001b[39m p_value\n",
      "File \u001b[0;32m~/Documents/FIBERS-PURM-2024/FIBERS_working_area_pareto/src/skfibers/methods/bin.py:153\u001b[0m, in \u001b[0;36mBIN.evaluate_for_threshold\u001b[0;34m(self, threshold, bin_df, outcome_label, censor_label, outcome_type, fitness_metric, log_rank_weighting, residuals, covariate_df, naive_survival_optimization)\u001b[0m\n\u001b[1;32m    151\u001b[0m kmf1 \u001b[38;5;241m=\u001b[39m KaplanMeierFitter()\n\u001b[1;32m    152\u001b[0m \u001b[38;5;66;03m# fit the model for 1st cohort\u001b[39;00m\n\u001b[0;32m--> 153\u001b[0m \u001b[43mkmf1\u001b[49m\u001b[38;5;241;43m.\u001b[39;49m\u001b[43mfit\u001b[49m\u001b[43m(\u001b[49m\u001b[43mlow_outcome\u001b[49m\u001b[43m,\u001b[49m\u001b[43m \u001b[49m\u001b[43mlow_censor\u001b[49m\u001b[43m,\u001b[49m\u001b[43m \u001b[49m\u001b[43mlabel\u001b[49m\u001b[38;5;241;43m=\u001b[39;49m\u001b[38;5;124;43m'\u001b[39;49m\u001b[38;5;124;43mAt/Below Bin Threshold\u001b[39;49m\u001b[38;5;124;43m'\u001b[39;49m\u001b[43m)\u001b[49m\n\u001b[1;32m    155\u001b[0m \u001b[38;5;66;03m# Extracting the fitted survival function\u001b[39;00m\n\u001b[1;32m    156\u001b[0m scale_factor \u001b[38;5;241m=\u001b[39m \u001b[38;5;241m10\u001b[39m       \u001b[38;5;66;03m# scaling and rounding to prevent inaccuracy with np.trapz with high accuracy, small data\u001b[39;00m\n",
      "File \u001b[0;32m/opt/anaconda3/envs/fibers-env/lib/python3.12/site-packages/lifelines/utils/__init__.py:56\u001b[0m, in \u001b[0;36mCensoringType.right_censoring.<locals>.f\u001b[0;34m(model, *args, **kwargs)\u001b[0m\n\u001b[1;32m     53\u001b[0m \u001b[38;5;129m@wraps\u001b[39m(function)\n\u001b[1;32m     54\u001b[0m \u001b[38;5;28;01mdef\u001b[39;00m \u001b[38;5;21mf\u001b[39m(model, \u001b[38;5;241m*\u001b[39margs, \u001b[38;5;241m*\u001b[39m\u001b[38;5;241m*\u001b[39mkwargs):\n\u001b[1;32m     55\u001b[0m     \u001b[38;5;28mcls\u001b[39m\u001b[38;5;241m.\u001b[39mset_censoring_type(model, \u001b[38;5;28mcls\u001b[39m\u001b[38;5;241m.\u001b[39mRIGHT)\n\u001b[0;32m---> 56\u001b[0m     \u001b[38;5;28;01mreturn\u001b[39;00m \u001b[43mfunction\u001b[49m\u001b[43m(\u001b[49m\u001b[43mmodel\u001b[49m\u001b[43m,\u001b[49m\u001b[43m \u001b[49m\u001b[38;5;241;43m*\u001b[39;49m\u001b[43margs\u001b[49m\u001b[43m,\u001b[49m\u001b[43m \u001b[49m\u001b[38;5;241;43m*\u001b[39;49m\u001b[38;5;241;43m*\u001b[39;49m\u001b[43mkwargs\u001b[49m\u001b[43m)\u001b[49m\n",
      "File \u001b[0;32m/opt/anaconda3/envs/fibers-env/lib/python3.12/site-packages/lifelines/fitters/kaplan_meier_fitter.py:127\u001b[0m, in \u001b[0;36mKaplanMeierFitter.fit\u001b[0;34m(self, durations, event_observed, timeline, entry, label, alpha, ci_labels, weights, fit_options)\u001b[0m\n\u001b[1;32m     80\u001b[0m \u001b[38;5;129m@CensoringType\u001b[39m\u001b[38;5;241m.\u001b[39mright_censoring\n\u001b[1;32m     81\u001b[0m \u001b[38;5;28;01mdef\u001b[39;00m \u001b[38;5;21mfit\u001b[39m(\n\u001b[1;32m     82\u001b[0m     \u001b[38;5;28mself\u001b[39m,\n\u001b[0;32m   (...)\u001b[0m\n\u001b[1;32m     91\u001b[0m     fit_options\u001b[38;5;241m=\u001b[39m\u001b[38;5;28;01mNone\u001b[39;00m,\n\u001b[1;32m     92\u001b[0m ):  \u001b[38;5;66;03m# pylint: disable=too-many-arguments,too-many-locals\u001b[39;00m\n\u001b[1;32m     93\u001b[0m \u001b[38;5;250m    \u001b[39m\u001b[38;5;124;03m\"\"\"\u001b[39;00m\n\u001b[1;32m     94\u001b[0m \u001b[38;5;124;03m    Fit the model to a right-censored dataset\u001b[39;00m\n\u001b[1;32m     95\u001b[0m \n\u001b[0;32m   (...)\u001b[0m\n\u001b[1;32m    124\u001b[0m \n\u001b[1;32m    125\u001b[0m \u001b[38;5;124;03m    \"\"\"\u001b[39;00m\n\u001b[0;32m--> 127\u001b[0m     \u001b[38;5;28;01mreturn\u001b[39;00m \u001b[38;5;28;43mself\u001b[39;49m\u001b[38;5;241;43m.\u001b[39;49m\u001b[43m_fit\u001b[49m\u001b[43m(\u001b[49m\u001b[43mdurations\u001b[49m\u001b[43m,\u001b[49m\u001b[43m \u001b[49m\u001b[43mevent_observed\u001b[49m\u001b[43m,\u001b[49m\u001b[43m \u001b[49m\u001b[43mtimeline\u001b[49m\u001b[43m,\u001b[49m\u001b[43m \u001b[49m\u001b[43mentry\u001b[49m\u001b[43m,\u001b[49m\u001b[43m \u001b[49m\u001b[43mlabel\u001b[49m\u001b[43m,\u001b[49m\u001b[43m \u001b[49m\u001b[43malpha\u001b[49m\u001b[43m,\u001b[49m\u001b[43m \u001b[49m\u001b[43mci_labels\u001b[49m\u001b[43m,\u001b[49m\u001b[43m \u001b[49m\u001b[43mweights\u001b[49m\u001b[43m)\u001b[49m\n",
      "File \u001b[0;32m/opt/anaconda3/envs/fibers-env/lib/python3.12/site-packages/lifelines/fitters/kaplan_meier_fitter.py:361\u001b[0m, in \u001b[0;36mKaplanMeierFitter._fit\u001b[0;34m(self, durations, event_observed, timeline, entry, label, alpha, ci_labels, weights)\u001b[0m\n\u001b[1;32m    351\u001b[0m primary_estimate_name \u001b[38;5;241m=\u001b[39m \u001b[38;5;124m\"\u001b[39m\u001b[38;5;124msurvival_function_\u001b[39m\u001b[38;5;124m\"\u001b[39m\n\u001b[1;32m    352\u001b[0m secondary_estimate_name \u001b[38;5;241m=\u001b[39m \u001b[38;5;124m\"\u001b[39m\u001b[38;5;124mcumulative_density_\u001b[39m\u001b[38;5;124m\"\u001b[39m\n\u001b[1;32m    354\u001b[0m (\n\u001b[1;32m    355\u001b[0m     \u001b[38;5;28mself\u001b[39m\u001b[38;5;241m.\u001b[39mdurations,\n\u001b[1;32m    356\u001b[0m     \u001b[38;5;28mself\u001b[39m\u001b[38;5;241m.\u001b[39mevent_observed,\n\u001b[1;32m    357\u001b[0m     \u001b[38;5;28mself\u001b[39m\u001b[38;5;241m.\u001b[39mtimeline,\n\u001b[1;32m    358\u001b[0m     \u001b[38;5;28mself\u001b[39m\u001b[38;5;241m.\u001b[39mentry,\n\u001b[1;32m    359\u001b[0m     \u001b[38;5;28mself\u001b[39m\u001b[38;5;241m.\u001b[39mevent_table,\n\u001b[1;32m    360\u001b[0m     \u001b[38;5;28mself\u001b[39m\u001b[38;5;241m.\u001b[39mweights,\n\u001b[0;32m--> 361\u001b[0m ) \u001b[38;5;241m=\u001b[39m \u001b[43m_preprocess_inputs\u001b[49m\u001b[43m(\u001b[49m\u001b[43mdurations\u001b[49m\u001b[43m,\u001b[49m\u001b[43m \u001b[49m\u001b[43mevent_observed\u001b[49m\u001b[43m,\u001b[49m\u001b[43m \u001b[49m\u001b[43mtimeline\u001b[49m\u001b[43m,\u001b[49m\u001b[43m \u001b[49m\u001b[43mentry\u001b[49m\u001b[43m,\u001b[49m\u001b[43m \u001b[49m\u001b[43mweights\u001b[49m\u001b[43m)\u001b[49m\n\u001b[1;32m    363\u001b[0m alpha \u001b[38;5;241m=\u001b[39m alpha \u001b[38;5;28;01mif\u001b[39;00m alpha \u001b[38;5;28;01melse\u001b[39;00m \u001b[38;5;28mself\u001b[39m\u001b[38;5;241m.\u001b[39malpha\n\u001b[1;32m    364\u001b[0m log_estimate, cumulative_sq_ \u001b[38;5;241m=\u001b[39m _additive_estimate(\n\u001b[1;32m    365\u001b[0m     \u001b[38;5;28mself\u001b[39m\u001b[38;5;241m.\u001b[39mevent_table, \u001b[38;5;28mself\u001b[39m\u001b[38;5;241m.\u001b[39mtimeline, \u001b[38;5;28mself\u001b[39m\u001b[38;5;241m.\u001b[39m_additive_f, \u001b[38;5;28mself\u001b[39m\u001b[38;5;241m.\u001b[39m_additive_var, is_left_censoring\n\u001b[1;32m    366\u001b[0m )\n",
      "File \u001b[0;32m/opt/anaconda3/envs/fibers-env/lib/python3.12/site-packages/lifelines/utils/__init__.py:904\u001b[0m, in \u001b[0;36m_preprocess_inputs\u001b[0;34m(durations, event_observed, timeline, entry, weights)\u001b[0m\n\u001b[1;32m    899\u001b[0m \u001b[38;5;250m\u001b[39m\u001b[38;5;124;03m\"\"\"\u001b[39;00m\n\u001b[1;32m    900\u001b[0m \u001b[38;5;124;03mCleans and confirms input to what lifelines expects downstream\u001b[39;00m\n\u001b[1;32m    901\u001b[0m \u001b[38;5;124;03m\"\"\"\u001b[39;00m\n\u001b[1;32m    903\u001b[0m n \u001b[38;5;241m=\u001b[39m \u001b[38;5;28mlen\u001b[39m(durations)\n\u001b[0;32m--> 904\u001b[0m durations \u001b[38;5;241m=\u001b[39m np\u001b[38;5;241m.\u001b[39masarray(\u001b[43mpass_for_numeric_dtypes_or_raise_array\u001b[49m\u001b[43m(\u001b[49m\u001b[43mdurations\u001b[49m\u001b[43m)\u001b[49m)\u001b[38;5;241m.\u001b[39mreshape((n,))\n\u001b[1;32m    906\u001b[0m \u001b[38;5;28;01mif\u001b[39;00m weights \u001b[38;5;129;01mis\u001b[39;00m \u001b[38;5;28;01mNone\u001b[39;00m:\n\u001b[1;32m    907\u001b[0m     weights \u001b[38;5;241m=\u001b[39m np\u001b[38;5;241m.\u001b[39mones_like(durations)\n",
      "File \u001b[0;32m/opt/anaconda3/envs/fibers-env/lib/python3.12/site-packages/lifelines/utils/__init__.py:968\u001b[0m, in \u001b[0;36mpass_for_numeric_dtypes_or_raise_array\u001b[0;34m(x)\u001b[0m\n\u001b[1;32m    965\u001b[0m     \u001b[38;5;28;01mreturn\u001b[39;00m v\n\u001b[1;32m    967\u001b[0m \u001b[38;5;28;01mexcept\u001b[39;00m:\n\u001b[0;32m--> 968\u001b[0m     \u001b[38;5;28;01mraise\u001b[39;00m \u001b[38;5;167;01mValueError\u001b[39;00m(\u001b[38;5;124m\"\u001b[39m\u001b[38;5;124mValues must be numeric: no strings, datetimes, objects, etc.\u001b[39m\u001b[38;5;124m\"\u001b[39m)\n",
      "\u001b[0;31mValueError\u001b[0m: Values must be numeric: no strings, datetimes, objects, etc."
     ]
    }
   ],
   "source": [
    "fibers = FIBERS(outcome_label=\"Duration\", outcome_type=\"survival\", iterations=50, pop_size=50, tournament_prop=0.2, crossover_prob=0.5, min_mutation_prob=0.1, max_mutation_prob=0.5, merge_prob=0.1, \n",
    "                new_gen=1.0, elitism=0.1, diversity_pressure=0, min_bin_size=1, max_bin_size=None, max_bin_init_size=10, fitness_metric=\"residuals\", log_rank_weighting=None, censor_label=\"Censoring\", \n",
    "                group_strata_min=0.2, penalty=0.5, group_thresh=None, min_thresh=0, max_thresh=5, int_thresh=True, thresh_evolve_prob=0.5, manual_bin_init=None, covariates=covariates, pop_clean = 'group_strata',  \n",
    "                report=[0,10,20,30,40,50], random_seed=27, verbose=False)\n",
    "fibers = fibers.fit(data)"
   ]
  },
  {
   "cell_type": "markdown",
   "id": "6426b4ae",
   "metadata": {},
   "source": [
    "### Collect Race and Gender Distribution Data"
   ]
  },
  {
   "cell_type": "code",
   "execution_count": null,
   "id": "2cf7ddbd",
   "metadata": {},
   "outputs": [],
   "source": [
    "log_rank_asian = []\n",
    "log_rank_african_american = []\n",
    "log_rank_mdfr = []\n",
    "log_rank_fdmr = []\n",
    "\n",
    "resid_asian = []\n",
    "resid_african_american = []\n",
    "resid_mdfr = []\n",
    "resid_fdmr = []\n",
    "\n",
    "for seed in range(50):\n",
    "  fibers = FIBERS(outcome_label=\"Duration\", outcome_type=\"survival\", iterations=50, pop_size=50, tournament_prop=0.2, crossover_prob=0.5, min_mutation_prob=0.1, max_mutation_prob=0.5, merge_prob=0.1, \n",
    "                new_gen=1.0, elitism=0.1, diversity_pressure=0, min_bin_size=1, max_bin_size=None, max_bin_init_size=10, fitness_metric=\"log_rank\", log_rank_weighting=None, censor_label=\"Censoring\", \n",
    "                group_strata_min=0.2, penalty=0.5, group_thresh=None, min_thresh=0, max_thresh=5, int_thresh=True, thresh_evolve_prob=0.5, manual_bin_init=None, covariates=covariates, pop_clean = 'group_strata',  \n",
    "                report=[], random_seed=seed, verbose=False)\n",
    "  fibers = fibers.fit(data)\n",
    "\n",
    "  real_low_aa_ct, bin_low_aa_ct, real_high_aa_ct, bin_high_aa_ct, \\\n",
    "  real_low_white_ct, bin_low_white_ct, real_high_white_ct, bin_high_white_ct, \\\n",
    "  real_low_hispanic_ct, bin_low_hispanic_ct, real_high_hispanic_ct, bin_high_hispanic_ct, \\\n",
    "  real_low_asian_ct, bin_low_asian_ct, real_high_asian_ct, bin_high_asian_ct, \\\n",
    "  real_low_other_ct, bin_low_other_ct, real_high_other_ct, bin_high_other_ct, \\\n",
    "  real_low_mdmr_ct, bin_low_mdmr_ct, real_high_mdmr_ct, bin_high_mdmr_ct, \\\n",
    "  real_low_fdfr_ct, bin_low_fdfr_ct, real_high_fdfr_ct, bin_high_fdfr_ct, \\\n",
    "  real_low_fdmr_ct, bin_low_fdmr_ct, real_high_fdmr_ct, bin_high_fdmr_ct, \\\n",
    "  real_low_mdfr_ct, bin_low_mdfr_ct, real_high_mdfr_ct, bin_high_mdfr_ct = fibers.get_group_composition(df, 0, predictive_features=10, threshold=3)\n",
    "\n",
    "  log_rank_asian.append(bin_low_asian_ct)\n",
    "  log_rank_african_american.append(bin_low_aa_ct)\n",
    "  log_rank_mdfr.append(bin_low_mdfr_ct)\n",
    "  log_rank_fdmr.append(bin_low_fdmr_ct)\n",
    "\n",
    "  fibers_resid = FIBERS(outcome_label=\"Duration\", outcome_type=\"survival\", iterations=50, pop_size=50, tournament_prop=0.2, crossover_prob=0.5, min_mutation_prob=0.1, max_mutation_prob=0.5, merge_prob=0.1, \n",
    "                new_gen=1.0, elitism=0.1, diversity_pressure=0, min_bin_size=1, max_bin_size=None, max_bin_init_size=10, fitness_metric=\"residuals\", log_rank_weighting=None, censor_label=\"Censoring\", \n",
    "                group_strata_min=0.2, penalty=0.5, group_thresh=None, min_thresh=0, max_thresh=5, int_thresh=True, thresh_evolve_prob=0.5, manual_bin_init=None, covariates=covariates, pop_clean = 'group_strata',  \n",
    "                report=[], random_seed=seed, verbose=False)\n",
    "  fibers_resid = fibers_resid.fit(data)\n",
    "\n",
    "  real_low_aa_ct, bin_low_aa_ct, real_high_aa_ct, bin_high_aa_ct, \\\n",
    "  real_low_white_ct, bin_low_white_ct, real_high_white_ct, bin_high_white_ct, \\\n",
    "  real_low_hispanic_ct, bin_low_hispanic_ct, real_high_hispanic_ct, bin_high_hispanic_ct, \\\n",
    "  real_low_asian_ct, bin_low_asian_ct, real_high_asian_ct, bin_high_asian_ct, \\\n",
    "  real_low_other_ct, bin_low_other_ct, real_high_other_ct, bin_high_other_ct, \\\n",
    "  real_low_mdmr_ct, bin_low_mdmr_ct, real_high_mdmr_ct, bin_high_mdmr_ct, \\\n",
    "  real_low_fdfr_ct, bin_low_fdfr_ct, real_high_fdfr_ct, bin_high_fdfr_ct, \\\n",
    "  real_low_fdmr_ct, bin_low_fdmr_ct, real_high_fdmr_ct, bin_high_fdmr_ct, \\\n",
    "  real_low_mdfr_ct, bin_low_mdfr_ct, real_high_mdfr_ct, bin_high_mdfr_ct = fibers_resid.get_group_composition(df, 0, predictive_features=10, threshold=3)\n",
    "\n",
    "  resid_asian.append(bin_low_asian_ct)\n",
    "  resid_african_american.append(bin_low_aa_ct)\n",
    "  resid_mdfr.append(bin_low_mdfr_ct)\n",
    "  resid_fdmr.append(bin_low_fdmr_ct)\n",
    "\n",
    "\n"
   ]
  },
  {
   "cell_type": "code",
   "execution_count": null,
   "id": "c243c7af",
   "metadata": {},
   "outputs": [],
   "source": [
    "import matplotlib.pyplot as plt\n",
    "seed_values = range(50)\n",
    "plt.plot(seed_values, expected_african_american, label=\"expected\")\n",
    "plt.plot(seed_values, resid_african_american, label=\"resid fibers\")\n",
    "\n",
    "plt.xlabel(\"random seed survival data\")\n",
    "plt.ylabel(\"african american low risk count\")\n",
    "plt.title('Expected vs Log Rank Prediction')\n",
    "plt.legend(loc='best')\n",
    "plt.show()"
   ]
  },
  {
   "cell_type": "markdown",
   "id": "d6a6716f",
   "metadata": {},
   "source": [
    "### Report Run Time"
   ]
  },
  {
   "cell_type": "code",
   "execution_count": null,
   "id": "7db21f30",
   "metadata": {},
   "outputs": [],
   "source": [
    "# Report run time\n",
    "print(fibers.elapsed_time)"
   ]
  },
  {
   "cell_type": "markdown",
   "id": "3304fb7c",
   "metadata": {},
   "source": [
    "***\n",
    "## Top (or Target) Bin Examination\n",
    "### Specify Bin to Examine"
   ]
  },
  {
   "cell_type": "code",
   "execution_count": 5,
   "id": "b29f6298",
   "metadata": {},
   "outputs": [],
   "source": [
    "bin_index = 0 # lowest index is the bin with the highest fitness (only reports the bin ranked at the top, despite possible fitness ties for top)"
   ]
  },
  {
   "cell_type": "markdown",
   "id": "2c726ea3",
   "metadata": {},
   "source": [
    "### Get Bin Details"
   ]
  },
  {
   "cell_type": "code",
   "execution_count": 8,
   "id": "18f92bfa",
   "metadata": {},
   "outputs": [
    {
     "name": "stderr",
     "output_type": "stream",
     "text": [
      "WARNING:matplotlib.font_manager:findfont: Font family 'Raleway' not found.\n",
      "WARNING:matplotlib.font_manager:findfont: Font family 'Raleway' not found.\n",
      "WARNING:matplotlib.font_manager:findfont: Font family 'Raleway' not found.\n",
      "WARNING:matplotlib.font_manager:findfont: Font family 'Raleway' not found.\n",
      "WARNING:matplotlib.font_manager:findfont: Font family 'Raleway' not found.\n"
     ]
    },
    {
     "data": {
      "image/png": "[encoded data removed]",
      "text/plain": [
       "<Figure size 1000x600 with 1 Axes>"
      ]
     },
     "metadata": {},
     "output_type": "display_data"
    }
   ],
   "source": [
    "import matplotlib.pyplot as plt\n",
    "import numpy as np\n",
    "#fibers.get_bin_report(0)\n",
    "fibers.get_gender_proportion(df, bin_index, predictive_features=10, threshold=3)"
   ]
  },
  {
   "cell_type": "code",
   "execution_count": null,
   "id": "88f1c95f",
   "metadata": {},
   "outputs": [],
   "source": []
  },
  {
   "cell_type": "code",
   "execution_count": null,
   "id": "f1fb01d4",
   "metadata": {},
   "outputs": [],
   "source": [
    "from scipy.stats import ttest_ind\n",
    "import pandas as pd\n",
    "import numpy as np\n",
    "\n",
    "def format_p_value(p_value):\n",
    "    if p_value >= 0.0001:\n",
    "        return f\"{p_value:.4f}\"\n",
    "    else:\n",
    "        return f\"{p_value:.4e}\"\n",
    "\n",
    "# Perform t-tests and create the DataFrame\n",
    "df = pd.DataFrame({\n",
    "    'African American': [\n",
    "        format_p_value(ttest_ind(resid_african_american, expected_african_american, alternative='two-sided').pvalue),\n",
    "        format_p_value(ttest_ind(log_rank_african_american, expected_african_american, alternative='two-sided').pvalue)\n",
    "    ],\n",
    "    'Asian': [\n",
    "        format_p_value(ttest_ind(resid_asian, expected_asian, alternative='two-sided').pvalue),\n",
    "        format_p_value(ttest_ind(log_rank_asian, expected_asian, alternative='two-sided').pvalue)\n",
    "    ],\n",
    "    'MDFR': [\n",
    "        format_p_value(ttest_ind(resid_mdfr, expected_mdfr, alternative='two-sided').pvalue),\n",
    "        format_p_value(ttest_ind(log_rank_mdfr, expected_mdfr, alternative='two-sided').pvalue)\n",
    "    ],\n",
    "    'FDMR': [\n",
    "        format_p_value(ttest_ind(resid_fdmr, expected_fdmr, alternative='two-sided').pvalue),\n",
    "        format_p_value(ttest_ind(log_rank_fdmr, expected_fdmr, alternative='two-sided').pvalue)\n",
    "    ]\n",
    "}, index=['Resid', 'Log Rank'])\n",
    "\n",
    "# Display the DataFrame\n",
    "print(df)"
   ]
  },
  {
   "cell_type": "code",
   "execution_count": null,
   "id": "d7621882",
   "metadata": {},
   "outputs": [],
   "source": [
    "fibers = FIBERS(outcome_label=\"Duration\", outcome_type=\"survival\", iterations=50, pop_size=50, tournament_prop=0.2, crossover_prob=0.5, min_mutation_prob=0.1, max_mutation_prob=0.5, merge_prob=0.1, \n",
    "                new_gen=1.0, elitism=0.1, diversity_pressure=0, min_bin_size=1, max_bin_size=None, max_bin_init_size=10, fitness_metric=\"log_rank_residuals\", log_rank_weighting=None, censor_label=\"Censoring\", \n",
    "                group_strata_min=0.2, penalty=0.5, group_thresh=None, min_thresh=0, max_thresh=5, int_thresh=True, thresh_evolve_prob=0.5, manual_bin_init=None, covariates=covariates, pop_clean = 'group_strata',  \n",
    "                report=[0,10,20,30,40], random_seed=47, verbose=False)\n",
    "fibers = fibers.fit(data)"
   ]
  },
  {
   "cell_type": "code",
   "execution_count": 10,
   "id": "902b5367",
   "metadata": {},
   "outputs": [
    {
     "name": "stderr",
     "output_type": "stream",
     "text": [
      "WARNING:matplotlib.font_manager:findfont: Font family 'Raleway' not found.\n",
      "WARNING:matplotlib.font_manager:findfont: Font family 'Raleway' not found.\n",
      "WARNING:matplotlib.font_manager:findfont: Font family 'Raleway' not found.\n",
      "WARNING:matplotlib.font_manager:findfont: Font family 'Raleway' not found.\n",
      "WARNING:matplotlib.font_manager:findfont: Font family 'Raleway' not found.\n"
     ]
    },
    {
     "name": "stdout",
     "output_type": "stream",
     "text": [
      "real low risk african americans: 479\n",
      "bin's low risk african americans: 502\n",
      "real high risk african americans: 751\n",
      "bin's high risk african americans: 728\n",
      "real low risk white: 2272\n",
      "bin's low risk white: 2435\n",
      "real high risk white: 3706\n",
      "bin's high risk white: 3543\n",
      "real low risk hispanic: 715\n",
      "bin's low risk hispanic: 768\n",
      "real high risk hispanic: 1159\n",
      "bin's high risk hispanic: 1106\n",
      "real low risk asian: 217\n",
      "bin's low risk asian: 239\n",
      "real high risk asian: 372\n",
      "bin's high risk asian: 350\n",
      "real low risk other: 120\n",
      "bin's low risk other: 135\n",
      "real high risk other: 209\n",
      "bin's high risk other: 194\n",
      "real low risk mdmr: 972\n",
      "bin's low risk mdmr: 1063\n",
      "real high risk mdmr: 1708\n",
      "bin's high risk mdmr: 1617\n",
      "real low risk fdfr: 886\n",
      "bin's low risk fdfr: 967\n",
      "real high risk fdfr: 1380\n",
      "bin's high risk fdfr: 1299\n",
      "real low risk fdmr: 1228\n",
      "bin's low risk fdmr: 1298\n",
      "real high risk fdmr: 1973\n",
      "bin's high risk fdmr: 1903\n",
      "real low risk mdfr: 717\n",
      "bin's low risk mdfr: 751\n",
      "real high risk mdfr: 1136\n",
      "bin's high risk mdfr: 1102\n"
     ]
    },
    {
     "data": {
      "image/png": "[encoded data removed]",
      "text/plain": [
       "<Figure size 1000x600 with 1 Axes>"
      ]
     },
     "metadata": {},
     "output_type": "display_data"
    }
   ],
   "source": [
    "bin_index = 0\n",
    "fibers.get_gender_proportion(data, bin_index, predictive_features=10, threshold=3)"
   ]
  },
  {
   "cell_type": "markdown",
   "id": "5b0cda67",
   "metadata": {},
   "source": [
    "### Plot: Kaplan Meier Survival Curves For Each Group Defined by the Target Bin"
   ]
  },
  {
   "cell_type": "code",
   "execution_count": null,
   "id": "31b163fd",
   "metadata": {},
   "outputs": [],
   "source": [
    "fibers.get_kaplan_meir(data,bin_index,save=True,output_folder=output_folder,data_name=data_name)"
   ]
  },
  {
   "cell_type": "markdown",
   "id": "a02744ac",
   "metadata": {},
   "source": [
    "### Evaluate Target Bin Using Cox Proportional Hazard Model (adjusting for covariates)"
   ]
  },
  {
   "cell_type": "code",
   "execution_count": null,
   "id": "f1f78bd9",
   "metadata": {},
   "outputs": [],
   "source": [
    "bin_index = 0\n",
    "summary = fibers.get_cox_prop_hazard(data, bin_index)\n",
    "bin_hr = summary['exp(coef)'].iloc[0]\n",
    "bin_low_CI = summary['exp(coef) lower 95%'].iloc[0]\n",
    "bin_upper_CI = summary['exp(coef) upper 95%'].iloc[0]\n",
    "bin_p_val = summary['p'].iloc[0]\n",
    "print(\"Bin HR: \"+str(bin_hr)+\" (\"+str(bin_low_CI)+\"-\"+str(bin_upper_CI)+\")\")\n",
    "print(\"Bin HR p-value: \"+str(bin_p_val))\n",
    "summary.to_csv(output_folder+'/'+'Cox_PH_'+str(bin_index)+'_'+data_name+'.csv', index=False)\n",
    "summary"
   ]
  },
  {
   "cell_type": "markdown",
   "id": "c5a71881",
   "metadata": {},
   "source": [
    "### Check and View Any Top Bin Ties"
   ]
  },
  {
   "cell_type": "code",
   "execution_count": null,
   "id": "47ea14ab",
   "metadata": {},
   "outputs": [],
   "source": [
    "fibers.report_ties()\n"
   ]
  },
  {
   "cell_type": "markdown",
   "id": "7b72d504",
   "metadata": {},
   "source": [
    "***\n",
    "## Bin Population Examination\n",
    "### Plot: Basic Bin Population Heatmap"
   ]
  },
  {
   "cell_type": "code",
   "execution_count": null,
   "id": "24d7b54c",
   "metadata": {},
   "outputs": [],
   "source": [
    "fibers.get_bin_population_heatmap_plot(save=True,output_folder=output_folder,data_name=data_name)"
   ]
  },
  {
   "cell_type": "markdown",
   "id": "4f27a7a0",
   "metadata": {},
   "source": [
    "### Plot: Custom Bin Population Heatmap"
   ]
  },
  {
   "cell_type": "code",
   "execution_count": null,
   "id": "b9b2dc63",
   "metadata": {},
   "outputs": [],
   "source": [
    "group_names=[\"P\",\"R\"]\n",
    "legend_group_info = ['Not in Bin','Non-Predictive Feature in Bin','Predictive Feature in Bin','Covariate Associated Feature in Bin'] #2 default colors first followed by additional color descriptions in legend\n",
    "color_features = [['P_1','P_2','P_3','P_4','P_5','P_6','P_7','P_8','P_9','P_10'],['PC_1']]\n",
    "colors = [(1, 0, 0),(0, 0.8, 0.5)] # red ---Alternatively orange (1, 0.5, 0)\n",
    "default_colors = [(.95, .95, 1),(0, 0, 1)] #very light blue and blue\n",
    "max_bins = 100\n",
    "max_features = 100\n",
    "\n",
    "fibers.get_custom_bin_population_heatmap_plot(group_names,legend_group_info,color_features,colors,default_colors,max_bins,max_features,save=True,output_folder=output_folder,data_name=data_name)"
   ]
  },
  {
   "cell_type": "markdown",
   "id": "95ff4646",
   "metadata": {},
   "source": [
    "### Plot: Bin Population Pareto Front\n",
    "In plot, dot colors indicate the 'group strata prop' of the given bin, and dot size is relative to the 'group threshold of that bin'."
   ]
  },
  {
   "cell_type": "code",
   "execution_count": null,
   "id": "bcfc0d5d",
   "metadata": {},
   "outputs": [],
   "source": [
    "fibers.get_pareto_plot(save=True,output_folder=output_folder,data_name=data_name)"
   ]
  },
  {
   "cell_type": "markdown",
   "id": "848d87c6",
   "metadata": {},
   "source": [
    "### Plot: Estimated Feature Tracking Scores\n",
    "These scores accumulate throughout the training process, and do not nesessarily reflect feature importance of individual bins or the final bin population."
   ]
  },
  {
   "cell_type": "code",
   "execution_count": null,
   "id": "9746c05d",
   "metadata": {},
   "outputs": [],
   "source": [
    "fibers.get_feature_tracking_plot(max_features=50,save=True,output_folder=output_folder,data_name=data_name)"
   ]
  },
  {
   "cell_type": "markdown",
   "id": "40fc24c5",
   "metadata": {},
   "source": [
    "### Plot: Dataset Covariate Residuals (if applicable)"
   ]
  },
  {
   "cell_type": "code",
   "execution_count": null,
   "id": "0a65376c",
   "metadata": {},
   "outputs": [],
   "source": [
    "if fibers.fitness_metric == 'residuals' or fibers.fitness_metric == 'log_rank_residuals':  \n",
    "    fibers.get_residuals_histogram(save=True,output_folder=output_folder,data_name=data_name)"
   ]
  },
  {
   "cell_type": "markdown",
   "id": "550df90c",
   "metadata": {},
   "source": [
    "### Plot: Bin Log-Rank Scores Vs. Residuals Scores (if applicable)\n",
    "In plot, dot colors indicate the 'group strata prop' of the given bin, and dot size is relative to the 'group threshold of that bin'."
   ]
  },
  {
   "cell_type": "code",
   "execution_count": null,
   "id": "94b73bc9",
   "metadata": {},
   "outputs": [],
   "source": [
    "if fibers.fitness_metric == 'log_rank_residuals':\n",
    "    fibers.get_log_rank_residuals_plot(save=True,output_folder=output_folder,data_name=data_name)"
   ]
  },
  {
   "cell_type": "markdown",
   "id": "9cb5be5f",
   "metadata": {},
   "source": [
    "###  Evaluate All Bins in Population using Cox PH Model (Can be slow)"
   ]
  },
  {
   "cell_type": "code",
   "execution_count": null,
   "id": "9409004d",
   "metadata": {},
   "outputs": [],
   "source": [
    "fibers.calculate_cox_prop_hazards(data)"
   ]
  },
  {
   "cell_type": "markdown",
   "id": "d572ebc6",
   "metadata": {},
   "source": [
    "### Plot: Bin Log-Rank Scores Vs. Adjusted Hazard Ratios (if applicable)\n",
    "In plot, dot colors indicate the 'group strata prop' of the given bin, and dot size is relative to the 'group threshold of that bin'."
   ]
  },
  {
   "cell_type": "code",
   "execution_count": null,
   "id": "8af16940",
   "metadata": {},
   "outputs": [],
   "source": [
    "if fibers.fitness_metric == 'log_rank' or fibers.fitness_metric == 'log_rank_residuals':  \n",
    "    fibers.get_log_rank_adj_HR_plot(save=True,output_folder=output_folder,data_name=data_name)"
   ]
  },
  {
   "cell_type": "markdown",
   "id": "7bc02ce9",
   "metadata": {},
   "source": [
    "### Plot: Bin Adjusted Hazard Ratios Vs. Residuals Scores (if applicable)\n",
    "In plot, dot colors indicate the 'group strata prop' of the given bin, and dot size is relative to the 'group threshold of that bin'."
   ]
  },
  {
   "cell_type": "code",
   "execution_count": null,
   "id": "3f9ec918",
   "metadata": {},
   "outputs": [],
   "source": [
    "if fibers.fitness_metric == 'residuals' or fibers.fitness_metric == 'log_rank_residuals':   \n",
    "    fibers.get_adj_HR_residuals_plot(save=True,output_folder=output_folder,data_name=data_name)"
   ]
  },
  {
   "cell_type": "markdown",
   "id": "4079c79d",
   "metadata": {},
   "source": [
    "### Plot: Bin Adjusted Hazard Ratios Vs. Log Rank * Residuals Scores (if applicable)\n",
    "In plot, dot colors indicate the 'group strata prop' of the given bin, and dot size is relative to the 'group threshold of that bin'."
   ]
  },
  {
   "cell_type": "code",
   "execution_count": null,
   "id": "0a145e1f",
   "metadata": {},
   "outputs": [],
   "source": [
    "if fibers.fitness_metric == 'log_rank_residuals':   \n",
    "    fibers.get_adj_HR_metric_product_plot(save=True,output_folder=output_folder,data_name=data_name)"
   ]
  },
  {
   "cell_type": "markdown",
   "id": "77d47075",
   "metadata": {},
   "source": [
    "***\n",
    "## History of Bin Evolution (Top Bin Each Generation)\n",
    "### Plot: Scoring Metric and Pre-Fitness of top bin across training iterations"
   ]
  },
  {
   "cell_type": "code",
   "execution_count": null,
   "id": "5b479d47",
   "metadata": {},
   "outputs": [],
   "source": [
    "fibers.get_perform_progress_plot(save=True,output_folder=output_folder,data_name=data_name)"
   ]
  },
  {
   "cell_type": "markdown",
   "id": "fc185722",
   "metadata": {},
   "source": [
    "### Plot: Threshold of top bin across training iterations"
   ]
  },
  {
   "cell_type": "code",
   "execution_count": null,
   "id": "37d6a575",
   "metadata": {},
   "outputs": [],
   "source": [
    "fibers.get_threshold_progress_plot(save=True,output_folder=output_folder,data_name=data_name)"
   ]
  },
  {
   "cell_type": "markdown",
   "id": "cb44f5a9",
   "metadata": {},
   "source": [
    "### Plot: Normalized Top-Bin Stats Across Training Iterations"
   ]
  },
  {
   "cell_type": "code",
   "execution_count": null,
   "id": "f08bda78",
   "metadata": {},
   "outputs": [],
   "source": [
    "fibers.get_misc_progress_plot(save=True,output_folder=output_folder,data_name=data_name)"
   ]
  },
  {
   "cell_type": "markdown",
   "id": "257a57bf",
   "metadata": {},
   "source": [
    "### View Top Bin Information Across all Iterations/Generations"
   ]
  },
  {
   "cell_type": "code",
   "execution_count": null,
   "id": "4fc55a2b",
   "metadata": {},
   "outputs": [],
   "source": [
    "fibers.perform_track_df"
   ]
  },
  {
   "cell_type": "markdown",
   "id": "5addc345",
   "metadata": {},
   "source": [
    "***\n",
    "## Save Bin Population\n",
    "### Save Bin Population Details to CSV"
   ]
  },
  {
   "cell_type": "code",
   "execution_count": null,
   "id": "aa47c33d",
   "metadata": {},
   "outputs": [],
   "source": [
    "pop_df = fibers.get_pop()\n",
    "pop_df.to_csv(output_folder+'/'+'Pop_'+data_name+'.csv', index=False)"
   ]
  },
  {
   "cell_type": "markdown",
   "id": "65dbc73d",
   "metadata": {},
   "source": [
    "### Pickle Trained FIBERS Object (For Future Use)"
   ]
  },
  {
   "cell_type": "code",
   "execution_count": null,
   "id": "9516eb3a",
   "metadata": {},
   "outputs": [],
   "source": [
    "with open(output_folder+'/'+data_name+'.pickle', 'wb') as f:\n",
    "    pickle.dump(fibers, f)"
   ]
  },
  {
   "cell_type": "markdown",
   "id": "66e262d3",
   "metadata": {},
   "source": [
    "***\n",
    "## Transforming Bins Into New Features (i.e. Feature Learning) and Save as New CSV Files\n",
    "### Transform Bins Using Total Sums (i.e. Respective Bin Thresholds Not Applied)"
   ]
  },
  {
   "cell_type": "code",
   "execution_count": null,
   "id": "ddb83540",
   "metadata": {},
   "outputs": [],
   "source": [
    "tdf = fibers.transform(data,full_sums=True)\n",
    "tdf.to_csv(output_folder+'/'+'Transformed_FullSums_'+data_name+'.csv', index=False)\n",
    "tdf"
   ]
  },
  {
   "cell_type": "markdown",
   "id": "cb6eeb71",
   "metadata": {},
   "source": [
    "### Transform Bins Using Respective Bin Threshold (i.e. 0 = At/Under Threshold Group and 1 = Over Threshold Group)"
   ]
  },
  {
   "cell_type": "code",
   "execution_count": null,
   "id": "ef16ac67",
   "metadata": {},
   "outputs": [],
   "source": [
    "tdf = fibers.transform(data,full_sums=False)\n",
    "tdf.to_csv(output_folder+'/'+'Transformed_Threshold'+data_name+'.csv', index=False)\n",
    "tdf"
   ]
  },
  {
   "cell_type": "markdown",
   "id": "4845cd32",
   "metadata": {},
   "source": [
    "***\n",
    "## Prediction (of Group/Strata)\n",
    "### Predict Strata (Low vs. High) Using Top Bin"
   ]
  },
  {
   "cell_type": "code",
   "execution_count": null,
   "id": "48a269b0",
   "metadata": {},
   "outputs": [],
   "source": [
    "predictions = fibers.predict(data,bin_number=0)\n",
    "print(classification_report(predictions, true_risk_group, digits=8))\n"
   ]
  },
  {
   "cell_type": "markdown",
   "id": "fc7ba28f",
   "metadata": {},
   "source": [
    "### Predict Strata (Low vs. High) Using Whole Bin Population (Weighted Voting Scheme)\n",
    "Assuming that a single bin can best solve the target survival problem (as is the case in this simulation), we expect prediction by all bins with this weighted voting scheme to perform less well."
   ]
  },
  {
   "cell_type": "code",
   "execution_count": null,
   "id": "acf76381",
   "metadata": {},
   "outputs": [],
   "source": [
    "predictions = fibers.predict(data)\n",
    "print(classification_report(predictions, true_risk_group, digits=8))"
   ]
  },
  {
   "cell_type": "markdown",
   "id": "9388db12",
   "metadata": {},
   "source": [
    "***\n",
    "## Open Pickled FIBERS Object (Example)"
   ]
  },
  {
   "cell_type": "code",
   "execution_count": null,
   "id": "1c14005e",
   "metadata": {},
   "outputs": [],
   "source": [
    "with open(output_folder+'/'+data_name+'.pickle', 'rb') as f:\n",
    "    fibers = pickle.load(f)\n",
    "\n",
    "fibers.get_bin_report(bin_index)"
   ]
  }
 ],
 "metadata": {
  "kernelspec": {
   "display_name": "Python 3 (ipykernel)",
   "language": "python",
   "name": "python3"
  },
  "language_info": {
   "codemirror_mode": {
    "name": "ipython",
    "version": 3
   },
   "file_extension": ".py",
   "mimetype": "text/x-python",
   "name": "python",
   "nbconvert_exporter": "python",
   "pygments_lexer": "ipython3",
   "version": "3.12.3"
  }
 },
 "nbformat": 4,
 "nbformat_minor": 5
}
