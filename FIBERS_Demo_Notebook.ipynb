{
 "cells": [
  {
   "cell_type": "markdown",
   "id": "4250a8c3",
   "metadata": {},
   "source": [
    "# scikit-FIBERS: Demonstration Notebook\n",
    "This notebook is set up as a demonstration for running scikit-FIBERS."
   ]
  },
  {
   "cell_type": "markdown",
   "id": "73d41bbf",
   "metadata": {},
   "source": [
    "***\n",
    "## Installation:"
   ]
  },
  {
   "cell_type": "code",
   "execution_count": null,
   "id": "fc8ee459",
   "metadata": {},
   "outputs": [],
   "source": [
    "#Add Installation code"
   ]
  },
  {
   "cell_type": "markdown",
   "id": "8edd8d78",
   "metadata": {},
   "source": [
    "***\n",
    "## Imports:"
   ]
  },
  {
   "cell_type": "code",
   "execution_count": null,
   "id": "e116475e",
   "metadata": {},
   "outputs": [],
   "source": [
    "import os\n",
    "import pickle\n",
    "from sklearn.metrics import classification_report\n",
    "from src.skfibers.fibers import FIBERS\n",
    "#from src.skfibers.experiments.datagen import create_data_simulation_bin\n",
    "from src.skfibers.experiments.datagen_evolvable_threshold import create_data_simulation_bin_evolve\n",
    "\n",
    "current_working_directory = os.getcwd()\n",
    "print(current_working_directory)"
   ]
  },
  {
   "cell_type": "markdown",
   "id": "5f76d492",
   "metadata": {},
   "source": [
    "***\n",
    "## Set Up Local Run Parameters\n"
   ]
  },
  {
   "cell_type": "code",
   "execution_count": null,
   "id": "6ebd4719",
   "metadata": {},
   "outputs": [],
   "source": [
    "local_save = False\n",
    "if local_save:\n",
    "    output_folder = 'local_output'\n",
    "else:\n",
    "    output_folder = 'C:/Users/ryanu/Desktop/FIBERS_test_output'"
   ]
  },
  {
   "cell_type": "markdown",
   "id": "f55328e4",
   "metadata": {},
   "source": [
    "***\n",
    "## Survial Data Simulation"
   ]
  },
  {
   "cell_type": "code",
   "execution_count": null,
   "id": "9d5d3cb7",
   "metadata": {},
   "outputs": [],
   "source": [
    "data_name = 'sampledata'\n",
    "data = create_data_simulation_bin_evolve(number_of_instances=10000, number_of_features=100, number_of_features_in_bin=10,\n",
    "                                  no_fail_proportion=0.5, mm_frequency_range=(0.4, 0.5), noise_frequency=0.0,\n",
    "                                  class0_time_to_event_range=(1.5, 0.2), class1_time_to_event_range=(1, 0.2),\n",
    "                                  censoring_frequency=0.5, random_seed=42, negative=False, threshold=1)\n",
    "data.to_csv(output_folder+'/'+data_name+'.csv', index=False)\n",
    "#data = pd.read_csv(output_folder+'/'+data_name+'.csv')\n",
    "true_risk_group = data[['TrueRiskGroup']]\n",
    "data = data.drop('TrueRiskGroup', axis=1)"
   ]
  },
  {
   "cell_type": "markdown",
   "id": "02f5058a",
   "metadata": {},
   "source": [
    "***\n",
    "## Running FIBERS (Training)"
   ]
  },
  {
   "cell_type": "code",
   "execution_count": null,
   "id": "42047be2",
   "metadata": {},
   "outputs": [],
   "source": [
    "fibers = FIBERS(outcome_label=\"Duration\", outcome_type=\"survival\", iterations=50, pop_size = 50, crossover_prob=0.5, mutation_prob=0.1, \n",
    "                new_gen=1.0, elitism=0.1, min_bin_size=1, fitness_metric=\"log_rank\", log_rank_weighting=None,\n",
    "                censor_label=\"Censoring\", group_strata_min=0.2, group_thresh=None, min_thresh=0, max_thresh=3, int_thresh=True, thresh_evolve_prob=0.5,\n",
    "                manual_bin_init=None, covariates=None, report=None, random_seed=None, verbose=False)\n",
    "\n",
    "fibers = fibers.fit(data)"
   ]
  },
  {
   "cell_type": "markdown",
   "id": "5addc345",
   "metadata": {},
   "source": [
    "***\n",
    "## Save Bin Population\n",
    "### Save Bin Population Details to CSV"
   ]
  },
  {
   "cell_type": "code",
   "execution_count": null,
   "id": "aa47c33d",
   "metadata": {},
   "outputs": [],
   "source": [
    "pop_df = fibers.get_pop()\n",
    "pop_df.to_csv(output_folder+'/'+'Pop_'+data_name+'.csv', index=False)\n"
   ]
  },
  {
   "cell_type": "markdown",
   "id": "65dbc73d",
   "metadata": {},
   "source": [
    "### Pickle Trained FIBERS Object (For Future Use)"
   ]
  },
  {
   "cell_type": "code",
   "execution_count": null,
   "id": "9516eb3a",
   "metadata": {},
   "outputs": [],
   "source": [
    "with open(output_folder+'/'+data_name+'.pickle', 'wb') as f:\n",
    "    pickle.dump(fibers, f)"
   ]
  },
  {
   "cell_type": "markdown",
   "id": "7b72d504",
   "metadata": {},
   "source": [
    "***\n",
    "## Bin Population Examination\n",
    "### Bin Population Pareto Front"
   ]
  },
  {
   "cell_type": "code",
   "execution_count": null,
   "id": "24d7b54c",
   "metadata": {},
   "outputs": [],
   "source": [
    "fibers.get_pareto_plot(save=True,output_folder=output_folder,data_name=data_name)"
   ]
  },
  {
   "cell_type": "markdown",
   "id": "848d87c6",
   "metadata": {},
   "source": [
    "### Examine Feature Tracking Scores"
   ]
  },
  {
   "cell_type": "code",
   "execution_count": null,
   "id": "9746c05d",
   "metadata": {},
   "outputs": [],
   "source": [
    "fibers.get_feature_tracking_plot(max_features=50,save=True,output_folder=output_folder,data_name=data_name)"
   ]
  },
  {
   "cell_type": "markdown",
   "id": "9d413ace",
   "metadata": {},
   "source": [
    "### Bin Population Details\n",
    "The dataframe containing all top-bin statistics/characteristics across training iterations"
   ]
  },
  {
   "cell_type": "code",
   "execution_count": null,
   "id": "338c76fb",
   "metadata": {},
   "outputs": [],
   "source": [
    "pop_df"
   ]
  },
  {
   "cell_type": "markdown",
   "id": "3304fb7c",
   "metadata": {},
   "source": [
    "***\n",
    "## Top (or Individual) Bin Examination"
   ]
  },
  {
   "cell_type": "code",
   "execution_count": null,
   "id": "b29f6298",
   "metadata": {},
   "outputs": [],
   "source": [
    "bin_index = 0 # lowest index is the bin with the highest fitness (only reports the bin ranked at the top, despite possible fitness ties for top)"
   ]
  },
  {
   "cell_type": "code",
   "execution_count": null,
   "id": "18f92bfa",
   "metadata": {},
   "outputs": [],
   "source": [
    "fibers.get_bin_report(bin_index)"
   ]
  },
  {
   "cell_type": "markdown",
   "id": "5b0cda67",
   "metadata": {},
   "source": [
    "### Kaplan Meier Survival Plot (For Top Bin)"
   ]
  },
  {
   "cell_type": "code",
   "execution_count": null,
   "id": "31b163fd",
   "metadata": {},
   "outputs": [],
   "source": [
    "fibers.get_kaplan_meir(data,bin_index,save=True,output_folder=output_folder,data_name=data_name)"
   ]
  },
  {
   "cell_type": "markdown",
   "id": "c5a71881",
   "metadata": {},
   "source": [
    "### Check and View Top Bin Ties"
   ]
  },
  {
   "cell_type": "code",
   "execution_count": null,
   "id": "47ea14ab",
   "metadata": {},
   "outputs": [],
   "source": [
    "fibers.report_ties()\n"
   ]
  },
  {
   "cell_type": "markdown",
   "id": "77d47075",
   "metadata": {},
   "source": [
    "***\n",
    "## History of Bin Evolution (Top Bin Each Generation)\n",
    "### Plot: Fitness of top bin each training iteration"
   ]
  },
  {
   "cell_type": "code",
   "execution_count": null,
   "id": "72c4ccf6",
   "metadata": {},
   "outputs": [],
   "source": [
    "fibers.get_fitness_progress_plot()"
   ]
  },
  {
   "cell_type": "markdown",
   "id": "0d3a6ef9",
   "metadata": {},
   "source": [
    "### Plot: Scoring Metric and Pre-Fitness of top bin each training iteration"
   ]
  },
  {
   "cell_type": "code",
   "execution_count": null,
   "id": "5b479d47",
   "metadata": {},
   "outputs": [],
   "source": [
    "fibers.get_perform_progress_plot(save=True,output_folder=output_folder,data_name=data_name)"
   ]
  },
  {
   "cell_type": "markdown",
   "id": "cb44f5a9",
   "metadata": {},
   "source": [
    "### Plot: Normalized Top-Bin Stats Across Training Iterations"
   ]
  },
  {
   "cell_type": "code",
   "execution_count": null,
   "id": "f08bda78",
   "metadata": {},
   "outputs": [],
   "source": [
    "fibers.get_misc_progress_plot(save=True,output_folder=output_folder,data_name=data_name)"
   ]
  },
  {
   "cell_type": "markdown",
   "id": "257a57bf",
   "metadata": {},
   "source": [
    "### Raw Top Bin / Generation Details"
   ]
  },
  {
   "cell_type": "code",
   "execution_count": null,
   "id": "4fc55a2b",
   "metadata": {},
   "outputs": [],
   "source": [
    "fibers.perform_track_df"
   ]
  },
  {
   "cell_type": "markdown",
   "id": "66e262d3",
   "metadata": {},
   "source": [
    "***\n",
    "## Transforming Bins Into New Features (Feature Learning)"
   ]
  },
  {
   "cell_type": "code",
   "execution_count": null,
   "id": "ddb83540",
   "metadata": {},
   "outputs": [],
   "source": [
    "tdf = fibers.transform(data)\n",
    "tdf.to_csv(output_folder+'/'+'Transformed_'+data_name+'.csv', index=False)\n",
    "tdf"
   ]
  },
  {
   "cell_type": "markdown",
   "id": "4845cd32",
   "metadata": {},
   "source": [
    "***\n",
    "## Prediction (of Strata)\n",
    "### Predict Strata (Low vs. High) Using Top Bin"
   ]
  },
  {
   "cell_type": "code",
   "execution_count": null,
   "id": "48a269b0",
   "metadata": {},
   "outputs": [],
   "source": [
    "predictions = fibers.predict(data,bin_number=0)\n",
    "print(classification_report(predictions, true_risk_group))\n",
    "\n"
   ]
  },
  {
   "cell_type": "markdown",
   "id": "fc7ba28f",
   "metadata": {},
   "source": [
    "### Predict Strata (Low vs. High) Using Whole Bin Population (Weighted Voting Scheme)"
   ]
  },
  {
   "cell_type": "code",
   "execution_count": null,
   "id": "acf76381",
   "metadata": {},
   "outputs": [],
   "source": [
    "predictions = fibers.predict(data)\n",
    "print(classification_report(predictions, true_risk_group))"
   ]
  },
  {
   "cell_type": "markdown",
   "id": "9388db12",
   "metadata": {},
   "source": [
    "***\n",
    "## Open Pickled FIBERS Object (Example)"
   ]
  },
  {
   "cell_type": "code",
   "execution_count": null,
   "id": "1c14005e",
   "metadata": {},
   "outputs": [],
   "source": [
    "with open(output_folder+'/'+data_name+'.pickle', 'rb') as f:\n",
    "    fibers = pickle.load(f)\n",
    "\n",
    "fibers.get_bin_report(bin_index)"
   ]
  }
 ],
 "metadata": {
  "kernelspec": {
   "display_name": "Python 3 (ipykernel)",
   "language": "python",
   "name": "python3"
  },
  "language_info": {
   "codemirror_mode": {
    "name": "ipython",
    "version": 3
   },
   "file_extension": ".py",
   "mimetype": "text/x-python",
   "name": "python",
   "nbconvert_exporter": "python",
   "pygments_lexer": "ipython3",
   "version": "3.8.18"
  }
 },
 "nbformat": 4,
 "nbformat_minor": 5
}
