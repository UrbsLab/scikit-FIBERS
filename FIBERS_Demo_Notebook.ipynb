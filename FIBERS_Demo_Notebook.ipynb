{
 "cells": [
  {
   "cell_type": "markdown",
   "id": "fb202e16",
   "metadata": {},
   "source": [
    "# scikit-FIBERS: Demonstration Notebook\n",
    "This notebook is set up as a demonstration for running scikit-FIBERS."
   ]
  },
  {
   "cell_type": "markdown",
   "id": "6773f650",
   "metadata": {},
   "source": [
    "## Installation:"
   ]
  },
  {
   "cell_type": "code",
   "execution_count": 1,
   "id": "8711c038",
   "metadata": {},
   "outputs": [],
   "source": [
    "#Add Installation code"
   ]
  },
  {
   "cell_type": "markdown",
   "id": "65f52e9d",
   "metadata": {},
   "source": [
    "## Imports:"
   ]
  },
  {
   "cell_type": "code",
   "execution_count": 2,
   "id": "4796d42d",
   "metadata": {},
   "outputs": [
    {
     "name": "stdout",
     "output_type": "stream",
     "text": [
      "c:\\Users\\ryanu\\OneDrive\\Documents\\GitHub\\scikit-FIBERS\n"
     ]
    }
   ],
   "source": [
    "import os\n",
    "import pandas as pd\n",
    "import matplotlib.pyplot as plt\n",
    "from lifelines import KaplanMeierFitter\n",
    "#from paretoset import paretoset\n",
    "from sklearn.metrics import classification_report\n",
    "from src.skfibers.fibers import FIBERS\n",
    "from src.skfibers.experiments.datagen import create_data_simulation_bin\n",
    "from src.skfibers.experiments.datagen_evolvable_threshold import create_data_simulation_bin_evolve\n",
    "\n",
    "current_working_directory = os.getcwd()\n",
    "print(current_working_directory)"
   ]
  },
  {
   "cell_type": "markdown",
   "id": "2faeffa9",
   "metadata": {},
   "source": [
    "## Survial Data Simulation"
   ]
  },
  {
   "cell_type": "code",
   "execution_count": 3,
   "id": "2f0f1be2",
   "metadata": {},
   "outputs": [],
   "source": [
    "data = create_data_simulation_bin_evolve(number_of_instances=10000, number_of_features=100, number_of_features_in_bin=10,\n",
    "                                  no_fail_proportion=0.5, mm_frequency_range=(0.4, 0.5), noise_frequency=0.0,\n",
    "                                  class0_time_to_event_range=(1.5, 0.2), class1_time_to_event_range=(1, 0.2),\n",
    "                                  censoring_frequency=0.5, random_seed=42, negative=False, threshold=0)\n",
    "data.to_csv('sampledata.csv', index=False)\n",
    "data = pd.read_csv('sampledata.csv')\n",
    "true_risk_group = data[['TrueRiskGroup']]\n",
    "data = data.drop('TrueRiskGroup', axis=1)"
   ]
  },
  {
   "cell_type": "markdown",
   "id": "22c67a18",
   "metadata": {},
   "source": [
    "## Running FIBERS (Training)"
   ]
  },
  {
   "cell_type": "code",
   "execution_count": 4,
   "id": "f299bf00",
   "metadata": {},
   "outputs": [
    {
     "name": "stdout",
     "output_type": "stream",
     "text": [
      "Beginning FIBERS Fit:\n"
     ]
    },
    {
     "name": "stderr",
     "output_type": "stream",
     "text": [
      "100%|██████████| 50/50 [01:23<00:00,  1.68s/it]"
     ]
    },
    {
     "name": "stdout",
     "output_type": "stream",
     "text": [
      "Random Seed Check - End: 0.12170177694022866\n",
      "FIBERS Run Complete!\n",
      "Elapsed Time (sec):  89.99092221260071 seconds\n"
     ]
    },
    {
     "name": "stderr",
     "output_type": "stream",
     "text": [
      "\n"
     ]
    }
   ],
   "source": [
    "fibers = FIBERS(outcome_label=\"Duration\", outcome_type=\"survival\", iterations=50, pop_size = 50, crossover_prob=0.5, mutation_prob=0.1, \n",
    "                new_gen=1.0, elitism=0.1, min_bin_size=1, fitness_metric=\"log_rank\", log_rank_weighting=None,\n",
    "                censor_label=\"Censoring\", group_strata_min=0.2, group_thresh=None, min_thresh=0, max_thresh=3, int_thresh=True, thresh_evolve_prob=0.5,\n",
    "                manual_bin_init=None, covariates=None, report=None, random_seed=None, verbose=False)\n",
    "\n",
    "fibers = fibers.fit(data)"
   ]
  },
  {
   "cell_type": "markdown",
   "id": "2651d165",
   "metadata": {},
   "source": [
    "## Top-Bin Examination"
   ]
  },
  {
   "cell_type": "markdown",
   "id": "5b55e7b4",
   "metadata": {},
   "source": [
    "### "
   ]
  },
  {
   "cell_type": "code",
   "execution_count": 5,
   "id": "64846579",
   "metadata": {},
   "outputs": [
    {
     "name": "stdout",
     "output_type": "stream",
     "text": [
      "                                                                         0\n",
      "Features in Bin:           [P_10, P_2, P_3, P_4, P_5, P_6, P_8, P_9, R_89]\n",
      "Threshold:                                                               1\n",
      "Fitness:                                                        5497.67814\n",
      "Metric Score:                                                   5497.67814\n",
      "p-value:                                                               0.0\n",
      "Bin Size:                                                                9\n",
      "Group Ratio:                                                           0.5\n",
      "Count At/Below Threshold:                                             5000\n",
      "Count Above Threshold:                                                5000\n",
      "Birth Iteration:                                                        48\n"
     ]
    }
   ],
   "source": [
    "bin_index = 0 # lowest index is the bin with the highest fitness (only reports the bin ranked at the top, despite possible fitness ties for top)\n",
    "# Get bin reportting variables \n",
    "low_outcome, high_outcome, low_censor, high_censor, bin_report_df = fibers.get_bin_groups(data, bin_index)\n",
    "print(bin_report_df)"
   ]
  },
  {
   "cell_type": "markdown",
   "id": "173a1667",
   "metadata": {},
   "source": [
    "### Kaplan Meier Survival Plot (For Top Bin)"
   ]
  },
  {
   "cell_type": "code",
   "execution_count": 6,
   "id": "dc866698",
   "metadata": {},
   "outputs": [
    {
     "data": {
      "image/png": "[encoded data removed]",
      "text/plain": [
       "<Figure size 640x480 with 1 Axes>"
      ]
     },
     "metadata": {},
     "output_type": "display_data"
    }
   ],
   "source": [
    "kmf1 = KaplanMeierFitter()\n",
    "\n",
    "# fit the model for 1st cohort\n",
    "kmf1.fit(low_outcome, low_censor, label='Instance Count At/Below Threshold')\n",
    "a1 = kmf1.plot_survival_function()\n",
    "a1.set_ylabel('Survival Probability')\n",
    "\n",
    "# fit the model for 2nd cohort\n",
    "kmf1.fit(high_outcome, high_censor, label='Instance Count Above Threshold')\n",
    "kmf1.plot_survival_function(ax=a1)\n",
    "a1.set_xlabel('Time After Event')\n",
    "\n",
    "plt.show()"
   ]
  },
  {
   "cell_type": "markdown",
   "id": "57c5862e",
   "metadata": {},
   "source": [
    "### Check and View Top Bin Ties"
   ]
  },
  {
   "cell_type": "markdown",
   "id": "64e53574",
   "metadata": {},
   "source": [
    "### "
   ]
  },
  {
   "cell_type": "code",
   "execution_count": 7,
   "id": "2d9193e0",
   "metadata": {},
   "outputs": [
    {
     "name": "stdout",
     "output_type": "stream",
     "text": [
      "20 bins were tied for best fitness\n",
      "                                                                0\n",
      "Features in Bin:  [P_10, P_2, P_3, P_4, P_5, P_6, P_8, P_9, R_89]\n",
      "Threshold:                                                      1\n",
      "Fitness:                                               5497.67814\n",
      "Bin Size:                                                       9\n",
      "Group Ratio:                                                  0.5\n",
      "Birth Iteration:                                               48\n",
      "                                                     0\n",
      "Features in Bin:  [P_10, P_2, P_3, P_4, P_5, P_6, P_7]\n",
      "Threshold:                                           0\n",
      "Fitness:                                    5497.67814\n",
      "Bin Size:                                            7\n",
      "Group Ratio:                                       0.5\n",
      "Birth Iteration:                                    41\n",
      "                                                              0\n",
      "Features in Bin:  [P_2, P_3, P_4, P_5, P_6, P_7, P_8, P_9, R_9]\n",
      "Threshold:                                                    1\n",
      "Fitness:                                             5497.67814\n",
      "Bin Size:                                                     9\n",
      "Group Ratio:                                                0.5\n",
      "Birth Iteration:                                             47\n",
      "                                                          0\n",
      "Features in Bin:  [P_10, P_2, P_4, P_5, P_6, P_7, P_8, P_9]\n",
      "Threshold:                                                1\n",
      "Fitness:                                         5497.67814\n",
      "Bin Size:                                                 8\n",
      "Group Ratio:                                            0.5\n",
      "Birth Iteration:                                         46\n",
      "                                                                0\n",
      "Features in Bin:  [P_10, P_2, P_3, P_4, P_5, P_6, P_8, P_9, R_41]\n",
      "Threshold:                                                      1\n",
      "Fitness:                                               5497.67814\n",
      "Bin Size:                                                       9\n",
      "Group Ratio:                                                  0.5\n",
      "Birth Iteration:                                               48\n",
      "                                                                  0\n",
      "Features in Bin:  [P_10, P_2, P_3, P_4, P_5, P_6, P_7, P_8, P_9,...\n",
      "Threshold:                                                        1\n",
      "Fitness:                                                 5497.67814\n",
      "Bin Size:                                                        10\n",
      "Group Ratio:                                                    0.5\n",
      "Birth Iteration:                                                 46\n",
      "                                                                0\n",
      "Features in Bin:  [P_10, P_2, P_3, P_4, P_5, P_6, P_7, P_8, R_42]\n",
      "Threshold:                                                      1\n",
      "Fitness:                                               5497.67814\n",
      "Bin Size:                                                       9\n",
      "Group Ratio:                                                  0.5\n",
      "Birth Iteration:                                               44\n",
      "                                                                0\n",
      "Features in Bin:  [P_10, P_2, P_3, P_4, P_5, P_6, P_7, P_9, R_80]\n",
      "Threshold:                                                      1\n",
      "Fitness:                                               5497.67814\n",
      "Bin Size:                                                       9\n",
      "Group Ratio:                                                  0.5\n",
      "Birth Iteration:                                               46\n",
      "                                                                  0\n",
      "Features in Bin:  [P_10, P_2, P_3, P_4, P_5, P_6, P_7, P_8, P_9,...\n",
      "Threshold:                                                        1\n",
      "Fitness:                                                 5497.67814\n",
      "Bin Size:                                                        10\n",
      "Group Ratio:                                                    0.5\n",
      "Birth Iteration:                                                 44\n",
      "                                                                0\n",
      "Features in Bin:  [P_10, P_2, P_3, P_4, P_5, P_6, P_7, P_8, R_80]\n",
      "Threshold:                                                      1\n",
      "Fitness:                                               5497.67814\n",
      "Bin Size:                                                       9\n",
      "Group Ratio:                                                  0.5\n",
      "Birth Iteration:                                               48\n",
      "                                                               0\n",
      "Features in Bin:  [P_10, P_2, P_3, P_4, P_5, P_6, P_7, P_8, P_9]\n",
      "Threshold:                                                     2\n",
      "Fitness:                                              5497.67814\n",
      "Bin Size:                                                      9\n",
      "Group Ratio:                                                 0.5\n",
      "Birth Iteration:                                              48\n",
      "                                                               0\n",
      "Features in Bin:  [P_10, P_2, P_3, P_4, P_5, P_6, P_7, P_8, P_9]\n",
      "Threshold:                                                     1\n",
      "Fitness:                                              5497.67814\n",
      "Bin Size:                                                      9\n",
      "Group Ratio:                                                 0.5\n",
      "Birth Iteration:                                              48\n",
      "                                                          0\n",
      "Features in Bin:  [P_10, P_2, P_3, P_4, P_5, P_6, P_8, P_9]\n",
      "Threshold:                                                1\n",
      "Fitness:                                         5497.67814\n",
      "Bin Size:                                                 8\n",
      "Group Ratio:                                            0.5\n",
      "Birth Iteration:                                         47\n",
      "                                                     0\n",
      "Features in Bin:  [P_10, P_2, P_3, P_4, P_6, P_7, P_9]\n",
      "Threshold:                                           0\n",
      "Fitness:                                    5497.67814\n",
      "Bin Size:                                            7\n",
      "Group Ratio:                                       0.5\n",
      "Birth Iteration:                                    47\n",
      "                                                                0\n",
      "Features in Bin:  [P_10, P_2, P_3, P_4, P_5, P_6, P_8, P_9, R_45]\n",
      "Threshold:                                                      1\n",
      "Fitness:                                               5497.67814\n",
      "Bin Size:                                                       9\n",
      "Group Ratio:                                                  0.5\n",
      "Birth Iteration:                                               45\n",
      "                                                          0\n",
      "Features in Bin:  [P_10, P_3, P_4, P_5, P_6, P_7, P_8, P_9]\n",
      "Threshold:                                                1\n",
      "Fitness:                                         5497.67814\n",
      "Bin Size:                                                 8\n",
      "Group Ratio:                                            0.5\n",
      "Birth Iteration:                                         46\n",
      "                                                                  0\n",
      "Features in Bin:  [P_10, P_2, P_3, P_4, P_5, P_6, P_7, P_8, P_9,...\n",
      "Threshold:                                                        1\n",
      "Fitness:                                                 5497.67814\n",
      "Bin Size:                                                        10\n",
      "Group Ratio:                                                    0.5\n",
      "Birth Iteration:                                                 48\n",
      "                                                                  0\n",
      "Features in Bin:  [P_10, P_2, P_3, P_4, P_5, P_6, P_7, P_8, P_9,...\n",
      "Threshold:                                                        1\n",
      "Fitness:                                                 5497.67814\n",
      "Bin Size:                                                        10\n",
      "Group Ratio:                                                    0.5\n",
      "Birth Iteration:                                                 47\n",
      "                                                                  0\n",
      "Features in Bin:  [P_10, P_2, P_3, P_4, P_5, P_6, P_7, P_8, P_9,...\n",
      "Threshold:                                                        1\n",
      "Fitness:                                                 5497.67814\n",
      "Bin Size:                                                        10\n",
      "Group Ratio:                                                    0.5\n",
      "Birth Iteration:                                                 34\n",
      "                                                                  0\n",
      "Features in Bin:  [P_10, P_2, P_3, P_4, P_5, P_6, P_7, P_8, P_9,...\n",
      "Threshold:                                                        1\n",
      "Fitness:                                                 5497.67814\n",
      "Bin Size:                                                        10\n",
      "Group Ratio:                                                    0.5\n",
      "Birth Iteration:                                                 48\n"
     ]
    }
   ],
   "source": [
    "top_bin_list = fibers.get_top_bins()\n",
    "count = len(top_bin_list)\n",
    "if count > 1:\n",
    "    print(str(len(top_bin_list))+\" bins were tied for best fitness\")\n",
    "    for bin in top_bin_list:\n",
    "        #print(\"Features in Bin: \"+str(bin.feature_list))\n",
    "        report = bin.bin_short_report()\n",
    "        print(report)\n",
    "else:\n",
    "    print(\"Only one top performing bin found\")\n"
   ]
  },
  {
   "cell_type": "markdown",
   "id": "6fbc8592",
   "metadata": {},
   "source": [
    "## History of Bin Evolution\n",
    "### Plot: Fitness of top bin each training iteration"
   ]
  },
  {
   "cell_type": "code",
   "execution_count": 8,
   "id": "75c8e85e",
   "metadata": {},
   "outputs": [
    {
     "data": {
      "image/png": "[encoded data removed]",
      "text/plain": [
       "<Figure size 500x300 with 1 Axes>"
      ]
     },
     "metadata": {},
     "output_type": "display_data"
    }
   ],
   "source": [
    "# Extract columns for plotting\n",
    "time = fibers.top_perform_df['Iteration']\n",
    "df = fibers.top_perform_df[['Fitness']]\n",
    "\n",
    "# Plot the data\n",
    "plt.figure(figsize=(5, 3))\n",
    "colors = ['blue']  # Manually set colors\n",
    "for i, column in enumerate(df.columns):\n",
    "    plt.plot(time, df[column], label=column, color=colors[i])\n",
    "\n",
    "# Add labels and title\n",
    "plt.xlabel('Iteration')\n",
    "plt.ylabel('Fitness (Top Bin)')\n",
    "#plt.title('Top Bin Fitness Across Training Iterations')\n",
    "\n",
    "# Show the plot\n",
    "plt.grid(True)\n",
    "plt.show()"
   ]
  },
  {
   "cell_type": "markdown",
   "id": "b8dc8735",
   "metadata": {},
   "source": [
    "### Plot: Normalized Top-Bin Stats Across Training Iterations"
   ]
  },
  {
   "cell_type": "code",
   "execution_count": 9,
   "id": "2927f8ca",
   "metadata": {},
   "outputs": [
    {
     "data": {
      "image/png": "[encoded data removed]",
      "text/plain": [
       "<Figure size 500x300 with 1 Axes>"
      ]
     },
     "metadata": {},
     "output_type": "display_data"
    }
   ],
   "source": [
    "# Extract columns for plotting\n",
    "time = fibers.top_perform_df['Iteration']\n",
    "df = fibers.top_perform_df[['Birth Iteration','Bin Size','Group Ratio','Threshold']]\n",
    "df = (df - df.min()) / (df.max() - df.min())\n",
    "# Plot the data\n",
    "plt.figure(figsize=(5, 3))\n",
    "colors = ['red', 'blue', 'green', 'orange']   # Manually set colors\n",
    "for i, column in enumerate(df.columns):\n",
    "    plt.plot(time, df[column], label=column, color=colors[i])\n",
    "\n",
    "# Add labels and title\n",
    "plt.xlabel('Iteration')\n",
    "plt.ylabel('Normalized Values (0-1) ')\n",
    "#plt.title('Normalized Top-Bin Stats Across Training Iterations')\n",
    "plt.legend()  # Show legend\n",
    "\n",
    "# Show the plot\n",
    "plt.grid(True)\n",
    "plt.show()"
   ]
  },
  {
   "cell_type": "markdown",
   "id": "ad3f49c7",
   "metadata": {},
   "source": [
    "### View: The dataframe containing all top-bin statistics/characteristics across training iterations"
   ]
  },
  {
   "cell_type": "code",
   "execution_count": 10,
   "id": "5e505eea",
   "metadata": {},
   "outputs": [
    {
     "name": "stdout",
     "output_type": "stream",
     "text": [
      "    Iteration                                            Top Bin  Threshold  \\\n",
      "0          -1  [P_9, R_45, R_10, R_85, P_8, R_30, P_2, R_76, ...          3   \n",
      "1           0  [P_2, P_4, P_5, P_8, P_9, R_12, R_29, R_68, R_...          3   \n",
      "2           1  [P_10, P_2, P_4, P_5, P_8, P_9, R_10, R_29, R_...          3   \n",
      "3           2  [P_10, P_2, P_4, P_5, P_8, P_9, R_11, R_12, R_69]          3   \n",
      "4           3             [P_10, P_4, P_5, P_8, P_9, R_11, R_69]          2   \n",
      "5           4                   [P_10, P_4, P_5, P_8, P_9, R_11]          1   \n",
      "6           5                   [P_10, P_4, P_5, P_8, P_9, R_11]          1   \n",
      "7           6                         [P_10, P_4, P_5, P_8, P_9]          0   \n",
      "8           7                         [P_10, P_4, P_5, P_8, P_9]          0   \n",
      "9           8                         [P_10, P_4, P_5, P_8, P_9]          0   \n",
      "10          9                         [P_10, P_4, P_5, P_8, P_9]          0   \n",
      "11         10                         [P_10, P_4, P_5, P_8, P_9]          0   \n",
      "12         11                         [P_10, P_4, P_5, P_8, P_9]          0   \n",
      "13         12                         [P_10, P_4, P_5, P_8, P_9]          0   \n",
      "14         13                         [P_10, P_4, P_5, P_8, P_9]          0   \n",
      "15         14                         [P_10, P_4, P_5, P_8, P_9]          0   \n",
      "16         15                         [P_10, P_4, P_8, P_9, P_2]          0   \n",
      "17         16                    [P_10, P_2, P_4, P_5, P_8, P_9]          0   \n",
      "18         17               [P_10, P_2, P_3, P_4, P_5, P_8, P_9]          0   \n",
      "19         18               [P_10, P_2, P_3, P_4, P_5, P_8, P_9]          0   \n",
      "20         19               [P_10, P_2, P_3, P_4, P_5, P_8, P_9]          0   \n",
      "21         20                     [P_2, P_3, P_4, P_5, P_8, P_9]          0   \n",
      "22         21               [P_10, P_2, P_3, P_4, P_5, P_8, P_9]          0   \n",
      "23         22                [P_2, P_3, P_4, P_5, P_8, P_9, P_7]          0   \n",
      "24         23               [P_10, P_2, P_3, P_4, P_7, P_8, P_9]          0   \n",
      "25         24                [P_2, P_3, P_4, P_5, P_8, P_9, P_7]          0   \n",
      "26         25          [P_10, P_2, P_3, P_4, P_5, P_7, P_8, P_9]          0   \n",
      "27         26               [P_10, P_2, P_4, P_5, P_7, P_8, P_9]          0   \n",
      "28         27          [P_10, P_2, P_3, P_4, P_5, P_7, P_8, P_9]          0   \n",
      "29         28          [P_10, P_2, P_3, P_4, P_5, P_7, P_8, P_9]          1   \n",
      "30         29          [P_10, P_2, P_3, P_4, P_5, P_7, P_8, P_9]          0   \n",
      "31         30               [P_10, P_2, P_3, P_5, P_7, P_8, P_9]          0   \n",
      "32         31     [P_10, P_2, P_3, P_4, P_5, P_6, P_7, P_8, P_9]          0   \n",
      "33         32          [P_10, P_2, P_3, P_4, P_6, P_7, P_8, P_9]          0   \n",
      "34         33     [P_10, P_2, P_3, P_4, P_5, P_6, P_7, P_8, P_9]          1   \n",
      "35         34               [P_10, P_4, P_5, P_6, P_7, P_8, P_9]          0   \n",
      "36         35          [P_10, P_3, P_4, P_5, P_6, P_7, P_8, P_9]          1   \n",
      "37         36     [P_2, P_3, P_4, P_5, P_6, P_7, P_8, P_9, R_57]          1   \n",
      "38         37  [P_10, P_2, P_3, P_4, P_5, P_6, P_7, P_8, P_9,...          1   \n",
      "39         38    [P_10, P_3, P_4, P_5, P_6, P_7, P_8, P_9, R_57]          1   \n",
      "40         39    [P_10, P_3, P_4, P_5, P_6, P_7, P_8, P_9, R_57]          1   \n",
      "41         40     [P_2, P_3, P_4, P_5, P_6, P_7, P_8, P_9, R_59]          1   \n",
      "42         41     [P_2, P_3, P_4, P_5, P_6, P_7, P_8, P_9, R_59]          1   \n",
      "43         42          [P_10, P_2, P_4, P_5, P_6, P_7, P_8, P_9]          1   \n",
      "44         43    [P_10, P_3, P_4, P_5, P_6, P_7, P_8, P_9, R_38]          1   \n",
      "45         44    [P_10, P_3, P_4, P_5, P_6, P_7, P_8, P_9, R_49]          1   \n",
      "46         45     [P_10, P_2, P_3, P_4, P_5, P_6, P_7, P_8, P_9]          2   \n",
      "47         46     [P_10, P_2, P_3, P_4, P_5, P_6, P_7, P_8, P_9]          1   \n",
      "48         47    [P_10, P_2, P_3, P_4, P_5, P_6, P_8, P_9, R_45]          1   \n",
      "49         48    [P_10, P_2, P_3, P_4, P_5, P_6, P_7, P_8, R_42]          1   \n",
      "50         49    [P_10, P_2, P_3, P_4, P_5, P_6, P_8, P_9, R_89]          1   \n",
      "\n",
      "        Fitness       Metric        p-value  Bin Size  Group Ratio  \\\n",
      "0   1118.232160  1118.232160  3.599634e-245         9       0.3614   \n",
      "1   2427.177900  2427.177900   0.000000e+00        10       0.3671   \n",
      "2   2481.338008  2481.338008   0.000000e+00        10       0.3711   \n",
      "3   2659.725923  2659.725923   0.000000e+00         9       0.2889   \n",
      "4   2911.172436  2911.172436   0.000000e+00         7       0.3197   \n",
      "5   4243.383349  4243.383349   0.000000e+00         6       0.4230   \n",
      "6   4243.383349  4243.383349   0.000000e+00         6       0.4230   \n",
      "7   5216.720530  5216.720530   0.000000e+00         5       0.4870   \n",
      "8   5216.720530  5216.720530   0.000000e+00         5       0.4870   \n",
      "9   5216.720530  5216.720530   0.000000e+00         5       0.4870   \n",
      "10  5216.720530  5216.720530   0.000000e+00         5       0.4870   \n",
      "11  5216.720530  5216.720530   0.000000e+00         5       0.4870   \n",
      "12  5216.720530  5216.720530   0.000000e+00         5       0.4870   \n",
      "13  5216.720530  5216.720530   0.000000e+00         5       0.4870   \n",
      "14  5216.720530  5216.720530   0.000000e+00         5       0.4870   \n",
      "15  5216.720530  5216.720530   0.000000e+00         5       0.4870   \n",
      "16  5285.916967  5285.916967   0.000000e+00         5       0.4891   \n",
      "17  5429.365805  5429.365805   0.000000e+00         6       0.4973   \n",
      "18  5497.678140  5497.678140   0.000000e+00         7       0.5000   \n",
      "19  5497.678140  5497.678140   0.000000e+00         7       0.5000   \n",
      "20  5497.678140  5497.678140   0.000000e+00         7       0.5000   \n",
      "21  5478.900894  5478.900894   0.000000e+00         6       0.4977   \n",
      "22  5497.678140  5497.678140   0.000000e+00         7       0.5000   \n",
      "23  5497.678140  5497.678140   0.000000e+00         7       0.5000   \n",
      "24  5497.678140  5497.678140   0.000000e+00         7       0.5000   \n",
      "25  5497.678140  5497.678140   0.000000e+00         7       0.5000   \n",
      "26  5497.678140  5497.678140   0.000000e+00         8       0.5000   \n",
      "27  5497.678140  5497.678140   0.000000e+00         7       0.5000   \n",
      "28  5497.678140  5497.678140   0.000000e+00         8       0.5000   \n",
      "29  5497.678140  5497.678140   0.000000e+00         8       0.5000   \n",
      "30  5497.678140  5497.678140   0.000000e+00         8       0.5000   \n",
      "31  5497.678140  5497.678140   0.000000e+00         7       0.5000   \n",
      "32  5497.678140  5497.678140   0.000000e+00         9       0.5000   \n",
      "33  5497.678140  5497.678140   0.000000e+00         8       0.5000   \n",
      "34  5497.678140  5497.678140   0.000000e+00         9       0.5000   \n",
      "35  5497.678140  5497.678140   0.000000e+00         7       0.5000   \n",
      "36  5497.678140  5497.678140   0.000000e+00         8       0.5000   \n",
      "37  5497.678140  5497.678140   0.000000e+00         9       0.5000   \n",
      "38  5497.678140  5497.678140   0.000000e+00        10       0.5000   \n",
      "39  5497.678140  5497.678140   0.000000e+00         9       0.5000   \n",
      "40  5497.678140  5497.678140   0.000000e+00         9       0.5000   \n",
      "41  5497.678140  5497.678140   0.000000e+00         9       0.5000   \n",
      "42  5497.678140  5497.678140   0.000000e+00         9       0.5000   \n",
      "43  5497.678140  5497.678140   0.000000e+00         8       0.5000   \n",
      "44  5497.678140  5497.678140   0.000000e+00         9       0.5000   \n",
      "45  5497.678140  5497.678140   0.000000e+00         9       0.5000   \n",
      "46  5497.678140  5497.678140   0.000000e+00         9       0.5000   \n",
      "47  5497.678140  5497.678140   0.000000e+00         9       0.5000   \n",
      "48  5497.678140  5497.678140   0.000000e+00         9       0.5000   \n",
      "49  5497.678140  5497.678140   0.000000e+00         9       0.5000   \n",
      "50  5497.678140  5497.678140   0.000000e+00         9       0.5000   \n",
      "\n",
      "    Count At/Below Threshold  Count Below Threshold  Birth Iteration  \\\n",
      "0                       6386                   3614                0   \n",
      "1                       6329                   3671                0   \n",
      "2                       6289                   3711                1   \n",
      "3                       7111                   2889                2   \n",
      "4                       6803                   3197                3   \n",
      "5                       5770                   4230                4   \n",
      "6                       5770                   4230                4   \n",
      "7                       5130                   4870                6   \n",
      "8                       5130                   4870                6   \n",
      "9                       5130                   4870                6   \n",
      "10                      5130                   4870                6   \n",
      "11                      5130                   4870                6   \n",
      "12                      5130                   4870                6   \n",
      "13                      5130                   4870                6   \n",
      "14                      5130                   4870                6   \n",
      "15                      5130                   4870                6   \n",
      "16                      5109                   4891               15   \n",
      "17                      5027                   4973               16   \n",
      "18                      5000                   5000               17   \n",
      "19                      5000                   5000               17   \n",
      "20                      5000                   5000               17   \n",
      "21                      5023                   4977               18   \n",
      "22                      5000                   5000               21   \n",
      "23                      5000                   5000               21   \n",
      "24                      5000                   5000               22   \n",
      "25                      5000                   5000               21   \n",
      "26                      5000                   5000               23   \n",
      "27                      5000                   5000               25   \n",
      "28                      5000                   5000               23   \n",
      "29                      5000                   5000               27   \n",
      "30                      5000                   5000               23   \n",
      "31                      5000                   5000               29   \n",
      "32                      5000                   5000               29   \n",
      "33                      5000                   5000               31   \n",
      "34                      5000                   5000               32   \n",
      "35                      5000                   5000               33   \n",
      "36                      5000                   5000               34   \n",
      "37                      5000                   5000               35   \n",
      "38                      5000                   5000               34   \n",
      "39                      5000                   5000               37   \n",
      "40                      5000                   5000               37   \n",
      "41                      5000                   5000               38   \n",
      "42                      5000                   5000               38   \n",
      "43                      5000                   5000               41   \n",
      "44                      5000                   5000               38   \n",
      "45                      5000                   5000               42   \n",
      "46                      5000                   5000               44   \n",
      "47                      5000                   5000               42   \n",
      "48                      5000                   5000               45   \n",
      "49                      5000                   5000               44   \n",
      "50                      5000                   5000               48   \n",
      "\n",
      "    Elapsed Time  \n",
      "0       6.034914  \n",
      "1       7.587263  \n",
      "2       9.173909  \n",
      "3      10.837899  \n",
      "4      12.485895  \n",
      "5      14.051204  \n",
      "6      15.633438  \n",
      "7      17.218524  \n",
      "8      18.786342  \n",
      "9      20.384947  \n",
      "10     21.935904  \n",
      "11     23.519406  \n",
      "12     25.069427  \n",
      "13     26.660299  \n",
      "14     28.245210  \n",
      "15     29.837123  \n",
      "16     31.418065  \n",
      "17     33.001898  \n",
      "18     34.585111  \n",
      "19     36.186777  \n",
      "20     37.719213  \n",
      "21     39.307009  \n",
      "22     40.883041  \n",
      "23     42.426900  \n",
      "24     43.996916  \n",
      "25     45.583926  \n",
      "26     47.131900  \n",
      "27     48.706905  \n",
      "28     50.335012  \n",
      "29     52.030980  \n",
      "30     53.639396  \n",
      "31     55.248381  \n",
      "32     56.937084  \n",
      "33     58.552968  \n",
      "34     60.152157  \n",
      "35     61.708081  \n",
      "36     63.307946  \n",
      "37     64.885971  \n",
      "38     66.500342  \n",
      "39     68.133424  \n",
      "40     69.730558  \n",
      "41     71.300907  \n",
      "42     72.887888  \n",
      "43     74.488299  \n",
      "44     76.086941  \n",
      "45     77.700559  \n",
      "46     79.315197  \n",
      "47     80.910076  \n",
      "48     82.489304  \n",
      "49     84.066950  \n",
      "50     89.987922  \n"
     ]
    }
   ],
   "source": [
    "print(fibers.top_perform_df)"
   ]
  },
  {
   "cell_type": "markdown",
   "id": "a7508dd1",
   "metadata": {},
   "source": [
    "## Transforming Bins Into New Features (Feature Learning)"
   ]
  },
  {
   "cell_type": "code",
   "execution_count": 11,
   "id": "11683854",
   "metadata": {},
   "outputs": [
    {
     "name": "stdout",
     "output_type": "stream",
     "text": [
      "      Bin_0  Bin_1  Bin_2  Bin_3  Bin_4  Bin_5  Bin_6  Bin_7  Bin_8  Bin_9  \\\n",
      "0         0      0      0      0      1      1      0      1      1      1   \n",
      "1         3      2      3      3      4      3      4      2      3      3   \n",
      "2         1      0      1      0      0      1      1      0      0      0   \n",
      "3         2      3      3      3      2      4      3      3      3      3   \n",
      "4         1      0      0      0      0      1      1      0      0      0   \n",
      "...     ...    ...    ...    ...    ...    ...    ...    ...    ...    ...   \n",
      "9995      0      0      0      0      0      0      1      0      1      0   \n",
      "9996      0      0      0      0      0      0      0      1      1      1   \n",
      "9997      1      0      1      0      0      0      0      1      0      1   \n",
      "9998      4      4      4      4      4      4      4      4      5      4   \n",
      "9999      0      0      1      0      0      1      1      0      0      0   \n",
      "\n",
      "      ...  Bin_42  Bin_43  Bin_44  Bin_45  Bin_46  Bin_47  Bin_48  Bin_49  \\\n",
      "0     ...       3       1       1       0       1       1       1       1   \n",
      "1     ...       3       3       4       4       4       2       4       2   \n",
      "2     ...       2       1       0       1       1       0       2       0   \n",
      "3     ...       4       2       2       3       4       3       5       2   \n",
      "4     ...       3       1       1       1       0       0       0       0   \n",
      "...   ...     ...     ...     ...     ...     ...     ...     ...     ...   \n",
      "9995  ...       2       1       1       1       1       1       2       2   \n",
      "9996  ...       1       1       1       0       0       1       2       2   \n",
      "9997  ...       1       1       1       1       0       0       3       1   \n",
      "9998  ...       3       5       6       4       4       4       3       4   \n",
      "9999  ...       2       0       0       2       1       1       2       0   \n",
      "\n",
      "      Duration  Censoring  \n",
      "0     1.828137          0  \n",
      "1     1.025382          0  \n",
      "2     1.295743          0  \n",
      "3     1.186180          1  \n",
      "4     1.452234          0  \n",
      "...        ...        ...  \n",
      "9995  1.234257          0  \n",
      "9996  1.819680          0  \n",
      "9997  1.479425          0  \n",
      "9998  1.058906          0  \n",
      "9999  1.481661          0  \n",
      "\n",
      "[10000 rows x 52 columns]\n"
     ]
    }
   ],
   "source": [
    "tdf = fibers.transform(data)\n",
    "print(tdf)"
   ]
  },
  {
   "cell_type": "markdown",
   "id": "7fa1d678",
   "metadata": {},
   "source": [
    "## Prediction (of Strata)\n",
    "### Predict Strata (Low vs. High) Using Top Bin"
   ]
  },
  {
   "cell_type": "code",
   "execution_count": 12,
   "id": "e12bb108",
   "metadata": {},
   "outputs": [
    {
     "name": "stdout",
     "output_type": "stream",
     "text": [
      "              precision    recall  f1-score   support\n",
      "\n",
      "           0       1.00      1.00      1.00      5000\n",
      "           1       1.00      1.00      1.00      5000\n",
      "\n",
      "    accuracy                           1.00     10000\n",
      "   macro avg       1.00      1.00      1.00     10000\n",
      "weighted avg       1.00      1.00      1.00     10000\n",
      "\n"
     ]
    }
   ],
   "source": [
    "predictions = fibers.predict(data,bin_number=0)\n",
    "print(classification_report(predictions, true_risk_group))\n",
    "\n"
   ]
  },
  {
   "cell_type": "markdown",
   "id": "690dc5f4",
   "metadata": {},
   "source": [
    "### Predict Strata (Low vs. High) Using Whole Bin Population (Weighted Voting Scheme)"
   ]
  },
  {
   "cell_type": "code",
   "execution_count": 13,
   "id": "a907b760",
   "metadata": {},
   "outputs": [
    {
     "name": "stdout",
     "output_type": "stream",
     "text": [
      "              precision    recall  f1-score   support\n",
      "\n",
      "           0       0.80      1.00      0.89      3992\n",
      "           1       1.00      0.83      0.91      6008\n",
      "\n",
      "    accuracy                           0.90     10000\n",
      "   macro avg       0.90      0.92      0.90     10000\n",
      "weighted avg       0.92      0.90      0.90     10000\n",
      "\n"
     ]
    }
   ],
   "source": [
    "predictions = fibers.predict(data)\n",
    "print(classification_report(predictions, true_risk_group))"
   ]
  },
  {
   "cell_type": "markdown",
   "id": "d8c5586d",
   "metadata": {},
   "source": [
    "## Pareto Front Visualization"
   ]
  },
  {
   "cell_type": "code",
   "execution_count": 14,
   "id": "9da71cc5",
   "metadata": {},
   "outputs": [
    {
     "ename": "TypeError",
     "evalue": "Index(...) must be called with a collection of some kind, False was passed",
     "output_type": "error",
     "traceback": [
      "\u001b[1;31m---------------------------------------------------------------------------\u001b[0m",
      "\u001b[1;31mTypeError\u001b[0m                                 Traceback (most recent call last)",
      "Cell \u001b[1;32mIn[14], line 1\u001b[0m\n\u001b[1;32m----> 1\u001b[0m pop_df \u001b[38;5;241m=\u001b[39m \u001b[43mfibers\u001b[49m\u001b[38;5;241;43m.\u001b[39;49m\u001b[43mset\u001b[49m\u001b[38;5;241;43m.\u001b[39;49m\u001b[43mget_pop\u001b[49m\u001b[43m(\u001b[49m\u001b[43m)\u001b[49m\n\u001b[0;32m      2\u001b[0m \u001b[38;5;28mprint\u001b[39m(\u001b[38;5;28misinstance\u001b[39m(pop_df, pd\u001b[38;5;241m.\u001b[39mDataFrame))\n\u001b[0;32m      3\u001b[0m \u001b[38;5;28mprint\u001b[39m(pop_df)\n",
      "File \u001b[1;32mc:\\Users\\ryanu\\OneDrive\\Documents\\GitHub\\scikit-FIBERS\\src\\skfibers\\methods\\population.py:153\u001b[0m, in \u001b[0;36mBIN_SET.get_pop\u001b[1;34m(self)\u001b[0m\n\u001b[0;32m    151\u001b[0m \u001b[38;5;28;01mdef\u001b[39;00m \u001b[38;5;21mget_pop\u001b[39m(\u001b[38;5;28mself\u001b[39m):\n\u001b[0;32m    152\u001b[0m     \u001b[38;5;28mself\u001b[39m\u001b[38;5;241m.\u001b[39msort_feature_lists()\n\u001b[1;32m--> 153\u001b[0m     pop_df \u001b[38;5;241m=\u001b[39m \u001b[43mpd\u001b[49m\u001b[38;5;241;43m.\u001b[39;49m\u001b[43mDataFrame\u001b[49m\u001b[43m(\u001b[49m\u001b[43m[\u001b[49m\u001b[38;5;28;43mvars\u001b[39;49m\u001b[43m(\u001b[49m\u001b[43minstance\u001b[49m\u001b[43m)\u001b[49m\u001b[43m \u001b[49m\u001b[38;5;28;43;01mfor\u001b[39;49;00m\u001b[43m \u001b[49m\u001b[43minstance\u001b[49m\u001b[43m \u001b[49m\u001b[38;5;129;43;01min\u001b[39;49;00m\u001b[43m \u001b[49m\u001b[38;5;28;43mself\u001b[39;49m\u001b[38;5;241;43m.\u001b[39;49m\u001b[43mbin_pop\u001b[49m\u001b[43m]\u001b[49m\u001b[43m,\u001b[49m\u001b[43mindex\u001b[49m\u001b[38;5;241;43m=\u001b[39;49m\u001b[38;5;28;43;01mFalse\u001b[39;49;00m\u001b[43m)\u001b[49m\n\u001b[0;32m    154\u001b[0m     \u001b[38;5;28;01mreturn\u001b[39;00m pop_df\n",
      "File \u001b[1;32mc:\\Users\\ryanu\\anaconda3\\envs\\fibers\\lib\\site-packages\\pandas\\core\\frame.py:790\u001b[0m, in \u001b[0;36mDataFrame.__init__\u001b[1;34m(self, data, index, columns, dtype, copy)\u001b[0m\n\u001b[0;32m    781\u001b[0m         columns \u001b[38;5;241m=\u001b[39m ensure_index(columns)\n\u001b[0;32m    782\u001b[0m     arrays, columns, index \u001b[38;5;241m=\u001b[39m nested_data_to_arrays(\n\u001b[0;32m    783\u001b[0m         \u001b[38;5;66;03m# error: Argument 3 to \"nested_data_to_arrays\" has incompatible\u001b[39;00m\n\u001b[0;32m    784\u001b[0m         \u001b[38;5;66;03m# type \"Optional[Collection[Any]]\"; expected \"Optional[Index]\"\u001b[39;00m\n\u001b[1;32m   (...)\u001b[0m\n\u001b[0;32m    788\u001b[0m         dtype,\n\u001b[0;32m    789\u001b[0m     )\n\u001b[1;32m--> 790\u001b[0m     mgr \u001b[38;5;241m=\u001b[39m \u001b[43marrays_to_mgr\u001b[49m\u001b[43m(\u001b[49m\n\u001b[0;32m    791\u001b[0m \u001b[43m        \u001b[49m\u001b[43marrays\u001b[49m\u001b[43m,\u001b[49m\n\u001b[0;32m    792\u001b[0m \u001b[43m        \u001b[49m\u001b[43mcolumns\u001b[49m\u001b[43m,\u001b[49m\n\u001b[0;32m    793\u001b[0m \u001b[43m        \u001b[49m\u001b[43mindex\u001b[49m\u001b[43m,\u001b[49m\n\u001b[0;32m    794\u001b[0m \u001b[43m        \u001b[49m\u001b[43mdtype\u001b[49m\u001b[38;5;241;43m=\u001b[39;49m\u001b[43mdtype\u001b[49m\u001b[43m,\u001b[49m\n\u001b[0;32m    795\u001b[0m \u001b[43m        \u001b[49m\u001b[43mtyp\u001b[49m\u001b[38;5;241;43m=\u001b[39;49m\u001b[43mmanager\u001b[49m\u001b[43m,\u001b[49m\n\u001b[0;32m    796\u001b[0m \u001b[43m    \u001b[49m\u001b[43m)\u001b[49m\n\u001b[0;32m    797\u001b[0m \u001b[38;5;28;01melse\u001b[39;00m:\n\u001b[0;32m    798\u001b[0m     mgr \u001b[38;5;241m=\u001b[39m ndarray_to_mgr(\n\u001b[0;32m    799\u001b[0m         data,\n\u001b[0;32m    800\u001b[0m         index,\n\u001b[1;32m   (...)\u001b[0m\n\u001b[0;32m    804\u001b[0m         typ\u001b[38;5;241m=\u001b[39mmanager,\n\u001b[0;32m    805\u001b[0m     )\n",
      "File \u001b[1;32mc:\\Users\\ryanu\\anaconda3\\envs\\fibers\\lib\\site-packages\\pandas\\core\\internals\\construction.py:117\u001b[0m, in \u001b[0;36marrays_to_mgr\u001b[1;34m(arrays, columns, index, dtype, verify_integrity, typ, consolidate)\u001b[0m\n\u001b[0;32m    115\u001b[0m     index \u001b[38;5;241m=\u001b[39m _extract_index(arrays)\n\u001b[0;32m    116\u001b[0m \u001b[38;5;28;01melse\u001b[39;00m:\n\u001b[1;32m--> 117\u001b[0m     index \u001b[38;5;241m=\u001b[39m \u001b[43mensure_index\u001b[49m\u001b[43m(\u001b[49m\u001b[43mindex\u001b[49m\u001b[43m)\u001b[49m\n\u001b[0;32m    119\u001b[0m \u001b[38;5;66;03m# don't force copy because getting jammed in an ndarray anyway\u001b[39;00m\n\u001b[0;32m    120\u001b[0m arrays, refs \u001b[38;5;241m=\u001b[39m _homogenize(arrays, index, dtype)\n",
      "File \u001b[1;32mc:\\Users\\ryanu\\anaconda3\\envs\\fibers\\lib\\site-packages\\pandas\\core\\indexes\\base.py:7128\u001b[0m, in \u001b[0;36mensure_index\u001b[1;34m(index_like, copy)\u001b[0m\n\u001b[0;32m   7126\u001b[0m         \u001b[38;5;28;01mreturn\u001b[39;00m Index(index_like, copy\u001b[38;5;241m=\u001b[39mcopy, tupleize_cols\u001b[38;5;241m=\u001b[39m\u001b[38;5;28;01mFalse\u001b[39;00m)\n\u001b[0;32m   7127\u001b[0m \u001b[38;5;28;01melse\u001b[39;00m:\n\u001b[1;32m-> 7128\u001b[0m     \u001b[38;5;28;01mreturn\u001b[39;00m \u001b[43mIndex\u001b[49m\u001b[43m(\u001b[49m\u001b[43mindex_like\u001b[49m\u001b[43m,\u001b[49m\u001b[43m \u001b[49m\u001b[43mcopy\u001b[49m\u001b[38;5;241;43m=\u001b[39;49m\u001b[43mcopy\u001b[49m\u001b[43m)\u001b[49m\n",
      "File \u001b[1;32mc:\\Users\\ryanu\\anaconda3\\envs\\fibers\\lib\\site-packages\\pandas\\core\\indexes\\base.py:516\u001b[0m, in \u001b[0;36mIndex.__new__\u001b[1;34m(cls, data, dtype, copy, name, tupleize_cols)\u001b[0m\n\u001b[0;32m    513\u001b[0m         data \u001b[38;5;241m=\u001b[39m com\u001b[38;5;241m.\u001b[39masarray_tuplesafe(data, dtype\u001b[38;5;241m=\u001b[39m_dtype_obj)\n\u001b[0;32m    515\u001b[0m \u001b[38;5;28;01melif\u001b[39;00m is_scalar(data):\n\u001b[1;32m--> 516\u001b[0m     \u001b[38;5;28;01mraise\u001b[39;00m \u001b[38;5;28;43mcls\u001b[39;49m\u001b[38;5;241;43m.\u001b[39;49m\u001b[43m_raise_scalar_data_error\u001b[49m\u001b[43m(\u001b[49m\u001b[43mdata\u001b[49m\u001b[43m)\u001b[49m\n\u001b[0;32m    517\u001b[0m \u001b[38;5;28;01melif\u001b[39;00m \u001b[38;5;28mhasattr\u001b[39m(data, \u001b[38;5;124m\"\u001b[39m\u001b[38;5;124m__array__\u001b[39m\u001b[38;5;124m\"\u001b[39m):\n\u001b[0;32m    518\u001b[0m     \u001b[38;5;28;01mreturn\u001b[39;00m Index(np\u001b[38;5;241m.\u001b[39masarray(data), dtype\u001b[38;5;241m=\u001b[39mdtype, copy\u001b[38;5;241m=\u001b[39mcopy, name\u001b[38;5;241m=\u001b[39mname)\n",
      "File \u001b[1;32mc:\\Users\\ryanu\\anaconda3\\envs\\fibers\\lib\\site-packages\\pandas\\core\\indexes\\base.py:5066\u001b[0m, in \u001b[0;36mIndex._raise_scalar_data_error\u001b[1;34m(cls, data)\u001b[0m\n\u001b[0;32m   5061\u001b[0m \u001b[38;5;129m@final\u001b[39m\n\u001b[0;32m   5062\u001b[0m \u001b[38;5;129m@classmethod\u001b[39m\n\u001b[0;32m   5063\u001b[0m \u001b[38;5;28;01mdef\u001b[39;00m \u001b[38;5;21m_raise_scalar_data_error\u001b[39m(\u001b[38;5;28mcls\u001b[39m, data):\n\u001b[0;32m   5064\u001b[0m     \u001b[38;5;66;03m# We return the TypeError so that we can raise it from the constructor\u001b[39;00m\n\u001b[0;32m   5065\u001b[0m     \u001b[38;5;66;03m#  in order to keep mypy happy\u001b[39;00m\n\u001b[1;32m-> 5066\u001b[0m     \u001b[38;5;28;01mraise\u001b[39;00m \u001b[38;5;167;01mTypeError\u001b[39;00m(\n\u001b[0;32m   5067\u001b[0m         \u001b[38;5;124mf\u001b[39m\u001b[38;5;124m\"\u001b[39m\u001b[38;5;132;01m{\u001b[39;00m\u001b[38;5;28mcls\u001b[39m\u001b[38;5;241m.\u001b[39m\u001b[38;5;18m__name__\u001b[39m\u001b[38;5;132;01m}\u001b[39;00m\u001b[38;5;124m(...) must be called with a collection of some \u001b[39m\u001b[38;5;124m\"\u001b[39m\n\u001b[0;32m   5068\u001b[0m         \u001b[38;5;124mf\u001b[39m\u001b[38;5;124m\"\u001b[39m\u001b[38;5;124mkind, \u001b[39m\u001b[38;5;132;01m{\u001b[39;00m\u001b[38;5;28mrepr\u001b[39m(data)\u001b[38;5;132;01m}\u001b[39;00m\u001b[38;5;124m was passed\u001b[39m\u001b[38;5;124m\"\u001b[39m\n\u001b[0;32m   5069\u001b[0m     )\n",
      "\u001b[1;31mTypeError\u001b[0m: Index(...) must be called with a collection of some kind, False was passed"
     ]
    }
   ],
   "source": [
    "pop_df = fibers.set.get_pop()\n",
    "print(isinstance(pop_df, pd.DataFrame))\n",
    "print(pop_df)\n",
    "pop_df.to_csv('FIBERS_pop.csv', index=False)"
   ]
  },
  {
   "cell_type": "code",
   "execution_count": null,
   "id": "e0cdc25c",
   "metadata": {},
   "outputs": [
    {
     "data": {
      "image/png": "[encoded data removed]",
      "text/plain": [
       "<Figure size 800x600 with 1 Axes>"
      ]
     },
     "metadata": {},
     "output_type": "display_data"
    }
   ],
   "source": [
    "\n",
    "bin_pop = fibers.set.bin_pop\n",
    "# Initialize lists to store Pareto-optimal solutions\n",
    "pareto_fitness = []\n",
    "pareto_binsize = []\n",
    "\n",
    "# Plot the data\n",
    "plt.figure(figsize=(8, 6))\n",
    "for bin in bin_pop:\n",
    "    fitness = bin.fitness\n",
    "    binsize = bin.bin_size\n",
    "    dominated = False\n",
    "    \n",
    "    for other_bin in bin_pop:\n",
    "        if (other_bin.fitness < fitness and other_bin.bin_size < binsize) \\\n",
    "            or (other_bin.fitness <= fitness and other_bin.bin_size < binsize) \\\n",
    "            or (other_bin.fitness < fitness and other_bin.bin_size <= binsize):\n",
    "            dominated = True\n",
    "            break\n",
    "            \n",
    "    if not dominated:\n",
    "        pareto_fitness.append(fitness)\n",
    "        pareto_binsize.append(binsize)\n",
    "        plt.scatter(fitness, binsize, color='red', label='Pareto-optimal')\n",
    "    else:\n",
    "        plt.scatter(fitness, binsize, color='blue')\n",
    "\n",
    "# Add labels and title\n",
    "plt.xlabel('Fitness')\n",
    "plt.ylabel('Binsize')\n",
    "plt.title('Pareto Front')\n",
    "plt.legend()\n",
    "\n",
    "# Show the plot\n",
    "plt.grid(True)\n",
    "plt.show()"
   ]
  },
  {
   "cell_type": "code",
   "execution_count": null,
   "id": "11580aa3",
   "metadata": {},
   "outputs": [
    {
     "name": "stdout",
     "output_type": "stream",
     "text": [
      "                                         feature_list  group_threshold  \\\n",
      "0   [P_1, P_10, P_2, P_3, P_4, P_5, P_6, P_7, P_8,...                2   \n",
      "1           [P_1, P_10, P_2, P_3, P_4, P_5, P_7, P_8]                1   \n",
      "2   [P_1, P_10, P_2, P_3, P_4, P_5, P_6, P_7, P_8,...                0   \n",
      "3      [P_1, P_10, P_2, P_3, P_4, P_5, P_6, P_7, P_8]                1   \n",
      "4   [P_1, P_10, P_2, P_3, P_4, P_5, P_6, P_7, P_9,...                1   \n",
      "5   [P_1, P_10, P_3, P_4, P_5, P_6, P_7, P_8, P_9,...                2   \n",
      "6     [P_1, P_10, P_2, P_4, P_5, P_6, P_8, P_9, R_80]                1   \n",
      "7   [P_1, P_10, P_2, P_3, P_4, P_6, P_7, P_8, P_9,...                2   \n",
      "8     [P_1, P_10, P_2, P_3, P_4, P_5, P_6, P_7, R_82]                1   \n",
      "9   [P_1, P_10, P_2, P_4, P_5, P_6, P_7, P_8, P_9,...                1   \n",
      "10  [P_1, P_10, P_2, P_4, P_5, P_6, P_7, P_8, P_9,...                2   \n",
      "11    [P_1, P_10, P_2, P_4, P_6, P_7, P_8, P_9, R_43]                1   \n",
      "12    [P_1, P_10, P_2, P_4, P_5, P_6, P_8, P_9, R_88]                1   \n",
      "13    [P_1, P_10, P_2, P_4, P_5, P_7, P_8, P_9, R_20]                1   \n",
      "14           [P_1, P_2, P_4, P_5, P_6, P_7, P_8, P_9]                1   \n",
      "15  [P_1, P_10, P_2, P_3, P_4, P_5, P_6, P_7, P_8,...                1   \n",
      "16           [P_1, P_2, P_3, P_4, P_5, P_7, P_8, P_9]                1   \n",
      "17  [P_1, P_10, P_2, P_3, P_4, P_5, P_7, P_8, P_9,...                1   \n",
      "18  [P_1, P_2, P_3, P_4, P_5, P_6, P_7, P_8, P_9, ...                1   \n",
      "19    [P_1, P_10, P_3, P_4, P_5, P_7, P_8, P_9, R_80]                1   \n",
      "20     [P_1, P_10, P_2, P_4, P_5, P_6, P_7, P_8, P_9]                1   \n",
      "21  [P_1, P_10, P_2, P_3, P_4, P_6, P_7, P_8, P_9,...                1   \n",
      "22  [P_1, P_10, P_2, P_3, P_4, P_6, P_7, P_8, P_9,...                1   \n",
      "23  [P_1, P_10, P_2, P_3, P_4, P_5, P_6, P_7, P_9,...                2   \n",
      "24  [P_1, P_10, P_2, P_3, P_4, P_5, P_6, P_7, P_8,...                2   \n",
      "25  [P_1, P_10, P_2, P_3, P_4, P_5, P_6, P_7, P_8,...                1   \n",
      "26  [P_1, P_10, P_2, P_3, P_4, P_5, P_6, P_7, P_8,...                1   \n",
      "27  [P_1, P_10, P_2, P_3, P_4, P_5, P_6, P_7, P_8,...                1   \n",
      "28  [P_1, P_10, P_2, P_3, P_4, P_5, P_6, P_7, P_8,...                2   \n",
      "29                [P_1, P_2, P_4, P_5, P_6, P_8, P_9]                1   \n",
      "30         [P_1, P_10, P_2, P_4, P_5, P_6, P_7, R_32]                1   \n",
      "31         [P_1, P_10, P_2, P_3, P_4, P_6, P_8, R_26]                1   \n",
      "32         [P_1, P_10, P_3, P_4, P_6, P_7, P_8, R_20]                1   \n",
      "33         [P_10, P_2, P_3, P_4, P_6, P_7, P_9, R_54]                1   \n",
      "34         [P_1, P_10, P_2, P_4, P_6, P_8, P_9, R_22]                1   \n",
      "35          [P_1, P_10, P_3, P_5, P_6, P_7, P_8, R_6]                1   \n",
      "36         [P_1, P_10, P_2, P_3, P_4, P_5, P_8, R_63]                1   \n",
      "37                [P_1, P_2, P_3, P_4, P_5, P_6, P_7]                1   \n",
      "38                [P_1, P_2, P_3, P_4, P_6, P_7, P_9]                1   \n",
      "39                [P_1, P_2, P_3, P_5, P_7, P_8, P_9]                1   \n",
      "40               [P_1, P_10, P_2, P_4, P_5, P_6, P_8]                1   \n",
      "41               [P_1, P_10, P_2, P_3, P_4, P_6, P_8]                1   \n",
      "42               [P_10, P_2, P_3, P_4, P_5, P_7, P_9]                1   \n",
      "43               [P_1, P_10, P_2, P_5, P_6, P_8, P_9]                1   \n",
      "44  [P_1, P_10, P_2, P_4, P_5, P_7, P_8, P_9, R_31...                2   \n",
      "45  [P_1, P_10, P_2, P_4, P_5, P_6, P_7, P_8, P_9,...                3   \n",
      "46  [P_1, P_10, P_2, P_3, P_4, P_6, P_7, P_8, P_9,...                3   \n",
      "47  [P_1, P_10, P_2, P_3, P_4, P_5, P_7, P_8, P_9,...                3   \n",
      "48  [P_1, P_10, P_2, P_3, P_5, P_6, P_7, P_8, P_9,...                3   \n",
      "49                    [P_1, P_10, P_4, P_6, P_8, P_9]                1   \n",
      "\n",
      "        fitness       metric  p_value  bin_size  group_strata_prop  count_bt  \\\n",
      "0   5497.678140  5497.678140      0.0        12             0.5000      5000   \n",
      "1   5497.678140  5497.678140      0.0         8             0.5000      5000   \n",
      "2   5497.678140  5497.678140      0.0        10             0.5000      5000   \n",
      "3   5497.678140  5497.678140      0.0         9             0.5000      5000   \n",
      "4   5497.678140  5497.678140      0.0        10             0.5000      5000   \n",
      "5   5497.678140  5497.678140      0.0        10             0.5000      5000   \n",
      "6   5497.678140  5497.678140      0.0         9             0.5000      5000   \n",
      "7   5497.678140  5497.678140      0.0        10             0.5000      5000   \n",
      "8   5497.678140  5497.678140      0.0         9             0.5000      5000   \n",
      "9   5497.678140  5497.678140      0.0        10             0.5000      5000   \n",
      "10  5497.678140  5497.678140      0.0        11             0.5000      5000   \n",
      "11  5497.678140  5497.678140      0.0         9             0.5000      5000   \n",
      "12  5497.678140  5497.678140      0.0         9             0.5000      5000   \n",
      "13  5497.678140  5497.678140      0.0         9             0.5000      5000   \n",
      "14  5497.678140  5497.678140      0.0         8             0.5000      5000   \n",
      "15  5497.678140  5497.678140      0.0        11             0.5000      5000   \n",
      "16  5497.678140  5497.678140      0.0         8             0.5000      5000   \n",
      "17  5497.678140  5497.678140      0.0        10             0.5000      5000   \n",
      "18  5497.678140  5497.678140      0.0        10             0.5000      5000   \n",
      "19  5497.678140  5497.678140      0.0         9             0.5000      5000   \n",
      "20  5497.678140  5497.678140      0.0         9             0.5000      5000   \n",
      "21  5497.678140  5497.678140      0.0        10             0.5000      5000   \n",
      "22  5497.678140  5497.678140      0.0        10             0.5000      5000   \n",
      "23  5497.678140  5497.678140      0.0        10             0.5000      5000   \n",
      "24  5497.678140  5497.678140      0.0        12             0.5000      5000   \n",
      "25  5497.678140  5497.678140      0.0        11             0.5000      5000   \n",
      "26  5497.678140  5497.678140      0.0        11             0.5000      5000   \n",
      "27  5497.678140  5497.678140      0.0        11             0.5000      5000   \n",
      "28  5497.678140  5497.678140      0.0        12             0.5000      5000   \n",
      "29  5372.685416  5372.685416      0.0         7             0.4862      5138   \n",
      "30  5365.789651  5365.789651      0.0         8             0.4908      5092   \n",
      "31  5354.180472  5354.180472      0.0         8             0.4916      5084   \n",
      "32  5352.275946  5352.275946      0.0         8             0.4929      5071   \n",
      "33  5343.963247  5343.963247      0.0         8             0.4914      5086   \n",
      "34  5319.759082  5319.759082      0.0         8             0.4904      5096   \n",
      "35  5289.932565  5289.932565      0.0         8             0.4887      5113   \n",
      "36  5269.545855  5269.545855      0.0         8             0.4891      5109   \n",
      "37  5244.647927  5244.647927      0.0         7             0.4842      5158   \n",
      "38  5234.181985  5234.181985      0.0         7             0.4837      5163   \n",
      "39  5233.216854  5233.216854      0.0         7             0.4810      5190   \n",
      "40  5225.679236  5225.679236      0.0         7             0.4836      5164   \n",
      "41  5196.934173  5196.934173      0.0         7             0.4827      5173   \n",
      "42  5188.801906  5188.801906      0.0         7             0.4819      5181   \n",
      "43  5179.984432  5179.984432      0.0         7             0.4839      5161   \n",
      "44  5176.469219  5176.469219      0.0        10             0.4801      5199   \n",
      "45  4965.044693  4965.044693      0.0        12             0.4682      5318   \n",
      "46  4957.681876  4957.681876      0.0        12             0.4702      5298   \n",
      "47  4932.859760  4932.859760      0.0        12             0.4702      5298   \n",
      "48  4909.786310  4909.786310      0.0        12             0.4679      5321   \n",
      "49  4612.742909  4612.742909      0.0         6             0.4429      5571   \n",
      "\n",
      "    count_at  birth_iteration  \n",
      "0       5000               47  \n",
      "1       5000               47  \n",
      "2       5000               48  \n",
      "3       5000               48  \n",
      "4       5000               48  \n",
      "5       5000               47  \n",
      "6       5000               46  \n",
      "7       5000               43  \n",
      "8       5000               45  \n",
      "9       5000               45  \n",
      "10      5000               48  \n",
      "11      5000               46  \n",
      "12      5000               48  \n",
      "13      5000               45  \n",
      "14      5000               43  \n",
      "15      5000               48  \n",
      "16      5000               48  \n",
      "17      5000               45  \n",
      "18      5000               47  \n",
      "19      5000               48  \n",
      "20      5000               47  \n",
      "21      5000               48  \n",
      "22      5000               46  \n",
      "23      5000               48  \n",
      "24      5000               49  \n",
      "25      5000               49  \n",
      "26      5000               49  \n",
      "27      5000               49  \n",
      "28      5000               49  \n",
      "29      4862               46  \n",
      "30      4908               45  \n",
      "31      4916               44  \n",
      "32      4929               48  \n",
      "33      4914               46  \n",
      "34      4904               46  \n",
      "35      4887               46  \n",
      "36      4891               47  \n",
      "37      4842               47  \n",
      "38      4837               48  \n",
      "39      4810               47  \n",
      "40      4836               48  \n",
      "41      4827               48  \n",
      "42      4819               47  \n",
      "43      4839               47  \n",
      "44      4801               47  \n",
      "45      4682               49  \n",
      "46      4702               49  \n",
      "47      4702               49  \n",
      "48      4679               49  \n",
      "49      4429               47  \n",
      "None\n"
     ]
    },
    {
     "ename": "TypeError",
     "evalue": "'NoneType' object is not subscriptable",
     "output_type": "error",
     "traceback": [
      "\u001b[1;31m---------------------------------------------------------------------------\u001b[0m",
      "\u001b[1;31mTypeError\u001b[0m                                 Traceback (most recent call last)",
      "Cell \u001b[1;32mIn[34], line 4\u001b[0m\n\u001b[0;32m      1\u001b[0m pop_df \u001b[38;5;241m=\u001b[39m fibers\u001b[38;5;241m.\u001b[39mset\u001b[38;5;241m.\u001b[39mreport_pop()\n\u001b[0;32m      3\u001b[0m \u001b[38;5;28mprint\u001b[39m(pop_df)\n\u001b[1;32m----> 4\u001b[0m max_bin_size \u001b[38;5;241m=\u001b[39m \u001b[43mpop_df\u001b[49m\u001b[43m[\u001b[49m\u001b[38;5;124;43m'\u001b[39;49m\u001b[38;5;124;43mBin Size:\u001b[39;49m\u001b[38;5;124;43m'\u001b[39;49m\u001b[43m]\u001b[49m\u001b[38;5;241m.\u001b[39mmax()\n\u001b[0;32m      5\u001b[0m \u001b[38;5;28mprint\u001b[39m(max_bin_size)\n\u001b[0;32m      6\u001b[0m object_list \u001b[38;5;241m=\u001b[39m pop_df[[\u001b[38;5;124m'\u001b[39m\u001b[38;5;124mFitness\u001b[39m\u001b[38;5;124m'\u001b[39m,\u001b[38;5;124m'\u001b[39m\u001b[38;5;124mBin Size\u001b[39m\u001b[38;5;124m'\u001b[39m]]\n",
      "\u001b[1;31mTypeError\u001b[0m: 'NoneType' object is not subscriptable"
     ]
    }
   ],
   "source": [
    "pop_df = fibers.set.report_pop()\n",
    "\n",
    "print(pop_df)\n",
    "max_bin_size = pop_df['Bin Size:'].max()\n",
    "print(max_bin_size)\n",
    "object_list = pop_df[['Fitness','Bin Size']]\n",
    "\n",
    "bin_pop = fibers.set.bin_pop\n",
    "# Initialize lists to store Pareto-optimal solutions\n",
    "pareto_fitness = []\n",
    "pareto_binsize = []\n",
    "\n",
    "# Sort objects based on fitness (to be maximized) and binsize (to be minimized)\n",
    "sorted_objects = sorted(object_list, key=lambda x: (x['fitness'], -x['binsize']))\n",
    "\n",
    "# Initialize lists to store Pareto-optimal solutions\n",
    "pareto_fitness = []\n",
    "pareto_binsize = []\n",
    "\n",
    "# Plot the data\n",
    "plt.figure(figsize=(8, 6))\n",
    "for i, obj in enumerate(sorted_objects):\n",
    "    fitness = obj['fitness']\n",
    "    binsize = obj['binsize']\n",
    "    dominated = False\n",
    "    \n",
    "    for other_obj in sorted_objects[i + 1:]:\n",
    "        if other_obj['fitness'] > fitness and other_obj['binsize'] < binsize:\n",
    "            dominated = True\n",
    "            break\n",
    "            \n",
    "    if not dominated:\n",
    "        pareto_fitness.append(fitness)\n",
    "        pareto_binsize.append(binsize)\n",
    "        plt.scatter(fitness, binsize, color='red', label='Pareto-optimal')\n",
    "    else:\n",
    "        break\n",
    "\n",
    "# Draw a line representing the non-dominated front\n",
    "plt.plot(pareto_fitness, pareto_binsize, color='green', linestyle='-', linewidth=2, label='Non-dominated front')\n",
    "\n",
    "# Add labels and title\n",
    "plt.xlabel('Fitness (Maximize)')\n",
    "plt.ylabel('Binsize (Minimize)')\n",
    "plt.title('Pareto Front')\n",
    "plt.legend()\n",
    "\n",
    "# Show the plot\n",
    "plt.grid(True)\n",
    "plt.show()"
   ]
  }
 ],
 "metadata": {
  "kernelspec": {
   "display_name": "Python 3 (ipykernel)",
   "language": "python",
   "name": "python3"
  },
  "language_info": {
   "codemirror_mode": {
    "name": "ipython",
    "version": 3
   },
   "file_extension": ".py",
   "mimetype": "text/x-python",
   "name": "python",
   "nbconvert_exporter": "python",
   "pygments_lexer": "ipython3",
   "version": "3.8.18"
  }
 },
 "nbformat": 4,
 "nbformat_minor": 5
}
