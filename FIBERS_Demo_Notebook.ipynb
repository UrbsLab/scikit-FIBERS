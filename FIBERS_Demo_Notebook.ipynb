{
 "cells": [
  {
   "cell_type": "markdown",
   "id": "164206dd",
   "metadata": {},
   "source": [
    "# scikit-FIBERS: Demonstration Notebook\n",
    "This notebook is set up as a demonstration for running scikit-FIBERS."
   ]
  },
  {
   "cell_type": "markdown",
   "id": "fe0ae7a3",
   "metadata": {},
   "source": [
    "## Installation:"
   ]
  },
  {
   "cell_type": "code",
   "execution_count": 3,
   "id": "c9243b9f",
   "metadata": {},
   "outputs": [],
   "source": [
    "#Add Installation code"
   ]
  },
  {
   "cell_type": "markdown",
   "id": "9b00f649",
   "metadata": {},
   "source": [
    "## Imports:"
   ]
  },
  {
   "cell_type": "code",
   "execution_count": 5,
   "id": "c8aee245",
   "metadata": {},
   "outputs": [
    {
     "name": "stdout",
     "output_type": "stream",
     "text": [
      "C:\\Users\\ryanu\\Desktop\\scikit-FIBERS\n"
     ]
    }
   ],
   "source": [
    "import os\n",
    "import pandas as pd\n",
    "import matplotlib.pyplot as plt\n",
    "from lifelines import KaplanMeierFitter\n",
    "from paretoset import paretoset\n",
    "from sklearn.metrics import classification_report\n",
    "from src.skfibers.fibers import FIBERS\n",
    "from src.skfibers.experiments.datagen import create_data_simulation_bin\n",
    "from src.skfibers.experiments.datagen_evolvable_threshold import create_data_simulation_bin_evolve\n",
    "\n",
    "current_working_directory = os.getcwd()\n",
    "print(current_working_directory)"
   ]
  },
  {
   "cell_type": "markdown",
   "id": "801ff6af",
   "metadata": {},
   "source": [
    "## Survial Data Simulation"
   ]
  },
  {
   "cell_type": "code",
   "execution_count": null,
   "id": "cb28ab03",
   "metadata": {},
   "outputs": [],
   "source": [
    "data = create_data_simulation_bin_evolve(number_of_instances=10000, number_of_features=100, number_of_features_in_bin=10,\n",
    "                                  no_fail_proportion=0.5, mm_frequency_range=(0.4, 0.5), noise_frequency=0.0,\n",
    "                                  class0_time_to_event_range=(1.5, 0.2), class1_time_to_event_range=(1, 0.2),\n",
    "                                  censoring_frequency=0.5, random_seed=42, negative=False, threshold=0)\n",
    "data.to_csv('sampledata.csv', index=False)\n",
    "data = pd.read_csv('sampledata.csv')\n",
    "true_risk_group = data[['TrueRiskGroup']]\n",
    "data = data.drop('TrueRiskGroup', axis=1)"
   ]
  },
  {
   "cell_type": "markdown",
   "id": "bd2d1e42",
   "metadata": {},
   "source": [
    "## Running FIBERS (Training)"
   ]
  },
  {
   "cell_type": "code",
   "execution_count": null,
   "id": "f0febdf5",
   "metadata": {},
   "outputs": [],
   "source": [
    "fibers = FIBERS(outcome_label=\"Duration\", outcome_type=\"survival\", iterations=50, pop_size = 50, crossover_prob=0.5, mutation_prob=0.1, \n",
    "                new_gen=1.0, elitism=0.1, min_bin_size=1, fitness_metric=\"log_rank\", log_rank_weighting=None,\n",
    "                censor_label=\"Censoring\", group_strata_min=0.2, group_thresh=None, min_thresh=0, max_thresh=3, int_thresh=True, thresh_evolve_prob=0.5,\n",
    "                manual_bin_init=None, covariates=None, report=None, random_seed=None, verbose=False)\n",
    "\n",
    "fibers = fibers.fit(data)"
   ]
  },
  {
   "cell_type": "markdown",
   "id": "60bd22d7",
   "metadata": {},
   "source": [
    "## Top-Bin Examination"
   ]
  },
  {
   "cell_type": "code",
   "execution_count": null,
   "id": "29e472a2",
   "metadata": {},
   "outputs": [],
   "source": [
    "bin_index = 0 # lowest index is the bin with the highest fitness (only reports the bin ranked at the top, despite possible fitness ties for top)\n",
    "# Get bin reportting variables \n",
    "low_outcome, high_outcome, low_censor, high_censor, bin_report_df = fibers.get_bin_groups(data, bin_index)\n",
    "bin_report_df"
   ]
  },
  {
   "cell_type": "markdown",
   "id": "6c7c8399",
   "metadata": {},
   "source": [
    "### Kaplan Meier Survival Plot (For Top Bin)"
   ]
  },
  {
   "cell_type": "code",
   "execution_count": null,
   "id": "bf7a117c",
   "metadata": {},
   "outputs": [],
   "source": [
    "kmf1 = KaplanMeierFitter()\n",
    "\n",
    "# fit the model for 1st cohort\n",
    "kmf1.fit(low_outcome, low_censor, label='Instance Count At/Below Threshold')\n",
    "a1 = kmf1.plot_survival_function()\n",
    "a1.set_ylabel('Survival Probability')\n",
    "\n",
    "# fit the model for 2nd cohort\n",
    "kmf1.fit(high_outcome, high_censor, label='Instance Count Above Threshold')\n",
    "kmf1.plot_survival_function(ax=a1)\n",
    "a1.set_xlabel('Time After Event')\n",
    "\n",
    "plt.show()"
   ]
  },
  {
   "cell_type": "markdown",
   "id": "21805a75",
   "metadata": {},
   "source": [
    "### Check and View Top Bin Ties"
   ]
  },
  {
   "cell_type": "code",
   "execution_count": null,
   "id": "05220a2f",
   "metadata": {},
   "outputs": [],
   "source": [
    "top_bin_list = fibers.get_top_bins()\n",
    "count = len(top_bin_list)\n",
    "if count > 1:\n",
    "    print(str(len(top_bin_list))+\" bins were tied for best fitness\")\n",
    "    for bin in top_bin_list:\n",
    "        #print(\"Features in Bin: \"+str(bin.feature_list))\n",
    "        report = bin.bin_short_report()\n",
    "        print(report)\n",
    "else:\n",
    "    print(\"Only one top performing bin found\")\n"
   ]
  },
  {
   "cell_type": "markdown",
   "id": "055ac2cd",
   "metadata": {},
   "source": [
    "## History of Bin Evolution\n",
    "### Plot: Fitness of top bin each training iteration"
   ]
  },
  {
   "cell_type": "code",
   "execution_count": null,
   "id": "60e9f510",
   "metadata": {},
   "outputs": [],
   "source": [
    "# Extract columns for plotting\n",
    "time = fibers.top_perform_df['Iteration']\n",
    "df = fibers.top_perform_df[['Fitness']]\n",
    "\n",
    "# Plot the data\n",
    "plt.figure(figsize=(5, 3))\n",
    "colors = ['blue']  # Manually set colors\n",
    "for i, column in enumerate(df.columns):\n",
    "    plt.plot(time, df[column], label=column, color=colors[i])\n",
    "\n",
    "# Add labels and title\n",
    "plt.xlabel('Iteration')\n",
    "plt.ylabel('Fitness (Top Bin)')\n",
    "#plt.title('Top Bin Fitness Across Training Iterations')\n",
    "\n",
    "# Show the plot\n",
    "plt.grid(True)\n",
    "plt.show()"
   ]
  },
  {
   "cell_type": "markdown",
   "id": "26d3afce",
   "metadata": {},
   "source": [
    "### Plot: Normalized Top-Bin Stats Across Training Iterations"
   ]
  },
  {
   "cell_type": "code",
   "execution_count": null,
   "id": "72ec337e",
   "metadata": {},
   "outputs": [],
   "source": [
    "# Extract columns for plotting\n",
    "time = fibers.top_perform_df['Iteration']\n",
    "df = fibers.top_perform_df[['Birth Iteration','Bin Size','Group Ratio','Threshold']]\n",
    "df = (df - df.min()) / (df.max() - df.min())\n",
    "# Plot the data\n",
    "plt.figure(figsize=(5, 3))\n",
    "colors = ['red', 'blue', 'green', 'orange']   # Manually set colors\n",
    "for i, column in enumerate(df.columns):\n",
    "    plt.plot(time, df[column], label=column, color=colors[i])\n",
    "\n",
    "# Add labels and title\n",
    "plt.xlabel('Iteration')\n",
    "plt.ylabel('Normalized Values (0-1) ')\n",
    "#plt.title('Normalized Top-Bin Stats Across Training Iterations')\n",
    "plt.legend()  # Show legend\n",
    "\n",
    "# Show the plot\n",
    "plt.grid(True)\n",
    "plt.show()"
   ]
  },
  {
   "cell_type": "markdown",
   "id": "cf4af797",
   "metadata": {},
   "source": [
    "### View: The dataframe containing all top-bin statistics/characteristics across training iterations"
   ]
  },
  {
   "cell_type": "code",
   "execution_count": null,
   "id": "61507061",
   "metadata": {},
   "outputs": [],
   "source": [
    "fibers.top_perform_df"
   ]
  },
  {
   "cell_type": "markdown",
   "id": "ee6946fd",
   "metadata": {},
   "source": [
    "## Transforming Bins Into New Features (Feature Learning)"
   ]
  },
  {
   "cell_type": "code",
   "execution_count": null,
   "id": "c8a5765b",
   "metadata": {},
   "outputs": [],
   "source": [
    "tdf = fibers.transform(data)\n",
    "tdf"
   ]
  },
  {
   "cell_type": "markdown",
   "id": "5870e866",
   "metadata": {},
   "source": [
    "## Prediction (of Strata)\n",
    "### Predict Strata (Low vs. High) Using Top Bin"
   ]
  },
  {
   "cell_type": "code",
   "execution_count": null,
   "id": "f51a15bd",
   "metadata": {},
   "outputs": [],
   "source": [
    "predictions = fibers.predict(data,bin_number=0)\n",
    "print(classification_report(predictions, true_risk_group))\n",
    "\n"
   ]
  },
  {
   "cell_type": "markdown",
   "id": "aea7e2f2",
   "metadata": {},
   "source": [
    "### Predict Strata (Low vs. High) Using Whole Bin Population (Weighted Voting Scheme)"
   ]
  },
  {
   "cell_type": "code",
   "execution_count": null,
   "id": "8db1c4fe",
   "metadata": {},
   "outputs": [],
   "source": [
    "predictions = fibers.predict(data)\n",
    "print(classification_report(predictions, true_risk_group))"
   ]
  },
  {
   "cell_type": "markdown",
   "id": "06948e55",
   "metadata": {},
   "source": [
    "## Pareto Front Visualization"
   ]
  },
  {
   "cell_type": "code",
   "execution_count": null,
   "id": "7ef90388",
   "metadata": {},
   "outputs": [],
   "source": [
    "def generate_pareto_plot(objective_values_array, titleNum):\n",
    "    mask = paretoset(objective_values_array, sense=[\"max\", \"min\"])\n",
    "    efficient_solutions = sorted([objective_values_array[i] for i in range(len(objective_values_array)) if mask[i]],\n",
    "                                 key=lambda x: x[0])\n",
    "\n",
    "    #plt.figure()\n",
    "    plt.plot([rule[0] for rule in objective_values_array], [rule[1] for rule in objective_values_array],\n",
    "             \"go\", markersize=6, label='Non Pareto-optimal')\n",
    "    plt.plot([rule[0] for rule in efficient_solutions],\n",
    "             [rule[1] for rule in efficient_solutions],\n",
    "             \"-o\", markersize=6, label='Pareto-optimal')\n",
    "\n",
    "    plt.xlabel('LogRank', fontsize=16)\n",
    "    plt.ylabel('Bin Simplicity', fontsize=16)\n",
    "\n",
    "    simplicity_array = [rule[1] for rule in objective_values_array]\n",
    "\n",
    "    plt.xlim(0, 3000)\n",
    "    plt.ylim(max(max(simplicity_array) * 2, 10), 0)\n",
    "\n",
    "    plt.title(\"Population at Generation \" + str(titleNum + 1))\n",
    "\n",
    "    _ = plt.legend(loc=3, numpoints=1)\n",
    "    plt.show()"
   ]
  },
  {
   "cell_type": "code",
   "execution_count": null,
   "id": "a5bc7348",
   "metadata": {},
   "outputs": [],
   "source": [
    "pop_df = fibers.set.get_pop()\n",
    "print(isinstance(pop_df, pd.DataFrame))\n",
    "pop_df\n",
    "pop_df.to_csv('FIBERS_pop.csv', index=False)"
   ]
  },
  {
   "cell_type": "code",
   "execution_count": null,
   "id": "7408e0fb",
   "metadata": {},
   "outputs": [],
   "source": [
    "\n",
    "bin_pop = fibers.set.bin_pop\n",
    "# Initialize lists to store Pareto-optimal solutions\n",
    "pareto_fitness = []\n",
    "pareto_binsize = []\n",
    "\n",
    "# Plot the data\n",
    "plt.figure(figsize=(8, 6))\n",
    "for bin in bin_pop:\n",
    "    fitness = bin.fitness\n",
    "    binsize = bin.bin_size\n",
    "    dominated = False\n",
    "    \n",
    "    for other_bin in bin_pop:\n",
    "        if (other_bin.fitness < fitness and other_bin.bin_size < binsize) \\\n",
    "            or (other_bin.fitness <= fitness and other_bin.bin_size < binsize) \\\n",
    "            or (other_bin.fitness < fitness and other_bin.bin_size <= binsize):\n",
    "            dominated = True\n",
    "            break\n",
    "            \n",
    "    if not dominated:\n",
    "        pareto_fitness.append(fitness)\n",
    "        pareto_binsize.append(binsize)\n",
    "        plt.scatter(fitness, binsize, color='red', label='Pareto-optimal')\n",
    "    else:\n",
    "        plt.scatter(fitness, binsize, color='blue')\n",
    "\n",
    "# Add labels and title\n",
    "plt.xlabel('Fitness')\n",
    "plt.ylabel('Binsize')\n",
    "plt.title('Pareto Front')\n",
    "plt.legend()\n",
    "\n",
    "# Show the plot\n",
    "plt.grid(True)\n",
    "plt.show()"
   ]
  },
  {
   "cell_type": "code",
   "execution_count": null,
   "id": "fb06ad99",
   "metadata": {},
   "outputs": [],
   "source": [
    "pop_df = fibers.set.report_pop()\n",
    "\n",
    "print(pop_df)\n",
    "max_bin_size = pop_df['Bin Size:'].max()\n",
    "print(max_bin_size)\n",
    "object_list = pop_df[['Fitness','Bin Size']]\n",
    "\n",
    "bin_pop = fibers.set.bin_pop\n",
    "# Initialize lists to store Pareto-optimal solutions\n",
    "pareto_fitness = []\n",
    "pareto_binsize = []\n",
    "\n",
    "# Sort objects based on fitness (to be maximized) and binsize (to be minimized)\n",
    "sorted_objects = sorted(object_list, key=lambda x: (x['fitness'], -x['binsize']))\n",
    "\n",
    "# Initialize lists to store Pareto-optimal solutions\n",
    "pareto_fitness = []\n",
    "pareto_binsize = []\n",
    "\n",
    "# Plot the data\n",
    "plt.figure(figsize=(8, 6))\n",
    "for i, obj in enumerate(sorted_objects):\n",
    "    fitness = obj['fitness']\n",
    "    binsize = obj['binsize']\n",
    "    dominated = False\n",
    "    \n",
    "    for other_obj in sorted_objects[i + 1:]:\n",
    "        if other_obj['fitness'] > fitness and other_obj['binsize'] < binsize:\n",
    "            dominated = True\n",
    "            break\n",
    "            \n",
    "    if not dominated:\n",
    "        pareto_fitness.append(fitness)\n",
    "        pareto_binsize.append(binsize)\n",
    "        plt.scatter(fitness, binsize, color='red', label='Pareto-optimal')\n",
    "    else:\n",
    "        break\n",
    "\n",
    "# Draw a line representing the non-dominated front\n",
    "plt.plot(pareto_fitness, pareto_binsize, color='green', linestyle='-', linewidth=2, label='Non-dominated front')\n",
    "\n",
    "# Add labels and title\n",
    "plt.xlabel('Fitness (Maximize)')\n",
    "plt.ylabel('Binsize (Minimize)')\n",
    "plt.title('Pareto Front')\n",
    "plt.legend()\n",
    "\n",
    "# Show the plot\n",
    "plt.grid(True)\n",
    "plt.show()"
   ]
  }
 ],
 "metadata": {
  "kernelspec": {
   "display_name": "Python 3 (ipykernel)",
   "language": "python",
   "name": "python3"
  },
  "language_info": {
   "codemirror_mode": {
    "name": "ipython",
    "version": 3
   },
   "file_extension": ".py",
   "mimetype": "text/x-python",
   "name": "python",
   "nbconvert_exporter": "python",
   "pygments_lexer": "ipython3",
   "version": "3.8.5"
  }
 },
 "nbformat": 4,
 "nbformat_minor": 5
}
