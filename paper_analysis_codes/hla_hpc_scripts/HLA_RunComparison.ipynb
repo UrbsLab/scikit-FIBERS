{
 "cells": [
  {
   "cell_type": "markdown",
   "id": "4250a8c3",
   "metadata": {},
   "source": [
    "# HLA Run Comparison\n"
   ]
  },
  {
   "cell_type": "markdown",
   "id": "8edd8d78",
   "metadata": {},
   "source": [
    "***\n",
    "## Imports:"
   ]
  },
  {
   "cell_type": "code",
   "execution_count": 1,
   "id": "e116475e",
   "metadata": {},
   "outputs": [
    {
     "name": "stdout",
     "output_type": "stream",
     "text": [
      "c:\\Users\\ryanu\\OneDrive\\Documents\\GitHub\\scikit-FIBERS\n"
     ]
    }
   ],
   "source": [
    "import matplotlib.pyplot as plt\n",
    "import seaborn as sns\n",
    "import numpy as np\n",
    "import pandas as pd\n"
   ]
  },
  {
   "cell_type": "code",
   "execution_count": null,
   "id": "ba9286ac",
   "metadata": {},
   "outputs": [],
   "source": [
    "# Load data from CSV file\n",
    "filename = 'Fibers2.0_hla_filtered_7locus_baseline_summary.csv'\n",
    "target = 'Adjusted HR'\n",
    "datastart = 'NewImp_'\n",
    "seedname = 'Random Seed'\n",
    "dataname = 'Dataset Filename'\n",
    "\n",
    "df = pd.read_csv(filename)\n",
    "\n",
    "imps = 10\n",
    "seeds = 10\n",
    "\n",
    "sets = []\n",
    "avgs = []\n",
    "sds = []\n",
    "names = []\n",
    "\n",
    "for i in range(0,seeds):\n",
    "    filtered_df = df[df[seedname] == i]\n",
    "    my_list = filtered_df[target].tolist()\n",
    "    sets.append(my_list)\n",
    "    avgs.append(np.mean(my_list))\n",
    "    sds.append(np.std(my_list))\n",
    "    names.append('RS_'+str(i))\n",
    "\n",
    "for i in range (1,imps+1):\n",
    "    filtered_df = df[df[dataname] == datastart+str(i)]\n",
    "    my_list = filtered_df[target].tolist()\n",
    "    sets.append(my_list)\n",
    "    avgs.append(np.mean(my_list))\n",
    "    sds.append(np.std(my_list))\n",
    "    names.append('Imp_'+str(i))\n",
    "\n",
    "# Create a boxplot\n",
    "plt.figure(figsize=(10, 6))\n",
    "sns.boxplot(data=sets)\n",
    "plt.xticks(range(len(sets)), names)\n",
    "plt.ylabel(target)\n",
    "plt.xlabel('Top Bins')\n",
    "plt.show()\n",
    "\n",
    "plt.savefig('boxplot.png')"
   ]
  }
 ],
 "metadata": {
  "kernelspec": {
   "display_name": "Python 3 (ipykernel)",
   "language": "python",
   "name": "python3"
  },
  "language_info": {
   "codemirror_mode": {
    "name": "ipython",
    "version": 3
   },
   "file_extension": ".py",
   "mimetype": "text/x-python",
   "name": "python",
   "nbconvert_exporter": "python",
   "pygments_lexer": "ipython3",
   "version": "3.8.18"
  }
 },
 "nbformat": 4,
 "nbformat_minor": 5
}
