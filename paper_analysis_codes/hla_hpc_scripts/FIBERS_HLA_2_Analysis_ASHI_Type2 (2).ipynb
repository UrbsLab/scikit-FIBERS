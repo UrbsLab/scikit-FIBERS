{
 "cells": [
  {
   "cell_type": "markdown",
   "id": "4250a8c3",
   "metadata": {},
   "source": [
    "# scikit-FIBERS: HLA Notebook (First FIBERS Paper Data)\n"
   ]
  },
  {
   "cell_type": "markdown",
   "id": "8edd8d78",
   "metadata": {},
   "source": [
    "***\n",
    "## Imports:"
   ]
  },
  {
   "cell_type": "code",
   "execution_count": 1,
   "id": "e116475e",
   "metadata": {},
   "outputs": [
    {
     "name": "stdout",
     "output_type": "stream",
     "text": [
      "/project/kamoun_shared/data_shared/new_imputaions\n"
     ]
    }
   ],
   "source": [
    "import os\n",
    "import pickle\n",
    "import pandas as pd\n",
    "from sklearn.metrics import classification_report\n",
    "from skfibers.fibers import FIBERS\n",
    "current_working_directory = os.getcwd()\n",
    "print(current_working_directory)"
   ]
  },
  {
   "cell_type": "code",
   "execution_count": 2,
   "id": "3527ea44",
   "metadata": {},
   "outputs": [],
   "source": [
    "imputation = '1'\n",
    "typ = 2"
   ]
  },
  {
   "cell_type": "code",
   "execution_count": 3,
   "id": "9a72e396",
   "metadata": {},
   "outputs": [],
   "source": [
    "local_save = False\n",
    "folder_path = './ASHI_Output_2/Imp' + imputation + '/'\n",
    "if not os.path.exists(folder_path):\n",
    "        os.makedirs(folder_path)\n",
    "if local_save:\n",
    "    output_folder = 'local_output'\n",
    "else:\n",
    "    output_folder = folder_path"
   ]
  },
  {
   "cell_type": "markdown",
   "id": "f55328e4",
   "metadata": {},
   "source": [
    "***\n",
    "## Load and Prepare HLA Data"
   ]
  },
  {
   "cell_type": "code",
   "execution_count": 4,
   "id": "c15954d3",
   "metadata": {},
   "outputs": [
    {
     "data": {
      "text/plain": [
       "(166932, 2479)"
      ]
     },
     "execution_count": 4,
     "metadata": {},
     "output_type": "execute_result"
    }
   ],
   "source": [
    "data_path = './NewImp' + imputation + '.csv'\n",
    "data_name = 'NewImp' + imputation\n",
    "all_data = pd.read_csv(data_path,low_memory=False)\n",
    "all_data.shape"
   ]
  },
  {
   "cell_type": "code",
   "execution_count": 5,
   "id": "52824399",
   "metadata": {},
   "outputs": [
    {
     "data": {
      "text/html": [
       "<div>\n",
       "<style scoped>\n",
       "    .dataframe tbody tr th:only-of-type {\n",
       "        vertical-align: middle;\n",
       "    }\n",
       "\n",
       "    .dataframe tbody tr th {\n",
       "        vertical-align: top;\n",
       "    }\n",
       "\n",
       "    .dataframe thead th {\n",
       "        text-align: right;\n",
       "    }\n",
       "</style>\n",
       "<table border=\"1\" class=\"dataframe\">\n",
       "  <thead>\n",
       "    <tr style=\"text-align: right;\">\n",
       "      <th></th>\n",
       "      <th>Unnamed: 0</th>\n",
       "      <th>TX_ID</th>\n",
       "      <th>graftyrs</th>\n",
       "      <th>grf_fail</th>\n",
       "      <th>DON_AGE</th>\n",
       "      <th>REC_AGE_AT_TX</th>\n",
       "      <th>yearslice</th>\n",
       "      <th>diab_noted</th>\n",
       "      <th>CAN_RACE_WHITE</th>\n",
       "      <th>hispanic</th>\n",
       "      <th>...</th>\n",
       "      <th>MM_DPB1_219</th>\n",
       "      <th>MM_DPB1_220</th>\n",
       "      <th>MM_DPB1_221</th>\n",
       "      <th>MM_DPB1_222</th>\n",
       "      <th>MM_DPB1_223</th>\n",
       "      <th>MM_DPB1_224</th>\n",
       "      <th>MM_DPB1_225</th>\n",
       "      <th>MM_DPB1_226</th>\n",
       "      <th>MM_DPB1_227</th>\n",
       "      <th>MM_DPB1_228</th>\n",
       "    </tr>\n",
       "  </thead>\n",
       "  <tbody>\n",
       "    <tr>\n",
       "      <th>0</th>\n",
       "      <td>0</td>\n",
       "      <td>1866540</td>\n",
       "      <td>2.001424</td>\n",
       "      <td>0</td>\n",
       "      <td>52</td>\n",
       "      <td>53</td>\n",
       "      <td>21</td>\n",
       "      <td>0</td>\n",
       "      <td>0</td>\n",
       "      <td>0</td>\n",
       "      <td>...</td>\n",
       "      <td>0</td>\n",
       "      <td>0</td>\n",
       "      <td>0</td>\n",
       "      <td>0</td>\n",
       "      <td>0</td>\n",
       "      <td>0</td>\n",
       "      <td>0</td>\n",
       "      <td>0</td>\n",
       "      <td>0</td>\n",
       "      <td>0</td>\n",
       "    </tr>\n",
       "    <tr>\n",
       "      <th>1</th>\n",
       "      <td>1</td>\n",
       "      <td>1698801</td>\n",
       "      <td>6.001533</td>\n",
       "      <td>0</td>\n",
       "      <td>17</td>\n",
       "      <td>63</td>\n",
       "      <td>16</td>\n",
       "      <td>0</td>\n",
       "      <td>1</td>\n",
       "      <td>0</td>\n",
       "      <td>...</td>\n",
       "      <td>0</td>\n",
       "      <td>0</td>\n",
       "      <td>0</td>\n",
       "      <td>0</td>\n",
       "      <td>0</td>\n",
       "      <td>0</td>\n",
       "      <td>0</td>\n",
       "      <td>0</td>\n",
       "      <td>0</td>\n",
       "      <td>0</td>\n",
       "    </tr>\n",
       "    <tr>\n",
       "      <th>2</th>\n",
       "      <td>2</td>\n",
       "      <td>1569773</td>\n",
       "      <td>1.275873</td>\n",
       "      <td>1</td>\n",
       "      <td>20</td>\n",
       "      <td>61</td>\n",
       "      <td>12</td>\n",
       "      <td>0</td>\n",
       "      <td>0</td>\n",
       "      <td>0</td>\n",
       "      <td>...</td>\n",
       "      <td>0</td>\n",
       "      <td>0</td>\n",
       "      <td>0</td>\n",
       "      <td>0</td>\n",
       "      <td>0</td>\n",
       "      <td>0</td>\n",
       "      <td>0</td>\n",
       "      <td>0</td>\n",
       "      <td>0</td>\n",
       "      <td>0</td>\n",
       "    </tr>\n",
       "  </tbody>\n",
       "</table>\n",
       "<p>3 rows × 2479 columns</p>\n",
       "</div>"
      ],
      "text/plain": [
       "   Unnamed: 0    TX_ID  graftyrs  grf_fail  DON_AGE  REC_AGE_AT_TX  yearslice  \\\n",
       "0           0  1866540  2.001424         0       52             53         21   \n",
       "1           1  1698801  6.001533         0       17             63         16   \n",
       "2           2  1569773  1.275873         1       20             61         12   \n",
       "\n",
       "   diab_noted  CAN_RACE_WHITE  hispanic  ...  MM_DPB1_219  MM_DPB1_220  \\\n",
       "0           0               0         0  ...            0            0   \n",
       "1           0               1         0  ...            0            0   \n",
       "2           0               0         0  ...            0            0   \n",
       "\n",
       "   MM_DPB1_221  MM_DPB1_222  MM_DPB1_223  MM_DPB1_224  MM_DPB1_225  \\\n",
       "0            0            0            0            0            0   \n",
       "1            0            0            0            0            0   \n",
       "2            0            0            0            0            0   \n",
       "\n",
       "   MM_DPB1_226  MM_DPB1_227  MM_DPB1_228  \n",
       "0            0            0            0  \n",
       "1            0            0            0  \n",
       "2            0            0            0  \n",
       "\n",
       "[3 rows x 2479 columns]"
      ]
     },
     "execution_count": 5,
     "metadata": {},
     "output_type": "execute_result"
    }
   ],
   "source": [
    "all_data.head(3)"
   ]
  },
  {
   "cell_type": "code",
   "execution_count": 6,
   "id": "c8a7a99d",
   "metadata": {},
   "outputs": [],
   "source": [
    "# A 1-182\n",
    "# B 1-182\n",
    "# C 1-182\n",
    "# DRB1 6-94\n",
    "# DRB345 6-94\n",
    "# DQA1 6-94\n",
    "# DQB1 6-95  ??\n",
    "# DPA1 6-94  ??  4-94 ??\n",
    "# DPB1 6-94\n",
    "#['MM_DPA1_4', 'MM_DPA1_5'] not in index\n",
    "\n",
    "locus_list = ['A','B','C','DRB1','DRB345','DQA1','DQB1','DPA1','DPB1']\n",
    "locus_range_list = [[1,182],[1,182],[1,182],[6,94],[6,94],[6,94],[6,95],[6,94],[6,94]]\n",
    "locus_range_dict = dict(zip(locus_list, locus_range_list))\n",
    "locus_type_dict = {\n",
    "#     0: ['A','B','C','DRB1','DRB345','DQA1','DQB1','DPA1','DPB1'],\n",
    "#     1: ['A','B','C','DRB1', 'DQB1'],\n",
    "#     2: ['DRB1','DRB345','DQA1','DQB1'],\n",
    "#     3: ['A','B','C','DRB1','DRB345','DQA1','DQB1'],\n",
    "    1: ['DRB1', 'DQA1', 'DQB1'],\n",
    "    2: ['DRB1', 'DQA1', 'DQB1', 'DRB345']\n",
    "}"
   ]
  },
  {
   "cell_type": "code",
   "execution_count": 7,
   "id": "d87abb1b",
   "metadata": {},
   "outputs": [],
   "source": [
    "# covariates = ['DON_AGE', 'REC_AGE_AT_TX', 'yearslice', 'diab_noted', 'CAN_RACE_WHITE', 'hispanic', \n",
    "#               'CAN_RACE_BLACK', 'CAN_RACE_asian', 'donage_slope_ge18', 'DCD', 'DON_WGT_KG_M', \n",
    "#               'ln_don_wgt_kg_0c', 'ln_don_wgt_kg_0c_s55', 'dcadcodanox', 'dcadcodcva', \n",
    "#               'dcadcodhead', 'dcadcodcnst', 'dcadcodoth', 'don_ecd', 'don_htn_0c', \n",
    "#               'AgmmA0', 'AgmmA1', 'AgmmA2', 'AgmmB0', 'AgmmB1', 'AgmmB2', 'AgmmDR0', \n",
    "#               'AgmmDR1', 'AgmmDR2', 'Agmm0', 'shared', 'PKPRA_1080', 'PKPRA_GE80', \n",
    "#               'PKPRA_lt10', 'PKPRA_MS', 'don_cmv_negative', 'rbmi_0c', 'rbmi_miss', \n",
    "#               'rbmi_gt_20', 'can_dgn_htn_ndm', 'can_dgn_pk_ndm', \n",
    "#               'can_dgn_gd_ndm', 'rec_age_spline_35', 'rec_age_spline_50', 'rec_age_spline_65', \n",
    "#               'rbmi_DM', 'rbmi_gt_20_DM', 'dm_can_age_spline_50', 'ln_c_hd_0c', 'ln_c_hd_m', \n",
    "#               'ln_c_hd_m_ptx', 'rec_prev_ki_tx', 'rec_prev_ki_tx_dm', 'age_diab', 'age_ecd', \n",
    "#               'Agmmc0', 'Agmmc1', 'Agmmc2', 'Agmmdqb10', 'Agmmdqb11', 'Agmmdqb12', \n",
    "#               'Agmmdpa10', 'Agmmdpa11', 'Agmmdpa12', 'Agmmdpb10', 'Agmmdpb11', \n",
    "#               'Agmmdpb12', 'Agmmdqa10', 'Agmmdqa11', 'Agmmdqa12']\n",
    "\n",
    "# covariates2 = ['shared', 'DCD', 'DON_AGE', 'donage_slope_ge18', 'dcadcodanox', 'dcadcodcva', 'dcadcodcnst', 'dcadcodoth', 'don_cmv_negative', \n",
    "#               'don_htn_0c', 'ln_don_wgt_kg_0c', 'ln_don_wgt_kg_0c_s55', 'don_ecd', 'age_ecd', 'yearslice', 'REC_AGE_AT_TX', \n",
    "#               'rec_age_spline_35', 'rec_age_spline_50', 'rec_age_spline_65', 'diab_noted', 'age_diab', 'dm_can_age_spline_50', \n",
    "#               'can_dgn_htn_ndm', 'can_dgn_pk_ndm', 'can_dgn_gd_ndm', 'rec_prev_ki_tx', 'rec_prev_ki_tx_dm', 'rbmi_0c', 'rbmi_miss', \n",
    "#               'rbmi_gt_20', 'rbmi_DM', 'rbmi_gt_20_DM', 'ln_c_hd_m', 'ln_c_hd_0c', 'ln_c_hd_m_ptx', 'PKPRA_MS', 'PKPRA_1080', \n",
    "#               'PKPRA_GE80', 'hispanic', 'CAN_RACE_BLACK', 'CAN_RACE_asian', 'CAN_RACE_WHITE', 'mm0', 'mmDR0', 'mmDR1', 'mmA0', 'mmA1', \n",
    "#               'mmB0', 'mmB1', 'mmC0', 'mmC1', 'mmDQ0', 'mmDQ1']\n",
    "\n",
    "covariates = [\n",
    "              'shared', 'DCD', 'DON_AGE', 'donage_slope_ge18', 'dcadcodanox', 'dcadcodcva', 'dcadcodcnst', 'dcadcodoth', 'don_cmv_negative', \n",
    "              'don_htn_0c', 'ln_don_wgt_kg_0c', 'ln_don_wgt_kg_0c_s55', 'don_ecd', 'age_ecd', 'yearslice', 'REC_AGE_AT_TX', \n",
    "              'rec_age_spline_35', 'rec_age_spline_50', 'rec_age_spline_65', 'diab_noted', 'age_diab', 'dm_can_age_spline_50', \n",
    "              'can_dgn_htn_ndm', 'can_dgn_pk_ndm', 'can_dgn_gd_ndm', 'rec_prev_ki_tx', 'rec_prev_ki_tx_dm', 'rbmi_0c', 'rbmi_miss', \n",
    "              'rbmi_gt_20', 'rbmi_DM', 'rbmi_gt_20_DM', 'ln_c_hd_m', 'ln_c_hd_0c', 'ln_c_hd_m_ptx', 'PKPRA_MS', 'PKPRA_1080', \n",
    "              'PKPRA_GE80', 'hispanic', 'CAN_RACE_BLACK', 'CAN_RACE_asian', 'CAN_RACE_WHITE',\n",
    "               'Agmm0', \n",
    "              \n",
    "            ]\n",
    "\n",
    "cov_typ_dict = {\n",
    "    'A': ['AgmmA0', 'AgmmA1',],\n",
    "    'B': ['AgmmB0', 'AgmmB1',],\n",
    "    'C': ['Agmmc0', 'Agmmc1',],\n",
    "    'DRB1':  ['AgmmDR0', 'AgmmDR1',],\n",
    "#     'DRB345':  ['AgmmDR0', 'AgmmDR1',],\n",
    "    'DQA1':  ['Agmmdqa10', 'Agmmdqa11',],\n",
    "    'DQB1':  ['Agmmdqb10', 'Agmmdqb11',],\n",
    "#     'DPA1':  ['Agmmdpa10', 'Agmmdpa11',],\n",
    "#     'DPB1':  ['Agmmdpb10', 'Agmmdpb11',],\n",
    "}"
   ]
  },
  {
   "cell_type": "code",
   "execution_count": 8,
   "id": "2220d396",
   "metadata": {},
   "outputs": [
    {
     "data": {
      "text/plain": [
       "['shared',\n",
       " 'DCD',\n",
       " 'DON_AGE',\n",
       " 'donage_slope_ge18',\n",
       " 'dcadcodanox',\n",
       " 'dcadcodcva',\n",
       " 'dcadcodcnst',\n",
       " 'dcadcodoth',\n",
       " 'don_cmv_negative',\n",
       " 'don_htn_0c',\n",
       " 'ln_don_wgt_kg_0c',\n",
       " 'ln_don_wgt_kg_0c_s55',\n",
       " 'don_ecd',\n",
       " 'age_ecd',\n",
       " 'yearslice',\n",
       " 'REC_AGE_AT_TX',\n",
       " 'rec_age_spline_35',\n",
       " 'rec_age_spline_50',\n",
       " 'rec_age_spline_65',\n",
       " 'diab_noted',\n",
       " 'age_diab',\n",
       " 'dm_can_age_spline_50',\n",
       " 'can_dgn_htn_ndm',\n",
       " 'can_dgn_pk_ndm',\n",
       " 'can_dgn_gd_ndm',\n",
       " 'rec_prev_ki_tx',\n",
       " 'rec_prev_ki_tx_dm',\n",
       " 'rbmi_0c',\n",
       " 'rbmi_miss',\n",
       " 'rbmi_gt_20',\n",
       " 'rbmi_DM',\n",
       " 'rbmi_gt_20_DM',\n",
       " 'ln_c_hd_m',\n",
       " 'ln_c_hd_0c',\n",
       " 'ln_c_hd_m_ptx',\n",
       " 'PKPRA_MS',\n",
       " 'PKPRA_1080',\n",
       " 'PKPRA_GE80',\n",
       " 'hispanic',\n",
       " 'CAN_RACE_BLACK',\n",
       " 'CAN_RACE_asian',\n",
       " 'CAN_RACE_WHITE',\n",
       " 'Agmm0',\n",
       " 'AgmmA0',\n",
       " 'AgmmA1',\n",
       " 'AgmmB0',\n",
       " 'AgmmB1',\n",
       " 'Agmmc0',\n",
       " 'Agmmc1',\n",
       " 'AgmmDR0',\n",
       " 'AgmmDR1',\n",
       " 'Agmmdqa10',\n",
       " 'Agmmdqa11',\n",
       " 'Agmmdqb10',\n",
       " 'Agmmdqb11']"
      ]
     },
     "execution_count": 8,
     "metadata": {},
     "output_type": "execute_result"
    }
   ],
   "source": [
    "# for locus in locus_type_dict[typ]:\n",
    "#     if not (locus == 'DRB345' and 'DRB1' in locus_type_dict[typ]):\n",
    "#         covariates += cov_typ_dict[locus]\n",
    "for x in cov_typ_dict:\n",
    "    covariates += cov_typ_dict[x]\n",
    "covariates"
   ]
  },
  {
   "cell_type": "code",
   "execution_count": 9,
   "id": "4a5095b7",
   "metadata": {},
   "outputs": [
    {
     "name": "stdout",
     "output_type": "stream",
     "text": [
      "55\n"
     ]
    }
   ],
   "source": [
    "outcome_label = \"graftyrs\"\n",
    "censor_label = \"grf_fail\"\n",
    "print(len(covariates))"
   ]
  },
  {
   "cell_type": "code",
   "execution_count": 10,
   "id": "bffd9152",
   "metadata": {},
   "outputs": [
    {
     "name": "stdout",
     "output_type": "stream",
     "text": [
      "['Unnamed: 0', 'TX_ID', 'graftyrs', 'grf_fail', 'DON_AGE', 'REC_AGE_AT_TX', 'yearslice', 'diab_noted', 'CAN_RACE_WHITE', 'hispanic', 'CAN_RACE_BLACK', 'CAN_RACE_asian', 'donage_slope_ge18', 'DCD', 'DON_WGT_KG_M', 'ln_don_wgt_kg_0c', 'ln_don_wgt_kg_0c_s55', 'dcadcodanox', 'dcadcodcva', 'dcadcodhead', 'dcadcodcnst', 'dcadcodoth', 'don_ecd', 'don_htn_0c', 'AgmmA0', 'AgmmA1', 'AgmmA2', 'AgmmB0', 'AgmmB1', 'AgmmB2', 'AgmmDR0', 'AgmmDR1', 'AgmmDR2', 'Agmm0', 'shared', 'PKPRA_1080', 'PKPRA_GE80', 'PKPRA_lt10', 'PKPRA_MS', 'don_cmv_negative', 'rbmi_0c', 'rbmi_miss', 'rbmi_gt_20', 'can_dgn_htn_ndm', 'can_dgn_pk_ndm', 'can_dgn_gd_ndm', 'rec_age_spline_35', 'rec_age_spline_50', 'rec_age_spline_65', 'rbmi_DM', 'rbmi_gt_20_DM', 'dm_can_age_spline_50', 'ln_c_hd_0c', 'ln_c_hd_m', 'ln_c_hd_m_ptx', 'rec_prev_ki_tx', 'rec_prev_ki_tx_dm', 'age_diab', 'age_ecd', 'Agmmc0', 'Agmmc1', 'Agmmc2', 'Agmmdqb10', 'Agmmdqb11', 'Agmmdqb12', 'Agmmdpa10', 'Agmmdpa11', 'Agmmdpa12', 'Agmmdpb10', 'Agmmdpb11', 'Agmmdpb12', 'Agmmdqa10', 'Agmmdqa11', 'Agmmdqa12']\n"
     ]
    }
   ],
   "source": [
    "filtered_columns = [col for col in all_data.columns if not col.startswith('MM_')]\n",
    "\n",
    "print(filtered_columns)"
   ]
  },
  {
   "cell_type": "code",
   "execution_count": 11,
   "id": "6bf1340b",
   "metadata": {},
   "outputs": [
    {
     "name": "stdout",
     "output_type": "stream",
     "text": [
      "55\n"
     ]
    }
   ],
   "source": [
    "found_strings = [s for s in covariates if s in all_data.columns]\n",
    "print(len(found_strings))"
   ]
  },
  {
   "cell_type": "code",
   "execution_count": 12,
   "id": "45327483",
   "metadata": {},
   "outputs": [
    {
     "name": "stdout",
     "output_type": "stream",
     "text": [
      "['MM_DRB1_6', 'MM_DRB1_7', 'MM_DRB1_8', 'MM_DRB1_9', 'MM_DRB1_10', 'MM_DRB1_11', 'MM_DRB1_12', 'MM_DRB1_13', 'MM_DRB1_14', 'MM_DRB1_15', 'MM_DRB1_16', 'MM_DRB1_17', 'MM_DRB1_18', 'MM_DRB1_19', 'MM_DRB1_20', 'MM_DRB1_21', 'MM_DRB1_22', 'MM_DRB1_23', 'MM_DRB1_24', 'MM_DRB1_25', 'MM_DRB1_26', 'MM_DRB1_27', 'MM_DRB1_28', 'MM_DRB1_29', 'MM_DRB1_30', 'MM_DRB1_31', 'MM_DRB1_32', 'MM_DRB1_33', 'MM_DRB1_34', 'MM_DRB1_35', 'MM_DRB1_36', 'MM_DRB1_37', 'MM_DRB1_38', 'MM_DRB1_39', 'MM_DRB1_40', 'MM_DRB1_41', 'MM_DRB1_42', 'MM_DRB1_43', 'MM_DRB1_44', 'MM_DRB1_45', 'MM_DRB1_46', 'MM_DRB1_47', 'MM_DRB1_48', 'MM_DRB1_49', 'MM_DRB1_50', 'MM_DRB1_51', 'MM_DRB1_52', 'MM_DRB1_53', 'MM_DRB1_54', 'MM_DRB1_55', 'MM_DRB1_56', 'MM_DRB1_57', 'MM_DRB1_58', 'MM_DRB1_59', 'MM_DRB1_60', 'MM_DRB1_61', 'MM_DRB1_62', 'MM_DRB1_63', 'MM_DRB1_64', 'MM_DRB1_65', 'MM_DRB1_66', 'MM_DRB1_67', 'MM_DRB1_68', 'MM_DRB1_69', 'MM_DRB1_70', 'MM_DRB1_71', 'MM_DRB1_72', 'MM_DRB1_73', 'MM_DRB1_74', 'MM_DRB1_75', 'MM_DRB1_76', 'MM_DRB1_77', 'MM_DRB1_78', 'MM_DRB1_79', 'MM_DRB1_80', 'MM_DRB1_81', 'MM_DRB1_82', 'MM_DRB1_83', 'MM_DRB1_84', 'MM_DRB1_85', 'MM_DRB1_86', 'MM_DRB1_87', 'MM_DRB1_88', 'MM_DRB1_89', 'MM_DRB1_90', 'MM_DRB1_91', 'MM_DRB1_92', 'MM_DRB1_93', 'MM_DRB1_94', 'MM_DQA1_6', 'MM_DQA1_7', 'MM_DQA1_8', 'MM_DQA1_9', 'MM_DQA1_10', 'MM_DQA1_11', 'MM_DQA1_12', 'MM_DQA1_13', 'MM_DQA1_14', 'MM_DQA1_15', 'MM_DQA1_16', 'MM_DQA1_17', 'MM_DQA1_18', 'MM_DQA1_19', 'MM_DQA1_20', 'MM_DQA1_21', 'MM_DQA1_22', 'MM_DQA1_23', 'MM_DQA1_24', 'MM_DQA1_25', 'MM_DQA1_26', 'MM_DQA1_27', 'MM_DQA1_28', 'MM_DQA1_29', 'MM_DQA1_30', 'MM_DQA1_31', 'MM_DQA1_32', 'MM_DQA1_33', 'MM_DQA1_34', 'MM_DQA1_35', 'MM_DQA1_36', 'MM_DQA1_37', 'MM_DQA1_38', 'MM_DQA1_39', 'MM_DQA1_40', 'MM_DQA1_41', 'MM_DQA1_42', 'MM_DQA1_43', 'MM_DQA1_44', 'MM_DQA1_45', 'MM_DQA1_46', 'MM_DQA1_47', 'MM_DQA1_48', 'MM_DQA1_49', 'MM_DQA1_50', 'MM_DQA1_51', 'MM_DQA1_52', 'MM_DQA1_53', 'MM_DQA1_54', 'MM_DQA1_55', 'MM_DQA1_56', 'MM_DQA1_57', 'MM_DQA1_58', 'MM_DQA1_59', 'MM_DQA1_60', 'MM_DQA1_61', 'MM_DQA1_62', 'MM_DQA1_63', 'MM_DQA1_64', 'MM_DQA1_65', 'MM_DQA1_66', 'MM_DQA1_67', 'MM_DQA1_68', 'MM_DQA1_69', 'MM_DQA1_70', 'MM_DQA1_71', 'MM_DQA1_72', 'MM_DQA1_73', 'MM_DQA1_74', 'MM_DQA1_75', 'MM_DQA1_76', 'MM_DQA1_77', 'MM_DQA1_78', 'MM_DQA1_79', 'MM_DQA1_80', 'MM_DQA1_81', 'MM_DQA1_82', 'MM_DQA1_83', 'MM_DQA1_84', 'MM_DQA1_85', 'MM_DQA1_86', 'MM_DQA1_87', 'MM_DQA1_88', 'MM_DQA1_89', 'MM_DQA1_90', 'MM_DQA1_91', 'MM_DQA1_92', 'MM_DQA1_93', 'MM_DQA1_94', 'MM_DQB1_6', 'MM_DQB1_7', 'MM_DQB1_8', 'MM_DQB1_9', 'MM_DQB1_10', 'MM_DQB1_11', 'MM_DQB1_12', 'MM_DQB1_13', 'MM_DQB1_14', 'MM_DQB1_15', 'MM_DQB1_16', 'MM_DQB1_17', 'MM_DQB1_18', 'MM_DQB1_19', 'MM_DQB1_20', 'MM_DQB1_21', 'MM_DQB1_22', 'MM_DQB1_23', 'MM_DQB1_24', 'MM_DQB1_25', 'MM_DQB1_26', 'MM_DQB1_27', 'MM_DQB1_28', 'MM_DQB1_29', 'MM_DQB1_30', 'MM_DQB1_31', 'MM_DQB1_32', 'MM_DQB1_33', 'MM_DQB1_34', 'MM_DQB1_35', 'MM_DQB1_36', 'MM_DQB1_37', 'MM_DQB1_38', 'MM_DQB1_39', 'MM_DQB1_40', 'MM_DQB1_41', 'MM_DQB1_42', 'MM_DQB1_43', 'MM_DQB1_44', 'MM_DQB1_45', 'MM_DQB1_46', 'MM_DQB1_47', 'MM_DQB1_48', 'MM_DQB1_49', 'MM_DQB1_50', 'MM_DQB1_51', 'MM_DQB1_52', 'MM_DQB1_53', 'MM_DQB1_54', 'MM_DQB1_55', 'MM_DQB1_56', 'MM_DQB1_57', 'MM_DQB1_58', 'MM_DQB1_59', 'MM_DQB1_60', 'MM_DQB1_61', 'MM_DQB1_62', 'MM_DQB1_63', 'MM_DQB1_64', 'MM_DQB1_65', 'MM_DQB1_66', 'MM_DQB1_67', 'MM_DQB1_68', 'MM_DQB1_69', 'MM_DQB1_70', 'MM_DQB1_71', 'MM_DQB1_72', 'MM_DQB1_73', 'MM_DQB1_74', 'MM_DQB1_75', 'MM_DQB1_76', 'MM_DQB1_77', 'MM_DQB1_78', 'MM_DQB1_79', 'MM_DQB1_80', 'MM_DQB1_81', 'MM_DQB1_82', 'MM_DQB1_83', 'MM_DQB1_84', 'MM_DQB1_85', 'MM_DQB1_86', 'MM_DQB1_87', 'MM_DQB1_88', 'MM_DQB1_89', 'MM_DQB1_90', 'MM_DQB1_91', 'MM_DQB1_92', 'MM_DQB1_93', 'MM_DQB1_94', 'MM_DQB1_95', 'MM_DRB345_6', 'MM_DRB345_7', 'MM_DRB345_8', 'MM_DRB345_9', 'MM_DRB345_10', 'MM_DRB345_11', 'MM_DRB345_12', 'MM_DRB345_13', 'MM_DRB345_14', 'MM_DRB345_15', 'MM_DRB345_16', 'MM_DRB345_17', 'MM_DRB345_18', 'MM_DRB345_19', 'MM_DRB345_20', 'MM_DRB345_21', 'MM_DRB345_22', 'MM_DRB345_23', 'MM_DRB345_24', 'MM_DRB345_25', 'MM_DRB345_26', 'MM_DRB345_27', 'MM_DRB345_28', 'MM_DRB345_29', 'MM_DRB345_30', 'MM_DRB345_31', 'MM_DRB345_32', 'MM_DRB345_33', 'MM_DRB345_34', 'MM_DRB345_35', 'MM_DRB345_36', 'MM_DRB345_37', 'MM_DRB345_38', 'MM_DRB345_39', 'MM_DRB345_40', 'MM_DRB345_41', 'MM_DRB345_42', 'MM_DRB345_43', 'MM_DRB345_44', 'MM_DRB345_45', 'MM_DRB345_46', 'MM_DRB345_47', 'MM_DRB345_48', 'MM_DRB345_49', 'MM_DRB345_50', 'MM_DRB345_51', 'MM_DRB345_52', 'MM_DRB345_53', 'MM_DRB345_54', 'MM_DRB345_55', 'MM_DRB345_56', 'MM_DRB345_57', 'MM_DRB345_58', 'MM_DRB345_59', 'MM_DRB345_60', 'MM_DRB345_61', 'MM_DRB345_62', 'MM_DRB345_63', 'MM_DRB345_64', 'MM_DRB345_65', 'MM_DRB345_66', 'MM_DRB345_67', 'MM_DRB345_68', 'MM_DRB345_69', 'MM_DRB345_70', 'MM_DRB345_71', 'MM_DRB345_72', 'MM_DRB345_73', 'MM_DRB345_74', 'MM_DRB345_75', 'MM_DRB345_76', 'MM_DRB345_77', 'MM_DRB345_78', 'MM_DRB345_79', 'MM_DRB345_80', 'MM_DRB345_81', 'MM_DRB345_82', 'MM_DRB345_83', 'MM_DRB345_84', 'MM_DRB345_85', 'MM_DRB345_86', 'MM_DRB345_87', 'MM_DRB345_88', 'MM_DRB345_89', 'MM_DRB345_90', 'MM_DRB345_91', 'MM_DRB345_92', 'MM_DRB345_93', 'MM_DRB345_94']\n",
      "357\n"
     ]
    }
   ],
   "source": [
    "MM_feature_list = []\n",
    "for locus in locus_type_dict[typ]:\n",
    "    for j in range(locus_range_dict[locus][0],locus_range_dict[locus][1]+1):\n",
    "        MM_feature_list.append('MM_'+str(locus)+'_'+str(j))\n",
    "print(MM_feature_list)\n",
    "print(len(MM_feature_list))"
   ]
  },
  {
   "cell_type": "code",
   "execution_count": 13,
   "id": "5cf75f00",
   "metadata": {},
   "outputs": [
    {
     "name": "stdout",
     "output_type": "stream",
     "text": [
      "Sum of raw data missing values: 0\n"
     ]
    }
   ],
   "source": [
    "missing_sum = all_data.isna().sum().sum()\n",
    "print(\"Sum of raw data missing values:\", missing_sum)"
   ]
  },
  {
   "cell_type": "code",
   "execution_count": 14,
   "id": "5a84f27f",
   "metadata": {},
   "outputs": [
    {
     "name": "stdout",
     "output_type": "stream",
     "text": [
      "414 Total Columns\n",
      "357 AAs\n",
      "55 Covariates\n",
      "Shape of New DataFrame: (166932, 414)\n",
      "Sum of data missing values: 0\n"
     ]
    },
    {
     "data": {
      "text/html": [
       "<div>\n",
       "<style scoped>\n",
       "    .dataframe tbody tr th:only-of-type {\n",
       "        vertical-align: middle;\n",
       "    }\n",
       "\n",
       "    .dataframe tbody tr th {\n",
       "        vertical-align: top;\n",
       "    }\n",
       "\n",
       "    .dataframe thead th {\n",
       "        text-align: right;\n",
       "    }\n",
       "</style>\n",
       "<table border=\"1\" class=\"dataframe\">\n",
       "  <thead>\n",
       "    <tr style=\"text-align: right;\">\n",
       "      <th></th>\n",
       "      <th>MM_DRB1_6</th>\n",
       "      <th>MM_DRB1_7</th>\n",
       "      <th>MM_DRB1_8</th>\n",
       "      <th>MM_DRB1_9</th>\n",
       "      <th>MM_DRB1_10</th>\n",
       "      <th>MM_DRB1_11</th>\n",
       "      <th>MM_DRB1_12</th>\n",
       "      <th>MM_DRB1_13</th>\n",
       "      <th>MM_DRB1_14</th>\n",
       "      <th>MM_DRB1_15</th>\n",
       "      <th>...</th>\n",
       "      <th>Agmmc0</th>\n",
       "      <th>Agmmc1</th>\n",
       "      <th>AgmmDR0</th>\n",
       "      <th>AgmmDR1</th>\n",
       "      <th>Agmmdqa10</th>\n",
       "      <th>Agmmdqa11</th>\n",
       "      <th>Agmmdqb10</th>\n",
       "      <th>Agmmdqb11</th>\n",
       "      <th>graftyrs</th>\n",
       "      <th>grf_fail</th>\n",
       "    </tr>\n",
       "  </thead>\n",
       "  <tbody>\n",
       "    <tr>\n",
       "      <th>0</th>\n",
       "      <td>0</td>\n",
       "      <td>0</td>\n",
       "      <td>0</td>\n",
       "      <td>0</td>\n",
       "      <td>0</td>\n",
       "      <td>0</td>\n",
       "      <td>0</td>\n",
       "      <td>0</td>\n",
       "      <td>0</td>\n",
       "      <td>0</td>\n",
       "      <td>...</td>\n",
       "      <td>0</td>\n",
       "      <td>1</td>\n",
       "      <td>1</td>\n",
       "      <td>0</td>\n",
       "      <td>1</td>\n",
       "      <td>0</td>\n",
       "      <td>1</td>\n",
       "      <td>0</td>\n",
       "      <td>2.001424</td>\n",
       "      <td>0</td>\n",
       "    </tr>\n",
       "    <tr>\n",
       "      <th>1</th>\n",
       "      <td>0</td>\n",
       "      <td>0</td>\n",
       "      <td>0</td>\n",
       "      <td>0</td>\n",
       "      <td>1</td>\n",
       "      <td>1</td>\n",
       "      <td>1</td>\n",
       "      <td>1</td>\n",
       "      <td>0</td>\n",
       "      <td>0</td>\n",
       "      <td>...</td>\n",
       "      <td>0</td>\n",
       "      <td>1</td>\n",
       "      <td>0</td>\n",
       "      <td>1</td>\n",
       "      <td>0</td>\n",
       "      <td>1</td>\n",
       "      <td>0</td>\n",
       "      <td>0</td>\n",
       "      <td>6.001533</td>\n",
       "      <td>0</td>\n",
       "    </tr>\n",
       "    <tr>\n",
       "      <th>2</th>\n",
       "      <td>0</td>\n",
       "      <td>0</td>\n",
       "      <td>0</td>\n",
       "      <td>2</td>\n",
       "      <td>0</td>\n",
       "      <td>2</td>\n",
       "      <td>0</td>\n",
       "      <td>1</td>\n",
       "      <td>1</td>\n",
       "      <td>0</td>\n",
       "      <td>...</td>\n",
       "      <td>0</td>\n",
       "      <td>0</td>\n",
       "      <td>0</td>\n",
       "      <td>0</td>\n",
       "      <td>0</td>\n",
       "      <td>0</td>\n",
       "      <td>0</td>\n",
       "      <td>0</td>\n",
       "      <td>1.275873</td>\n",
       "      <td>1</td>\n",
       "    </tr>\n",
       "  </tbody>\n",
       "</table>\n",
       "<p>3 rows × 414 columns</p>\n",
       "</div>"
      ],
      "text/plain": [
       "   MM_DRB1_6  MM_DRB1_7  MM_DRB1_8  MM_DRB1_9  MM_DRB1_10  MM_DRB1_11  \\\n",
       "0          0          0          0          0           0           0   \n",
       "1          0          0          0          0           1           1   \n",
       "2          0          0          0          2           0           2   \n",
       "\n",
       "   MM_DRB1_12  MM_DRB1_13  MM_DRB1_14  MM_DRB1_15  ...  Agmmc0  Agmmc1  \\\n",
       "0           0           0           0           0  ...       0       1   \n",
       "1           1           1           0           0  ...       0       1   \n",
       "2           0           1           1           0  ...       0       0   \n",
       "\n",
       "   AgmmDR0  AgmmDR1  Agmmdqa10  Agmmdqa11  Agmmdqb10  Agmmdqb11  graftyrs  \\\n",
       "0        1        0          1          0          1          0  2.001424   \n",
       "1        0        1          0          1          0          0  6.001533   \n",
       "2        0        0          0          0          0          0  1.275873   \n",
       "\n",
       "   grf_fail  \n",
       "0         0  \n",
       "1         0  \n",
       "2         1  \n",
       "\n",
       "[3 rows x 414 columns]"
      ]
     },
     "execution_count": 14,
     "metadata": {},
     "output_type": "execute_result"
    }
   ],
   "source": [
    "features = MM_feature_list + covariates + [outcome_label] + [censor_label]\n",
    "# features = MM_feature_list + [outcome_label] + [censor_label]\n",
    "print(str(len(features))+ \" Total Columns\")\n",
    "print(str(len(MM_feature_list))+\" AAs\")\n",
    "print(str(len(covariates))+ \" Covariates\")\n",
    "\n",
    "data = all_data[features]\n",
    "print(\"Shape of New DataFrame:\", data.shape)\n",
    "missing_sum = data.isna().sum().sum()\n",
    "print(\"Sum of data missing values:\", missing_sum)\n",
    "\n",
    "data.head(3)"
   ]
  },
  {
   "cell_type": "code",
   "execution_count": 15,
   "id": "9ec2a1a7",
   "metadata": {},
   "outputs": [],
   "source": [
    "# temp_df = pd.read_csv('/project/kamoun_shared/data_shared/CSV_from_SAS/tx_ki_agmm1.csv', sep=';')\n",
    "# list(temp_df.columns)"
   ]
  },
  {
   "cell_type": "code",
   "execution_count": 16,
   "id": "1badbeff",
   "metadata": {},
   "outputs": [
    {
     "name": "stdout",
     "output_type": "stream",
     "text": [
      "MM_DRB1_6       0.000000\n",
      "MM_DRB1_7       0.000000\n",
      "MM_DRB1_8       0.000000\n",
      "MM_DRB1_9       0.323737\n",
      "MM_DRB1_10      0.322425\n",
      "                  ...   \n",
      "MM_DRB345_90    0.009573\n",
      "MM_DRB345_91    0.009573\n",
      "MM_DRB345_92    0.009573\n",
      "MM_DRB345_93    0.009573\n",
      "MM_DRB345_94    0.009573\n",
      "Length: 357, dtype: float64\n"
     ]
    },
    {
     "data": {
      "text/plain": [
       "(166932, 171)"
      ]
     },
     "execution_count": 16,
     "metadata": {},
     "output_type": "execute_result"
    }
   ],
   "source": [
    "filter_all_rare = True\n",
    "rare_freq = 0.01\n",
    "if filter_all_rare:\n",
    "    #Filter out rare AAs (<1%)\n",
    "    # Calculate the percentage of occurrences greater than 0 for each column\n",
    "    percentages = data.loc[:,MM_feature_list].apply(lambda x: (x > 0).mean())\n",
    "    print(percentages)\n",
    "    columns_to_remove = percentages[percentages < rare_freq].index.tolist()\n",
    "    data = data.drop(columns=columns_to_remove)\n",
    "else:\n",
    "    #Filter out invariant AAs\n",
    "    # Calculate the percentage of occurrences greater than 0 for each column\n",
    "    percentages = data.loc[:,MM_feature_list].apply(lambda x: (x > 0).mean())\n",
    "    print(percentages)\n",
    "    columns_to_remove = percentages[percentages == 0.0].index.tolist()\n",
    "    data = data.drop(columns=columns_to_remove)\n",
    "data.shape"
   ]
  },
  {
   "cell_type": "code",
   "execution_count": 17,
   "id": "b43f91e2",
   "metadata": {},
   "outputs": [
    {
     "name": "stdout",
     "output_type": "stream",
     "text": [
      "Sum of raw data missing values: 0\n"
     ]
    }
   ],
   "source": [
    "missing_sum = data.isna().sum().sum()\n",
    "print(\"Sum of raw data missing values:\", missing_sum)"
   ]
  },
  {
   "cell_type": "code",
   "execution_count": 18,
   "id": "471f9cce",
   "metadata": {},
   "outputs": [
    {
     "data": {
      "text/html": [
       "<div>\n",
       "<style scoped>\n",
       "    .dataframe tbody tr th:only-of-type {\n",
       "        vertical-align: middle;\n",
       "    }\n",
       "\n",
       "    .dataframe tbody tr th {\n",
       "        vertical-align: top;\n",
       "    }\n",
       "\n",
       "    .dataframe thead th {\n",
       "        text-align: right;\n",
       "    }\n",
       "</style>\n",
       "<table border=\"1\" class=\"dataframe\">\n",
       "  <thead>\n",
       "    <tr style=\"text-align: right;\">\n",
       "      <th></th>\n",
       "      <th>MM_DRB1_9</th>\n",
       "      <th>MM_DRB1_10</th>\n",
       "      <th>MM_DRB1_11</th>\n",
       "      <th>MM_DRB1_12</th>\n",
       "      <th>MM_DRB1_13</th>\n",
       "      <th>MM_DRB1_14</th>\n",
       "      <th>MM_DRB1_16</th>\n",
       "      <th>MM_DRB1_25</th>\n",
       "      <th>MM_DRB1_26</th>\n",
       "      <th>MM_DRB1_28</th>\n",
       "      <th>...</th>\n",
       "      <th>Agmmc0</th>\n",
       "      <th>Agmmc1</th>\n",
       "      <th>AgmmDR0</th>\n",
       "      <th>AgmmDR1</th>\n",
       "      <th>Agmmdqa10</th>\n",
       "      <th>Agmmdqa11</th>\n",
       "      <th>Agmmdqb10</th>\n",
       "      <th>Agmmdqb11</th>\n",
       "      <th>graftyrs</th>\n",
       "      <th>grf_fail</th>\n",
       "    </tr>\n",
       "  </thead>\n",
       "  <tbody>\n",
       "    <tr>\n",
       "      <th>0</th>\n",
       "      <td>0</td>\n",
       "      <td>0</td>\n",
       "      <td>0</td>\n",
       "      <td>0</td>\n",
       "      <td>0</td>\n",
       "      <td>0</td>\n",
       "      <td>0</td>\n",
       "      <td>0</td>\n",
       "      <td>0</td>\n",
       "      <td>0</td>\n",
       "      <td>...</td>\n",
       "      <td>0</td>\n",
       "      <td>1</td>\n",
       "      <td>1</td>\n",
       "      <td>0</td>\n",
       "      <td>1</td>\n",
       "      <td>0</td>\n",
       "      <td>1</td>\n",
       "      <td>0</td>\n",
       "      <td>2.001424</td>\n",
       "      <td>0</td>\n",
       "    </tr>\n",
       "    <tr>\n",
       "      <th>1</th>\n",
       "      <td>0</td>\n",
       "      <td>1</td>\n",
       "      <td>1</td>\n",
       "      <td>1</td>\n",
       "      <td>1</td>\n",
       "      <td>0</td>\n",
       "      <td>0</td>\n",
       "      <td>0</td>\n",
       "      <td>0</td>\n",
       "      <td>0</td>\n",
       "      <td>...</td>\n",
       "      <td>0</td>\n",
       "      <td>1</td>\n",
       "      <td>0</td>\n",
       "      <td>1</td>\n",
       "      <td>0</td>\n",
       "      <td>1</td>\n",
       "      <td>0</td>\n",
       "      <td>0</td>\n",
       "      <td>6.001533</td>\n",
       "      <td>0</td>\n",
       "    </tr>\n",
       "    <tr>\n",
       "      <th>2</th>\n",
       "      <td>2</td>\n",
       "      <td>0</td>\n",
       "      <td>2</td>\n",
       "      <td>0</td>\n",
       "      <td>1</td>\n",
       "      <td>1</td>\n",
       "      <td>0</td>\n",
       "      <td>1</td>\n",
       "      <td>2</td>\n",
       "      <td>2</td>\n",
       "      <td>...</td>\n",
       "      <td>0</td>\n",
       "      <td>0</td>\n",
       "      <td>0</td>\n",
       "      <td>0</td>\n",
       "      <td>0</td>\n",
       "      <td>0</td>\n",
       "      <td>0</td>\n",
       "      <td>0</td>\n",
       "      <td>1.275873</td>\n",
       "      <td>1</td>\n",
       "    </tr>\n",
       "  </tbody>\n",
       "</table>\n",
       "<p>3 rows × 171 columns</p>\n",
       "</div>"
      ],
      "text/plain": [
       "   MM_DRB1_9  MM_DRB1_10  MM_DRB1_11  MM_DRB1_12  MM_DRB1_13  MM_DRB1_14  \\\n",
       "0          0           0           0           0           0           0   \n",
       "1          0           1           1           1           1           0   \n",
       "2          2           0           2           0           1           1   \n",
       "\n",
       "   MM_DRB1_16  MM_DRB1_25  MM_DRB1_26  MM_DRB1_28  ...  Agmmc0  Agmmc1  \\\n",
       "0           0           0           0           0  ...       0       1   \n",
       "1           0           0           0           0  ...       0       1   \n",
       "2           0           1           2           2  ...       0       0   \n",
       "\n",
       "   AgmmDR0  AgmmDR1  Agmmdqa10  Agmmdqa11  Agmmdqb10  Agmmdqb11  graftyrs  \\\n",
       "0        1        0          1          0          1          0  2.001424   \n",
       "1        0        1          0          1          0          0  6.001533   \n",
       "2        0        0          0          0          0          0  1.275873   \n",
       "\n",
       "   grf_fail  \n",
       "0         0  \n",
       "1         0  \n",
       "2         1  \n",
       "\n",
       "[3 rows x 171 columns]"
      ]
     },
     "execution_count": 18,
     "metadata": {},
     "output_type": "execute_result"
    }
   ],
   "source": [
    "data.head(3)"
   ]
  },
  {
   "cell_type": "code",
   "execution_count": 19,
   "id": "09f514ac",
   "metadata": {},
   "outputs": [
    {
     "name": "stdout",
     "output_type": "stream",
     "text": [
      "0\n"
     ]
    }
   ],
   "source": [
    "missing_values_count = data.isnull().sum()\n",
    "\n",
    "# Count number of columns with more than 0 missing values\n",
    "columns_with_missing_values = (missing_values_count > 0).sum()\n",
    "print(columns_with_missing_values)"
   ]
  },
  {
   "cell_type": "code",
   "execution_count": 20,
   "id": "08923421",
   "metadata": {},
   "outputs": [
    {
     "name": "stdout",
     "output_type": "stream",
     "text": [
      "Remaining A:0\n",
      "Remaining B:0\n",
      "Remaining C:0\n",
      "Remaining DRB1:30\n",
      "Remaining DRB345:31\n",
      "Remaining DQA1:24\n",
      "Remaining DQB1:29\n",
      "Remaining DPA1:0\n",
      "Remaining DPB1:0\n"
     ]
    }
   ],
   "source": [
    "for locus in locus_list:\n",
    "    count = sum(['MM_'+str(locus) in col for col in data.columns])\n",
    "    print('Remaining '+str(locus)+\":\"+str(count))"
   ]
  },
  {
   "cell_type": "code",
   "execution_count": 21,
   "id": "9937e90a",
   "metadata": {},
   "outputs": [],
   "source": [
    "from statsmodels.stats.outliers_influence import variance_inflation_factor\n",
    "\n",
    "def calc_vif(X):\n",
    "\n",
    "    # Calculating VIF\n",
    "    vif = pd.DataFrame()\n",
    "    vif[\"variables\"] = X.columns\n",
    "    vif[\"VIF\"] = [variance_inflation_factor(X.values, i) for i in range(X.shape[1])]\n",
    "\n",
    "    return(vif)"
   ]
  },
  {
   "cell_type": "code",
   "execution_count": 22,
   "id": "3d530a17",
   "metadata": {},
   "outputs": [
    {
     "data": {
      "text/html": [
       "<div>\n",
       "<style scoped>\n",
       "    .dataframe tbody tr th:only-of-type {\n",
       "        vertical-align: middle;\n",
       "    }\n",
       "\n",
       "    .dataframe tbody tr th {\n",
       "        vertical-align: top;\n",
       "    }\n",
       "\n",
       "    .dataframe thead th {\n",
       "        text-align: right;\n",
       "    }\n",
       "</style>\n",
       "<table border=\"1\" class=\"dataframe\">\n",
       "  <thead>\n",
       "    <tr style=\"text-align: right;\">\n",
       "      <th></th>\n",
       "      <th>variables</th>\n",
       "      <th>VIF</th>\n",
       "    </tr>\n",
       "  </thead>\n",
       "  <tbody>\n",
       "    <tr>\n",
       "      <th>0</th>\n",
       "      <td>shared</td>\n",
       "      <td>1.781699</td>\n",
       "    </tr>\n",
       "    <tr>\n",
       "      <th>1</th>\n",
       "      <td>DCD</td>\n",
       "      <td>1.413484</td>\n",
       "    </tr>\n",
       "    <tr>\n",
       "      <th>2</th>\n",
       "      <td>DON_AGE</td>\n",
       "      <td>2824.031825</td>\n",
       "    </tr>\n",
       "    <tr>\n",
       "      <th>3</th>\n",
       "      <td>donage_slope_ge18</td>\n",
       "      <td>1134.233594</td>\n",
       "    </tr>\n",
       "    <tr>\n",
       "      <th>4</th>\n",
       "      <td>dcadcodanox</td>\n",
       "      <td>2.539983</td>\n",
       "    </tr>\n",
       "    <tr>\n",
       "      <th>5</th>\n",
       "      <td>dcadcodcva</td>\n",
       "      <td>2.311088</td>\n",
       "    </tr>\n",
       "    <tr>\n",
       "      <th>6</th>\n",
       "      <td>dcadcodcnst</td>\n",
       "      <td>1.014362</td>\n",
       "    </tr>\n",
       "    <tr>\n",
       "      <th>7</th>\n",
       "      <td>dcadcodoth</td>\n",
       "      <td>1.117925</td>\n",
       "    </tr>\n",
       "    <tr>\n",
       "      <th>8</th>\n",
       "      <td>don_cmv_negative</td>\n",
       "      <td>1.661154</td>\n",
       "    </tr>\n",
       "    <tr>\n",
       "      <th>9</th>\n",
       "      <td>don_htn_0c</td>\n",
       "      <td>1.907433</td>\n",
       "    </tr>\n",
       "    <tr>\n",
       "      <th>10</th>\n",
       "      <td>ln_don_wgt_kg_0c</td>\n",
       "      <td>2968.468432</td>\n",
       "    </tr>\n",
       "    <tr>\n",
       "      <th>11</th>\n",
       "      <td>ln_don_wgt_kg_0c_s55</td>\n",
       "      <td>38.760980</td>\n",
       "    </tr>\n",
       "    <tr>\n",
       "      <th>12</th>\n",
       "      <td>don_ecd</td>\n",
       "      <td>52.935745</td>\n",
       "    </tr>\n",
       "    <tr>\n",
       "      <th>13</th>\n",
       "      <td>age_ecd</td>\n",
       "      <td>53.659758</td>\n",
       "    </tr>\n",
       "    <tr>\n",
       "      <th>14</th>\n",
       "      <td>yearslice</td>\n",
       "      <td>23.449193</td>\n",
       "    </tr>\n",
       "    <tr>\n",
       "      <th>15</th>\n",
       "      <td>REC_AGE_AT_TX</td>\n",
       "      <td>789.060442</td>\n",
       "    </tr>\n",
       "    <tr>\n",
       "      <th>16</th>\n",
       "      <td>rec_age_spline_35</td>\n",
       "      <td>274.097154</td>\n",
       "    </tr>\n",
       "    <tr>\n",
       "      <th>17</th>\n",
       "      <td>rec_age_spline_50</td>\n",
       "      <td>34.709177</td>\n",
       "    </tr>\n",
       "    <tr>\n",
       "      <th>18</th>\n",
       "      <td>rec_age_spline_65</td>\n",
       "      <td>3.130902</td>\n",
       "    </tr>\n",
       "    <tr>\n",
       "      <th>19</th>\n",
       "      <td>diab_noted</td>\n",
       "      <td>310.406866</td>\n",
       "    </tr>\n",
       "    <tr>\n",
       "      <th>20</th>\n",
       "      <td>age_diab</td>\n",
       "      <td>416.674212</td>\n",
       "    </tr>\n",
       "    <tr>\n",
       "      <th>21</th>\n",
       "      <td>dm_can_age_spline_50</td>\n",
       "      <td>34.544494</td>\n",
       "    </tr>\n",
       "    <tr>\n",
       "      <th>22</th>\n",
       "      <td>can_dgn_htn_ndm</td>\n",
       "      <td>2.051995</td>\n",
       "    </tr>\n",
       "    <tr>\n",
       "      <th>23</th>\n",
       "      <td>can_dgn_pk_ndm</td>\n",
       "      <td>1.356136</td>\n",
       "    </tr>\n",
       "    <tr>\n",
       "      <th>24</th>\n",
       "      <td>can_dgn_gd_ndm</td>\n",
       "      <td>1.422726</td>\n",
       "    </tr>\n",
       "    <tr>\n",
       "      <th>25</th>\n",
       "      <td>rec_prev_ki_tx</td>\n",
       "      <td>2.157226</td>\n",
       "    </tr>\n",
       "    <tr>\n",
       "      <th>26</th>\n",
       "      <td>rec_prev_ki_tx_dm</td>\n",
       "      <td>1.482535</td>\n",
       "    </tr>\n",
       "    <tr>\n",
       "      <th>27</th>\n",
       "      <td>rbmi_0c</td>\n",
       "      <td>3321.571909</td>\n",
       "    </tr>\n",
       "    <tr>\n",
       "      <th>28</th>\n",
       "      <td>rbmi_miss</td>\n",
       "      <td>40.541488</td>\n",
       "    </tr>\n",
       "    <tr>\n",
       "      <th>29</th>\n",
       "      <td>rbmi_gt_20</td>\n",
       "      <td>427.246015</td>\n",
       "    </tr>\n",
       "    <tr>\n",
       "      <th>30</th>\n",
       "      <td>rbmi_DM</td>\n",
       "      <td>158.046124</td>\n",
       "    </tr>\n",
       "    <tr>\n",
       "      <th>31</th>\n",
       "      <td>rbmi_gt_20_DM</td>\n",
       "      <td>36.697097</td>\n",
       "    </tr>\n",
       "    <tr>\n",
       "      <th>32</th>\n",
       "      <td>ln_c_hd_m</td>\n",
       "      <td>1.966646</td>\n",
       "    </tr>\n",
       "    <tr>\n",
       "      <th>33</th>\n",
       "      <td>ln_c_hd_0c</td>\n",
       "      <td>8.386702</td>\n",
       "    </tr>\n",
       "    <tr>\n",
       "      <th>34</th>\n",
       "      <td>ln_c_hd_m_ptx</td>\n",
       "      <td>1.238271</td>\n",
       "    </tr>\n",
       "    <tr>\n",
       "      <th>35</th>\n",
       "      <td>PKPRA_MS</td>\n",
       "      <td>1.001103</td>\n",
       "    </tr>\n",
       "    <tr>\n",
       "      <th>36</th>\n",
       "      <td>PKPRA_1080</td>\n",
       "      <td>1.436268</td>\n",
       "    </tr>\n",
       "    <tr>\n",
       "      <th>37</th>\n",
       "      <td>PKPRA_GE80</td>\n",
       "      <td>1.891149</td>\n",
       "    </tr>\n",
       "    <tr>\n",
       "      <th>38</th>\n",
       "      <td>hispanic</td>\n",
       "      <td>11.858334</td>\n",
       "    </tr>\n",
       "    <tr>\n",
       "      <th>39</th>\n",
       "      <td>CAN_RACE_BLACK</td>\n",
       "      <td>21.449319</td>\n",
       "    </tr>\n",
       "    <tr>\n",
       "      <th>40</th>\n",
       "      <td>CAN_RACE_asian</td>\n",
       "      <td>5.616620</td>\n",
       "    </tr>\n",
       "    <tr>\n",
       "      <th>41</th>\n",
       "      <td>CAN_RACE_WHITE</td>\n",
       "      <td>23.639077</td>\n",
       "    </tr>\n",
       "    <tr>\n",
       "      <th>42</th>\n",
       "      <td>Agmm0</td>\n",
       "      <td>4.227285</td>\n",
       "    </tr>\n",
       "    <tr>\n",
       "      <th>43</th>\n",
       "      <td>AgmmA0</td>\n",
       "      <td>2.165237</td>\n",
       "    </tr>\n",
       "    <tr>\n",
       "      <th>44</th>\n",
       "      <td>AgmmA1</td>\n",
       "      <td>1.831741</td>\n",
       "    </tr>\n",
       "    <tr>\n",
       "      <th>45</th>\n",
       "      <td>AgmmB0</td>\n",
       "      <td>3.762906</td>\n",
       "    </tr>\n",
       "    <tr>\n",
       "      <th>46</th>\n",
       "      <td>AgmmB1</td>\n",
       "      <td>1.592840</td>\n",
       "    </tr>\n",
       "    <tr>\n",
       "      <th>47</th>\n",
       "      <td>Agmmc0</td>\n",
       "      <td>1.793425</td>\n",
       "    </tr>\n",
       "    <tr>\n",
       "      <th>48</th>\n",
       "      <td>Agmmc1</td>\n",
       "      <td>2.006144</td>\n",
       "    </tr>\n",
       "    <tr>\n",
       "      <th>49</th>\n",
       "      <td>AgmmDR0</td>\n",
       "      <td>3.040178</td>\n",
       "    </tr>\n",
       "    <tr>\n",
       "      <th>50</th>\n",
       "      <td>AgmmDR1</td>\n",
       "      <td>3.126909</td>\n",
       "    </tr>\n",
       "    <tr>\n",
       "      <th>51</th>\n",
       "      <td>Agmmdqa10</td>\n",
       "      <td>5.600502</td>\n",
       "    </tr>\n",
       "    <tr>\n",
       "      <th>52</th>\n",
       "      <td>Agmmdqa11</td>\n",
       "      <td>5.023560</td>\n",
       "    </tr>\n",
       "    <tr>\n",
       "      <th>53</th>\n",
       "      <td>Agmmdqb10</td>\n",
       "      <td>3.379307</td>\n",
       "    </tr>\n",
       "    <tr>\n",
       "      <th>54</th>\n",
       "      <td>Agmmdqb11</td>\n",
       "      <td>3.792716</td>\n",
       "    </tr>\n",
       "  </tbody>\n",
       "</table>\n",
       "</div>"
      ],
      "text/plain": [
       "               variables          VIF\n",
       "0                 shared     1.781699\n",
       "1                    DCD     1.413484\n",
       "2                DON_AGE  2824.031825\n",
       "3      donage_slope_ge18  1134.233594\n",
       "4            dcadcodanox     2.539983\n",
       "5             dcadcodcva     2.311088\n",
       "6            dcadcodcnst     1.014362\n",
       "7             dcadcodoth     1.117925\n",
       "8       don_cmv_negative     1.661154\n",
       "9             don_htn_0c     1.907433\n",
       "10      ln_don_wgt_kg_0c  2968.468432\n",
       "11  ln_don_wgt_kg_0c_s55    38.760980\n",
       "12               don_ecd    52.935745\n",
       "13               age_ecd    53.659758\n",
       "14             yearslice    23.449193\n",
       "15         REC_AGE_AT_TX   789.060442\n",
       "16     rec_age_spline_35   274.097154\n",
       "17     rec_age_spline_50    34.709177\n",
       "18     rec_age_spline_65     3.130902\n",
       "19            diab_noted   310.406866\n",
       "20              age_diab   416.674212\n",
       "21  dm_can_age_spline_50    34.544494\n",
       "22       can_dgn_htn_ndm     2.051995\n",
       "23        can_dgn_pk_ndm     1.356136\n",
       "24        can_dgn_gd_ndm     1.422726\n",
       "25        rec_prev_ki_tx     2.157226\n",
       "26     rec_prev_ki_tx_dm     1.482535\n",
       "27               rbmi_0c  3321.571909\n",
       "28             rbmi_miss    40.541488\n",
       "29            rbmi_gt_20   427.246015\n",
       "30               rbmi_DM   158.046124\n",
       "31         rbmi_gt_20_DM    36.697097\n",
       "32             ln_c_hd_m     1.966646\n",
       "33            ln_c_hd_0c     8.386702\n",
       "34         ln_c_hd_m_ptx     1.238271\n",
       "35              PKPRA_MS     1.001103\n",
       "36            PKPRA_1080     1.436268\n",
       "37            PKPRA_GE80     1.891149\n",
       "38              hispanic    11.858334\n",
       "39        CAN_RACE_BLACK    21.449319\n",
       "40        CAN_RACE_asian     5.616620\n",
       "41        CAN_RACE_WHITE    23.639077\n",
       "42                 Agmm0     4.227285\n",
       "43                AgmmA0     2.165237\n",
       "44                AgmmA1     1.831741\n",
       "45                AgmmB0     3.762906\n",
       "46                AgmmB1     1.592840\n",
       "47                Agmmc0     1.793425\n",
       "48                Agmmc1     2.006144\n",
       "49               AgmmDR0     3.040178\n",
       "50               AgmmDR1     3.126909\n",
       "51             Agmmdqa10     5.600502\n",
       "52             Agmmdqa11     5.023560\n",
       "53             Agmmdqb10     3.379307\n",
       "54             Agmmdqb11     3.792716"
      ]
     },
     "execution_count": 22,
     "metadata": {},
     "output_type": "execute_result"
    }
   ],
   "source": [
    "vif_table = calc_vif(data[covariates])\n",
    "vif_table.to_csv('vif_table.csv')\n",
    "vif_table"
   ]
  },
  {
   "cell_type": "markdown",
   "id": "02f5058a",
   "metadata": {},
   "source": [
    "***\n",
    "## Run FIBERS (Training)"
   ]
  },
  {
   "cell_type": "code",
   "execution_count": 23,
   "id": "0e9e982b",
   "metadata": {},
   "outputs": [],
   "source": [
    "#Load Manual Bin Population to Partially initialize Bin Population\n",
    "# pop_path = 'C:/Users/ryanu/Desktop/HLA/Imp1/HLA_Paper_Pop_Init.csv'\n",
    "# pop = pd.read_csv(pop_path,low_memory=False)"
   ]
  },
  {
   "cell_type": "code",
   "execution_count": 24,
   "id": "0e655fc3",
   "metadata": {},
   "outputs": [],
   "source": [
    "for i in covariates:\n",
    "    if i not in data.columns:\n",
    "        print(i)"
   ]
  },
  {
   "cell_type": "code",
   "execution_count": null,
   "id": "35198658",
   "metadata": {
    "scrolled": false
   },
   "outputs": [
    {
     "name": "stdout",
     "output_type": "stream",
     "text": [
      "Dropped 0 invariant feature columns.\n"
     ]
    },
    {
     "name": "stderr",
     "output_type": "stream",
     "text": [
      "/home/bandheyh/anaconda3/lib/python3.9/site-packages/lifelines/utils/__init__.py:1100: ConvergenceWarning: Column(s) ['PKPRA_MS'] have very low variance. This may harm convergence. 1) Are you using formula's? Did you mean to add '-1' to the end. 2) Try dropping this redundant column before fitting if convergence fails.\n",
      "\n",
      "  warnings.warn(dedent(warning_text), ConvergenceWarning)\n"
     ]
    },
    {
     "name": "stdout",
     "output_type": "stream",
     "text": [
      "Iteration 1: norm_delta = 9.54e-01, step_size = 0.9500, log_lik = -444776.33050, newton_decrement = 4.80e+03, seconds_since_start = 1.5\n",
      "Iteration 2: norm_delta = 3.81e-01, step_size = 0.9500, log_lik = -440313.07915, newton_decrement = 2.05e+02, seconds_since_start = 3.0\n",
      "Iteration 3: norm_delta = 4.47e-02, step_size = 0.9500, log_lik = -440101.37491, newton_decrement = 2.81e+00, seconds_since_start = 4.5\n",
      "Iteration 4: norm_delta = 5.65e-04, step_size = 1.0000, log_lik = -440098.54659, newton_decrement = 4.79e-04, seconds_since_start = 6.0\n",
      "Iteration 5: norm_delta = 9.51e-08, step_size = 1.0000, log_lik = -440098.54611, newton_decrement = 1.74e-11, seconds_since_start = 7.4\n",
      "Convergence success after 5 iterations.\n"
     ]
    },
    {
     "name": "stderr",
     "output_type": "stream",
     "text": [
      " 24%|█████████████████████████▍                                                                                | 120/500 [29:38<2:22:42, 22.53s/it]"
     ]
    }
   ],
   "source": [
    "fibers = FIBERS(outcome_label=\"graftyrs\", outcome_type=\"survival\", iterations=500, pop_size=200, tournament_prop=0.5, crossover_prob=0.5, min_mutation_prob=0.1, max_mutation_prob=0.5, merge_prob=0.1, \n",
    "                new_gen=0.5, elitism=0.1, diversity_pressure=5, min_bin_size=1, max_bin_size=None, max_bin_init_size=10, fitness_metric=\"log_rank_residuals\", log_rank_weighting=None, censor_label=\"grf_fail\", \n",
    "                group_strata_min=0.2, penalty=0.5, group_thresh=None, min_thresh=0, max_thresh=5, int_thresh=True, thresh_evolve_prob=0.5, manual_bin_init=None, covariates=covariates, report=None, \n",
    "                random_seed=None,verbose=False)\n",
    "\n",
    "fibers = fibers.fit(data)"
   ]
  },
  {
   "cell_type": "markdown",
   "id": "17672973",
   "metadata": {},
   "source": [
    "### Report Run Time"
   ]
  },
  {
   "cell_type": "code",
   "execution_count": null,
   "id": "63dcd108",
   "metadata": {},
   "outputs": [],
   "source": [
    "# Report run time\n",
    "print(fibers.elapsed_time)"
   ]
  },
  {
   "cell_type": "markdown",
   "id": "3304fb7c",
   "metadata": {},
   "source": [
    "***\n",
    "## Top (or Target) Bin Examination\n",
    "### Specify Bin to Examine"
   ]
  },
  {
   "cell_type": "code",
   "execution_count": null,
   "id": "b29f6298",
   "metadata": {},
   "outputs": [],
   "source": [
    "bin_index = 0 # lowest index is the bin with the highest fitness (only reports the bin ranked at the top, despite possible fitness ties for top)"
   ]
  },
  {
   "cell_type": "markdown",
   "id": "a58c8d7a",
   "metadata": {},
   "source": [
    "### Get Bin Details"
   ]
  },
  {
   "cell_type": "code",
   "execution_count": null,
   "id": "18f92bfa",
   "metadata": {},
   "outputs": [],
   "source": [
    "fibers.get_bin_report(bin_index)"
   ]
  },
  {
   "cell_type": "markdown",
   "id": "5b0cda67",
   "metadata": {},
   "source": [
    "### Plot: Kaplan Meier Survival Curves For Each Group Defined by the Target Bin"
   ]
  },
  {
   "cell_type": "code",
   "execution_count": null,
   "id": "31b163fd",
   "metadata": {},
   "outputs": [],
   "source": [
    "fibers.get_kaplan_meir(data,bin_index,save=True,output_folder=output_folder,data_name=data_name)"
   ]
  },
  {
   "cell_type": "markdown",
   "id": "a621b584",
   "metadata": {},
   "source": [
    "### Evaluate Target Bin Using Cox Proportional Hazard Model (adjusting for covariates)"
   ]
  },
  {
   "cell_type": "code",
   "execution_count": null,
   "id": "12bb0a25",
   "metadata": {
    "scrolled": false
   },
   "outputs": [],
   "source": [
    "summary = fibers.get_cox_prop_hazard(data, bin_index)\n",
    "bin_hr = summary['exp(coef)'].iloc[0]\n",
    "bin_low_CI = summary['exp(coef) lower 95%'].iloc[0]\n",
    "bin_upper_CI = summary['exp(coef) upper 95%'].iloc[0]\n",
    "bin_p_val = summary['p'].iloc[0]\n",
    "print(\"Bin HR: \"+str(bin_hr)+\" (\"+str(bin_low_CI)+\"-\"+str(bin_upper_CI)+\")\")\n",
    "print(\"Bin HR p-value: \"+str(bin_p_val))\n",
    "summary.to_csv(output_folder+'/'+'Cox_PH_'+str(bin_index)+'_'+data_name+'.csv', index=False)\n",
    "summary"
   ]
  },
  {
   "cell_type": "markdown",
   "id": "c5a71881",
   "metadata": {},
   "source": [
    "### Check and View Any Top Bin Ties"
   ]
  },
  {
   "cell_type": "code",
   "execution_count": null,
   "id": "47ea14ab",
   "metadata": {},
   "outputs": [],
   "source": [
    "fibers.report_ties()"
   ]
  },
  {
   "cell_type": "markdown",
   "id": "7b72d504",
   "metadata": {},
   "source": [
    "***\n",
    "## Bin Population Examination\n",
    "### Plot: Basic Bin Population Heatmap"
   ]
  },
  {
   "cell_type": "code",
   "execution_count": null,
   "id": "24d7b54c",
   "metadata": {},
   "outputs": [],
   "source": [
    "fibers.get_bin_population_heatmap_plot(save=True,output_folder=output_folder,data_name=data_name)"
   ]
  },
  {
   "cell_type": "markdown",
   "id": "eed28393",
   "metadata": {},
   "source": [
    "### Plot: Custom Bin Population Heatmap"
   ]
  },
  {
   "cell_type": "code",
   "execution_count": null,
   "id": "859d2e78",
   "metadata": {},
   "outputs": [],
   "source": [
    "group_names=[\"A\", \"B\", \"C\", \"DQB\", \"DRB\"]\n",
    "legend_group_info = ['Not in Bin','HLA-A','HLA-B', 'HLA-C','HLA-DQB','HLA-DRB'] #2 default colors first followed by additional color descriptions in legend\n",
    "color_features = [['B1', 'B10', 'B100', 'B101', 'B102', 'B103', 'B104', 'B105', 'B106', 'B107', 'B108', 'B109', 'B11', 'B110', 'B111', 'B112', 'B113', 'B114', 'B115', 'B116', 'B117', 'B118', 'B119', 'B12', 'B120', 'B121', 'B122', 'B123', 'B124', 'B125', 'B126', 'B127', 'B128', 'B129', 'B13', 'B130', 'B131', 'B132', 'B133', 'B134', 'B135', 'B136', 'B137', 'B138', 'B139', 'B14', 'B140', 'B141', 'B142', 'B143', 'B144', 'B145', 'B146', 'B147', 'B148', 'B149', 'B15', 'B150', 'B151', 'B152', 'B153', 'B154', 'B155', 'B156', 'B157', 'B158', 'B159', 'B16', 'B160', 'B161', 'B162', 'B163', 'B164', 'B165', 'B166', 'B167', 'B168', 'B169', 'B17', 'B170', 'B171', 'B172', 'B173', 'B174', 'B175', 'B176', 'B177', 'B178', 'B179', 'B18', 'B180', 'B181', 'B182', 'B183', 'B184', 'B185', 'B186', 'B187', 'B188', 'B189', 'B19', 'B190', 'B191', 'B192', 'B193', 'B194', 'B2', 'B20', 'B21', 'B22', 'B23', 'B24', 'B25', 'B26', 'B27', 'B28', 'B29', 'B3', 'B30', 'B31', 'B32', 'B33', 'B34', 'B35', 'B36', 'B37', 'B38', 'B39', 'B4', 'B40', 'B41', 'B42', 'B43', 'B44', 'B45', 'B46', 'B47', 'B48', 'B49', 'B5', 'B50', 'B51', 'B52', 'B53', 'B54', 'B55', 'B56', 'B57', 'B58', 'B59', 'B6', 'B60', 'B61', 'B62', 'B63', 'B64', 'B65', 'B66', 'B67', 'B68', 'B69', 'B7', 'B70', 'B71', 'B72', 'B73', 'B74', 'B75', 'B76', 'B77', 'B78', 'B79', 'B8', 'B80', 'B81', 'B82', 'B83', 'B84', 'B85', 'B86', 'B87', 'B88', 'B89', 'B9', 'B90', 'B91', 'B92', 'B93', 'B94', 'B95', 'B96', 'B97', 'B98', 'B99'],['C1', 'C10', 'C100', 'C101', 'C102', 'C103', 'C104', 'C105', 'C106', 'C107', 'C108', 'C109', 'C11', 'C110', 'C111', 'C112', 'C113', 'C114', 'C115', 'C116', 'C117', 'C118', 'C119', 'C12', 'C120', 'C121', 'C122', 'C123', 'C124', 'C125', 'C126', 'C127', 'C128', 'C129', 'C13', 'C130', 'C131', 'C132', 'C133', 'C134', 'C135', 'C136', 'C137', 'C138', 'C139', 'C14', 'C140', 'C141', 'C142', 'C143', 'C144', 'C145', 'C146', 'C147', 'C148', 'C149', 'C15', 'C150', 'C151', 'C152', 'C153', 'C154', 'C155', 'C156', 'C157', 'C158', 'C159', 'C16', 'C160', 'C161', 'C162', 'C163', 'C164', 'C165', 'C166', 'C167', 'C168', 'C169', 'C17', 'C170', 'C171', 'C172', 'C173', 'C174', 'C175', 'C176', 'C177', 'C178', 'C179', 'C18', 'C180', 'C181', 'C182', 'C183', 'C184', 'C185', 'C186', 'C187', 'C188', 'C189', 'C19', 'C190', 'C191', 'C192', 'C193', 'C194', 'C195', 'C196', 'C197', 'C198', 'C199', 'C2', 'C20', 'C200', 'C201', 'C202', 'C203', 'C204', 'C205', 'C21', 'C22', 'C23', 'C24', 'C25', 'C26', 'C27', 'C28', 'C29', 'C3', 'C30', 'C31', 'C32', 'C33', 'C34', 'C35', 'C36', 'C37', 'C38', 'C39', 'C4', 'C40', 'C41', 'C42', 'C43', 'C44', 'C45', 'C46', 'C47', 'C48', 'C49', 'C5', 'C50', 'C51', 'C52', 'C53', 'C54', 'C55', 'C56', 'C57', 'C58', 'C59', 'C6', 'C60', 'C61', 'C62', 'C63', 'C64', 'C65', 'C66', 'C67', 'C68', 'C69', 'C7', 'C70', 'C71', 'C72', 'C73', 'C74', 'C75', 'C76', 'C77', 'C78', 'C79', 'C8', 'C80', 'C81', 'C82', 'C83', 'C84', 'C85', 'C86', 'C87', 'C88', 'C89', 'C9', 'C90', 'C91', 'C92', 'C93', 'C94', 'C95', 'C96', 'C97', 'C98', 'C99'],['DQB11', 'DQB110', 'DQB111', 'DQB112', 'DQB113', 'DQB114', 'DQB115', 'DQB116', 'DQB117', 'DQB118', 'DQB119', 'DQB12', 'DQB120', 'DQB121', 'DQB122', 'DQB123', 'DQB124', 'DQB125', 'DQB126', 'DQB127', 'DQB128', 'DQB129', 'DQB13', 'DQB130', 'DQB131', 'DQB132', 'DQB133', 'DQB134', 'DQB135', 'DQB136', 'DQB137', 'DQB138', 'DQB139', 'DQB14', 'DQB140', 'DQB141', 'DQB142', 'DQB143', 'DQB144', 'DQB145', 'DQB146', 'DQB147', 'DQB148', 'DQB149', 'DQB15', 'DQB150', 'DQB151', 'DQB152', 'DQB153', 'DQB154', 'DQB155', 'DQB156', 'DQB157', 'DQB158', 'DQB159', 'DQB16', 'DQB160', 'DQB161', 'DQB162', 'DQB163', 'DQB164', 'DQB165', 'DQB166', 'DQB167', 'DQB168', 'DQB169', 'DQB17', 'DQB170', 'DQB171', 'DQB172', 'DQB173', 'DQB174', 'DQB175', 'DQB176', 'DQB177', 'DQB178', 'DQB179', 'DQB18', 'DQB180', 'DQB181', 'DQB182', 'DQB183', 'DQB184', 'DQB185', 'DQB186', 'DQB187', 'DQB188', 'DQB189', 'DQB19', 'DQB190', 'DQB191', 'DQB192', 'DQB193', 'DQB194'],[ 'DRB11', 'DRB110', 'DRB111', 'DRB112', 'DRB113', 'DRB114', 'DRB115', 'DRB116', 'DRB117', 'DRB118', 'DRB119', 'DRB12', 'DRB120', 'DRB121', 'DRB122', 'DRB123', 'DRB124', 'DRB125', 'DRB126', 'DRB127', 'DRB128', 'DRB129', 'DRB13', 'DRB130', 'DRB131', 'DRB132', 'DRB133', 'DRB134', 'DRB135', 'DRB136', 'DRB137', 'DRB138', 'DRB139', 'DRB14', 'DRB140', 'DRB141', 'DRB142', 'DRB143', 'DRB144', 'DRB145', 'DRB146', 'DRB147', 'DRB148', 'DRB149', 'DRB15', 'DRB150', 'DRB151', 'DRB152', 'DRB153', 'DRB154', 'DRB155', 'DRB156', 'DRB157', 'DRB158', 'DRB159', 'DRB16', 'DRB160', 'DRB161', 'DRB162', 'DRB163', 'DRB164', 'DRB165', 'DRB166', 'DRB167', 'DRB168', 'DRB169', 'DRB17', 'DRB170', 'DRB171', 'DRB172', 'DRB173', 'DRB174', 'DRB175', 'DRB176', 'DRB177', 'DRB178', 'DRB179', 'DRB18', 'DRB180', 'DRB181', 'DRB182', 'DRB183', 'DRB184', 'DRB185', 'DRB186', 'DRB187', 'DRB188', 'DRB189', 'DRB19', 'DRB190', 'DRB191', 'DRB192', 'DRB193', 'DRB194']]\n",
    "colors = [(1, 0, 0),(0.3,1,0.2),(1, 0.5, 0),(1,0.5,1)] # blue,red,green,orange,pink ---Alternatively orange (1, 0.5, 0)\n",
    "default_colors = [(.95, .95, 1),(0, 0, 1)] #very light blue and blue\n",
    "max_bins = 100\n",
    "max_features = 100\n",
    "\n",
    "fibers.get_custom_bin_population_heatmap_plot(group_names,legend_group_info,color_features,colors,default_colors,max_bins,max_features,save=True,output_folder=output_folder,data_name=data_name)"
   ]
  },
  {
   "cell_type": "markdown",
   "id": "5a47d6f1",
   "metadata": {},
   "source": [
    "### Plot: Bin Population Pareto Front\n",
    "In plot, dot colors indicate the 'group strata prop' of the given bin, and dot size is relative to the 'group threshold of that bin'."
   ]
  },
  {
   "cell_type": "code",
   "execution_count": null,
   "id": "3a662418",
   "metadata": {},
   "outputs": [],
   "source": [
    "fibers.get_pareto_plot(save=True,output_folder=output_folder,data_name=data_name)"
   ]
  },
  {
   "cell_type": "markdown",
   "id": "848d87c6",
   "metadata": {},
   "source": [
    "### Plot: Estimated Feature Tracking Scores\n",
    "These scores accumulate throughout the training process, and do not nesessarily reflect feature importance of individual bins or the final bin population."
   ]
  },
  {
   "cell_type": "code",
   "execution_count": null,
   "id": "9746c05d",
   "metadata": {},
   "outputs": [],
   "source": [
    "fibers.get_feature_tracking_plot(max_features=40,save=True,output_folder=output_folder,data_name=data_name)"
   ]
  },
  {
   "cell_type": "markdown",
   "id": "3888ae5d",
   "metadata": {},
   "source": [
    "### Plot: Dataset Covariate Residuals (if applicable)"
   ]
  },
  {
   "cell_type": "code",
   "execution_count": null,
   "id": "da5aa741",
   "metadata": {},
   "outputs": [],
   "source": [
    "if fibers.fitness_metric == 'residuals' or fibers.fitness_metric == 'log_rank_residuals':  \n",
    "    fibers.get_residuals_histogram(save=True,output_folder=output_folder,data_name=data_name)"
   ]
  },
  {
   "cell_type": "markdown",
   "id": "a45ff2b1",
   "metadata": {},
   "source": [
    "### Plot: Bin Log-Rank Scores Vs. Residuals Scores (if applicable)\n",
    "In plot, dot colors indicate the 'group strata prop' of the given bin, and dot size is relative to the 'group threshold of that bin'."
   ]
  },
  {
   "cell_type": "code",
   "execution_count": null,
   "id": "674e49cf",
   "metadata": {},
   "outputs": [],
   "source": [
    "if fibers.fitness_metric == 'log_rank_residuals':\n",
    "    fibers.get_log_rank_residuals_plot(save=True,output_folder=output_folder,data_name=data_name)"
   ]
  },
  {
   "cell_type": "markdown",
   "id": "9d413ace",
   "metadata": {},
   "source": [
    "###  Evaluate All Bins in Population using Cox PH Model (Can be slow)"
   ]
  },
  {
   "cell_type": "code",
   "execution_count": null,
   "id": "338c76fb",
   "metadata": {
    "scrolled": true
   },
   "outputs": [],
   "source": [
    "fibers.calculate_cox_prop_hazards(data)"
   ]
  },
  {
   "cell_type": "markdown",
   "id": "6cc0ab2f",
   "metadata": {},
   "source": [
    "### Plot: Bin Log-Rank Scores Vs. Adjusted Hazard Ratios (if applicable)\n",
    "In plot, dot colors indicate the 'group strata prop' of the given bin, and dot size is relative to the 'group threshold of that bin'."
   ]
  },
  {
   "cell_type": "code",
   "execution_count": null,
   "id": "f3b22e10",
   "metadata": {},
   "outputs": [],
   "source": [
    "if fibers.fitness_metric == 'log_rank' or fibers.fitness_metric == 'log_rank_residuals':  \n",
    "    fibers.get_log_rank_adj_HR_plot(save=True,output_folder=output_folder,data_name=data_name)"
   ]
  },
  {
   "cell_type": "markdown",
   "id": "5c503f87",
   "metadata": {},
   "source": [
    "### Plot: Bin Adjusted Hazard Ratios Vs. Residuals Scores (if applicable)\n",
    "In plot, dot colors indicate the 'group strata prop' of the given bin, and dot size is relative to the 'group threshold of that bin'."
   ]
  },
  {
   "cell_type": "code",
   "execution_count": null,
   "id": "7215bdad",
   "metadata": {},
   "outputs": [],
   "source": [
    "if fibers.fitness_metric == 'residuals' or fibers.fitness_metric == 'log_rank_residuals':   \n",
    "    fibers.get_adj_HR_residuals_plot(save=True,output_folder=output_folder,data_name=data_name)"
   ]
  },
  {
   "cell_type": "markdown",
   "id": "d4ae6124",
   "metadata": {},
   "source": [
    "### Plot: Bin Adjusted Hazard Ratios Vs. Log Rank * Residuals Scores (if applicable)\n",
    "In plot, dot colors indicate the 'group strata prop' of the given bin, and dot size is relative to the 'group threshold of that bin'."
   ]
  },
  {
   "cell_type": "code",
   "execution_count": null,
   "id": "d0b0d4d7",
   "metadata": {},
   "outputs": [],
   "source": [
    "if fibers.fitness_metric == 'log_rank_residuals':   \n",
    "    fibers.get_adj_HR_metric_product_plot(save=True,output_folder=output_folder,data_name=data_name)"
   ]
  },
  {
   "cell_type": "markdown",
   "id": "77d47075",
   "metadata": {},
   "source": [
    "***\n",
    "## History of Bin Evolution (Top Bin Each Generation)\n",
    "### Plot: Fitness of top bin across training iterations"
   ]
  },
  {
   "cell_type": "code",
   "execution_count": null,
   "id": "72c4ccf6",
   "metadata": {},
   "outputs": [],
   "source": [
    "fibers.get_fitness_progress_plot()"
   ]
  },
  {
   "cell_type": "markdown",
   "id": "0d3a6ef9",
   "metadata": {},
   "source": [
    "### Plot: Scoring Metric and Pre-Fitness of top bin across training iterations"
   ]
  },
  {
   "cell_type": "code",
   "execution_count": null,
   "id": "5b479d47",
   "metadata": {},
   "outputs": [],
   "source": [
    "fibers.get_perform_progress_plot(save=True,output_folder=output_folder,data_name=data_name)"
   ]
  },
  {
   "cell_type": "markdown",
   "id": "cb44f5a9",
   "metadata": {},
   "source": [
    "### Plot: Normalized Top-Bin Stats Across Training Iterations"
   ]
  },
  {
   "cell_type": "code",
   "execution_count": null,
   "id": "f08bda78",
   "metadata": {},
   "outputs": [],
   "source": [
    "fibers.get_misc_progress_plot(save=True,output_folder=output_folder,data_name=data_name)"
   ]
  },
  {
   "cell_type": "markdown",
   "id": "257a57bf",
   "metadata": {},
   "source": [
    "### View Top Bin Information Across all Iterations/Generations"
   ]
  },
  {
   "cell_type": "code",
   "execution_count": null,
   "id": "4fc55a2b",
   "metadata": {},
   "outputs": [],
   "source": [
    "fibers.perform_track_df"
   ]
  },
  {
   "cell_type": "markdown",
   "id": "72cbdda9",
   "metadata": {},
   "source": [
    "***\n",
    "## Save Bin Population\n",
    "### Save Bin Population Details to CSV"
   ]
  },
  {
   "cell_type": "code",
   "execution_count": null,
   "id": "45e5b63b",
   "metadata": {},
   "outputs": [],
   "source": [
    "pop_df = fibers.get_pop()\n",
    "pop_df.to_csv(output_folder+'/'+'Pop_'+data_name+'.csv', index=False)"
   ]
  },
  {
   "cell_type": "markdown",
   "id": "2b2bdbf6",
   "metadata": {},
   "source": [
    "### Pickle Trained FIBERS Object (For Future Use)"
   ]
  },
  {
   "cell_type": "code",
   "execution_count": null,
   "id": "6dca694e",
   "metadata": {},
   "outputs": [],
   "source": [
    "with open(output_folder+'/'+data_name+'.pickle', 'wb') as f:\n",
    "    pickle.dump(fibers, f)"
   ]
  },
  {
   "cell_type": "markdown",
   "id": "66e262d3",
   "metadata": {},
   "source": [
    "***\n",
    "## Transforming Bins Into New Features (i.e. Feature Learning) and Save as New CSV Files\n",
    "### Transform Bins Using Total Sums (i.e. Respective Bin Thresholds Not Applied)"
   ]
  },
  {
   "cell_type": "code",
   "execution_count": null,
   "id": "ddb83540",
   "metadata": {},
   "outputs": [],
   "source": [
    "tdf = fibers.transform(data,full_sums=True)\n",
    "tdf.to_csv(output_folder+'/'+'Transformed_FullSums_'+data_name+'.csv', index=False)\n",
    "tdf"
   ]
  },
  {
   "cell_type": "markdown",
   "id": "45640394",
   "metadata": {},
   "source": [
    "### Transform Bins Using Respective Bin Threshold (i.e. 0 = At/Under Threshold Group and 1 = Over Threshold Group)"
   ]
  },
  {
   "cell_type": "code",
   "execution_count": null,
   "id": "d1ef5951",
   "metadata": {},
   "outputs": [],
   "source": [
    "tdf = fibers.transform(data,full_sums=False)\n",
    "tdf.to_csv(output_folder+'/'+'Transformed_Threshold'+data_name+'.csv', index=False)\n",
    "tdf"
   ]
  },
  {
   "cell_type": "markdown",
   "id": "f59461b1",
   "metadata": {},
   "source": [
    "***\n",
    "## Open Pickled FIBERS Object (Example)"
   ]
  },
  {
   "cell_type": "code",
   "execution_count": null,
   "id": "2dcc2c62",
   "metadata": {},
   "outputs": [],
   "source": [
    "with open(output_folder+'/'+data_name+'.pickle', 'rb') as f:\n",
    "    fibers = pickle.load(f)\n",
    "\n",
    "fibers.get_bin_report(bin_index)"
   ]
  }
 ],
 "metadata": {
  "kernelspec": {
   "display_name": "Python 3 (ipykernel)",
   "language": "python",
   "name": "python3"
  },
  "language_info": {
   "codemirror_mode": {
    "name": "ipython",
    "version": 3
   },
   "file_extension": ".py",
   "mimetype": "text/x-python",
   "name": "python",
   "nbconvert_exporter": "python",
   "pygments_lexer": "ipython3",
   "version": "3.9.13"
  }
 },
 "nbformat": 4,
 "nbformat_minor": 5
}
