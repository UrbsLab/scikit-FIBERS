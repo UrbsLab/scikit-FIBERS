{
 "cells": [
  {
   "cell_type": "markdown",
   "metadata": {},
   "source": [
    "# Making Datasets for PPSN"
   ]
  },
  {
   "cell_type": "markdown",
   "metadata": {},
   "source": [
    "## Imports"
   ]
  },
  {
   "cell_type": "code",
   "execution_count": 1,
   "metadata": {},
   "outputs": [
    {
     "name": "stdout",
     "output_type": "stream",
     "text": [
      "/Users/harshbandhey/Local/Cedars/Urbslab/scikit-FIBERS-ryan_dev\n"
     ]
    }
   ],
   "source": [
    "import os\n",
    "import random\n",
    "import numpy as np\n",
    "import pandas as pd\n",
    "from src.skfibers.experiments.survival_sim_simple import survival_data_simulation\n",
    "\n",
    "current_working_directory = os.getcwd()\n",
    "print(current_working_directory)"
   ]
  },
  {
   "cell_type": "markdown",
   "metadata": {},
   "source": [
    "## Setting up Local Parameters"
   ]
  },
  {
   "cell_type": "code",
   "execution_count": 2,
   "metadata": {},
   "outputs": [
    {
     "name": "stdout",
     "output_type": "stream",
     "text": [
      "./PPSNDatasets/\n"
     ]
    }
   ],
   "source": [
    "local_save = True\n",
    "folder_path = None\n",
    "if local_save:\n",
    "    output_folder = './PPSNDatasets/'\n",
    "else:\n",
    "    output_folder = folder_path\n",
    "if not os.path.exists(output_folder):\n",
    "        os.makedirs(output_folder)\n",
    "print(output_folder)"
   ]
  },
  {
   "cell_type": "code",
   "execution_count": 3,
   "metadata": {},
   "outputs": [],
   "source": [
    "random.seed(42)\n",
    "np.random.seed(42)"
   ]
  },
  {
   "cell_type": "markdown",
   "metadata": {},
   "source": [
    "## Making Datasets"
   ]
  },
  {
   "cell_type": "code",
   "execution_count": 4,
   "metadata": {},
   "outputs": [
    {
     "name": "stdout",
     "output_type": "stream",
     "text": [
      "Unique binary numbers: 1024\n",
      "Unique HR Combos: 1023\n",
      "Unique LR Combos: 1\n",
      "Target predictive feature(s) 'one's counts: [2918, 1075, 1825, 1669, 3209, 3030, 3676, 1260, 2265, 1089]\n",
      "Random Number Check: 96950\n",
      "Unique binary numbers: 1024\n",
      "Unique HR Combos: 1023\n",
      "Unique LR Combos: 1\n",
      "Target predictive feature(s) 'one's counts: [2918, 1075, 1825, 1669, 3209, 3030, 3676, 1260, 2265, 1089]\n",
      "Random Number Check: 96950\n",
      "TrueRiskGroup\n",
      "0    5000\n",
      "1    5000\n",
      "Name: count, dtype: int64\n"
     ]
    }
   ],
   "source": [
    "data_name = 'standard_no_noise'\n",
    "data = survival_data_simulation(instances=10000, total_features=100, predictive_features=10, low_risk_proportion=0.5, threshold = 0, feature_frequency_range=(0.1, 0.4), \n",
    "                                noise_frequency=0.0, class0_time_to_event_range=(1.5, 0.2), \n",
    "                                class1_time_to_event_range=(1, 0.2), censoring_frequency=0.2, \n",
    "                                covariates_to_sim=0, covariates_signal_range=(0.2,0.4), random_seed=42)\n",
    "data_conf = survival_data_simulation(instances=10000, total_features=100, predictive_features=10, low_risk_proportion=0.5, threshold = 0, feature_frequency_range=(0.1, 0.4), \n",
    "                                noise_frequency=0.0, class0_time_to_event_range=(1.5, 0.2), \n",
    "                                class1_time_to_event_range=(1, 0.2), censoring_frequency=0.2, \n",
    "                                covariates_to_sim=0, covariates_signal_range=(0.2,0.4), random_seed=42)\n",
    "assert(data.equals(data_conf))\n",
    "data.to_csv(output_folder+'/'+data_name+'.csv', index=False)\n",
    "true_risk_group = data[['TrueRiskGroup']]\n",
    "value_counts = true_risk_group['TrueRiskGroup'].value_counts()\n",
    "print(value_counts)"
   ]
  },
  {
   "cell_type": "code",
   "execution_count": 5,
   "metadata": {},
   "outputs": [
    {
     "name": "stdout",
     "output_type": "stream",
     "text": [
      "Unique binary numbers: 1024\n",
      "Unique HR Combos: 1023\n",
      "Unique LR Combos: 1\n",
      "Target predictive feature(s) 'one's counts: [2918, 1075, 1825, 1669, 3209, 3030, 3676, 1260, 2265, 1089]\n",
      "Random Number Check: 47038\n",
      "Unique binary numbers: 1024\n",
      "Unique HR Combos: 1023\n",
      "Unique LR Combos: 1\n",
      "Target predictive feature(s) 'one's counts: [2918, 1075, 1825, 1669, 3209, 3030, 3676, 1260, 2265, 1089]\n",
      "Random Number Check: 47038\n",
      "TrueRiskGroup\n",
      "0    5000\n",
      "1    5000\n",
      "Name: count, dtype: int64\n"
     ]
    }
   ],
   "source": [
    "data_name = 'standard_with_noise'\n",
    "data = survival_data_simulation(instances=10000, total_features=100, predictive_features=10, low_risk_proportion=0.5, threshold = 0, feature_frequency_range=(0.1, 0.4), \n",
    "                                noise_frequency=0.2, class0_time_to_event_range=(1.5, 0.2), \n",
    "                                class1_time_to_event_range=(1, 0.2), censoring_frequency=0.2, \n",
    "                                covariates_to_sim=0, covariates_signal_range=(0.2,0.4), random_seed=42)\n",
    "data_conf = survival_data_simulation(instances=10000, total_features=100, predictive_features=10, low_risk_proportion=0.5, threshold = 0, feature_frequency_range=(0.1, 0.4), \n",
    "                                noise_frequency=0.2, class0_time_to_event_range=(1.5, 0.2), \n",
    "                                class1_time_to_event_range=(1, 0.2), censoring_frequency=0.2, \n",
    "                                covariates_to_sim=0, covariates_signal_range=(0.2,0.4), random_seed=42)\n",
    "assert(data.equals(data_conf))\n",
    "data.to_csv(output_folder+'/'+data_name+'.csv', index=False)\n",
    "true_risk_group = data[['TrueRiskGroup']]\n",
    "value_counts = true_risk_group['TrueRiskGroup'].value_counts()\n",
    "print(value_counts)"
   ]
  },
  {
   "cell_type": "code",
   "execution_count": 6,
   "metadata": {},
   "outputs": [
    {
     "name": "stdout",
     "output_type": "stream",
     "text": [
      "Unique binary numbers: 1024\n",
      "Unique HR Combos: 1023\n",
      "Unique LR Combos: 1\n",
      "Target predictive feature(s) 'one's counts: [2918, 1075, 1825, 1669, 3209, 3030, 3676, 1260, 2265, 1089]\n",
      "Random Number Check: 96950\n",
      "TrueRiskGroup\n",
      "0    5000\n",
      "1    5000\n",
      "Name: count, dtype: int64\n"
     ]
    }
   ],
   "source": [
    "data_name = 'thershold_0_no_noise'\n",
    "data = survival_data_simulation(instances=10000, total_features=100, predictive_features=10, low_risk_proportion=0.5, threshold=0, feature_frequency_range=(0.1, 0.4), \n",
    "                                noise_frequency=0.0, class0_time_to_event_range=(1.5, 0.2), \n",
    "                                class1_time_to_event_range=(1, 0.2), censoring_frequency=0.2, \n",
    "                                covariates_to_sim=0, covariates_signal_range=(0.2,0.4), random_seed=42\n",
    ")\n",
    "data.to_csv(output_folder+'/'+data_name+'.csv', index=False)\n",
    "true_risk_group = data[['TrueRiskGroup']]\n",
    "value_counts = true_risk_group['TrueRiskGroup'].value_counts()\n",
    "print(value_counts)"
   ]
  },
  {
   "cell_type": "code",
   "execution_count": 7,
   "metadata": {},
   "outputs": [
    {
     "name": "stdout",
     "output_type": "stream",
     "text": [
      "Unique binary numbers: 1024\n",
      "Unique HR Combos: 1013\n",
      "Unique LR Combos: 11\n",
      "Target predictive feature(s) 'one's counts: [2918, 1075, 1825, 1669, 3209, 3030, 3676, 1260, 2265, 1089]\n",
      "Random Number Check: 62924\n",
      "TrueRiskGroup\n",
      "0    5000\n",
      "1    5000\n",
      "Name: count, dtype: int64\n"
     ]
    }
   ],
   "source": [
    "data_name = 'thershold_1_no_noise'\n",
    "data = survival_data_simulation(instances=10000, total_features=100, predictive_features=10, low_risk_proportion=0.5, threshold=1, feature_frequency_range=(0.1, 0.4), \n",
    "                                noise_frequency=0.0, class0_time_to_event_range=(1.5, 0.2), \n",
    "                                class1_time_to_event_range=(1, 0.2), censoring_frequency=0.2, \n",
    "                                covariates_to_sim=0, covariates_signal_range=(0.2,0.4), random_seed=42\n",
    ")\n",
    "data.to_csv(output_folder+'/'+data_name+'.csv', index=False)\n",
    "true_risk_group = data[['TrueRiskGroup']]\n",
    "value_counts = true_risk_group['TrueRiskGroup'].value_counts()\n",
    "print(value_counts)"
   ]
  },
  {
   "cell_type": "code",
   "execution_count": 8,
   "metadata": {},
   "outputs": [
    {
     "name": "stdout",
     "output_type": "stream",
     "text": [
      "Unique binary numbers: 1024\n",
      "Unique HR Combos: 968\n",
      "Unique LR Combos: 56\n",
      "Target predictive feature(s) 'one's counts: [2918, 1075, 1825, 1669, 3209, 3030, 3676, 1260, 2265, 1089]\n",
      "Warning: Feature P_2'only reduced to 1181 one's count.\n",
      "Warning: Feature P_10'only reduced to 1179 one's count.\n",
      "Warning: Feature P_8'only reduced to 1329 one's count.\n",
      "Random Number Check: 29973\n",
      "TrueRiskGroup\n",
      "0    5000\n",
      "1    5000\n",
      "Name: count, dtype: int64\n"
     ]
    }
   ],
   "source": [
    "data_name = 'thershold_2_no_noise'\n",
    "data = survival_data_simulation(instances=10000, total_features=100, predictive_features=10, low_risk_proportion=0.5, threshold=2, feature_frequency_range=(0.1, 0.4), \n",
    "                                noise_frequency=0.0, class0_time_to_event_range=(1.5, 0.2), \n",
    "                                class1_time_to_event_range=(1, 0.2), censoring_frequency=0.2, \n",
    "                                covariates_to_sim=0, covariates_signal_range=(0.2,0.4), random_seed=42\n",
    ")\n",
    "data.to_csv(output_folder+'/'+data_name+'.csv', index=False)\n",
    "true_risk_group = data[['TrueRiskGroup']]\n",
    "value_counts = true_risk_group['TrueRiskGroup'].value_counts()\n",
    "print(value_counts)"
   ]
  },
  {
   "cell_type": "code",
   "execution_count": 9,
   "metadata": {},
   "outputs": [
    {
     "name": "stdout",
     "output_type": "stream",
     "text": [
      "Unique binary numbers: 1024\n",
      "Unique HR Combos: 638\n",
      "Unique LR Combos: 386\n",
      "Target predictive feature(s) 'one's counts: [2918, 1075, 1825, 1669, 3209, 3030, 3676, 1260, 2265, 1089]\n",
      "Warning: Feature P_2'only reduced to 1691 one's count.\n",
      "Warning: Feature P_10'only reduced to 1887 one's count.\n",
      "Warning: Feature P_8'only reduced to 2223 one's count.\n",
      "Warning: Feature P_4'only reduced to 2732 one's count.\n",
      "Warning: Feature P_3'only reduced to 3398 one's count.\n",
      "Warning: Feature P_9'only reduced to 4504 one's count.\n",
      "Warning: Feature P_1'only reduced to 4601 one's count.\n",
      "Warning: Feature P_6'only reduced to 4587 one's count.\n",
      "Warning: Feature P_5'only reduced to 4570 one's count.\n",
      "Warning: Feature P_7'only reduced to 4627 one's count.\n",
      "Random Number Check: 53432\n",
      "TrueRiskGroup\n",
      "0    5000\n",
      "1    5000\n",
      "Name: count, dtype: int64\n"
     ]
    }
   ],
   "source": [
    "data_name = 'thershold_4_no_noise'\n",
    "data = survival_data_simulation(instances=10000, total_features=100, predictive_features=10, low_risk_proportion=0.5, threshold=4, feature_frequency_range=(0.1, 0.4), \n",
    "                                noise_frequency=0.0, class0_time_to_event_range=(1.5, 0.2), \n",
    "                                class1_time_to_event_range=(1, 0.2), censoring_frequency=0.2, \n",
    "                                covariates_to_sim=0, covariates_signal_range=(0.2,0.4), random_seed=42\n",
    ")\n",
    "data.to_csv(output_folder+'/'+data_name+'.csv', index=False)\n",
    "true_risk_group = data[['TrueRiskGroup']]\n",
    "value_counts = true_risk_group['TrueRiskGroup'].value_counts()\n",
    "print(value_counts)"
   ]
  },
  {
   "cell_type": "code",
   "execution_count": 10,
   "metadata": {},
   "outputs": [
    {
     "name": "stdout",
     "output_type": "stream",
     "text": [
      "Unique binary numbers: 1024\n",
      "Unique HR Combos: 1023\n",
      "Unique LR Combos: 1\n",
      "Target predictive feature(s) 'one's counts: [2918, 1075, 1825, 1669, 3209, 3030, 3676, 1260, 2265, 1089]\n",
      "Random Number Check: 47038\n",
      "TrueRiskGroup\n",
      "0    5000\n",
      "1    5000\n",
      "Name: count, dtype: int64\n"
     ]
    }
   ],
   "source": [
    "data_name = 'thershold_0_with_noise'\n",
    "data = survival_data_simulation(instances=10000, total_features=100, predictive_features=10, low_risk_proportion=0.5, threshold=0, feature_frequency_range=(0.1, 0.4), \n",
    "noise_frequency=0.2, class0_time_to_event_range=(1.5, 0.2), \n",
    "class1_time_to_event_range=(1, 0.2), censoring_frequency=0.2, \n",
    "covariates_to_sim=0, covariates_signal_range=(0.2,0.4), random_seed=42\n",
    ")\n",
    "data.to_csv(output_folder+'/'+data_name+'.csv', index=False)\n",
    "true_risk_group = data[['TrueRiskGroup']]\n",
    "value_counts = true_risk_group['TrueRiskGroup'].value_counts()\n",
    "print(value_counts)"
   ]
  },
  {
   "cell_type": "code",
   "execution_count": 11,
   "metadata": {},
   "outputs": [
    {
     "name": "stdout",
     "output_type": "stream",
     "text": [
      "Unique binary numbers: 1024\n",
      "Unique HR Combos: 1013\n",
      "Unique LR Combos: 11\n",
      "Target predictive feature(s) 'one's counts: [2918, 1075, 1825, 1669, 3209, 3030, 3676, 1260, 2265, 1089]\n",
      "Random Number Check: 16841\n",
      "TrueRiskGroup\n",
      "0    5000\n",
      "1    5000\n",
      "Name: count, dtype: int64\n"
     ]
    }
   ],
   "source": [
    "data_name = 'thershold_1_with_noise'\n",
    "data = survival_data_simulation(instances=10000, total_features=100, predictive_features=10, low_risk_proportion=0.5, threshold=1, feature_frequency_range=(0.1, 0.4), \n",
    "noise_frequency=0.2, class0_time_to_event_range=(1.5, 0.2), \n",
    "class1_time_to_event_range=(1, 0.2), censoring_frequency=0.2, \n",
    "covariates_to_sim=0, covariates_signal_range=(0.2,0.4), random_seed=42\n",
    ")\n",
    "data.to_csv(output_folder+'/'+data_name+'.csv', index=False)\n",
    "true_risk_group = data[['TrueRiskGroup']]\n",
    "value_counts = true_risk_group['TrueRiskGroup'].value_counts()\n",
    "print(value_counts)"
   ]
  },
  {
   "cell_type": "code",
   "execution_count": 12,
   "metadata": {},
   "outputs": [
    {
     "name": "stdout",
     "output_type": "stream",
     "text": [
      "Unique binary numbers: 1024\n",
      "Unique HR Combos: 968\n",
      "Unique LR Combos: 56\n",
      "Target predictive feature(s) 'one's counts: [2918, 1075, 1825, 1669, 3209, 3030, 3676, 1260, 2265, 1089]\n",
      "Warning: Feature P_2'only reduced to 1181 one's count.\n",
      "Warning: Feature P_10'only reduced to 1179 one's count.\n",
      "Warning: Feature P_8'only reduced to 1329 one's count.\n",
      "Random Number Check: 60566\n",
      "TrueRiskGroup\n",
      "0    5000\n",
      "1    5000\n",
      "Name: count, dtype: int64\n"
     ]
    }
   ],
   "source": [
    "data_name = 'thershold_2_with_noise'\n",
    "data = survival_data_simulation(instances=10000, total_features=100, predictive_features=10, low_risk_proportion=0.5, threshold=2, feature_frequency_range=(0.1, 0.4), \n",
    "noise_frequency=0.2, class0_time_to_event_range=(1.5, 0.2), \n",
    "class1_time_to_event_range=(1, 0.2), censoring_frequency=0.2, \n",
    "covariates_to_sim=0, covariates_signal_range=(0.2,0.4), random_seed=42\n",
    ")\n",
    "data.to_csv(output_folder+'/'+data_name+'.csv', index=False)\n",
    "true_risk_group = data[['TrueRiskGroup']]\n",
    "value_counts = true_risk_group['TrueRiskGroup'].value_counts()\n",
    "print(value_counts)"
   ]
  },
  {
   "cell_type": "code",
   "execution_count": 13,
   "metadata": {},
   "outputs": [
    {
     "name": "stdout",
     "output_type": "stream",
     "text": [
      "Unique binary numbers: 1024\n",
      "Unique HR Combos: 638\n",
      "Unique LR Combos: 386\n",
      "Target predictive feature(s) 'one's counts: [2918, 1075, 1825, 1669, 3209, 3030, 3676, 1260, 2265, 1089]\n",
      "Warning: Feature P_2'only reduced to 1691 one's count.\n",
      "Warning: Feature P_10'only reduced to 1887 one's count.\n",
      "Warning: Feature P_8'only reduced to 2223 one's count.\n",
      "Warning: Feature P_4'only reduced to 2732 one's count.\n",
      "Warning: Feature P_3'only reduced to 3398 one's count.\n",
      "Warning: Feature P_9'only reduced to 4504 one's count.\n",
      "Warning: Feature P_1'only reduced to 4601 one's count.\n",
      "Warning: Feature P_6'only reduced to 4587 one's count.\n",
      "Warning: Feature P_5'only reduced to 4570 one's count.\n",
      "Warning: Feature P_7'only reduced to 4627 one's count.\n",
      "Random Number Check: 29610\n",
      "TrueRiskGroup\n",
      "0    5000\n",
      "1    5000\n",
      "Name: count, dtype: int64\n"
     ]
    }
   ],
   "source": [
    "data_name = 'thershold_4_with_noise'\n",
    "data = survival_data_simulation(instances=10000, total_features=100, predictive_features=10, low_risk_proportion=0.5, threshold=4, feature_frequency_range=(0.1, 0.4), \n",
    "                                noise_frequency=0.2, class0_time_to_event_range=(1.5, 0.2), \n",
    "                                class1_time_to_event_range=(1, 0.2), censoring_frequency=0.2, \n",
    "                                covariates_to_sim=0, covariates_signal_range=(0.2,0.4), random_seed=42\n",
    ")\n",
    "data.to_csv(output_folder+'/'+data_name+'.csv', index=False)\n",
    "true_risk_group = data[['TrueRiskGroup']]\n",
    "value_counts = true_risk_group['TrueRiskGroup'].value_counts()\n",
    "print(value_counts)"
   ]
  }
 ],
 "metadata": {
  "kernelspec": {
   "display_name": "skfibers",
   "language": "python",
   "name": "python3"
  },
  "language_info": {
   "codemirror_mode": {
    "name": "ipython",
    "version": 3
   },
   "file_extension": ".py",
   "mimetype": "text/x-python",
   "name": "python",
   "nbconvert_exporter": "python",
   "pygments_lexer": "ipython3",
   "version": "3.8.0"
  }
 },
 "nbformat": 4,
 "nbformat_minor": 2
}
