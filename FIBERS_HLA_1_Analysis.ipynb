{
 "cells": [
  {
   "cell_type": "markdown",
   "id": "4250a8c3",
   "metadata": {},
   "source": [
    "# scikit-FIBERS: HLA Notebook (First FIBERS Paper Data)\n"
   ]
  },
  {
   "cell_type": "markdown",
   "id": "8edd8d78",
   "metadata": {},
   "source": [
    "***\n",
    "## Imports:"
   ]
  },
  {
   "cell_type": "code",
   "execution_count": 1,
   "id": "e116475e",
   "metadata": {},
   "outputs": [
    {
     "name": "stdout",
     "output_type": "stream",
     "text": [
      "c:\\Users\\ryanu\\OneDrive\\Documents\\GitHub\\scikit-FIBERS\n"
     ]
    }
   ],
   "source": [
    "import os\n",
    "import pickle\n",
    "import pandas as pd\n",
    "from sklearn.metrics import classification_report\n",
    "from src.skfibers.fibers import FIBERS\n",
    "\n",
    "current_working_directory = os.getcwd()\n",
    "print(current_working_directory)\n",
    "\n",
    "#Local Run Parameters\n",
    "local_save = False\n",
    "folder_path = 'C:/Users/ryanu/Desktop/HLA_output_log_rank'\n",
    "if not os.path.exists(folder_path):\n",
    "        os.makedirs(folder_path)\n",
    "if local_save:\n",
    "    output_folder = 'local_output'\n",
    "else:\n",
    "    output_folder = folder_path"
   ]
  },
  {
   "cell_type": "markdown",
   "id": "f55328e4",
   "metadata": {},
   "source": [
    "***\n",
    "## Load and Prepare HLA Data"
   ]
  },
  {
   "cell_type": "code",
   "execution_count": 2,
   "id": "9d5d3cb7",
   "metadata": {},
   "outputs": [
    {
     "name": "stdout",
     "output_type": "stream",
     "text": [
      "Shape of Raw DataFrame: (166574, 865)\n",
      "Sum of raw data missing values: 268236\n",
      "841 Total Columns\n",
      "786 AAs\n",
      "53 Covariates\n",
      "Shape of New DataFrame: (166574, 841)\n",
      "Sum of data missing values: 0\n"
     ]
    },
    {
     "data": {
      "text/html": [
       "<div>\n",
       "<style scoped>\n",
       "    .dataframe tbody tr th:only-of-type {\n",
       "        vertical-align: middle;\n",
       "    }\n",
       "\n",
       "    .dataframe tbody tr th {\n",
       "        vertical-align: top;\n",
       "    }\n",
       "\n",
       "    .dataframe thead th {\n",
       "        text-align: right;\n",
       "    }\n",
       "</style>\n",
       "<table border=\"1\" class=\"dataframe\">\n",
       "  <thead>\n",
       "    <tr style=\"text-align: right;\">\n",
       "      <th></th>\n",
       "      <th>A1</th>\n",
       "      <th>A10</th>\n",
       "      <th>A100</th>\n",
       "      <th>A101</th>\n",
       "      <th>A102</th>\n",
       "      <th>A103</th>\n",
       "      <th>A104</th>\n",
       "      <th>A105</th>\n",
       "      <th>A106</th>\n",
       "      <th>A107</th>\n",
       "      <th>...</th>\n",
       "      <th>mmA0</th>\n",
       "      <th>mmA1</th>\n",
       "      <th>mmB0</th>\n",
       "      <th>mmB1</th>\n",
       "      <th>mmC0</th>\n",
       "      <th>mmC1</th>\n",
       "      <th>mmDQ0</th>\n",
       "      <th>mmDQ1</th>\n",
       "      <th>graftyrs</th>\n",
       "      <th>grf_fail</th>\n",
       "    </tr>\n",
       "  </thead>\n",
       "  <tbody>\n",
       "    <tr>\n",
       "      <th>0</th>\n",
       "      <td>0</td>\n",
       "      <td>0</td>\n",
       "      <td>0</td>\n",
       "      <td>0</td>\n",
       "      <td>0</td>\n",
       "      <td>0</td>\n",
       "      <td>0</td>\n",
       "      <td>0</td>\n",
       "      <td>0</td>\n",
       "      <td>0</td>\n",
       "      <td>...</td>\n",
       "      <td>0</td>\n",
       "      <td>1</td>\n",
       "      <td>0</td>\n",
       "      <td>1</td>\n",
       "      <td>0</td>\n",
       "      <td>1</td>\n",
       "      <td>0</td>\n",
       "      <td>1</td>\n",
       "      <td>3.233490</td>\n",
       "      <td>1</td>\n",
       "    </tr>\n",
       "    <tr>\n",
       "      <th>1</th>\n",
       "      <td>0</td>\n",
       "      <td>0</td>\n",
       "      <td>0</td>\n",
       "      <td>0</td>\n",
       "      <td>0</td>\n",
       "      <td>0</td>\n",
       "      <td>0</td>\n",
       "      <td>0</td>\n",
       "      <td>0</td>\n",
       "      <td>0</td>\n",
       "      <td>...</td>\n",
       "      <td>0</td>\n",
       "      <td>1</td>\n",
       "      <td>0</td>\n",
       "      <td>0</td>\n",
       "      <td>1</td>\n",
       "      <td>0</td>\n",
       "      <td>0</td>\n",
       "      <td>0</td>\n",
       "      <td>16.003176</td>\n",
       "      <td>0</td>\n",
       "    </tr>\n",
       "    <tr>\n",
       "      <th>2</th>\n",
       "      <td>0</td>\n",
       "      <td>0</td>\n",
       "      <td>0</td>\n",
       "      <td>0</td>\n",
       "      <td>1</td>\n",
       "      <td>0</td>\n",
       "      <td>0</td>\n",
       "      <td>1</td>\n",
       "      <td>0</td>\n",
       "      <td>0</td>\n",
       "      <td>...</td>\n",
       "      <td>0</td>\n",
       "      <td>0</td>\n",
       "      <td>0</td>\n",
       "      <td>0</td>\n",
       "      <td>0</td>\n",
       "      <td>0</td>\n",
       "      <td>1</td>\n",
       "      <td>0</td>\n",
       "      <td>17.002519</td>\n",
       "      <td>0</td>\n",
       "    </tr>\n",
       "  </tbody>\n",
       "</table>\n",
       "<p>3 rows × 841 columns</p>\n",
       "</div>"
      ],
      "text/plain": [
       "   A1  A10  A100  A101  A102  A103  A104  A105  A106  A107  ...  mmA0  mmA1  \\\n",
       "0   0    0     0     0     0     0     0     0     0     0  ...     0     1   \n",
       "1   0    0     0     0     0     0     0     0     0     0  ...     0     1   \n",
       "2   0    0     0     0     1     0     0     1     0     0  ...     0     0   \n",
       "\n",
       "   mmB0  mmB1  mmC0  mmC1  mmDQ0  mmDQ1   graftyrs  grf_fail  \n",
       "0     0     1     0     1      0      1   3.233490         1  \n",
       "1     0     0     1     0      0      0  16.003176         0  \n",
       "2     0     0     0     0      1      0  17.002519         0  \n",
       "\n",
       "[3 rows x 841 columns]"
      ]
     },
     "execution_count": 2,
     "metadata": {},
     "output_type": "execute_result"
    }
   ],
   "source": [
    "data_path = 'C:/Users/ryanu/Desktop/HLA/Imp1/Imp1.csv'\n",
    "data_name = 'Imp1'\n",
    "data = pd.read_csv(data_path,low_memory=False)\n",
    "\n",
    "#Define key column names to be used in analysis\n",
    "outcome_label = \"graftyrs\"\n",
    "censor_label = \"grf_fail\"\n",
    "amino_acids = ['A1', 'A10', 'A100', 'A101', 'A102', 'A103', 'A104', 'A105', 'A106', 'A107', 'A108', 'A109', 'A11', 'A110', 'A111', 'A112', 'A113', 'A114', 'A115', 'A116', 'A117', 'A118', 'A119', 'A12', 'A120', 'A121', 'A122', 'A123', 'A124', 'A125', 'A126', 'A127', 'A128', 'A129', 'A13', 'A130', 'A131', 'A132', 'A133', 'A134', 'A135', 'A136', 'A137', 'A138', 'A139', 'A14', 'A140', 'A141', 'A142', 'A143', 'A144', 'A145', 'A146', 'A147', 'A148', 'A149', 'A15', 'A150', 'A151', 'A152', 'A153', 'A154', 'A155', 'A156', 'A157', 'A158', 'A159', 'A16', 'A160', 'A161', 'A162', 'A163', 'A164', 'A165', 'A166', 'A167', 'A168', 'A169', 'A17', 'A170', 'A171', 'A172', 'A173', 'A174', 'A175', 'A176', 'A177', 'A178', 'A179', 'A18', 'A180', 'A181', 'A182', 'A183', 'A184', 'A185', 'A186', 'A187', 'A188', 'A189', 'A19', 'A190', 'A191', 'A192', 'A193', 'A194', 'A195', 'A196', 'A197', 'A198', 'A199', 'A2', 'A20', 'A21', 'A22', 'A23', 'A24', 'A25', 'A26', 'A27', 'A28', 'A29', 'A3', 'A30', 'A31', 'A32', 'A33', 'A34', 'A35', 'A36', 'A37', 'A38', 'A39', 'A4', 'A40', 'A41', 'A42', 'A43', 'A44', 'A45', 'A46', 'A47', 'A48', 'A49', 'A5', 'A50', 'A51', 'A52', 'A53', 'A54', 'A55', 'A56', 'A57', 'A58', 'A59', 'A6', 'A60', 'A61', 'A62', 'A63', 'A64', 'A65', 'A66', 'A67', 'A68', 'A69', 'A7', 'A70', 'A71', 'A72', 'A73', 'A74', 'A75', 'A76', 'A77', 'A78', 'A79', 'A8', 'A80', 'A81', 'A82', 'A83', 'A84', 'A85', 'A86', 'A87', 'A88', 'A89', 'A9', 'A90', 'A91', 'A92', 'A93', 'A94', 'A95', 'A96', 'A97', 'A98', 'A99', 'B1', 'B10', 'B100', 'B101', 'B102', 'B103', 'B104', 'B105', 'B106', 'B107', 'B108', 'B109', 'B11', 'B110', 'B111', 'B112', 'B113', 'B114', 'B115', 'B116', 'B117', 'B118', 'B119', 'B12', 'B120', 'B121', 'B122', 'B123', 'B124', 'B125', 'B126', 'B127', 'B128', 'B129', 'B13', 'B130', 'B131', 'B132', 'B133', 'B134', 'B135', 'B136', 'B137', 'B138', 'B139', 'B14', 'B140', 'B141', 'B142', 'B143', 'B144', 'B145', 'B146', 'B147', 'B148', 'B149', 'B15', 'B150', 'B151', 'B152', 'B153', 'B154', 'B155', 'B156', 'B157', 'B158', 'B159', 'B16', 'B160', 'B161', 'B162', 'B163', 'B164', 'B165', 'B166', 'B167', 'B168', 'B169', 'B17', 'B170', 'B171', 'B172', 'B173', 'B174', 'B175', 'B176', 'B177', 'B178', 'B179', 'B18', 'B180', 'B181', 'B182', 'B183', 'B184', 'B185', 'B186', 'B187', 'B188', 'B189', 'B19', 'B190', 'B191', 'B192', 'B193', 'B194', 'B2', 'B20', 'B21', 'B22', 'B23', 'B24', 'B25', 'B26', 'B27', 'B28', 'B29', 'B3', 'B30', 'B31', 'B32', 'B33', 'B34', 'B35', 'B36', 'B37', 'B38', 'B39', 'B4', 'B40', 'B41', 'B42', 'B43', 'B44', 'B45', 'B46', 'B47', 'B48', 'B49', 'B5', 'B50', 'B51', 'B52', 'B53', 'B54', 'B55', 'B56', 'B57', 'B58', 'B59', 'B6', 'B60', 'B61', 'B62', 'B63', 'B64', 'B65', 'B66', 'B67', 'B68', 'B69', 'B7', 'B70', 'B71', 'B72', 'B73', 'B74', 'B75', 'B76', 'B77', 'B78', 'B79', 'B8', 'B80', 'B81', 'B82', 'B83', 'B84', 'B85', 'B86', 'B87', 'B88', 'B89', 'B9', 'B90', 'B91', 'B92', 'B93', 'B94', 'B95', 'B96', 'B97', 'B98', 'B99', 'C1', 'C10', 'C100', 'C101', 'C102', 'C103', 'C104', 'C105', 'C106', 'C107', 'C108', 'C109', 'C11', 'C110', 'C111', 'C112', 'C113', 'C114', 'C115', 'C116', 'C117', 'C118', 'C119', 'C12', 'C120', 'C121', 'C122', 'C123', 'C124', 'C125', 'C126', 'C127', 'C128', 'C129', 'C13', 'C130', 'C131', 'C132', 'C133', 'C134', 'C135', 'C136', 'C137', 'C138', 'C139', 'C14', 'C140', 'C141', 'C142', 'C143', 'C144', 'C145', 'C146', 'C147', 'C148', 'C149', 'C15', 'C150', 'C151', 'C152', 'C153', 'C154', 'C155', 'C156', 'C157', 'C158', 'C159', 'C16', 'C160', 'C161', 'C162', 'C163', 'C164', 'C165', 'C166', 'C167', 'C168', 'C169', 'C17', 'C170', 'C171', 'C172', 'C173', 'C174', 'C175', 'C176', 'C177', 'C178', 'C179', 'C18', 'C180', 'C181', 'C182', 'C183', 'C184', 'C185', 'C186', 'C187', 'C188', 'C189', 'C19', 'C190', 'C191', 'C192', 'C193', 'C194', 'C195', 'C196', 'C197', 'C198', 'C199', 'C2', 'C20', 'C200', 'C201', 'C202', 'C203', 'C204', 'C205', 'C21', 'C22', 'C23', 'C24', 'C25', 'C26', 'C27', 'C28', 'C29', 'C3', 'C30', 'C31', 'C32', 'C33', 'C34', 'C35', 'C36', 'C37', 'C38', 'C39', 'C4', 'C40', 'C41', 'C42', 'C43', 'C44', 'C45', 'C46', 'C47', 'C48', 'C49', 'C5', 'C50', 'C51', 'C52', 'C53', 'C54', 'C55', 'C56', 'C57', 'C58', 'C59', 'C6', 'C60', 'C61', 'C62', 'C63', 'C64', 'C65', 'C66', 'C67', 'C68', 'C69', 'C7', 'C70', 'C71', 'C72', 'C73', 'C74', 'C75', 'C76', 'C77', 'C78', 'C79', 'C8', 'C80', 'C81', 'C82', 'C83', 'C84', 'C85', 'C86', 'C87', 'C88', 'C89', 'C9', 'C90', 'C91', 'C92', 'C93', 'C94', 'C95', 'C96', 'C97', 'C98', 'C99', 'DQB11', 'DQB110', 'DQB111', 'DQB112', 'DQB113', 'DQB114', 'DQB115', 'DQB116', 'DQB117', 'DQB118', 'DQB119', 'DQB12', 'DQB120', 'DQB121', 'DQB122', 'DQB123', 'DQB124', 'DQB125', 'DQB126', 'DQB127', 'DQB128', 'DQB129', 'DQB13', 'DQB130', 'DQB131', 'DQB132', 'DQB133', 'DQB134', 'DQB135', 'DQB136', 'DQB137', 'DQB138', 'DQB139', 'DQB14', 'DQB140', 'DQB141', 'DQB142', 'DQB143', 'DQB144', 'DQB145', 'DQB146', 'DQB147', 'DQB148', 'DQB149', 'DQB15', 'DQB150', 'DQB151', 'DQB152', 'DQB153', 'DQB154', 'DQB155', 'DQB156', 'DQB157', 'DQB158', 'DQB159', 'DQB16', 'DQB160', 'DQB161', 'DQB162', 'DQB163', 'DQB164', 'DQB165', 'DQB166', 'DQB167', 'DQB168', 'DQB169', 'DQB17', 'DQB170', 'DQB171', 'DQB172', 'DQB173', 'DQB174', 'DQB175', 'DQB176', 'DQB177', 'DQB178', 'DQB179', 'DQB18', 'DQB180', 'DQB181', 'DQB182', 'DQB183', 'DQB184', 'DQB185', 'DQB186', 'DQB187', 'DQB188', 'DQB189', 'DQB19', 'DQB190', 'DQB191', 'DQB192', 'DQB193', 'DQB194', 'DRB11', 'DRB110', 'DRB111', 'DRB112', 'DRB113', 'DRB114', 'DRB115', 'DRB116', 'DRB117', 'DRB118', 'DRB119', 'DRB12', 'DRB120', 'DRB121', 'DRB122', 'DRB123', 'DRB124', 'DRB125', 'DRB126', 'DRB127', 'DRB128', 'DRB129', 'DRB13', 'DRB130', 'DRB131', 'DRB132', 'DRB133', 'DRB134', 'DRB135', 'DRB136', 'DRB137', 'DRB138', 'DRB139', 'DRB14', 'DRB140', 'DRB141', 'DRB142', 'DRB143', 'DRB144', 'DRB145', 'DRB146', 'DRB147', 'DRB148', 'DRB149', 'DRB15', 'DRB150', 'DRB151', 'DRB152', 'DRB153', 'DRB154', 'DRB155', 'DRB156', 'DRB157', 'DRB158', 'DRB159', 'DRB16', 'DRB160', 'DRB161', 'DRB162', 'DRB163', 'DRB164', 'DRB165', 'DRB166', 'DRB167', 'DRB168', 'DRB169', 'DRB17', 'DRB170', 'DRB171', 'DRB172', 'DRB173', 'DRB174', 'DRB175', 'DRB176', 'DRB177', 'DRB178', 'DRB179', 'DRB18', 'DRB180', 'DRB181', 'DRB182', 'DRB183', 'DRB184', 'DRB185', 'DRB186', 'DRB187', 'DRB188', 'DRB189', 'DRB19', 'DRB190', 'DRB191', 'DRB192', 'DRB193', 'DRB194']\n",
    "covariates = ['shared', 'DCD', 'DON_AGE', 'donage_slope_ge18', 'dcadcodanox', 'dcadcodcva', 'dcadcodcnst', 'dcadcodoth', 'don_cmv_negative', \n",
    "              'don_htn_0c', 'ln_don_wgt_kg_0c', 'ln_don_wgt_kg_0c_s55', 'don_ecd', 'age_ecd', 'yearslice', 'REC_AGE_AT_TX', \n",
    "              'rec_age_spline_35', 'rec_age_spline_50', 'rec_age_spline_65', 'diab_noted', 'age_diab', 'dm_can_age_spline_50', \n",
    "              'can_dgn_htn_ndm', 'can_dgn_pk_ndm', 'can_dgn_gd_ndm', 'rec_prev_ki_tx', 'rec_prev_ki_tx_dm', 'rbmi_0c', 'rbmi_miss', \n",
    "              'rbmi_gt_20', 'rbmi_DM', 'rbmi_gt_20_DM', 'ln_c_hd_m', 'ln_c_hd_0c', 'ln_c_hd_m_ptx', 'PKPRA_MS', 'PKPRA_1080', \n",
    "              'PKPRA_GE80', 'hispanic', 'CAN_RACE_BLACK', 'CAN_RACE_asian', 'CAN_RACE_WHITE', 'mm0', 'mmDR0', 'mmDR1', 'mmA0', 'mmA1', \n",
    "              'mmB0', 'mmB1', 'mmC0', 'mmC1', 'mmDQ0', 'mmDQ1']\n",
    "\n",
    "print(\"Shape of Raw DataFrame:\", data.shape)\n",
    "missing_sum = data.isna().sum().sum()\n",
    "print(\"Sum of raw data missing values:\", missing_sum)\n",
    "\n",
    "features = amino_acids + covariates + [outcome_label] + [censor_label]\n",
    "print(str(len(features))+ \" Total Columns\")\n",
    "print(str(len(amino_acids))+\" AAs\")\n",
    "print(str(len(covariates))+ \" Covariates\")\n",
    "\n",
    "data = data[features]\n",
    "print(\"Shape of New DataFrame:\", data.shape)\n",
    "missing_sum = data.isna().sum().sum()\n",
    "print(\"Sum of data missing values:\", missing_sum)\n",
    "\n",
    "data.head(3)\n",
    "#Debugging\n",
    "# Create a new DataFrame with 100 random rows\n",
    "#data = data.sample(n=1000)"
   ]
  },
  {
   "cell_type": "code",
   "execution_count": 3,
   "id": "4dc3d065",
   "metadata": {},
   "outputs": [
    {
     "name": "stdout",
     "output_type": "stream",
     "text": [
      "int64      832\n",
      "float64      8\n",
      "object       1\n",
      "Name: count, dtype: int64\n",
      "Index(['REC_AGE_AT_TX'], dtype='object')\n",
      "['35-49' '50-64' '65+' '18-34']\n"
     ]
    },
    {
     "data": {
      "text/plain": [
       "0         35-49\n",
       "1         35-49\n",
       "2         35-49\n",
       "3         50-64\n",
       "4           65+\n",
       "          ...  \n",
       "166569    50-64\n",
       "166570    50-64\n",
       "166571    35-49\n",
       "166572      65+\n",
       "166573    50-64\n",
       "Name: REC_AGE_AT_TX, Length: 166574, dtype: object"
      ]
     },
     "execution_count": 3,
     "metadata": {},
     "output_type": "execute_result"
    }
   ],
   "source": [
    "#Covariate examination\n",
    "column_types_count = data.dtypes.value_counts()\n",
    "print(column_types_count)\n",
    "object_columns = data.columns[data.dtypes == 'object']\n",
    "print(object_columns)\n",
    "num_categories = data['REC_AGE_AT_TX'].unique()\n",
    "print(num_categories)\n",
    "data['REC_AGE_AT_TX']"
   ]
  },
  {
   "cell_type": "code",
   "execution_count": 4,
   "id": "7d26d577",
   "metadata": {},
   "outputs": [
    {
     "name": "stdout",
     "output_type": "stream",
     "text": [
      "[0 1 2 3]\n"
     ]
    },
    {
     "data": {
      "text/plain": [
       "0         0\n",
       "1         0\n",
       "2         0\n",
       "3         1\n",
       "4         2\n",
       "         ..\n",
       "166569    1\n",
       "166570    1\n",
       "166571    0\n",
       "166572    2\n",
       "166573    1\n",
       "Name: REC_AGE_AT_TX, Length: 166574, dtype: int64"
      ]
     },
     "execution_count": 4,
     "metadata": {},
     "output_type": "execute_result"
    }
   ],
   "source": [
    "#Process covariates as needed\n",
    "cat_columns = data.select_dtypes(['object']).columns\n",
    "data[cat_columns] = data[cat_columns].apply(lambda x: pd.factorize(x)[0])   #IMPORTANT - this encoding is temporary to replicate paper analysis.  This must be fixed so that age ranges are ordinally encoded.\n",
    "num_categories = data['REC_AGE_AT_TX'].unique()\n",
    "print(num_categories)\n",
    "data['REC_AGE_AT_TX']"
   ]
  },
  {
   "cell_type": "code",
   "execution_count": 5,
   "id": "edd33da7",
   "metadata": {},
   "outputs": [
    {
     "name": "stdout",
     "output_type": "stream",
     "text": [
      "A1        0.000270\n",
      "A10       0.000000\n",
      "A100      0.000000\n",
      "A101      0.000000\n",
      "A102      0.005247\n",
      "            ...   \n",
      "DRB190    0.000018\n",
      "DRB191    0.000018\n",
      "DRB192    0.000036\n",
      "DRB193    0.000036\n",
      "DRB194    0.000042\n",
      "Length: 786, dtype: float64\n"
     ]
    }
   ],
   "source": [
    "filter_all_rare = True\n",
    "rare_freq = 0.01\n",
    "if filter_all_rare:\n",
    "    #Filter out rare AAs (<1%)\n",
    "    # Calculate the percentage of occurrences greater than 0 for each column\n",
    "    percentages = data.loc[:,amino_acids].apply(lambda x: (x > 0).mean())\n",
    "    print(percentages)\n",
    "    columns_to_remove = percentages[percentages < rare_freq].index.tolist()\n",
    "    data = data.drop(columns=columns_to_remove)\n",
    "    data.shape\n",
    "else:\n",
    "    #Filter out invariant AAs\n",
    "    # Calculate the percentage of occurrences greater than 0 for each column\n",
    "    percentages = data.loc[:,amino_acids].apply(lambda x: (x > 0).mean())\n",
    "    print(percentages)\n",
    "    columns_to_remove = percentages[percentages == 0.0].index.tolist()\n",
    "    data = data.drop(columns=columns_to_remove)\n",
    "    data.shape"
   ]
  },
  {
   "cell_type": "markdown",
   "id": "02f5058a",
   "metadata": {},
   "source": [
    "***\n",
    "## Run FIBERS (Training)"
   ]
  },
  {
   "cell_type": "code",
   "execution_count": 6,
   "id": "0e9e982b",
   "metadata": {},
   "outputs": [],
   "source": [
    "#Load Manual Bin Population to Partially initialize Bin Population\n",
    "pop_path = 'C:/Users/ryanu/Desktop/HLA/Imp1/HLA_Paper_Pop_Init.csv'\n",
    "pop = pd.read_csv(pop_path,low_memory=False)"
   ]
  },
  {
   "cell_type": "code",
   "execution_count": 7,
   "id": "35198658",
   "metadata": {},
   "outputs": [
    {
     "name": "stdout",
     "output_type": "stream",
     "text": [
      "Dropped 0 invariant feature columns.\n",
      "Beginning FIBERS Fit:\n",
      "                                         feature_list  group_threshold  \\\n",
      "0               [A17, DQB155, DQB174, DRB112, DRB114]                0   \n",
      "1       [B30, DQB155, DQB175, DRB112, DRB114, DRB126]                0   \n",
      "2   [DRB111, DRB114, DRB116, DRB126, DRB128, DRB13...                0   \n",
      "3    [DQB177, DQB184, DRB111, DRB126, DRB137, DRB160]                0   \n",
      "4    [DQB153, DQB189, DRB111, DRB126, DRB137, DRB177]                0   \n",
      "..                                                ...              ...   \n",
      "95                                              [B94]                0   \n",
      "96                                         [B82, B94]                1   \n",
      "97                                         [B30, C11]                3   \n",
      "98                                             [B145]                0   \n",
      "99                                              [C99]                0   \n",
      "\n",
      "     fitness  pre_fitness  log_rank_score  log_rank_p_value  bin_size  \\\n",
      "0   1.000000   453.347184      453.347184     1.347975e-100         5   \n",
      "1   0.951229   444.072538      444.072538      1.406417e-98         6   \n",
      "2   0.904837   422.802851      422.802851      5.989317e-94        10   \n",
      "3   0.860708   421.938850      421.938850      9.234960e-94         6   \n",
      "4   0.818731   420.169664      420.169664      2.241388e-93         6   \n",
      "..       ...          ...             ...               ...       ...   \n",
      "95  0.009095    20.062974       20.062974      7.493343e-06         1   \n",
      "96  0.008652    14.706978       29.413957      5.845515e-08         2   \n",
      "97  0.008230     9.018597       18.037195      2.166308e-05         2   \n",
      "98  0.007828     3.748044        7.496088      6.183316e-03         1   \n",
      "99  0.007447     0.512384        0.512384      4.741085e-01         1   \n",
      "\n",
      "    group_strata_prop  count_bt  count_at  ...  deletion_prop cluster  \\\n",
      "0            0.291936     48629    117945  ...           None    None   \n",
      "1            0.265378     44205    122369  ...           None    None   \n",
      "2            0.241370     40206    126368  ...           None    None   \n",
      "3            0.223324     37200    129374  ...           None    None   \n",
      "4            0.244258     40687    125887  ...           None    None   \n",
      "..                ...       ...       ...  ...            ...     ...   \n",
      "95           0.277738    120310     46264  ...           None    None   \n",
      "96           0.199539    133336     33238  ...           None    None   \n",
      "97           0.000024    166570         4  ...           None    None   \n",
      "98           0.035528    160656      5918  ...           None    None   \n",
      "99           0.441828     92977     73597  ...           None    None   \n",
      "\n",
      "   residuals_score residuals_p_value    HR HR_CI HR_p_value adj_HR adj_HR_CI  \\\n",
      "0             None              None  None  None       None   None      None   \n",
      "1             None              None  None  None       None   None      None   \n",
      "2             None              None  None  None       None   None      None   \n",
      "3             None              None  None  None       None   None      None   \n",
      "4             None              None  None  None       None   None      None   \n",
      "..             ...               ...   ...   ...        ...    ...       ...   \n",
      "95            None              None  None  None       None   None      None   \n",
      "96            None              None  None  None       None   None      None   \n",
      "97            None              None  None  None       None   None      None   \n",
      "98            None              None  None  None       None   None      None   \n",
      "99            None              None  None  None       None   None      None   \n",
      "\n",
      "   adj_HR_p_value  \n",
      "0            None  \n",
      "1            None  \n",
      "2            None  \n",
      "3            None  \n",
      "4            None  \n",
      "..            ...  \n",
      "95           None  \n",
      "96           None  \n",
      "97           None  \n",
      "98           None  \n",
      "99           None  \n",
      "\n",
      "[100 rows x 21 columns]\n"
     ]
    },
    {
     "name": "stderr",
     "output_type": "stream",
     "text": [
      "  0%|          | 0/100 [00:00<?, ?it/s]"
     ]
    },
    {
     "name": "stdout",
     "output_type": "stream",
     "text": [
      "Iteration: 1\n"
     ]
    },
    {
     "name": "stderr",
     "output_type": "stream",
     "text": [
      "  1%|          | 1/100 [00:31<51:09, 31.00s/it]"
     ]
    },
    {
     "name": "stdout",
     "output_type": "stream",
     "text": [
      "Iteration: 2\n"
     ]
    },
    {
     "name": "stderr",
     "output_type": "stream",
     "text": [
      "  2%|▏         | 2/100 [00:41<30:40, 18.78s/it]"
     ]
    },
    {
     "name": "stdout",
     "output_type": "stream",
     "text": [
      "Iteration: 3\n"
     ]
    },
    {
     "name": "stderr",
     "output_type": "stream",
     "text": [
      "  3%|▎         | 3/100 [00:51<24:05, 14.90s/it]"
     ]
    },
    {
     "name": "stdout",
     "output_type": "stream",
     "text": [
      "Iteration: 4\n"
     ]
    },
    {
     "name": "stderr",
     "output_type": "stream",
     "text": [
      "  4%|▍         | 4/100 [01:01<20:53, 13.05s/it]"
     ]
    },
    {
     "name": "stdout",
     "output_type": "stream",
     "text": [
      "Iteration: 5\n"
     ]
    },
    {
     "name": "stderr",
     "output_type": "stream",
     "text": [
      "  5%|▌         | 5/100 [01:12<19:08, 12.09s/it]"
     ]
    },
    {
     "name": "stdout",
     "output_type": "stream",
     "text": [
      "Iteration: 6\n"
     ]
    },
    {
     "name": "stderr",
     "output_type": "stream",
     "text": [
      "  6%|▌         | 6/100 [01:22<17:59, 11.48s/it]"
     ]
    },
    {
     "name": "stdout",
     "output_type": "stream",
     "text": [
      "Iteration: 7\n"
     ]
    },
    {
     "name": "stderr",
     "output_type": "stream",
     "text": [
      "  7%|▋         | 7/100 [01:32<17:18, 11.16s/it]"
     ]
    },
    {
     "name": "stdout",
     "output_type": "stream",
     "text": [
      "Iteration: 8\n"
     ]
    },
    {
     "name": "stderr",
     "output_type": "stream",
     "text": [
      "  8%|▊         | 8/100 [01:43<16:45, 10.93s/it]"
     ]
    },
    {
     "name": "stdout",
     "output_type": "stream",
     "text": [
      "Iteration: 9\n"
     ]
    },
    {
     "name": "stderr",
     "output_type": "stream",
     "text": [
      "  9%|▉         | 9/100 [01:53<16:14, 10.71s/it]"
     ]
    },
    {
     "name": "stdout",
     "output_type": "stream",
     "text": [
      "Iteration: 10\n"
     ]
    },
    {
     "name": "stderr",
     "output_type": "stream",
     "text": [
      " 10%|█         | 10/100 [02:04<15:58, 10.65s/it]"
     ]
    },
    {
     "name": "stdout",
     "output_type": "stream",
     "text": [
      "ITERATION: 10\n",
      "                                         feature_list  group_threshold  \\\n",
      "0   [B143, DQB155, DQB174, DQB175, DRB112, DRB114,...                0   \n",
      "1       [A17, DQB155, DQB174, DRB112, DRB114, DRB126]                0   \n",
      "2   [A17, DQB155, DQB174, DQB175, DRB112, DRB126, ...                0   \n",
      "3   [A17, B30, DQB137, DQB155, DQB174, DQB190, DRB...                0   \n",
      "4   [A17, B143, B62, DQB155, DQB174, DQB175, DRB11...                1   \n",
      "..                                                ...              ...   \n",
      "95  [A161, DQB155, DQB174, DQB175, DRB112, DRB114,...                5   \n",
      "96  [A17, B180, B30, C173, DQB174, DQB175, DRB112,...                5   \n",
      "97                                             [A150]                0   \n",
      "98  [C177, DQB155, DQB174, DQB175, DRB116, DRB126,...                5   \n",
      "99                                           [DRB116]                1   \n",
      "\n",
      "     fitness  pre_fitness  log_rank_score  log_rank_p_value  bin_size  \\\n",
      "0   1.000000   476.628515      476.628515     1.157115e-105         8   \n",
      "1   0.967430   461.820418      461.820418     1.930806e-102         6   \n",
      "2   0.905437   445.090233      445.090233      8.445584e-99         7   \n",
      "3   0.875946   441.837231      441.837231      4.311177e-98         9   \n",
      "4   0.847417   438.435141      438.435141      2.371490e-97        12   \n",
      "..       ...          ...             ...               ...       ...   \n",
      "95  0.007951    36.646143       73.292285      1.118041e-17         7   \n",
      "96  0.007692    30.196455       60.392911      7.769229e-15         9   \n",
      "97  0.007442    26.055227       52.110453      5.246490e-13         1   \n",
      "98  0.007199    20.919751       41.839503      9.908128e-11         7   \n",
      "99  0.006965     0.924027        1.848054      1.740099e-01         1   \n",
      "\n",
      "    group_strata_prop  count_bt  count_at  ...  deletion_prop  cluster  \\\n",
      "0            0.245663     40921    125653  ...       0.000000        1   \n",
      "1            0.259614     43245    123329  ...     227.031034        1   \n",
      "2            0.269196     44841    121733  ...     213.678801        1   \n",
      "3            0.236003     39312    127262  ...       0.000000        3   \n",
      "4            0.268325     44696    121878  ...       0.000000        4   \n",
      "..                ...       ...       ...  ...            ...      ...   \n",
      "95           0.105184    149053     17521  ...     191.289784        1   \n",
      "96           0.093922    150929     15645  ...     155.194301        0   \n",
      "97           0.172500    137840     28734  ...     157.509599        0   \n",
      "98           0.093058    151073     15501  ...     184.429709        4   \n",
      "99           0.010044    164901      1673  ...     143.579289        0   \n",
      "\n",
      "    residuals_score residuals_p_value    HR HR_CI HR_p_value adj_HR adj_HR_CI  \\\n",
      "0              None              None  None  None       None   None      None   \n",
      "1              None              None  None  None       None   None      None   \n",
      "2              None              None  None  None       None   None      None   \n",
      "3              None              None  None  None       None   None      None   \n",
      "4              None              None  None  None       None   None      None   \n",
      "..              ...               ...   ...   ...        ...    ...       ...   \n",
      "95             None              None  None  None       None   None      None   \n",
      "96             None              None  None  None       None   None      None   \n",
      "97             None              None  None  None       None   None      None   \n",
      "98             None              None  None  None       None   None      None   \n",
      "99             None              None  None  None       None   None      None   \n",
      "\n",
      "   adj_HR_p_value  \n",
      "0            None  \n",
      "1            None  \n",
      "2            None  \n",
      "3            None  \n",
      "4            None  \n",
      "..            ...  \n",
      "95           None  \n",
      "96           None  \n",
      "97           None  \n",
      "98           None  \n",
      "99           None  \n",
      "\n",
      "[100 rows x 21 columns]\n",
      "Iteration: 11\n"
     ]
    },
    {
     "name": "stderr",
     "output_type": "stream",
     "text": [
      " 11%|█         | 11/100 [02:14<15:41, 10.58s/it]"
     ]
    },
    {
     "name": "stdout",
     "output_type": "stream",
     "text": [
      "Iteration: 12\n"
     ]
    },
    {
     "name": "stderr",
     "output_type": "stream",
     "text": [
      " 12%|█▏        | 12/100 [02:25<15:30, 10.57s/it]"
     ]
    },
    {
     "name": "stdout",
     "output_type": "stream",
     "text": [
      "Iteration: 13\n"
     ]
    },
    {
     "name": "stderr",
     "output_type": "stream",
     "text": [
      " 13%|█▎        | 13/100 [02:36<15:32, 10.72s/it]"
     ]
    },
    {
     "name": "stdout",
     "output_type": "stream",
     "text": [
      "Iteration: 14\n"
     ]
    },
    {
     "name": "stderr",
     "output_type": "stream",
     "text": [
      " 14%|█▍        | 14/100 [02:46<15:23, 10.74s/it]"
     ]
    },
    {
     "name": "stdout",
     "output_type": "stream",
     "text": [
      "Iteration: 15\n"
     ]
    },
    {
     "name": "stderr",
     "output_type": "stream",
     "text": [
      " 15%|█▌        | 15/100 [02:57<15:02, 10.62s/it]"
     ]
    },
    {
     "name": "stdout",
     "output_type": "stream",
     "text": [
      "Iteration: 16\n"
     ]
    },
    {
     "name": "stderr",
     "output_type": "stream",
     "text": [
      " 16%|█▌        | 16/100 [03:07<14:49, 10.59s/it]"
     ]
    },
    {
     "name": "stdout",
     "output_type": "stream",
     "text": [
      "Iteration: 17\n"
     ]
    },
    {
     "name": "stderr",
     "output_type": "stream",
     "text": [
      " 17%|█▋        | 17/100 [03:18<14:38, 10.58s/it]"
     ]
    },
    {
     "name": "stdout",
     "output_type": "stream",
     "text": [
      "Iteration: 18\n"
     ]
    },
    {
     "name": "stderr",
     "output_type": "stream",
     "text": [
      " 18%|█▊        | 18/100 [03:28<14:24, 10.55s/it]"
     ]
    },
    {
     "name": "stdout",
     "output_type": "stream",
     "text": [
      "Iteration: 19\n"
     ]
    },
    {
     "name": "stderr",
     "output_type": "stream",
     "text": [
      " 19%|█▉        | 19/100 [03:39<14:13, 10.54s/it]"
     ]
    },
    {
     "name": "stdout",
     "output_type": "stream",
     "text": [
      "Iteration: 20\n"
     ]
    },
    {
     "name": "stderr",
     "output_type": "stream",
     "text": [
      " 20%|██        | 20/100 [03:49<14:00, 10.51s/it]"
     ]
    },
    {
     "name": "stdout",
     "output_type": "stream",
     "text": [
      "ITERATION: 20\n",
      "                                         feature_list  group_threshold  \\\n",
      "0   [B143, C143, DQB114, DQB155, DQB174, DQB175, D...                0   \n",
      "1   [B143, DQB114, DQB155, DQB174, DQB175, DRB112,...                0   \n",
      "2   [B143, C143, DQB155, DQB174, DQB175, DRB112, D...                0   \n",
      "3   [A67, B143, C143, DQB114, DQB155, DQB174, DQB1...                0   \n",
      "4   [B143, C143, DQB155, DQB175, DRB112, DRB114, D...                0   \n",
      "..                                                ...              ...   \n",
      "95  [B143, C143, DQB155, DQB174, DQB175, DRB112, D...                5   \n",
      "96  [B143, DQB174, DQB175, DRB112, DRB114, DRB116,...                4   \n",
      "97                                     [B178, DQB113]                0   \n",
      "98             [A109, DQB155, DQB174, DRB114, DRB126]                5   \n",
      "99       [A151, B143, DQB155, DRB114, DRB116, DRB126]                5   \n",
      "\n",
      "     fitness  pre_fitness  log_rank_score  log_rank_p_value  bin_size  \\\n",
      "0   1.000000   479.422738      479.422738     2.853349e-106        10   \n",
      "1   0.967216   478.331573      478.331573     4.929365e-106         9   \n",
      "2   0.904837   477.885534      477.885534     6.163804e-106         9   \n",
      "3   0.875173   477.230083      477.230083     8.560025e-106        11   \n",
      "4   0.846482   477.155990      477.155990     8.883778e-106         8   \n",
      "..       ...          ...             ...               ...       ...   \n",
      "95  0.008797    37.056720       74.113439      7.375451e-18         9   \n",
      "96  0.008509    30.495156       60.990311      5.735639e-15         7   \n",
      "97  0.007960    24.052493       24.052493      9.374479e-07         2   \n",
      "98  0.007447    10.958540       21.917081      2.846887e-06         5   \n",
      "99  0.007202     0.946542        1.893084      1.688545e-01         6   \n",
      "\n",
      "    group_strata_prop  count_bt  count_at  ...  deletion_prop  cluster  \\\n",
      "0            0.237402     39545    127029  ...       0.000000        1   \n",
      "1            0.241892     40293    126281  ...     265.526007        1   \n",
      "2            0.240950     40136    126438  ...     256.717321        1   \n",
      "3            0.213155     35506    131068  ...       0.000000        3   \n",
      "4            0.245873     40956    125618  ...     252.301984        1   \n",
      "..                ...       ...       ...  ...            ...      ...   \n",
      "95           0.111146    148060     18514  ...     199.320226        3   \n",
      "96           0.100682    149803     16771  ...     184.535593        4   \n",
      "97           0.388626    101839     64735  ...     138.841547        0   \n",
      "98           0.016785    163778      2796  ...     144.740214        2   \n",
      "99           0.007324    165354      1220  ...     148.273275        2   \n",
      "\n",
      "    residuals_score residuals_p_value    HR HR_CI HR_p_value adj_HR adj_HR_CI  \\\n",
      "0              None              None  None  None       None   None      None   \n",
      "1              None              None  None  None       None   None      None   \n",
      "2              None              None  None  None       None   None      None   \n",
      "3              None              None  None  None       None   None      None   \n",
      "4              None              None  None  None       None   None      None   \n",
      "..              ...               ...   ...   ...        ...    ...       ...   \n",
      "95             None              None  None  None       None   None      None   \n",
      "96             None              None  None  None       None   None      None   \n",
      "97             None              None  None  None       None   None      None   \n",
      "98             None              None  None  None       None   None      None   \n",
      "99             None              None  None  None       None   None      None   \n",
      "\n",
      "   adj_HR_p_value  \n",
      "0            None  \n",
      "1            None  \n",
      "2            None  \n",
      "3            None  \n",
      "4            None  \n",
      "..            ...  \n",
      "95           None  \n",
      "96           None  \n",
      "97           None  \n",
      "98           None  \n",
      "99           None  \n",
      "\n",
      "[100 rows x 21 columns]\n",
      "Iteration: 21\n"
     ]
    },
    {
     "name": "stderr",
     "output_type": "stream",
     "text": [
      " 21%|██        | 21/100 [04:00<13:47, 10.48s/it]"
     ]
    },
    {
     "name": "stdout",
     "output_type": "stream",
     "text": [
      "Iteration: 22\n"
     ]
    },
    {
     "name": "stderr",
     "output_type": "stream",
     "text": [
      " 22%|██▏       | 22/100 [04:10<13:38, 10.49s/it]"
     ]
    },
    {
     "name": "stdout",
     "output_type": "stream",
     "text": [
      "Iteration: 23\n"
     ]
    },
    {
     "name": "stderr",
     "output_type": "stream",
     "text": [
      " 23%|██▎       | 23/100 [04:21<13:27, 10.49s/it]"
     ]
    },
    {
     "name": "stdout",
     "output_type": "stream",
     "text": [
      "Iteration: 24\n"
     ]
    },
    {
     "name": "stderr",
     "output_type": "stream",
     "text": [
      " 24%|██▍       | 24/100 [04:31<13:15, 10.47s/it]"
     ]
    },
    {
     "name": "stdout",
     "output_type": "stream",
     "text": [
      "Iteration: 25\n"
     ]
    },
    {
     "name": "stderr",
     "output_type": "stream",
     "text": [
      " 25%|██▌       | 25/100 [04:41<13:01, 10.42s/it]"
     ]
    },
    {
     "name": "stdout",
     "output_type": "stream",
     "text": [
      "Iteration: 26\n"
     ]
    },
    {
     "name": "stderr",
     "output_type": "stream",
     "text": [
      " 26%|██▌       | 26/100 [04:52<12:49, 10.40s/it]"
     ]
    },
    {
     "name": "stdout",
     "output_type": "stream",
     "text": [
      "Iteration: 27\n"
     ]
    },
    {
     "name": "stderr",
     "output_type": "stream",
     "text": [
      " 27%|██▋       | 27/100 [05:02<12:40, 10.42s/it]"
     ]
    },
    {
     "name": "stdout",
     "output_type": "stream",
     "text": [
      "Iteration: 28\n"
     ]
    },
    {
     "name": "stderr",
     "output_type": "stream",
     "text": [
      " 28%|██▊       | 28/100 [05:13<12:29, 10.41s/it]"
     ]
    },
    {
     "name": "stdout",
     "output_type": "stream",
     "text": [
      "Iteration: 29\n"
     ]
    },
    {
     "name": "stderr",
     "output_type": "stream",
     "text": [
      " 29%|██▉       | 29/100 [05:23<12:23, 10.47s/it]"
     ]
    },
    {
     "name": "stdout",
     "output_type": "stream",
     "text": [
      "Iteration: 30\n"
     ]
    },
    {
     "name": "stderr",
     "output_type": "stream",
     "text": [
      " 30%|███       | 30/100 [05:33<12:07, 10.39s/it]"
     ]
    },
    {
     "name": "stdout",
     "output_type": "stream",
     "text": [
      "ITERATION: 30\n",
      "                                         feature_list  group_threshold  \\\n",
      "0   [A44, B143, DQB155, DQB174, DRB112, DRB114, DR...                0   \n",
      "1   [B143, C143, DQB155, DQB174, DRB112, DRB114, D...                0   \n",
      "2   [DQB130, DQB155, DQB174, DRB112, DRB114, DRB11...                0   \n",
      "3   [A158, A17, A63, B143, B147, C16, DQB13, DQB13...                2   \n",
      "4   [A149, A44, A67, B143, DQB155, DQB174, DRB112,...                0   \n",
      "..                                                ...              ...   \n",
      "95  [A156, A76, B143, B158, DQB137, DQB174, DRB112...                5   \n",
      "96                [A44, B143, DRB112, DRB114, DRB116]                2   \n",
      "97                                     [B178, DQB113]                0   \n",
      "98        [B82, C143, DQB155, DQB175, DRB114, DRB126]                5   \n",
      "99                [A163, B11, DQB155, DRB114, DRB116]                5   \n",
      "\n",
      "     fitness  pre_fitness  log_rank_score  log_rank_p_value  bin_size  \\\n",
      "0   1.000000   481.936250      481.936250     8.098819e-107         8   \n",
      "1   0.967216   478.035953      478.035953     5.716335e-106         9   \n",
      "2   0.875173   460.604048      460.604048     3.551733e-102         7   \n",
      "3   0.818731   453.604028      453.604028     1.185185e-100        16   \n",
      "4   0.791890   452.268513      452.268513     2.314339e-100         9   \n",
      "..       ...          ...             ...               ...       ...   \n",
      "95  0.008509    34.243961       68.487922      1.276571e-16         9   \n",
      "96  0.007699    25.420845       50.841691      1.001243e-12         5   \n",
      "97  0.007447    24.052493       24.052493      9.374479e-07         2   \n",
      "98  0.007202     7.764514       15.529028      8.124798e-05         6   \n",
      "99  0.006966     0.269761        0.539522      4.626311e-01         5   \n",
      "\n",
      "    group_strata_prop  count_bt  count_at  ...  deletion_prop  cluster  \\\n",
      "0            0.237894     39627    126947  ...       0.000000        1   \n",
      "1            0.239935     39967    126607  ...       0.000000        2   \n",
      "2            0.243928     40632    125942  ...     217.553391        2   \n",
      "3            0.306284     51019    115555  ...       0.000000        3   \n",
      "4            0.224747     37437    129137  ...       0.000000        4   \n",
      "..                ...       ...       ...  ...            ...      ...   \n",
      "95           0.130128    144898     21676  ...     149.230736        0   \n",
      "96           0.073997    154248     12326  ...     231.037817        1   \n",
      "97           0.388626    101839     64735  ...     148.877924        0   \n",
      "98           0.024986    162412      4162  ...     160.268323        0   \n",
      "99           0.003542    165984       590  ...     150.423428        0   \n",
      "\n",
      "    residuals_score residuals_p_value    HR HR_CI HR_p_value adj_HR adj_HR_CI  \\\n",
      "0              None              None  None  None       None   None      None   \n",
      "1              None              None  None  None       None   None      None   \n",
      "2              None              None  None  None       None   None      None   \n",
      "3              None              None  None  None       None   None      None   \n",
      "4              None              None  None  None       None   None      None   \n",
      "..              ...               ...   ...   ...        ...    ...       ...   \n",
      "95             None              None  None  None       None   None      None   \n",
      "96             None              None  None  None       None   None      None   \n",
      "97             None              None  None  None       None   None      None   \n",
      "98             None              None  None  None       None   None      None   \n",
      "99             None              None  None  None       None   None      None   \n",
      "\n",
      "   adj_HR_p_value  \n",
      "0            None  \n",
      "1            None  \n",
      "2            None  \n",
      "3            None  \n",
      "4            None  \n",
      "..            ...  \n",
      "95           None  \n",
      "96           None  \n",
      "97           None  \n",
      "98           None  \n",
      "99           None  \n",
      "\n",
      "[100 rows x 21 columns]\n",
      "Iteration: 31\n"
     ]
    },
    {
     "name": "stderr",
     "output_type": "stream",
     "text": [
      " 31%|███       | 31/100 [05:44<11:53, 10.33s/it]"
     ]
    },
    {
     "name": "stdout",
     "output_type": "stream",
     "text": [
      "Iteration: 32\n"
     ]
    },
    {
     "name": "stderr",
     "output_type": "stream",
     "text": [
      " 32%|███▏      | 32/100 [05:54<11:41, 10.31s/it]"
     ]
    },
    {
     "name": "stdout",
     "output_type": "stream",
     "text": [
      "Iteration: 33\n"
     ]
    },
    {
     "name": "stderr",
     "output_type": "stream",
     "text": [
      " 33%|███▎      | 33/100 [06:04<11:30, 10.31s/it]"
     ]
    },
    {
     "name": "stdout",
     "output_type": "stream",
     "text": [
      "Iteration: 34\n"
     ]
    },
    {
     "name": "stderr",
     "output_type": "stream",
     "text": [
      " 34%|███▍      | 34/100 [06:15<11:22, 10.35s/it]"
     ]
    },
    {
     "name": "stdout",
     "output_type": "stream",
     "text": [
      "Iteration: 35\n"
     ]
    },
    {
     "name": "stderr",
     "output_type": "stream",
     "text": [
      " 35%|███▌      | 35/100 [06:25<11:14, 10.37s/it]"
     ]
    },
    {
     "name": "stdout",
     "output_type": "stream",
     "text": [
      "Iteration: 36\n"
     ]
    },
    {
     "name": "stderr",
     "output_type": "stream",
     "text": [
      " 36%|███▌      | 36/100 [06:35<11:01, 10.34s/it]"
     ]
    },
    {
     "name": "stdout",
     "output_type": "stream",
     "text": [
      "Iteration: 37\n"
     ]
    },
    {
     "name": "stderr",
     "output_type": "stream",
     "text": [
      " 37%|███▋      | 37/100 [06:46<10:49, 10.31s/it]"
     ]
    },
    {
     "name": "stdout",
     "output_type": "stream",
     "text": [
      "Iteration: 38\n"
     ]
    },
    {
     "name": "stderr",
     "output_type": "stream",
     "text": [
      " 38%|███▊      | 38/100 [06:56<10:39, 10.31s/it]"
     ]
    },
    {
     "name": "stdout",
     "output_type": "stream",
     "text": [
      "Iteration: 39\n"
     ]
    },
    {
     "name": "stderr",
     "output_type": "stream",
     "text": [
      " 39%|███▉      | 39/100 [07:06<10:31, 10.35s/it]"
     ]
    },
    {
     "name": "stdout",
     "output_type": "stream",
     "text": [
      "Iteration: 40\n"
     ]
    },
    {
     "name": "stderr",
     "output_type": "stream",
     "text": [
      " 40%|████      | 40/100 [07:17<10:18, 10.32s/it]"
     ]
    },
    {
     "name": "stdout",
     "output_type": "stream",
     "text": [
      "ITERATION: 40\n",
      "                                         feature_list  group_threshold  \\\n",
      "0   [A44, B143, C143, DQB155, DQB174, DRB112, DRB1...                0   \n",
      "1   [A186, B143, DQB155, DQB174, DRB112, DRB116, D...                0   \n",
      "2   [A44, B143, DQB155, DQB174, DRB112, DRB114, DR...                0   \n",
      "3   [A44, B143, C143, DQB114, DQB155, DQB174, DQB1...                0   \n",
      "4   [A186, A44, B143, C143, DQB155, DQB174, DRB112...                0   \n",
      "..                                                ...              ...   \n",
      "95  [A44, B143, B180, C143, DQB114, DQB155, DQB174...                5   \n",
      "96  [A44, A74, B143, DQB114, DQB155, DQB174, DRB11...                4   \n",
      "97  [A44, B143, DQB145, DQB155, DQB174, DRB112, DR...                5   \n",
      "98                                  [A12, B46, DQB13]                0   \n",
      "99        [A44, B143, DQB155, DRB112, DRB114, DRB116]                5   \n",
      "\n",
      "     fitness  pre_fitness  log_rank_score  log_rank_p_value  bin_size  \\\n",
      "0   1.000000   486.053358      486.053358     1.029351e-107        10   \n",
      "1   0.967216   486.003929      486.003929     1.055161e-107         8   \n",
      "2   0.935507   483.759186      483.759186     3.249076e-107         8   \n",
      "3   0.875173   481.519857      481.519857     9.977626e-107        11   \n",
      "4   0.846482   479.420153      479.420153     2.857047e-106        10   \n",
      "..       ...          ...             ...               ...       ...   \n",
      "95  0.009095    38.333487       76.666974      2.023593e-18        10   \n",
      "96  0.008797    35.218207       70.436414      4.753435e-17         9   \n",
      "97  0.007960    23.879001       47.758002      4.822121e-12         8   \n",
      "98  0.007447     9.003539        9.003539      2.694572e-03         3   \n",
      "99  0.006966     0.548521        1.097042      2.949162e-01         6   \n",
      "\n",
      "    group_strata_prop  count_bt  count_at  ...  deletion_prop  cluster  \\\n",
      "0            0.229135     38168    128406  ...       0.000000        0   \n",
      "1            0.257813     42945    123629  ...     240.482425        0   \n",
      "2            0.238459     39721    126853  ...       0.000000        3   \n",
      "3            0.225954     37638    128936  ...     218.511638        3   \n",
      "4            0.229364     38206    128368  ...     232.677191        0   \n",
      "..                ...       ...       ...  ...            ...      ...   \n",
      "95           0.094120    150896     15678  ...     182.094584        2   \n",
      "96           0.147286    142040     24534  ...     169.251301        2   \n",
      "97           0.058767    156785      9789  ...     175.800580        2   \n",
      "98           0.209727    131639     34935  ...     163.263272        1   \n",
      "99           0.005721    165621       953  ...     181.939921        2   \n",
      "\n",
      "    residuals_score residuals_p_value    HR HR_CI HR_p_value adj_HR adj_HR_CI  \\\n",
      "0              None              None  None  None       None   None      None   \n",
      "1              None              None  None  None       None   None      None   \n",
      "2              None              None  None  None       None   None      None   \n",
      "3              None              None  None  None       None   None      None   \n",
      "4              None              None  None  None       None   None      None   \n",
      "..              ...               ...   ...   ...        ...    ...       ...   \n",
      "95             None              None  None  None       None   None      None   \n",
      "96             None              None  None  None       None   None      None   \n",
      "97             None              None  None  None       None   None      None   \n",
      "98             None              None  None  None       None   None      None   \n",
      "99             None              None  None  None       None   None      None   \n",
      "\n",
      "   adj_HR_p_value  \n",
      "0            None  \n",
      "1            None  \n",
      "2            None  \n",
      "3            None  \n",
      "4            None  \n",
      "..            ...  \n",
      "95           None  \n",
      "96           None  \n",
      "97           None  \n",
      "98           None  \n",
      "99           None  \n",
      "\n",
      "[100 rows x 21 columns]\n",
      "Iteration: 41\n"
     ]
    },
    {
     "name": "stderr",
     "output_type": "stream",
     "text": [
      " 41%|████      | 41/100 [07:27<10:06, 10.29s/it]"
     ]
    },
    {
     "name": "stdout",
     "output_type": "stream",
     "text": [
      "Iteration: 42\n"
     ]
    },
    {
     "name": "stderr",
     "output_type": "stream",
     "text": [
      " 42%|████▏     | 42/100 [07:37<09:55, 10.26s/it]"
     ]
    },
    {
     "name": "stdout",
     "output_type": "stream",
     "text": [
      "Iteration: 43\n"
     ]
    },
    {
     "name": "stderr",
     "output_type": "stream",
     "text": [
      " 43%|████▎     | 43/100 [07:47<09:44, 10.25s/it]"
     ]
    },
    {
     "name": "stdout",
     "output_type": "stream",
     "text": [
      "Iteration: 44\n"
     ]
    },
    {
     "name": "stderr",
     "output_type": "stream",
     "text": [
      " 44%|████▍     | 44/100 [07:58<09:37, 10.32s/it]"
     ]
    },
    {
     "name": "stdout",
     "output_type": "stream",
     "text": [
      "Iteration: 45\n"
     ]
    },
    {
     "name": "stderr",
     "output_type": "stream",
     "text": [
      " 45%|████▌     | 45/100 [08:08<09:31, 10.39s/it]"
     ]
    },
    {
     "name": "stdout",
     "output_type": "stream",
     "text": [
      "Iteration: 46\n"
     ]
    },
    {
     "name": "stderr",
     "output_type": "stream",
     "text": [
      " 46%|████▌     | 46/100 [08:18<09:18, 10.34s/it]"
     ]
    },
    {
     "name": "stdout",
     "output_type": "stream",
     "text": [
      "Iteration: 47\n"
     ]
    },
    {
     "name": "stderr",
     "output_type": "stream",
     "text": [
      " 47%|████▋     | 47/100 [08:29<09:08, 10.34s/it]"
     ]
    },
    {
     "name": "stdout",
     "output_type": "stream",
     "text": [
      "Iteration: 48\n"
     ]
    },
    {
     "name": "stderr",
     "output_type": "stream",
     "text": [
      " 48%|████▊     | 48/100 [08:39<08:57, 10.33s/it]"
     ]
    },
    {
     "name": "stdout",
     "output_type": "stream",
     "text": [
      "Iteration: 49\n"
     ]
    },
    {
     "name": "stderr",
     "output_type": "stream",
     "text": [
      " 49%|████▉     | 49/100 [08:50<08:48, 10.37s/it]"
     ]
    },
    {
     "name": "stdout",
     "output_type": "stream",
     "text": [
      "Iteration: 50\n"
     ]
    },
    {
     "name": "stderr",
     "output_type": "stream",
     "text": [
      " 50%|█████     | 50/100 [09:00<08:37, 10.35s/it]"
     ]
    },
    {
     "name": "stdout",
     "output_type": "stream",
     "text": [
      "ITERATION: 50\n",
      "                                         feature_list  group_threshold  \\\n",
      "0   [A44, B143, DQB155, DQB174, DRB112, DRB116, DR...                0   \n",
      "1   [A44, B143, C143, DQB114, DQB155, DQB177, DRB1...                0   \n",
      "2   [DQB155, DQB174, DQB177, DRB112, DRB116, DRB14...                0   \n",
      "3       [A44, DQB155, DQB174, DRB112, DRB116, DRB178]                0   \n",
      "4   [A171, A44, B143, DQB155, DQB167, DQB174, DRB1...                0   \n",
      "..                                                ...              ...   \n",
      "95                [B143, B74, DQB174, DRB112, DRB114]                4   \n",
      "96                [A17, B143, DQB174, DRB116, DRB173]                3   \n",
      "97  [A44, B143, C143, DQB114, DQB174, DQB177, DRB1...                5   \n",
      "98          [A156, A44, B143, DQB155, DQB174, DRB116]                5   \n",
      "99          [A109, A44, B143, DQB155, DQB174, DRB112]                5   \n",
      "\n",
      "     fitness  pre_fitness  log_rank_score  log_rank_p_value  bin_size  \\\n",
      "0   1.000000   495.748972      495.748972     7.996795e-110         8   \n",
      "1   0.967216   479.335457      479.335457     2.980897e-106        10   \n",
      "2   0.935507   472.529060      472.529060     9.024641e-105         8   \n",
      "3   0.904837   464.739870      464.739870     4.471210e-103         6   \n",
      "4   0.818731   446.967070      446.967070      3.297388e-99         8   \n",
      "..       ...          ...             ...               ...       ...   \n",
      "95  0.008509    15.698518       31.397035      2.103018e-08         5   \n",
      "96  0.008230    14.712684       29.425368      5.811195e-08         5   \n",
      "97  0.007960     9.946951       19.893902      8.186102e-06         8   \n",
      "98  0.007699     5.836525       11.673049      6.341199e-04         6   \n",
      "99  0.007447     5.055478       10.110956      1.473905e-03         6   \n",
      "\n",
      "    group_strata_prop  count_bt  count_at  ...  deletion_prop  cluster  \\\n",
      "0            0.234941     39135    127439  ...       0.000000        1   \n",
      "1            0.231759     38605    127969  ...       0.000000        2   \n",
      "2            0.269952     44967    121607  ...     213.195708        1   \n",
      "3            0.256721     42763    123811  ...     268.550526        1   \n",
      "4            0.240296     40027    126547  ...     206.950663        1   \n",
      "..                ...       ...       ...  ...            ...      ...   \n",
      "95           0.023479    162663      3911  ...     162.088208        0   \n",
      "96           0.032934    161088      5486  ...     158.310679        0   \n",
      "97           0.046010    158910      7664  ...     239.702730        2   \n",
      "98           0.033403    161010      5564  ...     162.147749        3   \n",
      "99           0.015459    163999      2575  ...     161.557493        3   \n",
      "\n",
      "    residuals_score residuals_p_value    HR HR_CI HR_p_value adj_HR adj_HR_CI  \\\n",
      "0              None              None  None  None       None   None      None   \n",
      "1              None              None  None  None       None   None      None   \n",
      "2              None              None  None  None       None   None      None   \n",
      "3              None              None  None  None       None   None      None   \n",
      "4              None              None  None  None       None   None      None   \n",
      "..              ...               ...   ...   ...        ...    ...       ...   \n",
      "95             None              None  None  None       None   None      None   \n",
      "96             None              None  None  None       None   None      None   \n",
      "97             None              None  None  None       None   None      None   \n",
      "98             None              None  None  None       None   None      None   \n",
      "99             None              None  None  None       None   None      None   \n",
      "\n",
      "   adj_HR_p_value  \n",
      "0            None  \n",
      "1            None  \n",
      "2            None  \n",
      "3            None  \n",
      "4            None  \n",
      "..            ...  \n",
      "95           None  \n",
      "96           None  \n",
      "97           None  \n",
      "98           None  \n",
      "99           None  \n",
      "\n",
      "[100 rows x 21 columns]\n",
      "Iteration: 51\n"
     ]
    },
    {
     "name": "stderr",
     "output_type": "stream",
     "text": [
      " 51%|█████     | 51/100 [09:10<08:25, 10.31s/it]"
     ]
    },
    {
     "name": "stdout",
     "output_type": "stream",
     "text": [
      "Iteration: 52\n"
     ]
    },
    {
     "name": "stderr",
     "output_type": "stream",
     "text": [
      " 52%|█████▏    | 52/100 [09:21<08:18, 10.39s/it]"
     ]
    },
    {
     "name": "stdout",
     "output_type": "stream",
     "text": [
      "Iteration: 53\n"
     ]
    },
    {
     "name": "stderr",
     "output_type": "stream",
     "text": [
      " 53%|█████▎    | 53/100 [09:31<08:10, 10.43s/it]"
     ]
    },
    {
     "name": "stdout",
     "output_type": "stream",
     "text": [
      "Iteration: 54\n"
     ]
    },
    {
     "name": "stderr",
     "output_type": "stream",
     "text": [
      " 54%|█████▍    | 54/100 [09:41<07:57, 10.38s/it]"
     ]
    },
    {
     "name": "stdout",
     "output_type": "stream",
     "text": [
      "Iteration: 55\n"
     ]
    },
    {
     "name": "stderr",
     "output_type": "stream",
     "text": [
      " 55%|█████▌    | 55/100 [09:52<07:48, 10.42s/it]"
     ]
    },
    {
     "name": "stdout",
     "output_type": "stream",
     "text": [
      "Iteration: 56\n"
     ]
    },
    {
     "name": "stderr",
     "output_type": "stream",
     "text": [
      " 56%|█████▌    | 56/100 [10:02<07:38, 10.42s/it]"
     ]
    },
    {
     "name": "stdout",
     "output_type": "stream",
     "text": [
      "Iteration: 57\n"
     ]
    },
    {
     "name": "stderr",
     "output_type": "stream",
     "text": [
      " 57%|█████▋    | 57/100 [10:13<07:27, 10.42s/it]"
     ]
    },
    {
     "name": "stdout",
     "output_type": "stream",
     "text": [
      "Iteration: 58\n"
     ]
    },
    {
     "name": "stderr",
     "output_type": "stream",
     "text": [
      " 58%|█████▊    | 58/100 [10:23<07:15, 10.38s/it]"
     ]
    },
    {
     "name": "stdout",
     "output_type": "stream",
     "text": [
      "Iteration: 59\n"
     ]
    },
    {
     "name": "stderr",
     "output_type": "stream",
     "text": [
      " 59%|█████▉    | 59/100 [10:33<07:04, 10.35s/it]"
     ]
    },
    {
     "name": "stdout",
     "output_type": "stream",
     "text": [
      "Iteration: 60\n"
     ]
    },
    {
     "name": "stderr",
     "output_type": "stream",
     "text": [
      " 60%|██████    | 60/100 [10:44<06:52, 10.31s/it]"
     ]
    },
    {
     "name": "stdout",
     "output_type": "stream",
     "text": [
      "ITERATION: 60\n",
      "                                         feature_list  group_threshold  \\\n",
      "0   [A44, B143, DQB155, DQB174, DRB112, DRB116, DR...                0   \n",
      "1   [A44, B143, C193, DQB155, DQB174, DRB112, DRB1...                0   \n",
      "2   [A44, B143, DQB155, DQB174, DQB177, DRB112, DR...                0   \n",
      "3   [A44, B143, DQB155, DQB174, DQB177, DRB112, DR...                0   \n",
      "4   [A44, B143, DQB13, DQB155, DQB174, DRB112, DRB...                0   \n",
      "..                                                ...              ...   \n",
      "95  [C11, DQB114, DQB155, DQB174, DQB177, DRB112, ...                5   \n",
      "96  [A44, B143, C152, DQB155, DQB174, DQB177, DRB1...                5   \n",
      "97  [A44, DQB155, DQB174, DRB112, DRB116, DRB14, D...                5   \n",
      "98  [A44, C113, DQB155, DQB174, DQB177, DRB112, DR...                5   \n",
      "99  [A44, DQB155, DQB170, DQB174, DRB112, DRB116, ...                5   \n",
      "\n",
      "     fitness  pre_fitness  log_rank_score  log_rank_p_value  bin_size  \\\n",
      "0   1.000000   499.517658      499.517658     1.210370e-110         9   \n",
      "1   0.875173   489.553657      489.553657     1.782097e-108        11   \n",
      "2   0.846482   489.197738      489.197738     2.129980e-108         9   \n",
      "3   0.818731   489.103925      489.103925     2.232484e-108        11   \n",
      "4   0.791890   488.847223      488.847223     2.538889e-108         9   \n",
      "..       ...          ...             ...               ...       ...   \n",
      "95  0.008509    75.260159      150.520317      1.334234e-34        11   \n",
      "96  0.008230    67.002721      134.005441      5.448595e-31        10   \n",
      "97  0.007699    34.649911       69.299821      8.457725e-17         7   \n",
      "98  0.007447    28.781989       57.563977      3.271628e-14         8   \n",
      "99  0.007202    26.148379       52.296757      4.771618e-13         7   \n",
      "\n",
      "    group_strata_prop  count_bt  count_at  ...  deletion_prop  cluster  \\\n",
      "0            0.232353     38704    127870  ...       0.000000        4   \n",
      "1            0.220695     36762    129812  ...       0.000000        1   \n",
      "2            0.231074     38491    128083  ...     226.484066        4   \n",
      "3            0.227797     37945    128629  ...     230.884481        4   \n",
      "4            0.232173     38674    127900  ...     190.322700        1   \n",
      "..                ...       ...       ...  ...            ...      ...   \n",
      "95           0.198849    133451     33123  ...     183.526296        0   \n",
      "96           0.167547    138665     27909  ...     167.352960        2   \n",
      "97           0.066385    155516     11058  ...     190.863326        1   \n",
      "98           0.094757    150790     15784  ...     169.373102        2   \n",
      "99           0.081261    153038     13536  ...     149.771232        3   \n",
      "\n",
      "    residuals_score residuals_p_value    HR HR_CI HR_p_value adj_HR adj_HR_CI  \\\n",
      "0              None              None  None  None       None   None      None   \n",
      "1              None              None  None  None       None   None      None   \n",
      "2              None              None  None  None       None   None      None   \n",
      "3              None              None  None  None       None   None      None   \n",
      "4              None              None  None  None       None   None      None   \n",
      "..              ...               ...   ...   ...        ...    ...       ...   \n",
      "95             None              None  None  None       None   None      None   \n",
      "96             None              None  None  None       None   None      None   \n",
      "97             None              None  None  None       None   None      None   \n",
      "98             None              None  None  None       None   None      None   \n",
      "99             None              None  None  None       None   None      None   \n",
      "\n",
      "   adj_HR_p_value  \n",
      "0            None  \n",
      "1            None  \n",
      "2            None  \n",
      "3            None  \n",
      "4            None  \n",
      "..            ...  \n",
      "95           None  \n",
      "96           None  \n",
      "97           None  \n",
      "98           None  \n",
      "99           None  \n",
      "\n",
      "[100 rows x 21 columns]\n",
      "Iteration: 61\n"
     ]
    },
    {
     "name": "stderr",
     "output_type": "stream",
     "text": [
      " 61%|██████    | 61/100 [10:54<06:41, 10.29s/it]"
     ]
    },
    {
     "name": "stdout",
     "output_type": "stream",
     "text": [
      "Iteration: 62\n"
     ]
    },
    {
     "name": "stderr",
     "output_type": "stream",
     "text": [
      " 62%|██████▏   | 62/100 [11:04<06:33, 10.36s/it]"
     ]
    },
    {
     "name": "stdout",
     "output_type": "stream",
     "text": [
      "Iteration: 63\n"
     ]
    },
    {
     "name": "stderr",
     "output_type": "stream",
     "text": [
      " 63%|██████▎   | 63/100 [11:15<06:23, 10.36s/it]"
     ]
    },
    {
     "name": "stdout",
     "output_type": "stream",
     "text": [
      "Iteration: 64\n"
     ]
    },
    {
     "name": "stderr",
     "output_type": "stream",
     "text": [
      " 64%|██████▍   | 64/100 [11:26<06:18, 10.51s/it]"
     ]
    },
    {
     "name": "stdout",
     "output_type": "stream",
     "text": [
      "Iteration: 65\n"
     ]
    },
    {
     "name": "stderr",
     "output_type": "stream",
     "text": [
      " 65%|██████▌   | 65/100 [11:36<06:10, 10.58s/it]"
     ]
    },
    {
     "name": "stdout",
     "output_type": "stream",
     "text": [
      "Iteration: 66\n"
     ]
    },
    {
     "name": "stderr",
     "output_type": "stream",
     "text": [
      " 66%|██████▌   | 66/100 [11:47<05:57, 10.52s/it]"
     ]
    },
    {
     "name": "stdout",
     "output_type": "stream",
     "text": [
      "Iteration: 67\n"
     ]
    },
    {
     "name": "stderr",
     "output_type": "stream",
     "text": [
      " 67%|██████▋   | 67/100 [11:57<05:48, 10.56s/it]"
     ]
    },
    {
     "name": "stdout",
     "output_type": "stream",
     "text": [
      "Iteration: 68\n"
     ]
    },
    {
     "name": "stderr",
     "output_type": "stream",
     "text": [
      " 68%|██████▊   | 68/100 [12:08<05:38, 10.58s/it]"
     ]
    },
    {
     "name": "stdout",
     "output_type": "stream",
     "text": [
      "Iteration: 69\n"
     ]
    },
    {
     "name": "stderr",
     "output_type": "stream",
     "text": [
      " 69%|██████▉   | 69/100 [12:18<05:26, 10.55s/it]"
     ]
    },
    {
     "name": "stdout",
     "output_type": "stream",
     "text": [
      "Iteration: 70\n"
     ]
    },
    {
     "name": "stderr",
     "output_type": "stream",
     "text": [
      " 70%|███████   | 70/100 [12:29<05:18, 10.62s/it]"
     ]
    },
    {
     "name": "stdout",
     "output_type": "stream",
     "text": [
      "ITERATION: 70\n",
      "                                         feature_list  group_threshold  \\\n",
      "0   [A44, B143, DQB155, DQB174, DRB112, DRB116, DR...                0   \n",
      "1   [B143, DQB155, DQB174, DRB112, DRB173, DRB177,...                0   \n",
      "2       [B143, DQB155, DQB174, DRB112, DRB14, DRB173]                0   \n",
      "3   [A44, B143, DQB155, DQB174, DRB112, DRB116, DR...                0   \n",
      "4            [DQB155, DQB174, DRB112, DRB173, DRB178]                0   \n",
      "..                                                ...              ...   \n",
      "95  [A116, A44, B143, C143, C21, DQB155, DQB189, D...                5   \n",
      "96      [A56, DQB174, DRB112, DRB114, DRB133, DRB173]                4   \n",
      "97                                   [DQB147, DQB184]                2   \n",
      "98  [B30, DQB13, DQB155, DQB174, DRB112, DRB116, D...                5   \n",
      "99  [B113, C143, C193, DQB174, DRB114, DRB125, DRB...                4   \n",
      "\n",
      "     fitness  pre_fitness  log_rank_score  log_rank_p_value  bin_size  \\\n",
      "0   1.000000   499.517658      499.517658     1.210370e-110         9   \n",
      "1   0.967640   491.554599      491.554599     6.539585e-109         7   \n",
      "2   0.936328   477.293056      477.293056     8.294153e-106         6   \n",
      "3   0.906029   475.938514      475.938514     1.635015e-105         8   \n",
      "4   0.876710   472.883448      472.883448     7.556373e-105         5   \n",
      "..       ...          ...             ...               ...       ...   \n",
      "95  0.008483    38.828094       77.656187      1.226316e-18         9   \n",
      "96  0.007943    31.432005       62.864009      2.214827e-15         6   \n",
      "97  0.007685    30.755972       61.511944      4.400656e-15         2   \n",
      "98  0.007196    20.834624       41.669249      1.080959e-10         8   \n",
      "99  0.006963    15.862240       31.724481      1.776685e-08         7   \n",
      "\n",
      "    group_strata_prop  count_bt  count_at  ...  deletion_prop  cluster  \\\n",
      "0            0.232353     38704    127870  ...       0.000000        2   \n",
      "1            0.272570     45403    121171  ...     266.360567        2   \n",
      "2            0.276376     46037    120537  ...       0.000000        1   \n",
      "3            0.239635     39917    126657  ...     277.488990        2   \n",
      "4            0.297712     49591    116983  ...     243.133214        2   \n",
      "..                ...       ...       ...  ...            ...      ...   \n",
      "95           0.065022    155743     10831  ...     151.160723        0   \n",
      "96           0.050788    158114      8460  ...     179.051529        4   \n",
      "97           0.028294    161861      4713  ...     143.610570        4   \n",
      "98           0.037773    160282      6292  ...     199.967028        3   \n",
      "99           0.069429    155009     11565  ...     168.184724        0   \n",
      "\n",
      "    residuals_score residuals_p_value    HR HR_CI HR_p_value adj_HR adj_HR_CI  \\\n",
      "0              None              None  None  None       None   None      None   \n",
      "1              None              None  None  None       None   None      None   \n",
      "2              None              None  None  None       None   None      None   \n",
      "3              None              None  None  None       None   None      None   \n",
      "4              None              None  None  None       None   None      None   \n",
      "..              ...               ...   ...   ...        ...    ...       ...   \n",
      "95             None              None  None  None       None   None      None   \n",
      "96             None              None  None  None       None   None      None   \n",
      "97             None              None  None  None       None   None      None   \n",
      "98             None              None  None  None       None   None      None   \n",
      "99             None              None  None  None       None   None      None   \n",
      "\n",
      "   adj_HR_p_value  \n",
      "0            None  \n",
      "1            None  \n",
      "2            None  \n",
      "3            None  \n",
      "4            None  \n",
      "..            ...  \n",
      "95           None  \n",
      "96           None  \n",
      "97           None  \n",
      "98           None  \n",
      "99           None  \n",
      "\n",
      "[100 rows x 21 columns]\n",
      "Iteration: 71\n"
     ]
    },
    {
     "name": "stderr",
     "output_type": "stream",
     "text": [
      " 71%|███████   | 71/100 [12:40<05:10, 10.70s/it]"
     ]
    },
    {
     "name": "stdout",
     "output_type": "stream",
     "text": [
      "Iteration: 72\n"
     ]
    },
    {
     "name": "stderr",
     "output_type": "stream",
     "text": [
      " 72%|███████▏  | 72/100 [12:51<04:59, 10.70s/it]"
     ]
    },
    {
     "name": "stdout",
     "output_type": "stream",
     "text": [
      "Iteration: 73\n"
     ]
    },
    {
     "name": "stderr",
     "output_type": "stream",
     "text": [
      " 73%|███████▎  | 73/100 [13:01<04:45, 10.59s/it]"
     ]
    },
    {
     "name": "stdout",
     "output_type": "stream",
     "text": [
      "Iteration: 74\n"
     ]
    },
    {
     "name": "stderr",
     "output_type": "stream",
     "text": [
      " 74%|███████▍  | 74/100 [13:12<04:34, 10.56s/it]"
     ]
    },
    {
     "name": "stdout",
     "output_type": "stream",
     "text": [
      "Iteration: 75\n"
     ]
    },
    {
     "name": "stderr",
     "output_type": "stream",
     "text": [
      " 75%|███████▌  | 75/100 [13:22<04:24, 10.57s/it]"
     ]
    },
    {
     "name": "stdout",
     "output_type": "stream",
     "text": [
      "Iteration: 76\n"
     ]
    },
    {
     "name": "stderr",
     "output_type": "stream",
     "text": [
      " 76%|███████▌  | 76/100 [13:33<04:12, 10.51s/it]"
     ]
    },
    {
     "name": "stdout",
     "output_type": "stream",
     "text": [
      "Iteration: 77\n"
     ]
    },
    {
     "name": "stderr",
     "output_type": "stream",
     "text": [
      " 77%|███████▋  | 77/100 [13:43<04:00, 10.48s/it]"
     ]
    },
    {
     "name": "stdout",
     "output_type": "stream",
     "text": [
      "Iteration: 78\n"
     ]
    },
    {
     "name": "stderr",
     "output_type": "stream",
     "text": [
      " 78%|███████▊  | 78/100 [13:54<03:51, 10.50s/it]"
     ]
    },
    {
     "name": "stdout",
     "output_type": "stream",
     "text": [
      "Iteration: 79\n"
     ]
    },
    {
     "name": "stderr",
     "output_type": "stream",
     "text": [
      " 79%|███████▉  | 79/100 [14:04<03:39, 10.45s/it]"
     ]
    },
    {
     "name": "stdout",
     "output_type": "stream",
     "text": [
      "Iteration: 80\n"
     ]
    },
    {
     "name": "stderr",
     "output_type": "stream",
     "text": [
      " 80%|████████  | 80/100 [14:14<03:28, 10.40s/it]"
     ]
    },
    {
     "name": "stdout",
     "output_type": "stream",
     "text": [
      "ITERATION: 80\n",
      "                                         feature_list  group_threshold  \\\n",
      "0   [B143, DQB155, DQB174, DRB112, DRB116, DRB173,...                0   \n",
      "1   [B143, DQB155, DQB174, DRB112, DRB116, DRB173,...                0   \n",
      "2   [B143, DQB13, DQB153, DQB155, DQB174, DRB112, ...                0   \n",
      "3   [A12, B143, C193, DQB155, DQB174, DRB112, DRB1...                0   \n",
      "4   [DQB130, DQB155, DQB174, DRB112, DRB116, DRB17...                0   \n",
      "..                                                ...              ...   \n",
      "95        [A90, B143, DQB147, DQB155, DRB112, DRB177]                4   \n",
      "96                                      [C97, DQB156]                0   \n",
      "97                   [DQB155, DQB174, DRB116, DRB178]                3   \n",
      "98  [B143, B62, DQB155, DQB174, DRB112, DRB116, DR...                5   \n",
      "99           [A44, B12, DQB13, DQB155, DQB174, DRB14]                5   \n",
      "\n",
      "     fitness  pre_fitness  log_rank_score  log_rank_p_value  bin_size  \\\n",
      "0   1.000000   499.587190      499.587190     1.168933e-110         8   \n",
      "1   0.904837   472.587493      472.587493     8.764245e-105         7   \n",
      "2   0.875173   465.997052      465.997052     2.381482e-103        10   \n",
      "3   0.846482   465.727930      465.727930     2.725281e-103         9   \n",
      "4   0.818731   464.082230      464.082230     6.216358e-103         7   \n",
      "..       ...          ...             ...               ...       ...   \n",
      "95  0.008509    36.834552       73.669103      9.237352e-18         6   \n",
      "96  0.007960    24.586765       24.586765      7.103797e-07         2   \n",
      "97  0.007699    21.623360       43.246719      4.825462e-11         4   \n",
      "98  0.007202    14.363700       28.727400      8.331655e-08         7   \n",
      "99  0.006966     7.743585       15.487169      8.306720e-05         6   \n",
      "\n",
      "    group_strata_prop  count_bt  count_at  ...  deletion_prop  cluster  \\\n",
      "0            0.259662     43253    123321  ...       0.000000        4   \n",
      "1            0.268493     44724    121850  ...     274.299185        4   \n",
      "2            0.246473     41056    125518  ...     225.326183        4   \n",
      "3            0.255076     42489    124085  ...       0.000000        0   \n",
      "4            0.257567     42904    123670  ...       0.000000        3   \n",
      "..                ...       ...       ...  ...            ...      ...   \n",
      "95           0.055465    157335      9239  ...     154.558701        2   \n",
      "96           0.326149    112246     54328  ...     207.286185        2   \n",
      "97           0.078812    153446     13128  ...     200.273076        1   \n",
      "98           0.042005    159577      6997  ...     159.198156        2   \n",
      "99           0.018712    163457      3117  ...     172.211943        2   \n",
      "\n",
      "    residuals_score residuals_p_value    HR HR_CI HR_p_value adj_HR adj_HR_CI  \\\n",
      "0              None              None  None  None       None   None      None   \n",
      "1              None              None  None  None       None   None      None   \n",
      "2              None              None  None  None       None   None      None   \n",
      "3              None              None  None  None       None   None      None   \n",
      "4              None              None  None  None       None   None      None   \n",
      "..              ...               ...   ...   ...        ...    ...       ...   \n",
      "95             None              None  None  None       None   None      None   \n",
      "96             None              None  None  None       None   None      None   \n",
      "97             None              None  None  None       None   None      None   \n",
      "98             None              None  None  None       None   None      None   \n",
      "99             None              None  None  None       None   None      None   \n",
      "\n",
      "   adj_HR_p_value  \n",
      "0            None  \n",
      "1            None  \n",
      "2            None  \n",
      "3            None  \n",
      "4            None  \n",
      "..            ...  \n",
      "95           None  \n",
      "96           None  \n",
      "97           None  \n",
      "98           None  \n",
      "99           None  \n",
      "\n",
      "[100 rows x 21 columns]\n",
      "Iteration: 81\n"
     ]
    },
    {
     "name": "stderr",
     "output_type": "stream",
     "text": [
      " 81%|████████  | 81/100 [14:25<03:17, 10.40s/it]"
     ]
    },
    {
     "name": "stdout",
     "output_type": "stream",
     "text": [
      "Iteration: 82\n"
     ]
    },
    {
     "name": "stderr",
     "output_type": "stream",
     "text": [
      " 82%|████████▏ | 82/100 [14:35<03:07, 10.40s/it]"
     ]
    },
    {
     "name": "stdout",
     "output_type": "stream",
     "text": [
      "Iteration: 83\n"
     ]
    },
    {
     "name": "stderr",
     "output_type": "stream",
     "text": [
      " 83%|████████▎ | 83/100 [14:45<02:57, 10.42s/it]"
     ]
    },
    {
     "name": "stdout",
     "output_type": "stream",
     "text": [
      "Iteration: 84\n"
     ]
    },
    {
     "name": "stderr",
     "output_type": "stream",
     "text": [
      " 84%|████████▍ | 84/100 [14:56<02:45, 10.37s/it]"
     ]
    },
    {
     "name": "stdout",
     "output_type": "stream",
     "text": [
      "Iteration: 85\n"
     ]
    },
    {
     "name": "stderr",
     "output_type": "stream",
     "text": [
      " 85%|████████▌ | 85/100 [15:06<02:34, 10.32s/it]"
     ]
    },
    {
     "name": "stdout",
     "output_type": "stream",
     "text": [
      "Iteration: 86\n"
     ]
    },
    {
     "name": "stderr",
     "output_type": "stream",
     "text": [
      " 86%|████████▌ | 86/100 [15:16<02:24, 10.34s/it]"
     ]
    },
    {
     "name": "stdout",
     "output_type": "stream",
     "text": [
      "Iteration: 87\n"
     ]
    },
    {
     "name": "stderr",
     "output_type": "stream",
     "text": [
      " 87%|████████▋ | 87/100 [15:26<02:13, 10.29s/it]"
     ]
    },
    {
     "name": "stdout",
     "output_type": "stream",
     "text": [
      "Iteration: 88\n"
     ]
    },
    {
     "name": "stderr",
     "output_type": "stream",
     "text": [
      " 88%|████████▊ | 88/100 [15:37<02:03, 10.29s/it]"
     ]
    },
    {
     "name": "stdout",
     "output_type": "stream",
     "text": [
      "Iteration: 89\n"
     ]
    },
    {
     "name": "stderr",
     "output_type": "stream",
     "text": [
      " 89%|████████▉ | 89/100 [15:47<01:54, 10.36s/it]"
     ]
    },
    {
     "name": "stdout",
     "output_type": "stream",
     "text": [
      "Iteration: 90\n"
     ]
    },
    {
     "name": "stderr",
     "output_type": "stream",
     "text": [
      " 90%|█████████ | 90/100 [15:58<01:44, 10.41s/it]"
     ]
    },
    {
     "name": "stdout",
     "output_type": "stream",
     "text": [
      "ITERATION: 90\n",
      "                                         feature_list  group_threshold  \\\n",
      "0   [B143, DQB155, DQB174, DRB112, DRB116, DRB173,...                0   \n",
      "1   [B143, B147, DQB155, DQB174, DRB112, DRB116, D...                0   \n",
      "2   [A158, B143, B147, DQB155, DQB174, DRB112, DRB...                0   \n",
      "3   [DQB155, DQB174, DRB112, DRB116, DRB173, DRB17...                0   \n",
      "4   [A158, B147, DQB155, DQB174, DRB112, DRB173, D...                0   \n",
      "..                                                ...              ...   \n",
      "95      [B30, DQB155, DQB166, DQB190, DRB112, DRB173]                4   \n",
      "96  [B143, B163, DQB155, DQB174, DRB112, DRB116, D...                5   \n",
      "97  [A44, B143, DQB155, DRB112, DRB157, DRB173, DR...                5   \n",
      "98              [B143, DQB152, DQB174, DRB14, DRB177]                4   \n",
      "99        [A44, C193, DQB174, DRB112, DRB116, DRB177]                4   \n",
      "\n",
      "     fitness  pre_fitness  log_rank_score  log_rank_p_value  bin_size  \\\n",
      "0   1.000000   499.587190      499.587190     1.168933e-110         8   \n",
      "1   0.967430   499.292511      499.292511     1.354896e-110         9   \n",
      "2   0.935920   498.047250      498.047250     2.528430e-110        10   \n",
      "3   0.905437   486.585898      486.585898     7.882920e-108         7   \n",
      "4   0.875946   479.768410      479.768410     2.399590e-106         7   \n",
      "..       ...          ...             ...               ...       ...   \n",
      "95  0.008219    57.938703      115.877406      5.056051e-27         6   \n",
      "96  0.007951    48.937487       97.874975      4.456504e-23         8   \n",
      "97  0.007442    26.685158       53.370316      2.762396e-13         7   \n",
      "98  0.007199    16.178192       32.356385      1.283349e-08         5   \n",
      "99  0.006965     7.380000       14.759999      1.220983e-04         6   \n",
      "\n",
      "    group_strata_prop  count_bt  count_at  ...  deletion_prop  cluster  \\\n",
      "0            0.259662     43253    123321  ...       0.000000        4   \n",
      "1            0.259656     43252    123322  ...     271.962178        4   \n",
      "2            0.232293     38694    127880  ...     245.841847        4   \n",
      "3            0.278471     46386    120188  ...     270.098580        4   \n",
      "4            0.246113     40996    125578  ...       0.000000        0   \n",
      "..                ...       ...       ...  ...            ...      ...   \n",
      "95           0.100280    149870     16704  ...     174.099882        1   \n",
      "96           0.112563    147824     18750  ...     157.976667        1   \n",
      "97           0.039562    159984      6590  ...     154.541405        1   \n",
      "98           0.016203    163875      2699  ...     147.733607        1   \n",
      "99           0.024686    162462      4112  ...     150.645370        1   \n",
      "\n",
      "    residuals_score residuals_p_value    HR HR_CI HR_p_value adj_HR adj_HR_CI  \\\n",
      "0              None              None  None  None       None   None      None   \n",
      "1              None              None  None  None       None   None      None   \n",
      "2              None              None  None  None       None   None      None   \n",
      "3              None              None  None  None       None   None      None   \n",
      "4              None              None  None  None       None   None      None   \n",
      "..              ...               ...   ...   ...        ...    ...       ...   \n",
      "95             None              None  None  None       None   None      None   \n",
      "96             None              None  None  None       None   None      None   \n",
      "97             None              None  None  None       None   None      None   \n",
      "98             None              None  None  None       None   None      None   \n",
      "99             None              None  None  None       None   None      None   \n",
      "\n",
      "   adj_HR_p_value  \n",
      "0            None  \n",
      "1            None  \n",
      "2            None  \n",
      "3            None  \n",
      "4            None  \n",
      "..            ...  \n",
      "95           None  \n",
      "96           None  \n",
      "97           None  \n",
      "98           None  \n",
      "99           None  \n",
      "\n",
      "[100 rows x 21 columns]\n",
      "Iteration: 91\n"
     ]
    },
    {
     "name": "stderr",
     "output_type": "stream",
     "text": [
      " 91%|█████████ | 91/100 [16:08<01:33, 10.38s/it]"
     ]
    },
    {
     "name": "stdout",
     "output_type": "stream",
     "text": [
      "Iteration: 92\n"
     ]
    },
    {
     "name": "stderr",
     "output_type": "stream",
     "text": [
      " 92%|█████████▏| 92/100 [16:19<01:23, 10.42s/it]"
     ]
    },
    {
     "name": "stdout",
     "output_type": "stream",
     "text": [
      "Iteration: 93\n"
     ]
    },
    {
     "name": "stderr",
     "output_type": "stream",
     "text": [
      " 93%|█████████▎| 93/100 [16:29<01:12, 10.40s/it]"
     ]
    },
    {
     "name": "stdout",
     "output_type": "stream",
     "text": [
      "Iteration: 94\n"
     ]
    },
    {
     "name": "stderr",
     "output_type": "stream",
     "text": [
      " 94%|█████████▍| 94/100 [16:39<01:02, 10.41s/it]"
     ]
    },
    {
     "name": "stdout",
     "output_type": "stream",
     "text": [
      "Iteration: 95\n"
     ]
    },
    {
     "name": "stderr",
     "output_type": "stream",
     "text": [
      " 95%|█████████▌| 95/100 [16:50<00:52, 10.41s/it]"
     ]
    },
    {
     "name": "stdout",
     "output_type": "stream",
     "text": [
      "Iteration: 96\n"
     ]
    },
    {
     "name": "stderr",
     "output_type": "stream",
     "text": [
      " 96%|█████████▌| 96/100 [17:00<00:41, 10.47s/it]"
     ]
    },
    {
     "name": "stdout",
     "output_type": "stream",
     "text": [
      "Iteration: 97\n"
     ]
    },
    {
     "name": "stderr",
     "output_type": "stream",
     "text": [
      " 97%|█████████▋| 97/100 [17:11<00:31, 10.41s/it]"
     ]
    },
    {
     "name": "stdout",
     "output_type": "stream",
     "text": [
      "Iteration: 98\n"
     ]
    },
    {
     "name": "stderr",
     "output_type": "stream",
     "text": [
      " 98%|█████████▊| 98/100 [17:21<00:20, 10.39s/it]"
     ]
    },
    {
     "name": "stdout",
     "output_type": "stream",
     "text": [
      "Iteration: 99\n"
     ]
    },
    {
     "name": "stderr",
     "output_type": "stream",
     "text": [
      " 99%|█████████▉| 99/100 [17:53<00:16, 16.92s/it]"
     ]
    },
    {
     "name": "stdout",
     "output_type": "stream",
     "text": [
      "Iteration: 100\n"
     ]
    },
    {
     "name": "stderr",
     "output_type": "stream",
     "text": [
      "100%|██████████| 100/100 [18:04<00:00, 10.84s/it]"
     ]
    },
    {
     "name": "stdout",
     "output_type": "stream",
     "text": [
      "                                         feature_list  group_threshold  \\\n",
      "0   [B143, DQB155, DQB174, DRB112, DRB116, DRB173,...                0   \n",
      "1   [A150, A158, A186, A67, B143, DQB155, DQB174, ...                0   \n",
      "2   [B143, B147, DQB155, DQB174, DRB112, DRB116, D...                0   \n",
      "3   [B143, B147, DQB155, DQB174, DQB175, DRB112, D...                0   \n",
      "4    [DQB155, DQB174, DRB112, DRB132, DRB177, DRB178]                0   \n",
      "..                                                ...              ...   \n",
      "61       [B131, B143, DQB174, DRB116, DRB173, DRB178]                1   \n",
      "62  [A80, B143, B158, DQB174, DRB116, DRB177, DRB178]                1   \n",
      "63                        [A97, B177, DQB185, DRB173]                1   \n",
      "64               [B113, B143, B163, B81, B99, DRB177]                0   \n",
      "65                     [B163, B77, C147, C21, DRB130]                1   \n",
      "\n",
      "     fitness  pre_fitness  log_rank_score  log_rank_p_value  bin_size  \\\n",
      "0   1.000000   499.587190      499.587190     1.168933e-110         8   \n",
      "1   0.967216   489.492758      489.492758     1.837309e-108        11   \n",
      "2   0.935507   488.967687      488.967687     2.390188e-108         8   \n",
      "3   0.904837   488.967687      488.967687     2.390188e-108         9   \n",
      "4   0.875173   479.109794      479.109794     3.337728e-106         6   \n",
      "..       ...          ...             ...               ...       ...   \n",
      "61  0.024724   177.970189      177.970189      1.344696e-40         6   \n",
      "62  0.017134   155.122129      155.122129      1.316755e-35         7   \n",
      "63  0.012277   132.546829      132.546829      1.135953e-30         4   \n",
      "64  0.010393   114.674271      114.674271      9.274650e-27         6   \n",
      "65  0.010052   113.536686      113.536686      1.646074e-26         5   \n",
      "\n",
      "    group_strata_prop  count_bt  count_at  ...  deletion_prop  cluster  \\\n",
      "0            0.259662     43253    123321  ...       0.000000        1   \n",
      "1            0.230816     38448    128126  ...     217.881255        1   \n",
      "2            0.264009     43977    122597  ...     252.181855        1   \n",
      "3            0.264009     43977    122597  ...     235.020725        1   \n",
      "4            0.272353     45367    121207  ...       0.000000        2   \n",
      "..                ...       ...       ...  ...            ...      ...   \n",
      "61           0.422239     96240     70334  ...     178.846130        3   \n",
      "62           0.411991     97947     68627  ...     171.571303        3   \n",
      "63           0.491067     84775     81799  ...     146.898289        4   \n",
      "64           0.272443     45382    121192  ...     146.401791        4   \n",
      "65           0.368473     61378    105196  ...     143.547597        4   \n",
      "\n",
      "    residuals_score residuals_p_value    HR HR_CI HR_p_value adj_HR adj_HR_CI  \\\n",
      "0              None              None  None  None       None   None      None   \n",
      "1              None              None  None  None       None   None      None   \n",
      "2              None              None  None  None       None   None      None   \n",
      "3              None              None  None  None       None   None      None   \n",
      "4              None              None  None  None       None   None      None   \n",
      "..              ...               ...   ...   ...        ...    ...       ...   \n",
      "61             None              None  None  None       None   None      None   \n",
      "62             None              None  None  None       None   None      None   \n",
      "63             None              None  None  None       None   None      None   \n",
      "64             None              None  None  None       None   None      None   \n",
      "65             None              None  None  None       None   None      None   \n",
      "\n",
      "   adj_HR_p_value  \n",
      "0            None  \n",
      "1            None  \n",
      "2            None  \n",
      "3            None  \n",
      "4            None  \n",
      "..            ...  \n",
      "61           None  \n",
      "62           None  \n",
      "63           None  \n",
      "64           None  \n",
      "65           None  \n",
      "\n",
      "[66 rows x 21 columns]\n",
      "Random Seed Check - End: 0.12882396466088586\n",
      "FIBERS Run Complete!\n",
      "Elapsed Time (sec):  1146.090206861496 seconds\n"
     ]
    },
    {
     "name": "stderr",
     "output_type": "stream",
     "text": [
      "\n"
     ]
    }
   ],
   "source": [
    "\n",
    "fibers = FIBERS(outcome_label=\"graftyrs\", outcome_type=\"survival\", iterations=100, pop_size=100, tournament_prop=0.2, crossover_prob=0.5, min_mutation_prob=0.1, max_mutation_prob=0.5, merge_prob=0.1, \n",
    "                new_gen=0.5, elitism=0.1, diversity_pressure=5, min_bin_size=1, max_bin_size=None, max_bin_init_size=10, fitness_metric=\"log_rank\", log_rank_weighting=None, censor_label=\"grf_fail\", \n",
    "                group_strata_min=0.2, penalty=0.5, group_thresh=None, min_thresh=0, max_thresh=5, int_thresh=True, thresh_evolve_prob=0.5, manual_bin_init=pop, covariates=covariates, pop_clean = 'group_strata',report=[0,10,20,30,40,50,60,70,80,90], \n",
    "                random_seed=42,verbose=False)\n",
    "\n",
    "fibers = fibers.fit(data)\n"
   ]
  },
  {
   "cell_type": "markdown",
   "id": "17672973",
   "metadata": {},
   "source": [
    "### Report Run Time"
   ]
  },
  {
   "cell_type": "code",
   "execution_count": 8,
   "id": "63dcd108",
   "metadata": {},
   "outputs": [
    {
     "name": "stdout",
     "output_type": "stream",
     "text": [
      "1146.090206861496\n"
     ]
    }
   ],
   "source": [
    "# Report run time\n",
    "print(fibers.elapsed_time)"
   ]
  },
  {
   "cell_type": "markdown",
   "id": "3304fb7c",
   "metadata": {},
   "source": [
    "***\n",
    "## Top (or Target) Bin Examination\n",
    "### Specify Bin to Examine"
   ]
  },
  {
   "cell_type": "code",
   "execution_count": 9,
   "id": "b29f6298",
   "metadata": {},
   "outputs": [],
   "source": [
    "bin_index = 0 # lowest index is the bin with the highest fitness (only reports the bin ranked at the top, despite possible fitness ties for top)"
   ]
  },
  {
   "cell_type": "markdown",
   "id": "a58c8d7a",
   "metadata": {},
   "source": [
    "### Get Bin Details"
   ]
  },
  {
   "cell_type": "code",
   "execution_count": 10,
   "id": "18f92bfa",
   "metadata": {},
   "outputs": [
    {
     "data": {
      "text/html": [
       "<div>\n",
       "<style scoped>\n",
       "    .dataframe tbody tr th:only-of-type {\n",
       "        vertical-align: middle;\n",
       "    }\n",
       "\n",
       "    .dataframe tbody tr th {\n",
       "        vertical-align: top;\n",
       "    }\n",
       "\n",
       "    .dataframe thead th {\n",
       "        text-align: right;\n",
       "    }\n",
       "</style>\n",
       "<table border=\"1\" class=\"dataframe\">\n",
       "  <thead>\n",
       "    <tr style=\"text-align: right;\">\n",
       "      <th></th>\n",
       "      <th>0</th>\n",
       "    </tr>\n",
       "  </thead>\n",
       "  <tbody>\n",
       "    <tr>\n",
       "      <th>Features in Bin:</th>\n",
       "      <td>[B143, DQB155, DQB174, DRB112, DRB116, DRB173,...</td>\n",
       "    </tr>\n",
       "    <tr>\n",
       "      <th>Threshold:</th>\n",
       "      <td>0</td>\n",
       "    </tr>\n",
       "    <tr>\n",
       "      <th>Fitness</th>\n",
       "      <td>1.0</td>\n",
       "    </tr>\n",
       "    <tr>\n",
       "      <th>Pre-Fitness:</th>\n",
       "      <td>499.58719</td>\n",
       "    </tr>\n",
       "    <tr>\n",
       "      <th>Log-Rank Score:</th>\n",
       "      <td>499.58719</td>\n",
       "    </tr>\n",
       "    <tr>\n",
       "      <th>Log-Rank p-value:</th>\n",
       "      <td>0.0</td>\n",
       "    </tr>\n",
       "    <tr>\n",
       "      <th>Bin Size:</th>\n",
       "      <td>8</td>\n",
       "    </tr>\n",
       "    <tr>\n",
       "      <th>Group Ratio:</th>\n",
       "      <td>0.259662</td>\n",
       "    </tr>\n",
       "    <tr>\n",
       "      <th>Count At/Below Threshold:</th>\n",
       "      <td>43253</td>\n",
       "    </tr>\n",
       "    <tr>\n",
       "      <th>Count Above Threshold:</th>\n",
       "      <td>123321</td>\n",
       "    </tr>\n",
       "    <tr>\n",
       "      <th>Birth Iteration:</th>\n",
       "      <td>71</td>\n",
       "    </tr>\n",
       "    <tr>\n",
       "      <th>Residuals Score:</th>\n",
       "      <td>None</td>\n",
       "    </tr>\n",
       "    <tr>\n",
       "      <th>Residuals p-value</th>\n",
       "      <td>None</td>\n",
       "    </tr>\n",
       "  </tbody>\n",
       "</table>\n",
       "</div>"
      ],
      "text/plain": [
       "                                                                           0\n",
       "Features in Bin:           [B143, DQB155, DQB174, DRB112, DRB116, DRB173,...\n",
       "Threshold:                                                                 0\n",
       "Fitness                                                                  1.0\n",
       "Pre-Fitness:                                                       499.58719\n",
       "Log-Rank Score:                                                    499.58719\n",
       "Log-Rank p-value:                                                        0.0\n",
       "Bin Size:                                                                  8\n",
       "Group Ratio:                                                        0.259662\n",
       "Count At/Below Threshold:                                              43253\n",
       "Count Above Threshold:                                                123321\n",
       "Birth Iteration:                                                          71\n",
       "Residuals Score:                                                        None\n",
       "Residuals p-value                                                       None"
      ]
     },
     "execution_count": 10,
     "metadata": {},
     "output_type": "execute_result"
    }
   ],
   "source": [
    "fibers.get_bin_report(bin_index)"
   ]
  },
  {
   "cell_type": "markdown",
   "id": "5b0cda67",
   "metadata": {},
   "source": [
    "### Plot: Kaplan Meier Survival Curves For Each Group Defined by the Target Bin"
   ]
  },
  {
   "cell_type": "code",
   "execution_count": 11,
   "id": "31b163fd",
   "metadata": {},
   "outputs": [
    {
     "name": "stdout",
     "output_type": "stream",
     "text": [
      "Dropped 0 invariant feature columns.\n",
      "(166574, 247)\n"
     ]
    },
    {
     "data": {
      "image/png": "[encoded data removed]",
      "text/plain": [
       "<Figure size 640x480 with 1 Axes>"
      ]
     },
     "metadata": {},
     "output_type": "display_data"
    }
   ],
   "source": [
    "fibers.get_kaplan_meir(data,bin_index,save=True,output_folder=output_folder,data_name=data_name)"
   ]
  },
  {
   "cell_type": "markdown",
   "id": "a621b584",
   "metadata": {},
   "source": [
    "### Evaluate Target Bin Using Cox Proportional Hazard Model (adjusting for covariates)"
   ]
  },
  {
   "cell_type": "code",
   "execution_count": 12,
   "id": "12bb0a25",
   "metadata": {},
   "outputs": [
    {
     "name": "stdout",
     "output_type": "stream",
     "text": [
      "Dropped 0 invariant feature columns.\n",
      "Iteration 1: norm_delta = 6.88e-01, step_size = 0.9500, log_lik = -674771.34752, newton_decrement = 6.48e+03, seconds_since_start = 1.1\n",
      "Iteration 2: norm_delta = 1.94e-01, step_size = 0.9500, log_lik = -668536.77766, newton_decrement = 1.49e+02, seconds_since_start = 2.1\n",
      "Iteration 3: norm_delta = 2.00e-02, step_size = 0.9500, log_lik = -668384.89257, newton_decrement = 1.29e+00, seconds_since_start = 3.2\n",
      "Iteration 4: norm_delta = 1.32e-04, step_size = 1.0000, log_lik = -668383.59315, newton_decrement = 6.65e-05, seconds_since_start = 4.3\n",
      "Iteration 5: norm_delta = 7.67e-09, step_size = 1.0000, log_lik = -668383.59309, newton_decrement = 3.06e-13, seconds_since_start = 5.4\n",
      "Convergence success after 5 iterations.\n",
      "Bin HR: 1.1244951200460804 (1.096566219239266-1.1531353536357138)\n",
      "Bin HR p-value: 6.02998091557845e-20\n"
     ]
    },
    {
     "data": {
      "text/html": [
       "<div>\n",
       "<style scoped>\n",
       "    .dataframe tbody tr th:only-of-type {\n",
       "        vertical-align: middle;\n",
       "    }\n",
       "\n",
       "    .dataframe tbody tr th {\n",
       "        vertical-align: top;\n",
       "    }\n",
       "\n",
       "    .dataframe thead th {\n",
       "        text-align: right;\n",
       "    }\n",
       "</style>\n",
       "<table border=\"1\" class=\"dataframe\">\n",
       "  <thead>\n",
       "    <tr style=\"text-align: right;\">\n",
       "      <th></th>\n",
       "      <th>coef</th>\n",
       "      <th>exp(coef)</th>\n",
       "      <th>se(coef)</th>\n",
       "      <th>coef lower 95%</th>\n",
       "      <th>coef upper 95%</th>\n",
       "      <th>exp(coef) lower 95%</th>\n",
       "      <th>exp(coef) upper 95%</th>\n",
       "      <th>cmp to</th>\n",
       "      <th>z</th>\n",
       "      <th>p</th>\n",
       "      <th>-log2(p)</th>\n",
       "    </tr>\n",
       "    <tr>\n",
       "      <th>covariate</th>\n",
       "      <th></th>\n",
       "      <th></th>\n",
       "      <th></th>\n",
       "      <th></th>\n",
       "      <th></th>\n",
       "      <th></th>\n",
       "      <th></th>\n",
       "      <th></th>\n",
       "      <th></th>\n",
       "      <th></th>\n",
       "      <th></th>\n",
       "    </tr>\n",
       "  </thead>\n",
       "  <tbody>\n",
       "    <tr>\n",
       "      <th>Bin_0</th>\n",
       "      <td>0.117334</td>\n",
       "      <td>1.124495</td>\n",
       "      <td>0.012832</td>\n",
       "      <td>0.092184</td>\n",
       "      <td>0.142485</td>\n",
       "      <td>1.096566</td>\n",
       "      <td>1.153135</td>\n",
       "      <td>0.0</td>\n",
       "      <td>9.143792</td>\n",
       "      <td>6.029981e-20</td>\n",
       "      <td>63.846408</td>\n",
       "    </tr>\n",
       "    <tr>\n",
       "      <th>shared</th>\n",
       "      <td>0.112065</td>\n",
       "      <td>1.118586</td>\n",
       "      <td>0.010199</td>\n",
       "      <td>0.092076</td>\n",
       "      <td>0.132055</td>\n",
       "      <td>1.096448</td>\n",
       "      <td>1.141171</td>\n",
       "      <td>0.0</td>\n",
       "      <td>10.988088</td>\n",
       "      <td>4.360682e-28</td>\n",
       "      <td>90.889433</td>\n",
       "    </tr>\n",
       "    <tr>\n",
       "      <th>DCD</th>\n",
       "      <td>0.077905</td>\n",
       "      <td>1.081020</td>\n",
       "      <td>0.014360</td>\n",
       "      <td>0.049761</td>\n",
       "      <td>0.106050</td>\n",
       "      <td>1.051020</td>\n",
       "      <td>1.111878</td>\n",
       "      <td>0.0</td>\n",
       "      <td>5.425229</td>\n",
       "      <td>5.788038e-08</td>\n",
       "      <td>24.042350</td>\n",
       "    </tr>\n",
       "    <tr>\n",
       "      <th>DON_AGE</th>\n",
       "      <td>-0.010669</td>\n",
       "      <td>0.989388</td>\n",
       "      <td>0.004817</td>\n",
       "      <td>-0.020111</td>\n",
       "      <td>-0.001227</td>\n",
       "      <td>0.980090</td>\n",
       "      <td>0.998774</td>\n",
       "      <td>0.0</td>\n",
       "      <td>-2.214642</td>\n",
       "      <td>2.678464e-02</td>\n",
       "      <td>5.222450</td>\n",
       "    </tr>\n",
       "    <tr>\n",
       "      <th>donage_slope_ge18</th>\n",
       "      <td>0.020325</td>\n",
       "      <td>1.020533</td>\n",
       "      <td>0.004956</td>\n",
       "      <td>0.010612</td>\n",
       "      <td>0.030038</td>\n",
       "      <td>1.010668</td>\n",
       "      <td>1.030494</td>\n",
       "      <td>0.0</td>\n",
       "      <td>4.101222</td>\n",
       "      <td>4.109743e-05</td>\n",
       "      <td>14.570592</td>\n",
       "    </tr>\n",
       "    <tr>\n",
       "      <th>dcadcodanox</th>\n",
       "      <td>0.043745</td>\n",
       "      <td>1.044716</td>\n",
       "      <td>0.012457</td>\n",
       "      <td>0.019329</td>\n",
       "      <td>0.068160</td>\n",
       "      <td>1.019517</td>\n",
       "      <td>1.070537</td>\n",
       "      <td>0.0</td>\n",
       "      <td>3.511603</td>\n",
       "      <td>4.454134e-04</td>\n",
       "      <td>11.132567</td>\n",
       "    </tr>\n",
       "    <tr>\n",
       "      <th>dcadcodcva</th>\n",
       "      <td>0.068155</td>\n",
       "      <td>1.070532</td>\n",
       "      <td>0.010874</td>\n",
       "      <td>0.046843</td>\n",
       "      <td>0.089468</td>\n",
       "      <td>1.047957</td>\n",
       "      <td>1.093592</td>\n",
       "      <td>0.0</td>\n",
       "      <td>6.267749</td>\n",
       "      <td>3.663045e-10</td>\n",
       "      <td>31.346238</td>\n",
       "    </tr>\n",
       "    <tr>\n",
       "      <th>dcadcodcnst</th>\n",
       "      <td>-0.001608</td>\n",
       "      <td>0.998393</td>\n",
       "      <td>0.051353</td>\n",
       "      <td>-0.102258</td>\n",
       "      <td>0.099041</td>\n",
       "      <td>0.902796</td>\n",
       "      <td>1.104112</td>\n",
       "      <td>0.0</td>\n",
       "      <td>-0.031321</td>\n",
       "      <td>9.750135e-01</td>\n",
       "      <td>0.036506</td>\n",
       "    </tr>\n",
       "    <tr>\n",
       "      <th>dcadcodoth</th>\n",
       "      <td>0.059343</td>\n",
       "      <td>1.061139</td>\n",
       "      <td>0.027605</td>\n",
       "      <td>0.005239</td>\n",
       "      <td>0.113447</td>\n",
       "      <td>1.005253</td>\n",
       "      <td>1.120132</td>\n",
       "      <td>0.0</td>\n",
       "      <td>2.149748</td>\n",
       "      <td>3.157518e-02</td>\n",
       "      <td>4.985065</td>\n",
       "    </tr>\n",
       "    <tr>\n",
       "      <th>don_cmv_negative</th>\n",
       "      <td>-0.011722</td>\n",
       "      <td>0.988346</td>\n",
       "      <td>0.008646</td>\n",
       "      <td>-0.028668</td>\n",
       "      <td>0.005224</td>\n",
       "      <td>0.971739</td>\n",
       "      <td>1.005238</td>\n",
       "      <td>0.0</td>\n",
       "      <td>-1.355768</td>\n",
       "      <td>1.751731e-01</td>\n",
       "      <td>2.513147</td>\n",
       "    </tr>\n",
       "    <tr>\n",
       "      <th>don_htn_0c</th>\n",
       "      <td>0.139337</td>\n",
       "      <td>1.149511</td>\n",
       "      <td>0.010542</td>\n",
       "      <td>0.118674</td>\n",
       "      <td>0.159999</td>\n",
       "      <td>1.126003</td>\n",
       "      <td>1.173510</td>\n",
       "      <td>0.0</td>\n",
       "      <td>13.216934</td>\n",
       "      <td>7.006185e-40</td>\n",
       "      <td>130.068495</td>\n",
       "    </tr>\n",
       "    <tr>\n",
       "      <th>ln_don_wgt_kg_0c</th>\n",
       "      <td>-0.288674</td>\n",
       "      <td>0.749257</td>\n",
       "      <td>0.078631</td>\n",
       "      <td>-0.442788</td>\n",
       "      <td>-0.134559</td>\n",
       "      <td>0.642243</td>\n",
       "      <td>0.874101</td>\n",
       "      <td>0.0</td>\n",
       "      <td>-3.671232</td>\n",
       "      <td>2.413837e-04</td>\n",
       "      <td>12.016384</td>\n",
       "    </tr>\n",
       "    <tr>\n",
       "      <th>ln_don_wgt_kg_0c_s55</th>\n",
       "      <td>0.264146</td>\n",
       "      <td>1.302318</td>\n",
       "      <td>0.084573</td>\n",
       "      <td>0.098386</td>\n",
       "      <td>0.429905</td>\n",
       "      <td>1.103389</td>\n",
       "      <td>1.537112</td>\n",
       "      <td>0.0</td>\n",
       "      <td>3.123294</td>\n",
       "      <td>1.788391e-03</td>\n",
       "      <td>9.127122</td>\n",
       "    </tr>\n",
       "    <tr>\n",
       "      <th>don_ecd</th>\n",
       "      <td>0.251326</td>\n",
       "      <td>1.285729</td>\n",
       "      <td>0.053599</td>\n",
       "      <td>0.146274</td>\n",
       "      <td>0.356378</td>\n",
       "      <td>1.157513</td>\n",
       "      <td>1.428147</td>\n",
       "      <td>0.0</td>\n",
       "      <td>4.689012</td>\n",
       "      <td>2.745272e-06</td>\n",
       "      <td>18.474619</td>\n",
       "    </tr>\n",
       "    <tr>\n",
       "      <th>age_ecd</th>\n",
       "      <td>-0.003573</td>\n",
       "      <td>0.996433</td>\n",
       "      <td>0.000890</td>\n",
       "      <td>-0.005318</td>\n",
       "      <td>-0.001828</td>\n",
       "      <td>0.994696</td>\n",
       "      <td>0.998174</td>\n",
       "      <td>0.0</td>\n",
       "      <td>-4.012743</td>\n",
       "      <td>6.001733e-05</td>\n",
       "      <td>14.024261</td>\n",
       "    </tr>\n",
       "    <tr>\n",
       "      <th>yearslice</th>\n",
       "      <td>-0.053590</td>\n",
       "      <td>0.947820</td>\n",
       "      <td>0.001227</td>\n",
       "      <td>-0.055996</td>\n",
       "      <td>-0.051185</td>\n",
       "      <td>0.945543</td>\n",
       "      <td>0.950103</td>\n",
       "      <td>0.0</td>\n",
       "      <td>-43.664025</td>\n",
       "      <td>0.000000e+00</td>\n",
       "      <td>inf</td>\n",
       "    </tr>\n",
       "    <tr>\n",
       "      <th>REC_AGE_AT_TX</th>\n",
       "      <td>0.055266</td>\n",
       "      <td>1.056822</td>\n",
       "      <td>0.005741</td>\n",
       "      <td>0.044014</td>\n",
       "      <td>0.066517</td>\n",
       "      <td>1.044997</td>\n",
       "      <td>1.068780</td>\n",
       "      <td>0.0</td>\n",
       "      <td>9.627046</td>\n",
       "      <td>6.147107e-22</td>\n",
       "      <td>70.462510</td>\n",
       "    </tr>\n",
       "    <tr>\n",
       "      <th>rec_age_spline_35</th>\n",
       "      <td>-0.005484</td>\n",
       "      <td>0.994531</td>\n",
       "      <td>0.001331</td>\n",
       "      <td>-0.008092</td>\n",
       "      <td>-0.002875</td>\n",
       "      <td>0.991941</td>\n",
       "      <td>0.997129</td>\n",
       "      <td>0.0</td>\n",
       "      <td>-4.120616</td>\n",
       "      <td>3.778609e-05</td>\n",
       "      <td>14.691785</td>\n",
       "    </tr>\n",
       "    <tr>\n",
       "      <th>rec_age_spline_50</th>\n",
       "      <td>0.029098</td>\n",
       "      <td>1.029525</td>\n",
       "      <td>0.002440</td>\n",
       "      <td>0.024315</td>\n",
       "      <td>0.033880</td>\n",
       "      <td>1.024614</td>\n",
       "      <td>1.034460</td>\n",
       "      <td>0.0</td>\n",
       "      <td>11.925780</td>\n",
       "      <td>8.686671e-33</td>\n",
       "      <td>106.504824</td>\n",
       "    </tr>\n",
       "    <tr>\n",
       "      <th>rec_age_spline_65</th>\n",
       "      <td>0.012182</td>\n",
       "      <td>1.012257</td>\n",
       "      <td>0.002597</td>\n",
       "      <td>0.007093</td>\n",
       "      <td>0.017272</td>\n",
       "      <td>1.007118</td>\n",
       "      <td>1.017422</td>\n",
       "      <td>0.0</td>\n",
       "      <td>4.691297</td>\n",
       "      <td>2.714789e-06</td>\n",
       "      <td>18.490729</td>\n",
       "    </tr>\n",
       "    <tr>\n",
       "      <th>diab_noted</th>\n",
       "      <td>-0.030065</td>\n",
       "      <td>0.970383</td>\n",
       "      <td>0.097906</td>\n",
       "      <td>-0.221956</td>\n",
       "      <td>0.161827</td>\n",
       "      <td>0.800951</td>\n",
       "      <td>1.175656</td>\n",
       "      <td>0.0</td>\n",
       "      <td>-0.307078</td>\n",
       "      <td>7.587842e-01</td>\n",
       "      <td>0.398238</td>\n",
       "    </tr>\n",
       "    <tr>\n",
       "      <th>age_diab</th>\n",
       "      <td>0.009507</td>\n",
       "      <td>1.009553</td>\n",
       "      <td>0.002069</td>\n",
       "      <td>0.005452</td>\n",
       "      <td>0.013562</td>\n",
       "      <td>1.005467</td>\n",
       "      <td>1.013654</td>\n",
       "      <td>0.0</td>\n",
       "      <td>4.595393</td>\n",
       "      <td>4.319353e-06</td>\n",
       "      <td>17.820753</td>\n",
       "    </tr>\n",
       "    <tr>\n",
       "      <th>dm_can_age_spline_50</th>\n",
       "      <td>-0.015508</td>\n",
       "      <td>0.984611</td>\n",
       "      <td>0.002911</td>\n",
       "      <td>-0.021213</td>\n",
       "      <td>-0.009804</td>\n",
       "      <td>0.979010</td>\n",
       "      <td>0.990244</td>\n",
       "      <td>0.0</td>\n",
       "      <td>-5.328132</td>\n",
       "      <td>9.922827e-08</td>\n",
       "      <td>23.264674</td>\n",
       "    </tr>\n",
       "    <tr>\n",
       "      <th>can_dgn_htn_ndm</th>\n",
       "      <td>0.094397</td>\n",
       "      <td>1.098996</td>\n",
       "      <td>0.013134</td>\n",
       "      <td>0.068655</td>\n",
       "      <td>0.120139</td>\n",
       "      <td>1.071067</td>\n",
       "      <td>1.127653</td>\n",
       "      <td>0.0</td>\n",
       "      <td>7.187330</td>\n",
       "      <td>6.607071e-13</td>\n",
       "      <td>40.461054</td>\n",
       "    </tr>\n",
       "    <tr>\n",
       "      <th>can_dgn_pk_ndm</th>\n",
       "      <td>-0.277392</td>\n",
       "      <td>0.757758</td>\n",
       "      <td>0.019347</td>\n",
       "      <td>-0.315311</td>\n",
       "      <td>-0.239473</td>\n",
       "      <td>0.729562</td>\n",
       "      <td>0.787042</td>\n",
       "      <td>0.0</td>\n",
       "      <td>-14.337974</td>\n",
       "      <td>1.266998e-46</td>\n",
       "      <td>152.467278</td>\n",
       "    </tr>\n",
       "    <tr>\n",
       "      <th>can_dgn_gd_ndm</th>\n",
       "      <td>-0.008433</td>\n",
       "      <td>0.991603</td>\n",
       "      <td>0.014723</td>\n",
       "      <td>-0.037290</td>\n",
       "      <td>0.020424</td>\n",
       "      <td>0.963397</td>\n",
       "      <td>1.020634</td>\n",
       "      <td>0.0</td>\n",
       "      <td>-0.572748</td>\n",
       "      <td>5.668152e-01</td>\n",
       "      <td>0.819050</td>\n",
       "    </tr>\n",
       "    <tr>\n",
       "      <th>rec_prev_ki_tx</th>\n",
       "      <td>0.150518</td>\n",
       "      <td>1.162437</td>\n",
       "      <td>0.016082</td>\n",
       "      <td>0.118999</td>\n",
       "      <td>0.182038</td>\n",
       "      <td>1.126369</td>\n",
       "      <td>1.199659</td>\n",
       "      <td>0.0</td>\n",
       "      <td>9.359674</td>\n",
       "      <td>7.998342e-21</td>\n",
       "      <td>66.760789</td>\n",
       "    </tr>\n",
       "    <tr>\n",
       "      <th>rec_prev_ki_tx_dm</th>\n",
       "      <td>-0.060644</td>\n",
       "      <td>0.941158</td>\n",
       "      <td>0.029231</td>\n",
       "      <td>-0.117936</td>\n",
       "      <td>-0.003352</td>\n",
       "      <td>0.888753</td>\n",
       "      <td>0.996653</td>\n",
       "      <td>0.0</td>\n",
       "      <td>-2.074648</td>\n",
       "      <td>3.801915e-02</td>\n",
       "      <td>4.717130</td>\n",
       "    </tr>\n",
       "    <tr>\n",
       "      <th>rbmi_0c</th>\n",
       "      <td>-0.031551</td>\n",
       "      <td>0.968941</td>\n",
       "      <td>0.007345</td>\n",
       "      <td>-0.045947</td>\n",
       "      <td>-0.017156</td>\n",
       "      <td>0.955092</td>\n",
       "      <td>0.982991</td>\n",
       "      <td>0.0</td>\n",
       "      <td>-4.295667</td>\n",
       "      <td>1.741692e-05</td>\n",
       "      <td>15.809151</td>\n",
       "    </tr>\n",
       "    <tr>\n",
       "      <th>rbmi_miss</th>\n",
       "      <td>-0.508190</td>\n",
       "      <td>0.601583</td>\n",
       "      <td>0.144712</td>\n",
       "      <td>-0.791821</td>\n",
       "      <td>-0.224559</td>\n",
       "      <td>0.453019</td>\n",
       "      <td>0.798868</td>\n",
       "      <td>0.0</td>\n",
       "      <td>-3.511730</td>\n",
       "      <td>4.452005e-04</td>\n",
       "      <td>11.133257</td>\n",
       "    </tr>\n",
       "    <tr>\n",
       "      <th>rbmi_gt_20</th>\n",
       "      <td>0.045074</td>\n",
       "      <td>1.046106</td>\n",
       "      <td>0.007681</td>\n",
       "      <td>0.030021</td>\n",
       "      <td>0.060128</td>\n",
       "      <td>1.030476</td>\n",
       "      <td>1.061973</td>\n",
       "      <td>0.0</td>\n",
       "      <td>5.868540</td>\n",
       "      <td>4.396482e-09</td>\n",
       "      <td>27.761003</td>\n",
       "    </tr>\n",
       "    <tr>\n",
       "      <th>rbmi_DM</th>\n",
       "      <td>0.000966</td>\n",
       "      <td>1.000967</td>\n",
       "      <td>0.001668</td>\n",
       "      <td>-0.002302</td>\n",
       "      <td>0.004235</td>\n",
       "      <td>0.997700</td>\n",
       "      <td>1.004244</td>\n",
       "      <td>0.0</td>\n",
       "      <td>0.579525</td>\n",
       "      <td>5.622353e-01</td>\n",
       "      <td>0.830754</td>\n",
       "    </tr>\n",
       "    <tr>\n",
       "      <th>rbmi_gt_20_DM</th>\n",
       "      <td>-0.006968</td>\n",
       "      <td>0.993056</td>\n",
       "      <td>0.002886</td>\n",
       "      <td>-0.012625</td>\n",
       "      <td>-0.001312</td>\n",
       "      <td>0.987455</td>\n",
       "      <td>0.998689</td>\n",
       "      <td>0.0</td>\n",
       "      <td>-2.414568</td>\n",
       "      <td>1.575389e-02</td>\n",
       "      <td>5.988148</td>\n",
       "    </tr>\n",
       "    <tr>\n",
       "      <th>ln_c_hd_m</th>\n",
       "      <td>-0.068476</td>\n",
       "      <td>0.933816</td>\n",
       "      <td>0.020114</td>\n",
       "      <td>-0.107899</td>\n",
       "      <td>-0.029053</td>\n",
       "      <td>0.897719</td>\n",
       "      <td>0.971365</td>\n",
       "      <td>0.0</td>\n",
       "      <td>-3.404359</td>\n",
       "      <td>6.631949e-04</td>\n",
       "      <td>10.558279</td>\n",
       "    </tr>\n",
       "    <tr>\n",
       "      <th>ln_c_hd_0c</th>\n",
       "      <td>0.163415</td>\n",
       "      <td>1.177525</td>\n",
       "      <td>0.008142</td>\n",
       "      <td>0.147457</td>\n",
       "      <td>0.179373</td>\n",
       "      <td>1.158884</td>\n",
       "      <td>1.196467</td>\n",
       "      <td>0.0</td>\n",
       "      <td>20.070817</td>\n",
       "      <td>1.328038e-89</td>\n",
       "      <td>295.242304</td>\n",
       "    </tr>\n",
       "    <tr>\n",
       "      <th>ln_c_hd_m_ptx</th>\n",
       "      <td>0.086385</td>\n",
       "      <td>1.090226</td>\n",
       "      <td>0.041133</td>\n",
       "      <td>0.005766</td>\n",
       "      <td>0.167005</td>\n",
       "      <td>1.005783</td>\n",
       "      <td>1.181760</td>\n",
       "      <td>0.0</td>\n",
       "      <td>2.100144</td>\n",
       "      <td>3.571620e-02</td>\n",
       "      <td>4.807278</td>\n",
       "    </tr>\n",
       "    <tr>\n",
       "      <th>PKPRA_MS</th>\n",
       "      <td>-0.009171</td>\n",
       "      <td>0.990871</td>\n",
       "      <td>0.022695</td>\n",
       "      <td>-0.053652</td>\n",
       "      <td>0.035311</td>\n",
       "      <td>0.947762</td>\n",
       "      <td>1.035941</td>\n",
       "      <td>0.0</td>\n",
       "      <td>-0.404082</td>\n",
       "      <td>6.861528e-01</td>\n",
       "      <td>0.543398</td>\n",
       "    </tr>\n",
       "    <tr>\n",
       "      <th>PKPRA_1080</th>\n",
       "      <td>0.048136</td>\n",
       "      <td>1.049313</td>\n",
       "      <td>0.010164</td>\n",
       "      <td>0.028215</td>\n",
       "      <td>0.068056</td>\n",
       "      <td>1.028617</td>\n",
       "      <td>1.070426</td>\n",
       "      <td>0.0</td>\n",
       "      <td>4.736067</td>\n",
       "      <td>2.179060e-06</td>\n",
       "      <td>18.807863</td>\n",
       "    </tr>\n",
       "    <tr>\n",
       "      <th>PKPRA_GE80</th>\n",
       "      <td>0.187537</td>\n",
       "      <td>1.206275</td>\n",
       "      <td>0.014116</td>\n",
       "      <td>0.159870</td>\n",
       "      <td>0.215203</td>\n",
       "      <td>1.173359</td>\n",
       "      <td>1.240114</td>\n",
       "      <td>0.0</td>\n",
       "      <td>13.285614</td>\n",
       "      <td>2.805471e-40</td>\n",
       "      <td>131.388881</td>\n",
       "    </tr>\n",
       "    <tr>\n",
       "      <th>hispanic</th>\n",
       "      <td>-0.160785</td>\n",
       "      <td>0.851475</td>\n",
       "      <td>0.037629</td>\n",
       "      <td>-0.234537</td>\n",
       "      <td>-0.087033</td>\n",
       "      <td>0.790937</td>\n",
       "      <td>0.916647</td>\n",
       "      <td>0.0</td>\n",
       "      <td>-4.272892</td>\n",
       "      <td>1.929536e-05</td>\n",
       "      <td>15.661387</td>\n",
       "    </tr>\n",
       "    <tr>\n",
       "      <th>CAN_RACE_BLACK</th>\n",
       "      <td>0.206946</td>\n",
       "      <td>1.229916</td>\n",
       "      <td>0.036393</td>\n",
       "      <td>0.135618</td>\n",
       "      <td>0.278275</td>\n",
       "      <td>1.145244</td>\n",
       "      <td>1.320849</td>\n",
       "      <td>0.0</td>\n",
       "      <td>5.686453</td>\n",
       "      <td>1.297048e-08</td>\n",
       "      <td>26.200193</td>\n",
       "    </tr>\n",
       "    <tr>\n",
       "      <th>CAN_RACE_asian</th>\n",
       "      <td>-0.275253</td>\n",
       "      <td>0.759380</td>\n",
       "      <td>0.040487</td>\n",
       "      <td>-0.354606</td>\n",
       "      <td>-0.195899</td>\n",
       "      <td>0.701450</td>\n",
       "      <td>0.822095</td>\n",
       "      <td>0.0</td>\n",
       "      <td>-6.798495</td>\n",
       "      <td>1.057179e-11</td>\n",
       "      <td>36.460989</td>\n",
       "    </tr>\n",
       "    <tr>\n",
       "      <th>CAN_RACE_WHITE</th>\n",
       "      <td>0.125796</td>\n",
       "      <td>1.134051</td>\n",
       "      <td>0.036303</td>\n",
       "      <td>0.054643</td>\n",
       "      <td>0.196950</td>\n",
       "      <td>1.056164</td>\n",
       "      <td>1.217683</td>\n",
       "      <td>0.0</td>\n",
       "      <td>3.465148</td>\n",
       "      <td>5.299392e-04</td>\n",
       "      <td>10.881886</td>\n",
       "    </tr>\n",
       "    <tr>\n",
       "      <th>mm0</th>\n",
       "      <td>0.015446</td>\n",
       "      <td>1.015566</td>\n",
       "      <td>0.027133</td>\n",
       "      <td>-0.037733</td>\n",
       "      <td>0.068626</td>\n",
       "      <td>0.962970</td>\n",
       "      <td>1.071036</td>\n",
       "      <td>0.0</td>\n",
       "      <td>0.569284</td>\n",
       "      <td>5.691631e-01</td>\n",
       "      <td>0.813086</td>\n",
       "    </tr>\n",
       "    <tr>\n",
       "      <th>mmDR0</th>\n",
       "      <td>-0.061162</td>\n",
       "      <td>0.940671</td>\n",
       "      <td>0.016541</td>\n",
       "      <td>-0.093581</td>\n",
       "      <td>-0.028743</td>\n",
       "      <td>0.910664</td>\n",
       "      <td>0.971666</td>\n",
       "      <td>0.0</td>\n",
       "      <td>-3.697672</td>\n",
       "      <td>2.175857e-04</td>\n",
       "      <td>12.166128</td>\n",
       "    </tr>\n",
       "    <tr>\n",
       "      <th>mmDR1</th>\n",
       "      <td>-0.044867</td>\n",
       "      <td>0.956124</td>\n",
       "      <td>0.009619</td>\n",
       "      <td>-0.063721</td>\n",
       "      <td>-0.026014</td>\n",
       "      <td>0.938267</td>\n",
       "      <td>0.974322</td>\n",
       "      <td>0.0</td>\n",
       "      <td>-4.664297</td>\n",
       "      <td>3.096739e-06</td>\n",
       "      <td>18.300819</td>\n",
       "    </tr>\n",
       "    <tr>\n",
       "      <th>mmA0</th>\n",
       "      <td>-0.057680</td>\n",
       "      <td>0.943952</td>\n",
       "      <td>0.016520</td>\n",
       "      <td>-0.090059</td>\n",
       "      <td>-0.025301</td>\n",
       "      <td>0.913877</td>\n",
       "      <td>0.975016</td>\n",
       "      <td>0.0</td>\n",
       "      <td>-3.491487</td>\n",
       "      <td>4.803403e-04</td>\n",
       "      <td>11.023656</td>\n",
       "    </tr>\n",
       "    <tr>\n",
       "      <th>mmA1</th>\n",
       "      <td>-0.001750</td>\n",
       "      <td>0.998251</td>\n",
       "      <td>0.009153</td>\n",
       "      <td>-0.019689</td>\n",
       "      <td>0.016189</td>\n",
       "      <td>0.980503</td>\n",
       "      <td>1.016320</td>\n",
       "      <td>0.0</td>\n",
       "      <td>-0.191233</td>\n",
       "      <td>8.483428e-01</td>\n",
       "      <td>0.237281</td>\n",
       "    </tr>\n",
       "    <tr>\n",
       "      <th>mmB0</th>\n",
       "      <td>-0.091181</td>\n",
       "      <td>0.912853</td>\n",
       "      <td>0.020688</td>\n",
       "      <td>-0.131729</td>\n",
       "      <td>-0.050633</td>\n",
       "      <td>0.876579</td>\n",
       "      <td>0.950627</td>\n",
       "      <td>0.0</td>\n",
       "      <td>-4.407438</td>\n",
       "      <td>1.046007e-05</td>\n",
       "      <td>16.544748</td>\n",
       "    </tr>\n",
       "    <tr>\n",
       "      <th>mmB1</th>\n",
       "      <td>-0.021520</td>\n",
       "      <td>0.978710</td>\n",
       "      <td>0.009887</td>\n",
       "      <td>-0.040897</td>\n",
       "      <td>-0.002143</td>\n",
       "      <td>0.959928</td>\n",
       "      <td>0.997860</td>\n",
       "      <td>0.0</td>\n",
       "      <td>-2.176685</td>\n",
       "      <td>2.950410e-02</td>\n",
       "      <td>5.082941</td>\n",
       "    </tr>\n",
       "    <tr>\n",
       "      <th>mmC0</th>\n",
       "      <td>-0.009963</td>\n",
       "      <td>0.990086</td>\n",
       "      <td>0.028513</td>\n",
       "      <td>-0.065848</td>\n",
       "      <td>0.045921</td>\n",
       "      <td>0.936273</td>\n",
       "      <td>1.046992</td>\n",
       "      <td>0.0</td>\n",
       "      <td>-0.349434</td>\n",
       "      <td>7.267638e-01</td>\n",
       "      <td>0.460442</td>\n",
       "    </tr>\n",
       "    <tr>\n",
       "      <th>mmC1</th>\n",
       "      <td>0.033732</td>\n",
       "      <td>1.034307</td>\n",
       "      <td>0.011376</td>\n",
       "      <td>0.011435</td>\n",
       "      <td>0.056028</td>\n",
       "      <td>1.011501</td>\n",
       "      <td>1.057627</td>\n",
       "      <td>0.0</td>\n",
       "      <td>2.965196</td>\n",
       "      <td>3.024898e-03</td>\n",
       "      <td>8.368898</td>\n",
       "    </tr>\n",
       "    <tr>\n",
       "      <th>mmDQ0</th>\n",
       "      <td>0.003081</td>\n",
       "      <td>1.003086</td>\n",
       "      <td>0.013622</td>\n",
       "      <td>-0.023617</td>\n",
       "      <td>0.029780</td>\n",
       "      <td>0.976660</td>\n",
       "      <td>1.030228</td>\n",
       "      <td>0.0</td>\n",
       "      <td>0.226210</td>\n",
       "      <td>8.210380e-01</td>\n",
       "      <td>0.284479</td>\n",
       "    </tr>\n",
       "    <tr>\n",
       "      <th>mmDQ1</th>\n",
       "      <td>-0.020794</td>\n",
       "      <td>0.979421</td>\n",
       "      <td>0.009206</td>\n",
       "      <td>-0.038837</td>\n",
       "      <td>-0.002750</td>\n",
       "      <td>0.961907</td>\n",
       "      <td>0.997254</td>\n",
       "      <td>0.0</td>\n",
       "      <td>-2.258672</td>\n",
       "      <td>2.390379e-02</td>\n",
       "      <td>5.386617</td>\n",
       "    </tr>\n",
       "  </tbody>\n",
       "</table>\n",
       "</div>"
      ],
      "text/plain": [
       "                          coef  exp(coef)  se(coef)  coef lower 95%  \\\n",
       "covariate                                                             \n",
       "Bin_0                 0.117334   1.124495  0.012832        0.092184   \n",
       "shared                0.112065   1.118586  0.010199        0.092076   \n",
       "DCD                   0.077905   1.081020  0.014360        0.049761   \n",
       "DON_AGE              -0.010669   0.989388  0.004817       -0.020111   \n",
       "donage_slope_ge18     0.020325   1.020533  0.004956        0.010612   \n",
       "dcadcodanox           0.043745   1.044716  0.012457        0.019329   \n",
       "dcadcodcva            0.068155   1.070532  0.010874        0.046843   \n",
       "dcadcodcnst          -0.001608   0.998393  0.051353       -0.102258   \n",
       "dcadcodoth            0.059343   1.061139  0.027605        0.005239   \n",
       "don_cmv_negative     -0.011722   0.988346  0.008646       -0.028668   \n",
       "don_htn_0c            0.139337   1.149511  0.010542        0.118674   \n",
       "ln_don_wgt_kg_0c     -0.288674   0.749257  0.078631       -0.442788   \n",
       "ln_don_wgt_kg_0c_s55  0.264146   1.302318  0.084573        0.098386   \n",
       "don_ecd               0.251326   1.285729  0.053599        0.146274   \n",
       "age_ecd              -0.003573   0.996433  0.000890       -0.005318   \n",
       "yearslice            -0.053590   0.947820  0.001227       -0.055996   \n",
       "REC_AGE_AT_TX         0.055266   1.056822  0.005741        0.044014   \n",
       "rec_age_spline_35    -0.005484   0.994531  0.001331       -0.008092   \n",
       "rec_age_spline_50     0.029098   1.029525  0.002440        0.024315   \n",
       "rec_age_spline_65     0.012182   1.012257  0.002597        0.007093   \n",
       "diab_noted           -0.030065   0.970383  0.097906       -0.221956   \n",
       "age_diab              0.009507   1.009553  0.002069        0.005452   \n",
       "dm_can_age_spline_50 -0.015508   0.984611  0.002911       -0.021213   \n",
       "can_dgn_htn_ndm       0.094397   1.098996  0.013134        0.068655   \n",
       "can_dgn_pk_ndm       -0.277392   0.757758  0.019347       -0.315311   \n",
       "can_dgn_gd_ndm       -0.008433   0.991603  0.014723       -0.037290   \n",
       "rec_prev_ki_tx        0.150518   1.162437  0.016082        0.118999   \n",
       "rec_prev_ki_tx_dm    -0.060644   0.941158  0.029231       -0.117936   \n",
       "rbmi_0c              -0.031551   0.968941  0.007345       -0.045947   \n",
       "rbmi_miss            -0.508190   0.601583  0.144712       -0.791821   \n",
       "rbmi_gt_20            0.045074   1.046106  0.007681        0.030021   \n",
       "rbmi_DM               0.000966   1.000967  0.001668       -0.002302   \n",
       "rbmi_gt_20_DM        -0.006968   0.993056  0.002886       -0.012625   \n",
       "ln_c_hd_m            -0.068476   0.933816  0.020114       -0.107899   \n",
       "ln_c_hd_0c            0.163415   1.177525  0.008142        0.147457   \n",
       "ln_c_hd_m_ptx         0.086385   1.090226  0.041133        0.005766   \n",
       "PKPRA_MS             -0.009171   0.990871  0.022695       -0.053652   \n",
       "PKPRA_1080            0.048136   1.049313  0.010164        0.028215   \n",
       "PKPRA_GE80            0.187537   1.206275  0.014116        0.159870   \n",
       "hispanic             -0.160785   0.851475  0.037629       -0.234537   \n",
       "CAN_RACE_BLACK        0.206946   1.229916  0.036393        0.135618   \n",
       "CAN_RACE_asian       -0.275253   0.759380  0.040487       -0.354606   \n",
       "CAN_RACE_WHITE        0.125796   1.134051  0.036303        0.054643   \n",
       "mm0                   0.015446   1.015566  0.027133       -0.037733   \n",
       "mmDR0                -0.061162   0.940671  0.016541       -0.093581   \n",
       "mmDR1                -0.044867   0.956124  0.009619       -0.063721   \n",
       "mmA0                 -0.057680   0.943952  0.016520       -0.090059   \n",
       "mmA1                 -0.001750   0.998251  0.009153       -0.019689   \n",
       "mmB0                 -0.091181   0.912853  0.020688       -0.131729   \n",
       "mmB1                 -0.021520   0.978710  0.009887       -0.040897   \n",
       "mmC0                 -0.009963   0.990086  0.028513       -0.065848   \n",
       "mmC1                  0.033732   1.034307  0.011376        0.011435   \n",
       "mmDQ0                 0.003081   1.003086  0.013622       -0.023617   \n",
       "mmDQ1                -0.020794   0.979421  0.009206       -0.038837   \n",
       "\n",
       "                      coef upper 95%  exp(coef) lower 95%  \\\n",
       "covariate                                                   \n",
       "Bin_0                       0.142485             1.096566   \n",
       "shared                      0.132055             1.096448   \n",
       "DCD                         0.106050             1.051020   \n",
       "DON_AGE                    -0.001227             0.980090   \n",
       "donage_slope_ge18           0.030038             1.010668   \n",
       "dcadcodanox                 0.068160             1.019517   \n",
       "dcadcodcva                  0.089468             1.047957   \n",
       "dcadcodcnst                 0.099041             0.902796   \n",
       "dcadcodoth                  0.113447             1.005253   \n",
       "don_cmv_negative            0.005224             0.971739   \n",
       "don_htn_0c                  0.159999             1.126003   \n",
       "ln_don_wgt_kg_0c           -0.134559             0.642243   \n",
       "ln_don_wgt_kg_0c_s55        0.429905             1.103389   \n",
       "don_ecd                     0.356378             1.157513   \n",
       "age_ecd                    -0.001828             0.994696   \n",
       "yearslice                  -0.051185             0.945543   \n",
       "REC_AGE_AT_TX               0.066517             1.044997   \n",
       "rec_age_spline_35          -0.002875             0.991941   \n",
       "rec_age_spline_50           0.033880             1.024614   \n",
       "rec_age_spline_65           0.017272             1.007118   \n",
       "diab_noted                  0.161827             0.800951   \n",
       "age_diab                    0.013562             1.005467   \n",
       "dm_can_age_spline_50       -0.009804             0.979010   \n",
       "can_dgn_htn_ndm             0.120139             1.071067   \n",
       "can_dgn_pk_ndm             -0.239473             0.729562   \n",
       "can_dgn_gd_ndm              0.020424             0.963397   \n",
       "rec_prev_ki_tx              0.182038             1.126369   \n",
       "rec_prev_ki_tx_dm          -0.003352             0.888753   \n",
       "rbmi_0c                    -0.017156             0.955092   \n",
       "rbmi_miss                  -0.224559             0.453019   \n",
       "rbmi_gt_20                  0.060128             1.030476   \n",
       "rbmi_DM                     0.004235             0.997700   \n",
       "rbmi_gt_20_DM              -0.001312             0.987455   \n",
       "ln_c_hd_m                  -0.029053             0.897719   \n",
       "ln_c_hd_0c                  0.179373             1.158884   \n",
       "ln_c_hd_m_ptx               0.167005             1.005783   \n",
       "PKPRA_MS                    0.035311             0.947762   \n",
       "PKPRA_1080                  0.068056             1.028617   \n",
       "PKPRA_GE80                  0.215203             1.173359   \n",
       "hispanic                   -0.087033             0.790937   \n",
       "CAN_RACE_BLACK              0.278275             1.145244   \n",
       "CAN_RACE_asian             -0.195899             0.701450   \n",
       "CAN_RACE_WHITE              0.196950             1.056164   \n",
       "mm0                         0.068626             0.962970   \n",
       "mmDR0                      -0.028743             0.910664   \n",
       "mmDR1                      -0.026014             0.938267   \n",
       "mmA0                       -0.025301             0.913877   \n",
       "mmA1                        0.016189             0.980503   \n",
       "mmB0                       -0.050633             0.876579   \n",
       "mmB1                       -0.002143             0.959928   \n",
       "mmC0                        0.045921             0.936273   \n",
       "mmC1                        0.056028             1.011501   \n",
       "mmDQ0                       0.029780             0.976660   \n",
       "mmDQ1                      -0.002750             0.961907   \n",
       "\n",
       "                      exp(coef) upper 95%  cmp to          z             p  \\\n",
       "covariate                                                                    \n",
       "Bin_0                            1.153135     0.0   9.143792  6.029981e-20   \n",
       "shared                           1.141171     0.0  10.988088  4.360682e-28   \n",
       "DCD                              1.111878     0.0   5.425229  5.788038e-08   \n",
       "DON_AGE                          0.998774     0.0  -2.214642  2.678464e-02   \n",
       "donage_slope_ge18                1.030494     0.0   4.101222  4.109743e-05   \n",
       "dcadcodanox                      1.070537     0.0   3.511603  4.454134e-04   \n",
       "dcadcodcva                       1.093592     0.0   6.267749  3.663045e-10   \n",
       "dcadcodcnst                      1.104112     0.0  -0.031321  9.750135e-01   \n",
       "dcadcodoth                       1.120132     0.0   2.149748  3.157518e-02   \n",
       "don_cmv_negative                 1.005238     0.0  -1.355768  1.751731e-01   \n",
       "don_htn_0c                       1.173510     0.0  13.216934  7.006185e-40   \n",
       "ln_don_wgt_kg_0c                 0.874101     0.0  -3.671232  2.413837e-04   \n",
       "ln_don_wgt_kg_0c_s55             1.537112     0.0   3.123294  1.788391e-03   \n",
       "don_ecd                          1.428147     0.0   4.689012  2.745272e-06   \n",
       "age_ecd                          0.998174     0.0  -4.012743  6.001733e-05   \n",
       "yearslice                        0.950103     0.0 -43.664025  0.000000e+00   \n",
       "REC_AGE_AT_TX                    1.068780     0.0   9.627046  6.147107e-22   \n",
       "rec_age_spline_35                0.997129     0.0  -4.120616  3.778609e-05   \n",
       "rec_age_spline_50                1.034460     0.0  11.925780  8.686671e-33   \n",
       "rec_age_spline_65                1.017422     0.0   4.691297  2.714789e-06   \n",
       "diab_noted                       1.175656     0.0  -0.307078  7.587842e-01   \n",
       "age_diab                         1.013654     0.0   4.595393  4.319353e-06   \n",
       "dm_can_age_spline_50             0.990244     0.0  -5.328132  9.922827e-08   \n",
       "can_dgn_htn_ndm                  1.127653     0.0   7.187330  6.607071e-13   \n",
       "can_dgn_pk_ndm                   0.787042     0.0 -14.337974  1.266998e-46   \n",
       "can_dgn_gd_ndm                   1.020634     0.0  -0.572748  5.668152e-01   \n",
       "rec_prev_ki_tx                   1.199659     0.0   9.359674  7.998342e-21   \n",
       "rec_prev_ki_tx_dm                0.996653     0.0  -2.074648  3.801915e-02   \n",
       "rbmi_0c                          0.982991     0.0  -4.295667  1.741692e-05   \n",
       "rbmi_miss                        0.798868     0.0  -3.511730  4.452005e-04   \n",
       "rbmi_gt_20                       1.061973     0.0   5.868540  4.396482e-09   \n",
       "rbmi_DM                          1.004244     0.0   0.579525  5.622353e-01   \n",
       "rbmi_gt_20_DM                    0.998689     0.0  -2.414568  1.575389e-02   \n",
       "ln_c_hd_m                        0.971365     0.0  -3.404359  6.631949e-04   \n",
       "ln_c_hd_0c                       1.196467     0.0  20.070817  1.328038e-89   \n",
       "ln_c_hd_m_ptx                    1.181760     0.0   2.100144  3.571620e-02   \n",
       "PKPRA_MS                         1.035941     0.0  -0.404082  6.861528e-01   \n",
       "PKPRA_1080                       1.070426     0.0   4.736067  2.179060e-06   \n",
       "PKPRA_GE80                       1.240114     0.0  13.285614  2.805471e-40   \n",
       "hispanic                         0.916647     0.0  -4.272892  1.929536e-05   \n",
       "CAN_RACE_BLACK                   1.320849     0.0   5.686453  1.297048e-08   \n",
       "CAN_RACE_asian                   0.822095     0.0  -6.798495  1.057179e-11   \n",
       "CAN_RACE_WHITE                   1.217683     0.0   3.465148  5.299392e-04   \n",
       "mm0                              1.071036     0.0   0.569284  5.691631e-01   \n",
       "mmDR0                            0.971666     0.0  -3.697672  2.175857e-04   \n",
       "mmDR1                            0.974322     0.0  -4.664297  3.096739e-06   \n",
       "mmA0                             0.975016     0.0  -3.491487  4.803403e-04   \n",
       "mmA1                             1.016320     0.0  -0.191233  8.483428e-01   \n",
       "mmB0                             0.950627     0.0  -4.407438  1.046007e-05   \n",
       "mmB1                             0.997860     0.0  -2.176685  2.950410e-02   \n",
       "mmC0                             1.046992     0.0  -0.349434  7.267638e-01   \n",
       "mmC1                             1.057627     0.0   2.965196  3.024898e-03   \n",
       "mmDQ0                            1.030228     0.0   0.226210  8.210380e-01   \n",
       "mmDQ1                            0.997254     0.0  -2.258672  2.390379e-02   \n",
       "\n",
       "                        -log2(p)  \n",
       "covariate                         \n",
       "Bin_0                  63.846408  \n",
       "shared                 90.889433  \n",
       "DCD                    24.042350  \n",
       "DON_AGE                 5.222450  \n",
       "donage_slope_ge18      14.570592  \n",
       "dcadcodanox            11.132567  \n",
       "dcadcodcva             31.346238  \n",
       "dcadcodcnst             0.036506  \n",
       "dcadcodoth              4.985065  \n",
       "don_cmv_negative        2.513147  \n",
       "don_htn_0c            130.068495  \n",
       "ln_don_wgt_kg_0c       12.016384  \n",
       "ln_don_wgt_kg_0c_s55    9.127122  \n",
       "don_ecd                18.474619  \n",
       "age_ecd                14.024261  \n",
       "yearslice                    inf  \n",
       "REC_AGE_AT_TX          70.462510  \n",
       "rec_age_spline_35      14.691785  \n",
       "rec_age_spline_50     106.504824  \n",
       "rec_age_spline_65      18.490729  \n",
       "diab_noted              0.398238  \n",
       "age_diab               17.820753  \n",
       "dm_can_age_spline_50   23.264674  \n",
       "can_dgn_htn_ndm        40.461054  \n",
       "can_dgn_pk_ndm        152.467278  \n",
       "can_dgn_gd_ndm          0.819050  \n",
       "rec_prev_ki_tx         66.760789  \n",
       "rec_prev_ki_tx_dm       4.717130  \n",
       "rbmi_0c                15.809151  \n",
       "rbmi_miss              11.133257  \n",
       "rbmi_gt_20             27.761003  \n",
       "rbmi_DM                 0.830754  \n",
       "rbmi_gt_20_DM           5.988148  \n",
       "ln_c_hd_m              10.558279  \n",
       "ln_c_hd_0c            295.242304  \n",
       "ln_c_hd_m_ptx           4.807278  \n",
       "PKPRA_MS                0.543398  \n",
       "PKPRA_1080             18.807863  \n",
       "PKPRA_GE80            131.388881  \n",
       "hispanic               15.661387  \n",
       "CAN_RACE_BLACK         26.200193  \n",
       "CAN_RACE_asian         36.460989  \n",
       "CAN_RACE_WHITE         10.881886  \n",
       "mm0                     0.813086  \n",
       "mmDR0                  12.166128  \n",
       "mmDR1                  18.300819  \n",
       "mmA0                   11.023656  \n",
       "mmA1                    0.237281  \n",
       "mmB0                   16.544748  \n",
       "mmB1                    5.082941  \n",
       "mmC0                    0.460442  \n",
       "mmC1                    8.368898  \n",
       "mmDQ0                   0.284479  \n",
       "mmDQ1                   5.386617  "
      ]
     },
     "execution_count": 12,
     "metadata": {},
     "output_type": "execute_result"
    }
   ],
   "source": [
    "summary = fibers.get_cox_prop_hazard(data, bin_index)\n",
    "bin_hr = summary['exp(coef)'].iloc[0]\n",
    "bin_low_CI = summary['exp(coef) lower 95%'].iloc[0]\n",
    "bin_upper_CI = summary['exp(coef) upper 95%'].iloc[0]\n",
    "bin_p_val = summary['p'].iloc[0]\n",
    "print(\"Bin HR: \"+str(bin_hr)+\" (\"+str(bin_low_CI)+\"-\"+str(bin_upper_CI)+\")\")\n",
    "print(\"Bin HR p-value: \"+str(bin_p_val))\n",
    "summary.to_csv(output_folder+'/'+'Cox_PH_'+str(bin_index)+'_'+data_name+'.csv', index=False)\n",
    "summary"
   ]
  },
  {
   "cell_type": "markdown",
   "id": "c5a71881",
   "metadata": {},
   "source": [
    "### Check and View Any Top Bin Ties"
   ]
  },
  {
   "cell_type": "code",
   "execution_count": 13,
   "id": "47ea14ab",
   "metadata": {},
   "outputs": [
    {
     "name": "stdout",
     "output_type": "stream",
     "text": [
      "Only one top performing bin found\n"
     ]
    }
   ],
   "source": [
    "fibers.report_ties()"
   ]
  },
  {
   "cell_type": "markdown",
   "id": "7b72d504",
   "metadata": {},
   "source": [
    "***\n",
    "## Bin Population Examination\n",
    "### Plot: Basic Bin Population Heatmap"
   ]
  },
  {
   "cell_type": "code",
   "execution_count": 14,
   "id": "24d7b54c",
   "metadata": {},
   "outputs": [
    {
     "data": {
      "image/png": "[encoded data removed]",
      "text/plain": [
       "<Figure size 5000x3300 with 1 Axes>"
      ]
     },
     "metadata": {},
     "output_type": "display_data"
    }
   ],
   "source": [
    "fibers.get_bin_population_heatmap_plot(save=True,output_folder=output_folder,data_name=data_name)"
   ]
  },
  {
   "cell_type": "markdown",
   "id": "eed28393",
   "metadata": {},
   "source": [
    "### Plot: Custom Bin Population Heatmap"
   ]
  },
  {
   "cell_type": "code",
   "execution_count": 15,
   "id": "859d2e78",
   "metadata": {},
   "outputs": [
    {
     "data": {
      "image/png": "[encoded data removed]",
      "text/plain": [
       "<Figure size 5000x3300 with 1 Axes>"
      ]
     },
     "metadata": {},
     "output_type": "display_data"
    }
   ],
   "source": [
    "group_names=[\"A\", \"B\", \"C\", \"DQB\", \"DRB\"]\n",
    "legend_group_info = ['Not in Bin','HLA-A','HLA-B', 'HLA-C','HLA-DQB','HLA-DRB'] #2 default colors first followed by additional color descriptions in legend\n",
    "color_features = [['B1', 'B10', 'B100', 'B101', 'B102', 'B103', 'B104', 'B105', 'B106', 'B107', 'B108', 'B109', 'B11', 'B110', 'B111', 'B112', 'B113', 'B114', 'B115', 'B116', 'B117', 'B118', 'B119', 'B12', 'B120', 'B121', 'B122', 'B123', 'B124', 'B125', 'B126', 'B127', 'B128', 'B129', 'B13', 'B130', 'B131', 'B132', 'B133', 'B134', 'B135', 'B136', 'B137', 'B138', 'B139', 'B14', 'B140', 'B141', 'B142', 'B143', 'B144', 'B145', 'B146', 'B147', 'B148', 'B149', 'B15', 'B150', 'B151', 'B152', 'B153', 'B154', 'B155', 'B156', 'B157', 'B158', 'B159', 'B16', 'B160', 'B161', 'B162', 'B163', 'B164', 'B165', 'B166', 'B167', 'B168', 'B169', 'B17', 'B170', 'B171', 'B172', 'B173', 'B174', 'B175', 'B176', 'B177', 'B178', 'B179', 'B18', 'B180', 'B181', 'B182', 'B183', 'B184', 'B185', 'B186', 'B187', 'B188', 'B189', 'B19', 'B190', 'B191', 'B192', 'B193', 'B194', 'B2', 'B20', 'B21', 'B22', 'B23', 'B24', 'B25', 'B26', 'B27', 'B28', 'B29', 'B3', 'B30', 'B31', 'B32', 'B33', 'B34', 'B35', 'B36', 'B37', 'B38', 'B39', 'B4', 'B40', 'B41', 'B42', 'B43', 'B44', 'B45', 'B46', 'B47', 'B48', 'B49', 'B5', 'B50', 'B51', 'B52', 'B53', 'B54', 'B55', 'B56', 'B57', 'B58', 'B59', 'B6', 'B60', 'B61', 'B62', 'B63', 'B64', 'B65', 'B66', 'B67', 'B68', 'B69', 'B7', 'B70', 'B71', 'B72', 'B73', 'B74', 'B75', 'B76', 'B77', 'B78', 'B79', 'B8', 'B80', 'B81', 'B82', 'B83', 'B84', 'B85', 'B86', 'B87', 'B88', 'B89', 'B9', 'B90', 'B91', 'B92', 'B93', 'B94', 'B95', 'B96', 'B97', 'B98', 'B99'],['C1', 'C10', 'C100', 'C101', 'C102', 'C103', 'C104', 'C105', 'C106', 'C107', 'C108', 'C109', 'C11', 'C110', 'C111', 'C112', 'C113', 'C114', 'C115', 'C116', 'C117', 'C118', 'C119', 'C12', 'C120', 'C121', 'C122', 'C123', 'C124', 'C125', 'C126', 'C127', 'C128', 'C129', 'C13', 'C130', 'C131', 'C132', 'C133', 'C134', 'C135', 'C136', 'C137', 'C138', 'C139', 'C14', 'C140', 'C141', 'C142', 'C143', 'C144', 'C145', 'C146', 'C147', 'C148', 'C149', 'C15', 'C150', 'C151', 'C152', 'C153', 'C154', 'C155', 'C156', 'C157', 'C158', 'C159', 'C16', 'C160', 'C161', 'C162', 'C163', 'C164', 'C165', 'C166', 'C167', 'C168', 'C169', 'C17', 'C170', 'C171', 'C172', 'C173', 'C174', 'C175', 'C176', 'C177', 'C178', 'C179', 'C18', 'C180', 'C181', 'C182', 'C183', 'C184', 'C185', 'C186', 'C187', 'C188', 'C189', 'C19', 'C190', 'C191', 'C192', 'C193', 'C194', 'C195', 'C196', 'C197', 'C198', 'C199', 'C2', 'C20', 'C200', 'C201', 'C202', 'C203', 'C204', 'C205', 'C21', 'C22', 'C23', 'C24', 'C25', 'C26', 'C27', 'C28', 'C29', 'C3', 'C30', 'C31', 'C32', 'C33', 'C34', 'C35', 'C36', 'C37', 'C38', 'C39', 'C4', 'C40', 'C41', 'C42', 'C43', 'C44', 'C45', 'C46', 'C47', 'C48', 'C49', 'C5', 'C50', 'C51', 'C52', 'C53', 'C54', 'C55', 'C56', 'C57', 'C58', 'C59', 'C6', 'C60', 'C61', 'C62', 'C63', 'C64', 'C65', 'C66', 'C67', 'C68', 'C69', 'C7', 'C70', 'C71', 'C72', 'C73', 'C74', 'C75', 'C76', 'C77', 'C78', 'C79', 'C8', 'C80', 'C81', 'C82', 'C83', 'C84', 'C85', 'C86', 'C87', 'C88', 'C89', 'C9', 'C90', 'C91', 'C92', 'C93', 'C94', 'C95', 'C96', 'C97', 'C98', 'C99'],['DQB11', 'DQB110', 'DQB111', 'DQB112', 'DQB113', 'DQB114', 'DQB115', 'DQB116', 'DQB117', 'DQB118', 'DQB119', 'DQB12', 'DQB120', 'DQB121', 'DQB122', 'DQB123', 'DQB124', 'DQB125', 'DQB126', 'DQB127', 'DQB128', 'DQB129', 'DQB13', 'DQB130', 'DQB131', 'DQB132', 'DQB133', 'DQB134', 'DQB135', 'DQB136', 'DQB137', 'DQB138', 'DQB139', 'DQB14', 'DQB140', 'DQB141', 'DQB142', 'DQB143', 'DQB144', 'DQB145', 'DQB146', 'DQB147', 'DQB148', 'DQB149', 'DQB15', 'DQB150', 'DQB151', 'DQB152', 'DQB153', 'DQB154', 'DQB155', 'DQB156', 'DQB157', 'DQB158', 'DQB159', 'DQB16', 'DQB160', 'DQB161', 'DQB162', 'DQB163', 'DQB164', 'DQB165', 'DQB166', 'DQB167', 'DQB168', 'DQB169', 'DQB17', 'DQB170', 'DQB171', 'DQB172', 'DQB173', 'DQB174', 'DQB175', 'DQB176', 'DQB177', 'DQB178', 'DQB179', 'DQB18', 'DQB180', 'DQB181', 'DQB182', 'DQB183', 'DQB184', 'DQB185', 'DQB186', 'DQB187', 'DQB188', 'DQB189', 'DQB19', 'DQB190', 'DQB191', 'DQB192', 'DQB193', 'DQB194'],[ 'DRB11', 'DRB110', 'DRB111', 'DRB112', 'DRB113', 'DRB114', 'DRB115', 'DRB116', 'DRB117', 'DRB118', 'DRB119', 'DRB12', 'DRB120', 'DRB121', 'DRB122', 'DRB123', 'DRB124', 'DRB125', 'DRB126', 'DRB127', 'DRB128', 'DRB129', 'DRB13', 'DRB130', 'DRB131', 'DRB132', 'DRB133', 'DRB134', 'DRB135', 'DRB136', 'DRB137', 'DRB138', 'DRB139', 'DRB14', 'DRB140', 'DRB141', 'DRB142', 'DRB143', 'DRB144', 'DRB145', 'DRB146', 'DRB147', 'DRB148', 'DRB149', 'DRB15', 'DRB150', 'DRB151', 'DRB152', 'DRB153', 'DRB154', 'DRB155', 'DRB156', 'DRB157', 'DRB158', 'DRB159', 'DRB16', 'DRB160', 'DRB161', 'DRB162', 'DRB163', 'DRB164', 'DRB165', 'DRB166', 'DRB167', 'DRB168', 'DRB169', 'DRB17', 'DRB170', 'DRB171', 'DRB172', 'DRB173', 'DRB174', 'DRB175', 'DRB176', 'DRB177', 'DRB178', 'DRB179', 'DRB18', 'DRB180', 'DRB181', 'DRB182', 'DRB183', 'DRB184', 'DRB185', 'DRB186', 'DRB187', 'DRB188', 'DRB189', 'DRB19', 'DRB190', 'DRB191', 'DRB192', 'DRB193', 'DRB194']]\n",
    "colors = [(1, 0, 0),(0.3,1,0.2),(1, 0.5, 0),(1,0.5,1)] # blue,red,green,orange,pink ---Alternatively orange (1, 0.5, 0)\n",
    "default_colors = [(.95, .95, 1),(0, 0, 1)] #very light blue and blue\n",
    "max_bins = 100\n",
    "max_features = 100\n",
    "\n",
    "fibers.get_custom_bin_population_heatmap_plot(group_names,legend_group_info,color_features,colors,default_colors,max_bins,max_features,save=True,output_folder=output_folder,data_name=data_name)"
   ]
  },
  {
   "cell_type": "markdown",
   "id": "5a47d6f1",
   "metadata": {},
   "source": [
    "### Plot: Bin Population Pareto Front\n",
    "In plot, dot colors indicate the 'group strata prop' of the given bin, and dot size is relative to the 'group threshold of that bin'."
   ]
  },
  {
   "cell_type": "code",
   "execution_count": 16,
   "id": "3a662418",
   "metadata": {},
   "outputs": [
    {
     "data": {
      "image/png": "[encoded data removed]",
      "text/plain": [
       "<Figure size 500x500 with 2 Axes>"
      ]
     },
     "metadata": {},
     "output_type": "display_data"
    }
   ],
   "source": [
    "fibers.get_pareto_plot(save=True,output_folder=output_folder,data_name=data_name)"
   ]
  },
  {
   "cell_type": "markdown",
   "id": "848d87c6",
   "metadata": {},
   "source": [
    "### Plot: Estimated Feature Tracking Scores\n",
    "These scores accumulate throughout the training process, and do not nesessarily reflect feature importance of individual bins or the final bin population."
   ]
  },
  {
   "cell_type": "code",
   "execution_count": 17,
   "id": "9746c05d",
   "metadata": {},
   "outputs": [
    {
     "data": {
      "image/png": "[encoded data removed]",
      "text/plain": [
       "<Figure size 1600x700 with 1 Axes>"
      ]
     },
     "metadata": {},
     "output_type": "display_data"
    }
   ],
   "source": [
    "fibers.get_feature_tracking_plot(max_features=40,save=True,output_folder=output_folder,data_name=data_name)"
   ]
  },
  {
   "cell_type": "markdown",
   "id": "3888ae5d",
   "metadata": {},
   "source": [
    "### Plot: Dataset Covariate Residuals (if applicable)"
   ]
  },
  {
   "cell_type": "code",
   "execution_count": 18,
   "id": "da5aa741",
   "metadata": {},
   "outputs": [],
   "source": [
    "if fibers.fitness_metric == 'residuals' or fibers.fitness_metric == 'log_rank_residuals':  \n",
    "    fibers.get_residuals_histogram(save=True,output_folder=output_folder,data_name=data_name)"
   ]
  },
  {
   "cell_type": "markdown",
   "id": "a45ff2b1",
   "metadata": {},
   "source": [
    "### Plot: Bin Log-Rank Scores Vs. Residuals Scores (if applicable)\n",
    "In plot, dot colors indicate the 'group strata prop' of the given bin, and dot size is relative to the 'group threshold of that bin'."
   ]
  },
  {
   "cell_type": "code",
   "execution_count": 19,
   "id": "674e49cf",
   "metadata": {},
   "outputs": [],
   "source": [
    "if fibers.fitness_metric == 'log_rank_residuals':\n",
    "    fibers.get_log_rank_residuals_plot(save=True,output_folder=output_folder,data_name=data_name)"
   ]
  },
  {
   "cell_type": "markdown",
   "id": "9d413ace",
   "metadata": {},
   "source": [
    "###  Evaluate All Bins in Population using Cox PH Model (Can be slow)"
   ]
  },
  {
   "cell_type": "code",
   "execution_count": 20,
   "id": "338c76fb",
   "metadata": {},
   "outputs": [
    {
     "name": "stdout",
     "output_type": "stream",
     "text": [
      "Dropped 0 invariant feature columns.\n",
      "Iteration 1: norm_delta = 8.93e-02, step_size = 0.9500, log_lik = -674771.34752, newton_decrement = 2.50e+02, seconds_since_start = 1.2\n",
      "Iteration 2: norm_delta = 8.87e-03, step_size = 0.9500, log_lik = -674515.78407, newton_decrement = 2.25e+00, seconds_since_start = 2.5\n",
      "Iteration 3: norm_delta = 4.89e-04, step_size = 0.9500, log_lik = -674513.53314, newton_decrement = 6.78e-03, seconds_since_start = 3.7\n",
      "Iteration 4: norm_delta = 1.40e-07, step_size = 1.0000, log_lik = -674513.52636, newton_decrement = 5.54e-10, seconds_since_start = 4.9\n",
      "Convergence success after 4 iterations.\n",
      "Iteration 1: norm_delta = 6.88e-01, step_size = 0.9500, log_lik = -674771.34752, newton_decrement = 6.48e+03, seconds_since_start = 1.2\n",
      "Iteration 2: norm_delta = 1.94e-01, step_size = 0.9500, log_lik = -668536.77766, newton_decrement = 1.49e+02, seconds_since_start = 2.2\n",
      "Iteration 3: norm_delta = 2.00e-02, step_size = 0.9500, log_lik = -668384.89257, newton_decrement = 1.29e+00, seconds_since_start = 3.3\n",
      "Iteration 4: norm_delta = 1.32e-04, step_size = 1.0000, log_lik = -668383.59315, newton_decrement = 6.65e-05, seconds_since_start = 4.4\n",
      "Iteration 5: norm_delta = 7.67e-09, step_size = 1.0000, log_lik = -668383.59309, newton_decrement = 3.06e-13, seconds_since_start = 5.5\n",
      "Convergence success after 5 iterations.\n",
      "Evaluating Bin 0\n",
      "Iteration 1: norm_delta = 8.78e-02, step_size = 0.9500, log_lik = -674771.34752, newton_decrement = 2.45e+02, seconds_since_start = 1.2\n",
      "Iteration 2: norm_delta = 9.41e-03, step_size = 0.9500, log_lik = -674520.02199, newton_decrement = 2.53e+00, seconds_since_start = 2.5\n",
      "Iteration 3: norm_delta = 5.30e-04, step_size = 0.9500, log_lik = -674517.48707, newton_decrement = 7.93e-03, seconds_since_start = 3.7\n",
      "Iteration 4: norm_delta = 1.89e-07, step_size = 1.0000, log_lik = -674517.47914, newton_decrement = 1.01e-09, seconds_since_start = 5.0\n",
      "Convergence success after 4 iterations.\n",
      "Iteration 1: norm_delta = 6.88e-01, step_size = 0.9500, log_lik = -674771.34752, newton_decrement = 6.47e+03, seconds_since_start = 1.1\n",
      "Iteration 2: norm_delta = 1.94e-01, step_size = 0.9500, log_lik = -668538.52189, newton_decrement = 1.49e+02, seconds_since_start = 2.2\n",
      "Iteration 3: norm_delta = 2.00e-02, step_size = 0.9500, log_lik = -668386.44512, newton_decrement = 1.30e+00, seconds_since_start = 3.3\n",
      "Iteration 4: norm_delta = 1.32e-04, step_size = 1.0000, log_lik = -668385.14391, newton_decrement = 6.67e-05, seconds_since_start = 4.4\n",
      "Iteration 5: norm_delta = 7.70e-09, step_size = 1.0000, log_lik = -668385.14385, newton_decrement = 3.08e-13, seconds_since_start = 5.5\n",
      "Convergence success after 5 iterations.\n",
      "Evaluating Bin 1\n",
      "Iteration 1: norm_delta = 8.84e-02, step_size = 0.9500, log_lik = -674771.34752, newton_decrement = 2.44e+02, seconds_since_start = 1.2\n",
      "Iteration 2: norm_delta = 8.64e-03, step_size = 0.9500, log_lik = -674521.41023, newton_decrement = 2.14e+00, seconds_since_start = 2.5\n",
      "Iteration 3: norm_delta = 4.74e-04, step_size = 0.9500, log_lik = -674519.27281, newton_decrement = 6.38e-03, seconds_since_start = 3.7\n",
      "Iteration 4: norm_delta = 1.29e-07, step_size = 1.0000, log_lik = -674519.26642, newton_decrement = 4.71e-10, seconds_since_start = 4.9\n",
      "Convergence success after 4 iterations.\n",
      "Iteration 1: norm_delta = 6.88e-01, step_size = 0.9500, log_lik = -674771.34752, newton_decrement = 6.47e+03, seconds_since_start = 1.1\n",
      "Iteration 2: norm_delta = 1.94e-01, step_size = 0.9500, log_lik = -668538.24417, newton_decrement = 1.49e+02, seconds_since_start = 2.3\n",
      "Iteration 3: norm_delta = 2.00e-02, step_size = 0.9500, log_lik = -668386.38318, newton_decrement = 1.29e+00, seconds_since_start = 3.4\n",
      "Iteration 4: norm_delta = 1.32e-04, step_size = 1.0000, log_lik = -668385.08374, newton_decrement = 6.65e-05, seconds_since_start = 4.5\n",
      "Iteration 5: norm_delta = 7.67e-09, step_size = 1.0000, log_lik = -668385.08368, newton_decrement = 3.06e-13, seconds_since_start = 5.6\n",
      "Convergence success after 5 iterations.\n",
      "Evaluating Bin 2\n",
      "Iteration 1: norm_delta = 8.84e-02, step_size = 0.9500, log_lik = -674771.34752, newton_decrement = 2.44e+02, seconds_since_start = 1.2\n",
      "Iteration 2: norm_delta = 8.64e-03, step_size = 0.9500, log_lik = -674521.41023, newton_decrement = 2.14e+00, seconds_since_start = 2.5\n",
      "Iteration 3: norm_delta = 4.74e-04, step_size = 0.9500, log_lik = -674519.27281, newton_decrement = 6.38e-03, seconds_since_start = 3.7\n",
      "Iteration 4: norm_delta = 1.29e-07, step_size = 1.0000, log_lik = -674519.26642, newton_decrement = 4.71e-10, seconds_since_start = 4.9\n",
      "Convergence success after 4 iterations.\n",
      "Iteration 1: norm_delta = 6.88e-01, step_size = 0.9500, log_lik = -674771.34752, newton_decrement = 6.47e+03, seconds_since_start = 1.1\n",
      "Iteration 2: norm_delta = 1.94e-01, step_size = 0.9500, log_lik = -668538.24417, newton_decrement = 1.49e+02, seconds_since_start = 2.2\n",
      "Iteration 3: norm_delta = 2.00e-02, step_size = 0.9500, log_lik = -668386.38318, newton_decrement = 1.29e+00, seconds_since_start = 3.3\n",
      "Iteration 4: norm_delta = 1.32e-04, step_size = 1.0000, log_lik = -668385.08374, newton_decrement = 6.65e-05, seconds_since_start = 4.4\n",
      "Iteration 5: norm_delta = 7.67e-09, step_size = 1.0000, log_lik = -668385.08368, newton_decrement = 3.06e-13, seconds_since_start = 5.5\n",
      "Convergence success after 5 iterations.\n",
      "Evaluating Bin 3\n",
      "Iteration 1: norm_delta = 8.77e-02, step_size = 0.9500, log_lik = -674771.34752, newton_decrement = 2.40e+02, seconds_since_start = 1.2\n",
      "Iteration 2: norm_delta = 8.34e-03, step_size = 0.9500, log_lik = -674526.75266, newton_decrement = 1.99e+00, seconds_since_start = 2.5\n",
      "Iteration 3: norm_delta = 4.55e-04, step_size = 0.9500, log_lik = -674524.76069, newton_decrement = 5.88e-03, seconds_since_start = 3.7\n",
      "Iteration 4: norm_delta = 1.14e-07, step_size = 1.0000, log_lik = -674524.75481, newton_decrement = 3.67e-10, seconds_since_start = 4.9\n",
      "Convergence success after 4 iterations.\n",
      "Iteration 1: norm_delta = 6.87e-01, step_size = 0.9500, log_lik = -674771.34752, newton_decrement = 6.47e+03, seconds_since_start = 1.1\n",
      "Iteration 2: norm_delta = 1.94e-01, step_size = 0.9500, log_lik = -668540.53684, newton_decrement = 1.49e+02, seconds_since_start = 2.2\n",
      "Iteration 3: norm_delta = 2.00e-02, step_size = 0.9500, log_lik = -668388.50415, newton_decrement = 1.29e+00, seconds_since_start = 3.3\n",
      "Iteration 4: norm_delta = 1.32e-04, step_size = 1.0000, log_lik = -668387.20415, newton_decrement = 6.66e-05, seconds_since_start = 4.3\n",
      "Iteration 5: norm_delta = 7.68e-09, step_size = 1.0000, log_lik = -668387.20408, newton_decrement = 3.06e-13, seconds_since_start = 5.4\n",
      "Convergence success after 5 iterations.\n",
      "Evaluating Bin 4\n",
      "Iteration 1: norm_delta = 8.70e-02, step_size = 0.9500, log_lik = -674771.34752, newton_decrement = 2.38e+02, seconds_since_start = 1.2\n",
      "Iteration 2: norm_delta = 8.91e-03, step_size = 0.9500, log_lik = -674527.13759, newton_decrement = 2.27e+00, seconds_since_start = 2.5\n",
      "Iteration 3: norm_delta = 4.95e-04, step_size = 0.9500, log_lik = -674524.86223, newton_decrement = 6.95e-03, seconds_since_start = 3.7\n",
      "Iteration 4: norm_delta = 1.55e-07, step_size = 1.0000, log_lik = -674524.85528, newton_decrement = 6.77e-10, seconds_since_start = 4.9\n",
      "Convergence success after 4 iterations.\n",
      "Iteration 1: norm_delta = 6.87e-01, step_size = 0.9500, log_lik = -674771.34752, newton_decrement = 6.47e+03, seconds_since_start = 1.1\n",
      "Iteration 2: norm_delta = 1.94e-01, step_size = 0.9500, log_lik = -668539.87230, newton_decrement = 1.49e+02, seconds_since_start = 2.1\n",
      "Iteration 3: norm_delta = 2.00e-02, step_size = 0.9500, log_lik = -668387.85883, newton_decrement = 1.29e+00, seconds_since_start = 3.2\n",
      "Iteration 4: norm_delta = 1.32e-04, step_size = 1.0000, log_lik = -668386.55825, newton_decrement = 6.66e-05, seconds_since_start = 4.3\n",
      "Iteration 5: norm_delta = 7.68e-09, step_size = 1.0000, log_lik = -668386.55819, newton_decrement = 3.07e-13, seconds_since_start = 5.4\n",
      "Convergence success after 5 iterations.\n",
      "Evaluating Bin 5\n",
      "Iteration 1: norm_delta = 8.66e-02, step_size = 0.9500, log_lik = -674771.34752, newton_decrement = 2.35e+02, seconds_since_start = 1.2\n",
      "Iteration 2: norm_delta = 8.66e-03, step_size = 0.9500, log_lik = -674530.49823, newton_decrement = 2.15e+00, seconds_since_start = 2.5\n",
      "Iteration 3: norm_delta = 4.79e-04, step_size = 0.9500, log_lik = -674528.34751, newton_decrement = 6.49e-03, seconds_since_start = 3.7\n",
      "Iteration 4: norm_delta = 1.39e-07, step_size = 1.0000, log_lik = -674528.34101, newton_decrement = 5.48e-10, seconds_since_start = 4.9\n",
      "Convergence success after 4 iterations.\n",
      "Iteration 1: norm_delta = 6.87e-01, step_size = 0.9500, log_lik = -674771.34752, newton_decrement = 6.47e+03, seconds_since_start = 1.1\n",
      "Iteration 2: norm_delta = 1.94e-01, step_size = 0.9500, log_lik = -668542.61181, newton_decrement = 1.49e+02, seconds_since_start = 2.1\n",
      "Iteration 3: norm_delta = 2.00e-02, step_size = 0.9500, log_lik = -668390.64826, newton_decrement = 1.30e+00, seconds_since_start = 3.2\n",
      "Iteration 4: norm_delta = 1.32e-04, step_size = 1.0000, log_lik = -668389.34747, newton_decrement = 6.67e-05, seconds_since_start = 4.3\n",
      "Iteration 5: norm_delta = 7.69e-09, step_size = 1.0000, log_lik = -668389.34740, newton_decrement = 3.07e-13, seconds_since_start = 5.4\n",
      "Convergence success after 5 iterations.\n",
      "Evaluating Bin 6\n",
      "Iteration 1: norm_delta = 8.64e-02, step_size = 0.9500, log_lik = -674771.34752, newton_decrement = 2.33e+02, seconds_since_start = 1.2\n",
      "Iteration 2: norm_delta = 8.21e-03, step_size = 0.9500, log_lik = -674533.73684, newton_decrement = 1.93e+00, seconds_since_start = 2.4\n",
      "Iteration 3: norm_delta = 4.47e-04, step_size = 0.9500, log_lik = -674531.80594, newton_decrement = 5.69e-03, seconds_since_start = 3.7\n",
      "Iteration 4: norm_delta = 1.11e-07, step_size = 1.0000, log_lik = -674531.80025, newton_decrement = 3.50e-10, seconds_since_start = 4.9\n",
      "Convergence success after 4 iterations.\n",
      "Iteration 1: norm_delta = 6.88e-01, step_size = 0.9500, log_lik = -674771.34752, newton_decrement = 6.47e+03, seconds_since_start = 1.1\n",
      "Iteration 2: norm_delta = 1.94e-01, step_size = 0.9500, log_lik = -668543.84266, newton_decrement = 1.49e+02, seconds_since_start = 2.2\n",
      "Iteration 3: norm_delta = 2.00e-02, step_size = 0.9500, log_lik = -668392.06856, newton_decrement = 1.29e+00, seconds_since_start = 3.3\n",
      "Iteration 4: norm_delta = 1.32e-04, step_size = 1.0000, log_lik = -668390.76902, newton_decrement = 6.66e-05, seconds_since_start = 4.4\n",
      "Iteration 5: norm_delta = 7.68e-09, step_size = 1.0000, log_lik = -668390.76895, newton_decrement = 3.07e-13, seconds_since_start = 5.4\n",
      "Convergence success after 5 iterations.\n",
      "Evaluating Bin 7\n",
      "Iteration 1: norm_delta = 8.61e-02, step_size = 0.9500, log_lik = -674771.34752, newton_decrement = 2.32e+02, seconds_since_start = 1.2\n",
      "Iteration 2: norm_delta = 8.48e-03, step_size = 0.9500, log_lik = -674534.06733, newton_decrement = 2.06e+00, seconds_since_start = 2.5\n",
      "Iteration 3: norm_delta = 4.67e-04, step_size = 0.9500, log_lik = -674532.00587, newton_decrement = 6.18e-03, seconds_since_start = 3.7\n",
      "Iteration 4: norm_delta = 1.29e-07, step_size = 1.0000, log_lik = -674531.99969, newton_decrement = 4.75e-10, seconds_since_start = 4.9\n",
      "Convergence success after 4 iterations.\n",
      "Iteration 1: norm_delta = 6.88e-01, step_size = 0.9500, log_lik = -674771.34752, newton_decrement = 6.47e+03, seconds_since_start = 1.1\n",
      "Iteration 2: norm_delta = 1.94e-01, step_size = 0.9500, log_lik = -668541.86116, newton_decrement = 1.49e+02, seconds_since_start = 2.2\n",
      "Iteration 3: norm_delta = 2.00e-02, step_size = 0.9500, log_lik = -668390.11805, newton_decrement = 1.29e+00, seconds_since_start = 3.3\n",
      "Iteration 4: norm_delta = 1.32e-04, step_size = 1.0000, log_lik = -668388.81929, newton_decrement = 6.65e-05, seconds_since_start = 4.4\n",
      "Iteration 5: norm_delta = 7.67e-09, step_size = 1.0000, log_lik = -668388.81922, newton_decrement = 3.06e-13, seconds_since_start = 5.4\n",
      "Convergence success after 5 iterations.\n",
      "Evaluating Bin 8\n",
      "Iteration 1: norm_delta = 8.54e-02, step_size = 0.9500, log_lik = -674771.34752, newton_decrement = 2.31e+02, seconds_since_start = 1.2\n",
      "Iteration 2: norm_delta = 8.96e-03, step_size = 0.9500, log_lik = -674533.96056, newton_decrement = 2.30e+00, seconds_since_start = 2.5\n",
      "Iteration 3: norm_delta = 5.01e-04, step_size = 0.9500, log_lik = -674531.65731, newton_decrement = 7.12e-03, seconds_since_start = 3.7\n",
      "Iteration 4: norm_delta = 1.67e-07, step_size = 1.0000, log_lik = -674531.65019, newton_decrement = 7.87e-10, seconds_since_start = 4.9\n",
      "Convergence success after 4 iterations.\n",
      "Iteration 1: norm_delta = 6.87e-01, step_size = 0.9500, log_lik = -674771.34752, newton_decrement = 6.47e+03, seconds_since_start = 1.1\n",
      "Iteration 2: norm_delta = 1.93e-01, step_size = 0.9500, log_lik = -668541.35164, newton_decrement = 1.49e+02, seconds_since_start = 2.2\n",
      "Iteration 3: norm_delta = 2.00e-02, step_size = 0.9500, log_lik = -668389.34090, newton_decrement = 1.29e+00, seconds_since_start = 3.3\n",
      "Iteration 4: norm_delta = 1.32e-04, step_size = 1.0000, log_lik = -668388.04122, newton_decrement = 6.65e-05, seconds_since_start = 4.4\n",
      "Iteration 5: norm_delta = 7.67e-09, step_size = 1.0000, log_lik = -668388.04115, newton_decrement = 3.05e-13, seconds_since_start = 5.5\n",
      "Convergence success after 5 iterations.\n",
      "Evaluating Bin 9\n",
      "Iteration 1: norm_delta = 8.35e-02, step_size = 0.9500, log_lik = -674771.34752, newton_decrement = 2.24e+02, seconds_since_start = 1.2\n",
      "Iteration 2: norm_delta = 9.31e-03, step_size = 0.9500, log_lik = -674540.86973, newton_decrement = 2.49e+00, seconds_since_start = 2.5\n",
      "Iteration 3: norm_delta = 5.30e-04, step_size = 0.9500, log_lik = -674538.37490, newton_decrement = 7.97e-03, seconds_since_start = 3.7\n",
      "Iteration 4: norm_delta = 2.10e-07, step_size = 1.0000, log_lik = -674538.36692, newton_decrement = 1.25e-09, seconds_since_start = 4.9\n",
      "Convergence success after 4 iterations.\n",
      "Iteration 1: norm_delta = 6.86e-01, step_size = 0.9500, log_lik = -674771.34752, newton_decrement = 6.46e+03, seconds_since_start = 1.1\n",
      "Iteration 2: norm_delta = 1.94e-01, step_size = 0.9500, log_lik = -668548.08380, newton_decrement = 1.49e+02, seconds_since_start = 2.2\n",
      "Iteration 3: norm_delta = 2.00e-02, step_size = 0.9500, log_lik = -668396.00687, newton_decrement = 1.30e+00, seconds_since_start = 3.2\n",
      "Iteration 4: norm_delta = 1.32e-04, step_size = 1.0000, log_lik = -668394.70610, newton_decrement = 6.67e-05, seconds_since_start = 4.4\n",
      "Iteration 5: norm_delta = 7.70e-09, step_size = 1.0000, log_lik = -668394.70603, newton_decrement = 3.07e-13, seconds_since_start = 5.4\n",
      "Convergence success after 5 iterations.\n",
      "Evaluating Bin 10\n",
      "Iteration 1: norm_delta = 8.35e-02, step_size = 0.9500, log_lik = -674771.34752, newton_decrement = 2.20e+02, seconds_since_start = 1.2\n",
      "Iteration 2: norm_delta = 8.66e-03, step_size = 0.9500, log_lik = -674545.62974, newton_decrement = 2.14e+00, seconds_since_start = 2.5\n",
      "Iteration 3: norm_delta = 4.82e-04, step_size = 0.9500, log_lik = -674543.48353, newton_decrement = 6.59e-03, seconds_since_start = 3.7\n",
      "Iteration 4: norm_delta = 1.54e-07, step_size = 1.0000, log_lik = -674543.47694, newton_decrement = 6.75e-10, seconds_since_start = 4.9\n",
      "Convergence success after 4 iterations.\n",
      "Iteration 1: norm_delta = 6.88e-01, step_size = 0.9500, log_lik = -674771.34752, newton_decrement = 6.47e+03, seconds_since_start = 1.1\n",
      "Iteration 2: norm_delta = 1.94e-01, step_size = 0.9500, log_lik = -668547.22491, newton_decrement = 1.49e+02, seconds_since_start = 2.2\n",
      "Iteration 3: norm_delta = 2.00e-02, step_size = 0.9500, log_lik = -668395.48347, newton_decrement = 1.29e+00, seconds_since_start = 3.3\n",
      "Iteration 4: norm_delta = 1.32e-04, step_size = 1.0000, log_lik = -668394.18531, newton_decrement = 6.64e-05, seconds_since_start = 4.3\n",
      "Iteration 5: norm_delta = 7.66e-09, step_size = 1.0000, log_lik = -668394.18525, newton_decrement = 3.05e-13, seconds_since_start = 5.4\n",
      "Convergence success after 5 iterations.\n",
      "Evaluating Bin 11\n",
      "Iteration 1: norm_delta = 8.31e-02, step_size = 0.9500, log_lik = -674771.34752, newton_decrement = 2.15e+02, seconds_since_start = 1.2\n",
      "Iteration 2: norm_delta = 7.46e-03, step_size = 0.9500, log_lik = -674552.21696, newton_decrement = 1.61e+00, seconds_since_start = 2.4\n",
      "Iteration 3: norm_delta = 4.01e-04, step_size = 0.9500, log_lik = -674550.60803, newton_decrement = 4.63e-03, seconds_since_start = 3.7\n",
      "Iteration 4: norm_delta = 8.30e-08, step_size = 1.0000, log_lik = -674550.60340, newton_decrement = 1.98e-10, seconds_since_start = 4.9\n",
      "Convergence success after 4 iterations.\n",
      "Iteration 1: norm_delta = 6.88e-01, step_size = 0.9500, log_lik = -674771.34752, newton_decrement = 6.47e+03, seconds_since_start = 1.1\n",
      "Iteration 2: norm_delta = 1.94e-01, step_size = 0.9500, log_lik = -668547.21563, newton_decrement = 1.49e+02, seconds_since_start = 2.1\n",
      "Iteration 3: norm_delta = 2.00e-02, step_size = 0.9500, log_lik = -668395.44712, newton_decrement = 1.30e+00, seconds_since_start = 3.2\n",
      "Iteration 4: norm_delta = 1.32e-04, step_size = 1.0000, log_lik = -668394.14597, newton_decrement = 6.69e-05, seconds_since_start = 4.3\n",
      "Iteration 5: norm_delta = 7.73e-09, step_size = 1.0000, log_lik = -668394.14590, newton_decrement = 3.10e-13, seconds_since_start = 5.4\n",
      "Convergence success after 5 iterations.\n",
      "Evaluating Bin 12\n",
      "Iteration 1: norm_delta = 8.05e-02, step_size = 0.9500, log_lik = -674771.34752, newton_decrement = 2.08e+02, seconds_since_start = 1.2\n",
      "Iteration 2: norm_delta = 8.82e-03, step_size = 0.9500, log_lik = -674557.25344, newton_decrement = 2.25e+00, seconds_since_start = 2.5\n",
      "Iteration 3: norm_delta = 4.99e-04, step_size = 0.9500, log_lik = -674555.00490, newton_decrement = 7.11e-03, seconds_since_start = 3.7\n",
      "Iteration 4: norm_delta = 1.87e-07, step_size = 1.0000, log_lik = -674554.99779, newton_decrement = 9.97e-10, seconds_since_start = 4.9\n",
      "Convergence success after 4 iterations.\n",
      "Iteration 1: norm_delta = 6.87e-01, step_size = 0.9500, log_lik = -674771.34752, newton_decrement = 6.46e+03, seconds_since_start = 1.1\n",
      "Iteration 2: norm_delta = 1.93e-01, step_size = 0.9500, log_lik = -668556.08773, newton_decrement = 1.49e+02, seconds_since_start = 2.2\n",
      "Iteration 3: norm_delta = 2.00e-02, step_size = 0.9500, log_lik = -668404.43938, newton_decrement = 1.29e+00, seconds_since_start = 3.3\n",
      "Iteration 4: norm_delta = 1.31e-04, step_size = 1.0000, log_lik = -668403.14164, newton_decrement = 6.64e-05, seconds_since_start = 4.3\n",
      "Iteration 5: norm_delta = 7.65e-09, step_size = 1.0000, log_lik = -668403.14157, newton_decrement = 3.04e-13, seconds_since_start = 5.4\n",
      "Convergence success after 5 iterations.\n",
      "Evaluating Bin 13\n",
      "Iteration 1: norm_delta = 8.23e-02, step_size = 0.9500, log_lik = -674771.34752, newton_decrement = 2.08e+02, seconds_since_start = 1.2\n",
      "Iteration 2: norm_delta = 6.77e-03, step_size = 0.9500, log_lik = -674560.47874, newton_decrement = 1.32e+00, seconds_since_start = 2.4\n",
      "Iteration 3: norm_delta = 3.58e-04, step_size = 0.9500, log_lik = -674559.15796, newton_decrement = 3.68e-03, seconds_since_start = 3.7\n",
      "Iteration 4: norm_delta = 5.56e-08, step_size = 1.0000, log_lik = -674559.15428, newton_decrement = 8.88e-11, seconds_since_start = 4.9\n",
      "Convergence success after 4 iterations.\n",
      "Iteration 1: norm_delta = 6.87e-01, step_size = 0.9500, log_lik = -674771.34752, newton_decrement = 6.46e+03, seconds_since_start = 1.1\n",
      "Iteration 2: norm_delta = 1.94e-01, step_size = 0.9500, log_lik = -668549.84554, newton_decrement = 1.49e+02, seconds_since_start = 2.2\n",
      "Iteration 3: norm_delta = 2.00e-02, step_size = 0.9500, log_lik = -668398.09829, newton_decrement = 1.30e+00, seconds_since_start = 3.3\n",
      "Iteration 4: norm_delta = 1.32e-04, step_size = 1.0000, log_lik = -668396.79683, newton_decrement = 6.69e-05, seconds_since_start = 4.4\n",
      "Iteration 5: norm_delta = 7.72e-09, step_size = 1.0000, log_lik = -668396.79676, newton_decrement = 3.09e-13, seconds_since_start = 5.5\n",
      "Convergence success after 5 iterations.\n",
      "Evaluating Bin 14\n",
      "Iteration 1: norm_delta = 8.05e-02, step_size = 0.9500, log_lik = -674771.34752, newton_decrement = 2.08e+02, seconds_since_start = 1.2\n",
      "Iteration 2: norm_delta = 8.68e-03, step_size = 0.9500, log_lik = -674558.13205, newton_decrement = 2.17e+00, seconds_since_start = 2.4\n",
      "Iteration 3: norm_delta = 4.89e-04, step_size = 0.9500, log_lik = -674555.95669, newton_decrement = 6.81e-03, seconds_since_start = 3.7\n",
      "Iteration 4: norm_delta = 1.75e-07, step_size = 1.0000, log_lik = -674555.94987, newton_decrement = 8.69e-10, seconds_since_start = 4.9\n",
      "Convergence success after 4 iterations.\n",
      "Iteration 1: norm_delta = 6.86e-01, step_size = 0.9500, log_lik = -674771.34752, newton_decrement = 6.46e+03, seconds_since_start = 1.1\n",
      "Iteration 2: norm_delta = 1.93e-01, step_size = 0.9500, log_lik = -668550.99545, newton_decrement = 1.49e+02, seconds_since_start = 2.2\n",
      "Iteration 3: norm_delta = 2.00e-02, step_size = 0.9500, log_lik = -668399.34082, newton_decrement = 1.29e+00, seconds_since_start = 3.2\n",
      "Iteration 4: norm_delta = 1.32e-04, step_size = 1.0000, log_lik = -668398.04285, newton_decrement = 6.64e-05, seconds_since_start = 4.3\n",
      "Iteration 5: norm_delta = 7.66e-09, step_size = 1.0000, log_lik = -668398.04279, newton_decrement = 3.05e-13, seconds_since_start = 5.5\n",
      "Convergence success after 5 iterations.\n",
      "Evaluating Bin 15\n",
      "Iteration 1: norm_delta = 8.23e-02, step_size = 0.9500, log_lik = -674771.34752, newton_decrement = 2.07e+02, seconds_since_start = 1.2\n",
      "Iteration 2: norm_delta = 6.42e-03, step_size = 0.9500, log_lik = -674562.10631, newton_decrement = 1.19e+00, seconds_since_start = 2.5\n",
      "Iteration 3: norm_delta = 3.37e-04, step_size = 0.9500, log_lik = -674560.91368, newton_decrement = 3.27e-03, seconds_since_start = 3.7\n",
      "Iteration 4: norm_delta = 4.39e-08, step_size = 1.0000, log_lik = -674560.91040, newton_decrement = 5.55e-11, seconds_since_start = 4.9\n",
      "Convergence success after 4 iterations.\n",
      "Iteration 1: norm_delta = 6.87e-01, step_size = 0.9500, log_lik = -674771.34752, newton_decrement = 6.46e+03, seconds_since_start = 1.2\n",
      "Iteration 2: norm_delta = 1.93e-01, step_size = 0.9500, log_lik = -668551.85229, newton_decrement = 1.49e+02, seconds_since_start = 2.2\n",
      "Iteration 3: norm_delta = 2.00e-02, step_size = 0.9500, log_lik = -668400.12508, newton_decrement = 1.30e+00, seconds_since_start = 3.3\n",
      "Iteration 4: norm_delta = 1.32e-04, step_size = 1.0000, log_lik = -668398.82431, newton_decrement = 6.68e-05, seconds_since_start = 4.4\n",
      "Iteration 5: norm_delta = 7.71e-09, step_size = 1.0000, log_lik = -668398.82425, newton_decrement = 3.09e-13, seconds_since_start = 5.6\n",
      "Convergence success after 5 iterations.\n",
      "Evaluating Bin 16\n",
      "Iteration 1: norm_delta = 8.11e-02, step_size = 0.9500, log_lik = -674771.34752, newton_decrement = 2.04e+02, seconds_since_start = 1.2\n",
      "Iteration 2: norm_delta = 6.62e-03, step_size = 0.9500, log_lik = -674564.56653, newton_decrement = 1.28e+00, seconds_since_start = 2.5\n",
      "Iteration 3: norm_delta = 3.50e-04, step_size = 0.9500, log_lik = -674563.28638, newton_decrement = 3.56e-03, seconds_since_start = 3.7\n",
      "Iteration 4: norm_delta = 5.31e-08, step_size = 1.0000, log_lik = -674563.28282, newton_decrement = 8.18e-11, seconds_since_start = 5.0\n",
      "Convergence success after 4 iterations.\n",
      "Iteration 1: norm_delta = 6.87e-01, step_size = 0.9500, log_lik = -674771.34752, newton_decrement = 6.46e+03, seconds_since_start = 1.1\n",
      "Iteration 2: norm_delta = 1.94e-01, step_size = 0.9500, log_lik = -668557.32364, newton_decrement = 1.49e+02, seconds_since_start = 2.2\n",
      "Iteration 3: norm_delta = 2.00e-02, step_size = 0.9500, log_lik = -668405.42694, newton_decrement = 1.29e+00, seconds_since_start = 3.2\n",
      "Iteration 4: norm_delta = 1.32e-04, step_size = 1.0000, log_lik = -668404.12732, newton_decrement = 6.66e-05, seconds_since_start = 4.4\n",
      "Iteration 5: norm_delta = 7.69e-09, step_size = 1.0000, log_lik = -668404.12725, newton_decrement = 3.07e-13, seconds_since_start = 5.4\n",
      "Convergence success after 5 iterations.\n",
      "Evaluating Bin 17\n",
      "Iteration 1: norm_delta = 8.05e-02, step_size = 0.9500, log_lik = -674771.34752, newton_decrement = 2.03e+02, seconds_since_start = 1.2\n",
      "Iteration 2: norm_delta = 7.39e-03, step_size = 0.9500, log_lik = -674564.39791, newton_decrement = 1.58e+00, seconds_since_start = 2.5\n",
      "Iteration 3: norm_delta = 3.99e-04, step_size = 0.9500, log_lik = -674562.81664, newton_decrement = 4.58e-03, seconds_since_start = 3.7\n",
      "Iteration 4: norm_delta = 8.79e-08, step_size = 1.0000, log_lik = -674562.81206, newton_decrement = 2.22e-10, seconds_since_start = 4.9\n",
      "Convergence success after 4 iterations.\n",
      "Iteration 1: norm_delta = 6.87e-01, step_size = 0.9500, log_lik = -674771.34752, newton_decrement = 6.46e+03, seconds_since_start = 1.1\n",
      "Iteration 2: norm_delta = 1.93e-01, step_size = 0.9500, log_lik = -668553.39934, newton_decrement = 1.49e+02, seconds_since_start = 2.2\n",
      "Iteration 3: norm_delta = 2.00e-02, step_size = 0.9500, log_lik = -668401.59287, newton_decrement = 1.29e+00, seconds_since_start = 3.2\n",
      "Iteration 4: norm_delta = 1.32e-04, step_size = 1.0000, log_lik = -668400.29396, newton_decrement = 6.65e-05, seconds_since_start = 4.4\n",
      "Iteration 5: norm_delta = 7.67e-09, step_size = 1.0000, log_lik = -668400.29389, newton_decrement = 3.06e-13, seconds_since_start = 5.5\n",
      "Convergence success after 5 iterations.\n",
      "Evaluating Bin 18\n",
      "Iteration 1: norm_delta = 8.02e-02, step_size = 0.9500, log_lik = -674771.34752, newton_decrement = 1.98e+02, seconds_since_start = 1.2\n",
      "Iteration 2: norm_delta = 6.42e-03, step_size = 0.9500, log_lik = -674570.37310, newton_decrement = 1.20e+00, seconds_since_start = 2.5\n",
      "Iteration 3: norm_delta = 3.38e-04, step_size = 0.9500, log_lik = -674569.17443, newton_decrement = 3.31e-03, seconds_since_start = 3.7\n",
      "Iteration 4: norm_delta = 4.77e-08, step_size = 1.0000, log_lik = -674569.17112, newton_decrement = 6.58e-11, seconds_since_start = 5.0\n",
      "Convergence success after 4 iterations.\n",
      "Iteration 1: norm_delta = 6.87e-01, step_size = 0.9500, log_lik = -674771.34752, newton_decrement = 6.45e+03, seconds_since_start = 1.1\n",
      "Iteration 2: norm_delta = 1.94e-01, step_size = 0.9500, log_lik = -668558.90223, newton_decrement = 1.49e+02, seconds_since_start = 2.2\n",
      "Iteration 3: norm_delta = 2.00e-02, step_size = 0.9500, log_lik = -668407.12689, newton_decrement = 1.30e+00, seconds_since_start = 3.2\n",
      "Iteration 4: norm_delta = 1.32e-04, step_size = 1.0000, log_lik = -668405.82603, newton_decrement = 6.68e-05, seconds_since_start = 4.4\n",
      "Iteration 5: norm_delta = 7.72e-09, step_size = 1.0000, log_lik = -668405.82596, newton_decrement = 3.09e-13, seconds_since_start = 5.5\n",
      "Convergence success after 5 iterations.\n",
      "Evaluating Bin 19\n",
      "Iteration 1: norm_delta = 8.02e-02, step_size = 0.9500, log_lik = -674771.34752, newton_decrement = 1.98e+02, seconds_since_start = 1.2\n",
      "Iteration 2: norm_delta = 6.83e-03, step_size = 0.9500, log_lik = -674570.28666, newton_decrement = 1.34e+00, seconds_since_start = 2.5\n",
      "Iteration 3: norm_delta = 3.63e-04, step_size = 0.9500, log_lik = -674568.94386, newton_decrement = 3.78e-03, seconds_since_start = 3.7\n",
      "Iteration 4: norm_delta = 6.30e-08, step_size = 1.0000, log_lik = -674568.94008, newton_decrement = 1.14e-10, seconds_since_start = 5.0\n",
      "Convergence success after 4 iterations.\n",
      "Iteration 1: norm_delta = 6.86e-01, step_size = 0.9500, log_lik = -674771.34752, newton_decrement = 6.46e+03, seconds_since_start = 1.1\n",
      "Iteration 2: norm_delta = 1.94e-01, step_size = 0.9500, log_lik = -668549.68093, newton_decrement = 1.49e+02, seconds_since_start = 2.1\n",
      "Iteration 3: norm_delta = 2.00e-02, step_size = 0.9500, log_lik = -668397.77449, newton_decrement = 1.30e+00, seconds_since_start = 3.2\n",
      "Iteration 4: norm_delta = 1.32e-04, step_size = 1.0000, log_lik = -668396.47249, newton_decrement = 6.69e-05, seconds_since_start = 4.3\n",
      "Iteration 5: norm_delta = 7.72e-09, step_size = 1.0000, log_lik = -668396.47242, newton_decrement = 3.09e-13, seconds_since_start = 5.4\n",
      "Convergence success after 5 iterations.\n",
      "Evaluating Bin 20\n",
      "Iteration 1: norm_delta = 7.85e-02, step_size = 0.9500, log_lik = -674771.34752, newton_decrement = 1.96e+02, seconds_since_start = 1.2\n",
      "Iteration 2: norm_delta = 8.63e-03, step_size = 0.9500, log_lik = -674569.52742, newton_decrement = 2.13e+00, seconds_since_start = 2.5\n",
      "Iteration 3: norm_delta = 4.89e-04, step_size = 0.9500, log_lik = -674567.39622, newton_decrement = 6.74e-03, seconds_since_start = 3.7\n",
      "Iteration 4: norm_delta = 1.84e-07, step_size = 1.0000, log_lik = -674567.38948, newton_decrement = 9.53e-10, seconds_since_start = 5.0\n",
      "Convergence success after 4 iterations.\n",
      "Iteration 1: norm_delta = 6.88e-01, step_size = 0.9500, log_lik = -674771.34752, newton_decrement = 6.46e+03, seconds_since_start = 1.2\n",
      "Iteration 2: norm_delta = 1.93e-01, step_size = 0.9500, log_lik = -668554.37777, newton_decrement = 1.49e+02, seconds_since_start = 2.3\n",
      "Iteration 3: norm_delta = 2.00e-02, step_size = 0.9500, log_lik = -668402.83927, newton_decrement = 1.29e+00, seconds_since_start = 3.5\n",
      "Iteration 4: norm_delta = 1.32e-04, step_size = 1.0000, log_lik = -668401.54181, newton_decrement = 6.64e-05, seconds_since_start = 4.7\n",
      "Iteration 5: norm_delta = 7.67e-09, step_size = 1.0000, log_lik = -668401.54175, newton_decrement = 3.05e-13, seconds_since_start = 5.8\n",
      "Convergence success after 5 iterations.\n",
      "Evaluating Bin 21\n",
      "Iteration 1: norm_delta = 7.93e-02, step_size = 0.9500, log_lik = -674771.34752, newton_decrement = 1.95e+02, seconds_since_start = 1.2\n",
      "Iteration 2: norm_delta = 6.88e-03, step_size = 0.9500, log_lik = -674572.59692, newton_decrement = 1.37e+00, seconds_since_start = 2.5\n",
      "Iteration 3: norm_delta = 3.67e-04, step_size = 0.9500, log_lik = -674571.22389, newton_decrement = 3.89e-03, seconds_since_start = 3.8\n",
      "Iteration 4: norm_delta = 6.75e-08, step_size = 1.0000, log_lik = -674571.21999, newton_decrement = 1.31e-10, seconds_since_start = 5.0\n",
      "Convergence success after 4 iterations.\n",
      "Iteration 1: norm_delta = 6.88e-01, step_size = 0.9500, log_lik = -674771.34752, newton_decrement = 6.46e+03, seconds_since_start = 1.1\n",
      "Iteration 2: norm_delta = 1.94e-01, step_size = 0.9500, log_lik = -668550.00829, newton_decrement = 1.49e+02, seconds_since_start = 2.2\n",
      "Iteration 3: norm_delta = 2.00e-02, step_size = 0.9500, log_lik = -668398.20078, newton_decrement = 1.30e+00, seconds_since_start = 3.3\n",
      "Iteration 4: norm_delta = 1.32e-04, step_size = 1.0000, log_lik = -668396.89894, newton_decrement = 6.70e-05, seconds_since_start = 4.4\n",
      "Iteration 5: norm_delta = 7.74e-09, step_size = 1.0000, log_lik = -668396.89887, newton_decrement = 3.11e-13, seconds_since_start = 5.5\n",
      "Convergence success after 5 iterations.\n",
      "Evaluating Bin 22\n",
      "Iteration 1: norm_delta = 7.86e-02, step_size = 0.9500, log_lik = -674771.34752, newton_decrement = 1.95e+02, seconds_since_start = 1.2\n",
      "Iteration 2: norm_delta = 8.01e-03, step_size = 0.9500, log_lik = -674571.20820, newton_decrement = 1.85e+00, seconds_since_start = 2.5\n",
      "Iteration 3: norm_delta = 4.44e-04, step_size = 0.9500, log_lik = -674569.36130, newton_decrement = 5.61e-03, seconds_since_start = 3.7\n",
      "Iteration 4: norm_delta = 1.34e-07, step_size = 1.0000, log_lik = -674569.35569, newton_decrement = 5.09e-10, seconds_since_start = 4.9\n",
      "Convergence success after 4 iterations.\n",
      "Iteration 1: norm_delta = 6.87e-01, step_size = 0.9500, log_lik = -674771.34752, newton_decrement = 6.46e+03, seconds_since_start = 1.1\n",
      "Iteration 2: norm_delta = 1.94e-01, step_size = 0.9500, log_lik = -668553.34236, newton_decrement = 1.49e+02, seconds_since_start = 2.2\n",
      "Iteration 3: norm_delta = 2.01e-02, step_size = 0.9500, log_lik = -668401.49114, newton_decrement = 1.30e+00, seconds_since_start = 3.3\n",
      "Iteration 4: norm_delta = 1.32e-04, step_size = 1.0000, log_lik = -668400.18990, newton_decrement = 6.68e-05, seconds_since_start = 4.4\n",
      "Iteration 5: norm_delta = 7.71e-09, step_size = 1.0000, log_lik = -668400.18983, newton_decrement = 3.09e-13, seconds_since_start = 5.5\n",
      "Convergence success after 5 iterations.\n",
      "Evaluating Bin 23\n",
      "Iteration 1: norm_delta = 7.94e-02, step_size = 0.9500, log_lik = -674771.34752, newton_decrement = 1.93e+02, seconds_since_start = 1.2\n",
      "Iteration 2: norm_delta = 6.38e-03, step_size = 0.9500, log_lik = -674575.49584, newton_decrement = 1.18e+00, seconds_since_start = 2.5\n",
      "Iteration 3: norm_delta = 3.36e-04, step_size = 0.9500, log_lik = -674574.31988, newton_decrement = 3.25e-03, seconds_since_start = 3.7\n",
      "Iteration 4: norm_delta = 4.78e-08, step_size = 1.0000, log_lik = -674574.31662, newton_decrement = 6.58e-11, seconds_since_start = 5.0\n",
      "Convergence success after 4 iterations.\n",
      "Iteration 1: norm_delta = 6.89e-01, step_size = 0.9500, log_lik = -674771.34752, newton_decrement = 6.47e+03, seconds_since_start = 1.1\n",
      "Iteration 2: norm_delta = 1.94e-01, step_size = 0.9500, log_lik = -668548.04361, newton_decrement = 1.49e+02, seconds_since_start = 2.2\n",
      "Iteration 3: norm_delta = 2.01e-02, step_size = 0.9500, log_lik = -668396.28707, newton_decrement = 1.30e+00, seconds_since_start = 3.3\n",
      "Iteration 4: norm_delta = 1.32e-04, step_size = 1.0000, log_lik = -668394.98624, newton_decrement = 6.68e-05, seconds_since_start = 4.3\n",
      "Iteration 5: norm_delta = 7.71e-09, step_size = 1.0000, log_lik = -668394.98618, newton_decrement = 3.09e-13, seconds_since_start = 5.5\n",
      "Convergence success after 5 iterations.\n",
      "Evaluating Bin 24\n",
      "Iteration 1: norm_delta = 7.94e-02, step_size = 0.9500, log_lik = -674771.34752, newton_decrement = 1.93e+02, seconds_since_start = 1.2\n",
      "Iteration 2: norm_delta = 6.00e-03, step_size = 0.9500, log_lik = -674576.56535, newton_decrement = 1.05e+00, seconds_since_start = 2.5\n",
      "Iteration 3: norm_delta = 3.13e-04, step_size = 0.9500, log_lik = -674575.51808, newton_decrement = 2.84e-03, seconds_since_start = 3.7\n",
      "Iteration 4: norm_delta = 3.61e-08, step_size = 1.0000, log_lik = -674575.51523, newton_decrement = 3.77e-11, seconds_since_start = 4.9\n",
      "Convergence success after 4 iterations.\n",
      "Iteration 1: norm_delta = 6.87e-01, step_size = 0.9500, log_lik = -674771.34752, newton_decrement = 6.46e+03, seconds_since_start = 1.1\n",
      "Iteration 2: norm_delta = 1.94e-01, step_size = 0.9500, log_lik = -668552.97017, newton_decrement = 1.49e+02, seconds_since_start = 2.2\n",
      "Iteration 3: norm_delta = 2.00e-02, step_size = 0.9500, log_lik = -668401.32593, newton_decrement = 1.29e+00, seconds_since_start = 3.2\n",
      "Iteration 4: norm_delta = 1.32e-04, step_size = 1.0000, log_lik = -668400.02546, newton_decrement = 6.68e-05, seconds_since_start = 4.4\n",
      "Iteration 5: norm_delta = 7.71e-09, step_size = 1.0000, log_lik = -668400.02539, newton_decrement = 3.09e-13, seconds_since_start = 5.4\n",
      "Convergence success after 5 iterations.\n",
      "Evaluating Bin 25\n",
      "Iteration 1: norm_delta = 7.80e-02, step_size = 0.9500, log_lik = -674771.34752, newton_decrement = 1.91e+02, seconds_since_start = 1.2\n",
      "Iteration 2: norm_delta = 7.51e-03, step_size = 0.9500, log_lik = -674575.98608, newton_decrement = 1.63e+00, seconds_since_start = 2.5\n",
      "Iteration 3: norm_delta = 4.10e-04, step_size = 0.9500, log_lik = -674574.35920, newton_decrement = 4.81e-03, seconds_since_start = 3.7\n",
      "Iteration 4: norm_delta = 1.04e-07, step_size = 1.0000, log_lik = -674574.35439, newton_decrement = 3.08e-10, seconds_since_start = 4.9\n",
      "Convergence success after 4 iterations.\n",
      "Iteration 1: norm_delta = 6.88e-01, step_size = 0.9500, log_lik = -674771.34752, newton_decrement = 6.46e+03, seconds_since_start = 1.1\n",
      "Iteration 2: norm_delta = 1.94e-01, step_size = 0.9500, log_lik = -668556.87609, newton_decrement = 1.49e+02, seconds_since_start = 2.1\n",
      "Iteration 3: norm_delta = 2.00e-02, step_size = 0.9500, log_lik = -668405.05180, newton_decrement = 1.29e+00, seconds_since_start = 3.2\n",
      "Iteration 4: norm_delta = 1.32e-04, step_size = 1.0000, log_lik = -668403.75179, newton_decrement = 6.66e-05, seconds_since_start = 4.3\n",
      "Iteration 5: norm_delta = 7.68e-09, step_size = 1.0000, log_lik = -668403.75173, newton_decrement = 3.07e-13, seconds_since_start = 5.4\n",
      "Convergence success after 5 iterations.\n",
      "Evaluating Bin 26\n",
      "Iteration 1: norm_delta = 7.78e-02, step_size = 0.9500, log_lik = -674771.34752, newton_decrement = 1.90e+02, seconds_since_start = 1.2\n",
      "Iteration 2: norm_delta = 7.38e-03, step_size = 0.9500, log_lik = -674577.05839, newton_decrement = 1.57e+00, seconds_since_start = 2.5\n",
      "Iteration 3: norm_delta = 4.02e-04, step_size = 0.9500, log_lik = -674575.48355, newton_decrement = 4.62e-03, seconds_since_start = 3.7\n",
      "Iteration 4: norm_delta = 9.71e-08, step_size = 1.0000, log_lik = -674575.47892, newton_decrement = 2.70e-10, seconds_since_start = 4.9\n",
      "Convergence success after 4 iterations.\n",
      "Iteration 1: norm_delta = 6.88e-01, step_size = 0.9500, log_lik = -674771.34752, newton_decrement = 6.46e+03, seconds_since_start = 1.1\n",
      "Iteration 2: norm_delta = 1.94e-01, step_size = 0.9500, log_lik = -668553.81618, newton_decrement = 1.49e+02, seconds_since_start = 2.2\n",
      "Iteration 3: norm_delta = 2.00e-02, step_size = 0.9500, log_lik = -668401.95639, newton_decrement = 1.29e+00, seconds_since_start = 3.3\n",
      "Iteration 4: norm_delta = 1.32e-04, step_size = 1.0000, log_lik = -668400.65777, newton_decrement = 6.65e-05, seconds_since_start = 4.3\n",
      "Iteration 5: norm_delta = 7.67e-09, step_size = 1.0000, log_lik = -668400.65770, newton_decrement = 3.06e-13, seconds_since_start = 5.4\n",
      "Convergence success after 5 iterations.\n",
      "Evaluating Bin 27\n",
      "Iteration 1: norm_delta = 7.64e-02, step_size = 0.9500, log_lik = -674771.34752, newton_decrement = 1.86e+02, seconds_since_start = 1.2\n",
      "Iteration 2: norm_delta = 7.59e-03, step_size = 0.9500, log_lik = -674580.88337, newton_decrement = 1.68e+00, seconds_since_start = 2.5\n",
      "Iteration 3: norm_delta = 4.17e-04, step_size = 0.9500, log_lik = -674579.20705, newton_decrement = 5.02e-03, seconds_since_start = 3.7\n",
      "Iteration 4: norm_delta = 1.16e-07, step_size = 1.0000, log_lik = -674579.20203, newton_decrement = 3.86e-10, seconds_since_start = 4.9\n",
      "Convergence success after 4 iterations.\n",
      "Iteration 1: norm_delta = 6.85e-01, step_size = 0.9500, log_lik = -674771.34752, newton_decrement = 6.45e+03, seconds_since_start = 1.1\n",
      "Iteration 2: norm_delta = 1.93e-01, step_size = 0.9500, log_lik = -668558.41974, newton_decrement = 1.49e+02, seconds_since_start = 2.1\n",
      "Iteration 3: norm_delta = 2.00e-02, step_size = 0.9500, log_lik = -668406.74994, newton_decrement = 1.29e+00, seconds_since_start = 3.3\n",
      "Iteration 4: norm_delta = 1.32e-04, step_size = 1.0000, log_lik = -668405.44988, newton_decrement = 6.68e-05, seconds_since_start = 4.3\n",
      "Iteration 5: norm_delta = 7.71e-09, step_size = 1.0000, log_lik = -668405.44981, newton_decrement = 3.08e-13, seconds_since_start = 5.4\n",
      "Convergence success after 5 iterations.\n",
      "Evaluating Bin 28\n",
      "Iteration 1: norm_delta = 7.76e-02, step_size = 0.9500, log_lik = -674771.34752, newton_decrement = 1.81e+02, seconds_since_start = 1.2\n",
      "Iteration 2: norm_delta = 4.77e-03, step_size = 0.9500, log_lik = -674589.87421, newton_decrement = 6.69e-01, seconds_since_start = 2.4\n",
      "Iteration 3: norm_delta = 2.43e-04, step_size = 0.9500, log_lik = -674589.20696, newton_decrement = 1.73e-03, seconds_since_start = 3.7\n",
      "Iteration 4: norm_delta = 1.17e-08, step_size = 1.0000, log_lik = -674589.20523, newton_decrement = 4.04e-12, seconds_since_start = 4.9\n",
      "Convergence success after 4 iterations.\n",
      "Iteration 1: norm_delta = 6.88e-01, step_size = 0.9500, log_lik = -674771.34752, newton_decrement = 6.45e+03, seconds_since_start = 1.1\n",
      "Iteration 2: norm_delta = 1.94e-01, step_size = 0.9500, log_lik = -668560.71989, newton_decrement = 1.49e+02, seconds_since_start = 2.2\n",
      "Iteration 3: norm_delta = 2.00e-02, step_size = 0.9500, log_lik = -668409.17406, newton_decrement = 1.29e+00, seconds_since_start = 3.2\n",
      "Iteration 4: norm_delta = 1.32e-04, step_size = 1.0000, log_lik = -668407.87496, newton_decrement = 6.66e-05, seconds_since_start = 4.4\n",
      "Iteration 5: norm_delta = 7.69e-09, step_size = 1.0000, log_lik = -668407.87490, newton_decrement = 3.07e-13, seconds_since_start = 5.4\n",
      "Convergence success after 5 iterations.\n",
      "Evaluating Bin 29\n",
      "Iteration 1: norm_delta = 7.61e-02, step_size = 0.9500, log_lik = -674771.34752, newton_decrement = 1.80e+02, seconds_since_start = 1.2\n",
      "Iteration 2: norm_delta = 6.25e-03, step_size = 0.9500, log_lik = -674589.08760, newton_decrement = 1.14e+00, seconds_since_start = 2.4\n",
      "Iteration 3: norm_delta = 3.31e-04, step_size = 0.9500, log_lik = -674587.94594, newton_decrement = 3.18e-03, seconds_since_start = 3.7\n",
      "Iteration 4: norm_delta = 5.04e-08, step_size = 1.0000, log_lik = -674587.94276, newton_decrement = 7.37e-11, seconds_since_start = 4.9\n",
      "Convergence success after 4 iterations.\n",
      "Iteration 1: norm_delta = 6.89e-01, step_size = 0.9500, log_lik = -674771.34752, newton_decrement = 6.46e+03, seconds_since_start = 1.0\n",
      "Iteration 2: norm_delta = 1.94e-01, step_size = 0.9500, log_lik = -668557.65922, newton_decrement = 1.49e+02, seconds_since_start = 2.1\n",
      "Iteration 3: norm_delta = 2.00e-02, step_size = 0.9500, log_lik = -668406.13848, newton_decrement = 1.29e+00, seconds_since_start = 3.2\n",
      "Iteration 4: norm_delta = 1.32e-04, step_size = 1.0000, log_lik = -668404.84098, newton_decrement = 6.64e-05, seconds_since_start = 4.2\n",
      "Iteration 5: norm_delta = 7.66e-09, step_size = 1.0000, log_lik = -668404.84092, newton_decrement = 3.05e-13, seconds_since_start = 5.3\n",
      "Convergence success after 5 iterations.\n",
      "Evaluating Bin 30\n",
      "Iteration 1: norm_delta = 7.48e-02, step_size = 0.9500, log_lik = -674771.34752, newton_decrement = 1.79e+02, seconds_since_start = 1.2\n",
      "Iteration 2: norm_delta = 8.02e-03, step_size = 0.9500, log_lik = -674587.43076, newton_decrement = 1.85e+00, seconds_since_start = 2.4\n",
      "Iteration 3: norm_delta = 4.50e-04, step_size = 0.9500, log_lik = -674585.57473, newton_decrement = 5.78e-03, seconds_since_start = 3.7\n",
      "Iteration 4: norm_delta = 1.56e-07, step_size = 1.0000, log_lik = -674585.56895, newton_decrement = 6.94e-10, seconds_since_start = 4.9\n",
      "Convergence success after 4 iterations.\n",
      "Iteration 1: norm_delta = 6.87e-01, step_size = 0.9500, log_lik = -674771.34752, newton_decrement = 6.46e+03, seconds_since_start = 1.1\n",
      "Iteration 2: norm_delta = 1.93e-01, step_size = 0.9500, log_lik = -668557.07297, newton_decrement = 1.49e+02, seconds_since_start = 2.1\n",
      "Iteration 3: norm_delta = 2.00e-02, step_size = 0.9500, log_lik = -668405.36075, newton_decrement = 1.29e+00, seconds_since_start = 3.2\n",
      "Iteration 4: norm_delta = 1.32e-04, step_size = 1.0000, log_lik = -668404.06155, newton_decrement = 6.66e-05, seconds_since_start = 4.3\n",
      "Iteration 5: norm_delta = 7.68e-09, step_size = 1.0000, log_lik = -668404.06148, newton_decrement = 3.07e-13, seconds_since_start = 5.4\n",
      "Convergence success after 5 iterations.\n",
      "Evaluating Bin 31\n",
      "Iteration 1: norm_delta = 7.68e-02, step_size = 0.9500, log_lik = -674771.34752, newton_decrement = 1.78e+02, seconds_since_start = 1.2\n",
      "Iteration 2: norm_delta = 5.09e-03, step_size = 0.9500, log_lik = -674591.91260, newton_decrement = 7.59e-01, seconds_since_start = 2.5\n",
      "Iteration 3: norm_delta = 2.61e-04, step_size = 0.9500, log_lik = -674591.15524, newton_decrement = 1.99e-03, seconds_since_start = 3.7\n",
      "Iteration 4: norm_delta = 1.77e-08, step_size = 1.0000, log_lik = -674591.15325, newton_decrement = 9.19e-12, seconds_since_start = 5.0\n",
      "Convergence success after 4 iterations.\n",
      "Iteration 1: norm_delta = 6.88e-01, step_size = 0.9500, log_lik = -674771.34752, newton_decrement = 6.45e+03, seconds_since_start = 1.1\n",
      "Iteration 2: norm_delta = 1.94e-01, step_size = 0.9500, log_lik = -668559.32843, newton_decrement = 1.49e+02, seconds_since_start = 2.1\n",
      "Iteration 3: norm_delta = 2.00e-02, step_size = 0.9500, log_lik = -668407.71985, newton_decrement = 1.29e+00, seconds_since_start = 3.3\n",
      "Iteration 4: norm_delta = 1.32e-04, step_size = 1.0000, log_lik = -668406.42023, newton_decrement = 6.67e-05, seconds_since_start = 4.3\n",
      "Iteration 5: norm_delta = 7.70e-09, step_size = 1.0000, log_lik = -668406.42016, newton_decrement = 3.08e-13, seconds_since_start = 5.4\n",
      "Convergence success after 5 iterations.\n",
      "Evaluating Bin 32\n",
      "Iteration 1: norm_delta = 7.63e-02, step_size = 0.9500, log_lik = -674771.34752, newton_decrement = 1.78e+02, seconds_since_start = 1.2\n",
      "Iteration 2: norm_delta = 5.69e-03, step_size = 0.9500, log_lik = -674591.35850, newton_decrement = 9.45e-01, seconds_since_start = 2.5\n",
      "Iteration 3: norm_delta = 2.96e-04, step_size = 0.9500, log_lik = -674590.41430, newton_decrement = 2.55e-03, seconds_since_start = 3.7\n",
      "Iteration 4: norm_delta = 3.21e-08, step_size = 1.0000, log_lik = -674590.41175, newton_decrement = 3.00e-11, seconds_since_start = 4.9\n",
      "Convergence success after 4 iterations.\n",
      "Iteration 1: norm_delta = 6.89e-01, step_size = 0.9500, log_lik = -674771.34752, newton_decrement = 6.46e+03, seconds_since_start = 1.1\n",
      "Iteration 2: norm_delta = 1.94e-01, step_size = 0.9500, log_lik = -668557.42509, newton_decrement = 1.49e+02, seconds_since_start = 2.1\n",
      "Iteration 3: norm_delta = 2.00e-02, step_size = 0.9500, log_lik = -668405.70679, newton_decrement = 1.29e+00, seconds_since_start = 3.2\n",
      "Iteration 4: norm_delta = 1.32e-04, step_size = 1.0000, log_lik = -668404.40660, newton_decrement = 6.67e-05, seconds_since_start = 4.2\n",
      "Iteration 5: norm_delta = 7.70e-09, step_size = 1.0000, log_lik = -668404.40654, newton_decrement = 3.08e-13, seconds_since_start = 5.3\n",
      "Convergence success after 5 iterations.\n",
      "Evaluating Bin 33\n",
      "Iteration 1: norm_delta = 7.51e-02, step_size = 0.9500, log_lik = -674771.34752, newton_decrement = 1.76e+02, seconds_since_start = 1.2\n",
      "Iteration 2: norm_delta = 6.80e-03, step_size = 0.9500, log_lik = -674591.67283, newton_decrement = 1.34e+00, seconds_since_start = 2.4\n",
      "Iteration 3: norm_delta = 3.66e-04, step_size = 0.9500, log_lik = -674590.33240, newton_decrement = 3.86e-03, seconds_since_start = 3.7\n",
      "Iteration 4: norm_delta = 7.62e-08, step_size = 1.0000, log_lik = -674590.32854, newton_decrement = 1.67e-10, seconds_since_start = 4.9\n",
      "Convergence success after 4 iterations.\n",
      "Iteration 1: norm_delta = 6.88e-01, step_size = 0.9500, log_lik = -674771.34752, newton_decrement = 6.45e+03, seconds_since_start = 1.1\n",
      "Iteration 2: norm_delta = 1.94e-01, step_size = 0.9500, log_lik = -668563.11819, newton_decrement = 1.49e+02, seconds_since_start = 2.2\n",
      "Iteration 3: norm_delta = 2.00e-02, step_size = 0.9500, log_lik = -668411.41773, newton_decrement = 1.29e+00, seconds_since_start = 3.3\n",
      "Iteration 4: norm_delta = 1.32e-04, step_size = 1.0000, log_lik = -668410.11775, newton_decrement = 6.67e-05, seconds_since_start = 4.4\n",
      "Iteration 5: norm_delta = 7.69e-09, step_size = 1.0000, log_lik = -668410.11769, newton_decrement = 3.08e-13, seconds_since_start = 5.5\n",
      "Convergence success after 5 iterations.\n",
      "Evaluating Bin 34\n",
      "Iteration 1: norm_delta = 7.55e-02, step_size = 0.9500, log_lik = -674771.34752, newton_decrement = 1.72e+02, seconds_since_start = 1.2\n",
      "Iteration 2: norm_delta = 4.93e-03, step_size = 0.9500, log_lik = -674598.09239, newton_decrement = 7.14e-01, seconds_since_start = 2.5\n",
      "Iteration 3: norm_delta = 2.53e-04, step_size = 0.9500, log_lik = -674597.37973, newton_decrement = 1.87e-03, seconds_since_start = 3.7\n",
      "Iteration 4: norm_delta = 1.60e-08, step_size = 1.0000, log_lik = -674597.37786, newton_decrement = 7.52e-12, seconds_since_start = 4.9\n",
      "Convergence success after 4 iterations.\n",
      "Iteration 1: norm_delta = 6.88e-01, step_size = 0.9500, log_lik = -674771.34752, newton_decrement = 6.45e+03, seconds_since_start = 1.1\n",
      "Iteration 2: norm_delta = 1.94e-01, step_size = 0.9500, log_lik = -668561.26002, newton_decrement = 1.49e+02, seconds_since_start = 2.2\n",
      "Iteration 3: norm_delta = 2.00e-02, step_size = 0.9500, log_lik = -668409.65921, newton_decrement = 1.29e+00, seconds_since_start = 3.3\n",
      "Iteration 4: norm_delta = 1.32e-04, step_size = 1.0000, log_lik = -668408.35955, newton_decrement = 6.67e-05, seconds_since_start = 4.4\n",
      "Iteration 5: norm_delta = 7.70e-09, step_size = 1.0000, log_lik = -668408.35948, newton_decrement = 3.08e-13, seconds_since_start = 5.5\n",
      "Convergence success after 5 iterations.\n",
      "Evaluating Bin 35\n",
      "Iteration 1: norm_delta = 7.42e-02, step_size = 0.9500, log_lik = -674771.34752, newton_decrement = 1.69e+02, seconds_since_start = 1.2\n",
      "Iteration 2: norm_delta = 6.08e-03, step_size = 0.9500, log_lik = -674599.68863, newton_decrement = 1.07e+00, seconds_since_start = 2.5\n",
      "Iteration 3: norm_delta = 3.21e-04, step_size = 0.9500, log_lik = -674598.61686, newton_decrement = 2.98e-03, seconds_since_start = 3.7\n",
      "Iteration 4: norm_delta = 4.84e-08, step_size = 1.0000, log_lik = -674598.61388, newton_decrement = 6.74e-11, seconds_since_start = 4.9\n",
      "Convergence success after 4 iterations.\n",
      "Iteration 1: norm_delta = 6.86e-01, step_size = 0.9500, log_lik = -674771.34752, newton_decrement = 6.46e+03, seconds_since_start = 1.2\n",
      "Iteration 2: norm_delta = 1.93e-01, step_size = 0.9500, log_lik = -668558.62195, newton_decrement = 1.48e+02, seconds_since_start = 2.2\n",
      "Iteration 3: norm_delta = 2.00e-02, step_size = 0.9500, log_lik = -668407.23528, newton_decrement = 1.29e+00, seconds_since_start = 3.3\n",
      "Iteration 4: norm_delta = 1.32e-04, step_size = 1.0000, log_lik = -668405.93537, newton_decrement = 6.69e-05, seconds_since_start = 4.4\n",
      "Iteration 5: norm_delta = 7.71e-09, step_size = 1.0000, log_lik = -668405.93530, newton_decrement = 3.09e-13, seconds_since_start = 5.5\n",
      "Convergence success after 5 iterations.\n",
      "Evaluating Bin 36\n",
      "Iteration 1: norm_delta = 7.25e-02, step_size = 0.9500, log_lik = -674771.34752, newton_decrement = 1.67e+02, seconds_since_start = 1.2\n",
      "Iteration 2: norm_delta = 6.79e-03, step_size = 0.9500, log_lik = -674600.43527, newton_decrement = 1.36e+00, seconds_since_start = 2.5\n",
      "Iteration 3: norm_delta = 3.68e-04, step_size = 0.9500, log_lik = -674599.07885, newton_decrement = 3.96e-03, seconds_since_start = 3.7\n",
      "Iteration 4: norm_delta = 8.48e-08, step_size = 1.0000, log_lik = -674599.07489, newton_decrement = 2.10e-10, seconds_since_start = 5.0\n",
      "Convergence success after 4 iterations.\n",
      "Iteration 1: norm_delta = 6.88e-01, step_size = 0.9500, log_lik = -674771.34752, newton_decrement = 6.45e+03, seconds_since_start = 1.1\n",
      "Iteration 2: norm_delta = 1.94e-01, step_size = 0.9500, log_lik = -668568.30612, newton_decrement = 1.49e+02, seconds_since_start = 2.2\n",
      "Iteration 3: norm_delta = 2.00e-02, step_size = 0.9500, log_lik = -668416.80786, newton_decrement = 1.29e+00, seconds_since_start = 3.3\n",
      "Iteration 4: norm_delta = 1.32e-04, step_size = 1.0000, log_lik = -668415.50785, newton_decrement = 6.68e-05, seconds_since_start = 4.4\n",
      "Iteration 5: norm_delta = 7.71e-09, step_size = 1.0000, log_lik = -668415.50779, newton_decrement = 3.08e-13, seconds_since_start = 5.5\n",
      "Convergence success after 5 iterations.\n",
      "Evaluating Bin 37\n",
      "Iteration 1: norm_delta = 7.36e-02, step_size = 0.9500, log_lik = -674771.34752, newton_decrement = 1.66e+02, seconds_since_start = 1.2\n",
      "Iteration 2: norm_delta = 5.78e-03, step_size = 0.9500, log_lik = -674602.83686, newton_decrement = 9.72e-01, seconds_since_start = 2.4\n",
      "Iteration 3: norm_delta = 3.03e-04, step_size = 0.9500, log_lik = -674601.86642, newton_decrement = 2.66e-03, seconds_since_start = 3.7\n",
      "Iteration 4: norm_delta = 3.91e-08, step_size = 1.0000, log_lik = -674601.86376, newton_decrement = 4.42e-11, seconds_since_start = 4.9\n",
      "Convergence success after 4 iterations.\n",
      "Iteration 1: norm_delta = 6.86e-01, step_size = 0.9500, log_lik = -674771.34752, newton_decrement = 6.46e+03, seconds_since_start = 1.1\n",
      "Iteration 2: norm_delta = 1.94e-01, step_size = 0.9500, log_lik = -668556.44155, newton_decrement = 1.49e+02, seconds_since_start = 2.2\n",
      "Iteration 3: norm_delta = 2.01e-02, step_size = 0.9500, log_lik = -668404.74935, newton_decrement = 1.29e+00, seconds_since_start = 3.3\n",
      "Iteration 4: norm_delta = 1.32e-04, step_size = 1.0000, log_lik = -668403.44891, newton_decrement = 6.67e-05, seconds_since_start = 4.3\n",
      "Iteration 5: norm_delta = 7.71e-09, step_size = 1.0000, log_lik = -668403.44885, newton_decrement = 3.08e-13, seconds_since_start = 5.5\n",
      "Convergence success after 5 iterations.\n",
      "Evaluating Bin 38\n",
      "Iteration 1: norm_delta = 7.32e-02, step_size = 0.9500, log_lik = -674771.34752, newton_decrement = 1.62e+02, seconds_since_start = 1.2\n",
      "Iteration 2: norm_delta = 4.81e-03, step_size = 0.9500, log_lik = -674608.68253, newton_decrement = 6.77e-01, seconds_since_start = 2.4\n",
      "Iteration 3: norm_delta = 2.46e-04, step_size = 0.9500, log_lik = -674608.00698, newton_decrement = 1.77e-03, seconds_since_start = 3.7\n",
      "Iteration 4: norm_delta = 1.58e-08, step_size = 1.0000, log_lik = -674608.00521, newton_decrement = 7.28e-12, seconds_since_start = 4.9\n",
      "Convergence success after 4 iterations.\n",
      "Iteration 1: norm_delta = 6.89e-01, step_size = 0.9500, log_lik = -674771.34752, newton_decrement = 6.45e+03, seconds_since_start = 1.1\n",
      "Iteration 2: norm_delta = 1.94e-01, step_size = 0.9500, log_lik = -668563.00056, newton_decrement = 1.49e+02, seconds_since_start = 2.1\n",
      "Iteration 3: norm_delta = 2.00e-02, step_size = 0.9500, log_lik = -668411.52311, newton_decrement = 1.29e+00, seconds_since_start = 3.2\n",
      "Iteration 4: norm_delta = 1.32e-04, step_size = 1.0000, log_lik = -668410.22454, newton_decrement = 6.66e-05, seconds_since_start = 4.3\n",
      "Iteration 5: norm_delta = 7.69e-09, step_size = 1.0000, log_lik = -668410.22448, newton_decrement = 3.07e-13, seconds_since_start = 5.5\n",
      "Convergence success after 5 iterations.\n",
      "Evaluating Bin 39\n",
      "Iteration 1: norm_delta = 7.20e-02, step_size = 0.9500, log_lik = -674771.34752, newton_decrement = 1.59e+02, seconds_since_start = 1.2\n",
      "Iteration 2: norm_delta = 5.37e-03, step_size = 0.9500, log_lik = -674610.17200, newton_decrement = 8.46e-01, seconds_since_start = 2.4\n",
      "Iteration 3: norm_delta = 2.79e-04, step_size = 0.9500, log_lik = -674609.32729, newton_decrement = 2.28e-03, seconds_since_start = 3.7\n",
      "Iteration 4: norm_delta = 2.97e-08, step_size = 1.0000, log_lik = -674609.32500, newton_decrement = 2.58e-11, seconds_since_start = 4.9\n",
      "Convergence success after 4 iterations.\n",
      "Iteration 1: norm_delta = 6.89e-01, step_size = 0.9500, log_lik = -674771.34752, newton_decrement = 6.45e+03, seconds_since_start = 1.1\n",
      "Iteration 2: norm_delta = 1.94e-01, step_size = 0.9500, log_lik = -668563.48974, newton_decrement = 1.49e+02, seconds_since_start = 2.2\n",
      "Iteration 3: norm_delta = 2.00e-02, step_size = 0.9500, log_lik = -668411.89887, newton_decrement = 1.29e+00, seconds_since_start = 3.2\n",
      "Iteration 4: norm_delta = 1.32e-04, step_size = 1.0000, log_lik = -668410.60047, newton_decrement = 6.64e-05, seconds_since_start = 4.4\n",
      "Iteration 5: norm_delta = 7.66e-09, step_size = 1.0000, log_lik = -668410.60041, newton_decrement = 3.05e-13, seconds_since_start = 5.4\n",
      "Convergence success after 5 iterations.\n",
      "Evaluating Bin 40\n",
      "Iteration 1: norm_delta = 7.16e-02, step_size = 0.9500, log_lik = -674771.34752, newton_decrement = 1.56e+02, seconds_since_start = 1.2\n",
      "Iteration 2: norm_delta = 4.70e-03, step_size = 0.9500, log_lik = -674614.71278, newton_decrement = 6.51e-01, seconds_since_start = 2.4\n",
      "Iteration 3: norm_delta = 2.41e-04, step_size = 0.9500, log_lik = -674614.06343, newton_decrement = 1.70e-03, seconds_since_start = 3.7\n",
      "Iteration 4: norm_delta = 1.53e-08, step_size = 1.0000, log_lik = -674614.06173, newton_decrement = 6.83e-12, seconds_since_start = 4.9\n",
      "Convergence success after 4 iterations.\n",
      "Iteration 1: norm_delta = 6.88e-01, step_size = 0.9500, log_lik = -674771.34752, newton_decrement = 6.45e+03, seconds_since_start = 1.1\n",
      "Iteration 2: norm_delta = 1.93e-01, step_size = 0.9500, log_lik = -668564.40460, newton_decrement = 1.49e+02, seconds_since_start = 2.2\n",
      "Iteration 3: norm_delta = 2.00e-02, step_size = 0.9500, log_lik = -668412.82292, newton_decrement = 1.29e+00, seconds_since_start = 3.3\n",
      "Iteration 4: norm_delta = 1.32e-04, step_size = 1.0000, log_lik = -668411.52235, newton_decrement = 6.68e-05, seconds_since_start = 4.4\n",
      "Iteration 5: norm_delta = 7.72e-09, step_size = 1.0000, log_lik = -668411.52228, newton_decrement = 3.09e-13, seconds_since_start = 5.5\n",
      "Convergence success after 5 iterations.\n",
      "Evaluating Bin 41\n",
      "Iteration 1: norm_delta = 6.98e-02, step_size = 0.9500, log_lik = -674771.34752, newton_decrement = 1.55e+02, seconds_since_start = 1.2\n",
      "Iteration 2: norm_delta = 6.84e-03, step_size = 0.9500, log_lik = -674612.92300, newton_decrement = 1.36e+00, seconds_since_start = 2.5\n",
      "Iteration 3: norm_delta = 3.75e-04, step_size = 0.9500, log_lik = -674611.55789, newton_decrement = 4.06e-03, seconds_since_start = 3.7\n",
      "Iteration 4: norm_delta = 9.88e-08, step_size = 1.0000, log_lik = -674611.55383, newton_decrement = 2.82e-10, seconds_since_start = 4.9\n",
      "Convergence success after 4 iterations.\n",
      "Iteration 1: norm_delta = 6.88e-01, step_size = 0.9500, log_lik = -674771.34752, newton_decrement = 6.45e+03, seconds_since_start = 1.1\n",
      "Iteration 2: norm_delta = 1.94e-01, step_size = 0.9500, log_lik = -668567.32384, newton_decrement = 1.49e+02, seconds_since_start = 2.2\n",
      "Iteration 3: norm_delta = 2.01e-02, step_size = 0.9500, log_lik = -668415.68431, newton_decrement = 1.30e+00, seconds_since_start = 3.3\n",
      "Iteration 4: norm_delta = 1.32e-04, step_size = 1.0000, log_lik = -668414.38305, newton_decrement = 6.69e-05, seconds_since_start = 4.3\n",
      "Iteration 5: norm_delta = 7.72e-09, step_size = 1.0000, log_lik = -668414.38299, newton_decrement = 3.09e-13, seconds_since_start = 5.4\n",
      "Convergence success after 5 iterations.\n",
      "Evaluating Bin 42\n",
      "Iteration 1: norm_delta = 7.16e-02, step_size = 0.9500, log_lik = -674771.34752, newton_decrement = 1.55e+02, seconds_since_start = 1.2\n",
      "Iteration 2: norm_delta = 4.59e-03, step_size = 0.9500, log_lik = -674615.89164, newton_decrement = 6.17e-01, seconds_since_start = 2.5\n",
      "Iteration 3: norm_delta = 2.34e-04, step_size = 0.9500, log_lik = -674615.27564, newton_decrement = 1.61e-03, seconds_since_start = 3.7\n",
      "Iteration 4: norm_delta = 1.33e-08, step_size = 1.0000, log_lik = -674615.27404, newton_decrement = 5.15e-12, seconds_since_start = 4.9\n",
      "Convergence success after 4 iterations.\n",
      "Iteration 1: norm_delta = 6.86e-01, step_size = 0.9500, log_lik = -674771.34752, newton_decrement = 6.45e+03, seconds_since_start = 1.1\n",
      "Iteration 2: norm_delta = 1.94e-01, step_size = 0.9500, log_lik = -668562.84369, newton_decrement = 1.49e+02, seconds_since_start = 2.2\n",
      "Iteration 3: norm_delta = 2.00e-02, step_size = 0.9500, log_lik = -668411.36747, newton_decrement = 1.29e+00, seconds_since_start = 3.3\n",
      "Iteration 4: norm_delta = 1.32e-04, step_size = 1.0000, log_lik = -668410.06711, newton_decrement = 6.68e-05, seconds_since_start = 4.4\n",
      "Iteration 5: norm_delta = 7.72e-09, step_size = 1.0000, log_lik = -668410.06704, newton_decrement = 3.09e-13, seconds_since_start = 5.5\n",
      "Convergence success after 5 iterations.\n",
      "Evaluating Bin 43\n",
      "Iteration 1: norm_delta = 7.12e-02, step_size = 0.9500, log_lik = -674771.34752, newton_decrement = 1.52e+02, seconds_since_start = 1.2\n",
      "Iteration 2: norm_delta = 4.36e-03, step_size = 0.9500, log_lik = -674618.58354, newton_decrement = 5.58e-01, seconds_since_start = 2.5\n",
      "Iteration 3: norm_delta = 2.22e-04, step_size = 0.9500, log_lik = -674618.02707, newton_decrement = 1.44e-03, seconds_since_start = 3.7\n",
      "Iteration 4: norm_delta = 9.99e-09, step_size = 1.0000, log_lik = -674618.02563, newton_decrement = 2.93e-12, seconds_since_start = 4.9\n",
      "Convergence success after 4 iterations.\n",
      "Iteration 1: norm_delta = 6.88e-01, step_size = 0.9500, log_lik = -674771.34752, newton_decrement = 6.45e+03, seconds_since_start = 1.1\n",
      "Iteration 2: norm_delta = 1.94e-01, step_size = 0.9500, log_lik = -668560.87342, newton_decrement = 1.49e+02, seconds_since_start = 2.3\n",
      "Iteration 3: norm_delta = 2.01e-02, step_size = 0.9500, log_lik = -668409.26091, newton_decrement = 1.30e+00, seconds_since_start = 3.3\n",
      "Iteration 4: norm_delta = 1.32e-04, step_size = 1.0000, log_lik = -668407.95895, newton_decrement = 6.70e-05, seconds_since_start = 4.4\n",
      "Iteration 5: norm_delta = 7.74e-09, step_size = 1.0000, log_lik = -668407.95888, newton_decrement = 3.11e-13, seconds_since_start = 5.5\n",
      "Convergence success after 5 iterations.\n",
      "Evaluating Bin 44\n",
      "Iteration 1: norm_delta = 7.13e-02, step_size = 0.9500, log_lik = -674771.34752, newton_decrement = 1.50e+02, seconds_since_start = 1.2\n",
      "Iteration 2: norm_delta = 3.10e-03, step_size = 0.9500, log_lik = -674622.46373, newton_decrement = 2.86e-01, seconds_since_start = 2.4\n",
      "Iteration 3: norm_delta = 1.54e-04, step_size = 0.9500, log_lik = -674622.17835, newton_decrement = 7.11e-04, seconds_since_start = 3.7\n",
      "Iteration 4: norm_delta = 1.09e-09, step_size = 1.0000, log_lik = -674622.17764, newton_decrement = 3.57e-14, seconds_since_start = 4.9\n",
      "Convergence success after 4 iterations.\n",
      "Iteration 1: norm_delta = 6.89e-01, step_size = 0.9500, log_lik = -674771.34752, newton_decrement = 6.45e+03, seconds_since_start = 1.1\n",
      "Iteration 2: norm_delta = 1.93e-01, step_size = 0.9500, log_lik = -668565.86535, newton_decrement = 1.49e+02, seconds_since_start = 2.2\n",
      "Iteration 3: norm_delta = 2.00e-02, step_size = 0.9500, log_lik = -668414.39750, newton_decrement = 1.29e+00, seconds_since_start = 3.3\n",
      "Iteration 4: norm_delta = 1.32e-04, step_size = 1.0000, log_lik = -668413.09786, newton_decrement = 6.67e-05, seconds_since_start = 4.3\n",
      "Iteration 5: norm_delta = 7.71e-09, step_size = 1.0000, log_lik = -668413.09780, newton_decrement = 3.08e-13, seconds_since_start = 5.5\n",
      "Convergence success after 5 iterations.\n",
      "Evaluating Bin 45\n",
      "Iteration 1: norm_delta = 6.87e-02, step_size = 0.9500, log_lik = -674771.34752, newton_decrement = 1.44e+02, seconds_since_start = 1.2\n",
      "Iteration 2: norm_delta = 4.82e-03, step_size = 0.9500, log_lik = -674626.44418, newton_decrement = 6.80e-01, seconds_since_start = 2.5\n",
      "Iteration 3: norm_delta = 2.49e-04, step_size = 0.9500, log_lik = -674625.76496, newton_decrement = 1.81e-03, seconds_since_start = 3.7\n",
      "Iteration 4: norm_delta = 2.06e-08, step_size = 1.0000, log_lik = -674625.76316, newton_decrement = 1.24e-11, seconds_since_start = 4.9\n",
      "Convergence success after 4 iterations.\n",
      "Iteration 1: norm_delta = 6.88e-01, step_size = 0.9500, log_lik = -674771.34752, newton_decrement = 6.44e+03, seconds_since_start = 1.1\n",
      "Iteration 2: norm_delta = 1.94e-01, step_size = 0.9500, log_lik = -668571.17486, newton_decrement = 1.49e+02, seconds_since_start = 2.1\n",
      "Iteration 3: norm_delta = 2.00e-02, step_size = 0.9500, log_lik = -668419.55655, newton_decrement = 1.30e+00, seconds_since_start = 3.2\n",
      "Iteration 4: norm_delta = 1.32e-04, step_size = 1.0000, log_lik = -668418.25555, newton_decrement = 6.68e-05, seconds_since_start = 4.3\n",
      "Iteration 5: norm_delta = 7.71e-09, step_size = 1.0000, log_lik = -668418.25549, newton_decrement = 3.09e-13, seconds_since_start = 5.4\n",
      "Convergence success after 5 iterations.\n",
      "Evaluating Bin 46\n",
      "Iteration 1: norm_delta = 6.88e-02, step_size = 0.9500, log_lik = -674771.34752, newton_decrement = 1.39e+02, seconds_since_start = 1.2\n",
      "Iteration 2: norm_delta = 2.61e-03, step_size = 0.9500, log_lik = -674634.03963, newton_decrement = 2.04e-01, seconds_since_start = 2.5\n",
      "Iteration 3: norm_delta = 1.30e-04, step_size = 0.9500, log_lik = -674633.83568, newton_decrement = 5.04e-04, seconds_since_start = 3.7\n",
      "Iteration 4: norm_delta = 2.23e-09, step_size = 1.0000, log_lik = -674633.83518, newton_decrement = 1.49e-13, seconds_since_start = 4.9\n",
      "Convergence success after 4 iterations.\n",
      "Iteration 1: norm_delta = 6.91e-01, step_size = 0.9500, log_lik = -674771.34752, newton_decrement = 6.45e+03, seconds_since_start = 1.1\n",
      "Iteration 2: norm_delta = 1.94e-01, step_size = 0.9500, log_lik = -668565.40416, newton_decrement = 1.49e+02, seconds_since_start = 2.2\n",
      "Iteration 3: norm_delta = 2.00e-02, step_size = 0.9500, log_lik = -668413.75928, newton_decrement = 1.29e+00, seconds_since_start = 3.3\n",
      "Iteration 4: norm_delta = 1.32e-04, step_size = 1.0000, log_lik = -668412.45913, newton_decrement = 6.68e-05, seconds_since_start = 4.4\n",
      "Iteration 5: norm_delta = 7.71e-09, step_size = 1.0000, log_lik = -668412.45906, newton_decrement = 3.08e-13, seconds_since_start = 5.5\n",
      "Convergence success after 5 iterations.\n",
      "Evaluating Bin 47\n",
      "Iteration 1: norm_delta = 6.86e-02, step_size = 0.9500, log_lik = -674771.34752, newton_decrement = 1.37e+02, seconds_since_start = 1.2\n",
      "Iteration 2: norm_delta = 2.12e-03, step_size = 0.9500, log_lik = -674636.26716, newton_decrement = 1.36e-01, seconds_since_start = 2.4\n",
      "Iteration 3: norm_delta = 1.05e-04, step_size = 0.9500, log_lik = -674636.13180, newton_decrement = 3.33e-04, seconds_since_start = 3.7\n",
      "Iteration 4: norm_delta = 2.65e-09, step_size = 1.0000, log_lik = -674636.13147, newton_decrement = 2.13e-13, seconds_since_start = 4.9\n",
      "Convergence success after 4 iterations.\n",
      "Iteration 1: norm_delta = 6.89e-01, step_size = 0.9500, log_lik = -674771.34752, newton_decrement = 6.45e+03, seconds_since_start = 1.1\n",
      "Iteration 2: norm_delta = 1.93e-01, step_size = 0.9500, log_lik = -668564.57412, newton_decrement = 1.49e+02, seconds_since_start = 2.2\n",
      "Iteration 3: norm_delta = 2.01e-02, step_size = 0.9500, log_lik = -668412.93427, newton_decrement = 1.30e+00, seconds_since_start = 3.3\n",
      "Iteration 4: norm_delta = 1.32e-04, step_size = 1.0000, log_lik = -668411.63083, newton_decrement = 6.73e-05, seconds_since_start = 4.4\n",
      "Iteration 5: norm_delta = 7.77e-09, step_size = 1.0000, log_lik = -668411.63077, newton_decrement = 3.13e-13, seconds_since_start = 5.5\n",
      "Convergence success after 5 iterations.\n",
      "Evaluating Bin 48\n",
      "Iteration 1: norm_delta = 6.69e-02, step_size = 0.9500, log_lik = -674771.34752, newton_decrement = 1.33e+02, seconds_since_start = 1.2\n",
      "Iteration 2: norm_delta = 3.19e-03, step_size = 0.9500, log_lik = -674639.23778, newton_decrement = 3.03e-01, seconds_since_start = 2.5\n",
      "Iteration 3: norm_delta = 1.60e-04, step_size = 0.9500, log_lik = -674638.93603, newton_decrement = 7.57e-04, seconds_since_start = 3.7\n",
      "Iteration 4: norm_delta = 2.41e-10, step_size = 1.0000, log_lik = -674638.93527, newton_decrement = 1.72e-15, seconds_since_start = 4.9\n",
      "Convergence success after 4 iterations.\n",
      "Iteration 1: norm_delta = 6.89e-01, step_size = 0.9500, log_lik = -674771.34752, newton_decrement = 6.44e+03, seconds_since_start = 1.1\n",
      "Iteration 2: norm_delta = 1.94e-01, step_size = 0.9500, log_lik = -668570.09669, newton_decrement = 1.49e+02, seconds_since_start = 2.2\n",
      "Iteration 3: norm_delta = 2.00e-02, step_size = 0.9500, log_lik = -668418.58138, newton_decrement = 1.29e+00, seconds_since_start = 3.3\n",
      "Iteration 4: norm_delta = 1.32e-04, step_size = 1.0000, log_lik = -668417.28115, newton_decrement = 6.68e-05, seconds_since_start = 4.4\n",
      "Iteration 5: norm_delta = 7.72e-09, step_size = 1.0000, log_lik = -668417.28108, newton_decrement = 3.09e-13, seconds_since_start = 5.5\n",
      "Convergence success after 5 iterations.\n",
      "Evaluating Bin 49\n",
      "Iteration 1: norm_delta = 6.66e-02, step_size = 0.9500, log_lik = -674771.34752, newton_decrement = 1.31e+02, seconds_since_start = 1.2\n",
      "Iteration 2: norm_delta = 2.90e-03, step_size = 0.9500, log_lik = -674641.47119, newton_decrement = 2.51e-01, seconds_since_start = 2.5\n",
      "Iteration 3: norm_delta = 1.45e-04, step_size = 0.9500, log_lik = -674641.22116, newton_decrement = 6.23e-04, seconds_since_start = 3.7\n",
      "Iteration 4: norm_delta = 1.13e-09, step_size = 1.0000, log_lik = -674641.22053, newton_decrement = 3.79e-14, seconds_since_start = 4.9\n",
      "Convergence success after 4 iterations.\n",
      "Iteration 1: norm_delta = 6.88e-01, step_size = 0.9500, log_lik = -674771.34752, newton_decrement = 6.45e+03, seconds_since_start = 1.1\n",
      "Iteration 2: norm_delta = 1.94e-01, step_size = 0.9500, log_lik = -668568.70809, newton_decrement = 1.49e+02, seconds_since_start = 2.1\n",
      "Iteration 3: norm_delta = 2.01e-02, step_size = 0.9500, log_lik = -668417.15854, newton_decrement = 1.30e+00, seconds_since_start = 3.2\n",
      "Iteration 4: norm_delta = 1.32e-04, step_size = 1.0000, log_lik = -668415.85715, newton_decrement = 6.70e-05, seconds_since_start = 4.3\n",
      "Iteration 5: norm_delta = 7.74e-09, step_size = 1.0000, log_lik = -668415.85709, newton_decrement = 3.11e-13, seconds_since_start = 5.3\n",
      "Convergence success after 5 iterations.\n",
      "Evaluating Bin 50\n",
      "Iteration 1: norm_delta = 6.48e-02, step_size = 0.9500, log_lik = -674771.34752, newton_decrement = 1.26e+02, seconds_since_start = 1.2\n",
      "Iteration 2: norm_delta = 3.61e-03, step_size = 0.9500, log_lik = -674645.59963, newton_decrement = 3.86e-01, seconds_since_start = 2.5\n",
      "Iteration 3: norm_delta = 1.82e-04, step_size = 0.9500, log_lik = -674645.21414, newton_decrement = 9.83e-04, seconds_since_start = 3.7\n",
      "Iteration 4: norm_delta = 4.39e-09, step_size = 1.0000, log_lik = -674645.21315, newton_decrement = 5.70e-13, seconds_since_start = 4.9\n",
      "Convergence success after 4 iterations.\n",
      "Iteration 1: norm_delta = 6.90e-01, step_size = 0.9500, log_lik = -674771.34752, newton_decrement = 6.45e+03, seconds_since_start = 1.1\n",
      "Iteration 2: norm_delta = 1.93e-01, step_size = 0.9500, log_lik = -668567.56427, newton_decrement = 1.49e+02, seconds_since_start = 2.2\n",
      "Iteration 3: norm_delta = 2.00e-02, step_size = 0.9500, log_lik = -668415.96561, newton_decrement = 1.29e+00, seconds_since_start = 3.2\n",
      "Iteration 4: norm_delta = 1.32e-04, step_size = 1.0000, log_lik = -668414.66569, newton_decrement = 6.67e-05, seconds_since_start = 4.3\n",
      "Iteration 5: norm_delta = 7.70e-09, step_size = 1.0000, log_lik = -668414.66562, newton_decrement = 3.08e-13, seconds_since_start = 5.4\n",
      "Convergence success after 5 iterations.\n",
      "Evaluating Bin 51\n",
      "Iteration 1: norm_delta = 6.46e-02, step_size = 0.9500, log_lik = -674771.34752, newton_decrement = 1.22e+02, seconds_since_start = 1.2\n",
      "Iteration 2: norm_delta = 2.27e-03, step_size = 0.9500, log_lik = -674650.91925, newton_decrement = 1.55e-01, seconds_since_start = 2.5\n",
      "Iteration 3: norm_delta = 1.13e-04, step_size = 0.9500, log_lik = -674650.76484, newton_decrement = 3.81e-04, seconds_since_start = 3.7\n",
      "Iteration 4: norm_delta = 2.44e-09, step_size = 1.0000, log_lik = -674650.76446, newton_decrement = 1.79e-13, seconds_since_start = 5.0\n",
      "Convergence success after 4 iterations.\n",
      "Iteration 1: norm_delta = 6.90e-01, step_size = 0.9500, log_lik = -674771.34752, newton_decrement = 6.45e+03, seconds_since_start = 1.1\n",
      "Iteration 2: norm_delta = 1.94e-01, step_size = 0.9500, log_lik = -668567.62520, newton_decrement = 1.49e+02, seconds_since_start = 2.2\n",
      "Iteration 3: norm_delta = 2.01e-02, step_size = 0.9500, log_lik = -668415.98979, newton_decrement = 1.30e+00, seconds_since_start = 3.3\n",
      "Iteration 4: norm_delta = 1.32e-04, step_size = 1.0000, log_lik = -668414.68691, newton_decrement = 6.72e-05, seconds_since_start = 4.4\n",
      "Iteration 5: norm_delta = 7.76e-09, step_size = 1.0000, log_lik = -668414.68684, newton_decrement = 3.12e-13, seconds_since_start = 5.4\n",
      "Convergence success after 5 iterations.\n",
      "Evaluating Bin 52\n",
      "Iteration 1: norm_delta = 6.37e-02, step_size = 0.9500, log_lik = -674771.34752, newton_decrement = 1.18e+02, seconds_since_start = 1.2\n",
      "Iteration 2: norm_delta = 2.12e-03, step_size = 0.9500, log_lik = -674654.70800, newton_decrement = 1.35e-01, seconds_since_start = 2.5\n",
      "Iteration 3: norm_delta = 1.05e-04, step_size = 0.9500, log_lik = -674654.57328, newton_decrement = 3.32e-04, seconds_since_start = 3.7\n",
      "Iteration 4: norm_delta = 2.50e-09, step_size = 1.0000, log_lik = -674654.57295, newton_decrement = 1.88e-13, seconds_since_start = 4.9\n",
      "Convergence success after 4 iterations.\n",
      "Iteration 1: norm_delta = 6.89e-01, step_size = 0.9500, log_lik = -674771.34752, newton_decrement = 6.45e+03, seconds_since_start = 1.1\n",
      "Iteration 2: norm_delta = 1.94e-01, step_size = 0.9500, log_lik = -668566.22181, newton_decrement = 1.49e+02, seconds_since_start = 2.2\n",
      "Iteration 3: norm_delta = 2.00e-02, step_size = 0.9500, log_lik = -668414.66328, newton_decrement = 1.29e+00, seconds_since_start = 3.3\n",
      "Iteration 4: norm_delta = 1.32e-04, step_size = 1.0000, log_lik = -668413.36390, newton_decrement = 6.66e-05, seconds_since_start = 4.4\n",
      "Iteration 5: norm_delta = 7.69e-09, step_size = 1.0000, log_lik = -668413.36383, newton_decrement = 3.07e-13, seconds_since_start = 5.4\n",
      "Convergence success after 5 iterations.\n",
      "Evaluating Bin 53\n",
      "Iteration 1: norm_delta = 6.16e-02, step_size = 0.9500, log_lik = -674771.34752, newton_decrement = 1.18e+02, seconds_since_start = 1.2\n",
      "Iteration 2: norm_delta = 4.95e-03, step_size = 0.9500, log_lik = -674651.66871, newton_decrement = 7.20e-01, seconds_since_start = 2.5\n",
      "Iteration 3: norm_delta = 2.60e-04, step_size = 0.9500, log_lik = -674650.94959, newton_decrement = 1.98e-03, seconds_since_start = 3.7\n",
      "Iteration 4: norm_delta = 3.51e-08, step_size = 1.0000, log_lik = -674650.94761, newton_decrement = 3.60e-11, seconds_since_start = 5.0\n",
      "Convergence success after 4 iterations.\n",
      "Iteration 1: norm_delta = 6.88e-01, step_size = 0.9500, log_lik = -674771.34752, newton_decrement = 6.44e+03, seconds_since_start = 1.1\n",
      "Iteration 2: norm_delta = 1.93e-01, step_size = 0.9500, log_lik = -668572.95983, newton_decrement = 1.48e+02, seconds_since_start = 2.3\n",
      "Iteration 3: norm_delta = 2.00e-02, step_size = 0.9500, log_lik = -668421.54165, newton_decrement = 1.29e+00, seconds_since_start = 3.3\n",
      "Iteration 4: norm_delta = 1.32e-04, step_size = 1.0000, log_lik = -668420.24167, newton_decrement = 6.68e-05, seconds_since_start = 4.4\n",
      "Iteration 5: norm_delta = 7.72e-09, step_size = 1.0000, log_lik = -668420.24161, newton_decrement = 3.09e-13, seconds_since_start = 5.5\n",
      "Convergence success after 5 iterations.\n",
      "Evaluating Bin 54\n",
      "Iteration 1: norm_delta = 6.20e-02, step_size = 0.9500, log_lik = -674771.34752, newton_decrement = 1.14e+02, seconds_since_start = 1.2\n",
      "Iteration 2: norm_delta = 3.03e-03, step_size = 0.9500, log_lik = -674657.66337, newton_decrement = 2.73e-01, seconds_since_start = 2.5\n",
      "Iteration 3: norm_delta = 1.52e-04, step_size = 0.9500, log_lik = -674657.39153, newton_decrement = 6.83e-04, seconds_since_start = 3.7\n",
      "Iteration 4: norm_delta = 5.17e-10, step_size = 1.0000, log_lik = -674657.39085, newton_decrement = 7.94e-15, seconds_since_start = 4.9\n",
      "Convergence success after 4 iterations.\n",
      "Iteration 1: norm_delta = 6.88e-01, step_size = 0.9500, log_lik = -674771.34752, newton_decrement = 6.45e+03, seconds_since_start = 1.1\n",
      "Iteration 2: norm_delta = 1.93e-01, step_size = 0.9500, log_lik = -668563.67097, newton_decrement = 1.48e+02, seconds_since_start = 2.2\n",
      "Iteration 3: norm_delta = 2.00e-02, step_size = 0.9500, log_lik = -668412.26827, newton_decrement = 1.29e+00, seconds_since_start = 3.2\n",
      "Iteration 4: norm_delta = 1.32e-04, step_size = 1.0000, log_lik = -668410.96985, newton_decrement = 6.66e-05, seconds_since_start = 4.3\n",
      "Iteration 5: norm_delta = 7.69e-09, step_size = 1.0000, log_lik = -668410.96978, newton_decrement = 3.07e-13, seconds_since_start = 5.4\n",
      "Convergence success after 5 iterations.\n",
      "Evaluating Bin 55\n",
      "Iteration 1: norm_delta = 6.21e-02, step_size = 0.9500, log_lik = -674771.34752, newton_decrement = 1.13e+02, seconds_since_start = 1.2\n",
      "Iteration 2: norm_delta = 2.43e-03, step_size = 0.9500, log_lik = -674659.42752, newton_decrement = 1.76e-01, seconds_since_start = 2.5\n",
      "Iteration 3: norm_delta = 1.21e-04, step_size = 0.9500, log_lik = -674659.25184, newton_decrement = 4.35e-04, seconds_since_start = 3.7\n",
      "Iteration 4: norm_delta = 2.00e-09, step_size = 1.0000, log_lik = -674659.25141, newton_decrement = 1.20e-13, seconds_since_start = 4.9\n",
      "Convergence success after 4 iterations.\n",
      "Iteration 1: norm_delta = 6.89e-01, step_size = 0.9500, log_lik = -674771.34752, newton_decrement = 6.44e+03, seconds_since_start = 1.1\n",
      "Iteration 2: norm_delta = 1.94e-01, step_size = 0.9500, log_lik = -668569.99515, newton_decrement = 1.49e+02, seconds_since_start = 2.3\n",
      "Iteration 3: norm_delta = 2.01e-02, step_size = 0.9500, log_lik = -668418.43174, newton_decrement = 1.29e+00, seconds_since_start = 3.3\n",
      "Iteration 4: norm_delta = 1.32e-04, step_size = 1.0000, log_lik = -668417.13159, newton_decrement = 6.67e-05, seconds_since_start = 4.5\n",
      "Iteration 5: norm_delta = 7.71e-09, step_size = 1.0000, log_lik = -668417.13152, newton_decrement = 3.08e-13, seconds_since_start = 5.6\n",
      "Convergence success after 5 iterations.\n",
      "Evaluating Bin 56\n",
      "Iteration 1: norm_delta = 5.75e-02, step_size = 0.9500, log_lik = -674771.34752, newton_decrement = 1.01e+02, seconds_since_start = 1.2\n",
      "Iteration 2: norm_delta = 4.05e-03, step_size = 0.9500, log_lik = -674669.68168, newton_decrement = 4.82e-01, seconds_since_start = 2.4\n",
      "Iteration 3: norm_delta = 2.09e-04, step_size = 0.9500, log_lik = -674669.20087, newton_decrement = 1.28e-03, seconds_since_start = 3.7\n",
      "Iteration 4: norm_delta = 1.69e-08, step_size = 1.0000, log_lik = -674669.19959, newton_decrement = 8.37e-12, seconds_since_start = 4.9\n",
      "Convergence success after 4 iterations.\n",
      "Iteration 1: norm_delta = 6.88e-01, step_size = 0.9500, log_lik = -674771.34752, newton_decrement = 6.44e+03, seconds_since_start = 1.1\n",
      "Iteration 2: norm_delta = 1.94e-01, step_size = 0.9500, log_lik = -668572.79993, newton_decrement = 1.49e+02, seconds_since_start = 2.2\n",
      "Iteration 3: norm_delta = 2.00e-02, step_size = 0.9500, log_lik = -668421.12013, newton_decrement = 1.30e+00, seconds_since_start = 3.4\n",
      "Iteration 4: norm_delta = 1.32e-04, step_size = 1.0000, log_lik = -668419.81849, newton_decrement = 6.70e-05, seconds_since_start = 4.4\n",
      "Iteration 5: norm_delta = 7.74e-09, step_size = 1.0000, log_lik = -668419.81842, newton_decrement = 3.10e-13, seconds_since_start = 5.5\n",
      "Convergence success after 5 iterations.\n",
      "Evaluating Bin 57\n",
      "Iteration 1: norm_delta = 5.80e-02, step_size = 0.9500, log_lik = -674771.34752, newton_decrement = 9.75e+01, seconds_since_start = 1.2\n",
      "Iteration 2: norm_delta = 1.85e-03, step_size = 0.9500, log_lik = -674675.12622, newton_decrement = 1.03e-01, seconds_since_start = 2.5\n",
      "Iteration 3: norm_delta = 9.18e-05, step_size = 0.9500, log_lik = -674675.02324, newton_decrement = 2.53e-04, seconds_since_start = 3.7\n",
      "Iteration 4: norm_delta = 2.37e-09, step_size = 1.0000, log_lik = -674675.02299, newton_decrement = 1.68e-13, seconds_since_start = 4.9\n",
      "Convergence success after 4 iterations.\n",
      "Iteration 1: norm_delta = 6.90e-01, step_size = 0.9500, log_lik = -674771.34752, newton_decrement = 6.45e+03, seconds_since_start = 1.1\n",
      "Iteration 2: norm_delta = 1.93e-01, step_size = 0.9500, log_lik = -668565.41597, newton_decrement = 1.49e+02, seconds_since_start = 2.1\n",
      "Iteration 3: norm_delta = 2.00e-02, step_size = 0.9500, log_lik = -668413.88342, newton_decrement = 1.29e+00, seconds_since_start = 3.2\n",
      "Iteration 4: norm_delta = 1.32e-04, step_size = 1.0000, log_lik = -668412.58313, newton_decrement = 6.68e-05, seconds_since_start = 4.2\n",
      "Iteration 5: norm_delta = 7.72e-09, step_size = 1.0000, log_lik = -668412.58306, newton_decrement = 3.09e-13, seconds_since_start = 5.3\n",
      "Convergence success after 5 iterations.\n",
      "Evaluating Bin 58\n",
      "Iteration 1: norm_delta = 5.66e-02, step_size = 0.9500, log_lik = -674771.34752, newton_decrement = 9.22e+01, seconds_since_start = 1.2\n",
      "Iteration 2: norm_delta = 1.29e-03, step_size = 0.9500, log_lik = -674680.90049, newton_decrement = 5.07e-02, seconds_since_start = 2.5\n",
      "Iteration 3: norm_delta = 6.38e-05, step_size = 0.9500, log_lik = -674680.84995, newton_decrement = 1.24e-04, seconds_since_start = 3.7\n",
      "Iteration 4: norm_delta = 1.88e-09, step_size = 1.0000, log_lik = -674680.84982, newton_decrement = 1.08e-13, seconds_since_start = 5.0\n",
      "Convergence success after 4 iterations.\n",
      "Iteration 1: norm_delta = 6.90e-01, step_size = 0.9500, log_lik = -674771.34752, newton_decrement = 6.45e+03, seconds_since_start = 1.1\n",
      "Iteration 2: norm_delta = 1.94e-01, step_size = 0.9500, log_lik = -668569.59749, newton_decrement = 1.49e+02, seconds_since_start = 2.1\n",
      "Iteration 3: norm_delta = 2.01e-02, step_size = 0.9500, log_lik = -668417.75373, newton_decrement = 1.30e+00, seconds_since_start = 3.2\n",
      "Iteration 4: norm_delta = 1.33e-04, step_size = 1.0000, log_lik = -668416.44639, newton_decrement = 6.78e-05, seconds_since_start = 4.3\n",
      "Iteration 5: norm_delta = 7.84e-09, step_size = 1.0000, log_lik = -668416.44632, newton_decrement = 3.19e-13, seconds_since_start = 5.4\n",
      "Convergence success after 5 iterations.\n",
      "Evaluating Bin 59\n",
      "Iteration 1: norm_delta = 5.55e-02, step_size = 0.9500, log_lik = -674771.34752, newton_decrement = 8.90e+01, seconds_since_start = 1.2\n",
      "Iteration 2: norm_delta = 1.16e-03, step_size = 0.9500, log_lik = -674684.14395, newton_decrement = 4.12e-02, seconds_since_start = 2.4\n",
      "Iteration 3: norm_delta = 5.73e-05, step_size = 0.9500, log_lik = -674684.10288, newton_decrement = 1.01e-04, seconds_since_start = 3.7\n",
      "Iteration 4: norm_delta = 1.67e-09, step_size = 1.0000, log_lik = -674684.10278, newton_decrement = 8.59e-14, seconds_since_start = 4.9\n",
      "Convergence success after 4 iterations.\n",
      "Iteration 1: norm_delta = 6.89e-01, step_size = 0.9500, log_lik = -674771.34752, newton_decrement = 6.44e+03, seconds_since_start = 1.1\n",
      "Iteration 2: norm_delta = 1.93e-01, step_size = 0.9500, log_lik = -668573.83392, newton_decrement = 1.49e+02, seconds_since_start = 2.1\n",
      "Iteration 3: norm_delta = 2.01e-02, step_size = 0.9500, log_lik = -668422.23840, newton_decrement = 1.30e+00, seconds_since_start = 3.2\n",
      "Iteration 4: norm_delta = 1.32e-04, step_size = 1.0000, log_lik = -668420.93722, newton_decrement = 6.69e-05, seconds_since_start = 4.3\n",
      "Iteration 5: norm_delta = 7.72e-09, step_size = 1.0000, log_lik = -668420.93715, newton_decrement = 3.09e-13, seconds_since_start = 5.3\n",
      "Convergence success after 5 iterations.\n",
      "Evaluating Bin 60\n",
      "Iteration 1: norm_delta = 5.51e-02, step_size = 0.9500, log_lik = -674771.34752, newton_decrement = 8.90e+01, seconds_since_start = 1.2\n",
      "Iteration 2: norm_delta = 2.22e-03, step_size = 0.9500, log_lik = -674683.10225, newton_decrement = 1.47e-01, seconds_since_start = 2.5\n",
      "Iteration 3: norm_delta = 1.10e-04, step_size = 0.9500, log_lik = -674682.95586, newton_decrement = 3.62e-04, seconds_since_start = 3.7\n",
      "Iteration 4: norm_delta = 1.74e-09, step_size = 1.0000, log_lik = -674682.95550, newton_decrement = 9.05e-14, seconds_since_start = 4.9\n",
      "Convergence success after 4 iterations.\n",
      "Iteration 1: norm_delta = 6.88e-01, step_size = 0.9500, log_lik = -674771.34752, newton_decrement = 6.44e+03, seconds_since_start = 1.1\n",
      "Iteration 2: norm_delta = 1.93e-01, step_size = 0.9500, log_lik = -668572.48430, newton_decrement = 1.49e+02, seconds_since_start = 2.2\n",
      "Iteration 3: norm_delta = 2.00e-02, step_size = 0.9500, log_lik = -668420.89446, newton_decrement = 1.30e+00, seconds_since_start = 3.3\n",
      "Iteration 4: norm_delta = 1.32e-04, step_size = 1.0000, log_lik = -668419.59380, newton_decrement = 6.68e-05, seconds_since_start = 4.3\n",
      "Iteration 5: norm_delta = 7.71e-09, step_size = 1.0000, log_lik = -668419.59373, newton_decrement = 3.09e-13, seconds_since_start = 5.4\n",
      "Convergence success after 5 iterations.\n",
      "Evaluating Bin 61\n",
      "Iteration 1: norm_delta = 5.15e-02, step_size = 0.9500, log_lik = -674771.34752, newton_decrement = 7.76e+01, seconds_since_start = 1.2\n",
      "Iteration 2: norm_delta = 2.06e-03, step_size = 0.9500, log_lik = -674694.42952, newton_decrement = 1.27e-01, seconds_since_start = 2.4\n",
      "Iteration 3: norm_delta = 1.02e-04, step_size = 0.9500, log_lik = -674694.30313, newton_decrement = 3.13e-04, seconds_since_start = 3.7\n",
      "Iteration 4: norm_delta = 1.70e-09, step_size = 1.0000, log_lik = -674694.30281, newton_decrement = 8.66e-14, seconds_since_start = 4.9\n",
      "Convergence success after 4 iterations.\n",
      "Iteration 1: norm_delta = 6.89e-01, step_size = 0.9500, log_lik = -674771.34752, newton_decrement = 6.44e+03, seconds_since_start = 1.1\n",
      "Iteration 2: norm_delta = 1.93e-01, step_size = 0.9500, log_lik = -668575.56005, newton_decrement = 1.49e+02, seconds_since_start = 2.2\n",
      "Iteration 3: norm_delta = 2.00e-02, step_size = 0.9500, log_lik = -668423.97437, newton_decrement = 1.29e+00, seconds_since_start = 3.2\n",
      "Iteration 4: norm_delta = 1.32e-04, step_size = 1.0000, log_lik = -668422.67392, newton_decrement = 6.68e-05, seconds_since_start = 4.3\n",
      "Iteration 5: norm_delta = 7.71e-09, step_size = 1.0000, log_lik = -668422.67385, newton_decrement = 3.09e-13, seconds_since_start = 5.4\n",
      "Convergence success after 5 iterations.\n",
      "Evaluating Bin 62\n",
      "Iteration 1: norm_delta = 4.73e-02, step_size = 0.9500, log_lik = -674771.34752, newton_decrement = 6.63e+01, seconds_since_start = 1.2\n",
      "Iteration 2: norm_delta = 2.28e-03, step_size = 0.9500, log_lik = -674705.31005, newton_decrement = 1.55e-01, seconds_since_start = 2.4\n",
      "Iteration 3: norm_delta = 1.14e-04, step_size = 0.9500, log_lik = -674705.15533, newton_decrement = 3.88e-04, seconds_since_start = 3.7\n",
      "Iteration 4: norm_delta = 5.86e-11, step_size = 1.0000, log_lik = -674705.15495, newton_decrement = 1.02e-16, seconds_since_start = 4.9\n",
      "Convergence success after 4 iterations.\n",
      "Iteration 1: norm_delta = 6.88e-01, step_size = 0.9500, log_lik = -674771.34752, newton_decrement = 6.44e+03, seconds_since_start = 1.1\n",
      "Iteration 2: norm_delta = 1.94e-01, step_size = 0.9500, log_lik = -668577.05621, newton_decrement = 1.49e+02, seconds_since_start = 2.2\n",
      "Iteration 3: norm_delta = 2.00e-02, step_size = 0.9500, log_lik = -668425.54147, newton_decrement = 1.29e+00, seconds_since_start = 3.2\n",
      "Iteration 4: norm_delta = 1.32e-04, step_size = 1.0000, log_lik = -668424.24176, newton_decrement = 6.67e-05, seconds_since_start = 4.3\n",
      "Iteration 5: norm_delta = 7.70e-09, step_size = 1.0000, log_lik = -668424.24169, newton_decrement = 3.08e-13, seconds_since_start = 5.4\n",
      "Convergence success after 5 iterations.\n",
      "Evaluating Bin 63\n",
      "Iteration 1: norm_delta = 4.28e-02, step_size = 0.9500, log_lik = -674771.34752, newton_decrement = 5.73e+01, seconds_since_start = 1.2\n",
      "Iteration 2: norm_delta = 3.00e-03, step_size = 0.9500, log_lik = -674713.51088, newton_decrement = 2.72e-01, seconds_since_start = 2.4\n",
      "Iteration 3: norm_delta = 1.55e-04, step_size = 0.9500, log_lik = -674713.23901, newton_decrement = 7.20e-04, seconds_since_start = 3.7\n",
      "Iteration 4: norm_delta = 1.18e-08, step_size = 1.0000, log_lik = -674713.23829, newton_decrement = 4.18e-12, seconds_since_start = 4.9\n",
      "Convergence success after 4 iterations.\n",
      "Iteration 1: norm_delta = 6.88e-01, step_size = 0.9500, log_lik = -674771.34752, newton_decrement = 6.44e+03, seconds_since_start = 1.1\n",
      "Iteration 2: norm_delta = 1.93e-01, step_size = 0.9500, log_lik = -668577.93191, newton_decrement = 1.49e+02, seconds_since_start = 2.2\n",
      "Iteration 3: norm_delta = 2.00e-02, step_size = 0.9500, log_lik = -668426.43878, newton_decrement = 1.29e+00, seconds_since_start = 3.3\n",
      "Iteration 4: norm_delta = 1.32e-04, step_size = 1.0000, log_lik = -668425.13974, newton_decrement = 6.66e-05, seconds_since_start = 4.4\n",
      "Iteration 5: norm_delta = 7.69e-09, step_size = 1.0000, log_lik = -668425.13967, newton_decrement = 3.07e-13, seconds_since_start = 5.5\n",
      "Convergence success after 5 iterations.\n",
      "Evaluating Bin 64\n",
      "Iteration 1: norm_delta = 4.33e-02, step_size = 0.9500, log_lik = -674771.34752, newton_decrement = 5.68e+01, seconds_since_start = 1.2\n",
      "Iteration 2: norm_delta = 2.63e-03, step_size = 0.9500, log_lik = -674714.37728, newton_decrement = 2.05e-01, seconds_since_start = 2.4\n",
      "Iteration 3: norm_delta = 1.33e-04, step_size = 0.9500, log_lik = -674714.17243, newton_decrement = 5.27e-04, seconds_since_start = 3.7\n",
      "Iteration 4: norm_delta = 4.90e-09, step_size = 1.0000, log_lik = -674714.17190, newton_decrement = 7.10e-13, seconds_since_start = 4.9\n",
      "Convergence success after 4 iterations.\n",
      "Iteration 1: norm_delta = 6.88e-01, step_size = 0.9500, log_lik = -674771.34752, newton_decrement = 6.43e+03, seconds_since_start = 1.1\n",
      "Iteration 2: norm_delta = 1.93e-01, step_size = 0.9500, log_lik = -668578.70953, newton_decrement = 1.49e+02, seconds_since_start = 2.2\n",
      "Iteration 3: norm_delta = 2.00e-02, step_size = 0.9500, log_lik = -668427.18395, newton_decrement = 1.29e+00, seconds_since_start = 3.3\n",
      "Iteration 4: norm_delta = 1.32e-04, step_size = 1.0000, log_lik = -668425.88442, newton_decrement = 6.67e-05, seconds_since_start = 4.4\n",
      "Iteration 5: norm_delta = 7.70e-09, step_size = 1.0000, log_lik = -668425.88436, newton_decrement = 3.07e-13, seconds_since_start = 5.5\n",
      "Convergence success after 5 iterations.\n",
      "Evaluating Bin 65\n"
     ]
    }
   ],
   "source": [
    "fibers.calculate_cox_prop_hazards(data)"
   ]
  },
  {
   "cell_type": "markdown",
   "id": "6cc0ab2f",
   "metadata": {},
   "source": [
    "### Plot: Bin Log-Rank Scores Vs. Adjusted Hazard Ratios (if applicable)\n",
    "In plot, dot colors indicate the 'group strata prop' of the given bin, and dot size is relative to the 'group threshold of that bin'."
   ]
  },
  {
   "cell_type": "code",
   "execution_count": 21,
   "id": "f3b22e10",
   "metadata": {},
   "outputs": [
    {
     "data": {
      "image/png": "[encoded data removed]",
      "text/plain": [
       "<Figure size 640x480 with 2 Axes>"
      ]
     },
     "metadata": {},
     "output_type": "display_data"
    }
   ],
   "source": [
    "if fibers.fitness_metric == 'log_rank' or fibers.fitness_metric == 'log_rank_residuals':  \n",
    "    fibers.get_log_rank_adj_HR_plot(save=True,output_folder=output_folder,data_name=data_name)"
   ]
  },
  {
   "cell_type": "markdown",
   "id": "5c503f87",
   "metadata": {},
   "source": [
    "### Plot: Bin Adjusted Hazard Ratios Vs. Residuals Scores (if applicable)\n",
    "In plot, dot colors indicate the 'group strata prop' of the given bin, and dot size is relative to the 'group threshold of that bin'."
   ]
  },
  {
   "cell_type": "code",
   "execution_count": 22,
   "id": "7215bdad",
   "metadata": {},
   "outputs": [],
   "source": [
    "if fibers.fitness_metric == 'residuals' or fibers.fitness_metric == 'log_rank_residuals':   \n",
    "    fibers.get_adj_HR_residuals_plot(save=True,output_folder=output_folder,data_name=data_name)"
   ]
  },
  {
   "cell_type": "markdown",
   "id": "d4ae6124",
   "metadata": {},
   "source": [
    "### Plot: Bin Adjusted Hazard Ratios Vs. Log Rank * Residuals Scores (if applicable)\n",
    "In plot, dot colors indicate the 'group strata prop' of the given bin, and dot size is relative to the 'group threshold of that bin'."
   ]
  },
  {
   "cell_type": "code",
   "execution_count": 23,
   "id": "d0b0d4d7",
   "metadata": {},
   "outputs": [],
   "source": [
    "if fibers.fitness_metric == 'log_rank_residuals':   \n",
    "    fibers.get_adj_HR_metric_product_plot(save=True,output_folder=output_folder,data_name=data_name)"
   ]
  },
  {
   "cell_type": "markdown",
   "id": "77d47075",
   "metadata": {},
   "source": [
    "***\n",
    "## History of Bin Evolution (Top Bin Each Generation)\n",
    "### Plot: Fitness of top bin across training iterations"
   ]
  },
  {
   "cell_type": "code",
   "execution_count": 24,
   "id": "72c4ccf6",
   "metadata": {},
   "outputs": [
    {
     "data": {
      "image/png": "[encoded data removed]",
      "text/plain": [
       "<Figure size 500x300 with 1 Axes>"
      ]
     },
     "metadata": {},
     "output_type": "display_data"
    }
   ],
   "source": [
    "fibers.get_fitness_progress_plot()"
   ]
  },
  {
   "cell_type": "markdown",
   "id": "0d3a6ef9",
   "metadata": {},
   "source": [
    "### Plot: Scoring Metric and Pre-Fitness of top bin across training iterations"
   ]
  },
  {
   "cell_type": "code",
   "execution_count": 25,
   "id": "5b479d47",
   "metadata": {},
   "outputs": [
    {
     "data": {
      "image/png": "[encoded data removed]",
      "text/plain": [
       "<Figure size 500x300 with 1 Axes>"
      ]
     },
     "metadata": {},
     "output_type": "display_data"
    }
   ],
   "source": [
    "fibers.get_perform_progress_plot(save=True,output_folder=output_folder,data_name=data_name)"
   ]
  },
  {
   "cell_type": "markdown",
   "id": "cb44f5a9",
   "metadata": {},
   "source": [
    "### Plot: Normalized Top-Bin Stats Across Training Iterations"
   ]
  },
  {
   "cell_type": "code",
   "execution_count": 26,
   "id": "f08bda78",
   "metadata": {},
   "outputs": [
    {
     "data": {
      "image/png": "[encoded data removed]",
      "text/plain": [
       "<Figure size 500x300 with 1 Axes>"
      ]
     },
     "metadata": {},
     "output_type": "display_data"
    }
   ],
   "source": [
    "fibers.get_misc_progress_plot(save=True,output_folder=output_folder,data_name=data_name)"
   ]
  },
  {
   "cell_type": "markdown",
   "id": "257a57bf",
   "metadata": {},
   "source": [
    "### View Top Bin Information Across all Iterations/Generations"
   ]
  },
  {
   "cell_type": "code",
   "execution_count": 27,
   "id": "4fc55a2b",
   "metadata": {},
   "outputs": [
    {
     "data": {
      "text/html": [
       "<div>\n",
       "<style scoped>\n",
       "    .dataframe tbody tr th:only-of-type {\n",
       "        vertical-align: middle;\n",
       "    }\n",
       "\n",
       "    .dataframe tbody tr th {\n",
       "        vertical-align: top;\n",
       "    }\n",
       "\n",
       "    .dataframe thead th {\n",
       "        text-align: right;\n",
       "    }\n",
       "</style>\n",
       "<table border=\"1\" class=\"dataframe\">\n",
       "  <thead>\n",
       "    <tr style=\"text-align: right;\">\n",
       "      <th></th>\n",
       "      <th>Iteration</th>\n",
       "      <th>Top Bin</th>\n",
       "      <th>Threshold</th>\n",
       "      <th>Fitness</th>\n",
       "      <th>Pre-Fitness</th>\n",
       "      <th>Log-Rank Score</th>\n",
       "      <th>Log-Rank p-value</th>\n",
       "      <th>Bin Size</th>\n",
       "      <th>Group Ratio</th>\n",
       "      <th>Count At/Below Threshold</th>\n",
       "      <th>Count Below Threshold</th>\n",
       "      <th>Birth Iteration</th>\n",
       "      <th>Residuals Score</th>\n",
       "      <th>Residuals p-value</th>\n",
       "      <th>Elapsed Time</th>\n",
       "    </tr>\n",
       "  </thead>\n",
       "  <tbody>\n",
       "    <tr>\n",
       "      <th>0</th>\n",
       "      <td>-1</td>\n",
       "      <td>[A17, DQB155, DQB174, DRB112, DRB114]</td>\n",
       "      <td>0</td>\n",
       "      <td>1.0</td>\n",
       "      <td>453.347184</td>\n",
       "      <td>453.347184</td>\n",
       "      <td>1.347975e-100</td>\n",
       "      <td>5</td>\n",
       "      <td>0.291936</td>\n",
       "      <td>48629</td>\n",
       "      <td>117945</td>\n",
       "      <td>NaN</td>\n",
       "      <td>None</td>\n",
       "      <td>None</td>\n",
       "      <td>61.967254</td>\n",
       "    </tr>\n",
       "    <tr>\n",
       "      <th>1</th>\n",
       "      <td>1</td>\n",
       "      <td>[A17, DQB155, DQB174, DQB175, DRB112, DRB114, ...</td>\n",
       "      <td>0</td>\n",
       "      <td>1.0</td>\n",
       "      <td>461.820418</td>\n",
       "      <td>461.820418</td>\n",
       "      <td>1.930806e-102</td>\n",
       "      <td>7</td>\n",
       "      <td>0.259614</td>\n",
       "      <td>43245</td>\n",
       "      <td>123329</td>\n",
       "      <td>1.0</td>\n",
       "      <td>None</td>\n",
       "      <td>None</td>\n",
       "      <td>92.984543</td>\n",
       "    </tr>\n",
       "    <tr>\n",
       "      <th>2</th>\n",
       "      <td>2</td>\n",
       "      <td>[A17, DQB155, DQB174, DQB175, DRB112, DRB114, ...</td>\n",
       "      <td>0</td>\n",
       "      <td>1.0</td>\n",
       "      <td>461.820418</td>\n",
       "      <td>461.820418</td>\n",
       "      <td>1.930806e-102</td>\n",
       "      <td>7</td>\n",
       "      <td>0.259614</td>\n",
       "      <td>43245</td>\n",
       "      <td>123329</td>\n",
       "      <td>1.0</td>\n",
       "      <td>None</td>\n",
       "      <td>None</td>\n",
       "      <td>103.215481</td>\n",
       "    </tr>\n",
       "    <tr>\n",
       "      <th>3</th>\n",
       "      <td>3</td>\n",
       "      <td>[A17, DQB155, DQB174, DQB175, DRB112, DRB114, ...</td>\n",
       "      <td>0</td>\n",
       "      <td>1.0</td>\n",
       "      <td>461.820418</td>\n",
       "      <td>461.820418</td>\n",
       "      <td>1.930806e-102</td>\n",
       "      <td>7</td>\n",
       "      <td>0.259614</td>\n",
       "      <td>43245</td>\n",
       "      <td>123329</td>\n",
       "      <td>1.0</td>\n",
       "      <td>None</td>\n",
       "      <td>None</td>\n",
       "      <td>113.490481</td>\n",
       "    </tr>\n",
       "    <tr>\n",
       "      <th>4</th>\n",
       "      <td>4</td>\n",
       "      <td>[DQB155, DQB174, DQB175, DRB112, DRB114, DRB11...</td>\n",
       "      <td>0</td>\n",
       "      <td>1.0</td>\n",
       "      <td>462.945923</td>\n",
       "      <td>462.945923</td>\n",
       "      <td>1.098530e-102</td>\n",
       "      <td>8</td>\n",
       "      <td>0.255568</td>\n",
       "      <td>42571</td>\n",
       "      <td>124003</td>\n",
       "      <td>4.0</td>\n",
       "      <td>None</td>\n",
       "      <td>None</td>\n",
       "      <td>123.715264</td>\n",
       "    </tr>\n",
       "    <tr>\n",
       "      <th>...</th>\n",
       "      <td>...</td>\n",
       "      <td>...</td>\n",
       "      <td>...</td>\n",
       "      <td>...</td>\n",
       "      <td>...</td>\n",
       "      <td>...</td>\n",
       "      <td>...</td>\n",
       "      <td>...</td>\n",
       "      <td>...</td>\n",
       "      <td>...</td>\n",
       "      <td>...</td>\n",
       "      <td>...</td>\n",
       "      <td>...</td>\n",
       "      <td>...</td>\n",
       "      <td>...</td>\n",
       "    </tr>\n",
       "    <tr>\n",
       "      <th>96</th>\n",
       "      <td>96</td>\n",
       "      <td>[B143, DQB155, DQB174, DRB112, DRB116, DRB173,...</td>\n",
       "      <td>0</td>\n",
       "      <td>1.0</td>\n",
       "      <td>499.587190</td>\n",
       "      <td>499.587190</td>\n",
       "      <td>1.168933e-110</td>\n",
       "      <td>8</td>\n",
       "      <td>0.259662</td>\n",
       "      <td>43253</td>\n",
       "      <td>123321</td>\n",
       "      <td>71.0</td>\n",
       "      <td>None</td>\n",
       "      <td>None</td>\n",
       "      <td>1082.925991</td>\n",
       "    </tr>\n",
       "    <tr>\n",
       "      <th>97</th>\n",
       "      <td>97</td>\n",
       "      <td>[B143, DQB155, DQB174, DRB112, DRB116, DRB173,...</td>\n",
       "      <td>0</td>\n",
       "      <td>1.0</td>\n",
       "      <td>499.587190</td>\n",
       "      <td>499.587190</td>\n",
       "      <td>1.168933e-110</td>\n",
       "      <td>8</td>\n",
       "      <td>0.259662</td>\n",
       "      <td>43253</td>\n",
       "      <td>123321</td>\n",
       "      <td>71.0</td>\n",
       "      <td>None</td>\n",
       "      <td>None</td>\n",
       "      <td>1093.171297</td>\n",
       "    </tr>\n",
       "    <tr>\n",
       "      <th>98</th>\n",
       "      <td>98</td>\n",
       "      <td>[B143, DQB155, DQB174, DRB112, DRB116, DRB173,...</td>\n",
       "      <td>0</td>\n",
       "      <td>1.0</td>\n",
       "      <td>499.587190</td>\n",
       "      <td>499.587190</td>\n",
       "      <td>1.168933e-110</td>\n",
       "      <td>8</td>\n",
       "      <td>0.259662</td>\n",
       "      <td>43253</td>\n",
       "      <td>123321</td>\n",
       "      <td>71.0</td>\n",
       "      <td>None</td>\n",
       "      <td>None</td>\n",
       "      <td>1103.528137</td>\n",
       "    </tr>\n",
       "    <tr>\n",
       "      <th>99</th>\n",
       "      <td>99</td>\n",
       "      <td>[B143, DQB155, DQB174, DRB112, DRB116, DRB173,...</td>\n",
       "      <td>0</td>\n",
       "      <td>1.0</td>\n",
       "      <td>499.587190</td>\n",
       "      <td>499.587190</td>\n",
       "      <td>1.168933e-110</td>\n",
       "      <td>8</td>\n",
       "      <td>0.259662</td>\n",
       "      <td>43253</td>\n",
       "      <td>123321</td>\n",
       "      <td>71.0</td>\n",
       "      <td>None</td>\n",
       "      <td>None</td>\n",
       "      <td>1135.682406</td>\n",
       "    </tr>\n",
       "    <tr>\n",
       "      <th>100</th>\n",
       "      <td>100</td>\n",
       "      <td>[B143, DQB155, DQB174, DRB112, DRB116, DRB173,...</td>\n",
       "      <td>0</td>\n",
       "      <td>1.0</td>\n",
       "      <td>499.587190</td>\n",
       "      <td>499.587190</td>\n",
       "      <td>1.168933e-110</td>\n",
       "      <td>8</td>\n",
       "      <td>0.259662</td>\n",
       "      <td>43253</td>\n",
       "      <td>123321</td>\n",
       "      <td>71.0</td>\n",
       "      <td>None</td>\n",
       "      <td>None</td>\n",
       "      <td>1146.072203</td>\n",
       "    </tr>\n",
       "  </tbody>\n",
       "</table>\n",
       "<p>101 rows × 15 columns</p>\n",
       "</div>"
      ],
      "text/plain": [
       "     Iteration                                            Top Bin  Threshold  \\\n",
       "0           -1              [A17, DQB155, DQB174, DRB112, DRB114]          0   \n",
       "1            1  [A17, DQB155, DQB174, DQB175, DRB112, DRB114, ...          0   \n",
       "2            2  [A17, DQB155, DQB174, DQB175, DRB112, DRB114, ...          0   \n",
       "3            3  [A17, DQB155, DQB174, DQB175, DRB112, DRB114, ...          0   \n",
       "4            4  [DQB155, DQB174, DQB175, DRB112, DRB114, DRB11...          0   \n",
       "..         ...                                                ...        ...   \n",
       "96          96  [B143, DQB155, DQB174, DRB112, DRB116, DRB173,...          0   \n",
       "97          97  [B143, DQB155, DQB174, DRB112, DRB116, DRB173,...          0   \n",
       "98          98  [B143, DQB155, DQB174, DRB112, DRB116, DRB173,...          0   \n",
       "99          99  [B143, DQB155, DQB174, DRB112, DRB116, DRB173,...          0   \n",
       "100        100  [B143, DQB155, DQB174, DRB112, DRB116, DRB173,...          0   \n",
       "\n",
       "     Fitness  Pre-Fitness  Log-Rank Score  Log-Rank p-value  Bin Size  \\\n",
       "0        1.0   453.347184      453.347184     1.347975e-100         5   \n",
       "1        1.0   461.820418      461.820418     1.930806e-102         7   \n",
       "2        1.0   461.820418      461.820418     1.930806e-102         7   \n",
       "3        1.0   461.820418      461.820418     1.930806e-102         7   \n",
       "4        1.0   462.945923      462.945923     1.098530e-102         8   \n",
       "..       ...          ...             ...               ...       ...   \n",
       "96       1.0   499.587190      499.587190     1.168933e-110         8   \n",
       "97       1.0   499.587190      499.587190     1.168933e-110         8   \n",
       "98       1.0   499.587190      499.587190     1.168933e-110         8   \n",
       "99       1.0   499.587190      499.587190     1.168933e-110         8   \n",
       "100      1.0   499.587190      499.587190     1.168933e-110         8   \n",
       "\n",
       "     Group Ratio  Count At/Below Threshold  Count Below Threshold  \\\n",
       "0       0.291936                     48629                 117945   \n",
       "1       0.259614                     43245                 123329   \n",
       "2       0.259614                     43245                 123329   \n",
       "3       0.259614                     43245                 123329   \n",
       "4       0.255568                     42571                 124003   \n",
       "..           ...                       ...                    ...   \n",
       "96      0.259662                     43253                 123321   \n",
       "97      0.259662                     43253                 123321   \n",
       "98      0.259662                     43253                 123321   \n",
       "99      0.259662                     43253                 123321   \n",
       "100     0.259662                     43253                 123321   \n",
       "\n",
       "     Birth Iteration Residuals Score Residuals p-value  Elapsed Time  \n",
       "0                NaN            None              None     61.967254  \n",
       "1                1.0            None              None     92.984543  \n",
       "2                1.0            None              None    103.215481  \n",
       "3                1.0            None              None    113.490481  \n",
       "4                4.0            None              None    123.715264  \n",
       "..               ...             ...               ...           ...  \n",
       "96              71.0            None              None   1082.925991  \n",
       "97              71.0            None              None   1093.171297  \n",
       "98              71.0            None              None   1103.528137  \n",
       "99              71.0            None              None   1135.682406  \n",
       "100             71.0            None              None   1146.072203  \n",
       "\n",
       "[101 rows x 15 columns]"
      ]
     },
     "execution_count": 27,
     "metadata": {},
     "output_type": "execute_result"
    }
   ],
   "source": [
    "fibers.perform_track_df"
   ]
  },
  {
   "cell_type": "markdown",
   "id": "72cbdda9",
   "metadata": {},
   "source": [
    "***\n",
    "## Save Bin Population\n",
    "### Save Bin Population Details to CSV"
   ]
  },
  {
   "cell_type": "code",
   "execution_count": 28,
   "id": "45e5b63b",
   "metadata": {},
   "outputs": [],
   "source": [
    "pop_df = fibers.get_pop()\n",
    "pop_df.to_csv(output_folder+'/'+'Pop_'+data_name+'.csv', index=False)"
   ]
  },
  {
   "cell_type": "markdown",
   "id": "2b2bdbf6",
   "metadata": {},
   "source": [
    "### Pickle Trained FIBERS Object (For Future Use)"
   ]
  },
  {
   "cell_type": "code",
   "execution_count": 29,
   "id": "6dca694e",
   "metadata": {},
   "outputs": [],
   "source": [
    "with open(output_folder+'/'+data_name+'.pickle', 'wb') as f:\n",
    "    pickle.dump(fibers, f)"
   ]
  },
  {
   "cell_type": "markdown",
   "id": "66e262d3",
   "metadata": {},
   "source": [
    "***\n",
    "## Transforming Bins Into New Features (i.e. Feature Learning) and Save as New CSV Files\n",
    "### Transform Bins Using Total Sums (i.e. Respective Bin Thresholds Not Applied)"
   ]
  },
  {
   "cell_type": "code",
   "execution_count": 30,
   "id": "ddb83540",
   "metadata": {},
   "outputs": [
    {
     "name": "stdout",
     "output_type": "stream",
     "text": [
      "Dropped 0 invariant feature columns.\n"
     ]
    },
    {
     "data": {
      "text/html": [
       "<div>\n",
       "<style scoped>\n",
       "    .dataframe tbody tr th:only-of-type {\n",
       "        vertical-align: middle;\n",
       "    }\n",
       "\n",
       "    .dataframe tbody tr th {\n",
       "        vertical-align: top;\n",
       "    }\n",
       "\n",
       "    .dataframe thead th {\n",
       "        text-align: right;\n",
       "    }\n",
       "</style>\n",
       "<table border=\"1\" class=\"dataframe\">\n",
       "  <thead>\n",
       "    <tr style=\"text-align: right;\">\n",
       "      <th></th>\n",
       "      <th>Bin_0</th>\n",
       "      <th>Bin_1</th>\n",
       "      <th>Bin_2</th>\n",
       "      <th>Bin_3</th>\n",
       "      <th>Bin_4</th>\n",
       "      <th>Bin_5</th>\n",
       "      <th>Bin_6</th>\n",
       "      <th>Bin_7</th>\n",
       "      <th>Bin_8</th>\n",
       "      <th>Bin_9</th>\n",
       "      <th>...</th>\n",
       "      <th>Bin_58</th>\n",
       "      <th>Bin_59</th>\n",
       "      <th>Bin_60</th>\n",
       "      <th>Bin_61</th>\n",
       "      <th>Bin_62</th>\n",
       "      <th>Bin_63</th>\n",
       "      <th>Bin_64</th>\n",
       "      <th>Bin_65</th>\n",
       "      <th>graftyrs</th>\n",
       "      <th>grf_fail</th>\n",
       "    </tr>\n",
       "  </thead>\n",
       "  <tbody>\n",
       "    <tr>\n",
       "      <th>0</th>\n",
       "      <td>1</td>\n",
       "      <td>1</td>\n",
       "      <td>1</td>\n",
       "      <td>1</td>\n",
       "      <td>1</td>\n",
       "      <td>1</td>\n",
       "      <td>1</td>\n",
       "      <td>1</td>\n",
       "      <td>1</td>\n",
       "      <td>1</td>\n",
       "      <td>...</td>\n",
       "      <td>1</td>\n",
       "      <td>1</td>\n",
       "      <td>1</td>\n",
       "      <td>1</td>\n",
       "      <td>0</td>\n",
       "      <td>3</td>\n",
       "      <td>1</td>\n",
       "      <td>2</td>\n",
       "      <td>3.233490</td>\n",
       "      <td>1</td>\n",
       "    </tr>\n",
       "    <tr>\n",
       "      <th>1</th>\n",
       "      <td>6</td>\n",
       "      <td>5</td>\n",
       "      <td>6</td>\n",
       "      <td>6</td>\n",
       "      <td>5</td>\n",
       "      <td>7</td>\n",
       "      <td>6</td>\n",
       "      <td>5</td>\n",
       "      <td>7</td>\n",
       "      <td>5</td>\n",
       "      <td>...</td>\n",
       "      <td>5</td>\n",
       "      <td>4</td>\n",
       "      <td>5</td>\n",
       "      <td>4</td>\n",
       "      <td>2</td>\n",
       "      <td>3</td>\n",
       "      <td>3</td>\n",
       "      <td>4</td>\n",
       "      <td>16.003176</td>\n",
       "      <td>0</td>\n",
       "    </tr>\n",
       "    <tr>\n",
       "      <th>2</th>\n",
       "      <td>0</td>\n",
       "      <td>0</td>\n",
       "      <td>0</td>\n",
       "      <td>0</td>\n",
       "      <td>1</td>\n",
       "      <td>0</td>\n",
       "      <td>0</td>\n",
       "      <td>0</td>\n",
       "      <td>0</td>\n",
       "      <td>1</td>\n",
       "      <td>...</td>\n",
       "      <td>1</td>\n",
       "      <td>1</td>\n",
       "      <td>0</td>\n",
       "      <td>1</td>\n",
       "      <td>0</td>\n",
       "      <td>2</td>\n",
       "      <td>1</td>\n",
       "      <td>1</td>\n",
       "      <td>17.002519</td>\n",
       "      <td>0</td>\n",
       "    </tr>\n",
       "    <tr>\n",
       "      <th>3</th>\n",
       "      <td>4</td>\n",
       "      <td>4</td>\n",
       "      <td>4</td>\n",
       "      <td>5</td>\n",
       "      <td>6</td>\n",
       "      <td>5</td>\n",
       "      <td>4</td>\n",
       "      <td>5</td>\n",
       "      <td>5</td>\n",
       "      <td>6</td>\n",
       "      <td>...</td>\n",
       "      <td>3</td>\n",
       "      <td>5</td>\n",
       "      <td>5</td>\n",
       "      <td>1</td>\n",
       "      <td>1</td>\n",
       "      <td>2</td>\n",
       "      <td>0</td>\n",
       "      <td>1</td>\n",
       "      <td>1.319680</td>\n",
       "      <td>1</td>\n",
       "    </tr>\n",
       "    <tr>\n",
       "      <th>4</th>\n",
       "      <td>3</td>\n",
       "      <td>3</td>\n",
       "      <td>3</td>\n",
       "      <td>4</td>\n",
       "      <td>3</td>\n",
       "      <td>4</td>\n",
       "      <td>3</td>\n",
       "      <td>4</td>\n",
       "      <td>4</td>\n",
       "      <td>3</td>\n",
       "      <td>...</td>\n",
       "      <td>3</td>\n",
       "      <td>4</td>\n",
       "      <td>5</td>\n",
       "      <td>1</td>\n",
       "      <td>1</td>\n",
       "      <td>2</td>\n",
       "      <td>3</td>\n",
       "      <td>9</td>\n",
       "      <td>6.349250</td>\n",
       "      <td>1</td>\n",
       "    </tr>\n",
       "    <tr>\n",
       "      <th>...</th>\n",
       "      <td>...</td>\n",
       "      <td>...</td>\n",
       "      <td>...</td>\n",
       "      <td>...</td>\n",
       "      <td>...</td>\n",
       "      <td>...</td>\n",
       "      <td>...</td>\n",
       "      <td>...</td>\n",
       "      <td>...</td>\n",
       "      <td>...</td>\n",
       "      <td>...</td>\n",
       "      <td>...</td>\n",
       "      <td>...</td>\n",
       "      <td>...</td>\n",
       "      <td>...</td>\n",
       "      <td>...</td>\n",
       "      <td>...</td>\n",
       "      <td>...</td>\n",
       "      <td>...</td>\n",
       "      <td>...</td>\n",
       "      <td>...</td>\n",
       "    </tr>\n",
       "    <tr>\n",
       "      <th>166569</th>\n",
       "      <td>4</td>\n",
       "      <td>8</td>\n",
       "      <td>4</td>\n",
       "      <td>4</td>\n",
       "      <td>4</td>\n",
       "      <td>6</td>\n",
       "      <td>5</td>\n",
       "      <td>4</td>\n",
       "      <td>5</td>\n",
       "      <td>5</td>\n",
       "      <td>...</td>\n",
       "      <td>8</td>\n",
       "      <td>4</td>\n",
       "      <td>7</td>\n",
       "      <td>1</td>\n",
       "      <td>1</td>\n",
       "      <td>2</td>\n",
       "      <td>2</td>\n",
       "      <td>3</td>\n",
       "      <td>0.501040</td>\n",
       "      <td>0</td>\n",
       "    </tr>\n",
       "    <tr>\n",
       "      <th>166570</th>\n",
       "      <td>0</td>\n",
       "      <td>0</td>\n",
       "      <td>0</td>\n",
       "      <td>0</td>\n",
       "      <td>0</td>\n",
       "      <td>0</td>\n",
       "      <td>0</td>\n",
       "      <td>0</td>\n",
       "      <td>0</td>\n",
       "      <td>0</td>\n",
       "      <td>...</td>\n",
       "      <td>1</td>\n",
       "      <td>0</td>\n",
       "      <td>1</td>\n",
       "      <td>0</td>\n",
       "      <td>0</td>\n",
       "      <td>0</td>\n",
       "      <td>0</td>\n",
       "      <td>2</td>\n",
       "      <td>0.501040</td>\n",
       "      <td>0</td>\n",
       "    </tr>\n",
       "    <tr>\n",
       "      <th>166571</th>\n",
       "      <td>2</td>\n",
       "      <td>5</td>\n",
       "      <td>2</td>\n",
       "      <td>2</td>\n",
       "      <td>3</td>\n",
       "      <td>4</td>\n",
       "      <td>3</td>\n",
       "      <td>2</td>\n",
       "      <td>3</td>\n",
       "      <td>4</td>\n",
       "      <td>...</td>\n",
       "      <td>6</td>\n",
       "      <td>3</td>\n",
       "      <td>5</td>\n",
       "      <td>1</td>\n",
       "      <td>2</td>\n",
       "      <td>2</td>\n",
       "      <td>5</td>\n",
       "      <td>5</td>\n",
       "      <td>0.501040</td>\n",
       "      <td>0</td>\n",
       "    </tr>\n",
       "    <tr>\n",
       "      <th>166572</th>\n",
       "      <td>2</td>\n",
       "      <td>2</td>\n",
       "      <td>2</td>\n",
       "      <td>3</td>\n",
       "      <td>3</td>\n",
       "      <td>2</td>\n",
       "      <td>2</td>\n",
       "      <td>3</td>\n",
       "      <td>2</td>\n",
       "      <td>3</td>\n",
       "      <td>...</td>\n",
       "      <td>2</td>\n",
       "      <td>3</td>\n",
       "      <td>3</td>\n",
       "      <td>1</td>\n",
       "      <td>1</td>\n",
       "      <td>1</td>\n",
       "      <td>1</td>\n",
       "      <td>2</td>\n",
       "      <td>0.501040</td>\n",
       "      <td>0</td>\n",
       "    </tr>\n",
       "    <tr>\n",
       "      <th>166573</th>\n",
       "      <td>2</td>\n",
       "      <td>2</td>\n",
       "      <td>2</td>\n",
       "      <td>2</td>\n",
       "      <td>1</td>\n",
       "      <td>3</td>\n",
       "      <td>3</td>\n",
       "      <td>2</td>\n",
       "      <td>4</td>\n",
       "      <td>1</td>\n",
       "      <td>...</td>\n",
       "      <td>2</td>\n",
       "      <td>2</td>\n",
       "      <td>2</td>\n",
       "      <td>1</td>\n",
       "      <td>1</td>\n",
       "      <td>1</td>\n",
       "      <td>3</td>\n",
       "      <td>3</td>\n",
       "      <td>0.501040</td>\n",
       "      <td>0</td>\n",
       "    </tr>\n",
       "  </tbody>\n",
       "</table>\n",
       "<p>166574 rows × 68 columns</p>\n",
       "</div>"
      ],
      "text/plain": [
       "        Bin_0  Bin_1  Bin_2  Bin_3  Bin_4  Bin_5  Bin_6  Bin_7  Bin_8  Bin_9  \\\n",
       "0           1      1      1      1      1      1      1      1      1      1   \n",
       "1           6      5      6      6      5      7      6      5      7      5   \n",
       "2           0      0      0      0      1      0      0      0      0      1   \n",
       "3           4      4      4      5      6      5      4      5      5      6   \n",
       "4           3      3      3      4      3      4      3      4      4      3   \n",
       "...       ...    ...    ...    ...    ...    ...    ...    ...    ...    ...   \n",
       "166569      4      8      4      4      4      6      5      4      5      5   \n",
       "166570      0      0      0      0      0      0      0      0      0      0   \n",
       "166571      2      5      2      2      3      4      3      2      3      4   \n",
       "166572      2      2      2      3      3      2      2      3      2      3   \n",
       "166573      2      2      2      2      1      3      3      2      4      1   \n",
       "\n",
       "        ...  Bin_58  Bin_59  Bin_60  Bin_61  Bin_62  Bin_63  Bin_64  Bin_65  \\\n",
       "0       ...       1       1       1       1       0       3       1       2   \n",
       "1       ...       5       4       5       4       2       3       3       4   \n",
       "2       ...       1       1       0       1       0       2       1       1   \n",
       "3       ...       3       5       5       1       1       2       0       1   \n",
       "4       ...       3       4       5       1       1       2       3       9   \n",
       "...     ...     ...     ...     ...     ...     ...     ...     ...     ...   \n",
       "166569  ...       8       4       7       1       1       2       2       3   \n",
       "166570  ...       1       0       1       0       0       0       0       2   \n",
       "166571  ...       6       3       5       1       2       2       5       5   \n",
       "166572  ...       2       3       3       1       1       1       1       2   \n",
       "166573  ...       2       2       2       1       1       1       3       3   \n",
       "\n",
       "         graftyrs  grf_fail  \n",
       "0        3.233490         1  \n",
       "1       16.003176         0  \n",
       "2       17.002519         0  \n",
       "3        1.319680         1  \n",
       "4        6.349250         1  \n",
       "...           ...       ...  \n",
       "166569   0.501040         0  \n",
       "166570   0.501040         0  \n",
       "166571   0.501040         0  \n",
       "166572   0.501040         0  \n",
       "166573   0.501040         0  \n",
       "\n",
       "[166574 rows x 68 columns]"
      ]
     },
     "execution_count": 30,
     "metadata": {},
     "output_type": "execute_result"
    }
   ],
   "source": [
    "tdf = fibers.transform(data,full_sums=True)\n",
    "tdf.to_csv(output_folder+'/'+'Transformed_FullSums_'+data_name+'.csv', index=False)\n",
    "tdf"
   ]
  },
  {
   "cell_type": "markdown",
   "id": "45640394",
   "metadata": {},
   "source": [
    "### Transform Bins Using Respective Bin Threshold (i.e. 0 = At/Under Threshold Group and 1 = Over Threshold Group)"
   ]
  },
  {
   "cell_type": "code",
   "execution_count": 31,
   "id": "d1ef5951",
   "metadata": {},
   "outputs": [
    {
     "name": "stdout",
     "output_type": "stream",
     "text": [
      "Dropped 0 invariant feature columns.\n"
     ]
    },
    {
     "data": {
      "text/html": [
       "<div>\n",
       "<style scoped>\n",
       "    .dataframe tbody tr th:only-of-type {\n",
       "        vertical-align: middle;\n",
       "    }\n",
       "\n",
       "    .dataframe tbody tr th {\n",
       "        vertical-align: top;\n",
       "    }\n",
       "\n",
       "    .dataframe thead th {\n",
       "        text-align: right;\n",
       "    }\n",
       "</style>\n",
       "<table border=\"1\" class=\"dataframe\">\n",
       "  <thead>\n",
       "    <tr style=\"text-align: right;\">\n",
       "      <th></th>\n",
       "      <th>Bin_0</th>\n",
       "      <th>Bin_1</th>\n",
       "      <th>Bin_2</th>\n",
       "      <th>Bin_3</th>\n",
       "      <th>Bin_4</th>\n",
       "      <th>Bin_5</th>\n",
       "      <th>Bin_6</th>\n",
       "      <th>Bin_7</th>\n",
       "      <th>Bin_8</th>\n",
       "      <th>Bin_9</th>\n",
       "      <th>...</th>\n",
       "      <th>Bin_58</th>\n",
       "      <th>Bin_59</th>\n",
       "      <th>Bin_60</th>\n",
       "      <th>Bin_61</th>\n",
       "      <th>Bin_62</th>\n",
       "      <th>Bin_63</th>\n",
       "      <th>Bin_64</th>\n",
       "      <th>Bin_65</th>\n",
       "      <th>graftyrs</th>\n",
       "      <th>grf_fail</th>\n",
       "    </tr>\n",
       "  </thead>\n",
       "  <tbody>\n",
       "    <tr>\n",
       "      <th>0</th>\n",
       "      <td>1</td>\n",
       "      <td>1</td>\n",
       "      <td>1</td>\n",
       "      <td>1</td>\n",
       "      <td>1</td>\n",
       "      <td>1</td>\n",
       "      <td>1</td>\n",
       "      <td>1</td>\n",
       "      <td>1</td>\n",
       "      <td>1</td>\n",
       "      <td>...</td>\n",
       "      <td>0</td>\n",
       "      <td>0</td>\n",
       "      <td>0</td>\n",
       "      <td>0</td>\n",
       "      <td>0</td>\n",
       "      <td>1</td>\n",
       "      <td>1</td>\n",
       "      <td>1</td>\n",
       "      <td>3.233490</td>\n",
       "      <td>1</td>\n",
       "    </tr>\n",
       "    <tr>\n",
       "      <th>1</th>\n",
       "      <td>1</td>\n",
       "      <td>1</td>\n",
       "      <td>1</td>\n",
       "      <td>1</td>\n",
       "      <td>1</td>\n",
       "      <td>1</td>\n",
       "      <td>1</td>\n",
       "      <td>1</td>\n",
       "      <td>1</td>\n",
       "      <td>1</td>\n",
       "      <td>...</td>\n",
       "      <td>1</td>\n",
       "      <td>1</td>\n",
       "      <td>1</td>\n",
       "      <td>1</td>\n",
       "      <td>1</td>\n",
       "      <td>1</td>\n",
       "      <td>1</td>\n",
       "      <td>1</td>\n",
       "      <td>16.003176</td>\n",
       "      <td>0</td>\n",
       "    </tr>\n",
       "    <tr>\n",
       "      <th>2</th>\n",
       "      <td>0</td>\n",
       "      <td>0</td>\n",
       "      <td>0</td>\n",
       "      <td>0</td>\n",
       "      <td>1</td>\n",
       "      <td>0</td>\n",
       "      <td>0</td>\n",
       "      <td>0</td>\n",
       "      <td>0</td>\n",
       "      <td>1</td>\n",
       "      <td>...</td>\n",
       "      <td>0</td>\n",
       "      <td>0</td>\n",
       "      <td>0</td>\n",
       "      <td>0</td>\n",
       "      <td>0</td>\n",
       "      <td>1</td>\n",
       "      <td>1</td>\n",
       "      <td>0</td>\n",
       "      <td>17.002519</td>\n",
       "      <td>0</td>\n",
       "    </tr>\n",
       "    <tr>\n",
       "      <th>3</th>\n",
       "      <td>1</td>\n",
       "      <td>1</td>\n",
       "      <td>1</td>\n",
       "      <td>1</td>\n",
       "      <td>1</td>\n",
       "      <td>1</td>\n",
       "      <td>1</td>\n",
       "      <td>1</td>\n",
       "      <td>1</td>\n",
       "      <td>1</td>\n",
       "      <td>...</td>\n",
       "      <td>0</td>\n",
       "      <td>1</td>\n",
       "      <td>1</td>\n",
       "      <td>0</td>\n",
       "      <td>0</td>\n",
       "      <td>1</td>\n",
       "      <td>0</td>\n",
       "      <td>0</td>\n",
       "      <td>1.319680</td>\n",
       "      <td>1</td>\n",
       "    </tr>\n",
       "    <tr>\n",
       "      <th>4</th>\n",
       "      <td>1</td>\n",
       "      <td>1</td>\n",
       "      <td>1</td>\n",
       "      <td>1</td>\n",
       "      <td>1</td>\n",
       "      <td>1</td>\n",
       "      <td>1</td>\n",
       "      <td>1</td>\n",
       "      <td>1</td>\n",
       "      <td>1</td>\n",
       "      <td>...</td>\n",
       "      <td>0</td>\n",
       "      <td>1</td>\n",
       "      <td>1</td>\n",
       "      <td>0</td>\n",
       "      <td>0</td>\n",
       "      <td>1</td>\n",
       "      <td>1</td>\n",
       "      <td>1</td>\n",
       "      <td>6.349250</td>\n",
       "      <td>1</td>\n",
       "    </tr>\n",
       "    <tr>\n",
       "      <th>...</th>\n",
       "      <td>...</td>\n",
       "      <td>...</td>\n",
       "      <td>...</td>\n",
       "      <td>...</td>\n",
       "      <td>...</td>\n",
       "      <td>...</td>\n",
       "      <td>...</td>\n",
       "      <td>...</td>\n",
       "      <td>...</td>\n",
       "      <td>...</td>\n",
       "      <td>...</td>\n",
       "      <td>...</td>\n",
       "      <td>...</td>\n",
       "      <td>...</td>\n",
       "      <td>...</td>\n",
       "      <td>...</td>\n",
       "      <td>...</td>\n",
       "      <td>...</td>\n",
       "      <td>...</td>\n",
       "      <td>...</td>\n",
       "      <td>...</td>\n",
       "    </tr>\n",
       "    <tr>\n",
       "      <th>166569</th>\n",
       "      <td>1</td>\n",
       "      <td>1</td>\n",
       "      <td>1</td>\n",
       "      <td>1</td>\n",
       "      <td>1</td>\n",
       "      <td>1</td>\n",
       "      <td>1</td>\n",
       "      <td>1</td>\n",
       "      <td>1</td>\n",
       "      <td>1</td>\n",
       "      <td>...</td>\n",
       "      <td>1</td>\n",
       "      <td>1</td>\n",
       "      <td>1</td>\n",
       "      <td>0</td>\n",
       "      <td>0</td>\n",
       "      <td>1</td>\n",
       "      <td>1</td>\n",
       "      <td>1</td>\n",
       "      <td>0.501040</td>\n",
       "      <td>0</td>\n",
       "    </tr>\n",
       "    <tr>\n",
       "      <th>166570</th>\n",
       "      <td>0</td>\n",
       "      <td>0</td>\n",
       "      <td>0</td>\n",
       "      <td>0</td>\n",
       "      <td>0</td>\n",
       "      <td>0</td>\n",
       "      <td>0</td>\n",
       "      <td>0</td>\n",
       "      <td>0</td>\n",
       "      <td>0</td>\n",
       "      <td>...</td>\n",
       "      <td>0</td>\n",
       "      <td>0</td>\n",
       "      <td>0</td>\n",
       "      <td>0</td>\n",
       "      <td>0</td>\n",
       "      <td>0</td>\n",
       "      <td>0</td>\n",
       "      <td>1</td>\n",
       "      <td>0.501040</td>\n",
       "      <td>0</td>\n",
       "    </tr>\n",
       "    <tr>\n",
       "      <th>166571</th>\n",
       "      <td>1</td>\n",
       "      <td>1</td>\n",
       "      <td>1</td>\n",
       "      <td>1</td>\n",
       "      <td>1</td>\n",
       "      <td>1</td>\n",
       "      <td>1</td>\n",
       "      <td>1</td>\n",
       "      <td>1</td>\n",
       "      <td>1</td>\n",
       "      <td>...</td>\n",
       "      <td>1</td>\n",
       "      <td>0</td>\n",
       "      <td>1</td>\n",
       "      <td>0</td>\n",
       "      <td>1</td>\n",
       "      <td>1</td>\n",
       "      <td>1</td>\n",
       "      <td>1</td>\n",
       "      <td>0.501040</td>\n",
       "      <td>0</td>\n",
       "    </tr>\n",
       "    <tr>\n",
       "      <th>166572</th>\n",
       "      <td>1</td>\n",
       "      <td>1</td>\n",
       "      <td>1</td>\n",
       "      <td>1</td>\n",
       "      <td>1</td>\n",
       "      <td>1</td>\n",
       "      <td>1</td>\n",
       "      <td>1</td>\n",
       "      <td>1</td>\n",
       "      <td>1</td>\n",
       "      <td>...</td>\n",
       "      <td>0</td>\n",
       "      <td>0</td>\n",
       "      <td>0</td>\n",
       "      <td>0</td>\n",
       "      <td>0</td>\n",
       "      <td>0</td>\n",
       "      <td>1</td>\n",
       "      <td>1</td>\n",
       "      <td>0.501040</td>\n",
       "      <td>0</td>\n",
       "    </tr>\n",
       "    <tr>\n",
       "      <th>166573</th>\n",
       "      <td>1</td>\n",
       "      <td>1</td>\n",
       "      <td>1</td>\n",
       "      <td>1</td>\n",
       "      <td>1</td>\n",
       "      <td>1</td>\n",
       "      <td>1</td>\n",
       "      <td>1</td>\n",
       "      <td>1</td>\n",
       "      <td>1</td>\n",
       "      <td>...</td>\n",
       "      <td>0</td>\n",
       "      <td>0</td>\n",
       "      <td>0</td>\n",
       "      <td>0</td>\n",
       "      <td>0</td>\n",
       "      <td>0</td>\n",
       "      <td>1</td>\n",
       "      <td>1</td>\n",
       "      <td>0.501040</td>\n",
       "      <td>0</td>\n",
       "    </tr>\n",
       "  </tbody>\n",
       "</table>\n",
       "<p>166574 rows × 68 columns</p>\n",
       "</div>"
      ],
      "text/plain": [
       "        Bin_0  Bin_1  Bin_2  Bin_3  Bin_4  Bin_5  Bin_6  Bin_7  Bin_8  Bin_9  \\\n",
       "0           1      1      1      1      1      1      1      1      1      1   \n",
       "1           1      1      1      1      1      1      1      1      1      1   \n",
       "2           0      0      0      0      1      0      0      0      0      1   \n",
       "3           1      1      1      1      1      1      1      1      1      1   \n",
       "4           1      1      1      1      1      1      1      1      1      1   \n",
       "...       ...    ...    ...    ...    ...    ...    ...    ...    ...    ...   \n",
       "166569      1      1      1      1      1      1      1      1      1      1   \n",
       "166570      0      0      0      0      0      0      0      0      0      0   \n",
       "166571      1      1      1      1      1      1      1      1      1      1   \n",
       "166572      1      1      1      1      1      1      1      1      1      1   \n",
       "166573      1      1      1      1      1      1      1      1      1      1   \n",
       "\n",
       "        ...  Bin_58  Bin_59  Bin_60  Bin_61  Bin_62  Bin_63  Bin_64  Bin_65  \\\n",
       "0       ...       0       0       0       0       0       1       1       1   \n",
       "1       ...       1       1       1       1       1       1       1       1   \n",
       "2       ...       0       0       0       0       0       1       1       0   \n",
       "3       ...       0       1       1       0       0       1       0       0   \n",
       "4       ...       0       1       1       0       0       1       1       1   \n",
       "...     ...     ...     ...     ...     ...     ...     ...     ...     ...   \n",
       "166569  ...       1       1       1       0       0       1       1       1   \n",
       "166570  ...       0       0       0       0       0       0       0       1   \n",
       "166571  ...       1       0       1       0       1       1       1       1   \n",
       "166572  ...       0       0       0       0       0       0       1       1   \n",
       "166573  ...       0       0       0       0       0       0       1       1   \n",
       "\n",
       "         graftyrs  grf_fail  \n",
       "0        3.233490         1  \n",
       "1       16.003176         0  \n",
       "2       17.002519         0  \n",
       "3        1.319680         1  \n",
       "4        6.349250         1  \n",
       "...           ...       ...  \n",
       "166569   0.501040         0  \n",
       "166570   0.501040         0  \n",
       "166571   0.501040         0  \n",
       "166572   0.501040         0  \n",
       "166573   0.501040         0  \n",
       "\n",
       "[166574 rows x 68 columns]"
      ]
     },
     "execution_count": 31,
     "metadata": {},
     "output_type": "execute_result"
    }
   ],
   "source": [
    "tdf = fibers.transform(data,full_sums=False)\n",
    "tdf.to_csv(output_folder+'/'+'Transformed_Threshold'+data_name+'.csv', index=False)\n",
    "tdf"
   ]
  },
  {
   "cell_type": "markdown",
   "id": "f59461b1",
   "metadata": {},
   "source": [
    "***\n",
    "## Open Pickled FIBERS Object (Example)"
   ]
  },
  {
   "cell_type": "code",
   "execution_count": 32,
   "id": "2dcc2c62",
   "metadata": {},
   "outputs": [
    {
     "data": {
      "text/html": [
       "<div>\n",
       "<style scoped>\n",
       "    .dataframe tbody tr th:only-of-type {\n",
       "        vertical-align: middle;\n",
       "    }\n",
       "\n",
       "    .dataframe tbody tr th {\n",
       "        vertical-align: top;\n",
       "    }\n",
       "\n",
       "    .dataframe thead th {\n",
       "        text-align: right;\n",
       "    }\n",
       "</style>\n",
       "<table border=\"1\" class=\"dataframe\">\n",
       "  <thead>\n",
       "    <tr style=\"text-align: right;\">\n",
       "      <th></th>\n",
       "      <th>0</th>\n",
       "    </tr>\n",
       "  </thead>\n",
       "  <tbody>\n",
       "    <tr>\n",
       "      <th>Features in Bin:</th>\n",
       "      <td>[B143, DQB155, DQB174, DRB112, DRB116, DRB173,...</td>\n",
       "    </tr>\n",
       "    <tr>\n",
       "      <th>Threshold:</th>\n",
       "      <td>0</td>\n",
       "    </tr>\n",
       "    <tr>\n",
       "      <th>Fitness</th>\n",
       "      <td>1.0</td>\n",
       "    </tr>\n",
       "    <tr>\n",
       "      <th>Pre-Fitness:</th>\n",
       "      <td>499.58719</td>\n",
       "    </tr>\n",
       "    <tr>\n",
       "      <th>Log-Rank Score:</th>\n",
       "      <td>499.58719</td>\n",
       "    </tr>\n",
       "    <tr>\n",
       "      <th>Log-Rank p-value:</th>\n",
       "      <td>0.0</td>\n",
       "    </tr>\n",
       "    <tr>\n",
       "      <th>Bin Size:</th>\n",
       "      <td>8</td>\n",
       "    </tr>\n",
       "    <tr>\n",
       "      <th>Group Ratio:</th>\n",
       "      <td>0.259662</td>\n",
       "    </tr>\n",
       "    <tr>\n",
       "      <th>Count At/Below Threshold:</th>\n",
       "      <td>43253</td>\n",
       "    </tr>\n",
       "    <tr>\n",
       "      <th>Count Above Threshold:</th>\n",
       "      <td>123321</td>\n",
       "    </tr>\n",
       "    <tr>\n",
       "      <th>Birth Iteration:</th>\n",
       "      <td>71</td>\n",
       "    </tr>\n",
       "    <tr>\n",
       "      <th>Residuals Score:</th>\n",
       "      <td>None</td>\n",
       "    </tr>\n",
       "    <tr>\n",
       "      <th>Residuals p-value</th>\n",
       "      <td>None</td>\n",
       "    </tr>\n",
       "  </tbody>\n",
       "</table>\n",
       "</div>"
      ],
      "text/plain": [
       "                                                                           0\n",
       "Features in Bin:           [B143, DQB155, DQB174, DRB112, DRB116, DRB173,...\n",
       "Threshold:                                                                 0\n",
       "Fitness                                                                  1.0\n",
       "Pre-Fitness:                                                       499.58719\n",
       "Log-Rank Score:                                                    499.58719\n",
       "Log-Rank p-value:                                                        0.0\n",
       "Bin Size:                                                                  8\n",
       "Group Ratio:                                                        0.259662\n",
       "Count At/Below Threshold:                                              43253\n",
       "Count Above Threshold:                                                123321\n",
       "Birth Iteration:                                                          71\n",
       "Residuals Score:                                                        None\n",
       "Residuals p-value                                                       None"
      ]
     },
     "execution_count": 32,
     "metadata": {},
     "output_type": "execute_result"
    }
   ],
   "source": [
    "with open(output_folder+'/'+data_name+'.pickle', 'rb') as f:\n",
    "    fibers = pickle.load(f)\n",
    "\n",
    "fibers.get_bin_report(bin_index)"
   ]
  }
 ],
 "metadata": {
  "kernelspec": {
   "display_name": "Python 3 (ipykernel)",
   "language": "python",
   "name": "python3"
  },
  "language_info": {
   "codemirror_mode": {
    "name": "ipython",
    "version": 3
   },
   "file_extension": ".py",
   "mimetype": "text/x-python",
   "name": "python",
   "nbconvert_exporter": "python",
   "pygments_lexer": "ipython3",
   "version": "3.8.18"
  }
 },
 "nbformat": 4,
 "nbformat_minor": 5
}
