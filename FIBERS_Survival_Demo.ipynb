{
 "cells": [
  {
   "cell_type": "markdown",
   "id": "4250a8c3",
   "metadata": {},
   "source": [
    "# scikit-FIBERS: Demonstration Notebook\n",
    "This notebook is set up as a demonstration for running scikit-FIBERS."
   ]
  },
  {
   "cell_type": "markdown",
   "id": "8edd8d78",
   "metadata": {},
   "source": [
    "***\n",
    "## Imports:"
   ]
  },
  {
   "cell_type": "code",
   "execution_count": 1,
   "id": "e116475e",
   "metadata": {},
   "outputs": [
    {
     "name": "stdout",
     "output_type": "stream",
     "text": [
      "c:\\Users\\ryanu\\OneDrive\\Documents\\GitHub\\scikit-FIBERS\n"
     ]
    }
   ],
   "source": [
    "import os\n",
    "import pickle\n",
    "import pandas as pd\n",
    "from sklearn.metrics import classification_report\n",
    "# If pip installed\n",
    "#from skfibers.fibers import FIBERS\n",
    "#from skfibers.experiments.survival_sim_simple import survival_data_simulation\n",
    "# If locally run\n",
    "from src.skfibers.fibers import FIBERS\n",
    "from src.skfibers.experiments.SIM1 import survival_data_simulation\n",
    "\n",
    "current_working_directory = os.getcwd()\n",
    "print(current_working_directory)"
   ]
  },
  {
   "cell_type": "markdown",
   "id": "5f76d492",
   "metadata": {},
   "source": [
    "***\n",
    "## Set Up Local Run Parameters\n"
   ]
  },
  {
   "cell_type": "code",
   "execution_count": 2,
   "id": "6ebd4719",
   "metadata": {},
   "outputs": [],
   "source": [
    "local_save = False\n",
    "folder_path = './output'\n",
    "if not os.path.exists(folder_path):\n",
    "        os.makedirs(folder_path)\n",
    "if local_save:\n",
    "    output_folder = './output'\n",
    "else:\n",
    "    output_folder = folder_path\n",
    "\n",
    "#Turns off comprehensive cox analysis over all bins and generation of respective figures\n",
    "quick_run = True"
   ]
  },
  {
   "cell_type": "markdown",
   "id": "f55328e4",
   "metadata": {},
   "source": [
    "***\n",
    "## Generate Simulated Survial Data"
   ]
  },
  {
   "cell_type": "code",
   "execution_count": 3,
   "id": "61f39adf",
   "metadata": {},
   "outputs": [
    {
     "name": "stdout",
     "output_type": "stream",
     "text": [
      "Unique binary numbers: 32\n",
      "Unique HR Combos: 16\n",
      "Unique LR Combos: 16\n",
      "Target predictive feature(s) 'one's counts: [145, 53, 91, 83, 160]\n",
      "Warning: Feature P_2'only reduced to 92 one's count.\n",
      "Warning: Feature P_4'only reduced to 156 one's count.\n",
      "Warning: Feature P_3'only reduced to 254 one's count.\n",
      "Warning: Feature P_1'only reduced to 263 one's count.\n",
      "Warning: Feature P_5'only reduced to 249 one's count.\n",
      "Random Number Check: 73328\n",
      "TrueRiskGroup\n",
      "0    250\n",
      "1    250\n",
      "Name: count, dtype: int64\n"
     ]
    }
   ],
   "source": [
    "data_name = 'example_dataset'\n",
    "data = survival_data_simulation(instances=500, total_features=100, predictive_features=5, low_risk_proportion=0.5, threshold = 2, feature_frequency_range=(0.1, 0.4), \n",
    "                         noise_frequency=0.0, class0_time_to_event_range=(1.5, 0.2), class1_time_to_event_range=(1, 0.2), censoring_frequency=0.2, \n",
    "                         negative_control=False, random_seed=42)\n",
    "data.to_csv(output_folder+'/'+data_name+'.csv', index=False)\n",
    "data = pd.read_csv(output_folder+'/'+data_name+'.csv')\n",
    "true_risk_group = data[['TrueRiskGroup']]\n",
    "data = data.drop('TrueRiskGroup', axis=1)\n",
    "\n",
    "value_counts = true_risk_group['TrueRiskGroup'].value_counts()\n",
    "print(value_counts)"
   ]
  },
  {
   "cell_type": "markdown",
   "id": "02f5058a",
   "metadata": {},
   "source": [
    "***\n",
    "## Run FIBERS (Training)"
   ]
  },
  {
   "cell_type": "code",
   "execution_count": null,
   "id": "42047be2",
   "metadata": {},
   "outputs": [
    {
     "name": "stdout",
     "output_type": "stream",
     "text": [
      "Dropped 0 invariant feature columns.\n",
      "                                         feature_list  group_threshold  \\\n",
      "0                  [P_1, P_3, R_24, R_25, R_66, R_71]                2   \n",
      "1   [P_4, P_5, R_23, R_25, R_50, R_60, R_7, R_71, ...                1   \n",
      "2            [P_1, R_17, R_29, R_3, R_44, R_45, R_54]                1   \n",
      "3                  [P_5, R_25, R_3, R_36, R_94, R_95]                2   \n",
      "4                                              [R_79]                0   \n",
      "5                 [P_1, R_10, R_16, R_33, R_51, R_54]                2   \n",
      "6                                         [P_4, R_90]                0   \n",
      "7   [P_3, R_10, R_26, R_3, R_35, R_37, R_42, R_58,...                3   \n",
      "8   [R_21, R_24, R_49, R_53, R_65, R_71, R_79, R_8...                1   \n",
      "9                            [R_35, R_47, R_81, R_87]                0   \n",
      "10               [R_12, R_26, R_29, R_46, R_78, R_81]                0   \n",
      "11  [P_2, R_28, R_4, R_44, R_45, R_55, R_63, R_66,...                5   \n",
      "12  [R_15, R_16, R_21, R_43, R_63, R_65, R_73, R_9...                1   \n",
      "13  [R_1, R_20, R_25, R_33, R_4, R_42, R_69, R_80,...                0   \n",
      "14                            [R_31, R_44, R_54, R_8]                0   \n",
      "15               [R_11, R_24, R_27, R_52, R_53, R_62]                0   \n",
      "16                                 [R_16, R_76, R_83]                2   \n",
      "17  [R_12, R_23, R_26, R_31, R_58, R_65, R_69, R_8...                0   \n",
      "18          [R_1, R_11, R_27, R_68, R_70, R_72, R_75]                2   \n",
      "19    [R_12, R_4, R_56, R_64, R_66, R_80, R_93, R_94]                1   \n",
      "20                     [R_23, R_50, R_63, R_65, R_73]                0   \n",
      "21    [R_20, R_27, R_41, R_48, R_51, R_56, R_8, R_80]                2   \n",
      "22           [R_2, R_55, R_78, R_79, R_8, R_82, R_89]                0   \n",
      "23         [R_15, R_58, R_67, R_80, R_85, R_87, R_89]                3   \n",
      "24                      [R_23, R_3, R_65, R_70, R_90]                3   \n",
      "25          [R_19, R_27, R_31, R_5, R_52, R_55, R_66]                2   \n",
      "26  [R_16, R_27, R_30, R_44, R_55, R_67, R_77, R_8...                1   \n",
      "27                                  [R_4, R_72, R_82]                0   \n",
      "28                                              [R_7]                0   \n",
      "29                                       [R_33, R_66]                0   \n",
      "30         [R_22, R_29, R_36, R_62, R_68, R_70, R_80]                0   \n",
      "31                                       [R_40, R_41]                1   \n",
      "32               [R_16, R_22, R_30, R_41, R_43, R_81]                3   \n",
      "33                 [R_2, R_3, R_57, R_60, R_63, R_70]                4   \n",
      "34   [R_13, R_14, R_27, R_29, R_46, R_54, R_78, R_91]                4   \n",
      "35          [R_20, R_27, R_39, R_53, R_64, R_89, R_9]                4   \n",
      "36                                 [R_48, R_57, R_58]                0   \n",
      "37           [R_15, R_23, R_31, R_39, R_7, R_9, R_93]                3   \n",
      "38  [R_13, R_24, R_29, R_42, R_47, R_50, R_61, R_7...                0   \n",
      "39                            [R_13, R_24, R_9, R_90]                3   \n",
      "40                      [R_1, R_11, R_54, R_64, R_89]                2   \n",
      "41                      [R_18, R_60, R_76, R_9, R_93]                3   \n",
      "42                                             [R_93]                0   \n",
      "43                                             [R_38]                0   \n",
      "44                                       [R_73, R_77]                1   \n",
      "45                                       [R_64, R_83]                1   \n",
      "46                                        [R_2, R_92]                1   \n",
      "47                      [R_23, R_36, R_4, R_68, R_87]                0   \n",
      "48                                             [R_61]                0   \n",
      "49                                             [R_25]                0   \n",
      "\n",
      "     fitness  pre_fitness  log_rank_score  log_rank_p_value  bin_size  \\\n",
      "0   1.000000    28.256565       28.256565      1.062536e-07         6   \n",
      "1   0.904837    16.407214       16.407214      5.109041e-05         9   \n",
      "2   0.818731    11.508623       11.508623      6.927408e-04         7   \n",
      "3   0.740818    10.889758       10.889758      9.669744e-04         6   \n",
      "4   0.670320     9.774636        9.774636      1.769357e-03         1   \n",
      "5   0.606531     8.540794        8.540794      3.472741e-03         6   \n",
      "6   0.548812     5.580708        5.580708      1.815938e-02         2   \n",
      "7   0.496585     5.527514       11.055028      8.844699e-04        10   \n",
      "8   0.449329     5.331333        5.331333      2.094535e-02         9   \n",
      "9   0.406570     4.896697        4.896697      2.690811e-02         4   \n",
      "10  0.367879     4.718066        4.718066      2.984729e-02         6   \n",
      "11  0.332871     3.859423        7.718846      5.464730e-03        10   \n",
      "12  0.301194     3.534278        3.534278      6.011251e-02         9   \n",
      "13  0.272532     2.484455        4.968909      2.580691e-02        10   \n",
      "14  0.246597     2.456920        2.456920      1.170080e-01         4   \n",
      "15  0.223130     2.289455        2.289455      1.302557e-01         6   \n",
      "16  0.201897     2.149099        4.298198      3.815277e-02         3   \n",
      "17  0.182684     1.964143        3.928287      4.748030e-02         9   \n",
      "18  0.165299     1.835642        1.835642      1.754626e-01         7   \n",
      "19  0.149569     1.805127        1.805127      1.790940e-01         8   \n",
      "20  0.135335     1.760210        1.760210      1.845983e-01         5   \n",
      "21  0.122456     1.581872        1.581872      2.084912e-01         8   \n",
      "22  0.110803     1.553446        3.106891      7.796162e-02         7   \n",
      "23  0.100259     1.505084        3.010168      8.274370e-02         7   \n",
      "24  0.090718     1.296144        2.592287      1.073852e-01         5   \n",
      "25  0.082085     1.288674        2.577349      1.084031e-01         7   \n",
      "26  0.074274     1.166671        1.166671      2.800863e-01         9   \n",
      "27  0.067206     1.015045        1.015045      3.136974e-01         3   \n",
      "28  0.060810     0.935365        0.935365      3.334726e-01         1   \n",
      "29  0.055023     0.863362        0.863362      3.527996e-01         2   \n",
      "30  0.049787     0.860439        1.720878      1.895801e-01         7   \n",
      "31  0.045049     0.822458        1.644917      1.996522e-01         2   \n",
      "32  0.040762     0.784018        1.568036      2.104924e-01         6   \n",
      "33  0.036883     0.730400        1.460801      2.268028e-01         6   \n",
      "34  0.033373     0.665576        1.331152      2.486004e-01         8   \n",
      "35  0.030197     0.647335        1.294671      2.551890e-01         7   \n",
      "36  0.027324     0.620391        0.620391      4.309019e-01         3   \n",
      "37  0.024724     0.550718        1.101436      2.939511e-01         7   \n",
      "38  0.022371     0.429638        0.859276      3.539415e-01         9   \n",
      "39  0.020242     0.300958        0.601916      4.378481e-01         4   \n",
      "40  0.018316     0.277580        0.555160      4.562171e-01         5   \n",
      "41  0.016573     0.266258        0.532515      4.655512e-01         5   \n",
      "42  0.014996     0.246103        0.246103      6.198325e-01         1   \n",
      "43  0.013569     0.168585        0.337171      5.614669e-01         1   \n",
      "44  0.012277     0.166026        0.332053      5.644527e-01         2   \n",
      "45  0.011109     0.159565        0.319131      5.721304e-01         2   \n",
      "46  0.010052     0.157476        0.314952      5.746573e-01         2   \n",
      "47  0.009095     0.142399        0.142399      7.059073e-01         5   \n",
      "48  0.008230     0.095235        0.095235      7.576251e-01         1   \n",
      "49  0.007447     0.030935        0.030935      8.603861e-01         1   \n",
      "\n",
      "    group_strata_prop  count_bt  count_at  ...  deletion_prop cluster  \\\n",
      "0               0.326       337       163  ...           None    None   \n",
      "1               0.280       140       360  ...           None    None   \n",
      "2               0.418       209       291  ...           None    None   \n",
      "3               0.202       399       101  ...           None    None   \n",
      "4               0.326       337       163  ...           None    None   \n",
      "5               0.214       393       107  ...           None    None   \n",
      "6               0.388       306       194  ...           None    None   \n",
      "7               0.168       416        84  ...           None    None   \n",
      "8               0.354       177       323  ...           None    None   \n",
      "9               0.402       201       299  ...           None    None   \n",
      "10              0.220       110       390  ...           None    None   \n",
      "11              0.002       499         1  ...           None    None   \n",
      "12              0.462       231       269  ...           None    None   \n",
      "13              0.078        39       461  ...           None    None   \n",
      "14              0.456       228       272  ...           None    None   \n",
      "15              0.214       107       393  ...           None    None   \n",
      "16              0.018       491         9  ...           None    None   \n",
      "17              0.130        65       435  ...           None    None   \n",
      "18              0.280       360       140  ...           None    None   \n",
      "19              0.464       232       268  ...           None    None   \n",
      "20              0.380       190       310  ...           None    None   \n",
      "21              0.256       372       128  ...           None    None   \n",
      "22              0.128        64       436  ...           None    None   \n",
      "23              0.034       483        17  ...           None    None   \n",
      "24              0.004       498         2  ...           None    None   \n",
      "25              0.114       443        57  ...           None    None   \n",
      "26              0.378       189       311  ...           None    None   \n",
      "27              0.384       192       308  ...           None    None   \n",
      "28              0.222       389       111  ...           None    None   \n",
      "29              0.364       318       182  ...           None    None   \n",
      "30              0.148        74       426  ...           None    None   \n",
      "31              0.018       491         9  ...           None    None   \n",
      "32              0.008       496         4  ...           None    None   \n",
      "33              0.004       498         2  ...           None    None   \n",
      "34              0.024       488        12  ...           None    None   \n",
      "35              0.018       491         9  ...           None    None   \n",
      "36              0.484       242       258  ...           None    None   \n",
      "37              0.028       486        14  ...           None    None   \n",
      "38              0.096        48       452  ...           None    None   \n",
      "39              0.002       499         1  ...           None    None   \n",
      "40              0.062       469        31  ...           None    None   \n",
      "41              0.010       495         5  ...           None    None   \n",
      "42              0.228       386       114  ...           None    None   \n",
      "43              0.150       425        75  ...           None    None   \n",
      "44              0.030       485        15  ...           None    None   \n",
      "45              0.042       479        21  ...           None    None   \n",
      "46              0.102       449        51  ...           None    None   \n",
      "47              0.278       139       361  ...           None    None   \n",
      "48              0.288       356       144  ...           None    None   \n",
      "49              0.230       385       115  ...           None    None   \n",
      "\n",
      "   residuals_score residuals_p_value    HR HR_CI HR_p_value adj_HR adj_HR_CI  \\\n",
      "0             None              None  None  None       None   None      None   \n",
      "1             None              None  None  None       None   None      None   \n",
      "2             None              None  None  None       None   None      None   \n",
      "3             None              None  None  None       None   None      None   \n",
      "4             None              None  None  None       None   None      None   \n",
      "5             None              None  None  None       None   None      None   \n",
      "6             None              None  None  None       None   None      None   \n",
      "7             None              None  None  None       None   None      None   \n",
      "8             None              None  None  None       None   None      None   \n",
      "9             None              None  None  None       None   None      None   \n",
      "10            None              None  None  None       None   None      None   \n",
      "11            None              None  None  None       None   None      None   \n",
      "12            None              None  None  None       None   None      None   \n",
      "13            None              None  None  None       None   None      None   \n",
      "14            None              None  None  None       None   None      None   \n",
      "15            None              None  None  None       None   None      None   \n",
      "16            None              None  None  None       None   None      None   \n",
      "17            None              None  None  None       None   None      None   \n",
      "18            None              None  None  None       None   None      None   \n",
      "19            None              None  None  None       None   None      None   \n",
      "20            None              None  None  None       None   None      None   \n",
      "21            None              None  None  None       None   None      None   \n",
      "22            None              None  None  None       None   None      None   \n",
      "23            None              None  None  None       None   None      None   \n",
      "24            None              None  None  None       None   None      None   \n",
      "25            None              None  None  None       None   None      None   \n",
      "26            None              None  None  None       None   None      None   \n",
      "27            None              None  None  None       None   None      None   \n",
      "28            None              None  None  None       None   None      None   \n",
      "29            None              None  None  None       None   None      None   \n",
      "30            None              None  None  None       None   None      None   \n",
      "31            None              None  None  None       None   None      None   \n",
      "32            None              None  None  None       None   None      None   \n",
      "33            None              None  None  None       None   None      None   \n",
      "34            None              None  None  None       None   None      None   \n",
      "35            None              None  None  None       None   None      None   \n",
      "36            None              None  None  None       None   None      None   \n",
      "37            None              None  None  None       None   None      None   \n",
      "38            None              None  None  None       None   None      None   \n",
      "39            None              None  None  None       None   None      None   \n",
      "40            None              None  None  None       None   None      None   \n",
      "41            None              None  None  None       None   None      None   \n",
      "42            None              None  None  None       None   None      None   \n",
      "43            None              None  None  None       None   None      None   \n",
      "44            None              None  None  None       None   None      None   \n",
      "45            None              None  None  None       None   None      None   \n",
      "46            None              None  None  None       None   None      None   \n",
      "47            None              None  None  None       None   None      None   \n",
      "48            None              None  None  None       None   None      None   \n",
      "49            None              None  None  None       None   None      None   \n",
      "\n",
      "   adj_HR_p_value  \n",
      "0            None  \n",
      "1            None  \n",
      "2            None  \n",
      "3            None  \n",
      "4            None  \n",
      "5            None  \n",
      "6            None  \n",
      "7            None  \n",
      "8            None  \n",
      "9            None  \n",
      "10           None  \n",
      "11           None  \n",
      "12           None  \n",
      "13           None  \n",
      "14           None  \n",
      "15           None  \n",
      "16           None  \n",
      "17           None  \n",
      "18           None  \n",
      "19           None  \n",
      "20           None  \n",
      "21           None  \n",
      "22           None  \n",
      "23           None  \n",
      "24           None  \n",
      "25           None  \n",
      "26           None  \n",
      "27           None  \n",
      "28           None  \n",
      "29           None  \n",
      "30           None  \n",
      "31           None  \n",
      "32           None  \n",
      "33           None  \n",
      "34           None  \n",
      "35           None  \n",
      "36           None  \n",
      "37           None  \n",
      "38           None  \n",
      "39           None  \n",
      "40           None  \n",
      "41           None  \n",
      "42           None  \n",
      "43           None  \n",
      "44           None  \n",
      "45           None  \n",
      "46           None  \n",
      "47           None  \n",
      "48           None  \n",
      "49           None  \n",
      "\n",
      "[50 rows x 21 columns]\n"
     ]
    },
    {
     "name": "stderr",
     "output_type": "stream",
     "text": [
      " 20%|██        | 10/50 [00:11<00:45,  1.13s/it]"
     ]
    },
    {
     "name": "stdout",
     "output_type": "stream",
     "text": [
      "ITERATION: 10\n",
      "                                         feature_list  group_threshold  \\\n",
      "0                                [P_1, P_3, P_4, P_5]                2   \n",
      "1                          [P_1, P_3, P_4, P_5, R_84]                2   \n",
      "2                          [P_1, P_3, P_4, P_5, R_75]                2   \n",
      "3                          [P_1, P_3, P_4, P_5, R_71]                2   \n",
      "4                          [P_1, P_3, P_4, P_5, R_68]                2   \n",
      "5                          [P_1, P_3, P_4, P_5, R_70]                2   \n",
      "6                          [P_1, P_3, P_4, P_5, R_61]                2   \n",
      "7                    [P_1, P_3, P_4, P_5, R_54, R_77]                2   \n",
      "8                    [P_1, P_3, P_4, P_5, R_54, R_68]                2   \n",
      "9                    [P_1, P_3, P_4, P_5, R_80, R_81]                2   \n",
      "10                              [P_1, P_3, P_5, R_75]                2   \n",
      "11                                    [P_1, P_4, P_5]                1   \n",
      "12                        [P_1, P_3, P_5, R_37, R_68]                2   \n",
      "13                   [P_1, P_3, P_4, P_5, R_77, R_91]                2   \n",
      "14                              [P_1, P_3, P_5, R_77]                2   \n",
      "15             [P_1, P_3, P_4, P_5, R_10, R_54, R_77]                2   \n",
      "16                   [P_1, P_3, P_4, P_5, R_54, R_71]                2   \n",
      "17             [P_1, P_3, P_4, P_5, R_10, R_54, R_68]                2   \n",
      "18                                    [P_1, P_3, P_5]                2   \n",
      "19             [P_1, P_3, P_4, P_5, R_10, R_54, R_70]                2   \n",
      "20               [P_1, P_3, P_4, P_5, R_1, R_3, R_71]                2   \n",
      "21             [P_1, P_3, P_4, P_5, R_10, R_46, R_70]                2   \n",
      "22                    [P_1, P_3, P_4, P_5, R_30, R_4]                2   \n",
      "23             [P_1, P_3, P_4, P_5, R_12, R_50, R_71]                2   \n",
      "24             [P_1, P_3, P_4, P_5, R_54, R_77, R_81]                2   \n",
      "25                  [P_1, P_3, P_5, R_10, R_54, R_77]                2   \n",
      "26                              [P_3, P_4, P_5, R_68]                1   \n",
      "27        [P_1, P_3, P_4, P_5, R_10, R_7, R_71, R_77]                3   \n",
      "28  [P_1, P_3, P_4, P_5, R_10, R_16, R_54, R_7, R_77]                3   \n",
      "29  [P_1, P_3, P_4, P_5, R_10, R_16, R_54, R_7, R_...                3   \n",
      "30                              [P_3, P_4, P_5, R_20]                1   \n",
      "31                              [P_1, P_3, P_5, R_13]                2   \n",
      "32  [P_1, P_3, P_4, P_5, R_10, R_16, R_25, R_71, R...                3   \n",
      "33  [P_1, P_3, P_4, P_5, R_10, R_16, R_25, R_7, R_...                3   \n",
      "34             [P_1, P_3, P_4, P_5, R_29, R_68, R_77]                2   \n",
      "35                  [P_1, P_3, P_5, R_16, R_34, R_68]                2   \n",
      "36             [P_1, P_3, P_4, P_5, R_44, R_51, R_84]                2   \n",
      "37                   [P_1, P_3, P_5, R_24, R_6, R_68]                2   \n",
      "38  [P_1, P_3, P_4, P_5, R_16, R_25, R_34, R_7, R_77]                3   \n",
      "39        [P_1, P_3, P_5, R_1, R_10, R_54, R_68, R_7]                2   \n",
      "40                  [P_1, P_4, P_5, R_64, R_68, R_71]                2   \n",
      "41       [P_1, P_3, P_4, P_5, R_54, R_71, R_77, R_95]                2   \n",
      "42            [P_3, P_4, P_5, R_11, R_50, R_54, R_71]                2   \n",
      "43                  [P_3, P_4, P_5, R_49, R_70, R_74]                2   \n",
      "44                   [P_1, P_3, P_4, P_5, R_49, R_90]                1   \n",
      "45                  [P_1, P_3, P_4, R_10, R_13, R_54]                2   \n",
      "46      [P_1, P_4, P_5, R_35, R_42, R_54, R_81, R_88]                2   \n",
      "47                             [P_1, P_4, R_68, R_82]                1   \n",
      "48                                   [P_3, P_5, R_70]                2   \n",
      "49                             [P_1, P_4, R_17, R_68]                2   \n",
      "\n",
      "     fitness  pre_fitness  log_rank_score  log_rank_p_value  bin_size  \\\n",
      "0   1.000000   285.527184      285.527184      4.689950e-64         4   \n",
      "1   0.951700   255.319618      255.319618      1.797888e-57         5   \n",
      "2   0.905734   225.973832      225.973832      4.502107e-51         5   \n",
      "3   0.861987   221.044323      221.044323      5.352941e-50         5   \n",
      "4   0.820354   208.125548      208.125548      3.522303e-47         5   \n",
      "5   0.780731   204.932361      204.932361      1.752040e-46         5   \n",
      "6   0.743022   203.222758      203.222758      4.136007e-46         5   \n",
      "7   0.707134   193.565532      193.565532      5.297725e-44         6   \n",
      "8   0.672980   174.978214      174.978214      6.052910e-40         6   \n",
      "9   0.640475   170.518831      170.518831      5.699669e-39         6   \n",
      "10  0.609541   168.123184      168.123184      1.901494e-38         4   \n",
      "11  0.580100   167.987144      167.987144      2.036148e-38         3   \n",
      "12  0.552082   166.330000      166.330000      4.685774e-38         5   \n",
      "13  0.525416   163.742307      163.742307      1.722092e-37         6   \n",
      "14  0.500039   163.721815      163.721815      1.739935e-37         4   \n",
      "15  0.475887   161.305202      161.305202      5.867923e-37         7   \n",
      "16  0.452902   157.922928      157.922928      3.217226e-36         6   \n",
      "17  0.431027   157.148142      157.148142      4.750933e-36         7   \n",
      "18  0.410209   149.852272      149.852272      1.867453e-34         3   \n",
      "19  0.390396   147.809299      147.809299      5.221769e-34         7   \n",
      "20  0.371540   147.108841      147.108841      7.429131e-34         7   \n",
      "21  0.353595   144.496912      144.496912      2.766621e-33         7   \n",
      "22  0.336516   139.473001      139.473001      3.471025e-32         6   \n",
      "23  0.320263   138.459585      138.459585      5.782024e-32         7   \n",
      "24  0.304794   135.998755      135.998755      1.996556e-31         7   \n",
      "25  0.290073   135.667710      135.667710      2.358787e-31         6   \n",
      "26  0.276062   135.497058      135.497058      2.570484e-31         4   \n",
      "27  0.262729   131.370519      131.370519      2.054471e-30         8   \n",
      "28  0.237962   123.855851      123.855851      9.059142e-29         9   \n",
      "29  0.226469   119.756214      119.756214      7.153292e-28        10   \n",
      "30  0.215530   118.717460      118.717460      1.207618e-27         4   \n",
      "31  0.205120   115.656933      115.656933      5.650583e-27         4   \n",
      "32  0.195213   105.059814      105.059814      1.185041e-24         9   \n",
      "33  0.176811   102.475582      102.475582      4.367176e-24        10   \n",
      "34  0.160144    97.179548       97.179548      6.331730e-23         7   \n",
      "35  0.145048    90.264729       90.264729      2.083336e-21         6   \n",
      "36  0.138042    86.030477       86.030477      1.771838e-20         7   \n",
      "37  0.118990    81.096083       81.096083      2.150057e-19         6   \n",
      "38  0.113243    80.904551       80.904551      2.368874e-19         9   \n",
      "39  0.102568    76.729505       76.729505      1.960524e-18         8   \n",
      "40  0.092899    75.508403       75.508403      3.638551e-18         6   \n",
      "41  0.088412    74.720866       74.720866      5.422004e-18         8   \n",
      "42  0.080078    70.329294       70.329294      5.018687e-17         7   \n",
      "43  0.076210    68.588280       68.588280      1.213230e-16         6   \n",
      "44  0.065692    47.519196       47.519196      5.446795e-12         6   \n",
      "45  0.062519    45.242740       45.242740      1.740646e-11         6   \n",
      "46  0.046453    36.969291       36.969291      1.200045e-09         8   \n",
      "47  0.044210    35.772157       35.772157      2.217951e-09         4   \n",
      "48  0.042074    20.243932       40.487864      1.978411e-10         3   \n",
      "49  0.028315     7.355474       14.710948      1.253166e-04         4   \n",
      "\n",
      "    group_strata_prop  count_bt  count_at  ...  deletion_prop  cluster  \\\n",
      "0               0.418       291       209  ...       0.000000     None   \n",
      "1               0.438       281       219  ...       0.000000     None   \n",
      "2               0.458       271       229  ...       0.000000     None   \n",
      "3               0.448       276       224  ...       0.000000     None   \n",
      "4               0.482       259       241  ...       0.000000     None   \n",
      "5               0.470       265       235  ...       0.003669     None   \n",
      "6               0.460       270       230  ...       0.003855     None   \n",
      "7               0.474       263       237  ...       0.004051     None   \n",
      "8               0.492       246       254  ...       0.004257     None   \n",
      "9               0.476       262       238  ...       0.004473     None   \n",
      "10              0.304       348       152  ...       0.004700     None   \n",
      "11              0.480       240       260  ...       0.004938     None   \n",
      "12              0.348       326       174  ...       0.005189     None   \n",
      "13              0.488       256       244  ...       0.005452     None   \n",
      "14              0.292       354       146  ...       0.005729     None   \n",
      "15              0.468       234       266  ...       0.006020     None   \n",
      "16              0.480       260       240  ...       0.006325     None   \n",
      "17              0.448       224       276  ...       0.006646     None   \n",
      "18              0.258       371       129  ...       0.006983     None   \n",
      "19              0.450       225       275  ...       0.007338     None   \n",
      "20              0.488       244       256  ...       0.007710     None   \n",
      "21              0.448       224       276  ...       0.008101     None   \n",
      "22              0.490       255       245  ...       0.008513     None   \n",
      "23              0.474       237       263  ...       0.008945     None   \n",
      "24              0.484       242       258  ...       0.009399     None   \n",
      "25              0.416       292       208  ...       0.009876     None   \n",
      "26              0.424       212       288  ...       0.010377     None   \n",
      "27              0.306       347       153  ...       0.010903     None   \n",
      "28              0.368       316       184  ...       0.012038     None   \n",
      "29              0.410       295       205  ...       0.012649     None   \n",
      "30              0.422       211       289  ...       0.013291     None   \n",
      "31              0.318       341       159  ...       0.013966     None   \n",
      "32              0.384       308       192  ...       0.014674     None   \n",
      "33              0.438       281       219  ...       0.016202     None   \n",
      "34              0.424       212       288  ...       0.017888     None   \n",
      "35              0.486       257       243  ...       0.019750     None   \n",
      "36              0.454       227       273  ...       0.020752     None   \n",
      "37              0.440       280       220  ...       0.024074     None   \n",
      "38              0.410       295       205  ...       0.025296     None   \n",
      "39              0.440       220       280  ...       0.027929     None   \n",
      "40              0.338       331       169  ...       0.030836     None   \n",
      "41              0.438       219       281  ...       0.032401     None   \n",
      "42              0.394       303       197  ...       0.035773     None   \n",
      "43              0.354       323       177  ...       0.037588     None   \n",
      "44              0.302       151       349  ...       0.043607     None   \n",
      "45              0.326       337       163  ...       0.045820     None   \n",
      "46              0.458       271       229  ...       0.061667     None   \n",
      "47              0.476       262       238  ...       0.064796     None   \n",
      "48              0.078       461        39  ...       0.068085     None   \n",
      "49              0.106       447        53  ...       0.101169     None   \n",
      "\n",
      "   residuals_score residuals_p_value    HR HR_CI HR_p_value adj_HR adj_HR_CI  \\\n",
      "0             None              None  None  None       None   None      None   \n",
      "1             None              None  None  None       None   None      None   \n",
      "2             None              None  None  None       None   None      None   \n",
      "3             None              None  None  None       None   None      None   \n",
      "4             None              None  None  None       None   None      None   \n",
      "5             None              None  None  None       None   None      None   \n",
      "6             None              None  None  None       None   None      None   \n",
      "7             None              None  None  None       None   None      None   \n",
      "8             None              None  None  None       None   None      None   \n",
      "9             None              None  None  None       None   None      None   \n",
      "10            None              None  None  None       None   None      None   \n",
      "11            None              None  None  None       None   None      None   \n",
      "12            None              None  None  None       None   None      None   \n",
      "13            None              None  None  None       None   None      None   \n",
      "14            None              None  None  None       None   None      None   \n",
      "15            None              None  None  None       None   None      None   \n",
      "16            None              None  None  None       None   None      None   \n",
      "17            None              None  None  None       None   None      None   \n",
      "18            None              None  None  None       None   None      None   \n",
      "19            None              None  None  None       None   None      None   \n",
      "20            None              None  None  None       None   None      None   \n",
      "21            None              None  None  None       None   None      None   \n",
      "22            None              None  None  None       None   None      None   \n",
      "23            None              None  None  None       None   None      None   \n",
      "24            None              None  None  None       None   None      None   \n",
      "25            None              None  None  None       None   None      None   \n",
      "26            None              None  None  None       None   None      None   \n",
      "27            None              None  None  None       None   None      None   \n",
      "28            None              None  None  None       None   None      None   \n",
      "29            None              None  None  None       None   None      None   \n",
      "30            None              None  None  None       None   None      None   \n",
      "31            None              None  None  None       None   None      None   \n",
      "32            None              None  None  None       None   None      None   \n",
      "33            None              None  None  None       None   None      None   \n",
      "34            None              None  None  None       None   None      None   \n",
      "35            None              None  None  None       None   None      None   \n",
      "36            None              None  None  None       None   None      None   \n",
      "37            None              None  None  None       None   None      None   \n",
      "38            None              None  None  None       None   None      None   \n",
      "39            None              None  None  None       None   None      None   \n",
      "40            None              None  None  None       None   None      None   \n",
      "41            None              None  None  None       None   None      None   \n",
      "42            None              None  None  None       None   None      None   \n",
      "43            None              None  None  None       None   None      None   \n",
      "44            None              None  None  None       None   None      None   \n",
      "45            None              None  None  None       None   None      None   \n",
      "46            None              None  None  None       None   None      None   \n",
      "47            None              None  None  None       None   None      None   \n",
      "48            None              None  None  None       None   None      None   \n",
      "49            None              None  None  None       None   None      None   \n",
      "\n",
      "   adj_HR_p_value  \n",
      "0            None  \n",
      "1            None  \n",
      "2            None  \n",
      "3            None  \n",
      "4            None  \n",
      "5            None  \n",
      "6            None  \n",
      "7            None  \n",
      "8            None  \n",
      "9            None  \n",
      "10           None  \n",
      "11           None  \n",
      "12           None  \n",
      "13           None  \n",
      "14           None  \n",
      "15           None  \n",
      "16           None  \n",
      "17           None  \n",
      "18           None  \n",
      "19           None  \n",
      "20           None  \n",
      "21           None  \n",
      "22           None  \n",
      "23           None  \n",
      "24           None  \n",
      "25           None  \n",
      "26           None  \n",
      "27           None  \n",
      "28           None  \n",
      "29           None  \n",
      "30           None  \n",
      "31           None  \n",
      "32           None  \n",
      "33           None  \n",
      "34           None  \n",
      "35           None  \n",
      "36           None  \n",
      "37           None  \n",
      "38           None  \n",
      "39           None  \n",
      "40           None  \n",
      "41           None  \n",
      "42           None  \n",
      "43           None  \n",
      "44           None  \n",
      "45           None  \n",
      "46           None  \n",
      "47           None  \n",
      "48           None  \n",
      "49           None  \n",
      "\n",
      "[50 rows x 21 columns]\n"
     ]
    },
    {
     "name": "stderr",
     "output_type": "stream",
     "text": [
      " 32%|███▏      | 16/50 [00:18<00:36,  1.09s/it]"
     ]
    }
   ],
   "source": [
    "fibers = FIBERS(outcome_label=\"Duration\", outcome_type=\"survival\", iterations=50, pop_size=50, tournament_prop=0.2, crossover_prob=0.5, min_mutation_prob=0.1, max_mutation_prob=0.5, merge_prob=0.1, \n",
    "                new_gen=1.0, elitism=0.1, diversity_pressure=0, min_bin_size=1, max_bin_size=None, max_bin_init_size=10, fitness_metric=\"log_rank\", log_rank_weighting=None, censor_label=\"Censoring\", \n",
    "                group_strata_min=0.2, penalty=0.5, group_thresh=None, min_thresh=0, max_thresh=5, int_thresh=True, thresh_evolve_prob=0.5, manual_bin_init=None, covariates=None, pop_clean = 'group_strata',  \n",
    "                report=[0,10,20,30,40], random_seed=42,verbose=False)\n",
    "fibers = fibers.fit(data)"
   ]
  },
  {
   "cell_type": "markdown",
   "id": "d6a6716f",
   "metadata": {},
   "source": [
    "### Report Run Time"
   ]
  },
  {
   "cell_type": "code",
   "execution_count": null,
   "id": "7db21f30",
   "metadata": {},
   "outputs": [],
   "source": [
    "# Report run time\n",
    "print(fibers.elapsed_time)"
   ]
  },
  {
   "cell_type": "markdown",
   "id": "3304fb7c",
   "metadata": {},
   "source": [
    "***\n",
    "## Top (or Target) Bin Examination\n",
    "### Specify Bin to Examine"
   ]
  },
  {
   "cell_type": "code",
   "execution_count": 36,
   "id": "b29f6298",
   "metadata": {},
   "outputs": [],
   "source": [
    "bin_index = 0 # lowest index is the bin with the highest fitness (only reports the bin ranked at the top, despite possible fitness ties for top)"
   ]
  },
  {
   "cell_type": "markdown",
   "id": "2c726ea3",
   "metadata": {},
   "source": [
    "### Get Bin Details"
   ]
  },
  {
   "cell_type": "code",
   "execution_count": null,
   "id": "18f92bfa",
   "metadata": {},
   "outputs": [],
   "source": [
    "fibers.get_bin_report(bin_index)"
   ]
  },
  {
   "cell_type": "markdown",
   "id": "5b0cda67",
   "metadata": {},
   "source": [
    "### Plot: Kaplan Meier Survival Curves For Each Group Defined by the Target Bin"
   ]
  },
  {
   "cell_type": "code",
   "execution_count": null,
   "id": "31b163fd",
   "metadata": {},
   "outputs": [],
   "source": [
    "fibers.get_kaplan_meir(data,bin_index,save=True,output_folder=output_folder,data_name=data_name)"
   ]
  },
  {
   "cell_type": "markdown",
   "id": "c5a71881",
   "metadata": {},
   "source": [
    "### Check and View Any Top Bin Ties"
   ]
  },
  {
   "cell_type": "code",
   "execution_count": null,
   "id": "47ea14ab",
   "metadata": {},
   "outputs": [],
   "source": [
    "fibers.report_ties()\n"
   ]
  },
  {
   "cell_type": "markdown",
   "id": "7b72d504",
   "metadata": {},
   "source": [
    "***\n",
    "## Bin Population Examination\n",
    "### Plot: Basic Bin Population Heatmap\n"
   ]
  },
  {
   "cell_type": "code",
   "execution_count": null,
   "id": "541bf6da",
   "metadata": {},
   "outputs": [],
   "source": [
    "graph_df = fibers.get_bin_population_heatmap_plot(filtering = 4,save=True,output_folder=output_folder,data_name=data_name)"
   ]
  },
  {
   "cell_type": "markdown",
   "id": "d550f6d4",
   "metadata": {},
   "source": [
    "### Plot: Custom Bin Population Heatmap"
   ]
  },
  {
   "cell_type": "code",
   "execution_count": null,
   "id": "f84e1487",
   "metadata": {},
   "outputs": [],
   "source": [
    "group_names=[\"P\", \"R\"]\n",
    "legend_group_info = ['Not in Bin','Predictive Feature in Bin','Non-Predictive Feature in Bin'] #2 default colors first followed by additional color descriptions in legend\n",
    "colors = [(.95, .95, 1),(0, 0, 1),(0.1, 0.1, 0.1)] #very light blue, blue, ---Alternatively red (1, 0, 0)  orange (1, 0.5, 0)\n",
    "max_bins = 100\n",
    "max_features = 100\n",
    "\n",
    "fibers.get_custom_bin_population_heatmap_plot(group_names,legend_group_info,colors,max_bins,max_features,save=True,output_folder=output_folder,data_name=data_name)"
   ]
  },
  {
   "cell_type": "markdown",
   "id": "97d59c83",
   "metadata": {},
   "source": [
    "### Plot: Bin Population Pareto Front\n",
    "In plot, dot colors indicate the 'group strata prop' of the given bin, and dot size is relative to the 'group threshold of that bin'."
   ]
  },
  {
   "cell_type": "code",
   "execution_count": null,
   "id": "24d7b54c",
   "metadata": {},
   "outputs": [],
   "source": [
    "fibers.get_pareto_plot(save=True,output_folder=output_folder,data_name=data_name)"
   ]
  },
  {
   "cell_type": "markdown",
   "id": "848d87c6",
   "metadata": {},
   "source": [
    "### Plot: Estimated Feature Tracking Scores\n",
    "These scores accumulate throughout the training process, and do not nesessarily reflect feature importance of individual bins or the final bin population."
   ]
  },
  {
   "cell_type": "code",
   "execution_count": null,
   "id": "9746c05d",
   "metadata": {},
   "outputs": [],
   "source": [
    "fibers.get_feature_tracking_plot(max_features=50,save=True,output_folder=output_folder,data_name=data_name)"
   ]
  },
  {
   "cell_type": "markdown",
   "id": "40fc24c5",
   "metadata": {},
   "source": [
    "### Plot: Dataset Covariate Residuals (if applicable)"
   ]
  },
  {
   "cell_type": "code",
   "execution_count": 44,
   "id": "0a65376c",
   "metadata": {},
   "outputs": [],
   "source": [
    "if fibers.fitness_metric == 'residuals' or fibers.fitness_metric == 'log_rank_residuals':  \n",
    "    fibers.get_residuals_histogram(save=True,output_folder=output_folder,data_name=data_name)"
   ]
  },
  {
   "cell_type": "markdown",
   "id": "550df90c",
   "metadata": {},
   "source": [
    "### Plot: Bin Log-Rank Scores Vs. Residuals Scores (if applicable)\n",
    "In plot, dot colors indicate the 'group strata prop' of the given bin, and dot size is relative to the 'group threshold of that bin'."
   ]
  },
  {
   "cell_type": "code",
   "execution_count": 45,
   "id": "94b73bc9",
   "metadata": {},
   "outputs": [],
   "source": [
    "if fibers.fitness_metric == 'log_rank_residuals':\n",
    "    fibers.get_log_rank_residuals_plot(save=True,output_folder=output_folder,data_name=data_name)"
   ]
  },
  {
   "cell_type": "markdown",
   "id": "9cb5be5f",
   "metadata": {},
   "source": [
    "###  Evaluate All Bins in Population using Cox PH Model (Can be slow)"
   ]
  },
  {
   "cell_type": "code",
   "execution_count": 46,
   "id": "9409004d",
   "metadata": {},
   "outputs": [],
   "source": [
    "if not quick_run:\n",
    "    fibers.calculate_cox_prop_hazards(data)"
   ]
  },
  {
   "cell_type": "markdown",
   "id": "d572ebc6",
   "metadata": {},
   "source": [
    "### Plot: Bin Log-Rank Scores Vs. Adjusted Hazard Ratios (if applicable)\n",
    "In plot, dot colors indicate the 'group strata prop' of the given bin, and dot size is relative to the 'group threshold of that bin'."
   ]
  },
  {
   "cell_type": "code",
   "execution_count": 47,
   "id": "8af16940",
   "metadata": {},
   "outputs": [],
   "source": [
    "if not quick_run:\n",
    "    if fibers.fitness_metric == 'log_rank' or fibers.fitness_metric == 'log_rank_residuals':  \n",
    "        fibers.get_log_rank_adj_HR_plot(save=True,output_folder=output_folder,data_name=data_name)"
   ]
  },
  {
   "cell_type": "markdown",
   "id": "7bc02ce9",
   "metadata": {},
   "source": [
    "### Plot: Bin Adjusted Hazard Ratios Vs. Residuals Scores (if applicable)\n",
    "In plot, dot colors indicate the 'group strata prop' of the given bin, and dot size is relative to the 'group threshold of that bin'."
   ]
  },
  {
   "cell_type": "code",
   "execution_count": 48,
   "id": "3f9ec918",
   "metadata": {},
   "outputs": [],
   "source": [
    "if not quick_run:\n",
    "    if fibers.fitness_metric == 'residuals' or fibers.fitness_metric == 'log_rank_residuals':   \n",
    "        fibers.get_adj_HR_residuals_plot(save=True,output_folder=output_folder,data_name=data_name)"
   ]
  },
  {
   "cell_type": "markdown",
   "id": "4079c79d",
   "metadata": {},
   "source": [
    "### Plot: Bin Adjusted Hazard Ratios Vs. Log Rank * Residuals Scores (if applicable)\n",
    "In plot, dot colors indicate the 'group strata prop' of the given bin, and dot size is relative to the 'group threshold of that bin'."
   ]
  },
  {
   "cell_type": "code",
   "execution_count": 49,
   "id": "0a145e1f",
   "metadata": {},
   "outputs": [],
   "source": [
    "if not quick_run:\n",
    "    if fibers.fitness_metric == 'log_rank_residuals':   \n",
    "        fibers.get_adj_HR_metric_product_plot(save=True,output_folder=output_folder,data_name=data_name)"
   ]
  },
  {
   "cell_type": "markdown",
   "id": "77d47075",
   "metadata": {},
   "source": [
    "***\n",
    "## History of Bin Evolution (Top Bin Each Generation)\n",
    "### Plot: Pre-Fitness of top bin across training iterations"
   ]
  },
  {
   "cell_type": "code",
   "execution_count": null,
   "id": "5b479d47",
   "metadata": {},
   "outputs": [],
   "source": [
    "fibers.get_perform_progress_plot(save=True,output_folder=output_folder,data_name=data_name)"
   ]
  },
  {
   "cell_type": "markdown",
   "id": "db8a078d",
   "metadata": {},
   "source": [
    "### Plot: Threshold of top bin across training iterations"
   ]
  },
  {
   "cell_type": "code",
   "execution_count": null,
   "id": "d9623346",
   "metadata": {},
   "outputs": [],
   "source": [
    "fibers.get_threshold_progress_plot(save=True,output_folder=output_folder,data_name=data_name)"
   ]
  },
  {
   "cell_type": "markdown",
   "id": "cb44f5a9",
   "metadata": {},
   "source": [
    "### Plot: Normalized Top-Bin Stats Across Training Iterations"
   ]
  },
  {
   "cell_type": "code",
   "execution_count": null,
   "id": "f08bda78",
   "metadata": {},
   "outputs": [],
   "source": [
    "fibers.get_misc_progress_plot(save=True,output_folder=output_folder,data_name=data_name)"
   ]
  },
  {
   "cell_type": "markdown",
   "id": "257a57bf",
   "metadata": {},
   "source": [
    "### View Top Bin Information Across all Iterations/Generations"
   ]
  },
  {
   "cell_type": "code",
   "execution_count": 53,
   "id": "4fc55a2b",
   "metadata": {},
   "outputs": [],
   "source": [
    "fibers.perform_track_df\n",
    "fibers.perform_track_df.to_csv(output_folder+'/'+data_name+'_tracking.csv', index=False)"
   ]
  },
  {
   "cell_type": "markdown",
   "id": "5addc345",
   "metadata": {},
   "source": [
    "***\n",
    "## Save Bin Population\n",
    "### Save Bin Population Details to CSV"
   ]
  },
  {
   "cell_type": "code",
   "execution_count": 54,
   "id": "aa47c33d",
   "metadata": {},
   "outputs": [],
   "source": [
    "pop_df = fibers.get_pop()\n",
    "pop_df.to_csv(output_folder+'/'+data_name+'_pop.csv', index=False)"
   ]
  },
  {
   "cell_type": "markdown",
   "id": "65dbc73d",
   "metadata": {},
   "source": [
    "### Pickle Trained FIBERS Object (For Future Use)"
   ]
  },
  {
   "cell_type": "code",
   "execution_count": 55,
   "id": "9516eb3a",
   "metadata": {},
   "outputs": [],
   "source": [
    "with open(output_folder+'/'+data_name+'.pickle', 'wb') as f:\n",
    "    pickle.dump(fibers, f)"
   ]
  },
  {
   "cell_type": "markdown",
   "id": "66e262d3",
   "metadata": {},
   "source": [
    "***\n",
    "## Transforming Bins Into New Features (i.e. Feature Learning) and Save as New CSV Files\n",
    "### Transform Bins Using Total Sums (i.e. Respective Bin Thresholds Not Applied)"
   ]
  },
  {
   "cell_type": "code",
   "execution_count": null,
   "id": "ddb83540",
   "metadata": {},
   "outputs": [],
   "source": [
    "tdf = fibers.transform(data,full_sums=True)\n",
    "tdf.to_csv(output_folder+'/'+data_name+'_transformed_full_sums.csv', index=False)\n",
    "tdf"
   ]
  },
  {
   "cell_type": "markdown",
   "id": "cb6eeb71",
   "metadata": {},
   "source": [
    "### Transform Bins Using Respective Bin Threshold (i.e. 0 = At/Under Threshold Group and 1 = Over Threshold Group)"
   ]
  },
  {
   "cell_type": "code",
   "execution_count": null,
   "id": "ef16ac67",
   "metadata": {},
   "outputs": [],
   "source": [
    "tdf = fibers.transform(data,full_sums=False)\n",
    "tdf.to_csv(output_folder+'/'+data_name+'_transformed_threshold.csv', index=False)\n",
    "tdf"
   ]
  },
  {
   "cell_type": "markdown",
   "id": "4845cd32",
   "metadata": {},
   "source": [
    "***\n",
    "## Prediction (of Group/Strata)\n",
    "### Predict Strata (Low vs. High) Using Top Bin"
   ]
  },
  {
   "cell_type": "code",
   "execution_count": null,
   "id": "48a269b0",
   "metadata": {},
   "outputs": [],
   "source": [
    "predictions = fibers.predict(data,bin_number=0)\n",
    "print(classification_report(predictions, true_risk_group, digits=8))\n"
   ]
  },
  {
   "cell_type": "markdown",
   "id": "fc7ba28f",
   "metadata": {},
   "source": [
    "### Predict Strata (Low vs. High) Using Whole Bin Population (Weighted Voting Scheme)\n",
    "Assuming that a single bin can best solve the target survival problem (as is the case in this simulation), we expect prediction by all bins with this weighted voting scheme to perform less well."
   ]
  },
  {
   "cell_type": "code",
   "execution_count": null,
   "id": "acf76381",
   "metadata": {},
   "outputs": [],
   "source": [
    "predictions = fibers.predict(data)\n",
    "print(classification_report(predictions, true_risk_group, digits=8))"
   ]
  },
  {
   "cell_type": "markdown",
   "id": "9388db12",
   "metadata": {},
   "source": [
    "***\n",
    "## Open Pickled FIBERS Object (Example)"
   ]
  },
  {
   "cell_type": "code",
   "execution_count": null,
   "id": "1c14005e",
   "metadata": {},
   "outputs": [],
   "source": [
    "with open(output_folder+'/'+data_name+'.pickle', 'rb') as f:\n",
    "    fibers = pickle.load(f)\n",
    "\n",
    "fibers.get_bin_report(bin_index)"
   ]
  }
 ],
 "metadata": {
  "kernelspec": {
   "display_name": "fibers",
   "language": "python",
   "name": "python3"
  },
  "language_info": {
   "codemirror_mode": {
    "name": "ipython",
    "version": 3
   },
   "file_extension": ".py",
   "mimetype": "text/x-python",
   "name": "python",
   "nbconvert_exporter": "python",
   "pygments_lexer": "ipython3",
   "version": "3.8.18"
  }
 },
 "nbformat": 4,
 "nbformat_minor": 5
}
