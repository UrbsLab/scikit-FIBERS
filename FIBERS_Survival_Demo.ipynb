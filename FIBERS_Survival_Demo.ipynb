{
 "cells": [
  {
   "cell_type": "markdown",
   "id": "4250a8c3",
   "metadata": {},
   "source": [
    "# scikit-FIBERS: Demonstration Notebook\n",
    "This notebook is set up as a demonstration for running scikit-FIBERS."
   ]
  },
  {
   "cell_type": "markdown",
   "id": "8edd8d78",
   "metadata": {},
   "source": [
    "***\n",
    "## Imports:"
   ]
  },
  {
   "cell_type": "code",
   "execution_count": null,
   "id": "e116475e",
   "metadata": {},
   "outputs": [],
   "source": [
    "import os\n",
    "import pickle\n",
    "from sklearn.metrics import classification_report\n",
    "from src.skfibers.fibers import FIBERS\n",
    "from src.skfibers.experiments.survival_sim_simple import survival_data_simulation\n",
    "\n",
    "current_working_directory = os.getcwd()\n",
    "print(current_working_directory)"
   ]
  },
  {
   "cell_type": "markdown",
   "id": "5f76d492",
   "metadata": {},
   "source": [
    "***\n",
    "## Set Up Local Run Parameters\n"
   ]
  },
  {
   "cell_type": "code",
   "execution_count": null,
   "id": "6ebd4719",
   "metadata": {},
   "outputs": [],
   "source": [
    "local_save = False\n",
    "folder_path = 'C:/Users/ryanu/Desktop/FIBERS_output'\n",
    "if not os.path.exists(folder_path):\n",
    "        os.makedirs(folder_path)\n",
    "if local_save:\n",
    "    output_folder = 'local_output'\n",
    "else:\n",
    "    output_folder = folder_path"
   ]
  },
  {
   "cell_type": "markdown",
   "id": "f55328e4",
   "metadata": {},
   "source": [
    "***\n",
    "## Generate Simulated Survial Data"
   ]
  },
  {
   "cell_type": "code",
   "execution_count": null,
   "id": "61f39adf",
   "metadata": {},
   "outputs": [],
   "source": [
    "data_name = 'example_dataset'\n",
    "data = survival_data_simulation(instances=10000, total_features=100, predictive_features=10, low_risk_proportion=0.5, threshold = 0, feature_frequency_range=(0.1, 0.4), \n",
    "                         noise_frequency=0.0, class0_time_to_event_range=(1.5, 0.2), class1_time_to_event_range=(1, 0.2), censoring_frequency=0.2, \n",
    "                         covariates_to_sim=0, covariates_signal_range=(0.2,0.4), random_seed=42)\n",
    "data.to_csv(output_folder+'/'+data_name+'.csv', index=False)\n",
    "#data = pd.read_csv(output_folder+'/'+data_name+'.csv')\n",
    "true_risk_group = data[['TrueRiskGroup']]\n",
    "data = data.drop('TrueRiskGroup', axis=1)\n",
    "\n",
    "value_counts = true_risk_group['TrueRiskGroup'].value_counts()\n",
    "print(value_counts)"
   ]
  },
  {
   "cell_type": "markdown",
   "id": "02f5058a",
   "metadata": {},
   "source": [
    "***\n",
    "## Run FIBERS (Training)"
   ]
  },
  {
   "cell_type": "code",
   "execution_count": null,
   "id": "42047be2",
   "metadata": {},
   "outputs": [],
   "source": [
    "fibers = FIBERS(outcome_label=\"Duration\", outcome_type=\"survival\", iterations=50, pop_size=50, tournament_prop=0.5, crossover_prob=0.5, min_mutation_prob=0.1, max_mutation_prob=0.5, merge_prob=0.1, \n",
    "                new_gen=1.0, elitism=0.1, diversity_pressure=5, min_bin_size=1, max_bin_size=None, max_bin_init_size=10, fitness_metric=\"log_rank\", log_rank_weighting=None, censor_label=\"Censoring\", \n",
    "                group_strata_min=0.2, penalty=0.5, group_thresh=None, min_thresh=0, max_thresh=5, int_thresh=True, thresh_evolve_prob=0.5, manual_bin_init=None, covariates=None, report=[0,10,20,30,40], \n",
    "                random_seed=42,verbose=False)\n",
    "fibers = fibers.fit(data)"
   ]
  },
  {
   "cell_type": "markdown",
   "id": "d6a6716f",
   "metadata": {},
   "source": [
    "### Report Run Time"
   ]
  },
  {
   "cell_type": "code",
   "execution_count": null,
   "id": "7db21f30",
   "metadata": {},
   "outputs": [],
   "source": [
    "# Report run time\n",
    "print(fibers.elapsed_time)"
   ]
  },
  {
   "cell_type": "markdown",
   "id": "3304fb7c",
   "metadata": {},
   "source": [
    "***\n",
    "## Top (or Target) Bin Examination\n",
    "### Specify Bin to Examine"
   ]
  },
  {
   "cell_type": "code",
   "execution_count": null,
   "id": "b29f6298",
   "metadata": {},
   "outputs": [],
   "source": [
    "bin_index = 0 # lowest index is the bin with the highest fitness (only reports the bin ranked at the top, despite possible fitness ties for top)"
   ]
  },
  {
   "cell_type": "markdown",
   "id": "2c726ea3",
   "metadata": {},
   "source": [
    "### Get Bin Details"
   ]
  },
  {
   "cell_type": "code",
   "execution_count": null,
   "id": "18f92bfa",
   "metadata": {},
   "outputs": [],
   "source": [
    "fibers.get_bin_report(bin_index)"
   ]
  },
  {
   "cell_type": "markdown",
   "id": "5b0cda67",
   "metadata": {},
   "source": [
    "### Plot: Kaplan Meier Survival Curves For Each Group Defined by the Target Bin"
   ]
  },
  {
   "cell_type": "code",
   "execution_count": null,
   "id": "31b163fd",
   "metadata": {},
   "outputs": [],
   "source": [
    "fibers.get_kaplan_meir(data,bin_index,save=True,output_folder=output_folder,data_name=data_name)"
   ]
  },
  {
   "cell_type": "markdown",
   "id": "c5a71881",
   "metadata": {},
   "source": [
    "### Check and View Any Top Bin Ties"
   ]
  },
  {
   "cell_type": "code",
   "execution_count": null,
   "id": "47ea14ab",
   "metadata": {},
   "outputs": [],
   "source": [
    "fibers.report_ties()\n"
   ]
  },
  {
   "cell_type": "markdown",
   "id": "7b72d504",
   "metadata": {},
   "source": [
    "***\n",
    "## Bin Population Examination\n",
    "### Plot: Bin Population Pareto Front\n",
    "In plot, dot colors indicate the 'group strata prop' of the given bin, and dot size is relative to the 'group threshold of that bin'."
   ]
  },
  {
   "cell_type": "code",
   "execution_count": null,
   "id": "24d7b54c",
   "metadata": {},
   "outputs": [],
   "source": [
    "fibers.get_pareto_plot(save=True,output_folder=output_folder,data_name=data_name)"
   ]
  },
  {
   "cell_type": "markdown",
   "id": "848d87c6",
   "metadata": {},
   "source": [
    "### Plot: Estimated Feature Tracking Scores\n",
    "These scores accumulate throughout the training process, and do not nesessarily reflect feature importance of individual bins or the final bin population."
   ]
  },
  {
   "cell_type": "code",
   "execution_count": null,
   "id": "9746c05d",
   "metadata": {},
   "outputs": [],
   "source": [
    "fibers.get_feature_tracking_plot(max_features=50,save=True,output_folder=output_folder,data_name=data_name)"
   ]
  },
  {
   "cell_type": "markdown",
   "id": "40fc24c5",
   "metadata": {},
   "source": [
    "### Plot: Dataset Covariate Residuals (if applicable)"
   ]
  },
  {
   "cell_type": "code",
   "execution_count": null,
   "id": "0a65376c",
   "metadata": {},
   "outputs": [],
   "source": [
    "if fibers.fitness_metric == 'residuals' or fibers.fitness_metric == 'log_rank_residuals':  \n",
    "    fibers.get_residuals_histogram(save=True,output_folder=output_folder,data_name=data_name)"
   ]
  },
  {
   "cell_type": "markdown",
   "id": "550df90c",
   "metadata": {},
   "source": [
    "### Plot: Bin Log-Rank Scores Vs. Residuals Scores (if applicable)\n",
    "In plot, dot colors indicate the 'group strata prop' of the given bin, and dot size is relative to the 'group threshold of that bin'."
   ]
  },
  {
   "cell_type": "code",
   "execution_count": null,
   "id": "94b73bc9",
   "metadata": {},
   "outputs": [],
   "source": [
    "if fibers.fitness_metric == 'log_rank_residuals':\n",
    "    fibers.get_log_rank_residuals_plot(save=True,output_folder=output_folder,data_name=data_name)"
   ]
  },
  {
   "cell_type": "markdown",
   "id": "9cb5be5f",
   "metadata": {},
   "source": [
    "###  Evaluate All Bins in Population using Cox PH Model (Can be slow)"
   ]
  },
  {
   "cell_type": "code",
   "execution_count": null,
   "id": "9409004d",
   "metadata": {},
   "outputs": [],
   "source": [
    "#have_covariates = False\n",
    "#if have_covariates:\n",
    "#    fibers.calculate_cox_prop_hazards(data)\n",
    "fibers.calculate_cox_prop_hazards(data)"
   ]
  },
  {
   "cell_type": "markdown",
   "id": "d572ebc6",
   "metadata": {},
   "source": [
    "### Plot: Bin Log-Rank Scores Vs. Adjusted Hazard Ratios (if applicable)\n",
    "In plot, dot colors indicate the 'group strata prop' of the given bin, and dot size is relative to the 'group threshold of that bin'."
   ]
  },
  {
   "cell_type": "code",
   "execution_count": null,
   "id": "8af16940",
   "metadata": {},
   "outputs": [],
   "source": [
    "if have_covariates:\n",
    "    if fibers.fitness_metric == 'log_rank' or fibers.fitness_metric == 'log_rank_residuals':  \n",
    "        fibers.get_log_rank_adj_HR_plot(save=True,output_folder=output_folder,data_name=data_name)"
   ]
  },
  {
   "cell_type": "markdown",
   "id": "7bc02ce9",
   "metadata": {},
   "source": [
    "### Plot: Bin Adjusted Hazard Ratios Vs. Residuals Scores (if applicable)\n",
    "In plot, dot colors indicate the 'group strata prop' of the given bin, and dot size is relative to the 'group threshold of that bin'."
   ]
  },
  {
   "cell_type": "code",
   "execution_count": null,
   "id": "3f9ec918",
   "metadata": {},
   "outputs": [],
   "source": [
    "if have_covariates:\n",
    "    if fibers.fitness_metric == 'residuals' or fibers.fitness_metric == 'log_rank_residuals':   \n",
    "        fibers.get_adj_HR_residuals_plot(save=True,output_folder=output_folder,data_name=data_name)"
   ]
  },
  {
   "cell_type": "markdown",
   "id": "4079c79d",
   "metadata": {},
   "source": [
    "### Plot: Bin Adjusted Hazard Ratios Vs. Log Rank * Residuals Scores (if applicable)\n",
    "In plot, dot colors indicate the 'group strata prop' of the given bin, and dot size is relative to the 'group threshold of that bin'."
   ]
  },
  {
   "cell_type": "code",
   "execution_count": null,
   "id": "0a145e1f",
   "metadata": {},
   "outputs": [],
   "source": [
    "if have_covariates:\n",
    "    if fibers.fitness_metric == 'log_rank_residuals':   \n",
    "        fibers.get_adj_HR_metric_product_plot(save=True,output_folder=output_folder,data_name=data_name)"
   ]
  },
  {
   "cell_type": "markdown",
   "id": "77d47075",
   "metadata": {},
   "source": [
    "***\n",
    "## History of Bin Evolution (Top Bin Each Generation)\n",
    "### Plot: Pre-Fitness of top bin across training iterations"
   ]
  },
  {
   "cell_type": "code",
   "execution_count": null,
   "id": "5b479d47",
   "metadata": {},
   "outputs": [],
   "source": [
    "fibers.get_perform_progress_plot(save=True,output_folder=output_folder,data_name=data_name)"
   ]
  },
  {
   "cell_type": "markdown",
   "id": "db8a078d",
   "metadata": {},
   "source": [
    "### Plot: Threshold of top bin across training iterations"
   ]
  },
  {
   "cell_type": "code",
   "execution_count": null,
   "id": "d9623346",
   "metadata": {},
   "outputs": [],
   "source": [
    "fibers.get_threshold_progress_plot(save=True,output_folder=output_folder,data_name=data_name)"
   ]
  },
  {
   "cell_type": "markdown",
   "id": "cb44f5a9",
   "metadata": {},
   "source": [
    "### Plot: Normalized Top-Bin Stats Across Training Iterations"
   ]
  },
  {
   "cell_type": "code",
   "execution_count": null,
   "id": "f08bda78",
   "metadata": {},
   "outputs": [],
   "source": [
    "fibers.get_misc_progress_plot(save=True,output_folder=output_folder,data_name=data_name)"
   ]
  },
  {
   "cell_type": "markdown",
   "id": "257a57bf",
   "metadata": {},
   "source": [
    "### View Top Bin Information Across all Iterations/Generations"
   ]
  },
  {
   "cell_type": "code",
   "execution_count": null,
   "id": "4fc55a2b",
   "metadata": {},
   "outputs": [],
   "source": [
    "fibers.perform_track_df\n",
    "fibers.perform_track_df.to_csv(output_folder+'/'+'Tracking_'+data_name+'.csv', index=False)"
   ]
  },
  {
   "cell_type": "markdown",
   "id": "5addc345",
   "metadata": {},
   "source": [
    "***\n",
    "## Save Bin Population\n",
    "### Save Bin Population Details to CSV"
   ]
  },
  {
   "cell_type": "code",
   "execution_count": null,
   "id": "aa47c33d",
   "metadata": {},
   "outputs": [],
   "source": [
    "pop_df = fibers.get_pop()\n",
    "pop_df.to_csv(output_folder+'/'+'Pop_'+data_name+'.csv', index=False)"
   ]
  },
  {
   "cell_type": "markdown",
   "id": "65dbc73d",
   "metadata": {},
   "source": [
    "### Pickle Trained FIBERS Object (For Future Use)"
   ]
  },
  {
   "cell_type": "code",
   "execution_count": null,
   "id": "9516eb3a",
   "metadata": {},
   "outputs": [],
   "source": [
    "with open(output_folder+'/'+data_name+'.pickle', 'wb') as f:\n",
    "    pickle.dump(fibers, f)"
   ]
  },
  {
   "cell_type": "markdown",
   "id": "66e262d3",
   "metadata": {},
   "source": [
    "***\n",
    "## Transforming Bins Into New Features (i.e. Feature Learning) and Save as New CSV Files\n",
    "### Transform Bins Using Total Sums (i.e. Respective Bin Thresholds Not Applied)"
   ]
  },
  {
   "cell_type": "code",
   "execution_count": null,
   "id": "ddb83540",
   "metadata": {},
   "outputs": [],
   "source": [
    "tdf = fibers.transform(data,full_sums=True)\n",
    "tdf.to_csv(output_folder+'/'+'Transformed_FullSums_'+data_name+'.csv', index=False)\n",
    "tdf"
   ]
  },
  {
   "cell_type": "markdown",
   "id": "cb6eeb71",
   "metadata": {},
   "source": [
    "### Transform Bins Using Respective Bin Threshold (i.e. 0 = At/Under Threshold Group and 1 = Over Threshold Group)"
   ]
  },
  {
   "cell_type": "code",
   "execution_count": null,
   "id": "ef16ac67",
   "metadata": {},
   "outputs": [],
   "source": [
    "tdf = fibers.transform(data,full_sums=False)\n",
    "tdf.to_csv(output_folder+'/'+'Transformed_Threshold'+data_name+'.csv', index=False)\n",
    "tdf"
   ]
  },
  {
   "cell_type": "markdown",
   "id": "4845cd32",
   "metadata": {},
   "source": [
    "***\n",
    "## Prediction (of Group/Strata)\n",
    "### Predict Strata (Low vs. High) Using Top Bin"
   ]
  },
  {
   "cell_type": "code",
   "execution_count": null,
   "id": "48a269b0",
   "metadata": {},
   "outputs": [],
   "source": [
    "predictions = fibers.predict(data,bin_number=0)\n",
    "print(classification_report(predictions, true_risk_group, digits=8))\n"
   ]
  },
  {
   "cell_type": "markdown",
   "id": "fc7ba28f",
   "metadata": {},
   "source": [
    "### Predict Strata (Low vs. High) Using Whole Bin Population (Weighted Voting Scheme)\n",
    "Assuming that a single bin can best solve the target survival problem (as is the case in this simulation), we expect prediction by all bins with this weighted voting scheme to perform less well."
   ]
  },
  {
   "cell_type": "code",
   "execution_count": null,
   "id": "acf76381",
   "metadata": {},
   "outputs": [],
   "source": [
    "predictions = fibers.predict(data)\n",
    "print(classification_report(predictions, true_risk_group, digits=8))"
   ]
  },
  {
   "cell_type": "markdown",
   "id": "9388db12",
   "metadata": {},
   "source": [
    "***\n",
    "## Open Pickled FIBERS Object (Example)"
   ]
  },
  {
   "cell_type": "code",
   "execution_count": null,
   "id": "1c14005e",
   "metadata": {},
   "outputs": [],
   "source": [
    "with open(output_folder+'/'+data_name+'.pickle', 'rb') as f:\n",
    "    fibers = pickle.load(f)\n",
    "\n",
    "fibers.get_bin_report(bin_index)"
   ]
  }
 ],
 "metadata": {
  "kernelspec": {
   "display_name": "Python 3 (ipykernel)",
   "language": "python",
   "name": "python3"
  },
  "language_info": {
   "codemirror_mode": {
    "name": "ipython",
    "version": 3
   },
   "file_extension": ".py",
   "mimetype": "text/x-python",
   "name": "python",
   "nbconvert_exporter": "python",
   "pygments_lexer": "ipython3",
   "version": "undefined.undefined.undefined"
  }
 },
 "nbformat": 4,
 "nbformat_minor": 5
}
