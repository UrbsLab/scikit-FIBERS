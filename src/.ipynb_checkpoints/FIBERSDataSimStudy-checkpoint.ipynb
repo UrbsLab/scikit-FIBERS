{
 "cells": [
  {
   "cell_type": "markdown",
   "id": "886410d8",
   "metadata": {},
   "source": [
    "# skFIBERS Datasim Experiments"
   ]
  },
  {
   "cell_type": "markdown",
   "id": "3f2dbf16",
   "metadata": {},
   "source": [
    "## Imports"
   ]
  },
  {
   "cell_type": "code",
   "execution_count": 1,
   "id": "dd1529a7",
   "metadata": {},
   "outputs": [],
   "source": [
    "import os\n",
    "import pickle\n",
    "import random\n",
    "import matplotlib\n",
    "import numpy as np\n",
    "import pandas as pd\n",
    "from tqdm import tqdm\n",
    "from skfibers.fibers import FIBERS\n",
    "from skfibers.experiments import create_data_simulation_bin\n",
    "from matplotlib import pyplot as plt\n",
    "import seaborn as sns\n",
    "sns.set_theme(font=\"Times New Roman\")\n",
    "%matplotlib inline"
   ]
  },
  {
   "cell_type": "code",
   "execution_count": 2,
   "id": "e3e1d2c4",
   "metadata": {},
   "outputs": [],
   "source": [
    "import warnings\n",
    "warnings.simplefilter(action='ignore', category=FutureWarning)\n",
    "pd.options.mode.chained_assignment = None  # default='warn'"
   ]
  },
  {
   "cell_type": "markdown",
   "id": "b710f072",
   "metadata": {},
   "source": [
    "## Functions to Run Experiment"
   ]
  },
  {
   "cell_type": "code",
   "execution_count": 3,
   "id": "4ad275c4",
   "metadata": {},
   "outputs": [],
   "source": [
    "def experiment(number_of_instances=10000, number_of_features=50, number_of_features_in_bin=10,\n",
    "                               no_fail_proportion=0.5, mm_frequency_range=(0.4, 0.5), noise_frequency=0.1,\n",
    "                               class0_time_to_event_range=(1.5, 0.2), class1_time_to_event_range=(1, 0.2),\n",
    "                               censoring_frequency=0.5, random_seed=42, negative=False,\n",
    "                               set_number_of_bins=50):\n",
    "    results = list()\n",
    "    for replicate in range(0, 1):\n",
    "        data = create_data_simulation_bin(number_of_instances, number_of_features, number_of_features_in_bin,\n",
    "                               no_fail_proportion, mm_frequency_range, noise_frequency,\n",
    "                               class0_time_to_event_range, class1_time_to_event_range,\n",
    "                               censoring_frequency, random_seed, negative)\n",
    "        true_risk_group = data[['TrueRiskGroup']]\n",
    "        data = data.drop('TrueRiskGroup', axis=1)\n",
    "        fibers = FIBERS(label_name=\"Censoring\", duration_name=\"Duration\", \n",
    "                        given_starting_point=False, amino_acid_start_point=None,\n",
    "                        amino_acid_bins_start_point=None, iterations=100, \n",
    "                        set_number_of_bins=set_number_of_bins, min_features_per_group=2,\n",
    "                        max_number_of_groups_with_feature=2, \n",
    "                        informative_cutoff=0.2, crossover_probability=0.8,\n",
    "                        mutation_probability=0.4, elitism_parameter=0.8,\n",
    "                        random_seed=random_seed)\n",
    "        fibers = fibers.fit(data)\n",
    "        bin_feature_matrix, bins, bin_scores, maf_0_features = \\\n",
    "            fibers.bin_feature_matrix, fibers.bins, fibers.bin_scores, fibers.maf_0_features\n",
    "        results.append((fibers, bin_feature_matrix, bins, bin_scores, maf_0_features))\n",
    "        print(\"Test Accuracy\", fibers.score(data, true_risk_group))\n",
    "    return fibers"
   ]
  },
  {
   "cell_type": "code",
   "execution_count": 4,
   "id": "4d9e9e56",
   "metadata": {},
   "outputs": [],
   "source": [
    "def save_box_plots(df, xlabel, experiment, show=False):\n",
    "    sns.boxplot(y=df['Score'], x=df['param'])\n",
    "    plt.xticks(rotation=90)\n",
    "    plt.xlabel(xlabel)\n",
    "#     plt.ylim(0, 6000)\n",
    "    if experiment:\n",
    "        plt.savefig(\"./experiments_3/\" + experiment + \"_experiments/\" + experiment + \"_boxplot.png\", \n",
    "                    dpi=1200, bbox_inches = \"tight\")\n",
    "        plt.close()\n",
    "    if show:\n",
    "        plt.show()"
   ]
  },
  {
   "cell_type": "code",
   "execution_count": 5,
   "id": "381a5ea3",
   "metadata": {},
   "outputs": [],
   "source": [
    "def save_plots(fibers, experiment, param):\n",
    "    dirname = \"./experiments_3/\" + experiment + \"_experiments/\"\n",
    "    try: os.makedirs(dirname)\n",
    "    except: pass\n",
    "    fibers.get_bin_summary(save= dirname + experiment + \"_\" + str(param) + '_summary.csv')\n",
    "    fibers.get_bin_survival_plot(save=dirname + experiment + \"_\" + str(param) + '_kmplot.png')\n",
    "    fibers.get_bin_scores(save=dirname + experiment + \"_\" + str(param) + '_scores.csv')"
   ]
  },
  {
   "cell_type": "code",
   "execution_count": null,
   "id": "e87cb265",
   "metadata": {},
   "outputs": [],
   "source": [
    "def save_cr(fibers, experiment, param):\n",
    "    dirname = \"./experiments_3/\" + experiment + \"_experiments/\"\n",
    "    try: os.makedirs(dirname)\n",
    "    except: pass\n",
    "    fibers.classification_report(save=dirname + experiment + \"_\" + str(param) + '_cr.csv')"
   ]
  },
  {
   "cell_type": "code",
   "execution_count": 6,
   "id": "e0fa95ab",
   "metadata": {},
   "outputs": [],
   "source": [
    "df_list = list()"
   ]
  },
  {
   "cell_type": "code",
   "execution_count": 7,
   "id": "c9b6928d",
   "metadata": {
    "scrolled": false
   },
   "outputs": [
    {
     "name": "stderr",
     "output_type": "stream",
     "text": [
      "100%|█████████████████████████████████████████| 100/100 [01:58<00:00,  1.18s/it]\n"
     ]
    },
    {
     "name": "stdout",
     "output_type": "stream",
     "text": [
      "Test Accuracy 0.9646\n"
     ]
    },
    {
     "ename": "ValueError",
     "evalue": "5 columns passed, passed data had 6 columns",
     "output_type": "error",
     "traceback": [
      "\u001b[0;31m---------------------------------------------------------------------------\u001b[0m",
      "\u001b[0;31mAssertionError\u001b[0m                            Traceback (most recent call last)",
      "File \u001b[0;32m~/opt/anaconda3/envs/development/lib/python3.8/site-packages/pandas/core/internals/construction.py:969\u001b[0m, in \u001b[0;36m_finalize_columns_and_data\u001b[0;34m(content, columns, dtype)\u001b[0m\n\u001b[1;32m    968\u001b[0m \u001b[38;5;28;01mtry\u001b[39;00m:\n\u001b[0;32m--> 969\u001b[0m     columns \u001b[38;5;241m=\u001b[39m \u001b[43m_validate_or_indexify_columns\u001b[49m\u001b[43m(\u001b[49m\u001b[43mcontents\u001b[49m\u001b[43m,\u001b[49m\u001b[43m \u001b[49m\u001b[43mcolumns\u001b[49m\u001b[43m)\u001b[49m\n\u001b[1;32m    970\u001b[0m \u001b[38;5;28;01mexcept\u001b[39;00m \u001b[38;5;167;01mAssertionError\u001b[39;00m \u001b[38;5;28;01mas\u001b[39;00m err:\n\u001b[1;32m    971\u001b[0m     \u001b[38;5;66;03m# GH#26429 do not raise user-facing AssertionError\u001b[39;00m\n",
      "File \u001b[0;32m~/opt/anaconda3/envs/development/lib/python3.8/site-packages/pandas/core/internals/construction.py:1017\u001b[0m, in \u001b[0;36m_validate_or_indexify_columns\u001b[0;34m(content, columns)\u001b[0m\n\u001b[1;32m   1015\u001b[0m \u001b[38;5;28;01mif\u001b[39;00m \u001b[38;5;129;01mnot\u001b[39;00m is_mi_list \u001b[38;5;129;01mand\u001b[39;00m \u001b[38;5;28mlen\u001b[39m(columns) \u001b[38;5;241m!=\u001b[39m \u001b[38;5;28mlen\u001b[39m(content):  \u001b[38;5;66;03m# pragma: no cover\u001b[39;00m\n\u001b[1;32m   1016\u001b[0m     \u001b[38;5;66;03m# caller's responsibility to check for this...\u001b[39;00m\n\u001b[0;32m-> 1017\u001b[0m     \u001b[38;5;28;01mraise\u001b[39;00m \u001b[38;5;167;01mAssertionError\u001b[39;00m(\n\u001b[1;32m   1018\u001b[0m         \u001b[38;5;124mf\u001b[39m\u001b[38;5;124m\"\u001b[39m\u001b[38;5;132;01m{\u001b[39;00m\u001b[38;5;28mlen\u001b[39m(columns)\u001b[38;5;132;01m}\u001b[39;00m\u001b[38;5;124m columns passed, passed data had \u001b[39m\u001b[38;5;124m\"\u001b[39m\n\u001b[1;32m   1019\u001b[0m         \u001b[38;5;124mf\u001b[39m\u001b[38;5;124m\"\u001b[39m\u001b[38;5;132;01m{\u001b[39;00m\u001b[38;5;28mlen\u001b[39m(content)\u001b[38;5;132;01m}\u001b[39;00m\u001b[38;5;124m columns\u001b[39m\u001b[38;5;124m\"\u001b[39m\n\u001b[1;32m   1020\u001b[0m     )\n\u001b[1;32m   1021\u001b[0m \u001b[38;5;28;01melif\u001b[39;00m is_mi_list:\n\u001b[1;32m   1022\u001b[0m \n\u001b[1;32m   1023\u001b[0m     \u001b[38;5;66;03m# check if nested list column, length of each sub-list should be equal\u001b[39;00m\n",
      "\u001b[0;31mAssertionError\u001b[0m: 5 columns passed, passed data had 6 columns",
      "\nThe above exception was the direct cause of the following exception:\n",
      "\u001b[0;31mValueError\u001b[0m                                Traceback (most recent call last)",
      "Cell \u001b[0;32mIn[7], line 5\u001b[0m\n\u001b[1;32m      3\u001b[0m \u001b[38;5;28;01mfor\u001b[39;00m i \u001b[38;5;129;01min\u001b[39;00m [\u001b[38;5;28;01mFalse\u001b[39;00m, \u001b[38;5;28;01mTrue\u001b[39;00m]:\n\u001b[1;32m      4\u001b[0m     fibers \u001b[38;5;241m=\u001b[39m experiment(negative\u001b[38;5;241m=\u001b[39mi, noise_frequency\u001b[38;5;241m=\u001b[39m\u001b[38;5;241m0\u001b[39m)\n\u001b[0;32m----> 5\u001b[0m     \u001b[43msave_plots\u001b[49m\u001b[43m(\u001b[49m\u001b[43mfibers\u001b[49m\u001b[43m,\u001b[49m\u001b[43m \u001b[49m\u001b[38;5;124;43m\"\u001b[39;49m\u001b[38;5;124;43mcontrol\u001b[39;49m\u001b[38;5;124;43m\"\u001b[39;49m\u001b[43m,\u001b[49m\u001b[43m \u001b[49m\u001b[43mi\u001b[49m\u001b[43m)\u001b[49m\n\u001b[1;32m      6\u001b[0m     tdf \u001b[38;5;241m=\u001b[39m fibers\u001b[38;5;241m.\u001b[39mget_bin_scores()\u001b[38;5;241m.\u001b[39mdrop([\u001b[38;5;124m'\u001b[39m\u001b[38;5;124mBin #\u001b[39m\u001b[38;5;124m'\u001b[39m], axis\u001b[38;5;241m=\u001b[39m\u001b[38;5;241m1\u001b[39m)\u001b[38;5;241m.\u001b[39mhead(\u001b[38;5;241m10\u001b[39m)\n\u001b[1;32m      7\u001b[0m     tdf[\u001b[38;5;124m'\u001b[39m\u001b[38;5;124mparam\u001b[39m\u001b[38;5;124m'\u001b[39m] \u001b[38;5;241m=\u001b[39m i\n",
      "Cell \u001b[0;32mIn[5], line 5\u001b[0m, in \u001b[0;36msave_plots\u001b[0;34m(fibers, experiment, param)\u001b[0m\n\u001b[1;32m      3\u001b[0m \u001b[38;5;28;01mtry\u001b[39;00m: os\u001b[38;5;241m.\u001b[39mmakedirs(dirname)\n\u001b[1;32m      4\u001b[0m \u001b[38;5;28;01mexcept\u001b[39;00m: \u001b[38;5;28;01mpass\u001b[39;00m\n\u001b[0;32m----> 5\u001b[0m \u001b[43mfibers\u001b[49m\u001b[38;5;241;43m.\u001b[39;49m\u001b[43mget_bin_summary\u001b[49m\u001b[43m(\u001b[49m\u001b[43msave\u001b[49m\u001b[38;5;241;43m=\u001b[39;49m\u001b[43m \u001b[49m\u001b[43mdirname\u001b[49m\u001b[43m \u001b[49m\u001b[38;5;241;43m+\u001b[39;49m\u001b[43m \u001b[49m\u001b[43mexperiment\u001b[49m\u001b[43m \u001b[49m\u001b[38;5;241;43m+\u001b[39;49m\u001b[43m \u001b[49m\u001b[38;5;124;43m\"\u001b[39;49m\u001b[38;5;124;43m_\u001b[39;49m\u001b[38;5;124;43m\"\u001b[39;49m\u001b[43m \u001b[49m\u001b[38;5;241;43m+\u001b[39;49m\u001b[43m \u001b[49m\u001b[38;5;28;43mstr\u001b[39;49m\u001b[43m(\u001b[49m\u001b[43mparam\u001b[49m\u001b[43m)\u001b[49m\u001b[43m \u001b[49m\u001b[38;5;241;43m+\u001b[39;49m\u001b[43m \u001b[49m\u001b[38;5;124;43m'\u001b[39;49m\u001b[38;5;124;43m_summary.csv\u001b[39;49m\u001b[38;5;124;43m'\u001b[39;49m\u001b[43m)\u001b[49m\n\u001b[1;32m      6\u001b[0m fibers\u001b[38;5;241m.\u001b[39mget_bin_survival_plot(save\u001b[38;5;241m=\u001b[39mdirname \u001b[38;5;241m+\u001b[39m experiment \u001b[38;5;241m+\u001b[39m \u001b[38;5;124m\"\u001b[39m\u001b[38;5;124m_\u001b[39m\u001b[38;5;124m\"\u001b[39m \u001b[38;5;241m+\u001b[39m \u001b[38;5;28mstr\u001b[39m(param) \u001b[38;5;241m+\u001b[39m \u001b[38;5;124m'\u001b[39m\u001b[38;5;124m_kmplot.png\u001b[39m\u001b[38;5;124m'\u001b[39m)\n\u001b[1;32m      7\u001b[0m fibers\u001b[38;5;241m.\u001b[39mget_bin_scores(save\u001b[38;5;241m=\u001b[39mdirname \u001b[38;5;241m+\u001b[39m experiment \u001b[38;5;241m+\u001b[39m \u001b[38;5;124m\"\u001b[39m\u001b[38;5;124m_\u001b[39m\u001b[38;5;124m\"\u001b[39m \u001b[38;5;241m+\u001b[39m \u001b[38;5;28mstr\u001b[39m(param) \u001b[38;5;241m+\u001b[39m \u001b[38;5;124m'\u001b[39m\u001b[38;5;124m_scores.csv\u001b[39m\u001b[38;5;124m'\u001b[39m)\n",
      "File \u001b[0;32m~/Local/Cedars/Urbslab/scikit-FIBERS/src/skfibers/fibers.py:362\u001b[0m, in \u001b[0;36mFIBERS.get_bin_summary\u001b[0;34m(self, prin, save, bin_order)\u001b[0m\n\u001b[1;32m    357\u001b[0m results \u001b[38;5;241m=\u001b[39m logrank_test(durations_no, durations_mm, event_observed_A\u001b[38;5;241m=\u001b[39mevent_observed_no,\n\u001b[1;32m    358\u001b[0m                        event_observed_B\u001b[38;5;241m=\u001b[39mevent_observed_mm)\n\u001b[1;32m    359\u001b[0m columns \u001b[38;5;241m=\u001b[39m [\u001b[38;5;124m\"\u001b[39m\u001b[38;5;124mBin #\u001b[39m\u001b[38;5;124m\"\u001b[39m, \u001b[38;5;124m\"\u001b[39m\u001b[38;5;124mTop Bin of Features:\u001b[39m\u001b[38;5;124m\"\u001b[39m, \u001b[38;5;124m\"\u001b[39m\u001b[38;5;124mLog-Rank Score\u001b[39m\u001b[38;5;124m\"\u001b[39m\n\u001b[1;32m    360\u001b[0m            \u001b[38;5;124m\"\u001b[39m\u001b[38;5;124mNumber of Instances with No Mismatches in Bin:\u001b[39m\u001b[38;5;124m\"\u001b[39m,\n\u001b[1;32m    361\u001b[0m            \u001b[38;5;124m\"\u001b[39m\u001b[38;5;124mNumber of Instances with Mismatch(es) in Bin:\u001b[39m\u001b[38;5;124m\"\u001b[39m, \u001b[38;5;124m\"\u001b[39m\u001b[38;5;124mp-value from Log Rank Test:\u001b[39m\u001b[38;5;124m\"\u001b[39m]\n\u001b[0;32m--> 362\u001b[0m pdf \u001b[38;5;241m=\u001b[39m \u001b[43mpd\u001b[49m\u001b[38;5;241;43m.\u001b[39;49m\u001b[43mDataFrame\u001b[49m\u001b[43m(\u001b[49m\u001b[43m[\u001b[49m\u001b[43m[\u001b[49m\u001b[43mtop_bin\u001b[49m\u001b[43m,\u001b[49m\u001b[43m \u001b[49m\u001b[38;5;28;43mself\u001b[39;49m\u001b[38;5;241;43m.\u001b[39;49m\u001b[43mbins\u001b[49m\u001b[43m[\u001b[49m\u001b[43mtop_bin\u001b[49m\u001b[43m]\u001b[49m\u001b[43m,\u001b[49m\n\u001b[1;32m    363\u001b[0m \u001b[43m                     \u001b[49m\u001b[38;5;28;43mself\u001b[39;49m\u001b[38;5;241;43m.\u001b[39;49m\u001b[43mbin_scores\u001b[49m\u001b[43m[\u001b[49m\u001b[43mtop_bin\u001b[49m\u001b[43m]\u001b[49m\u001b[43m,\u001b[49m\u001b[43m \u001b[49m\u001b[38;5;28;43mlen\u001b[39;49m\u001b[43m(\u001b[49m\u001b[43mdurations_no\u001b[49m\u001b[43m)\u001b[49m\u001b[43m,\u001b[49m\n\u001b[1;32m    364\u001b[0m \u001b[43m                     \u001b[49m\u001b[38;5;28;43mlen\u001b[39;49m\u001b[43m(\u001b[49m\u001b[43mdurations_mm\u001b[49m\u001b[43m)\u001b[49m\u001b[43m,\u001b[49m\u001b[43m \u001b[49m\u001b[43mresults\u001b[49m\u001b[38;5;241;43m.\u001b[39;49m\u001b[43mp_value\u001b[49m\u001b[43m]\u001b[49m\u001b[43m]\u001b[49m\u001b[43m,\u001b[49m\u001b[43m \u001b[49m\u001b[43mcolumns\u001b[49m\u001b[38;5;241;43m=\u001b[39;49m\u001b[43mcolumns\u001b[49m\u001b[43m)\u001b[49m\n\u001b[1;32m    365\u001b[0m \u001b[38;5;28;01mif\u001b[39;00m prin \u001b[38;5;129;01mor\u001b[39;00m save \u001b[38;5;129;01mis\u001b[39;00m \u001b[38;5;129;01mnot\u001b[39;00m \u001b[38;5;28;01mNone\u001b[39;00m:\n\u001b[1;32m    366\u001b[0m     \u001b[38;5;28;01mif\u001b[39;00m prin:\n",
      "File \u001b[0;32m~/opt/anaconda3/envs/development/lib/python3.8/site-packages/pandas/core/frame.py:746\u001b[0m, in \u001b[0;36mDataFrame.__init__\u001b[0;34m(self, data, index, columns, dtype, copy)\u001b[0m\n\u001b[1;32m    744\u001b[0m     \u001b[38;5;28;01mif\u001b[39;00m columns \u001b[38;5;129;01mis\u001b[39;00m \u001b[38;5;129;01mnot\u001b[39;00m \u001b[38;5;28;01mNone\u001b[39;00m:\n\u001b[1;32m    745\u001b[0m         columns \u001b[38;5;241m=\u001b[39m ensure_index(columns)\n\u001b[0;32m--> 746\u001b[0m     arrays, columns, index \u001b[38;5;241m=\u001b[39m \u001b[43mnested_data_to_arrays\u001b[49m\u001b[43m(\u001b[49m\n\u001b[1;32m    747\u001b[0m \u001b[43m        \u001b[49m\u001b[38;5;66;43;03m# error: Argument 3 to \"nested_data_to_arrays\" has incompatible\u001b[39;49;00m\n\u001b[1;32m    748\u001b[0m \u001b[43m        \u001b[49m\u001b[38;5;66;43;03m# type \"Optional[Collection[Any]]\"; expected \"Optional[Index]\"\u001b[39;49;00m\n\u001b[1;32m    749\u001b[0m \u001b[43m        \u001b[49m\u001b[43mdata\u001b[49m\u001b[43m,\u001b[49m\n\u001b[1;32m    750\u001b[0m \u001b[43m        \u001b[49m\u001b[43mcolumns\u001b[49m\u001b[43m,\u001b[49m\n\u001b[1;32m    751\u001b[0m \u001b[43m        \u001b[49m\u001b[43mindex\u001b[49m\u001b[43m,\u001b[49m\u001b[43m  \u001b[49m\u001b[38;5;66;43;03m# type: ignore[arg-type]\u001b[39;49;00m\n\u001b[1;32m    752\u001b[0m \u001b[43m        \u001b[49m\u001b[43mdtype\u001b[49m\u001b[43m,\u001b[49m\n\u001b[1;32m    753\u001b[0m \u001b[43m    \u001b[49m\u001b[43m)\u001b[49m\n\u001b[1;32m    754\u001b[0m     mgr \u001b[38;5;241m=\u001b[39m arrays_to_mgr(\n\u001b[1;32m    755\u001b[0m         arrays,\n\u001b[1;32m    756\u001b[0m         columns,\n\u001b[0;32m   (...)\u001b[0m\n\u001b[1;32m    759\u001b[0m         typ\u001b[38;5;241m=\u001b[39mmanager,\n\u001b[1;32m    760\u001b[0m     )\n\u001b[1;32m    761\u001b[0m \u001b[38;5;28;01melse\u001b[39;00m:\n",
      "File \u001b[0;32m~/opt/anaconda3/envs/development/lib/python3.8/site-packages/pandas/core/internals/construction.py:510\u001b[0m, in \u001b[0;36mnested_data_to_arrays\u001b[0;34m(data, columns, index, dtype)\u001b[0m\n\u001b[1;32m    507\u001b[0m \u001b[38;5;28;01mif\u001b[39;00m is_named_tuple(data[\u001b[38;5;241m0\u001b[39m]) \u001b[38;5;129;01mand\u001b[39;00m columns \u001b[38;5;129;01mis\u001b[39;00m \u001b[38;5;28;01mNone\u001b[39;00m:\n\u001b[1;32m    508\u001b[0m     columns \u001b[38;5;241m=\u001b[39m ensure_index(data[\u001b[38;5;241m0\u001b[39m]\u001b[38;5;241m.\u001b[39m_fields)\n\u001b[0;32m--> 510\u001b[0m arrays, columns \u001b[38;5;241m=\u001b[39m \u001b[43mto_arrays\u001b[49m\u001b[43m(\u001b[49m\u001b[43mdata\u001b[49m\u001b[43m,\u001b[49m\u001b[43m \u001b[49m\u001b[43mcolumns\u001b[49m\u001b[43m,\u001b[49m\u001b[43m \u001b[49m\u001b[43mdtype\u001b[49m\u001b[38;5;241;43m=\u001b[39;49m\u001b[43mdtype\u001b[49m\u001b[43m)\u001b[49m\n\u001b[1;32m    511\u001b[0m columns \u001b[38;5;241m=\u001b[39m ensure_index(columns)\n\u001b[1;32m    513\u001b[0m \u001b[38;5;28;01mif\u001b[39;00m index \u001b[38;5;129;01mis\u001b[39;00m \u001b[38;5;28;01mNone\u001b[39;00m:\n",
      "File \u001b[0;32m~/opt/anaconda3/envs/development/lib/python3.8/site-packages/pandas/core/internals/construction.py:875\u001b[0m, in \u001b[0;36mto_arrays\u001b[0;34m(data, columns, dtype)\u001b[0m\n\u001b[1;32m    872\u001b[0m     data \u001b[38;5;241m=\u001b[39m [\u001b[38;5;28mtuple\u001b[39m(x) \u001b[38;5;28;01mfor\u001b[39;00m x \u001b[38;5;129;01min\u001b[39;00m data]\n\u001b[1;32m    873\u001b[0m     arr \u001b[38;5;241m=\u001b[39m _list_to_arrays(data)\n\u001b[0;32m--> 875\u001b[0m content, columns \u001b[38;5;241m=\u001b[39m \u001b[43m_finalize_columns_and_data\u001b[49m\u001b[43m(\u001b[49m\u001b[43marr\u001b[49m\u001b[43m,\u001b[49m\u001b[43m \u001b[49m\u001b[43mcolumns\u001b[49m\u001b[43m,\u001b[49m\u001b[43m \u001b[49m\u001b[43mdtype\u001b[49m\u001b[43m)\u001b[49m\n\u001b[1;32m    876\u001b[0m \u001b[38;5;28;01mreturn\u001b[39;00m content, columns\n",
      "File \u001b[0;32m~/opt/anaconda3/envs/development/lib/python3.8/site-packages/pandas/core/internals/construction.py:972\u001b[0m, in \u001b[0;36m_finalize_columns_and_data\u001b[0;34m(content, columns, dtype)\u001b[0m\n\u001b[1;32m    969\u001b[0m     columns \u001b[38;5;241m=\u001b[39m _validate_or_indexify_columns(contents, columns)\n\u001b[1;32m    970\u001b[0m \u001b[38;5;28;01mexcept\u001b[39;00m \u001b[38;5;167;01mAssertionError\u001b[39;00m \u001b[38;5;28;01mas\u001b[39;00m err:\n\u001b[1;32m    971\u001b[0m     \u001b[38;5;66;03m# GH#26429 do not raise user-facing AssertionError\u001b[39;00m\n\u001b[0;32m--> 972\u001b[0m     \u001b[38;5;28;01mraise\u001b[39;00m \u001b[38;5;167;01mValueError\u001b[39;00m(err) \u001b[38;5;28;01mfrom\u001b[39;00m \u001b[38;5;21;01merr\u001b[39;00m\n\u001b[1;32m    974\u001b[0m \u001b[38;5;28;01mif\u001b[39;00m \u001b[38;5;28mlen\u001b[39m(contents) \u001b[38;5;129;01mand\u001b[39;00m contents[\u001b[38;5;241m0\u001b[39m]\u001b[38;5;241m.\u001b[39mdtype \u001b[38;5;241m==\u001b[39m np\u001b[38;5;241m.\u001b[39mobject_:\n\u001b[1;32m    975\u001b[0m     contents \u001b[38;5;241m=\u001b[39m _convert_object_array(contents, dtype\u001b[38;5;241m=\u001b[39mdtype)\n",
      "\u001b[0;31mValueError\u001b[0m: 5 columns passed, passed data had 6 columns"
     ]
    }
   ],
   "source": [
    "df1 = pd.DataFrame()\n",
    "control_experiments = list()\n",
    "for i in [False, True]:\n",
    "    fibers = experiment(negative=i, noise_frequency=0)\n",
    "    save_plots(fibers, \"control\", i)\n",
    "    tdf = fibers.get_bin_scores().drop(['Bin #'], axis=1).head(10)\n",
    "    tdf['param'] = i\n",
    "    df1 = df1.append(tdf)\n",
    "    control_experiments.append(fibers)\n",
    "save_box_plots(df1, \"Is Negative Control?\", \"control\")\n",
    "df_list.append(df1)"
   ]
  },
  {
   "cell_type": "code",
   "execution_count": null,
   "id": "55dec442",
   "metadata": {},
   "outputs": [],
   "source": [
    "df1 = pd.DataFrame()\n",
    "mm_experiments = list()\n",
    "for i in range(0, 10):\n",
    "    if i==0: \n",
    "        fibers = experiment(mm_frequency_range=(i/10+0.01, (i+1)/10), noise_frequency=0)\n",
    "        tdf = fibers.get_bin_scores().drop(['Bin #'], axis=1).head(10)\n",
    "        tdf['param'] = str((i/10+0.01, (i+1)/10))\n",
    "        df1 = df1.append(tdf)\n",
    "        save_plots(fibers, \"mm_frequency_range\", (i/10+0.01, (i+1)/10))\n",
    "    else:\n",
    "        fibers = experiment(mm_frequency_range=(i/10, (i+1)/10), noise_frequency=0)\n",
    "        tdf = fibers.get_bin_scores().drop(['Bin #'], axis=1).head(10)\n",
    "        tdf['param'] = str((i/10, (i+1)/10))\n",
    "        df1 = df1.append(tdf)\n",
    "        save_plots(fibers, \"mm_frequency_range\", (i/10, (i+1)/10))\n",
    "    mm_experiments.append(fibers)\n",
    "save_box_plots(df1, \"MM Frequency Range\", \"mm_frequency_range\")"
   ]
  },
  {
   "cell_type": "code",
   "execution_count": null,
   "id": "d14c3433",
   "metadata": {},
   "outputs": [],
   "source": [
    "df1 = pd.DataFrame()\n",
    "mm_experiments = list()\n",
    "for i in range(1, 15):\n",
    "    fibers = experiment(class0_time_to_event_range=(1 + i/20, 0.2), \n",
    "                        class1_time_to_event_range=(1, 0.2), noise_frequency=0.1)\n",
    "    tdf = fibers.get_bin_scores().drop(['Bin #'], axis=1).head(10)\n",
    "    tdf['param'] = str(i/20)\n",
    "    df1 = df1.append(tdf)\n",
    "    save_plots(fibers, \"normal_mean_dist\", i/20)\n",
    "    mm_experiments.append(fibers)\n",
    "save_box_plots(df1, \"Distance b/w guassian mean\", \"normal_mean_dist\")"
   ]
  },
  {
   "cell_type": "code",
   "execution_count": null,
   "id": "31cd2612",
   "metadata": {},
   "outputs": [],
   "source": [
    "df1 = pd.DataFrame()\n",
    "censoring_frequency_experiments = list()\n",
    "for i in range(0, 9):\n",
    "    fibers = experiment(censoring_frequency=i/10, noise_frequency=0)\n",
    "    tdf = fibers.get_bin_scores().drop(['Bin #'], axis=1).head(10)\n",
    "    tdf['param'] = i/10\n",
    "    df1 = df1.append(tdf)\n",
    "    save_plots(fibers, \"censoring_frequency\", i/10)\n",
    "    censoring_frequency_experiments.append(fibers)\n",
    "save_box_plots(df1, \"Censoring Frequency\", \"censoring_frequency\")\n",
    "df_list.append(df1)"
   ]
  },
  {
   "cell_type": "code",
   "execution_count": null,
   "id": "1cf0eb61",
   "metadata": {},
   "outputs": [],
   "source": [
    "df1 = pd.DataFrame()\n",
    "noise_frequency_experiments = list()\n",
    "for i in range(0, 6):\n",
    "    fibers = experiment(noise_frequency=i/10)\n",
    "    tdf = fibers.get_bin_scores().drop(['Bin #'], axis=1).head(10)\n",
    "    tdf['param'] = i/10\n",
    "    df1 = df1.append(tdf)\n",
    "    save_plots(fibers, \"noise_frequency\", i/10)\n",
    "    noise_frequency_experiments.append(fibers)\n",
    "save_box_plots(df1, \"Noise Frequency\", \"noise_frequency\")\n",
    "df_list.append(df1)"
   ]
  },
  {
   "cell_type": "code",
   "execution_count": null,
   "id": "b3be52b7",
   "metadata": {},
   "outputs": [],
   "source": [
    "df1 = pd.DataFrame()\n",
    "number_of_features_experiments = list()\n",
    "for i in [50, 100, 200, 300, 400, 500]:\n",
    "    fibers = experiment(number_of_features=i)\n",
    "    try:\n",
    "        tdf = fibers.get_bin_scores().drop(['Bin #'], axis=1).head(10)\n",
    "        tdf['param'] = i\n",
    "        df1 = df1.append(tdf)\n",
    "    except:\n",
    "        print(\"Failed with param \", i)\n",
    "    save_plots(fibers, \"number_of_features_fixed_bins\", i)\n",
    "    number_of_features_experiments.append(fibers)\n",
    "save_box_plots(df1, \"Number of Features\", \"number_of_features_fixed_bins\")\n",
    "df_list.append(df1)"
   ]
  },
  {
   "cell_type": "code",
   "execution_count": null,
   "id": "a83e6c76",
   "metadata": {},
   "outputs": [],
   "source": [
    "df1 = pd.DataFrame()\n",
    "number_of_features_experiments = list()\n",
    "for i in range(600, 1001, 100):\n",
    "    fibers = experiment(number_of_features=i, set_number_of_bins=i)\n",
    "    try:\n",
    "        tdf = fibers.get_bin_scores().drop(['Bin #'], axis=1).head(10)\n",
    "        tdf['param'] = i\n",
    "        df1 = df1.append(tdf)\n",
    "    except:\n",
    "        print(\"Failed with param \", i)\n",
    "    save_plots(fibers, \"number_of_features_var_bins\", i)\n",
    "    number_of_features_experiments.append(fibers)\n",
    "save_box_plots(df1, \"Number of Features\", \"number_of_features_var_bins\")\n",
    "df_list.append(df1)"
   ]
  },
  {
   "cell_type": "code",
   "execution_count": null,
   "id": "b1e1f05c",
   "metadata": {},
   "outputs": [],
   "source": [
    "all_experiments = {\"control_experiments\" : control_experiments, \n",
    "                   \"mm_experiments\" : mm_experiments, \n",
    "                   \"censoring_frequency_experiments\" : censoring_frequency_experiments, \n",
    "                   \"noise_frequency_experiments\" : noise_frequency_experiments,\n",
    "                   \"number_of_features_experiments\" : number_of_features_experiments,\n",
    "                   \"number_of_features_var_bins_experiments\" : number_of_features_var_bins_experiments}\n",
    "with open(\"experiments.pickle\", \"wb\") as output_file:\n",
    "    pickle.dump(all_experiments, output_file)"
   ]
  },
  {
   "cell_type": "code",
   "execution_count": null,
   "id": "fd056226",
   "metadata": {},
   "outputs": [],
   "source": [
    "df_list_dict = {\"control_experiments\" : df_list[0], \n",
    "                \"mm_experiments\" : df_list[1], \n",
    "                \"censoring_frequency_experiments\" : df_list[2], \n",
    "                \"noise_frequency_experiments\" : df_list[3],\n",
    "                \"number_of_features_experiments\" : df_list[4],\n",
    "                \"number_of_features_var_bins_experiments\" : df_list[5]}\n",
    "with open(\"boxplot_dfs.pickle\", \"wb\") as output_file:\n",
    "    pickle.dump(df_list_dict, output_file)"
   ]
  },
  {
   "cell_type": "code",
   "execution_count": null,
   "id": "fa4d4e94",
   "metadata": {},
   "outputs": [],
   "source": [
    "# !cp \"FIBERSDataSimStudy.ipynb\" \"../GECCO'23/FIBERSDataSimStudy.ipynb\"\n",
    "# !cp -r \"./experiments/\" \"../GECCO'23/experiments/\""
   ]
  }
 ],
 "metadata": {
  "kernelspec": {
   "display_name": "Python [conda env:development]",
   "language": "python",
   "name": "conda-env-development-py"
  },
  "language_info": {
   "codemirror_mode": {
    "name": "ipython",
    "version": 3
   },
   "file_extension": ".py",
   "mimetype": "text/x-python",
   "name": "python",
   "nbconvert_exporter": "python",
   "pygments_lexer": "ipython3",
   "version": "3.8.16"
  }
 },
 "nbformat": 4,
 "nbformat_minor": 5
}
