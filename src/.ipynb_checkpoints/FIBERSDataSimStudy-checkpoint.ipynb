{
 "cells": [
  {
   "cell_type": "markdown",
   "id": "886410d8",
   "metadata": {},
   "source": [
    "# skFIBERS Datasim Experiments"
   ]
  },
  {
   "cell_type": "markdown",
   "id": "3f2dbf16",
   "metadata": {},
   "source": [
    "## Imports"
   ]
  },
  {
   "cell_type": "code",
   "execution_count": 1,
   "id": "dd1529a7",
   "metadata": {},
   "outputs": [],
   "source": [
    "import os\n",
    "import pickle\n",
    "import random\n",
    "import matplotlib\n",
    "import numpy as np\n",
    "import pandas as pd\n",
    "from tqdm import tqdm\n",
    "from skfibers.fibers import FIBERS\n",
    "from skfibers.experiments import create_data_simulation_bin\n",
    "from matplotlib import pyplot as plt\n",
    "import seaborn as sns\n",
    "sns.set_theme(font=\"Times New Roman\")\n",
    "%matplotlib inline"
   ]
  },
  {
   "cell_type": "code",
   "execution_count": 2,
   "id": "e3e1d2c4",
   "metadata": {},
   "outputs": [],
   "source": [
    "import warnings\n",
    "warnings.simplefilter(action='ignore', category=FutureWarning)\n",
    "pd.options.mode.chained_assignment = None  # default='warn'"
   ]
  },
  {
   "cell_type": "markdown",
   "id": "b710f072",
   "metadata": {},
   "source": [
    "## Functions to Run Experiment"
   ]
  },
  {
   "cell_type": "code",
   "execution_count": 3,
   "id": "4ad275c4",
   "metadata": {},
   "outputs": [],
   "source": [
    "def experiment(number_of_instances=10000, number_of_features=50, number_of_features_in_bin=10,\n",
    "                               no_fail_proportion=0.5, mm_frequency_range=(0.4, 0.5), noise_frequency=0.1,\n",
    "                               class0_time_to_event_range=(1.5, 0.2), class1_time_to_event_range=(1, 0.2),\n",
    "                               censoring_frequency=0.5, random_seed=42, negative=False,\n",
    "                               set_number_of_bins=50):\n",
    "    results = list()\n",
    "    for replicate in range(0, 1):\n",
    "        data = create_data_simulation_bin(number_of_instances, number_of_features, number_of_features_in_bin,\n",
    "                               no_fail_proportion, mm_frequency_range, noise_frequency,\n",
    "                               class0_time_to_event_range, class1_time_to_event_range,\n",
    "                               censoring_frequency, random_seed, negative)\n",
    "        true_risk_group = data[['TrueRiskGroup']]\n",
    "        data = data.drop('TrueRiskGroup', axis=1)\n",
    "        fibers = FIBERS(label_name=\"Censoring\", duration_name=\"Duration\", \n",
    "                        given_starting_point=False, amino_acid_start_point=None,\n",
    "                        amino_acid_bins_start_point=None, iterations=100, \n",
    "                        set_number_of_bins=set_number_of_bins, min_features_per_group=2,\n",
    "                        max_number_of_groups_with_feature=2, \n",
    "                        informative_cutoff=0.2, crossover_probability=0.8,\n",
    "                        mutation_probability=0.4, elitism_parameter=0.8,\n",
    "                        random_seed=random_seed)\n",
    "        fibers = fibers.fit(data)\n",
    "        bin_feature_matrix, bins, bin_scores, maf_0_features = \\\n",
    "            fibers.bin_feature_matrix, fibers.bins, fibers.bin_scores, fibers.maf_0_features\n",
    "        results.append((fibers, bin_feature_matrix, bins, bin_scores, maf_0_features))\n",
    "#     for i in range(1, len(results)):\n",
    "#         assert (results[i][1].equals(results[i - 1][1]))\n",
    "#         assert (results[i][2] == results[i - 1][2])\n",
    "#         assert (results[i][3] == results[i - 1][3])\n",
    "    return fibers"
   ]
  },
  {
   "cell_type": "code",
   "execution_count": 4,
   "id": "836a5407",
   "metadata": {},
   "outputs": [],
   "source": [
    "def save_box_plots(df, xlabel, experiment, show=False):\n",
    "    sns.boxplot(y=df['Score'], x=df['param'])\n",
    "    plt.xticks(rotation=90)\n",
    "    plt.xlabel(xlabel)\n",
    "    plt.ylim(0, 6000)\n",
    "    if experiment:\n",
    "        plt.savefig(\"./experiments/\" + experiment + \"_experiments/\" + experiment + \"_boxplot.png\", \n",
    "                    dpi=1200, bbox_inches = \"tight\")\n",
    "        plt.close()\n",
    "    if show:\n",
    "        plt.show()"
   ]
  },
  {
   "cell_type": "code",
   "execution_count": 5,
   "id": "748150a8",
   "metadata": {},
   "outputs": [],
   "source": [
    "def save_plots(fibers, experiment, param):\n",
    "    dirname = \"./experiments/\" + experiment + \"_experiments/\"\n",
    "    try: os.makedirs(dirname)\n",
    "    except: pass\n",
    "    fibers.get_bin_summary(save= dirname + experiment + \"_\" + str(param) + '_summary.csv')\n",
    "    fibers.get_bin_survival_plot(save=dirname + experiment + \"_\" + str(param) + '_kmplot.png')\n",
    "    fibers.get_bin_scores(save=dirname + experiment + \"_\" + str(param) + '_scores.csv')"
   ]
  },
  {
   "cell_type": "code",
   "execution_count": 6,
   "id": "02d5acee",
   "metadata": {},
   "outputs": [],
   "source": [
    "df_list = list()"
   ]
  },
  {
   "cell_type": "code",
   "execution_count": 7,
   "id": "c9b6928d",
   "metadata": {
    "scrolled": false
   },
   "outputs": [
    {
     "name": "stderr",
     "output_type": "stream",
     "text": [
      "100%|█████████████████████████████████████████| 100/100 [01:33<00:00,  1.07it/s]\n",
      "100%|█████████████████████████████████████████| 100/100 [01:30<00:00,  1.10it/s]\n"
     ]
    }
   ],
   "source": [
    "df1 = pd.DataFrame()\n",
    "control_experiments = list()\n",
    "for i in [False, True]:\n",
    "    fibers = experiment(negative=i, noise_frequency=0)\n",
    "    save_plots(fibers, \"control\", i)\n",
    "    tdf = fibers.get_bin_scores().drop(['Bin #'], axis=1).head(10)\n",
    "    tdf['param'] = i\n",
    "    df1 = df1.append(tdf)\n",
    "    control_experiments.append(fibers)\n",
    "save_box_plots(df1, \"Is Negative Control?\", \"control\")\n",
    "df_list.append(df1)"
   ]
  },
  {
   "cell_type": "code",
   "execution_count": 9,
   "id": "e9af1aa6",
   "metadata": {},
   "outputs": [
    {
     "data": {
      "text/html": [
       "<div>\n",
       "<style scoped>\n",
       "    .dataframe tbody tr th:only-of-type {\n",
       "        vertical-align: middle;\n",
       "    }\n",
       "\n",
       "    .dataframe tbody tr th {\n",
       "        vertical-align: top;\n",
       "    }\n",
       "\n",
       "    .dataframe thead th {\n",
       "        text-align: right;\n",
       "    }\n",
       "</style>\n",
       "<table border=\"1\" class=\"dataframe\">\n",
       "  <thead>\n",
       "    <tr style=\"text-align: right;\">\n",
       "      <th></th>\n",
       "    </tr>\n",
       "  </thead>\n",
       "  <tbody>\n",
       "  </tbody>\n",
       "</table>\n",
       "</div>"
      ],
      "text/plain": [
       "Empty DataFrame\n",
       "Columns: []\n",
       "Index: []"
      ]
     },
     "execution_count": 9,
     "metadata": {},
     "output_type": "execute_result"
    }
   ],
   "source": [
    "df1"
   ]
  },
  {
   "cell_type": "code",
   "execution_count": 8,
   "id": "55dec442",
   "metadata": {},
   "outputs": [
    {
     "name": "stderr",
     "output_type": "stream",
     "text": [
      "100%|█████████████████████████████████████████| 100/100 [01:36<00:00,  1.03it/s]\n",
      "100%|█████████████████████████████████████████| 100/100 [01:41<00:00,  1.01s/it]\n",
      "100%|█████████████████████████████████████████| 100/100 [01:33<00:00,  1.07it/s]\n",
      "100%|█████████████████████████████████████████| 100/100 [01:32<00:00,  1.08it/s]\n",
      "100%|█████████████████████████████████████████| 100/100 [01:25<00:00,  1.17it/s]\n",
      "100%|█████████████████████████████████████████| 100/100 [01:20<00:00,  1.24it/s]\n",
      "100%|█████████████████████████████████████████| 100/100 [01:11<00:00,  1.39it/s]\n",
      "100%|█████████████████████████████████████████| 100/100 [00:46<00:00,  2.13it/s]\n",
      "100%|█████████████████████████████████████████| 100/100 [00:45<00:00,  2.17it/s]\n"
     ]
    },
    {
     "ename": "KeyError",
     "evalue": "'Score'",
     "output_type": "error",
     "traceback": [
      "\u001b[0;31m---------------------------------------------------------------------------\u001b[0m",
      "\u001b[0;31mKeyError\u001b[0m                                  Traceback (most recent call last)",
      "File \u001b[0;32m~/opt/anaconda3/envs/development/lib/python3.8/site-packages/pandas/core/indexes/base.py:3802\u001b[0m, in \u001b[0;36mIndex.get_loc\u001b[0;34m(self, key, method, tolerance)\u001b[0m\n\u001b[1;32m   3801\u001b[0m \u001b[38;5;28;01mtry\u001b[39;00m:\n\u001b[0;32m-> 3802\u001b[0m     \u001b[38;5;28;01mreturn\u001b[39;00m \u001b[38;5;28;43mself\u001b[39;49m\u001b[38;5;241;43m.\u001b[39;49m\u001b[43m_engine\u001b[49m\u001b[38;5;241;43m.\u001b[39;49m\u001b[43mget_loc\u001b[49m\u001b[43m(\u001b[49m\u001b[43mcasted_key\u001b[49m\u001b[43m)\u001b[49m\n\u001b[1;32m   3803\u001b[0m \u001b[38;5;28;01mexcept\u001b[39;00m \u001b[38;5;167;01mKeyError\u001b[39;00m \u001b[38;5;28;01mas\u001b[39;00m err:\n",
      "File \u001b[0;32m~/opt/anaconda3/envs/development/lib/python3.8/site-packages/pandas/_libs/index.pyx:138\u001b[0m, in \u001b[0;36mpandas._libs.index.IndexEngine.get_loc\u001b[0;34m()\u001b[0m\n",
      "File \u001b[0;32m~/opt/anaconda3/envs/development/lib/python3.8/site-packages/pandas/_libs/index.pyx:165\u001b[0m, in \u001b[0;36mpandas._libs.index.IndexEngine.get_loc\u001b[0;34m()\u001b[0m\n",
      "File \u001b[0;32mpandas/_libs/hashtable_class_helper.pxi:5745\u001b[0m, in \u001b[0;36mpandas._libs.hashtable.PyObjectHashTable.get_item\u001b[0;34m()\u001b[0m\n",
      "File \u001b[0;32mpandas/_libs/hashtable_class_helper.pxi:5753\u001b[0m, in \u001b[0;36mpandas._libs.hashtable.PyObjectHashTable.get_item\u001b[0;34m()\u001b[0m\n",
      "\u001b[0;31mKeyError\u001b[0m: 'Score'",
      "\nThe above exception was the direct cause of the following exception:\n",
      "\u001b[0;31mKeyError\u001b[0m                                  Traceback (most recent call last)",
      "Cell \u001b[0;32mIn[8], line 9\u001b[0m\n\u001b[1;32m      7\u001b[0m     save_plots(fibers, \u001b[38;5;124m\"\u001b[39m\u001b[38;5;124mmm_frequency_range\u001b[39m\u001b[38;5;124m\"\u001b[39m, (i\u001b[38;5;241m/\u001b[39m\u001b[38;5;241m10\u001b[39m, (i\u001b[38;5;241m+\u001b[39m\u001b[38;5;241m1\u001b[39m)\u001b[38;5;241m/\u001b[39m\u001b[38;5;241m10\u001b[39m))\n\u001b[1;32m      8\u001b[0m     mm_experiments\u001b[38;5;241m.\u001b[39mappend(fibers)\n\u001b[0;32m----> 9\u001b[0m \u001b[43msave_box_plots\u001b[49m\u001b[43m(\u001b[49m\u001b[43mdf1\u001b[49m\u001b[43m,\u001b[49m\u001b[43m \u001b[49m\u001b[38;5;124;43m\"\u001b[39;49m\u001b[38;5;124;43mMM Frequency Range\u001b[39;49m\u001b[38;5;124;43m\"\u001b[39;49m\u001b[43m,\u001b[49m\u001b[43m \u001b[49m\u001b[38;5;124;43m\"\u001b[39;49m\u001b[38;5;124;43mmm_frequency_range\u001b[39;49m\u001b[38;5;124;43m\"\u001b[39;49m\u001b[43m)\u001b[49m\n\u001b[1;32m     10\u001b[0m df_list\u001b[38;5;241m.\u001b[39mappend(df1)\n",
      "Cell \u001b[0;32mIn[4], line 2\u001b[0m, in \u001b[0;36msave_box_plots\u001b[0;34m(df, xlabel, experiment, show)\u001b[0m\n\u001b[1;32m      1\u001b[0m \u001b[38;5;28;01mdef\u001b[39;00m \u001b[38;5;21msave_box_plots\u001b[39m(df, xlabel, experiment, show\u001b[38;5;241m=\u001b[39m\u001b[38;5;28;01mFalse\u001b[39;00m):\n\u001b[0;32m----> 2\u001b[0m     sns\u001b[38;5;241m.\u001b[39mboxplot(y\u001b[38;5;241m=\u001b[39m\u001b[43mdf\u001b[49m\u001b[43m[\u001b[49m\u001b[38;5;124;43m'\u001b[39;49m\u001b[38;5;124;43mScore\u001b[39;49m\u001b[38;5;124;43m'\u001b[39;49m\u001b[43m]\u001b[49m, x\u001b[38;5;241m=\u001b[39mdf[\u001b[38;5;124m'\u001b[39m\u001b[38;5;124mparam\u001b[39m\u001b[38;5;124m'\u001b[39m])\n\u001b[1;32m      3\u001b[0m     plt\u001b[38;5;241m.\u001b[39mxticks(rotation\u001b[38;5;241m=\u001b[39m\u001b[38;5;241m90\u001b[39m)\n\u001b[1;32m      4\u001b[0m     plt\u001b[38;5;241m.\u001b[39mxlabel(xlabel)\n",
      "File \u001b[0;32m~/opt/anaconda3/envs/development/lib/python3.8/site-packages/pandas/core/frame.py:3807\u001b[0m, in \u001b[0;36mDataFrame.__getitem__\u001b[0;34m(self, key)\u001b[0m\n\u001b[1;32m   3805\u001b[0m \u001b[38;5;28;01mif\u001b[39;00m \u001b[38;5;28mself\u001b[39m\u001b[38;5;241m.\u001b[39mcolumns\u001b[38;5;241m.\u001b[39mnlevels \u001b[38;5;241m>\u001b[39m \u001b[38;5;241m1\u001b[39m:\n\u001b[1;32m   3806\u001b[0m     \u001b[38;5;28;01mreturn\u001b[39;00m \u001b[38;5;28mself\u001b[39m\u001b[38;5;241m.\u001b[39m_getitem_multilevel(key)\n\u001b[0;32m-> 3807\u001b[0m indexer \u001b[38;5;241m=\u001b[39m \u001b[38;5;28;43mself\u001b[39;49m\u001b[38;5;241;43m.\u001b[39;49m\u001b[43mcolumns\u001b[49m\u001b[38;5;241;43m.\u001b[39;49m\u001b[43mget_loc\u001b[49m\u001b[43m(\u001b[49m\u001b[43mkey\u001b[49m\u001b[43m)\u001b[49m\n\u001b[1;32m   3808\u001b[0m \u001b[38;5;28;01mif\u001b[39;00m is_integer(indexer):\n\u001b[1;32m   3809\u001b[0m     indexer \u001b[38;5;241m=\u001b[39m [indexer]\n",
      "File \u001b[0;32m~/opt/anaconda3/envs/development/lib/python3.8/site-packages/pandas/core/indexes/base.py:3804\u001b[0m, in \u001b[0;36mIndex.get_loc\u001b[0;34m(self, key, method, tolerance)\u001b[0m\n\u001b[1;32m   3802\u001b[0m     \u001b[38;5;28;01mreturn\u001b[39;00m \u001b[38;5;28mself\u001b[39m\u001b[38;5;241m.\u001b[39m_engine\u001b[38;5;241m.\u001b[39mget_loc(casted_key)\n\u001b[1;32m   3803\u001b[0m \u001b[38;5;28;01mexcept\u001b[39;00m \u001b[38;5;167;01mKeyError\u001b[39;00m \u001b[38;5;28;01mas\u001b[39;00m err:\n\u001b[0;32m-> 3804\u001b[0m     \u001b[38;5;28;01mraise\u001b[39;00m \u001b[38;5;167;01mKeyError\u001b[39;00m(key) \u001b[38;5;28;01mfrom\u001b[39;00m \u001b[38;5;21;01merr\u001b[39;00m\n\u001b[1;32m   3805\u001b[0m \u001b[38;5;28;01mexcept\u001b[39;00m \u001b[38;5;167;01mTypeError\u001b[39;00m:\n\u001b[1;32m   3806\u001b[0m     \u001b[38;5;66;03m# If we have a listlike key, _check_indexing_error will raise\u001b[39;00m\n\u001b[1;32m   3807\u001b[0m     \u001b[38;5;66;03m#  InvalidIndexError. Otherwise we fall through and re-raise\u001b[39;00m\n\u001b[1;32m   3808\u001b[0m     \u001b[38;5;66;03m#  the TypeError.\u001b[39;00m\n\u001b[1;32m   3809\u001b[0m     \u001b[38;5;28mself\u001b[39m\u001b[38;5;241m.\u001b[39m_check_indexing_error(key)\n",
      "\u001b[0;31mKeyError\u001b[0m: 'Score'"
     ]
    }
   ],
   "source": [
    "df1 = pd.DataFrame()\n",
    "mm_experiments = list()\n",
    "for i in range(1, 10):\n",
    "    fibers = experiment(mm_frequency_range=(i/10, (i+1)/10), noise_frequency=0)\n",
    "    tdf = fibers.get_bin_scores().drop(['Bin #'], axis=1).head(10)\n",
    "    tdf['param'] = str((i/10, (i+1)/10))\n",
    "    df1 = df1.append(tdf)\n",
    "    save_plots(fibers, \"mm_frequency_range\", (i/10, (i+1)/10))\n",
    "    mm_experiments.append(fibers)\n",
    "save_box_plots(df1, \"MM Frequency Range\", \"mm_frequency_range\")\n",
    "df_list.append(df1)"
   ]
  },
  {
   "cell_type": "code",
   "execution_count": null,
   "id": "31cd2612",
   "metadata": {},
   "outputs": [],
   "source": [
    "df1 = pd.DataFrame()\n",
    "censoring_frequency_experiments = list()\n",
    "for i in range(1, 9):\n",
    "    fibers = experiment(censoring_frequency=i/10, noise_frequency=0)\n",
    "    tdf = fibers.get_bin_scores().drop(['Bin #'], axis=1).head(10)\n",
    "    tdf['param'] = i/10\n",
    "    df1 = df1.append(tdf)\n",
    "    save_plots(fibers, \"censoring_frequency\", i/10)\n",
    "    censoring_frequency_experiments.append(fibers)\n",
    "save_box_plots(df1, \"Censoring Frequency\", \"censoring_frequency\")\n",
    "df_list.append(df1)"
   ]
  },
  {
   "cell_type": "code",
   "execution_count": null,
   "id": "1cf0eb61",
   "metadata": {},
   "outputs": [],
   "source": [
    "df1 = pd.DataFrame()\n",
    "noise_frequency_experiments = list()\n",
    "for i in range(1, 6):\n",
    "    fibers = experiment(noise_frequency=i/10)\n",
    "    tdf = fibers.get_bin_scores().drop(['Bin #'], axis=1).head(10)\n",
    "    tdf['param'] = i/10\n",
    "    df1 = df1.append(tdf)\n",
    "    save_plots(fibers, \"noise_frequency\", i/10)\n",
    "    noise_frequency_experiments.append(fibers)\n",
    "save_box_plots(df1, \"Noise Frequency\", \"noise_frequency\")\n",
    "df_list.append(df1)"
   ]
  },
  {
   "cell_type": "code",
   "execution_count": null,
   "id": "b3be52b7",
   "metadata": {},
   "outputs": [],
   "source": [
    "df1 = pd.DataFrame()\n",
    "number_of_features_experiments = list()\n",
    "for i in range [50, 100, 200, 300, 400, 500]:\n",
    "    fibers = experiment(number_of_features=i)\n",
    "    try:\n",
    "        tdf = fibers.get_bin_scores().drop(['Bin #'], axis=1).head(10)\n",
    "        tdf['param'] = i\n",
    "        df1 = df1.append(tdf)\n",
    "    except:\n",
    "        print(\"Failed with param \", i)\n",
    "    save_plots(fibers, \"number_of_features_fixed_bins\", i)\n",
    "    number_of_features_experiments.append(fibers)\n",
    "save_box_plots(df1, \"Number of Features\", \"number_of_features_fixed_bins\")\n",
    "df_list.append(df1)"
   ]
  },
  {
   "cell_type": "code",
   "execution_count": null,
   "id": "e4b339c6",
   "metadata": {},
   "outputs": [],
   "source": [
    "df1 = pd.DataFrame()\n",
    "number_of_features_var_bins_experiments = list()\n",
    "for i in range(1000, 5001, 1000):\n",
    "    data = create_data_simulation_bin(number_of_instances=10000, number_of_features=i, number_of_features_in_bin=10,\n",
    "                                no_fail_proportion=0.5, mm_frequency_range=(0.7, 0.9) , noise_frequency=0.1,\n",
    "                                class0_time_to_event_range=(1.5, 0.2), class1_time_to_event_range=(1, 0.2), \n",
    "                                censoring_frequency=0.5, random_seed=42, negative=FAlse)\n",
    "    true_risk_group = data[['TrueRiskGroup']]\n",
    "    data = data.drop('TrueRiskGroup', axis=1)\n",
    "    fibers = FIBERS(label_name=\"Censoring\", duration_name=\"Duration\", \n",
    "                    given_starting_point=False, amino_acid_start_point=None,\n",
    "                    amino_acid_bins_start_point=None, iterations=100, \n",
    "                    set_number_of_bins=i, min_features_per_group=2,\n",
    "                    max_number_of_groups_with_feature=2, \n",
    "                    informative_cutoff=0.2, crossover_probability=0.8,\n",
    "                    mutation_probability=0.4, elitism_parameter=0.8,\n",
    "                    random_seed=random_seed)\n",
    "    fibers = fibers.fit(data)\n",
    "    try:\n",
    "        tdf = fibers.get_bin_scores().drop(['Bin #'], axis=1).head(10)\n",
    "        tdf['param'] = i\n",
    "        df1 = df1.append(tdf)\n",
    "    except:\n",
    "        print(\"Failed with param \", i)\n",
    "    save_plots(fibers, \"number_of_features_var_bins_bins\", i)\n",
    "    bin_feature_matrix, bins, bin_scores, maf_0_features = \\\n",
    "        fibers.bin_feature_matrix, fibers.bins, fibers.bin_scores, fibers.maf_0_features\n",
    "    number_of_features_var_bins_experiments.append((fibers, bin_feature_matrix, bins, bin_scores, maf_0_features))\n",
    "save_box_plots(df1, \"Number of Features\", \"number_of_features_var_bins_bins\")\n",
    "df_list.append(df1)"
   ]
  },
  {
   "cell_type": "code",
   "execution_count": null,
   "id": "c78a9075",
   "metadata": {},
   "outputs": [],
   "source": [
    "all_experiments = {\"control_experiments\" : control_experiments, \n",
    "                   \"mm_experiments\" : mm_experiments, \n",
    "                   \"censoring_frequency_experiments\" : censoring_frequency_experiments, \n",
    "                   \"noise_frequency_experiments\" : noise_frequency_experiments,\n",
    "                   \"number_of_features_experiments\" : number_of_features_experiments,\n",
    "                   \"number_of_features_var_bins_experiments\" : number_of_features_var_bins_experiments}\n",
    "with open(\"experiments.pickle\", \"wb\") as output_file:\n",
    "    pickle.dump(all_experiments, output_file)"
   ]
  },
  {
   "cell_type": "code",
   "execution_count": null,
   "id": "3964ef4b",
   "metadata": {},
   "outputs": [],
   "source": [
    "df_list_dict = {\"control_experiments\" : df_lost[0], \n",
    "                \"mm_experiments\" : df_lost[1], \n",
    "                \"censoring_frequency_experiments\" : df_lost[2], \n",
    "                \"noise_frequency_experiments\" : df_lost[3],\n",
    "                \"number_of_features_experiments\" : df_lost[4],\n",
    "                \"number_of_features_var_bins_experiments\" : df_lost[5]}\n",
    "with open(\"boxplot_dfs.pickle\", \"wb\") as output_file:\n",
    "    pickle.dump(df_list_dict, output_file)"
   ]
  },
  {
   "cell_type": "code",
   "execution_count": null,
   "id": "ec3217c3",
   "metadata": {},
   "outputs": [],
   "source": [
    "!cp \"FIBERSDataSimStudy.ipynb\" \"../GECCO'23/FIBERSDataSimStudy.ipynb\"\n",
    "!cp -r \"./experiments/\" \"../GECCO'23/experiments/\""
   ]
  },
  {
   "cell_type": "code",
   "execution_count": null,
   "id": "5985c645",
   "metadata": {},
   "outputs": [],
   "source": []
  }
 ],
 "metadata": {
  "kernelspec": {
   "display_name": "Python [conda env:development]",
   "language": "python",
   "name": "conda-env-development-py"
  },
  "language_info": {
   "codemirror_mode": {
    "name": "ipython",
    "version": 3
   },
   "file_extension": ".py",
   "mimetype": "text/x-python",
   "name": "python",
   "nbconvert_exporter": "python",
   "pygments_lexer": "ipython3",
   "version": "3.8.16"
  }
 },
 "nbformat": 4,
 "nbformat_minor": 5
}
