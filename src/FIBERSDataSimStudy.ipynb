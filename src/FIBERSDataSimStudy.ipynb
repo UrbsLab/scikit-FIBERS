{
 "cells": [
  {
   "cell_type": "markdown",
   "id": "886410d8",
   "metadata": {},
   "source": [
    "# skFIBERS Datasim Experiments"
   ]
  },
  {
   "cell_type": "markdown",
   "id": "3f2dbf16",
   "metadata": {},
   "source": [
    "## Imports"
   ]
  },
  {
   "cell_type": "code",
   "execution_count": 1,
   "id": "dd1529a7",
   "metadata": {},
   "outputs": [],
   "source": [
    "import os\n",
    "import pickle\n",
    "import random\n",
    "import matplotlib\n",
    "import numpy as np\n",
    "import pandas as pd\n",
    "from tqdm import tqdm\n",
    "from skfibers.fibers import FIBERS\n",
    "from skfibers.experiments import create_data_simulation_bin\n",
    "from matplotlib import pyplot as plt\n",
    "import seaborn as sns\n",
    "sns.set_theme(font=\"Times New Roman\")\n",
    "%matplotlib inline"
   ]
  },
  {
   "cell_type": "code",
   "execution_count": 2,
   "id": "e3e1d2c4",
   "metadata": {},
   "outputs": [],
   "source": [
    "import warnings\n",
    "warnings.simplefilter(action='ignore', category=FutureWarning)\n",
    "pd.options.mode.chained_assignment = None  # default='warn'"
   ]
  },
  {
   "cell_type": "markdown",
   "id": "b710f072",
   "metadata": {},
   "source": [
    "## Functions to Run Experiment"
   ]
  },
  {
   "cell_type": "code",
   "execution_count": 3,
   "id": "4ad275c4",
   "metadata": {},
   "outputs": [],
   "source": [
    "def experiment(number_of_instances=10000, number_of_features=50, number_of_features_in_bin=10,\n",
    "                               no_fail_proportion=0.5, mm_frequency_range=(0.4, 0.5), noise_frequency=0.1,\n",
    "                               class0_time_to_event_range=(1.5, 0.2), class1_time_to_event_range=(1, 0.2),\n",
    "                               censoring_frequency=0.5, random_seed=42, negative=False,\n",
    "                               set_number_of_bins=50):\n",
    "    results = list()\n",
    "    for replicate in range(0, 1):\n",
    "        data = create_data_simulation_bin(number_of_instances, number_of_features, number_of_features_in_bin,\n",
    "                               no_fail_proportion, mm_frequency_range, noise_frequency,\n",
    "                               class0_time_to_event_range, class1_time_to_event_range,\n",
    "                               censoring_frequency, random_seed, negative)\n",
    "        true_risk_group = data[['TrueRiskGroup']]\n",
    "        data = data.drop('TrueRiskGroup', axis=1)\n",
    "        fibers = FIBERS(label_name=\"Censoring\", duration_name=\"Duration\", \n",
    "                        given_starting_point=False, amino_acid_start_point=None,\n",
    "                        amino_acid_bins_start_point=None, iterations=100, \n",
    "                        set_number_of_bins=set_number_of_bins, min_features_per_group=2,\n",
    "                        max_number_of_groups_with_feature=2, \n",
    "                        informative_cutoff=0.2, crossover_probability=0.8,\n",
    "                        mutation_probability=0.4, elitism_parameter=0.8,\n",
    "                        random_seed=random_seed)\n",
    "        fibers = fibers.fit(data)\n",
    "        bin_feature_matrix, bins, bin_scores, maf_0_features = \\\n",
    "            fibers.bin_feature_matrix, fibers.bins, fibers.bin_scores, fibers.maf_0_features\n",
    "        results.append((fibers, bin_feature_matrix, bins, bin_scores, maf_0_features))\n",
    "        print(\"Test Accuracy\", fibers.score(data, true_risk_group))\n",
    "    return fibers, true_risk_group"
   ]
  },
  {
   "cell_type": "code",
   "execution_count": 4,
   "id": "4d9e9e56",
   "metadata": {},
   "outputs": [],
   "source": [
    "def save_box_plots(df, xlabel, experiment, show=False):\n",
    "    sns.boxplot(y=df['Score'], x=df['param'])\n",
    "    plt.xticks(rotation=90)\n",
    "    plt.xlabel(xlabel)\n",
    "#     plt.ylim(0, 6000)\n",
    "    if experiment:\n",
    "        plt.savefig(\"./experiments/\" + experiment + \"_experiments/\" + experiment + \"_boxplot.png\", \n",
    "                    dpi=1200, bbox_inches = \"tight\")\n",
    "        plt.close()\n",
    "    if show:\n",
    "        plt.show()"
   ]
  },
  {
   "cell_type": "code",
   "execution_count": 5,
   "id": "381a5ea3",
   "metadata": {},
   "outputs": [],
   "source": [
    "def save_plots(fibers, experiment, param, y_true):\n",
    "    dirname = \"./experiments/\" + experiment + \"_experiments/\"\n",
    "    try: os.makedirs(dirname)\n",
    "    except: pass\n",
    "    fibers.get_bin_summary(save= dirname + experiment + \"_\" + str(param) + '_summary.csv')\n",
    "    fibers.get_bin_survival_plot(save=dirname + experiment + \"_\" + str(param) + '_kmplot.png')\n",
    "    fibers.get_bin_scores(save=dirname + experiment + \"_\" + str(param) + '_scores.csv')\n",
    "    fibers.classification_report(fibers.original_feature_matrix, \n",
    "                                 y_true, save=dirname + experiment + \"_\" + str(param) + '_cr.csv')"
   ]
  },
  {
   "cell_type": "code",
   "execution_count": 6,
   "id": "e0fa95ab",
   "metadata": {},
   "outputs": [],
   "source": [
    "df_list = list()"
   ]
  },
  {
   "cell_type": "code",
   "execution_count": 7,
   "id": "c9b6928d",
   "metadata": {
    "scrolled": false
   },
   "outputs": [
    {
     "name": "stderr",
     "output_type": "stream",
     "text": [
      "100%|█████████████████████████████████████████| 100/100 [01:52<00:00,  1.13s/it]\n"
     ]
    },
    {
     "name": "stdout",
     "output_type": "stream",
     "text": [
      "Test Accuracy 0.9646\n"
     ]
    },
    {
     "name": "stderr",
     "output_type": "stream",
     "text": [
      "100%|█████████████████████████████████████████| 100/100 [01:42<00:00,  1.02s/it]\n"
     ]
    },
    {
     "name": "stdout",
     "output_type": "stream",
     "text": [
      "Test Accuracy 0.495\n"
     ]
    }
   ],
   "source": [
    "df1 = pd.DataFrame()\n",
    "control_experiments = list()\n",
    "for i in [False, True]:\n",
    "    fibers, y_true = experiment(negative=i, noise_frequency=0)\n",
    "    save_plots(fibers, \"control\", i, y_true)\n",
    "    tdf = fibers.get_bin_scores().drop(['Bin #'], axis=1).head(10)\n",
    "    tdf['param'] = i\n",
    "    df1 = df1.append(tdf)\n",
    "    control_experiments.append(fibers)\n",
    "save_box_plots(df1, \"Is Negative Control?\", \"control\")\n",
    "df_list.append(df1)"
   ]
  },
  {
   "cell_type": "code",
   "execution_count": 8,
   "id": "55dec442",
   "metadata": {},
   "outputs": [
    {
     "name": "stderr",
     "output_type": "stream",
     "text": [
      "100%|█████████████████████████████████████████| 100/100 [01:19<00:00,  1.25it/s]\n"
     ]
    },
    {
     "name": "stdout",
     "output_type": "stream",
     "text": [
      "Test Accuracy 0.4916\n"
     ]
    },
    {
     "name": "stderr",
     "output_type": "stream",
     "text": [
      "100%|█████████████████████████████████████████| 100/100 [01:41<00:00,  1.01s/it]\n"
     ]
    },
    {
     "name": "stdout",
     "output_type": "stream",
     "text": [
      "Test Accuracy 0.7447\n"
     ]
    },
    {
     "name": "stderr",
     "output_type": "stream",
     "text": [
      "100%|█████████████████████████████████████████| 100/100 [01:59<00:00,  1.19s/it]\n"
     ]
    },
    {
     "name": "stdout",
     "output_type": "stream",
     "text": [
      "Test Accuracy 0.8791\n"
     ]
    },
    {
     "name": "stderr",
     "output_type": "stream",
     "text": [
      "100%|█████████████████████████████████████████| 100/100 [01:56<00:00,  1.17s/it]\n"
     ]
    },
    {
     "name": "stdout",
     "output_type": "stream",
     "text": [
      "Test Accuracy 0.9195\n"
     ]
    },
    {
     "name": "stderr",
     "output_type": "stream",
     "text": [
      "100%|█████████████████████████████████████████| 100/100 [01:59<00:00,  1.19s/it]\n"
     ]
    },
    {
     "name": "stdout",
     "output_type": "stream",
     "text": [
      "Test Accuracy 0.9646\n"
     ]
    },
    {
     "name": "stderr",
     "output_type": "stream",
     "text": [
      "100%|█████████████████████████████████████████| 100/100 [01:59<00:00,  1.20s/it]\n"
     ]
    },
    {
     "name": "stdout",
     "output_type": "stream",
     "text": [
      "Test Accuracy 0.9585\n"
     ]
    },
    {
     "name": "stderr",
     "output_type": "stream",
     "text": [
      "100%|█████████████████████████████████████████| 100/100 [01:50<00:00,  1.10s/it]\n"
     ]
    },
    {
     "name": "stdout",
     "output_type": "stream",
     "text": [
      "Test Accuracy 0.9851\n"
     ]
    },
    {
     "name": "stderr",
     "output_type": "stream",
     "text": [
      "100%|█████████████████████████████████████████| 100/100 [01:42<00:00,  1.03s/it]\n"
     ]
    },
    {
     "name": "stdout",
     "output_type": "stream",
     "text": [
      "Test Accuracy 1.0\n"
     ]
    },
    {
     "name": "stderr",
     "output_type": "stream",
     "text": [
      "100%|█████████████████████████████████████████| 100/100 [01:08<00:00,  1.45it/s]\n"
     ]
    },
    {
     "name": "stdout",
     "output_type": "stream",
     "text": [
      "Test Accuracy 1.0\n"
     ]
    },
    {
     "name": "stderr",
     "output_type": "stream",
     "text": [
      "100%|█████████████████████████████████████████| 100/100 [01:08<00:00,  1.45it/s]\n"
     ]
    },
    {
     "name": "stdout",
     "output_type": "stream",
     "text": [
      "Test Accuracy 1.0\n"
     ]
    }
   ],
   "source": [
    "df1 = pd.DataFrame()\n",
    "mm_experiments = list()\n",
    "for i in range(0, 10):\n",
    "    if i==0: \n",
    "        fibers, y_true = experiment(mm_frequency_range=(i/10+0.01, (i+1)/10), noise_frequency=0)\n",
    "        tdf = fibers.get_bin_scores().drop(['Bin #'], axis=1).head(10)\n",
    "        tdf['param'] = str((i/10+0.01, (i+1)/10))\n",
    "        df1 = df1.append(tdf)\n",
    "        save_plots(fibers, \"mm_frequency_range\", (i/10+0.01, (i+1)/10), y_true)\n",
    "    else:\n",
    "        fibers, y_true = experiment(mm_frequency_range=(i/10, (i+1)/10), noise_frequency=0)\n",
    "        tdf = fibers.get_bin_scores().drop(['Bin #'], axis=1).head(10)\n",
    "        tdf['param'] = str((i/10, (i+1)/10))\n",
    "        df1 = df1.append(tdf)\n",
    "        save_plots(fibers, \"mm_frequency_range\", (i/10, (i+1)/10), y_true)\n",
    "    mm_experiments.append(fibers)\n",
    "save_box_plots(df1, \"MM Frequency Range\", \"mm_frequency_range\")"
   ]
  },
  {
   "cell_type": "code",
   "execution_count": 9,
   "id": "d14c3433",
   "metadata": {},
   "outputs": [
    {
     "name": "stderr",
     "output_type": "stream",
     "text": [
      "100%|█████████████████████████████████████████| 100/100 [01:55<00:00,  1.16s/it]\n"
     ]
    },
    {
     "name": "stdout",
     "output_type": "stream",
     "text": [
      "Test Accuracy 0.9645\n"
     ]
    },
    {
     "name": "stderr",
     "output_type": "stream",
     "text": [
      "100%|█████████████████████████████████████████| 100/100 [01:54<00:00,  1.15s/it]\n"
     ]
    },
    {
     "name": "stdout",
     "output_type": "stream",
     "text": [
      "Test Accuracy 0.9645\n"
     ]
    },
    {
     "name": "stderr",
     "output_type": "stream",
     "text": [
      "100%|█████████████████████████████████████████| 100/100 [01:55<00:00,  1.16s/it]\n"
     ]
    },
    {
     "name": "stdout",
     "output_type": "stream",
     "text": [
      "Test Accuracy 0.9649\n"
     ]
    },
    {
     "name": "stderr",
     "output_type": "stream",
     "text": [
      "100%|█████████████████████████████████████████| 100/100 [01:58<00:00,  1.18s/it]\n"
     ]
    },
    {
     "name": "stdout",
     "output_type": "stream",
     "text": [
      "Test Accuracy 0.9628\n"
     ]
    },
    {
     "name": "stderr",
     "output_type": "stream",
     "text": [
      "100%|█████████████████████████████████████████| 100/100 [01:59<00:00,  1.20s/it]\n"
     ]
    },
    {
     "name": "stdout",
     "output_type": "stream",
     "text": [
      "Test Accuracy 0.9655\n"
     ]
    },
    {
     "name": "stderr",
     "output_type": "stream",
     "text": [
      "100%|█████████████████████████████████████████| 100/100 [01:55<00:00,  1.16s/it]\n"
     ]
    },
    {
     "name": "stdout",
     "output_type": "stream",
     "text": [
      "Test Accuracy 0.9645\n"
     ]
    },
    {
     "name": "stderr",
     "output_type": "stream",
     "text": [
      "100%|█████████████████████████████████████████| 100/100 [02:01<00:00,  1.22s/it]\n"
     ]
    },
    {
     "name": "stdout",
     "output_type": "stream",
     "text": [
      "Test Accuracy 0.9657\n"
     ]
    },
    {
     "name": "stderr",
     "output_type": "stream",
     "text": [
      "100%|█████████████████████████████████████████| 100/100 [01:58<00:00,  1.18s/it]\n"
     ]
    },
    {
     "name": "stdout",
     "output_type": "stream",
     "text": [
      "Test Accuracy 0.9645\n"
     ]
    },
    {
     "name": "stderr",
     "output_type": "stream",
     "text": [
      "100%|█████████████████████████████████████████| 100/100 [01:57<00:00,  1.17s/it]\n"
     ]
    },
    {
     "name": "stdout",
     "output_type": "stream",
     "text": [
      "Test Accuracy 0.9628\n"
     ]
    },
    {
     "name": "stderr",
     "output_type": "stream",
     "text": [
      "100%|█████████████████████████████████████████| 100/100 [01:59<00:00,  1.19s/it]\n"
     ]
    },
    {
     "name": "stdout",
     "output_type": "stream",
     "text": [
      "Test Accuracy 0.9687\n"
     ]
    },
    {
     "name": "stderr",
     "output_type": "stream",
     "text": [
      "100%|█████████████████████████████████████████| 100/100 [01:37<00:00,  1.03it/s]\n"
     ]
    },
    {
     "name": "stdout",
     "output_type": "stream",
     "text": [
      "Test Accuracy 0.9614\n"
     ]
    },
    {
     "name": "stderr",
     "output_type": "stream",
     "text": [
      "100%|█████████████████████████████████████████| 100/100 [01:36<00:00,  1.03it/s]\n"
     ]
    },
    {
     "name": "stdout",
     "output_type": "stream",
     "text": [
      "Test Accuracy 0.9634\n"
     ]
    },
    {
     "name": "stderr",
     "output_type": "stream",
     "text": [
      "100%|█████████████████████████████████████████| 100/100 [01:30<00:00,  1.10it/s]\n"
     ]
    },
    {
     "name": "stdout",
     "output_type": "stream",
     "text": [
      "Test Accuracy 0.9631\n"
     ]
    },
    {
     "name": "stderr",
     "output_type": "stream",
     "text": [
      "100%|█████████████████████████████████████████| 100/100 [01:31<00:00,  1.10it/s]\n"
     ]
    },
    {
     "name": "stdout",
     "output_type": "stream",
     "text": [
      "Test Accuracy 0.9646\n"
     ]
    }
   ],
   "source": [
    "df1 = pd.DataFrame()\n",
    "mm_experiments = list()\n",
    "for i in range(1, 15):\n",
    "    fibers, y_true = experiment(class0_time_to_event_range=(1 + i/20, 0.2), \n",
    "                        class1_time_to_event_range=(1, 0.2), noise_frequency=0.1)\n",
    "    tdf = fibers.get_bin_scores().drop(['Bin #'], axis=1).head(10)\n",
    "    tdf['param'] = str(i/20)\n",
    "    df1 = df1.append(tdf)\n",
    "    save_plots(fibers, \"normal_mean_dist\", i/20, y_true)\n",
    "    mm_experiments.append(fibers)\n",
    "save_box_plots(df1, \"Distance b/w guassian mean\", \"normal_mean_dist\")"
   ]
  },
  {
   "cell_type": "code",
   "execution_count": null,
   "id": "31cd2612",
   "metadata": {},
   "outputs": [
    {
     "name": "stderr",
     "output_type": "stream",
     "text": [
      "100%|█████████████████████████████████████████| 100/100 [01:34<00:00,  1.06it/s]\n"
     ]
    },
    {
     "name": "stdout",
     "output_type": "stream",
     "text": [
      "Test Accuracy 0.987\n"
     ]
    },
    {
     "name": "stderr",
     "output_type": "stream",
     "text": [
      "100%|█████████████████████████████████████████| 100/100 [01:26<00:00,  1.16it/s]\n"
     ]
    },
    {
     "name": "stdout",
     "output_type": "stream",
     "text": [
      "Test Accuracy 0.9861\n"
     ]
    },
    {
     "name": "stderr",
     "output_type": "stream",
     "text": [
      " 53%|██████████████████████▎                   | 53/100 [00:49<00:43,  1.08it/s]"
     ]
    }
   ],
   "source": [
    "df1 = pd.DataFrame()\n",
    "censoring_frequency_experiments = list()\n",
    "for i in range(0, 9):\n",
    "    fibers, y_true = experiment(censoring_frequency=i/10, noise_frequency=0)\n",
    "    tdf = fibers.get_bin_scores().drop(['Bin #'], axis=1).head(10)\n",
    "    tdf['param'] = i/10\n",
    "    df1 = df1.append(tdf)\n",
    "    save_plots(fibers, \"censoring_frequency\", i/10, y_true)\n",
    "    censoring_frequency_experiments.append(fibers)\n",
    "save_box_plots(df1, \"Censoring Frequency\", \"censoring_frequency\")\n",
    "df_list.append(df1)"
   ]
  },
  {
   "cell_type": "code",
   "execution_count": null,
   "id": "1cf0eb61",
   "metadata": {},
   "outputs": [],
   "source": [
    "df1 = pd.DataFrame()\n",
    "noise_frequency_experiments = list()\n",
    "for i in range(0, 6):\n",
    "    fibers, y_true = experiment(noise_frequency=i/10)\n",
    "    tdf = fibers.get_bin_scores().drop(['Bin #'], axis=1).head(10)\n",
    "    tdf['param'] = i/10\n",
    "    df1 = df1.append(tdf)\n",
    "    save_plots(fibers, \"noise_frequency\", i/10, y_true)\n",
    "    noise_frequency_experiments.append(fibers)\n",
    "save_box_plots(df1, \"Noise Frequency\", \"noise_frequency\")\n",
    "df_list.append(df1)"
   ]
  },
  {
   "cell_type": "code",
   "execution_count": null,
   "id": "b3be52b7",
   "metadata": {},
   "outputs": [],
   "source": [
    "df1 = pd.DataFrame()\n",
    "number_of_features_experiments = list()\n",
    "for i in [50, 100, 200, 300, 400, 500]:\n",
    "    fibers, y_true = experiment(number_of_features=i)\n",
    "    try:\n",
    "        tdf = fibers.get_bin_scores().drop(['Bin #'], axis=1).head(10)\n",
    "        tdf['param'] = i\n",
    "        df1 = df1.append(tdf)\n",
    "    except:\n",
    "        print(\"Failed with param \", i)\n",
    "    save_plots(fibers, \"number_of_features_fixed_bins\", i, y_true)\n",
    "    number_of_features_experiments.append(fibers)\n",
    "save_box_plots(df1, \"Number of Features\", \"number_of_features_fixed_bins\")\n",
    "df_list.append(df1)"
   ]
  },
  {
   "cell_type": "code",
   "execution_count": null,
   "id": "a83e6c76",
   "metadata": {},
   "outputs": [],
   "source": [
    "df1 = pd.DataFrame()\n",
    "number_of_features_experiments = list()\n",
    "for i in range(600, 1001, 100):\n",
    "    fibers, y_true = experiment(number_of_features=i, set_number_of_bins=i)\n",
    "    try:\n",
    "        tdf = fibers.get_bin_scores().drop(['Bin #'], axis=1).head(10)\n",
    "        tdf['param'] = i\n",
    "        df1 = df1.append(tdf)\n",
    "    except:\n",
    "        print(\"Failed with param \", i)\n",
    "    save_plots(fibers, \"number_of_features_var_bins\", i, y_true)\n",
    "    number_of_features_experiments.append(fibers)\n",
    "save_box_plots(df1, \"Number of Features\", \"number_of_features_var_bins\")\n",
    "df_list.append(df1)"
   ]
  },
  {
   "cell_type": "code",
   "execution_count": null,
   "id": "b1e1f05c",
   "metadata": {},
   "outputs": [],
   "source": [
    "all_experiments = {\"control_experiments\" : control_experiments, \n",
    "                   \"mm_experiments\" : mm_experiments, \n",
    "                   \"censoring_frequency_experiments\" : censoring_frequency_experiments, \n",
    "                   \"noise_frequency_experiments\" : noise_frequency_experiments,\n",
    "                   \"number_of_features_experiments\" : number_of_features_experiments,\n",
    "                   \"number_of_features_var_bins_experiments\" : number_of_features_var_bins_experiments}\n",
    "with open(\"experiments.pickle\", \"wb\") as output_file:\n",
    "    pickle.dump(all_experiments, output_file)"
   ]
  },
  {
   "cell_type": "code",
   "execution_count": null,
   "id": "fd056226",
   "metadata": {},
   "outputs": [],
   "source": [
    "df_list_dict = {\"control_experiments\" : df_list[0], \n",
    "                \"mm_experiments\" : df_list[1], \n",
    "                \"censoring_frequency_experiments\" : df_list[2], \n",
    "                \"noise_frequency_experiments\" : df_list[3],\n",
    "                \"number_of_features_experiments\" : df_list[4],\n",
    "                \"number_of_features_var_bins_experiments\" : df_list[5]}\n",
    "with open(\"boxplot_dfs.pickle\", \"wb\") as output_file:\n",
    "    pickle.dump(df_list_dict, output_file)"
   ]
  },
  {
   "cell_type": "code",
   "execution_count": null,
   "id": "fa4d4e94",
   "metadata": {},
   "outputs": [],
   "source": [
    "# !cp \"FIBERSDataSimStudy.ipynb\" \"../GECCO'23/FIBERSDataSimStudy.ipynb\"\n",
    "# !cp -r \"./experiments/\" \"../GECCO'23/experiments/\""
   ]
  }
 ],
 "metadata": {
  "kernelspec": {
   "display_name": "Python [conda env:development]",
   "language": "python",
   "name": "conda-env-development-py"
  },
  "language_info": {
   "codemirror_mode": {
    "name": "ipython",
    "version": 3
   },
   "file_extension": ".py",
   "mimetype": "text/x-python",
   "name": "python",
   "nbconvert_exporter": "python",
   "pygments_lexer": "ipython3",
   "version": "3.8.16"
  }
 },
 "nbformat": 4,
 "nbformat_minor": 5
}
